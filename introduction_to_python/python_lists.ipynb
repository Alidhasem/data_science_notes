{
 "cells": [
  {
   "cell_type": "markdown",
   "metadata": {
    "cell_id": "a28cd0b60c0a41dd963328c8a01539d7",
    "deepnote_cell_type": "text-cell-h1",
    "formattedRanges": [],
    "is_collapsed": false,
    "tags": []
   },
   "source": [
    "# Python lists"
   ]
  },
  {
   "cell_type": "markdown",
   "metadata": {
    "cell_id": "d99e812382374708a27eac02ff563ac9",
    "deepnote_cell_type": "text-cell-h2",
    "formattedRanges": [],
    "is_collapsed": false,
    "tags": []
   },
   "source": [
    "## Python lists"
   ]
  },
  {
   "cell_type": "markdown",
   "metadata": {},
   "source": [
    "#### List"
   ]
  },
  {
   "cell_type": "markdown",
   "metadata": {
    "cell_id": "c65aefb3b2d74c759c7b320e040ddbe8",
    "deepnote_cell_height": 133.578125,
    "deepnote_cell_type": "markdown",
    "tags": []
   },
   "source": [
    "The Python list is a data structure that allows us to save many data points in an ordered way. The elements of a list could be of any data type and with different data type from each other. \n",
    "\n",
    "Save a list in a variable is useful to save a collection of values with a single tag. "
   ]
  },
  {
   "cell_type": "markdown",
   "metadata": {},
   "source": [
    "#### List of lists\n",
    "As the elements of a list could be any data type, they can even be lists."
   ]
  },
  {
   "cell_type": "markdown",
   "metadata": {
    "cell_id": "3aed3633794c43d5b0fd0c27f1787160",
    "deepnote_cell_type": "text-cell-h3",
    "formattedRanges": [],
    "is_collapsed": false,
    "tags": []
   },
   "source": [
    "### Create a list"
   ]
  },
  {
   "cell_type": "code",
   "execution_count": 11,
   "metadata": {
    "cell_id": "083fea6d300946d9b13ebe6b59314144",
    "deepnote_cell_height": 316.171875,
    "deepnote_cell_type": "code",
    "deepnote_output_heights": [
     21.1875
    ],
    "deepnote_to_be_reexecuted": false,
    "execution_millis": 6,
    "execution_start": 1655309282067,
    "source_hash": "ed7cb1ae",
    "tags": []
   },
   "outputs": [
    {
     "data": {
      "text/plain": [
       "[11.25, 18.0, 20.0, 10.75, 9.5]"
      ]
     },
     "execution_count": 11,
     "metadata": {},
     "output_type": "execute_result"
    }
   ],
   "source": [
    "# Create a list, areas, that contains the area of the hallway (hall), kitchen (kit), living room (liv), bedroom (bed) and bathroom (bath), in this order \n",
    "# Use the predefined variables\n",
    "\n",
    "hall = 11.25\n",
    "kit = 18.0\n",
    "liv = 20.0\n",
    "bed = 10.75\n",
    "bath = 9.50\n",
    "\n",
    "areas = [hall, kit, liv, bed, bath]\n",
    "\n",
    "areas"
   ]
  },
  {
   "cell_type": "markdown",
   "metadata": {
    "cell_id": "c3286704e3874a58a8081dd6651c886b",
    "deepnote_cell_type": "text-cell-h3",
    "formattedRanges": [],
    "is_collapsed": false,
    "tags": []
   },
   "source": [
    "### Create a list with different types"
   ]
  },
  {
   "cell_type": "code",
   "execution_count": 12,
   "metadata": {
    "cell_id": "45363c457fee4a3c90366933e7c84e64",
    "deepnote_cell_height": 172.171875,
    "deepnote_cell_type": "code",
    "deepnote_output_heights": [
     21.1875
    ],
    "deepnote_to_be_reexecuted": false,
    "execution_millis": 0,
    "execution_start": 1655309282068,
    "source_hash": "ebff181f",
    "tags": []
   },
   "outputs": [
    {
     "data": {
      "text/plain": [
       "[11.25, 18.0, 20.0, 10.75, 9.5]"
      ]
     },
     "execution_count": 12,
     "metadata": {},
     "output_type": "execute_result"
    }
   ],
   "source": [
    "# Finish the code that creates the areas list \n",
    "# Build the list so that the list first contains the name of each room as a string and then its area\n",
    "areas_names = ['hallway', hall, 'kitchen', kit, 'living', liv, 'bedroom', bed, 'bathroom', bath]\n",
    "areas "
   ]
  },
  {
   "cell_type": "markdown",
   "metadata": {
    "cell_id": "213b2e3e0bd64281800f846e98bdff84",
    "deepnote_cell_type": "text-cell-h3",
    "formattedRanges": [],
    "is_collapsed": false,
    "tags": []
   },
   "source": [
    "### List of lists"
   ]
  },
  {
   "cell_type": "code",
   "execution_count": 13,
   "metadata": {
    "cell_id": "8f5b482d101740258a967aa970123667",
    "deepnote_cell_height": 320.9375,
    "deepnote_cell_type": "code",
    "deepnote_output_heights": [
     97.953125
    ],
    "deepnote_to_be_reexecuted": false,
    "execution_millis": 5,
    "execution_start": 1655309282069,
    "source_hash": "e9cab3d0",
    "tags": []
   },
   "outputs": [
    {
     "data": {
      "text/plain": [
       "[['hallway', 11.25],\n",
       " ['kitchen', 18.0],\n",
       " ['living room', 20.0],\n",
       " ['bedroom', 10.75],\n",
       " ['bathroom', 9.5]]"
      ]
     },
     "execution_count": 13,
     "metadata": {},
     "output_type": "execute_result"
    }
   ],
   "source": [
    "# Create a list of lists containing the room name and it's area\n",
    "house = [[\"hallway\", hall],\n",
    "         [\"kitchen\", kit],\n",
    "         [\"living room\", liv],\n",
    "         [\"bedroom\", bed],\n",
    "         [\"bathroom\", bath]]\n",
    "\n",
    "house"
   ]
  },
  {
   "cell_type": "code",
   "execution_count": 14,
   "metadata": {
    "cell_id": "d61d520c42c94070abdde480e90888eb",
    "deepnote_cell_height": 118.171875,
    "deepnote_cell_type": "code",
    "deepnote_output_heights": [
     21.1875
    ],
    "deepnote_to_be_reexecuted": false,
    "execution_millis": 14,
    "execution_start": 1655309282075,
    "source_hash": "de664d58",
    "tags": []
   },
   "outputs": [
    {
     "data": {
      "text/plain": [
       "list"
      ]
     },
     "execution_count": 14,
     "metadata": {},
     "output_type": "execute_result"
    }
   ],
   "source": [
    "type(house)"
   ]
  },
  {
   "cell_type": "markdown",
   "metadata": {
    "cell_id": "9c9e8af9d7ca48dfa43de13b2477ff81",
    "deepnote_cell_type": "text-cell-h2",
    "formattedRanges": [],
    "is_collapsed": false,
    "tags": []
   },
   "source": [
    "## Subsetting lists"
   ]
  },
  {
   "cell_type": "markdown",
   "metadata": {},
   "source": [
    "#### Element index"
   ]
  },
  {
   "cell_type": "markdown",
   "metadata": {
    "cell_id": "1ab83224f2174be2984898c0f7944a9b",
    "deepnote_cell_height": 133.578125,
    "deepnote_cell_type": "markdown",
    "tags": []
   },
   "source": [
    "The elements in a Python list are ordered, that means that they have an index associated. This index begins with zero and increases from left to right.\n",
    "\n",
    "An useful tool to get the last elements of a list, is the use of negative indexes. The -1 index corresponds to the last element in the list and this number decreases form right to left. "
   ]
  },
  {
   "cell_type": "markdown",
   "metadata": {},
   "source": [
    "#### Subsetting"
   ]
  },
  {
   "cell_type": "markdown",
   "metadata": {},
   "source": [
    "To get the element with index $n$ in a list, we use bracket notation: `list[n]`."
   ]
  },
  {
   "cell_type": "markdown",
   "metadata": {},
   "source": [
    "#### Slicing"
   ]
  },
  {
   "cell_type": "markdown",
   "metadata": {},
   "source": [
    "To get a sequence of elements in a list, we use bracket notation as follows: `list[n:m]`. Here $n$ is the index of the first element we want and $m$ is the index of the last element we want, plus one."
   ]
  },
  {
   "cell_type": "markdown",
   "metadata": {
    "cell_id": "f86564c1a20643fb8883c92a3d00f9c0",
    "deepnote_cell_type": "text-cell-h3",
    "formattedRanges": [],
    "is_collapsed": false,
    "tags": []
   },
   "source": [
    "### Subset and conquer"
   ]
  },
  {
   "cell_type": "code",
   "execution_count": 15,
   "metadata": {
    "cell_id": "73079dfa1d5348ec8cb43fa0a487c13e",
    "deepnote_cell_height": 366.53125,
    "deepnote_cell_type": "code",
    "deepnote_output_heights": [
     21.1875,
     21.1875,
     21.1875
    ],
    "deepnote_to_be_reexecuted": false,
    "execution_millis": 6,
    "execution_start": 1655309282087,
    "source_hash": "d9319288",
    "tags": []
   },
   "outputs": [
    {
     "data": {
      "text/plain": [
       "18.0"
      ]
     },
     "execution_count": 15,
     "metadata": {},
     "output_type": "execute_result"
    }
   ],
   "source": [
    "# Print out the second element from the areas list\n",
    "areas[1]"
   ]
  },
  {
   "cell_type": "code",
   "execution_count": 16,
   "metadata": {},
   "outputs": [
    {
     "data": {
      "text/plain": [
       "9.5"
      ]
     },
     "execution_count": 16,
     "metadata": {},
     "output_type": "execute_result"
    }
   ],
   "source": [
    "# Subset and print out the last element of areas\n",
    "areas[-1]"
   ]
  },
  {
   "cell_type": "code",
   "execution_count": 17,
   "metadata": {},
   "outputs": [
    {
     "data": {
      "text/plain": [
       "20.0"
      ]
     },
     "execution_count": 17,
     "metadata": {},
     "output_type": "execute_result"
    }
   ],
   "source": [
    "# Select the number representing the area of the living room (20.0) and print it out\n",
    "areas[2]"
   ]
  },
  {
   "cell_type": "markdown",
   "metadata": {
    "cell_id": "1b3ed9c9851a4d5ca96778cc71dc9e6e",
    "deepnote_cell_type": "text-cell-h3",
    "formattedRanges": [],
    "is_collapsed": false,
    "tags": []
   },
   "source": [
    "### Subset and calculate"
   ]
  },
  {
   "cell_type": "code",
   "execution_count": 18,
   "metadata": {
    "cell_id": "3fc8ee6dbd944c8f8f8b4634ca7a8a1d",
    "deepnote_cell_height": 172.171875,
    "deepnote_cell_type": "code",
    "deepnote_output_heights": [
     21.1875
    ],
    "deepnote_to_be_reexecuted": false,
    "execution_millis": 3,
    "execution_start": 1655309282090,
    "source_hash": "b56cd0b",
    "tags": []
   },
   "outputs": [
    {
     "data": {
      "text/plain": [
       "28.75"
      ]
     },
     "execution_count": 18,
     "metadata": {},
     "output_type": "execute_result"
    }
   ],
   "source": [
    "# Using a combination of list subsetting and variable assignment, create a new variable, eat_sleep_area, that contains the sum of the area of the kitchen and the area of the bedroom\n",
    "# Print the new variable eat_sleep_area\n",
    "eat_sleep_area = areas_names[3] + areas_names[7]\n",
    "eat_sleep_area"
   ]
  },
  {
   "cell_type": "markdown",
   "metadata": {
    "cell_id": "c624b5ae15d94898ad47466f8fec4be6",
    "deepnote_cell_type": "text-cell-h3",
    "formattedRanges": [],
    "is_collapsed": false,
    "tags": []
   },
   "source": [
    "### Slicing and dicing"
   ]
  },
  {
   "cell_type": "code",
   "execution_count": 19,
   "metadata": {
    "cell_id": "b67203b48b4d453dba7d72f5aec0529d",
    "deepnote_cell_height": 154.171875,
    "deepnote_cell_type": "code",
    "deepnote_output_heights": [
     21.1875
    ],
    "deepnote_to_be_reexecuted": false,
    "execution_millis": 6,
    "execution_start": 1655309282093,
    "source_hash": "69dec4f7",
    "tags": []
   },
   "outputs": [
    {
     "data": {
      "text/plain": [
       "['hallway', 11.25, 'kitchen', 18.0, 'living', 20.0]"
      ]
     },
     "execution_count": 19,
     "metadata": {},
     "output_type": "execute_result"
    }
   ],
   "source": [
    "# Use slicing to create a list, downstairs, that contains the first 6 elements of areas_names\n",
    "downstairs = areas_names[:6]\n",
    "downstairs"
   ]
  },
  {
   "cell_type": "code",
   "execution_count": 20,
   "metadata": {
    "cell_id": "6981ec3fcb8542638e762ed046cd2706",
    "deepnote_cell_height": 154.171875,
    "deepnote_cell_type": "code",
    "deepnote_output_heights": [
     21.1875
    ],
    "deepnote_to_be_reexecuted": false,
    "execution_millis": 27,
    "execution_start": 1655309282101,
    "source_hash": "a61dfb78",
    "tags": []
   },
   "outputs": [
    {
     "data": {
      "text/plain": [
       "['bedroom', 10.75, 'bathroom', 9.5]"
      ]
     },
     "execution_count": 20,
     "metadata": {},
     "output_type": "execute_result"
    }
   ],
   "source": [
    "# Do a similar thing to create a new variable, upstairs, that contains the last 4 elements of areas\n",
    "upstairs = areas_names[-4:]\n",
    "upstairs"
   ]
  },
  {
   "cell_type": "markdown",
   "metadata": {
    "cell_id": "cbfd7ce681d54b94b101687fed7c80e9",
    "deepnote_cell_type": "text-cell-h2",
    "formattedRanges": [],
    "is_collapsed": false,
    "tags": []
   },
   "source": [
    "## Manipulating lists"
   ]
  },
  {
   "cell_type": "markdown",
   "metadata": {},
   "source": [
    "#### Inner workings of a list"
   ]
  },
  {
   "cell_type": "markdown",
   "metadata": {},
   "source": [
    "When you save a list `x` in a variable, `x` really keeps a reference to the list saved in memmory. Then , if you copy `x` by `x = y` you are storing the a reference to the original list. If you make a change to `y`, the change is reflected also in `x`.\n",
    "\n",
    "To avoid that behavior you can use the `list()` function or copy the list using bracket notation like this: `y = x[:]`.\n"
   ]
  },
  {
   "cell_type": "markdown",
   "metadata": {
    "cell_id": "7af3f235bb744e50854500f280a7e62b",
    "deepnote_cell_type": "text-cell-h3",
    "formattedRanges": [],
    "is_collapsed": false,
    "tags": []
   },
   "source": [
    "### Replace list elements"
   ]
  },
  {
   "cell_type": "code",
   "execution_count": 21,
   "metadata": {
    "cell_id": "828b5196025945df826c94b005b41881",
    "deepnote_cell_height": 362.90625,
    "deepnote_cell_type": "code",
    "deepnote_output_heights": [
     193.921875
    ],
    "deepnote_to_be_reexecuted": false,
    "execution_millis": 5,
    "execution_start": 1655309282155,
    "source_hash": "1199959b",
    "tags": []
   },
   "outputs": [
    {
     "data": {
      "text/plain": [
       "['hallway',\n",
       " 11.25,\n",
       " 'kitchen',\n",
       " 18.0,\n",
       " 'chill zone',\n",
       " 20.2,\n",
       " 'bedroom',\n",
       " 10.75,\n",
       " 'bathroom',\n",
       " 10.5]"
      ]
     },
     "execution_count": 21,
     "metadata": {},
     "output_type": "execute_result"
    }
   ],
   "source": [
    "# Update the area of the bathroom area to be 10.50 square meters instead of 9.50\n",
    "# Make the areas list more trendy! Change \"living room\" to \"chill zone\" and change it's area from 20.0 to 20.2\n",
    "areas_names[-1] = 10.50\n",
    "areas_names[4:6] = ['chill zone', 20.2]\n",
    "areas_names"
   ]
  },
  {
   "cell_type": "markdown",
   "metadata": {
    "cell_id": "c52d5340ac384592b5c42a136f3bcc20",
    "deepnote_cell_type": "text-cell-h3",
    "formattedRanges": [],
    "is_collapsed": false,
    "tags": []
   },
   "source": [
    "### Extend a list"
   ]
  },
  {
   "cell_type": "code",
   "execution_count": 22,
   "metadata": {
    "cell_id": "be8ac6b2e55c49a0a25a10092cfb0551",
    "deepnote_cell_height": 135,
    "deepnote_cell_type": "code",
    "deepnote_to_be_reexecuted": false,
    "execution_millis": 1,
    "execution_start": 1655309282156,
    "source_hash": "8bcd571",
    "tags": []
   },
   "outputs": [],
   "source": [
    "# Use the + operator to paste the list [\"poolhouse\", 24.5] to the end of the areas list \n",
    "# Store the resulting list as areas_1\n",
    "\n",
    "areas_1 = areas_names + [\"poolhouse\", 24.5]"
   ]
  },
  {
   "cell_type": "code",
   "execution_count": 23,
   "metadata": {
    "cell_id": "4fca0c5c1b614499a1aa7ebe1e2ea39e",
    "deepnote_cell_height": 457.6875,
    "deepnote_cell_type": "code",
    "deepnote_output_heights": [
     270.703125
    ],
    "deepnote_to_be_reexecuted": false,
    "execution_millis": 4,
    "execution_start": 1655309282157,
    "source_hash": "e3a9c681",
    "tags": []
   },
   "outputs": [
    {
     "data": {
      "text/plain": [
       "['hallway',\n",
       " 11.25,\n",
       " 'kitchen',\n",
       " 18.0,\n",
       " 'chill zone',\n",
       " 20.2,\n",
       " 'bedroom',\n",
       " 10.75,\n",
       " 'bathroom',\n",
       " 10.5,\n",
       " 'poolhouse',\n",
       " 24.5,\n",
       " 'garage',\n",
       " 15.45]"
      ]
     },
     "execution_count": 23,
     "metadata": {},
     "output_type": "execute_result"
    }
   ],
   "source": [
    "# Further extend areas_1 by adding data on your garage \n",
    "# Add the string \"garage\" and float 15.45\n",
    "# Name the resulting list areas_2\n",
    "\n",
    "areas_2 = areas_1 + ['garage', 15.45]\n",
    "areas_2"
   ]
  },
  {
   "cell_type": "markdown",
   "metadata": {
    "cell_id": "a4ca1f82d1654907a823d5115aef12d9",
    "deepnote_cell_type": "text-cell-h3",
    "formattedRanges": [],
    "is_collapsed": false,
    "tags": []
   },
   "source": [
    "### Delete list elements "
   ]
  },
  {
   "cell_type": "code",
   "execution_count": 24,
   "metadata": {
    "cell_id": "69b86660f5e8499b9e30a3f2e30ab26b",
    "deepnote_cell_height": 380.90625,
    "deepnote_cell_type": "code",
    "deepnote_output_heights": [
     193.921875
    ],
    "deepnote_to_be_reexecuted": false,
    "execution_millis": 5,
    "execution_start": 1655309282159,
    "source_hash": "5c13b750",
    "tags": []
   },
   "outputs": [
    {
     "data": {
      "text/plain": [
       "['hallway',\n",
       " 11.25,\n",
       " 'kitchen',\n",
       " 18.0,\n",
       " 'chill zone',\n",
       " 20.2,\n",
       " 'bedroom',\n",
       " 10.75,\n",
       " 'bathroom',\n",
       " 10.5]"
      ]
     },
     "execution_count": 24,
     "metadata": {},
     "output_type": "execute_result"
    }
   ],
   "source": [
    "# Assing areas_2 to areas_names\n",
    "areas_names = areas_2\n",
    "\n",
    "# Get the original areas_names list deleting the last four elements\n",
    "del(areas_names[-4:])\n",
    "areas_names"
   ]
  },
  {
   "cell_type": "markdown",
   "metadata": {
    "cell_id": "ae9655db258a4cfe958e418528551d03",
    "deepnote_cell_type": "text-cell-h3",
    "formattedRanges": [],
    "is_collapsed": false,
    "tags": []
   },
   "source": [
    "#### Inner workings of a list"
   ]
  },
  {
   "cell_type": "code",
   "execution_count": 25,
   "metadata": {
    "cell_id": "73d6368d64364c79944946162f9fb94c",
    "deepnote_cell_height": 623.828125,
    "deepnote_cell_type": "code",
    "deepnote_output_heights": [
     193.921875,
     193.921875
    ],
    "deepnote_to_be_reexecuted": false,
    "execution_millis": 664,
    "execution_start": 1655309360367,
    "source_hash": "90a1247d",
    "tags": []
   },
   "outputs": [
    {
     "data": {
      "text/plain": [
       "['hallway',\n",
       " 11.25,\n",
       " 'kitchen',\n",
       " 18.0,\n",
       " 'chill zone',\n",
       " 20.2,\n",
       " 'bedroom',\n",
       " 10.75,\n",
       " 'bathroom',\n",
       " 10.0]"
      ]
     },
     "metadata": {},
     "output_type": "display_data"
    },
    {
     "data": {
      "text/plain": [
       "['hallway',\n",
       " 11.25,\n",
       " 'kitchen',\n",
       " 18.0,\n",
       " 'chill zone',\n",
       " 20.2,\n",
       " 'bedroom',\n",
       " 10.75,\n",
       " 'bathroom',\n",
       " 10.0]"
      ]
     },
     "metadata": {},
     "output_type": "display_data"
    }
   ],
   "source": [
    "# Make a copy of areas_2 using the sintax y = x\n",
    "areas_2_copy = areas_2\n",
    "\n",
    "# Change the last element of areas_2_copy to 10.0\n",
    "# Print both areas_2_copy and areas_2\n",
    "areas_2_copy[-1] = 10.0\n",
    "display(areas_2_copy, areas_2)"
   ]
  },
  {
   "cell_type": "code",
   "execution_count": 26,
   "metadata": {
    "cell_id": "048556825d9248b4a48a248f76d25902",
    "deepnote_cell_height": 884.75,
    "deepnote_cell_type": "code",
    "deepnote_output_heights": [
     193.921875,
     193.921875,
     193.921875
    ],
    "deepnote_to_be_reexecuted": false,
    "execution_millis": 53,
    "execution_start": 1655309545967,
    "owner_user_id": "ef1985d3-6878-4f43-aa7a-40eb37e1c2a1",
    "source_hash": "3611eb82",
    "tags": []
   },
   "outputs": [
    {
     "data": {
      "text/plain": [
       "['hallway',\n",
       " 11.25,\n",
       " 'kitchen',\n",
       " 18.0,\n",
       " 'chill zone',\n",
       " 20.2,\n",
       " 'bedroom',\n",
       " 10.75,\n",
       " 'bathroom',\n",
       " 10.5]"
      ]
     },
     "metadata": {},
     "output_type": "display_data"
    },
    {
     "data": {
      "text/plain": [
       "['hallway',\n",
       " 11.25,\n",
       " 'kitchen',\n",
       " 18.0,\n",
       " 'chill zone',\n",
       " 20.2,\n",
       " 'bedroom',\n",
       " 10.75,\n",
       " 'bathroom',\n",
       " 10.5]"
      ]
     },
     "metadata": {},
     "output_type": "display_data"
    },
    {
     "data": {
      "text/plain": [
       "['hallway',\n",
       " 11.25,\n",
       " 'kitchen',\n",
       " 18.0,\n",
       " 'chill zone',\n",
       " 20.2,\n",
       " 'bedroom',\n",
       " 10.75,\n",
       " 'bathroom',\n",
       " 10.0]"
      ]
     },
     "metadata": {},
     "output_type": "display_data"
    }
   ],
   "source": [
    "# Make two copies of areas_2 using the sintax y = x[:] and the list() function\n",
    "areas_2_copy_1 = areas_2[:]\n",
    "areas_2_copy_2 = list(areas_2)\n",
    "\n",
    "# Change the last element of areas_2_copy_1 and areas_2_copy_2 to 10.5\n",
    "# Print the three lists \n",
    "areas_2_copy_1[-1] = 10.5\n",
    "areas_2_copy_2[-1] = 10.5\n",
    "display(areas_2_copy_1, areas_2_copy_2, areas_2)"
   ]
  }
 ],
 "metadata": {
  "deepnote": {},
  "deepnote_execution_queue": [],
  "deepnote_notebook_id": "8ec4d9ef-e859-4e77-928c-975527542f90",
  "kernelspec": {
   "display_name": "Python 3.8.10 64-bit",
   "language": "python",
   "name": "python3"
  },
  "language_info": {
   "codemirror_mode": {
    "name": "ipython",
    "version": 3
   },
   "file_extension": ".py",
   "mimetype": "text/x-python",
   "name": "python",
   "nbconvert_exporter": "python",
   "pygments_lexer": "ipython3",
   "version": "3.8.10"
  },
  "orig_nbformat": 2,
  "vscode": {
   "interpreter": {
    "hash": "916dbcbb3f70747c44a77c7bcd40155683ae19c65e1c03b4aa3499c5328201f1"
   }
  }
 },
 "nbformat": 4,
 "nbformat_minor": 2
}
