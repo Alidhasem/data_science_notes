{
 "cells": [
  {
   "cell_type": "markdown",
   "metadata": {
    "cell_id": "01dacf8933864fe98f7871d66a836ff3",
    "deepnote_cell_type": "text-cell-h1",
    "formattedRanges": [],
    "is_collapsed": false,
    "tags": []
   },
   "source": [
    "# Python basics"
   ]
  },
  {
   "cell_type": "markdown",
   "metadata": {
    "cell_id": "1ab55d98787f40ed98555c9c711a1c3d",
    "deepnote_cell_type": "text-cell-h2",
    "formattedRanges": [],
    "is_collapsed": false,
    "tags": []
   },
   "source": [
    "## Hello python!"
   ]
  },
  {
   "cell_type": "markdown",
   "metadata": {
    "cell_id": "89af00251e4544b9b744c1cdb9102fe9",
    "deepnote_cell_type": "text-cell-h3",
    "formattedRanges": [],
    "is_collapsed": false,
    "owner_user_id": "ef1985d3-6878-4f43-aa7a-40eb37e1c2a1",
    "tags": []
   },
   "source": [
    "### Python"
   ]
  },
  {
   "cell_type": "markdown",
   "metadata": {
    "cell_id": "c15e910de800491b83a151215e09908d",
    "deepnote_cell_height": 111.1875,
    "deepnote_cell_type": "markdown",
    "tags": []
   },
   "source": [
    "Python is one of the most popular open source and general purpose programming languages in the world. It was conceived by Guido Van Rossum. "
   ]
  },
  {
   "cell_type": "code",
   "execution_count": 1,
   "metadata": {},
   "outputs": [
    {
     "name": "stdout",
     "output_type": "stream",
     "text": [
      "Hello world!\n"
     ]
    }
   ],
   "source": [
    "print('Hello world!')"
   ]
  },
  {
   "cell_type": "markdown",
   "metadata": {
    "cell_id": "6b82334b1a2d4ef4b5b76c0586708d0a",
    "deepnote_cell_type": "text-cell-h3",
    "formattedRanges": [],
    "is_collapsed": false,
    "tags": []
   },
   "source": [
    "### Packages"
   ]
  },
  {
   "cell_type": "markdown",
   "metadata": {
    "cell_id": "ba67afc915084b99b5f5cf2897a9dffd",
    "deepnote_cell_height": 74.78125,
    "deepnote_cell_type": "markdown",
    "tags": []
   },
   "source": [
    "Python packages are sets of files containing code developed to solve a specific kind of problems. These packages allow you to share code, use code developed by others and also improvecode mantainance and managment.\n",
    "\n",
    "It's very easy to create and share Python packages. That's the reason why nowadays there are packages to solve many kind of problems using Python, and this language became the Swiss Army knife of programming languages. "
   ]
  },
  {
   "cell_type": "code",
   "execution_count": 1,
   "metadata": {},
   "outputs": [],
   "source": [
    "import numpy as np\n",
    "import pandas as pd\n",
    "import matplotlib.pyplot as plt "
   ]
  },
  {
   "cell_type": "markdown",
   "metadata": {
    "cell_id": "ff6869cf21ba40ae9cba7fd0ea73510d",
    "deepnote_cell_type": "text-cell-h3",
    "formattedRanges": [],
    "is_collapsed": false,
    "tags": []
   },
   "source": [
    "### Scripts"
   ]
  },
  {
   "cell_type": "markdown",
   "metadata": {
    "cell_id": "f30a781b47bc402896f49bbd002205d3",
    "deepnote_cell_height": 192.375,
    "deepnote_cell_type": "markdown",
    "tags": []
   },
   "source": [
    "A Python script is a file with extension `.py` that contains instructions (code lines) that the Python interpreter is able to execute. \n",
    "\n",
    "If you want to execute some basics tasks using Python and immediatly see the results, you can execute instructions in a Python shell like IPython."
   ]
  },
  {
   "cell_type": "markdown",
   "metadata": {
    "cell_id": "3ba50813b2094db4a9ce211e565ad853",
    "deepnote_cell_type": "text-cell-h3",
    "formattedRanges": [],
    "is_collapsed": false,
    "tags": []
   },
   "source": [
    "### Comments"
   ]
  },
  {
   "cell_type": "markdown",
   "metadata": {
    "cell_id": "11ba993ec375497b94406337093cc6f3",
    "deepnote_cell_height": 74.78125,
    "deepnote_cell_type": "markdown",
    "tags": []
   },
   "source": [
    "To add comments to a Python script , use a `#` before the text you want to turn into a comment. \n",
    "\n",
    "Comments have no influence on the execution of your code, but they can make it more human readable. "
   ]
  },
  {
   "cell_type": "code",
   "execution_count": 2,
   "metadata": {},
   "outputs": [
    {
     "name": "stdout",
     "output_type": "stream",
     "text": [
      "This will be executed!\n"
     ]
    }
   ],
   "source": [
    "# This is a comment and won't be executed\n",
    "print('This will be executed!')"
   ]
  },
  {
   "cell_type": "markdown",
   "metadata": {
    "cell_id": "76d5a1a23baa4d3e88d8501360b380af",
    "deepnote_cell_type": "text-cell-h3",
    "formattedRanges": [],
    "is_collapsed": false,
    "tags": []
   },
   "source": [
    "### Python as a calculator"
   ]
  },
  {
   "cell_type": "code",
   "execution_count": null,
   "metadata": {
    "cell_id": "ef213fb1b6e54a8dba21c9e7f756f8b7",
    "deepnote_cell_height": 355.515625,
    "deepnote_cell_type": "code",
    "deepnote_to_be_reexecuted": false,
    "execution_millis": 1,
    "execution_start": 1655139302409,
    "source_hash": "d09b4b90",
    "tags": []
   },
   "outputs": [
    {
     "name": "stdout",
     "output_type": "stream",
     "text": [
      "10\n",
      "0\n",
      "15\n",
      "5.0\n",
      "4\n",
      "16\n"
     ]
    }
   ],
   "source": [
    "# Addition, subtraction\n",
    "print(5 + 5)\n",
    "print(5 - 5)\n",
    "\n",
    "# Multiplication, division, modulo, and exponentiation\n",
    "print(3 * 5)\n",
    "print(10 / 2)\n",
    "print(18 % 7)\n",
    "print(4 ** 2)"
   ]
  },
  {
   "cell_type": "markdown",
   "metadata": {},
   "source": [
    "## Variables and types"
   ]
  },
  {
   "cell_type": "markdown",
   "metadata": {},
   "source": [
    "### Variables"
   ]
  },
  {
   "cell_type": "markdown",
   "metadata": {
    "cell_id": "4a2e36754a934815bc419d8168c053a9",
    "deepnote_cell_height": 97.1875,
    "deepnote_cell_type": "markdown",
    "tags": []
   },
   "source": [
    "If you want to save a value or a data structure, you should to use a Python variable. Variables are recognized by a case-sensitive name or tag. This tag can be used to refer to the value saved into the variable. "
   ]
  },
  {
   "cell_type": "code",
   "execution_count": 1,
   "metadata": {},
   "outputs": [
    {
     "data": {
      "text/plain": [
       "100"
      ]
     },
     "execution_count": 1,
     "metadata": {},
     "output_type": "execute_result"
    }
   ],
   "source": [
    "# Create a variable savings with the value 100\n",
    "# Print the variable's value\n",
    "\n",
    "savings = 100\n",
    "savings"
   ]
  },
  {
   "cell_type": "code",
   "execution_count": 3,
   "metadata": {},
   "outputs": [
    {
     "data": {
      "text/plain": [
       "194.87171000000012"
      ]
     },
     "execution_count": 3,
     "metadata": {},
     "output_type": "execute_result"
    }
   ],
   "source": [
    "# Create a variable growth_multiplier, equal to 1.1\n",
    "growth_multiplier = 1.1\n",
    "\n",
    "# Create a variable, result, equal to the amount of money you saved after 7 years\n",
    "result = savings * (growth_multiplier ** 7)\n",
    "result"
   ]
  },
  {
   "cell_type": "markdown",
   "metadata": {},
   "source": [
    "### Reusability"
   ]
  },
  {
   "cell_type": "markdown",
   "metadata": {},
   "source": [
    "Python variables are useful to take care of code reusability. We can program an algorithm using Python variables insted of specific values, then give to the variables specific values and run the code. We can change the variable values as many times as we need. That means, we don't need rewrite the code to test different values and combinations.   "
   ]
  },
  {
   "cell_type": "markdown",
   "metadata": {},
   "source": [
    "### Variable types"
   ]
  },
  {
   "cell_type": "markdown",
   "metadata": {},
   "source": [
    "The four main data types in Python are: \n",
    "\n",
    "* `int`: for integers.\n",
    "* `float`: for real numbers.\n",
    "* `str`: for text.\n",
    "* `bool`: for boolean values (`True`, `False`)."
   ]
  },
  {
   "cell_type": "code",
   "execution_count": null,
   "metadata": {},
   "outputs": [],
   "source": [
    "# Create a new string, desc, with the value \"compound interest\"\n",
    "desc = 'compound interest'\n",
    "desc"
   ]
  },
  {
   "cell_type": "code",
   "execution_count": null,
   "metadata": {},
   "outputs": [],
   "source": [
    "# Create a new boolean, profitable, with the value True\n",
    "profitable = True\n",
    "profitable"
   ]
  },
  {
   "cell_type": "markdown",
   "metadata": {},
   "source": [
    "### Operator behavior"
   ]
  },
  {
   "cell_type": "markdown",
   "metadata": {},
   "source": [
    "The data type has influence in the behavior of the code. As an example, you can't use the `/` operator with strings. Also, when you sum two strings for example, you'll get different behavior than when you sum two integers or two booleans."
   ]
  },
  {
   "cell_type": "code",
   "execution_count": 5,
   "metadata": {},
   "outputs": [
    {
     "data": {
      "text/plain": [
       "'Hello World!'"
      ]
     },
     "execution_count": 5,
     "metadata": {},
     "output_type": "execute_result"
    }
   ],
   "source": [
    "'Hello' + ' World!'"
   ]
  },
  {
   "cell_type": "code",
   "execution_count": 6,
   "metadata": {},
   "outputs": [
    {
     "data": {
      "text/plain": [
       "2"
      ]
     },
     "execution_count": 6,
     "metadata": {},
     "output_type": "execute_result"
    }
   ],
   "source": [
    "True + True"
   ]
  },
  {
   "cell_type": "markdown",
   "metadata": {},
   "source": [
    "### Variable type conversion"
   ]
  },
  {
   "cell_type": "markdown",
   "metadata": {},
   "source": [
    "You can the following functions to convert the data type of a value, if that operation has sense.\n",
    "\n",
    "* `str()`\n",
    "* `int()`\n",
    "* `float()`\n",
    "* `bool()`"
   ]
  },
  {
   "cell_type": "code",
   "execution_count": 4,
   "metadata": {},
   "outputs": [
    {
     "name": "stdout",
     "output_type": "stream",
     "text": [
      "I started with $100 and now have $194.87171000000012. Awesome!\n"
     ]
    }
   ],
   "source": [
    "# Print the message 'I started with $100 and now have $194.87171000000012. Awesome!' using the variables that you have created in this section\n",
    "print('I started with $' + str(savings) + ' and now have $' + str(result) + '. Awesome!')"
   ]
  }
 ],
 "metadata": {
  "deepnote": {},
  "deepnote_execution_queue": [],
  "deepnote_notebook_id": "86e1b245-1545-49cc-a5f9-0cce7801e92a",
  "kernelspec": {
   "display_name": "Python 3.8.10 64-bit",
   "language": "python",
   "name": "python3"
  },
  "language_info": {
   "codemirror_mode": {
    "name": "ipython",
    "version": 3
   },
   "file_extension": ".py",
   "mimetype": "text/x-python",
   "name": "python",
   "nbconvert_exporter": "python",
   "pygments_lexer": "ipython3",
   "version": "3.8.10"
  },
  "orig_nbformat": 2,
  "vscode": {
   "interpreter": {
    "hash": "916dbcbb3f70747c44a77c7bcd40155683ae19c65e1c03b4aa3499c5328201f1"
   }
  }
 },
 "nbformat": 4,
 "nbformat_minor": 2
}
