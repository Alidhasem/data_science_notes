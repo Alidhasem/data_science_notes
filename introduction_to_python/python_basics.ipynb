{
 "cells": [
  {
   "cell_type": "markdown",
   "source": "# Python basics",
   "metadata": {
    "formattedRanges": [],
    "cell_id": "01dacf8933864fe98f7871d66a836ff3",
    "tags": [],
    "is_collapsed": false,
    "deepnote_cell_type": "text-cell-h1"
   }
  },
  {
   "cell_type": "markdown",
   "source": "## Hello python!",
   "metadata": {
    "formattedRanges": [],
    "cell_id": "1ab55d98787f40ed98555c9c711a1c3d",
    "tags": [],
    "is_collapsed": false,
    "deepnote_cell_type": "text-cell-h2"
   }
  },
  {
   "cell_type": "markdown",
   "source": "### Python",
   "metadata": {
    "formattedRanges": [],
    "cell_id": "89af00251e4544b9b744c1cdb9102fe9",
    "tags": [],
    "is_collapsed": false,
    "owner_user_id": "ef1985d3-6878-4f43-aa7a-40eb37e1c2a1",
    "deepnote_cell_type": "text-cell-h3"
   }
  },
  {
   "cell_type": "markdown",
   "source": "Python is one of the most popular open source and general purpose programming languages in the world. \n\nIt was conceived by Guido Van Rossum. ",
   "metadata": {
    "cell_id": "c15e910de800491b83a151215e09908d",
    "tags": [],
    "deepnote_cell_type": "markdown",
    "deepnote_cell_height": 111.1875
   }
  },
  {
   "cell_type": "code",
   "metadata": {
    "cell_id": "02b56ca1c6564a5ebbd778987b77eb66",
    "tags": [],
    "deepnote_to_be_reexecuted": false,
    "source_hash": "4d8842b5",
    "execution_start": 1655139156256,
    "execution_millis": 5,
    "deepnote_cell_type": "code",
    "deepnote_cell_height": 111.90625
   },
   "source": "print('Hello world!')",
   "execution_count": null,
   "outputs": [
    {
     "name": "stdout",
     "text": "Hello world!\n",
     "output_type": "stream"
    }
   ]
  },
  {
   "cell_type": "markdown",
   "source": "### Python packages",
   "metadata": {
    "formattedRanges": [],
    "cell_id": "6b82334b1a2d4ef4b5b76c0586708d0a",
    "tags": [],
    "is_collapsed": false,
    "deepnote_cell_type": "text-cell-h3"
   }
  },
  {
   "cell_type": "markdown",
   "source": "It's very easy to create and share Python packages. That's the reason why nowadays there are packages to solve many kind of problems using Python. ",
   "metadata": {
    "cell_id": "ba67afc915084b99b5f5cf2897a9dffd",
    "tags": [],
    "deepnote_cell_type": "markdown",
    "deepnote_cell_height": 74.78125
   }
  },
  {
   "cell_type": "code",
   "metadata": {
    "cell_id": "e1558ffe04484152970f4a102102f514",
    "tags": [],
    "deepnote_to_be_reexecuted": false,
    "source_hash": "c2602aa8",
    "execution_start": 1655139156683,
    "execution_millis": 3,
    "deepnote_cell_type": "code",
    "deepnote_cell_height": 81
   },
   "source": "import numpy as np",
   "execution_count": null,
   "outputs": []
  },
  {
   "cell_type": "markdown",
   "source": "### Python scripts",
   "metadata": {
    "formattedRanges": [],
    "cell_id": "ff6869cf21ba40ae9cba7fd0ea73510d",
    "tags": [],
    "is_collapsed": false,
    "deepnote_cell_type": "text-cell-h3"
   }
  },
  {
   "cell_type": "markdown",
   "source": "A Python script is a file with extension `.py` that contains instructions (code lines) that the Python interpreter is able to execute. \n\nIf you want to execute some basics tasks using Python and immediatly see the results, you can execute instructions in a Python shell like IPython.\n\nUse a Python script for large projects. It allows to take care of the code structure and avoid code re-typing.",
   "metadata": {
    "cell_id": "f30a781b47bc402896f49bbd002205d3",
    "tags": [],
    "deepnote_cell_type": "markdown",
    "deepnote_cell_height": 192.375
   }
  },
  {
   "cell_type": "markdown",
   "source": "### Comments",
   "metadata": {
    "formattedRanges": [],
    "cell_id": "3ba50813b2094db4a9ce211e565ad853",
    "tags": [],
    "is_collapsed": false,
    "deepnote_cell_type": "text-cell-h3"
   }
  },
  {
   "cell_type": "markdown",
   "source": "To add comments to a Python script , use a `#` before it. Comment doesn't have influence in the execution of your code, but they can make it easily human readable.    ",
   "metadata": {
    "cell_id": "11ba993ec375497b94406337093cc6f3",
    "tags": [],
    "deepnote_cell_type": "markdown",
    "deepnote_cell_height": 74.78125
   }
  },
  {
   "cell_type": "code",
   "metadata": {
    "cell_id": "3573eb68e6f04260b092f575c4f1ae4e",
    "tags": [],
    "deepnote_to_be_reexecuted": false,
    "source_hash": "16b43fca",
    "execution_start": 1655139256072,
    "execution_millis": 1,
    "deepnote_cell_type": "code",
    "deepnote_cell_height": 203.828125
   },
   "source": "# This is a comment and it won't be executed\nprint(5 / 8)\n\n# This is a comment and it won't be executed\nprint(7 + 10)",
   "execution_count": null,
   "outputs": [
    {
     "name": "stdout",
     "text": "0.625\n17\n",
     "output_type": "stream"
    }
   ]
  },
  {
   "cell_type": "markdown",
   "source": "### Python as a calculator",
   "metadata": {
    "formattedRanges": [],
    "cell_id": "76d5a1a23baa4d3e88d8501360b380af",
    "tags": [],
    "is_collapsed": false,
    "deepnote_cell_type": "text-cell-h3"
   }
  },
  {
   "cell_type": "code",
   "metadata": {
    "cell_id": "ef213fb1b6e54a8dba21c9e7f756f8b7",
    "tags": [],
    "deepnote_to_be_reexecuted": false,
    "source_hash": "d09b4b90",
    "execution_start": 1655139302409,
    "execution_millis": 1,
    "deepnote_cell_type": "code",
    "deepnote_cell_height": 355.515625
   },
   "source": "# Addition, subtraction\nprint(5 + 5)\nprint(5 - 5)\n\n# Multiplication, division, modulo, and exponentiation\nprint(3 * 5)\nprint(10 / 2)\nprint(18 % 7)\nprint(4 ** 2)",
   "execution_count": null,
   "outputs": [
    {
     "name": "stdout",
     "text": "10\n0\n15\n5.0\n4\n16\n",
     "output_type": "stream"
    }
   ]
  },
  {
   "cell_type": "markdown",
   "source": "## Variables and types",
   "metadata": {
    "formattedRanges": [],
    "cell_id": "3da4b710371c4975a360f9dcf061268a",
    "tags": [],
    "is_collapsed": false,
    "deepnote_cell_type": "text-cell-h2"
   }
  },
  {
   "cell_type": "markdown",
   "source": "### Variable assignment",
   "metadata": {
    "formattedRanges": [],
    "cell_id": "a530554a6988476cb09ee310d715d555",
    "tags": [],
    "is_collapsed": false,
    "deepnote_cell_type": "text-cell-h3"
   }
  },
  {
   "cell_type": "markdown",
   "source": "If you want to save a value or a data structure, you can use a Python variable. The variable has a case-sensitive name, or tag, that you can use to refer to the value saved. ",
   "metadata": {
    "cell_id": "4a2e36754a934815bc419d8168c053a9",
    "tags": [],
    "deepnote_cell_type": "markdown",
    "deepnote_cell_height": 97.1875
   }
  },
  {
   "cell_type": "code",
   "metadata": {
    "cell_id": "4976cea57fab4663b647d214777f8829",
    "tags": [],
    "deepnote_to_be_reexecuted": false,
    "source_hash": "bfabf362",
    "execution_start": 1655222399306,
    "execution_millis": 8,
    "deepnote_cell_type": "code",
    "deepnote_cell_height": 190.171875,
    "deepnote_output_heights": [
     21.1875
    ]
   },
   "source": "# Create a variable savings with the value 100\n# Print the variable's value\n\nsavings = 100\nsavings",
   "outputs": [
    {
     "output_type": "execute_result",
     "execution_count": 2,
     "data": {
      "text/plain": "100"
     },
     "metadata": {}
    }
   ],
   "execution_count": null
  },
  {
   "cell_type": "markdown",
   "source": "### Calculations with variables",
   "metadata": {
    "formattedRanges": [],
    "cell_id": "613f7380f0734aa6baa26c6bdcedee7c",
    "tags": [],
    "is_collapsed": false,
    "deepnote_cell_type": "text-cell-h3"
   }
  },
  {
   "cell_type": "markdown",
   "source": "Using Python variables is useful to take care of the code reusability. We can program a full process using Python variables, use the algorithm with specific variable values, then change the variable values and execute the process again without writing all the code.  ",
   "metadata": {
    "cell_id": "449fb075095e4369ba086e87b695baf7",
    "tags": [],
    "deepnote_cell_type": "markdown",
    "deepnote_cell_height": 119.578125
   }
  },
  {
   "cell_type": "code",
   "metadata": {
    "cell_id": "5299b175b70848a1a6f22cfd2c918828",
    "tags": [],
    "deepnote_to_be_reexecuted": false,
    "source_hash": "1a91d414",
    "execution_start": 1655222532775,
    "execution_millis": 1,
    "deepnote_cell_type": "code",
    "deepnote_cell_height": 208.171875,
    "deepnote_output_heights": [
     21.1875
    ]
   },
   "source": "# Create a variable growth_multiplier, equal to 1.1\ngrowth_multiplier = 1.1\n\n# Create a variable, result, equal to the amount of money you saved after 7 years\nresult = savings * (growth_multiplier ** 7)\nresult",
   "outputs": [
    {
     "output_type": "execute_result",
     "execution_count": 4,
     "data": {
      "text/plain": "194.87171000000012"
     },
     "metadata": {}
    }
   ],
   "execution_count": null
  },
  {
   "cell_type": "markdown",
   "source": "### Other variable types",
   "metadata": {
    "formattedRanges": [],
    "cell_id": "0ee107c427ef41f187eaa9f95829f0dc",
    "tags": [],
    "is_collapsed": false,
    "deepnote_cell_type": "text-cell-h3"
   }
  },
  {
   "cell_type": "markdown",
   "source": "The four main data types in Python are: \n\n* `int`: for integers.\n* `float`: for real numbers.\n* `str`: for text.\n* `bool`: for boolean values (`True`, `False`).",
   "metadata": {
    "cell_id": "89dcc1abfafc42709e6cbae67d97f39f",
    "tags": [],
    "deepnote_cell_type": "markdown",
    "deepnote_cell_height": 178.984375
   }
  },
  {
   "cell_type": "code",
   "metadata": {
    "cell_id": "c3f99372d0f24ccfbed2090d9b0b56b8",
    "tags": [],
    "deepnote_to_be_reexecuted": false,
    "source_hash": "ae05f9d3",
    "execution_start": 1655222647620,
    "execution_millis": 6,
    "deepnote_cell_type": "code",
    "deepnote_cell_height": 154.171875,
    "deepnote_output_heights": [
     21.1875
    ]
   },
   "source": "# Create a new string, desc, with the value \"compound interest\"\ndesc = 'compound interest'\ndesc",
   "outputs": [
    {
     "output_type": "execute_result",
     "execution_count": 5,
     "data": {
      "text/plain": "'compound interest'"
     },
     "metadata": {}
    }
   ],
   "execution_count": null
  },
  {
   "cell_type": "code",
   "metadata": {
    "cell_id": "8f5ef941cced4b4c83e7b305486dae57",
    "tags": [],
    "deepnote_to_be_reexecuted": false,
    "source_hash": "9b45ed4e",
    "execution_start": 1655222670919,
    "execution_millis": 15,
    "deepnote_cell_type": "code",
    "deepnote_cell_height": 154.171875,
    "deepnote_output_heights": [
     21.1875
    ]
   },
   "source": "# Create a new boolean, profitable, with the value True\nprofitable = True\nprofitable",
   "outputs": [
    {
     "output_type": "execute_result",
     "execution_count": 6,
     "data": {
      "text/plain": "True"
     },
     "metadata": {}
    }
   ],
   "execution_count": null
  },
  {
   "cell_type": "markdown",
   "source": "### Operations with other types",
   "metadata": {
    "formattedRanges": [],
    "cell_id": "9da3ca6810ad419590586d136efb4ed8",
    "tags": [],
    "is_collapsed": false,
    "deepnote_cell_type": "text-cell-h3"
   }
  },
  {
   "cell_type": "markdown",
   "source": "The data type has influence in the behavior of the code. As an example, you can't use the `/` operator with strings. Also, when you sum two strings, for example, you'll get different behavior than when you sum two integers or two booleans.",
   "metadata": {
    "cell_id": "52e54cb9e93f41f2a46bbe7abb4cd6cc",
    "tags": [],
    "deepnote_cell_type": "markdown",
    "deepnote_cell_height": 97.1875
   }
  },
  {
   "cell_type": "code",
   "metadata": {
    "cell_id": "4a87143bc0cd4a83b3b3945aff05f777",
    "tags": [],
    "deepnote_to_be_reexecuted": false,
    "source_hash": "b230c2c0",
    "execution_start": 1655222808429,
    "execution_millis": 5,
    "deepnote_cell_type": "code",
    "deepnote_cell_height": 172.171875,
    "deepnote_output_heights": [
     21.1875
    ]
   },
   "source": "# Calculate the product of savings and growth_multiplier\n# Store the result in year1\nyear1 = savings * growth_multiplier\nyear1",
   "outputs": [
    {
     "output_type": "execute_result",
     "execution_count": 8,
     "data": {
      "text/plain": "110.00000000000001"
     },
     "metadata": {}
    }
   ],
   "execution_count": null
  },
  {
   "cell_type": "code",
   "metadata": {
    "cell_id": "aba26183a6244b5f90439ec80ccab4b7",
    "tags": [],
    "deepnote_to_be_reexecuted": false,
    "source_hash": "3811c958",
    "execution_start": 1655222849502,
    "execution_millis": 659,
    "deepnote_cell_type": "code",
    "deepnote_cell_height": 154.171875,
    "deepnote_output_heights": [
     21.1875
    ]
   },
   "source": "# Calculate the sum of desc and desc and store the result in a new variable doubledesc\ndoubledesc = desc + desc\ndoubledesc",
   "outputs": [
    {
     "output_type": "execute_result",
     "execution_count": 11,
     "data": {
      "text/plain": "'compound interestcompound interest'"
     },
     "metadata": {}
    }
   ],
   "execution_count": null
  },
  {
   "cell_type": "markdown",
   "source": "### Type conversion",
   "metadata": {
    "formattedRanges": [],
    "cell_id": "93dc4f7b114d44b68715bfd3a49848e5",
    "tags": [],
    "is_collapsed": false,
    "deepnote_cell_type": "text-cell-h3"
   }
  },
  {
   "cell_type": "markdown",
   "source": "You can the following functions to convert the data type of a value, if that operation has sense.\n\n* str()\n* int()\n* float()\n* bool()",
   "metadata": {
    "cell_id": "6f7c151e4db043c2aabf1d159712511d",
    "tags": [],
    "deepnote_cell_type": "markdown",
    "deepnote_cell_height": 201.375
   }
  },
  {
   "cell_type": "code",
   "metadata": {
    "cell_id": "94badb865cfe4625abc742c17f7ee02e",
    "tags": [],
    "deepnote_to_be_reexecuted": false,
    "source_hash": "562b0ed6",
    "execution_start": 1655223287583,
    "execution_millis": 618,
    "deepnote_cell_type": "code",
    "deepnote_cell_height": 129.90625
   },
   "source": "# Print the message 'I started with $100 and now have $194.87171000000012. Awesome!' using the variables that you have created in this section\nprint('I started with $' + str(savings) + ' and now have $' + str(result) + '. Awesome!')",
   "outputs": [
    {
     "name": "stdout",
     "text": "I started with $100 and now have $194.87171000000012. Awesome!\n",
     "output_type": "stream"
    }
   ],
   "execution_count": null
  },
  {
   "cell_type": "markdown",
   "source": "<a style='text-decoration:none;line-height:16px;display:flex;color:#5B5B62;padding:10px;justify-content:end;' href='https://deepnote.com?utm_source=created-in-deepnote-cell&projectId=5ae2da81-80d3-4fda-a7da-5d87dbb75a0f' target=\"_blank\">\n<img alt='Created in deepnote.com' style='display:inline;max-height:16px;margin:0px;margin-right:7.5px;' src='data:image/svg+xml;base64,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' > </img>\nCreated in <span style='font-weight:600;margin-left:4px;'>Deepnote</span></a>",
   "metadata": {
    "tags": [],
    "created_in_deepnote_cell": true,
    "deepnote_cell_type": "markdown"
   }
  }
 ],
 "nbformat": 4,
 "nbformat_minor": 2,
 "metadata": {
  "orig_nbformat": 2,
  "deepnote": {},
  "deepnote_notebook_id": "86e1b245-1545-49cc-a5f9-0cce7801e92a",
  "deepnote_execution_queue": []
 }
}