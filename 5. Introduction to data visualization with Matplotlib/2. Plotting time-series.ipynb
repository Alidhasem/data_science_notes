{
 "cells": [
  {
   "cell_type": "markdown",
   "source": "# Plotting time-series",
   "metadata": {
    "formattedRanges": [],
    "cell_id": "ff7f6bd6933044a08f36d01ef6fa8751",
    "tags": [],
    "is_collapsed": false,
    "deepnote_cell_type": "text-cell-h1"
   }
  },
  {
   "cell_type": "markdown",
   "source": "In this lesson, you will read data from a CSV file called climate_change.csv that contains measurements of CO2 levels and temperatures made on the 6th of every month from 1958 until 2016.",
   "metadata": {
    "cell_id": "990b8b8d1edc4d9fb0eccd20989cbff9",
    "tags": [],
    "deepnote_cell_type": "markdown",
    "deepnote_cell_height": 97.1875
   }
  },
  {
   "cell_type": "markdown",
   "source": "## Plotting time-series data",
   "metadata": {
    "formattedRanges": [],
    "cell_id": "c06b687b29bb4b0eac53a7acd85a27a3",
    "tags": [],
    "is_collapsed": false,
    "deepnote_cell_type": "text-cell-h2"
   }
  },
  {
   "cell_type": "markdown",
   "source": "### Read data with a time index",
   "metadata": {
    "formattedRanges": [],
    "cell_id": "f96effbd3cb94a80bdbb21bbfb9e0574",
    "tags": [],
    "is_collapsed": false,
    "deepnote_cell_type": "text-cell-h3"
   }
  },
  {
   "cell_type": "markdown",
   "source": "DataFrame objects can have an index that denotes time. This is useful because Matplotlib recognizes that these measurements represent time and labels the values on the axis accordingly.",
   "metadata": {
    "cell_id": "6c0e73c332394091b0dd2410b9d9f332",
    "tags": [],
    "deepnote_cell_type": "markdown",
    "deepnote_cell_height": 97.1875
   }
  },
  {
   "cell_type": "code",
   "metadata": {
    "cell_id": "6c3a07f126774e7c88bdf2072ef34cbd",
    "tags": [],
    "deepnote_to_be_reexecuted": false,
    "source_hash": "a8ec52fe",
    "execution_start": 1655834895985,
    "execution_millis": 58,
    "deepnote_cell_type": "code",
    "deepnote_cell_height": 521
   },
   "source": "# Import the pandas library as pd\nimport pandas as pd\n\n# Import the climate change data\n# Use the parse_dates key-word argument to parse the \"date\" column as dates\n# Use the index_col key-word argument to set the \"date\" column as the index\nclimate_change = pd.read_csv('/work/data_science_notes/5. Introduction to data visualization with Matplotlib/data/climate_change.csv', parse_dates=['date'], index_col='date')\nclimate_change.head()",
   "execution_count": null,
   "outputs": [
    {
     "output_type": "execute_result",
     "execution_count": 3,
     "data": {
      "application/vnd.deepnote.dataframe.v3+json": {
       "column_count": 2,
       "row_count": 5,
       "columns": [
        {
         "name": "co2",
         "dtype": "float64",
         "stats": {
          "unique_count": 4,
          "nan_count": 1,
          "min": "315.71",
          "max": "317.5",
          "histogram": [
           {
            "bin_start": 315.71,
            "bin_end": 315.889,
            "count": 2
           },
           {
            "bin_start": 315.889,
            "bin_end": 316.068,
            "count": 0
           },
           {
            "bin_start": 316.068,
            "bin_end": 316.24699999999996,
            "count": 0
           },
           {
            "bin_start": 316.24699999999996,
            "bin_end": 316.426,
            "count": 0
           },
           {
            "bin_start": 316.426,
            "bin_end": 316.605,
            "count": 0
           },
           {
            "bin_start": 316.605,
            "bin_end": 316.784,
            "count": 0
           },
           {
            "bin_start": 316.784,
            "bin_end": 316.96299999999997,
            "count": 0
           },
           {
            "bin_start": 316.96299999999997,
            "bin_end": 317.142,
            "count": 0
           },
           {
            "bin_start": 317.142,
            "bin_end": 317.321,
            "count": 0
           },
           {
            "bin_start": 317.321,
            "bin_end": 317.5,
            "count": 2
           }
          ]
         }
        },
        {
         "name": "relative_temp",
         "dtype": "float64",
         "stats": {
          "unique_count": 5,
          "nan_count": 0,
          "min": "-0.05",
          "max": "0.1",
          "histogram": [
           {
            "bin_start": -0.05,
            "bin_end": -0.035,
            "count": 1
           },
           {
            "bin_start": -0.035,
            "bin_end": -0.019999999999999997,
            "count": 0
           },
           {
            "bin_start": -0.019999999999999997,
            "bin_end": -0.0049999999999999906,
            "count": 0
           },
           {
            "bin_start": -0.0049999999999999906,
            "bin_end": 0.010000000000000009,
            "count": 1
           },
           {
            "bin_start": 0.010000000000000009,
            "bin_end": 0.02500000000000001,
            "count": 0
           },
           {
            "bin_start": 0.02500000000000001,
            "bin_end": 0.04000000000000002,
            "count": 0
           },
           {
            "bin_start": 0.04000000000000002,
            "bin_end": 0.05500000000000002,
            "count": 0
           },
           {
            "bin_start": 0.05500000000000002,
            "bin_end": 0.07000000000000002,
            "count": 1
           },
           {
            "bin_start": 0.07000000000000002,
            "bin_end": 0.08500000000000003,
            "count": 1
           },
           {
            "bin_start": 0.08500000000000003,
            "bin_end": 0.1,
            "count": 1
           }
          ]
         }
        },
        {
         "name": "_deepnote_index_column",
         "dtype": "datetime64[ns]"
        }
       ],
       "rows": [
        {
         "co2": 315.71,
         "relative_temp": 0.1,
         "_deepnote_index_column": "1958-03-06T00:00:00.000000"
        },
        {
         "co2": 317.45,
         "relative_temp": 0.01,
         "_deepnote_index_column": "1958-04-06T00:00:00.000000"
        },
        {
         "co2": 317.5,
         "relative_temp": 0.08,
         "_deepnote_index_column": "1958-05-06T00:00:00.000000"
        },
        {
         "co2": "nan",
         "relative_temp": -0.05,
         "_deepnote_index_column": "1958-06-06T00:00:00.000000"
        },
        {
         "co2": 315.86,
         "relative_temp": 0.06,
         "_deepnote_index_column": "1958-07-06T00:00:00.000000"
        }
       ]
      },
      "text/plain": "               co2  relative_temp\ndate                             \n1958-03-06  315.71           0.10\n1958-04-06  317.45           0.01\n1958-05-06  317.50           0.08\n1958-06-06     NaN          -0.05\n1958-07-06  315.86           0.06",
      "text/html": "<div>\n<style scoped>\n    .dataframe tbody tr th:only-of-type {\n        vertical-align: middle;\n    }\n\n    .dataframe tbody tr th {\n        vertical-align: top;\n    }\n\n    .dataframe thead th {\n        text-align: right;\n    }\n</style>\n<table border=\"1\" class=\"dataframe\">\n  <thead>\n    <tr style=\"text-align: right;\">\n      <th></th>\n      <th>co2</th>\n      <th>relative_temp</th>\n    </tr>\n    <tr>\n      <th>date</th>\n      <th></th>\n      <th></th>\n    </tr>\n  </thead>\n  <tbody>\n    <tr>\n      <th>1958-03-06</th>\n      <td>315.71</td>\n      <td>0.10</td>\n    </tr>\n    <tr>\n      <th>1958-04-06</th>\n      <td>317.45</td>\n      <td>0.01</td>\n    </tr>\n    <tr>\n      <th>1958-05-06</th>\n      <td>317.50</td>\n      <td>0.08</td>\n    </tr>\n    <tr>\n      <th>1958-06-06</th>\n      <td>NaN</td>\n      <td>-0.05</td>\n    </tr>\n    <tr>\n      <th>1958-07-06</th>\n      <td>315.86</td>\n      <td>0.06</td>\n    </tr>\n  </tbody>\n</table>\n</div>"
     },
     "metadata": {}
    }
   ]
  },
  {
   "cell_type": "markdown",
   "source": "### Plot time-series data",
   "metadata": {
    "formattedRanges": [],
    "cell_id": "d73127b1264f419a9a161de7930328fb",
    "tags": [],
    "is_collapsed": false,
    "deepnote_cell_type": "text-cell-h3"
   }
  },
  {
   "cell_type": "markdown",
   "source": "When a time-series is represented with a time index, we can use this index for the x-axis when plotting.",
   "metadata": {
    "cell_id": "f467b56d455b41fa814bbc0568f36617",
    "tags": [],
    "deepnote_cell_type": "markdown",
    "deepnote_cell_height": 74.78125
   }
  },
  {
   "cell_type": "code",
   "metadata": {
    "cell_id": "d75ff050347f4c99b5cb30d0f07f3290",
    "tags": [],
    "deepnote_to_be_reexecuted": false,
    "source_hash": "ba523044",
    "execution_start": 1655835239201,
    "execution_millis": 582,
    "deepnote_cell_type": "code",
    "deepnote_cell_height": 523,
    "deepnote_output_heights": [
     264,
     250
    ]
   },
   "source": "# Plot the index data of the DataFrame as the x-axis values and the values stored in the \"relative_temp\" column as the y-axis values \n# Also  label the x-axis and y-axis\n\nimport matplotlib.pyplot as plt\nfig, ax = plt.subplots()\nax.plot(climate_change.index, climate_change.relative_temp)\nax.set_xlabel('Time')\nax.set_ylabel('Relative temperature (Celsius)')\n\nplt.show()",
   "execution_count": null,
   "outputs": [
    {
     "data": {
      "text/plain": "<Figure size 432x288 with 1 Axes>",
      "image/png": "[encoded data removed]"
     },
     "metadata": {
      "needs_background": "light",
      "image/png": {
       "width": 400,
       "height": 262
      }
     },
     "output_type": "display_data"
    }
   ]
  },
  {
   "cell_type": "markdown",
   "source": "### Using a time index to zoom in",
   "metadata": {
    "formattedRanges": [],
    "cell_id": "4e65bcc82a074f13869759f6086da8f8",
    "tags": [],
    "is_collapsed": false,
    "deepnote_cell_type": "text-cell-h3"
   }
  },
  {
   "cell_type": "markdown",
   "source": "We can select a range of dates to zoom in on a particular period within the time-series, using pandas' indexing facilities. ",
   "metadata": {
    "cell_id": "fe159714860844919aaee6aa4d4c207f",
    "tags": [],
    "deepnote_cell_type": "markdown",
    "deepnote_cell_height": 74.78125
   }
  },
  {
   "cell_type": "code",
   "metadata": {
    "cell_id": "7c48c905d8274e2f9506c8a1c2246290",
    "tags": [],
    "deepnote_to_be_reexecuted": false,
    "source_hash": "bd5bf86c",
    "execution_start": 1655835737500,
    "execution_millis": 567,
    "owner_user_id": "ef1985d3-6878-4f43-aa7a-40eb37e1c2a1",
    "deepnote_cell_type": "code",
    "deepnote_cell_height": 495,
    "deepnote_output_heights": [
     254,
     254
    ]
   },
   "source": "# Use plt.subplots to create a Figure with one Axes called fig and ax, respectively\nfig, ax = plt.subplots()\n\n# Create a variable called seventies that includes all the data between \"1970-01-01\" and \"1979-12-31\"\nseventies = climate_change['1970-01-01':'1979-12-31']\n\n# Add the data from seventies to the plot: use the DataFrame index for the x value and the \"co2\" column for the y values\nax.plot(seventies.index, seventies.co2)\nplt.show()",
   "execution_count": null,
   "outputs": [
    {
     "data": {
      "text/plain": "<Figure size 432x288 with 1 Axes>",
      "image/png": "[encoded data removed]"
     },
     "metadata": {
      "needs_background": "light",
      "image/png": {
       "width": 375,
       "height": 252
      }
     },
     "output_type": "display_data"
    }
   ]
  },
  {
   "cell_type": "markdown",
   "source": "## Plotting time-series with different variables",
   "metadata": {
    "formattedRanges": [],
    "cell_id": "784bb67d3ce84996975987396a452450",
    "tags": [],
    "is_collapsed": false,
    "deepnote_cell_type": "text-cell-h2"
   }
  },
  {
   "cell_type": "code",
   "metadata": {
    "cell_id": "c3c89f2450e1448d8d2562f0989b18cc",
    "tags": [],
    "deepnote_cell_type": "code",
    "deepnote_cell_height": 66
   },
   "source": "",
   "execution_count": null,
   "outputs": []
  },
  {
   "cell_type": "markdown",
   "source": "## Annotating time-series data",
   "metadata": {
    "formattedRanges": [],
    "cell_id": "c8ae3aa8b7ef411686484ac6c5459cbb",
    "tags": [],
    "is_collapsed": false,
    "deepnote_cell_type": "text-cell-h2"
   }
  },
  {
   "cell_type": "markdown",
   "source": "<a style='text-decoration:none;line-height:16px;display:flex;color:#5B5B62;padding:10px;justify-content:end;' href='https://deepnote.com?utm_source=created-in-deepnote-cell&projectId=15e4b2e7-b024-4f10-9d84-df57af421120' target=\"_blank\">\n<img alt='Created in deepnote.com' style='display:inline;max-height:16px;margin:0px;margin-right:7.5px;' src='data:image/svg+xml;base64,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' > </img>\nCreated in <span style='font-weight:600;margin-left:4px;'>Deepnote</span></a>",
   "metadata": {
    "tags": [],
    "created_in_deepnote_cell": true,
    "deepnote_cell_type": "markdown"
   }
  }
 ],
 "nbformat": 4,
 "nbformat_minor": 2,
 "metadata": {
  "orig_nbformat": 2,
  "deepnote": {},
  "deepnote_notebook_id": "17d845bd-9ecc-4737-9f7b-d3b785bb6f35",
  "deepnote_execution_queue": []
 }
}