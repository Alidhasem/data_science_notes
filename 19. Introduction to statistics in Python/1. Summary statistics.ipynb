{
 "cells": [
  {
   "cell_type": "markdown",
   "metadata": {
    "cell_id": "42c82350484c4fe9bbb396dd98899bd7",
    "deepnote_cell_type": "text-cell-h1",
    "formattedRanges": [],
    "is_collapsed": false,
    "owner_user_id": "ef1985d3-6878-4f43-aa7a-40eb37e1c2a1",
    "tags": []
   },
   "source": [
    "# Summary statistics"
   ]
  },
  {
   "cell_type": "markdown",
   "metadata": {
    "cell_id": "f567c45876324eb99b8de45ee08fddf5",
    "deepnote_cell_type": "text-cell-h2",
    "formattedRanges": [],
    "is_collapsed": false,
    "tags": []
   },
   "source": [
    "## What is statistics?"
   ]
  },
  {
   "cell_type": "markdown",
   "metadata": {
    "cell_id": "54a5b8806832407299767133bdd8b017",
    "deepnote_cell_height": 111.109375,
    "deepnote_cell_type": "markdown",
    "tags": []
   },
   "source": [
    "Statistics is the field study that is concerned with data collection and its description in a useful way. \n",
    "\n",
    "Summary statistics are numbers that synthetically describe a data set. You can think of them as properties of data sets that allows us to understand and compare them with each other."
   ]
  },
  {
   "cell_type": "markdown",
   "metadata": {
    "cell_id": "dd9dc3a840d84ba09d91d2e504a21505",
    "deepnote_cell_height": 128.09375,
    "deepnote_cell_type": "markdown",
    "tags": []
   },
   "source": [
    "With statistics you can answer a lot of questions such as:\n",
    "\n",
    "* How likely is that a customer will purchase this item?\n",
    "* How many jean sizes do I need to manufacturate to cover the 95% of the population?"
   ]
  },
  {
   "cell_type": "markdown",
   "metadata": {
    "cell_id": "3620de3c3ef04387ba5a02d057b8fd1c",
    "deepnote_cell_type": "text-cell-h3",
    "formattedRanges": [],
    "is_collapsed": false,
    "tags": []
   },
   "source": [
    "### Descriptive and inferential statistics"
   ]
  },
  {
   "cell_type": "markdown",
   "metadata": {
    "cell_id": "fc40479c7c5b43b0863f0df10aabd696",
    "deepnote_cell_height": 133.5,
    "deepnote_cell_type": "markdown",
    "tags": []
   },
   "source": [
    "Descriptive statistics focuses on describing and summarizing the data at hand, and drawing highlights from it.\n",
    "\n",
    "Inferential statistics is concerned with, given data from a sample, drawing inferences about a larger population."
   ]
  },
  {
   "cell_type": "markdown",
   "metadata": {
    "cell_id": "b162d791bc984d0a8fc127dae3f29385",
    "deepnote_cell_type": "text-cell-h3",
    "formattedRanges": [],
    "is_collapsed": false,
    "tags": []
   },
   "source": [
    "### Data type classification"
   ]
  },
  {
   "cell_type": "markdown",
   "metadata": {
    "cell_id": "e4e30d3ff1254aaa9f3355d720e6345d",
    "deepnote_cell_height": 262.625,
    "deepnote_cell_type": "markdown",
    "tags": []
   },
   "source": [
    "In statictics it is useful to classify the data as follows:\n",
    "\n",
    "* Quantitative (numeric) data.\n",
    "    * Continuous numeric data (measuraments).\n",
    "    * Discrete numeric data (counted data).\n",
    "\n",
    "* Qualiltative (categorical) data.\n",
    "    * Nominal (without inherent order).\n",
    "    * Ordinal (with inherent order). "
   ]
  },
  {
   "cell_type": "markdown",
   "metadata": {
    "cell_id": "f9bebadd77e8416cb7867a67fd8d6f91",
    "deepnote_cell_type": "text-cell-h2",
    "formattedRanges": [],
    "is_collapsed": false,
    "tags": []
   },
   "source": [
    "## Measures of center"
   ]
  },
  {
   "cell_type": "markdown",
   "metadata": {
    "cell_id": "d5acbb8479344bd4beef0fe84a8f3d98",
    "deepnote_cell_height": 212.25,
    "deepnote_cell_type": "markdown",
    "tags": []
   },
   "source": [
    "Center summary statistics attempt to represent the entire data set in just one number: the \"center\" of data.\n",
    "\n",
    "The three most popular center summary statistics are:\n",
    "\n",
    "* Mean.\n",
    "* Median. \n",
    "* Mode. "
   ]
  },
  {
   "cell_type": "markdown",
   "metadata": {
    "cell_id": "bf4850c5ff824bfab88d9cd86bd47233",
    "deepnote_cell_height": 52.34375,
    "deepnote_cell_type": "markdown",
    "tags": []
   },
   "source": [
    "The mode is the most frecuent value in a data set. It is useful when you are dealing with categorical data. "
   ]
  },
  {
   "cell_type": "markdown",
   "metadata": {
    "cell_id": "a06fa3da617b430ba35d40453fc737c4",
    "deepnote_cell_type": "text-cell-h3",
    "formattedRanges": [],
    "is_collapsed": false,
    "tags": []
   },
   "source": [
    "### Mean and median"
   ]
  },
  {
   "cell_type": "markdown",
   "metadata": {
    "cell_id": "f2f276f5beed429694db2cea6d42548c",
    "deepnote_cell_height": 115.953125,
    "deepnote_cell_type": "markdown",
    "tags": []
   },
   "source": [
    "The mean $\\bar{x}$ of a data set $x_i$ is definded as\n",
    "\n",
    "$\\displaystyle{\\bar{x}=\\frac{1}{n}\\sum_{i=1}^{n}x_i}$."
   ]
  },
  {
   "cell_type": "markdown",
   "metadata": {
    "cell_id": "604e3db328d245228c15c0f8309eb601",
    "deepnote_cell_height": 74.734375,
    "deepnote_cell_type": "markdown",
    "tags": []
   },
   "source": [
    "The median is the middle value of the dataset, this means that 50% of the data is less than or equal to the median."
   ]
  },
  {
   "cell_type": "code",
   "execution_count": 1,
   "metadata": {
    "cell_id": "704ee0531e3c4e50bb37d4aa77df5018",
    "deepnote_cell_height": 466.890625,
    "deepnote_cell_type": "code",
    "deepnote_to_be_reexecuted": false,
    "execution_millis": 39,
    "execution_start": 1656605951827,
    "source_hash": "52dacb1b",
    "tags": []
   },
   "outputs": [
    {
     "data": {
      "application/vnd.deepnote.dataframe.v3+json": {
       "column_count": 4,
       "columns": [
        {
         "dtype": "object",
         "name": "country",
         "stats": {
          "categories": [
           {
            "count": 5,
            "name": "Argentina"
           }
          ],
          "nan_count": 0,
          "unique_count": 1
         }
        },
        {
         "dtype": "object",
         "name": "food_category",
         "stats": {
          "categories": [
           {
            "count": 1,
            "name": "pork"
           },
           {
            "count": 1,
            "name": "poultry"
           },
           {
            "count": 3,
            "name": "3 others"
           }
          ],
          "nan_count": 0,
          "unique_count": 5
         }
        },
        {
         "dtype": "float64",
         "name": "consumption",
         "stats": {
          "histogram": [
           {
            "bin_end": 6.952,
            "bin_start": 1.56,
            "count": 2
           },
           {
            "bin_end": 12.344,
            "bin_start": 6.952,
            "count": 1
           },
           {
            "bin_end": 17.735999999999997,
            "bin_start": 12.344,
            "count": 0
           },
           {
            "bin_end": 23.127999999999997,
            "bin_start": 17.735999999999997,
            "count": 0
           },
           {
            "bin_end": 28.519999999999996,
            "bin_start": 23.127999999999997,
            "count": 0
           },
           {
            "bin_end": 33.912,
            "bin_start": 28.519999999999996,
            "count": 0
           },
           {
            "bin_end": 39.304,
            "bin_start": 33.912,
            "count": 1
           },
           {
            "bin_end": 44.696,
            "bin_start": 39.304,
            "count": 0
           },
           {
            "bin_end": 50.087999999999994,
            "bin_start": 44.696,
            "count": 0
           },
           {
            "bin_end": 55.48,
            "bin_start": 50.087999999999994,
            "count": 1
           }
          ],
          "max": "55.48",
          "min": "1.56",
          "nan_count": 0,
          "unique_count": 5
         }
        },
        {
         "dtype": "float64",
         "name": "co2_emission",
         "stats": {
          "histogram": [
           {
            "bin_end": 177.464,
            "bin_start": 6.96,
            "count": 4
           },
           {
            "bin_end": 347.96799999999996,
            "bin_start": 177.464,
            "count": 0
           },
           {
            "bin_end": 518.472,
            "bin_start": 347.96799999999996,
            "count": 0
           },
           {
            "bin_end": 688.976,
            "bin_start": 518.472,
            "count": 0
           },
           {
            "bin_end": 859.48,
            "bin_start": 688.976,
            "count": 0
           },
           {
            "bin_end": 1029.984,
            "bin_start": 859.48,
            "count": 0
           },
           {
            "bin_end": 1200.488,
            "bin_start": 1029.984,
            "count": 0
           },
           {
            "bin_end": 1370.992,
            "bin_start": 1200.488,
            "count": 0
           },
           {
            "bin_end": 1541.4959999999999,
            "bin_start": 1370.992,
            "count": 0
           },
           {
            "bin_end": 1712,
            "bin_start": 1541.4959999999999,
            "count": 1
           }
          ],
          "max": "1712.0",
          "min": "6.96",
          "nan_count": 0,
          "unique_count": 5
         }
        },
        {
         "dtype": "int64",
         "name": "_deepnote_index_column"
        }
       ],
       "row_count": 5,
       "rows": [
        {
         "_deepnote_index_column": 1,
         "co2_emission": 37.2,
         "consumption": 10.51,
         "country": "Argentina",
         "food_category": "pork"
        },
        {
         "_deepnote_index_column": 2,
         "co2_emission": 41.53,
         "consumption": 38.66,
         "country": "Argentina",
         "food_category": "poultry"
        },
        {
         "_deepnote_index_column": 3,
         "co2_emission": 1712,
         "consumption": 55.48,
         "country": "Argentina",
         "food_category": "beef"
        },
        {
         "_deepnote_index_column": 4,
         "co2_emission": 54.63,
         "consumption": 1.56,
         "country": "Argentina",
         "food_category": "lamb_goat"
        },
        {
         "_deepnote_index_column": 5,
         "co2_emission": 6.96,
         "consumption": 4.36,
         "country": "Argentina",
         "food_category": "fish"
        }
       ]
      },
      "text/html": [
       "<div>\n",
       "<style scoped>\n",
       "    .dataframe tbody tr th:only-of-type {\n",
       "        vertical-align: middle;\n",
       "    }\n",
       "\n",
       "    .dataframe tbody tr th {\n",
       "        vertical-align: top;\n",
       "    }\n",
       "\n",
       "    .dataframe thead th {\n",
       "        text-align: right;\n",
       "    }\n",
       "</style>\n",
       "<table border=\"1\" class=\"dataframe\">\n",
       "  <thead>\n",
       "    <tr style=\"text-align: right;\">\n",
       "      <th></th>\n",
       "      <th>country</th>\n",
       "      <th>food_category</th>\n",
       "      <th>consumption</th>\n",
       "      <th>co2_emission</th>\n",
       "    </tr>\n",
       "  </thead>\n",
       "  <tbody>\n",
       "    <tr>\n",
       "      <th>1</th>\n",
       "      <td>Argentina</td>\n",
       "      <td>pork</td>\n",
       "      <td>10.51</td>\n",
       "      <td>37.20</td>\n",
       "    </tr>\n",
       "    <tr>\n",
       "      <th>2</th>\n",
       "      <td>Argentina</td>\n",
       "      <td>poultry</td>\n",
       "      <td>38.66</td>\n",
       "      <td>41.53</td>\n",
       "    </tr>\n",
       "    <tr>\n",
       "      <th>3</th>\n",
       "      <td>Argentina</td>\n",
       "      <td>beef</td>\n",
       "      <td>55.48</td>\n",
       "      <td>1712.00</td>\n",
       "    </tr>\n",
       "    <tr>\n",
       "      <th>4</th>\n",
       "      <td>Argentina</td>\n",
       "      <td>lamb_goat</td>\n",
       "      <td>1.56</td>\n",
       "      <td>54.63</td>\n",
       "    </tr>\n",
       "    <tr>\n",
       "      <th>5</th>\n",
       "      <td>Argentina</td>\n",
       "      <td>fish</td>\n",
       "      <td>4.36</td>\n",
       "      <td>6.96</td>\n",
       "    </tr>\n",
       "  </tbody>\n",
       "</table>\n",
       "</div>"
      ],
      "text/plain": [
       "     country food_category  consumption  co2_emission\n",
       "1  Argentina          pork        10.51         37.20\n",
       "2  Argentina       poultry        38.66         41.53\n",
       "3  Argentina          beef        55.48       1712.00\n",
       "4  Argentina     lamb_goat         1.56         54.63\n",
       "5  Argentina          fish         4.36          6.96"
      ]
     },
     "execution_count": 1,
     "metadata": {},
     "output_type": "execute_result"
    }
   ],
   "source": [
    "import pandas as pd \n",
    "import numpy as np \n",
    "\n",
    "food_consumption = pd.read_csv('/work/data_science_notes/25. Introduction to statistics in Python/data/food_consumption.csv', index_col=0)\n",
    "food_consumption.head()"
   ]
  },
  {
   "cell_type": "code",
   "execution_count": 2,
   "metadata": {
    "cell_id": "33874aaa96014fc394b5b4fa724a0d47",
    "deepnote_cell_height": 257.546875,
    "deepnote_cell_type": "code",
    "deepnote_to_be_reexecuted": false,
    "execution_millis": 5,
    "execution_start": 1656605951863,
    "source_hash": "34901414",
    "tags": []
   },
   "outputs": [
    {
     "name": "stdout",
     "output_type": "stream",
     "text": [
      "42.13272727272727 12.59\n",
      "44.650000000000006 14.58\n"
     ]
    }
   ],
   "source": [
    "# Create two DataFrames: one that holds the rows of food_consumption for 'Belgium' and another that holds rows for 'USA' \n",
    "# Call these be_consumption and usa_consumption\n",
    "be_consumption = food_consumption[food_consumption.country == 'Belgium']\n",
    "usa_consumption = food_consumption[food_consumption.country == 'USA']\n",
    "\n",
    "# Calculate the mean and median of kilograms of food consumed per person per year for both countries\n",
    "print(be_consumption.consumption.mean(), be_consumption.consumption.median())\n",
    "print(usa_consumption.consumption.mean(), usa_consumption.consumption.median())"
   ]
  },
  {
   "cell_type": "code",
   "execution_count": 3,
   "metadata": {
    "cell_id": "7c3a55f953a24dd0851db9f7c46a7cbd",
    "deepnote_cell_height": 361.90625,
    "deepnote_cell_type": "code",
    "deepnote_to_be_reexecuted": false,
    "execution_millis": 5,
    "execution_start": 1656605951888,
    "source_hash": "8ad386f3",
    "tags": []
   },
   "outputs": [
    {
     "data": {
      "application/vnd.deepnote.dataframe.v3+json": {
       "column_count": 2,
       "columns": [
        {
         "dtype": "float64",
         "name": "mean",
         "stats": {
          "histogram": [
           {
            "bin_end": 42.38445454545454,
            "bin_start": 42.132727272727266,
            "count": 1
           },
           {
            "bin_end": 42.63618181818181,
            "bin_start": 42.38445454545454,
            "count": 0
           },
           {
            "bin_end": 42.88790909090909,
            "bin_start": 42.63618181818181,
            "count": 0
           },
           {
            "bin_end": 43.13963636363636,
            "bin_start": 42.88790909090909,
            "count": 0
           },
           {
            "bin_end": 43.391363636363636,
            "bin_start": 43.13963636363636,
            "count": 0
           },
           {
            "bin_end": 43.64309090909091,
            "bin_start": 43.391363636363636,
            "count": 0
           },
           {
            "bin_end": 43.89481818181818,
            "bin_start": 43.64309090909091,
            "count": 0
           },
           {
            "bin_end": 44.14654545454546,
            "bin_start": 43.89481818181818,
            "count": 0
           },
           {
            "bin_end": 44.39827272727273,
            "bin_start": 44.14654545454546,
            "count": 0
           },
           {
            "bin_end": 44.650000000000006,
            "bin_start": 44.39827272727273,
            "count": 1
           }
          ],
          "max": "44.650000000000006",
          "min": "42.132727272727266",
          "nan_count": 0,
          "unique_count": 2
         }
        },
        {
         "dtype": "float64",
         "name": "median",
         "stats": {
          "histogram": [
           {
            "bin_end": 12.789,
            "bin_start": 12.59,
            "count": 1
           },
           {
            "bin_end": 12.988,
            "bin_start": 12.789,
            "count": 0
           },
           {
            "bin_end": 13.187,
            "bin_start": 12.988,
            "count": 0
           },
           {
            "bin_end": 13.386,
            "bin_start": 13.187,
            "count": 0
           },
           {
            "bin_end": 13.585,
            "bin_start": 13.386,
            "count": 0
           },
           {
            "bin_end": 13.783999999999999,
            "bin_start": 13.585,
            "count": 0
           },
           {
            "bin_end": 13.983,
            "bin_start": 13.783999999999999,
            "count": 0
           },
           {
            "bin_end": 14.182,
            "bin_start": 13.983,
            "count": 0
           },
           {
            "bin_end": 14.381,
            "bin_start": 14.182,
            "count": 0
           },
           {
            "bin_end": 14.58,
            "bin_start": 14.381,
            "count": 1
           }
          ],
          "max": "14.58",
          "min": "12.59",
          "nan_count": 0,
          "unique_count": 2
         }
        },
        {
         "dtype": "object",
         "name": "_deepnote_index_column"
        }
       ],
       "row_count": 2,
       "rows": [
        {
         "_deepnote_index_column": "Belgium",
         "mean": 42.132727272727266,
         "median": 12.59
        },
        {
         "_deepnote_index_column": "USA",
         "mean": 44.650000000000006,
         "median": 14.58
        }
       ]
      },
      "text/html": [
       "<div>\n",
       "<style scoped>\n",
       "    .dataframe tbody tr th:only-of-type {\n",
       "        vertical-align: middle;\n",
       "    }\n",
       "\n",
       "    .dataframe tbody tr th {\n",
       "        vertical-align: top;\n",
       "    }\n",
       "\n",
       "    .dataframe thead th {\n",
       "        text-align: right;\n",
       "    }\n",
       "</style>\n",
       "<table border=\"1\" class=\"dataframe\">\n",
       "  <thead>\n",
       "    <tr style=\"text-align: right;\">\n",
       "      <th></th>\n",
       "      <th>mean</th>\n",
       "      <th>median</th>\n",
       "    </tr>\n",
       "    <tr>\n",
       "      <th>country</th>\n",
       "      <th></th>\n",
       "      <th></th>\n",
       "    </tr>\n",
       "  </thead>\n",
       "  <tbody>\n",
       "    <tr>\n",
       "      <th>Belgium</th>\n",
       "      <td>42.132727</td>\n",
       "      <td>12.59</td>\n",
       "    </tr>\n",
       "    <tr>\n",
       "      <th>USA</th>\n",
       "      <td>44.650000</td>\n",
       "      <td>14.58</td>\n",
       "    </tr>\n",
       "  </tbody>\n",
       "</table>\n",
       "</div>"
      ],
      "text/plain": [
       "              mean  median\n",
       "country                   \n",
       "Belgium  42.132727   12.59\n",
       "USA      44.650000   14.58"
      ]
     },
     "execution_count": 3,
     "metadata": {},
     "output_type": "execute_result"
    }
   ],
   "source": [
    "# Subset food_consumption for rows with data about Belgium and the USA\n",
    "be_and_usa = food_consumption[(food_consumption.country == 'Belgium')|(food_consumption.country == 'USA')]\n",
    "\n",
    "# Group the subsetted data by country and select only the consumption column\n",
    "# Calculate the mean and median of the kilograms of food consumed per person per year in each country using .agg()\n",
    "be_and_usa.groupby('country')['consumption'].agg([np.mean, np.median])"
   ]
  },
  {
   "cell_type": "markdown",
   "metadata": {
    "cell_id": "2fd51616980947b4a5702cabab74ebb6",
    "deepnote_cell_type": "text-cell-h3",
    "formattedRanges": [],
    "is_collapsed": false,
    "tags": []
   },
   "source": [
    "### Mean vs. median"
   ]
  },
  {
   "cell_type": "markdown",
   "metadata": {
    "cell_id": "e77997eb1a0a48c5b03c31f04f5879b2",
    "deepnote_cell_height": 74.734375,
    "deepnote_cell_type": "markdown",
    "tags": []
   },
   "source": [
    "The mean is a very common and easy to compute summary statistic, but it has the disadvantage of being very sensitive to extreme values. It's the best option if you data has a symmetric distribution."
   ]
  },
  {
   "cell_type": "markdown",
   "metadata": {
    "cell_id": "68ac1ea0bad0454cb36042c46d1bc9a7",
    "deepnote_cell_height": 74.734375,
    "deepnote_cell_type": "markdown",
    "tags": []
   },
   "source": [
    "Since the median is derived from the ranking of sorted data, it's less affected by outliers. Therefore, it's the best option if the distribution of your data is skewed. "
   ]
  },
  {
   "cell_type": "code",
   "execution_count": 4,
   "metadata": {
    "cell_id": "fc22872663394167b600d2ce70988a28",
    "deepnote_cell_height": 474.921875,
    "deepnote_cell_type": "code",
    "deepnote_output_heights": [
     251.984375
    ],
    "deepnote_to_be_reexecuted": false,
    "execution_millis": 2235,
    "execution_start": 1656605951946,
    "source_hash": "2d9e69ae",
    "tags": []
   },
   "outputs": [
    {
     "data": {
      "image/png": "[encoded data removed]",
      "text/plain": [
       "<Figure size 432x288 with 1 Axes>"
      ]
     },
     "metadata": {
      "image/png": {
       "height": 250,
       "width": 368
      },
      "needs_background": "light"
     },
     "output_type": "display_data"
    }
   ],
   "source": [
    "# Subset food_consumption to get the rows where food_category is 'rice'\n",
    "rice_consumption = food_consumption[food_consumption.food_category == 'rice']\n",
    "\n",
    "# Create a histogram of co2_emission for rice and show the plot\n",
    "import matplotlib.pyplot as plt\n",
    "\n",
    "plt.hist(rice_consumption.co2_emission)\n",
    "plt.show()"
   ]
  },
  {
   "cell_type": "code",
   "execution_count": 5,
   "metadata": {
    "cell_id": "bf4ac4f9eb3444d091aa37e43d496017",
    "deepnote_cell_height": 174.515625,
    "deepnote_cell_type": "code",
    "deepnote_output_heights": [
     59.578125
    ],
    "deepnote_to_be_reexecuted": false,
    "execution_millis": 112,
    "execution_start": 1656605954079,
    "source_hash": "3efa9fd",
    "tags": []
   },
   "outputs": [
    {
     "data": {
      "text/plain": [
       "mean      37.591615\n",
       "median    15.200000\n",
       "Name: co2_emission, dtype: float64"
      ]
     },
     "execution_count": 5,
     "metadata": {},
     "output_type": "execute_result"
    }
   ],
   "source": [
    "# Use .agg() to calculate the mean and median of co2_emission for rice\n",
    "rice_consumption.co2_emission.agg([np.mean, np.median])"
   ]
  },
  {
   "cell_type": "markdown",
   "metadata": {
    "cell_id": "b468ee2f69a647c492c6adb136526852",
    "deepnote_cell_type": "text-cell-h2",
    "formattedRanges": [],
    "is_collapsed": false,
    "tags": []
   },
   "source": [
    "## Measures of spread"
   ]
  },
  {
   "cell_type": "markdown",
   "metadata": {
    "cell_id": "46fd924b111d4debbdac071ec9e71ea3",
    "deepnote_cell_height": 198.25,
    "deepnote_cell_type": "markdown",
    "tags": []
   },
   "source": [
    "If we plot the distribution of a data set, the shape of the distribution and its spread give us an idea of how far from the measures of center (mean or median, for example)  we could expect to find the data. The most popular measures of spread are:\n",
    "\n",
    "* Variance\n",
    "* Standard deviation\n",
    "* IQR"
   ]
  },
  {
   "cell_type": "markdown",
   "metadata": {
    "cell_id": "9a62e84160b141a9888efac7837977f7",
    "deepnote_cell_type": "text-cell-h3",
    "formattedRanges": [],
    "is_collapsed": false,
    "tags": []
   },
   "source": [
    "### Quartiles, quantiles, and quintiles"
   ]
  },
  {
   "cell_type": "markdown",
   "metadata": {
    "cell_id": "2714f367922a46dfbaf5efeb2ffab784",
    "deepnote_cell_height": 192.265625,
    "deepnote_cell_type": "markdown",
    "tags": []
   },
   "source": [
    "The $n-$th quantile of an ordered data set is the minimum value that is less than or equal to the $n$% of the data.   \n",
    "\n",
    "Quantiles are a great way of summarizing numerical data since they can be used to measure center and spread, as well as to get a sense of where a data point stands in relation to the rest of the data set. \n",
    "\n",
    "If we calculate the 25th, 50th, and 75th quantiles of a data set, we can divide it into four intervals. In consecuence, those numbers are also known as the $Q_1$, $Q_2$ and $Q_3$ quartiles. "
   ]
  },
  {
   "cell_type": "markdown",
   "metadata": {
    "cell_id": "e759377b85874ec7861fc1bea03f998b",
    "deepnote_cell_height": 52.34375,
    "deepnote_cell_type": "markdown",
    "tags": []
   },
   "source": [
    "The $IQR$ is a measure of spread calculated as the difference of the $Q_3$ and $Q_1$ quartiles. "
   ]
  },
  {
   "cell_type": "code",
   "execution_count": 6,
   "metadata": {
    "cell_id": "053dbece74d54bf0a869ca37cee5447b",
    "deepnote_cell_height": 136.125,
    "deepnote_cell_type": "code",
    "deepnote_output_heights": [
     21.1875
    ],
    "deepnote_to_be_reexecuted": false,
    "execution_millis": 66,
    "execution_start": 1656605954143,
    "source_hash": "2f0cecf2",
    "tags": []
   },
   "outputs": [
    {
     "data": {
      "text/plain": [
       "array([   0.    ,    5.21  ,   16.53  ,   62.5975, 1712.    ])"
      ]
     },
     "execution_count": 6,
     "metadata": {},
     "output_type": "execute_result"
    }
   ],
   "source": [
    "# Calculate the quartiles of the co2_emission column of food_consumption\n",
    "np.quantile(food_consumption['co2_emission'], np.linspace(0,1,5))"
   ]
  },
  {
   "cell_type": "code",
   "execution_count": 7,
   "metadata": {
    "cell_id": "5c30267f8a524039ae2406325d41af6a",
    "deepnote_cell_height": 136.125,
    "deepnote_cell_type": "code",
    "deepnote_output_heights": [
     21.1875
    ],
    "deepnote_to_be_reexecuted": false,
    "execution_millis": 1,
    "execution_start": 1656605954145,
    "source_hash": "963e6bba",
    "tags": []
   },
   "outputs": [
    {
     "data": {
      "text/plain": [
       "array([   0.   ,    3.54 ,   11.026,   25.59 ,   99.978, 1712.   ])"
      ]
     },
     "execution_count": 7,
     "metadata": {},
     "output_type": "execute_result"
    }
   ],
   "source": [
    "# Calculate the six quantiles that split up the data into 5 pieces (quintiles) of the co2_emission column of food_consumption\n",
    "np.quantile(food_consumption['co2_emission'], np.linspace(0,1,6))"
   ]
  },
  {
   "cell_type": "code",
   "execution_count": 8,
   "metadata": {
    "cell_id": "89e38d2974234633aba013a8e3983fd0",
    "deepnote_cell_height": 174.515625,
    "deepnote_cell_type": "code",
    "deepnote_output_heights": [
     59.578125
    ],
    "deepnote_to_be_reexecuted": false,
    "execution_millis": 65,
    "execution_start": 1656605954146,
    "source_hash": "48d50d13",
    "tags": []
   },
   "outputs": [
    {
     "data": {
      "text/plain": [
       "array([0.00000e+00, 6.68000e-01, 3.54000e+00, 7.04000e+00, 1.10260e+01,\n",
       "       1.65300e+01, 2.55900e+01, 4.42710e+01, 9.99780e+01, 2.03629e+02,\n",
       "       1.71200e+03])"
      ]
     },
     "execution_count": 8,
     "metadata": {},
     "output_type": "execute_result"
    }
   ],
   "source": [
    "# Calculate the eleven quantiles of co2_emission that split up the data into ten pieces (deciles)\n",
    "np.quantile(food_consumption['co2_emission'], np.linspace(0,1,11))"
   ]
  },
  {
   "cell_type": "markdown",
   "metadata": {
    "cell_id": "e71a419c61c04eae9e7cb0654f94b7a9",
    "deepnote_cell_type": "text-cell-h3",
    "formattedRanges": [],
    "is_collapsed": false,
    "tags": []
   },
   "source": [
    "### Variance and standard deviation"
   ]
  },
  {
   "cell_type": "markdown",
   "metadata": {
    "cell_id": "ffccc7de682146d4a1b77e9950e59906",
    "deepnote_cell_height": 215.9375,
    "deepnote_cell_type": "markdown",
    "tags": []
   },
   "source": [
    "The variance of a data set $x_{i}$, containing data from a full population, is defined as:\n",
    "\n",
    "$\\displaystyle{s^{2} = \\frac{1}{n}\\sum_{i=1}^{n}{(x_{i} - \\bar{x})^{2}}}$.\n",
    "\n",
    "And the variance for a sample of the data set is given by:\n",
    "\n",
    "$\\displaystyle{s^{2} = \\frac{1}{n-1}\\sum_{i=1}^{n}{(x_{i} - \\bar{x})^{2}}}$."
   ]
  },
  {
   "cell_type": "markdown",
   "metadata": {
    "cell_id": "1160f16e2ed54081a897715151a30124",
    "deepnote_cell_height": 223.671875,
    "deepnote_cell_type": "markdown",
    "tags": []
   },
   "source": [
    "The standard deviation is the square root of the variance: \n",
    "\n",
    "$\\displaystyle{\\sigma = \\sqrt{\\frac{1}{n}\\sum_{i=1}^{n}{(x_{i} - \\bar{x})^{2}}}}$.\n",
    "\n",
    "And the standard deviation of a sample is:\n",
    "\n",
    "$\\displaystyle{\\sigma = \\sqrt{\\frac{1}{n-1}\\sum_{i=1}^{n}{(x_{i} - \\bar{x})^{2}}}}$.\n",
    "\n"
   ]
  },
  {
   "cell_type": "code",
   "execution_count": 9,
   "metadata": {
    "cell_id": "e0a36be1841d4a0c90d12e631ac06a60",
    "deepnote_cell_height": 635.859375,
    "deepnote_cell_type": "code",
    "deepnote_to_be_reexecuted": false,
    "execution_millis": 74,
    "execution_start": 1656605954197,
    "source_hash": "77284b5f",
    "tags": []
   },
   "outputs": [
    {
     "data": {
      "application/vnd.deepnote.dataframe.v3+json": {
       "column_count": 2,
       "columns": [
        {
         "dtype": "float64",
         "name": "var",
         "stats": {
          "histogram": [
           {
            "bin_end": 8875.632706898636,
            "bin_start": 0.8798818425760283,
            "count": 8
           },
           {
            "bin_end": 17750.385531954693,
            "bin_start": 8875.632706898636,
            "count": 2
           },
           {
            "bin_end": 26625.138357010754,
            "bin_start": 17750.385531954693,
            "count": 0
           },
           {
            "bin_end": 35499.891182066815,
            "bin_start": 26625.138357010754,
            "count": 0
           },
           {
            "bin_end": 44374.64400712287,
            "bin_start": 35499.891182066815,
            "count": 0
           },
           {
            "bin_end": 53249.396832178936,
            "bin_start": 44374.64400712287,
            "count": 0
           },
           {
            "bin_end": 62124.14965723499,
            "bin_start": 53249.396832178936,
            "count": 0
           },
           {
            "bin_end": 70998.90248229104,
            "bin_start": 62124.14965723499,
            "count": 0
           },
           {
            "bin_end": 79873.6553073471,
            "bin_start": 70998.90248229104,
            "count": 0
           },
           {
            "bin_end": 88748.40813240316,
            "bin_start": 79873.6553073471,
            "count": 1
           }
          ],
          "max": "88748.40813240316",
          "min": "0.8798818425760283",
          "nan_count": 0,
          "unique_count": 11
         }
        },
        {
         "dtype": "float64",
         "name": "std",
         "stats": {
          "histogram": [
           {
            "bin_end": 30.634889199770733,
            "bin_start": 0.9380201717319454,
            "count": 6
           },
           {
            "bin_end": 60.331758227809516,
            "bin_start": 30.634889199770733,
            "count": 2
           },
           {
            "bin_end": 90.0286272558483,
            "bin_start": 60.331758227809516,
            "count": 0
           },
           {
            "bin_end": 119.7254962838871,
            "bin_start": 90.0286272558483,
            "count": 0
           },
           {
            "bin_end": 149.4223653119259,
            "bin_start": 119.7254962838871,
            "count": 2
           },
           {
            "bin_end": 179.11923433996466,
            "bin_start": 149.4223653119259,
            "count": 0
           },
           {
            "bin_end": 208.81610336800347,
            "bin_start": 179.11923433996466,
            "count": 0
           },
           {
            "bin_end": 238.51297239604224,
            "bin_start": 208.81610336800347,
            "count": 0
           },
           {
            "bin_end": 268.209841424081,
            "bin_start": 238.51297239604224,
            "count": 0
           },
           {
            "bin_end": 297.9067104521198,
            "bin_start": 268.209841424081,
            "count": 1
           }
          ],
          "max": "297.9067104521198",
          "min": "0.9380201717319454",
          "nan_count": 0,
          "unique_count": 11
         }
        },
        {
         "dtype": "object",
         "name": "_deepnote_index_column"
        }
       ],
       "row_count": 11,
       "rows": [
        {
         "_deepnote_index_column": "beef",
         "std": 297.9067104521198,
         "var": 88748.40813240316
        },
        {
         "_deepnote_index_column": "dairy",
         "std": 132.93566859610112,
         "var": 17671.89198509243
        },
        {
         "_deepnote_index_column": "eggs",
         "std": 4.622966496825305,
         "var": 21.371819230769233
        },
        {
         "_deepnote_index_column": "fish",
         "std": 30.358480677594496,
         "var": 921.6373490518785
        },
        {
         "_deepnote_index_column": "lamb_goat",
         "std": 128.3569957700967,
         "var": 16475.51836312462
        },
        {
         "_deepnote_index_column": "nuts",
         "std": 5.969895490755483,
         "var": 35.63965217054265
        },
        {
         "_deepnote_index_column": "pork",
         "std": 55.63239647187007,
         "var": 3094.963537203341
        },
        {
         "_deepnote_index_column": "poultry",
         "std": 15.653331956350971,
         "var": 245.02680133571855
        },
        {
         "_deepnote_index_column": "rice",
         "std": 47.763754491316305,
         "var": 2281.3762431067385
        },
        {
         "_deepnote_index_column": "soybeans",
         "std": 0.9380201717319454,
         "var": 0.8798818425760283
        }
       ]
      },
      "text/html": [
       "<div>\n",
       "<style scoped>\n",
       "    .dataframe tbody tr th:only-of-type {\n",
       "        vertical-align: middle;\n",
       "    }\n",
       "\n",
       "    .dataframe tbody tr th {\n",
       "        vertical-align: top;\n",
       "    }\n",
       "\n",
       "    .dataframe thead th {\n",
       "        text-align: right;\n",
       "    }\n",
       "</style>\n",
       "<table border=\"1\" class=\"dataframe\">\n",
       "  <thead>\n",
       "    <tr style=\"text-align: right;\">\n",
       "      <th></th>\n",
       "      <th>var</th>\n",
       "      <th>std</th>\n",
       "    </tr>\n",
       "    <tr>\n",
       "      <th>food_category</th>\n",
       "      <th></th>\n",
       "      <th></th>\n",
       "    </tr>\n",
       "  </thead>\n",
       "  <tbody>\n",
       "    <tr>\n",
       "      <th>beef</th>\n",
       "      <td>88748.408132</td>\n",
       "      <td>297.906710</td>\n",
       "    </tr>\n",
       "    <tr>\n",
       "      <th>dairy</th>\n",
       "      <td>17671.891985</td>\n",
       "      <td>132.935669</td>\n",
       "    </tr>\n",
       "    <tr>\n",
       "      <th>eggs</th>\n",
       "      <td>21.371819</td>\n",
       "      <td>4.622966</td>\n",
       "    </tr>\n",
       "    <tr>\n",
       "      <th>fish</th>\n",
       "      <td>921.637349</td>\n",
       "      <td>30.358481</td>\n",
       "    </tr>\n",
       "    <tr>\n",
       "      <th>lamb_goat</th>\n",
       "      <td>16475.518363</td>\n",
       "      <td>128.356996</td>\n",
       "    </tr>\n",
       "    <tr>\n",
       "      <th>nuts</th>\n",
       "      <td>35.639652</td>\n",
       "      <td>5.969895</td>\n",
       "    </tr>\n",
       "    <tr>\n",
       "      <th>pork</th>\n",
       "      <td>3094.963537</td>\n",
       "      <td>55.632396</td>\n",
       "    </tr>\n",
       "    <tr>\n",
       "      <th>poultry</th>\n",
       "      <td>245.026801</td>\n",
       "      <td>15.653332</td>\n",
       "    </tr>\n",
       "    <tr>\n",
       "      <th>rice</th>\n",
       "      <td>2281.376243</td>\n",
       "      <td>47.763754</td>\n",
       "    </tr>\n",
       "    <tr>\n",
       "      <th>soybeans</th>\n",
       "      <td>0.879882</td>\n",
       "      <td>0.938020</td>\n",
       "    </tr>\n",
       "    <tr>\n",
       "      <th>wheat</th>\n",
       "      <td>71.023937</td>\n",
       "      <td>8.427570</td>\n",
       "    </tr>\n",
       "  </tbody>\n",
       "</table>\n",
       "</div>"
      ],
      "text/plain": [
       "                        var         std\n",
       "food_category                          \n",
       "beef           88748.408132  297.906710\n",
       "dairy          17671.891985  132.935669\n",
       "eggs              21.371819    4.622966\n",
       "fish             921.637349   30.358481\n",
       "lamb_goat      16475.518363  128.356996\n",
       "nuts              35.639652    5.969895\n",
       "pork            3094.963537   55.632396\n",
       "poultry          245.026801   15.653332\n",
       "rice            2281.376243   47.763754\n",
       "soybeans           0.879882    0.938020\n",
       "wheat             71.023937    8.427570"
      ]
     },
     "execution_count": 9,
     "metadata": {},
     "output_type": "execute_result"
    }
   ],
   "source": [
    "# Calculate the variance and standard deviation of co2_emission for each food_category by grouping and aggregating\n",
    "co2_emission_by_category = food_consumption.groupby('food_category')['co2_emission'].agg([np.var, np.std])\n",
    "co2_emission_by_category"
   ]
  },
  {
   "cell_type": "code",
   "execution_count": 10,
   "metadata": {
    "cell_id": "3752839fd5f64f8a976588df1f1186f6",
    "deepnote_cell_height": 436.921875,
    "deepnote_cell_type": "code",
    "deepnote_output_heights": [
     249.984375
    ],
    "deepnote_to_be_reexecuted": false,
    "execution_millis": 288,
    "execution_start": 1656605954275,
    "source_hash": "f3679051",
    "tags": []
   },
   "outputs": [
    {
     "data": {
      "image/png": "[encoded data removed]",
      "text/plain": [
       "<Figure size 432x288 with 1 Axes>"
      ]
     },
     "metadata": {
      "image/png": {
       "height": 248,
       "width": 373
      },
      "needs_background": "light"
     },
     "output_type": "display_data"
    }
   ],
   "source": [
    "# Create a histogram of co2_emission for the beef food_category and show the plot\n",
    "plt.hist(food_consumption[food_consumption.food_category == 'beef']['co2_emission'])\n",
    "\n",
    "# Create a histogram of co2_emission for the eggs food_category and show the plot\n",
    "plt.hist(food_consumption[food_consumption.food_category == 'eggs']['co2_emission'])\n",
    "plt.show()"
   ]
  },
  {
   "cell_type": "markdown",
   "metadata": {
    "cell_id": "6d7ca21c633541558b000d6a3a296e2d",
    "deepnote_cell_type": "text-cell-h3",
    "formattedRanges": [],
    "is_collapsed": false,
    "tags": []
   },
   "source": [
    "### Finding outliers using IQR"
   ]
  },
  {
   "cell_type": "markdown",
   "metadata": {
    "cell_id": "dc35d4d53ffc473ea8353015d87063df",
    "deepnote_cell_height": 111.109375,
    "deepnote_cell_type": "markdown",
    "tags": []
   },
   "source": [
    "Outliers are values that are considered as anomalous in a data set. What is considered abnormal depends on the context of the data, but a usual definition for outliers is: \n",
    "\n",
    "$\\displaystyle{a ; a \\not\\in [Q_1 - 1.5*IQR, Q_3 + 1.5*IQR]}$."
   ]
  },
  {
   "cell_type": "code",
   "execution_count": 11,
   "metadata": {
    "cell_id": "16370cea906743e2937547be4cf11c5c",
    "deepnote_cell_height": 444.515625,
    "deepnote_cell_type": "code",
    "deepnote_output_heights": [
     59.578125
    ],
    "deepnote_to_be_reexecuted": false,
    "execution_millis": 18,
    "execution_start": 1656605954567,
    "source_hash": "a71080a6",
    "tags": []
   },
   "outputs": [
    {
     "data": {
      "text/plain": [
       "country\n",
       "Argentina    2172.4\n",
       "Name: co2_emission, dtype: float64"
      ]
     },
     "execution_count": 11,
     "metadata": {},
     "output_type": "execute_result"
    }
   ],
   "source": [
    "# Calculate the total co2_emission per country by grouping by country and taking the sum of co2_emission\n",
    "# Store the resulting DataFrame as emissions_by_country\n",
    "emissions_by_country = food_consumption.groupby('country')['co2_emission'].sum()\n",
    "\n",
    "# Compute the first and third quartiles of emissions_by_country and store these as q1 and q3\n",
    "q1 = np.quantile(emissions_by_country, 0.25)\n",
    "q3 = np.quantile(emissions_by_country, 0.75)\n",
    "\n",
    "# Calculate the interquartile range of emissions_by_country and store it as iqr\n",
    "iqr = q3 - q1\n",
    "\n",
    "# Calculate the lower and upper cutoffs for outliers of emissions_by_country, and store these as lower and upper\n",
    "lower = q1 - iqr*1.5\n",
    "upper = q3 + iqr*1.5\n",
    "\n",
    "# Subset emissions_by_country to get countries with a total emission greater than the upper cutoff or a total emission less than the lower cutoff\n",
    "emissions_by_country[(emissions_by_country <= lower)|(emissions_by_country >= upper)]"
   ]
  },
  {
   "cell_type": "markdown",
   "metadata": {
    "created_in_deepnote_cell": true,
    "deepnote_cell_type": "markdown",
    "tags": []
   },
   "source": [
    "<a style='text-decoration:none;line-height:16px;display:flex;color:#5B5B62;padding:10px;justify-content:end;' href='https://deepnote.com?utm_source=created-in-deepnote-cell&projectId=a1dd5a00-3cfe-442e-b8d4-76a3901102ce' target=\"_blank\">\n",
    "<img alt='Created in deepnote.com' style='display:inline;max-height:16px;margin:0px;margin-right:7.5px;' src='data:image/svg+xml;base64,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' > </img>\n",
    "Created in <span style='font-weight:600;margin-left:4px;'>Deepnote</span></a>"
   ]
  }
 ],
 "metadata": {
  "deepnote": {},
  "deepnote_execution_queue": [],
  "deepnote_notebook_id": "2ff17e44-7f25-4d19-bc9f-9d1de10387b3",
  "language_info": {
   "name": "python"
  },
  "orig_nbformat": 2
 },
 "nbformat": 4,
 "nbformat_minor": 2
}
