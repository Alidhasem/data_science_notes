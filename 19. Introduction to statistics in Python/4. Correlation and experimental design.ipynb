{
 "cells": [
  {
   "cell_type": "markdown",
   "source": "# Correlation and experimental design",
   "metadata": {
    "formattedRanges": [],
    "cell_id": "d640eff9204b4c2da6ea8b1eb17139ea",
    "tags": [],
    "is_collapsed": false,
    "deepnote_cell_type": "text-cell-h1"
   }
  },
  {
   "cell_type": "markdown",
   "source": "## Correlation",
   "metadata": {
    "formattedRanges": [],
    "cell_id": "5b0c4cc9b96f481e8f7974cedc8b53f9",
    "tags": [],
    "is_collapsed": false,
    "deepnote_cell_type": "text-cell-h2"
   }
  },
  {
   "cell_type": "markdown",
   "source": "If two variables $x$ and $y$ are correlated, then we know value of $y$ knowing the value of $x$ and vice versa. Correlation is a measurement of how strong is a linear relation between $x$ and $y$.",
   "metadata": {
    "cell_id": "0f633e1741b24694aaedbf6556fb1a06",
    "tags": [],
    "deepnote_cell_type": "markdown",
    "deepnote_cell_height": 74.734375
   }
  },
  {
   "cell_type": "markdown",
   "source": "One popular way for measuring correlation is the Pearson product-moment correlation, definded as\n\n$\\displaystyle{r=\\sum_{i=1}^{n}\\frac{(x_i-\\bar{x})(y_i-\\bar{y})}{\\sigma_x \\sigma_{y}}}$.",
   "metadata": {
    "cell_id": "e3f36ce6486740c98b4378b6feb225d9",
    "tags": [],
    "deepnote_cell_type": "markdown",
    "deepnote_cell_height": 115.953125
   }
  },
  {
   "cell_type": "markdown",
   "source": "### Relationships between variables",
   "metadata": {
    "formattedRanges": [],
    "cell_id": "c6167424e79e4e299c4d1b4b526df388",
    "tags": [],
    "is_collapsed": false,
    "deepnote_cell_type": "text-cell-h3"
   }
  },
  {
   "cell_type": "markdown",
   "source": "Scatter plots are useful to visually identifying if there's a correlation between two variables.",
   "metadata": {
    "cell_id": "40a25544f42e491ab9821bfe461296c7",
    "tags": [],
    "deepnote_cell_type": "markdown",
    "deepnote_cell_height": 52.34375
   }
  },
  {
   "cell_type": "markdown",
   "source": "## Correlation caveats",
   "metadata": {
    "formattedRanges": [],
    "cell_id": "f61f33ec0fe84685a92957fbc9bbfae8",
    "tags": [],
    "is_collapsed": false,
    "deepnote_cell_type": "text-cell-h2"
   }
  },
  {
   "cell_type": "markdown",
   "source": "We must avoid to measuring the correlation coefficient blindy, since it has no sense if the relationship between two variables is non-linear.  ",
   "metadata": {
    "cell_id": "d09a84bdaccf4d6aaa308113ae7074c2",
    "tags": [],
    "deepnote_cell_type": "markdown",
    "deepnote_cell_height": 74.734375
   }
  },
  {
   "cell_type": "markdown",
   "source": "Some machine learning algorithms and statistical procedures need variables related lineally. To accomplish this, it could be useful transform one or both variables. For example, using $\\log{x}$ or $\\sqrt{y}$ instead of $x$ and $y$ directlly. ",
   "metadata": {
    "cell_id": "a97dbc9bd3ca49c9b89f87f6a3dd6ab0",
    "tags": [],
    "deepnote_cell_type": "markdown",
    "deepnote_cell_height": 97.109375
   }
  },
  {
   "cell_type": "markdown",
   "source": "Correlation doesn't imply causation. \n\nIf two variables $x$ and $y$ are correlated, it's possible that a third variable is associated with $x$ or $y$ and creating the correlation. A \"hidden\" varible like this is called a confounder and such a correlation like this is called a spurious correlation. ",
   "metadata": {
    "cell_id": "200d3a7721b44ee49f21a1d59824f58c",
    "tags": [],
    "deepnote_cell_type": "markdown",
    "deepnote_cell_height": 133.5
   }
  },
  {
   "cell_type": "markdown",
   "source": "## Design of experiments",
   "metadata": {
    "formattedRanges": [],
    "cell_id": "f48b9968ff544e80a289343eca136d2e",
    "tags": [],
    "is_collapsed": false,
    "deepnote_cell_type": "text-cell-h2"
   }
  },
  {
   "cell_type": "markdown",
   "source": "An experiment is usually conducted to answer a question like \"What is the effect of the treatment (independent variable) in the response (dependent variable)?\".",
   "metadata": {
    "cell_id": "2c13dd5d76204b60a19af5b732d1e87c",
    "tags": [],
    "deepnote_cell_type": "markdown",
    "deepnote_cell_height": 74.734375
   }
  },
  {
   "cell_type": "markdown",
   "source": "In a controlled experiment the study population is divided randomly between two groups: a treatment group and a control group. This technique is called randomized controlled trial and is used to avoid confounding caused by a sistematic diference between groups.  \n\nAnother popular technique is the use of a placebo: a sham treatment with minimal effects, given to the control group. If those administering the treatment don't know which group is the control group, this experiment is called a double-blind trial. ",
   "metadata": {
    "cell_id": "f2037534aedd4367bdd769c7fee64555",
    "tags": [],
    "deepnote_cell_type": "markdown",
    "deepnote_cell_height": 178.265625
   }
  },
  {
   "cell_type": "markdown",
   "source": "In an observational study the study population can't be separated randomly. Those in the treatment group are generally selected because of one or more of their existing characteristics. Therefore, it can't be guaranteed that the control group and the treatment group are comparable, since it's always possible that there's a hidden factor that drives some people to the treatment group. As a consequence, a causal relation cannot be inferred from an observational study, only an association.\n",
   "metadata": {
    "cell_id": "bdc2660ed1da43f9819a75fa4bb05c83",
    "tags": [],
    "owner_user_id": "ef1985d3-6878-4f43-aa7a-40eb37e1c2a1",
    "deepnote_cell_type": "markdown",
    "deepnote_cell_height": 141.890625
   }
  },
  {
   "cell_type": "markdown",
   "source": "In a longitudinal study, the same participants are followed over a period of time to examine the effect of treatment on the response. \n\nOn the other hand, a cross-sectional study is made collecting data from a single snapshot in time, selecting the treatment group based on the characteristics of its elements. ",
   "metadata": {
    "cell_id": "6eb7d8008b334ef4834059942330c8f6",
    "tags": [],
    "deepnote_cell_type": "markdown",
    "deepnote_cell_height": 133.5
   }
  },
  {
   "cell_type": "markdown",
   "source": "<a style='text-decoration:none;line-height:16px;display:flex;color:#5B5B62;padding:10px;justify-content:end;' href='https://deepnote.com?utm_source=created-in-deepnote-cell&projectId=a1dd5a00-3cfe-442e-b8d4-76a3901102ce' target=\"_blank\">\n<img alt='Created in deepnote.com' style='display:inline;max-height:16px;margin:0px;margin-right:7.5px;' src='data:image/svg+xml;base64,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' > </img>\nCreated in <span style='font-weight:600;margin-left:4px;'>Deepnote</span></a>",
   "metadata": {
    "tags": [],
    "created_in_deepnote_cell": true,
    "deepnote_cell_type": "markdown"
   }
  }
 ],
 "nbformat": 4,
 "nbformat_minor": 2,
 "metadata": {
  "orig_nbformat": 2,
  "deepnote": {},
  "deepnote_notebook_id": "2a7d1b13-8d10-46a6-bc43-6aa4ebc1559a",
  "deepnote_execution_queue": []
 }
}