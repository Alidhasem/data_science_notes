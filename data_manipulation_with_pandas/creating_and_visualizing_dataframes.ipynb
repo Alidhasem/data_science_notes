{
 "cells": [
  {
   "cell_type": "markdown",
   "source": "# Creating and visualizing DataFrames ",
   "metadata": {
    "formattedRanges": [],
    "cell_id": "3ca01ab16af647dab5f8c0900d8d9b8d",
    "tags": [],
    "is_collapsed": false,
    "owner_user_id": "ef1985d3-6878-4f43-aa7a-40eb37e1c2a1",
    "deepnote_cell_type": "text-cell-h1"
   }
  },
  {
   "cell_type": "code",
   "metadata": {
    "cell_id": "70f891e17a144ab7b35edb794290a1c9",
    "tags": [],
    "deepnote_to_be_reexecuted": false,
    "source_hash": "91c34228",
    "execution_start": 1654882555112,
    "execution_millis": 99035508,
    "deepnote_cell_type": "code",
    "deepnote_cell_height": 99
   },
   "source": "import pandas as pd\navocados = pd.read_pickle('/work/data_science_notes/3. Data manipulation with pandasw/data/avoplotto.pkl')",
   "execution_count": 1,
   "outputs": []
  },
  {
   "cell_type": "markdown",
   "source": "## Visualizing your data",
   "metadata": {
    "formattedRanges": [],
    "cell_id": "b3c18ee90d2b4c7bbae6c3adb2ca0337",
    "tags": [],
    "is_collapsed": false,
    "deepnote_cell_type": "text-cell-h2"
   }
  },
  {
   "cell_type": "markdown",
   "source": "### Which avocado size is most popular?",
   "metadata": {
    "formattedRanges": [],
    "cell_id": "85443f42fcb04102abfd99f8ecd270ef",
    "tags": [],
    "is_collapsed": false,
    "deepnote_cell_type": "text-cell-h3"
   }
  },
  {
   "cell_type": "code",
   "metadata": {
    "cell_id": "69dec97263324807aae2270b889e0ef1",
    "tags": [],
    "deepnote_to_be_reexecuted": false,
    "source_hash": "dbdd0b46",
    "execution_start": 1654882555272,
    "execution_millis": 251,
    "deepnote_cell_type": "code",
    "deepnote_cell_height": 445.390625
   },
   "source": "# Print the head of the avocados dataset\n# What columns are available?\navocados.head()",
   "execution_count": 2,
   "outputs": [
    {
     "output_type": "execute_result",
     "execution_count": 2,
     "data": {
      "application/vnd.deepnote.dataframe.v3+json": {
       "column_count": 6,
       "row_count": 5,
       "columns": [
        {
         "name": "date",
         "dtype": "object",
         "stats": {
          "unique_count": 5,
          "nan_count": 0,
          "categories": [
           {
            "name": "2015-12-27",
            "count": 1
           },
           {
            "name": "2015-12-20",
            "count": 1
           },
           {
            "name": "3 others",
            "count": 3
           }
          ]
         }
        },
        {
         "name": "type",
         "dtype": "object",
         "stats": {
          "unique_count": 1,
          "nan_count": 0,
          "categories": [
           {
            "name": "conventional",
            "count": 5
           }
          ]
         }
        },
        {
         "name": "year",
         "dtype": "int64",
         "stats": {
          "unique_count": 1,
          "nan_count": 0,
          "min": "2015",
          "max": "2015",
          "histogram": [
           {
            "bin_start": 2014.5,
            "bin_end": 2014.6,
            "count": 0
           },
           {
            "bin_start": 2014.6,
            "bin_end": 2014.7,
            "count": 0
           },
           {
            "bin_start": 2014.7,
            "bin_end": 2014.8,
            "count": 0
           },
           {
            "bin_start": 2014.8,
            "bin_end": 2014.9,
            "count": 0
           },
           {
            "bin_start": 2014.9,
            "bin_end": 2015,
            "count": 0
           },
           {
            "bin_start": 2015,
            "bin_end": 2015.1,
            "count": 5
           },
           {
            "bin_start": 2015.1,
            "bin_end": 2015.2,
            "count": 0
           },
           {
            "bin_start": 2015.2,
            "bin_end": 2015.3,
            "count": 0
           },
           {
            "bin_start": 2015.3,
            "bin_end": 2015.4,
            "count": 0
           },
           {
            "bin_start": 2015.4,
            "bin_end": 2015.5,
            "count": 0
           }
          ]
         }
        },
        {
         "name": "avg_price",
         "dtype": "float64",
         "stats": {
          "unique_count": 5,
          "nan_count": 0,
          "min": "0.89",
          "max": "0.99",
          "histogram": [
           {
            "bin_start": 0.89,
            "bin_end": 0.9,
            "count": 1
           },
           {
            "bin_start": 0.9,
            "bin_end": 0.91,
            "count": 0
           },
           {
            "bin_start": 0.91,
            "bin_end": 0.92,
            "count": 0
           },
           {
            "bin_start": 0.92,
            "bin_end": 0.93,
            "count": 0
           },
           {
            "bin_start": 0.93,
            "bin_end": 0.94,
            "count": 1
           },
           {
            "bin_start": 0.94,
            "bin_end": 0.95,
            "count": 0
           },
           {
            "bin_start": 0.95,
            "bin_end": 0.96,
            "count": 1
           },
           {
            "bin_start": 0.96,
            "bin_end": 0.97,
            "count": 0
           },
           {
            "bin_start": 0.97,
            "bin_end": 0.98,
            "count": 0
           },
           {
            "bin_start": 0.98,
            "bin_end": 0.99,
            "count": 2
           }
          ]
         }
        },
        {
         "name": "size",
         "dtype": "object",
         "stats": {
          "unique_count": 1,
          "nan_count": 0,
          "categories": [
           {
            "name": "small",
            "count": 5
           }
          ]
         }
        },
        {
         "name": "nb_sold",
         "dtype": "float64",
         "stats": {
          "unique_count": 5,
          "nan_count": 0,
          "min": "8094803.56",
          "max": "9855053.66",
          "histogram": [
           {
            "bin_start": 8094803.56,
            "bin_end": 8270828.569999999,
            "count": 1
           },
           {
            "bin_start": 8270828.569999999,
            "bin_end": 8446853.58,
            "count": 0
           },
           {
            "bin_start": 8446853.58,
            "bin_end": 8622878.59,
            "count": 0
           },
           {
            "bin_start": 8622878.59,
            "bin_end": 8798903.6,
            "count": 1
           },
           {
            "bin_start": 8798903.6,
            "bin_end": 8974928.61,
            "count": 0
           },
           {
            "bin_start": 8974928.61,
            "bin_end": 9150953.620000001,
            "count": 0
           },
           {
            "bin_start": 9150953.620000001,
            "bin_end": 9326978.63,
            "count": 0
           },
           {
            "bin_start": 9326978.63,
            "bin_end": 9503003.64,
            "count": 1
           },
           {
            "bin_start": 9503003.64,
            "bin_end": 9679028.65,
            "count": 1
           },
           {
            "bin_start": 9679028.65,
            "bin_end": 9855053.66,
            "count": 1
           }
          ]
         }
        },
        {
         "name": "_deepnote_index_column",
         "dtype": "int64"
        }
       ],
       "rows": [
        {
         "date": "2015-12-27",
         "type": "conventional",
         "year": 2015,
         "avg_price": 0.95,
         "size": "small",
         "nb_sold": 9626901.09,
         "_deepnote_index_column": 0
        },
        {
         "date": "2015-12-20",
         "type": "conventional",
         "year": 2015,
         "avg_price": 0.98,
         "size": "small",
         "nb_sold": 8710021.76,
         "_deepnote_index_column": 1
        },
        {
         "date": "2015-12-13",
         "type": "conventional",
         "year": 2015,
         "avg_price": 0.93,
         "size": "small",
         "nb_sold": 9855053.66,
         "_deepnote_index_column": 2
        },
        {
         "date": "2015-12-06",
         "type": "conventional",
         "year": 2015,
         "avg_price": 0.89,
         "size": "small",
         "nb_sold": 9405464.36,
         "_deepnote_index_column": 3
        },
        {
         "date": "2015-11-29",
         "type": "conventional",
         "year": 2015,
         "avg_price": 0.99,
         "size": "small",
         "nb_sold": 8094803.56,
         "_deepnote_index_column": 4
        }
       ]
      },
      "text/plain": "         date          type  year  avg_price   size     nb_sold\n0  2015-12-27  conventional  2015       0.95  small  9626901.09\n1  2015-12-20  conventional  2015       0.98  small  8710021.76\n2  2015-12-13  conventional  2015       0.93  small  9855053.66\n3  2015-12-06  conventional  2015       0.89  small  9405464.36\n4  2015-11-29  conventional  2015       0.99  small  8094803.56",
      "text/html": "<div>\n<style scoped>\n    .dataframe tbody tr th:only-of-type {\n        vertical-align: middle;\n    }\n\n    .dataframe tbody tr th {\n        vertical-align: top;\n    }\n\n    .dataframe thead th {\n        text-align: right;\n    }\n</style>\n<table border=\"1\" class=\"dataframe\">\n  <thead>\n    <tr style=\"text-align: right;\">\n      <th></th>\n      <th>date</th>\n      <th>type</th>\n      <th>year</th>\n      <th>avg_price</th>\n      <th>size</th>\n      <th>nb_sold</th>\n    </tr>\n  </thead>\n  <tbody>\n    <tr>\n      <th>0</th>\n      <td>2015-12-27</td>\n      <td>conventional</td>\n      <td>2015</td>\n      <td>0.95</td>\n      <td>small</td>\n      <td>9626901.09</td>\n    </tr>\n    <tr>\n      <th>1</th>\n      <td>2015-12-20</td>\n      <td>conventional</td>\n      <td>2015</td>\n      <td>0.98</td>\n      <td>small</td>\n      <td>8710021.76</td>\n    </tr>\n    <tr>\n      <th>2</th>\n      <td>2015-12-13</td>\n      <td>conventional</td>\n      <td>2015</td>\n      <td>0.93</td>\n      <td>small</td>\n      <td>9855053.66</td>\n    </tr>\n    <tr>\n      <th>3</th>\n      <td>2015-12-06</td>\n      <td>conventional</td>\n      <td>2015</td>\n      <td>0.89</td>\n      <td>small</td>\n      <td>9405464.36</td>\n    </tr>\n    <tr>\n      <th>4</th>\n      <td>2015-11-29</td>\n      <td>conventional</td>\n      <td>2015</td>\n      <td>0.99</td>\n      <td>small</td>\n      <td>8094803.56</td>\n    </tr>\n  </tbody>\n</table>\n</div>"
     },
     "metadata": {}
    }
   ]
  },
  {
   "cell_type": "code",
   "metadata": {
    "cell_id": "f1a2c0fad4c649cf8301a0cc1feb5ad5",
    "tags": [],
    "deepnote_to_be_reexecuted": false,
    "source_hash": "9574513",
    "execution_start": 1654882555611,
    "execution_millis": 66,
    "deepnote_cell_type": "code",
    "deepnote_cell_height": 231,
    "deepnote_output_heights": [
     98
    ]
   },
   "source": "# For each avocado size group, calculate the total number sold, storing as nb_sold_by_size\nnb_sold_by_size = avocados.groupby('size').nb_sold.sum()\nnb_sold_by_size",
   "execution_count": 3,
   "outputs": [
    {
     "output_type": "execute_result",
     "execution_count": 3,
     "data": {
      "text/plain": "size\nextra_large    1.561752e+08\nlarge          2.015012e+09\nsmall          2.054936e+09\nName: nb_sold, dtype: float64"
     },
     "metadata": {}
    }
   ]
  },
  {
   "cell_type": "code",
   "metadata": {
    "cell_id": "523edc3c4f354ed9a9d294a88824bb02",
    "tags": [],
    "deepnote_to_be_reexecuted": false,
    "source_hash": "bb4c91bb",
    "execution_start": 1654882555780,
    "execution_millis": 7147,
    "deepnote_cell_type": "code",
    "deepnote_cell_height": 473,
    "deepnote_output_heights": [
     322
    ]
   },
   "source": "# Create a bar plot of the number of avocados sold by size\nimport matplotlib.pyplot as plt\nnb_sold_by_size.plot(kind='bar')\nplt.show()",
   "execution_count": 4,
   "outputs": [
    {
     "data": {
      "text/plain": "<Figure size 432x288 with 1 Axes>",
      "image/png": "[encoded data removed]"
     },
     "metadata": {
      "needs_background": "light",
      "image/png": {
       "width": 378,
       "height": 320
      }
     },
     "output_type": "display_data"
    }
   ]
  },
  {
   "cell_type": "markdown",
   "source": "### Changes in sales over time ",
   "metadata": {
    "formattedRanges": [],
    "cell_id": "2230fb431ea4401d9d33d9ea26b4fe44",
    "tags": [],
    "is_collapsed": false,
    "deepnote_cell_type": "text-cell-h3"
   }
  },
  {
   "cell_type": "markdown",
   "source": "Line plots are designed to visualize the relationship between two numeric variables, where each data values is connected to the next one. \n\nThey are especially useful for visualizing the change in a number over time since each time point is naturally connected to the next time point. ",
   "metadata": {
    "cell_id": "916f0607699d4e22aa32decec3af1b8d",
    "tags": [],
    "deepnote_cell_type": "markdown",
    "deepnote_cell_height": 133.59375
   }
  },
  {
   "cell_type": "code",
   "metadata": {
    "cell_id": "7129a0e26d6148e496e453e1fe050c5a",
    "tags": [],
    "deepnote_to_be_reexecuted": false,
    "source_hash": "63fb7d64",
    "execution_start": 1654882562965,
    "execution_millis": 0,
    "deepnote_table_state": {
     "pageSize": 10,
     "pageIndex": 27,
     "filters": [],
     "sortBy": []
    },
    "deepnote_table_loading": false,
    "deepnote_cell_type": "code",
    "deepnote_cell_height": 117
   },
   "source": "# Get the total number of avocados sold on each date\nnb_sold_by_date = avocados.groupby('date').nb_sold.sum()\n",
   "execution_count": 5,
   "outputs": []
  },
  {
   "cell_type": "code",
   "metadata": {
    "cell_id": "0e8756deb579498e93a408b05fd4848a",
    "tags": [],
    "deepnote_to_be_reexecuted": false,
    "source_hash": "27f22948",
    "execution_start": 1654882563004,
    "execution_millis": 721,
    "deepnote_cell_type": "code",
    "deepnote_cell_height": 474,
    "deepnote_output_heights": [
     323
    ]
   },
   "source": "# Create a line plot of the number of avocados sold\nnb_sold_by_date.plot(kind='line')\nplt.xticks(rotation=90)\nplt.show()",
   "execution_count": 6,
   "outputs": [
    {
     "data": {
      "text/plain": "<Figure size 432x288 with 1 Axes>",
      "image/png": "[encoded data removed]"
     },
     "metadata": {
      "needs_background": "light",
      "image/png": {
       "width": 372,
       "height": 321
      }
     },
     "output_type": "display_data"
    }
   ]
  },
  {
   "cell_type": "markdown",
   "source": "### Avocado supply and demand",
   "metadata": {
    "formattedRanges": [],
    "cell_id": "b0b17bcc8db5430ebe507f6944b92da7",
    "tags": [],
    "is_collapsed": false,
    "deepnote_cell_type": "text-cell-h3"
   }
  },
  {
   "cell_type": "code",
   "metadata": {
    "cell_id": "a4eb9cdbaf9046b187d8091a5a47a47b",
    "tags": [],
    "deepnote_to_be_reexecuted": false,
    "source_hash": "b6374ce5",
    "execution_start": 1654882563801,
    "execution_millis": 829,
    "deepnote_cell_type": "code",
    "deepnote_cell_height": 432,
    "deepnote_output_heights": [
     281
    ]
   },
   "source": "# Create a scatter plot with nb_sold on the x-axis and avg_price on the y-axis \n# Title it \"Number of avocados sold vs. average price\"\navocados.plot(x='nb_sold', y='avg_price', kind='scatter', title='Number of avocados sold vs. average price')\nplt.show()",
   "execution_count": 7,
   "outputs": [
    {
     "data": {
      "text/plain": "<Figure size 432x288 with 1 Axes>",
      "image/png": "[encoded data removed]"
     },
     "metadata": {
      "needs_background": "light",
      "image/png": {
       "width": 387,
       "height": 279
      }
     },
     "output_type": "display_data"
    }
   ]
  },
  {
   "cell_type": "markdown",
   "source": "### Price of conventional vs. organic avocados",
   "metadata": {
    "formattedRanges": [],
    "cell_id": "3c6e849bfea6443391ed8b0ef104d0d4",
    "tags": [],
    "is_collapsed": false,
    "deepnote_cell_type": "text-cell-h3"
   }
  },
  {
   "cell_type": "code",
   "metadata": {
    "cell_id": "8ebce106d74c4d03a3bf4e00cdce306a",
    "tags": [],
    "deepnote_to_be_reexecuted": false,
    "source_hash": "40110cbf",
    "execution_start": 1654882564640,
    "execution_millis": 1193,
    "deepnote_cell_type": "code",
    "deepnote_cell_height": 582.1875,
    "deepnote_output_heights": [
     21.1875,
     253
    ]
   },
   "source": "# Subset avocados for the conventional type, and the average price column \n# Create a histogram\navocados[avocados.type == 'conventional'].avg_price.hist(bins=20, alpha=0.5)\n\n# Create a histogram of avg_price for organic type avocados\n# Modify your code to adjust the transparency of both histograms to 0.5 to see how much overlap there is between the two distributions\n# Modify your code to use 20 bins in both histograms\navocados[avocados.type == 'organic'].avg_price.hist(bins=20, alpha=0.5)\n\n# Add a legend to your plot, with the names \"conventional\" and \"organic\"\nplt.legend(['Conventional', 'Organic'])",
   "execution_count": 8,
   "outputs": [
    {
     "output_type": "execute_result",
     "execution_count": 8,
     "data": {
      "text/plain": "<matplotlib.legend.Legend at 0x7f00df5559d0>"
     },
     "metadata": {}
    },
    {
     "data": {
      "text/plain": "<Figure size 432x288 with 1 Axes>",
      "image/png": "[encoded data removed]"
     },
     "metadata": {
      "needs_background": "light",
      "image/png": {
       "width": 375,
       "height": 251
      }
     },
     "output_type": "display_data"
    }
   ]
  },
  {
   "cell_type": "markdown",
   "source": "## Missing values",
   "metadata": {
    "formattedRanges": [],
    "cell_id": "bf9008c154264369b1a15f9fb9e51b55",
    "tags": [],
    "is_collapsed": false,
    "deepnote_cell_type": "text-cell-h2"
   }
  },
  {
   "cell_type": "markdown",
   "source": "### Finding missing values",
   "metadata": {
    "formattedRanges": [],
    "cell_id": "bae75b39159844549ed2f12f17a42798",
    "tags": [],
    "is_collapsed": false,
    "deepnote_cell_type": "text-cell-h3"
   }
  },
  {
   "cell_type": "markdown",
   "source": "Take care of missing values is important. \n\nSome functions ignore missing data by default, but that's not always the behavior you might want. \n\nSome functions can't handle missing values at all, so these values need to be taken care of before you can use them.",
   "metadata": {
    "cell_id": "de1028705ef94d38ae3c77a366440a54",
    "tags": [],
    "deepnote_cell_type": "markdown",
    "deepnote_cell_height": 147.59375
   }
  },
  {
   "cell_type": "code",
   "metadata": {
    "cell_id": "1551964130ac488b85f8e15dfb86f5c0",
    "tags": [],
    "deepnote_to_be_reexecuted": false,
    "source_hash": "9ce7b6a9",
    "execution_start": 1654882565904,
    "execution_millis": 192,
    "deepnote_cell_type": "code",
    "deepnote_cell_height": 427.390625
   },
   "source": "avocados_2016 = pd.read_csv('/work/data_science_notes/3. Data manipulation with pandasw/data/avocados_2016.csv', index_col=0)\navocados_2016.head() ",
   "execution_count": 9,
   "outputs": [
    {
     "output_type": "execute_result",
     "execution_count": 9,
     "data": {
      "application/vnd.deepnote.dataframe.v3+json": {
       "column_count": 10,
       "row_count": 5,
       "columns": [
        {
         "name": "date",
         "dtype": "object",
         "stats": {
          "unique_count": 5,
          "nan_count": 0,
          "categories": [
           {
            "name": "2016-12-25",
            "count": 1
           },
           {
            "name": "2016-12-18",
            "count": 1
           },
           {
            "name": "3 others",
            "count": 3
           }
          ]
         }
        },
        {
         "name": "avg_price",
         "dtype": "float64",
         "stats": {
          "unique_count": 4,
          "nan_count": 0,
          "min": "0.96",
          "max": "1.21",
          "histogram": [
           {
            "bin_start": 0.96,
            "bin_end": 0.985,
            "count": 2
           },
           {
            "bin_start": 0.985,
            "bin_end": 1.01,
            "count": 2
           },
           {
            "bin_start": 1.01,
            "bin_end": 1.035,
            "count": 0
           },
           {
            "bin_start": 1.035,
            "bin_end": 1.06,
            "count": 0
           },
           {
            "bin_start": 1.06,
            "bin_end": 1.085,
            "count": 0
           },
           {
            "bin_start": 1.085,
            "bin_end": 1.1099999999999999,
            "count": 0
           },
           {
            "bin_start": 1.1099999999999999,
            "bin_end": 1.135,
            "count": 0
           },
           {
            "bin_start": 1.135,
            "bin_end": 1.16,
            "count": 0
           },
           {
            "bin_start": 1.16,
            "bin_end": 1.185,
            "count": 0
           },
           {
            "bin_start": 1.185,
            "bin_end": 1.21,
            "count": 1
           }
          ]
         }
        },
        {
         "name": "total_sold",
         "dtype": "float64",
         "stats": {
          "unique_count": 5,
          "nan_count": 0,
          "min": "22923062.65",
          "max": "31621221.9",
          "histogram": [
           {
            "bin_start": 22923062.65,
            "bin_end": 23792878.575,
            "count": 1
           },
           {
            "bin_start": 23792878.575,
            "bin_end": 24662694.5,
            "count": 0
           },
           {
            "bin_start": 24662694.5,
            "bin_end": 25532510.424999997,
            "count": 0
           },
           {
            "bin_start": 25532510.424999997,
            "bin_end": 26402326.349999998,
            "count": 0
           },
           {
            "bin_start": 26402326.349999998,
            "bin_end": 27272142.275,
            "count": 0
           },
           {
            "bin_start": 27272142.275,
            "bin_end": 28141958.2,
            "count": 0
           },
           {
            "bin_start": 28141958.2,
            "bin_end": 29011774.125,
            "count": 0
           },
           {
            "bin_start": 29011774.125,
            "bin_end": 29881590.049999997,
            "count": 1
           },
           {
            "bin_start": 29881590.049999997,
            "bin_end": 30751405.974999998,
            "count": 2
           },
           {
            "bin_start": 30751405.974999998,
            "bin_end": 31621221.9,
            "count": 1
           }
          ]
         }
        },
        {
         "name": "small_sold",
         "dtype": "float64",
         "stats": {
          "unique_count": 5,
          "nan_count": 0,
          "min": "7891487.94",
          "max": "11043350.9",
          "histogram": [
           {
            "bin_start": 7891487.94,
            "bin_end": 8206674.2360000005,
            "count": 1
           },
           {
            "bin_start": 8206674.2360000005,
            "bin_end": 8521860.532,
            "count": 0
           },
           {
            "bin_start": 8521860.532,
            "bin_end": 8837046.828,
            "count": 0
           },
           {
            "bin_start": 8837046.828,
            "bin_end": 9152233.124,
            "count": 1
           },
           {
            "bin_start": 9152233.124,
            "bin_end": 9467419.42,
            "count": 2
           },
           {
            "bin_start": 9467419.42,
            "bin_end": 9782605.716,
            "count": 0
           },
           {
            "bin_start": 9782605.716,
            "bin_end": 10097792.012,
            "count": 0
           },
           {
            "bin_start": 10097792.012,
            "bin_end": 10412978.308,
            "count": 0
           },
           {
            "bin_start": 10412978.308,
            "bin_end": 10728164.604,
            "count": 0
           },
           {
            "bin_start": 10728164.604,
            "bin_end": 11043350.9,
            "count": 1
           }
          ]
         }
        },
        {
         "name": "large_sold",
         "dtype": "float64",
         "stats": {
          "unique_count": 4,
          "nan_count": 1,
          "min": "7337341.77",
          "max": "10339168.2",
          "histogram": [
           {
            "bin_start": 7337341.77,
            "bin_end": 7637524.413,
            "count": 1
           },
           {
            "bin_start": 7637524.413,
            "bin_end": 7937707.056,
            "count": 0
           },
           {
            "bin_start": 7937707.056,
            "bin_end": 8237889.698999999,
            "count": 0
           },
           {
            "bin_start": 8237889.698999999,
            "bin_end": 8538072.342,
            "count": 0
           },
           {
            "bin_start": 8538072.342,
            "bin_end": 8838254.985,
            "count": 0
           },
           {
            "bin_start": 8838254.985,
            "bin_end": 9138437.627999999,
            "count": 0
           },
           {
            "bin_start": 9138437.627999999,
            "bin_end": 9438620.271,
            "count": 0
           },
           {
            "bin_start": 9438620.271,
            "bin_end": 9738802.913999999,
            "count": 0
           },
           {
            "bin_start": 9738802.913999999,
            "bin_end": 10038985.557,
            "count": 1
           },
           {
            "bin_start": 10038985.557,
            "bin_end": 10339168.2,
            "count": 2
           }
          ]
         }
        },
        {
         "name": "xl_sold",
         "dtype": "float64",
         "stats": {
          "unique_count": 4,
          "nan_count": 1,
          "min": "403047.93",
          "max": "541972.42",
          "histogram": [
           {
            "bin_start": 403047.93,
            "bin_end": 416940.379,
            "count": 1
           },
           {
            "bin_start": 416940.379,
            "bin_end": 430832.828,
            "count": 2
           },
           {
            "bin_start": 430832.828,
            "bin_end": 444725.277,
            "count": 0
           },
           {
            "bin_start": 444725.277,
            "bin_end": 458617.726,
            "count": 0
           },
           {
            "bin_start": 458617.726,
            "bin_end": 472510.17500000005,
            "count": 0
           },
           {
            "bin_start": 472510.17500000005,
            "bin_end": 486402.624,
            "count": 0
           },
           {
            "bin_start": 486402.624,
            "bin_end": 500295.07300000003,
            "count": 0
           },
           {
            "bin_start": 500295.07300000003,
            "bin_end": 514187.522,
            "count": 0
           },
           {
            "bin_start": 514187.522,
            "bin_end": 528079.971,
            "count": 0
           },
           {
            "bin_start": 528079.971,
            "bin_end": 541972.42,
            "count": 1
           }
          ]
         }
        },
        {
         "name": "total_bags_sold",
         "dtype": "float64",
         "stats": {
          "unique_count": 5,
          "nan_count": 0,
          "min": "7349757.04",
          "max": "10713276.64",
          "histogram": [
           {
            "bin_start": 7349757.04,
            "bin_end": 7686109,
            "count": 1
           },
           {
            "bin_start": 7686109,
            "bin_end": 8022460.96,
            "count": 0
           },
           {
            "bin_start": 8022460.96,
            "bin_end": 8358812.92,
            "count": 0
           },
           {
            "bin_start": 8358812.92,
            "bin_end": 8695164.88,
            "count": 0
           },
           {
            "bin_start": 8695164.88,
            "bin_end": 9031516.84,
            "count": 0
           },
           {
            "bin_start": 9031516.84,
            "bin_end": 9367868.8,
            "count": 0
           },
           {
            "bin_start": 9367868.8,
            "bin_end": 9704220.760000002,
            "count": 1
           },
           {
            "bin_start": 9704220.760000002,
            "bin_end": 10040572.72,
            "count": 0
           },
           {
            "bin_start": 10040572.72,
            "bin_end": 10376924.68,
            "count": 2
           },
           {
            "bin_start": 10376924.68,
            "bin_end": 10713276.64,
            "count": 1
           }
          ]
         }
        },
        {
         "name": "small_bags_sold",
         "dtype": "float64",
         "stats": {
          "unique_count": 5,
          "nan_count": 0,
          "min": "5691266.56",
          "max": "8149438.75",
          "histogram": [
           {
            "bin_start": 5691266.56,
            "bin_end": 5937083.778999999,
            "count": 1
           },
           {
            "bin_start": 5937083.778999999,
            "bin_end": 6182900.998,
            "count": 0
           },
           {
            "bin_start": 6182900.998,
            "bin_end": 6428718.217,
            "count": 0
           },
           {
            "bin_start": 6428718.217,
            "bin_end": 6674535.436,
            "count": 0
           },
           {
            "bin_start": 6674535.436,
            "bin_end": 6920352.654999999,
            "count": 0
           },
           {
            "bin_start": 6920352.654999999,
            "bin_end": 7166169.874,
            "count": 1
           },
           {
            "bin_start": 7166169.874,
            "bin_end": 7411987.093,
            "count": 1
           },
           {
            "bin_start": 7411987.093,
            "bin_end": 7657804.312,
            "count": 0
           },
           {
            "bin_start": 7657804.312,
            "bin_end": 7903621.5309999995,
            "count": 1
           },
           {
            "bin_start": 7903621.5309999995,
            "bin_end": 8149438.75,
            "count": 1
           }
          ]
         }
        },
        {
         "name": "large_bags_sold",
         "dtype": "float64",
         "stats": {
          "unique_count": 5,
          "nan_count": 0,
          "min": "1609867.2",
          "max": "2988504.98",
          "histogram": [
           {
            "bin_start": 1609867.2,
            "bin_end": 1747730.978,
            "count": 1
           },
           {
            "bin_start": 1747730.978,
            "bin_end": 1885594.756,
            "count": 0
           },
           {
            "bin_start": 1885594.756,
            "bin_end": 2023458.534,
            "count": 0
           },
           {
            "bin_start": 2023458.534,
            "bin_end": 2161322.312,
            "count": 0
           },
           {
            "bin_start": 2161322.312,
            "bin_end": 2299186.09,
            "count": 0
           },
           {
            "bin_start": 2299186.09,
            "bin_end": 2437049.868,
            "count": 2
           },
           {
            "bin_start": 2437049.868,
            "bin_end": 2574913.6459999997,
            "count": 1
           },
           {
            "bin_start": 2574913.6459999997,
            "bin_end": 2712777.4239999996,
            "count": 0
           },
           {
            "bin_start": 2712777.4239999996,
            "bin_end": 2850641.2019999996,
            "count": 0
           },
           {
            "bin_start": 2850641.2019999996,
            "bin_end": 2988504.98,
            "count": 1
           }
          ]
         }
        },
        {
         "name": "xl_bags_sold",
         "dtype": "float64",
         "stats": {
          "unique_count": 5,
          "nan_count": 0,
          "min": "48623.28",
          "max": "94011.78",
          "histogram": [
           {
            "bin_start": 48623.28,
            "bin_end": 53162.13,
            "count": 1
           },
           {
            "bin_start": 53162.13,
            "bin_end": 57700.979999999996,
            "count": 0
           },
           {
            "bin_start": 57700.979999999996,
            "bin_end": 62239.83,
            "count": 0
           },
           {
            "bin_start": 62239.83,
            "bin_end": 66778.68,
            "count": 1
           },
           {
            "bin_start": 66778.68,
            "bin_end": 71317.53,
            "count": 0
           },
           {
            "bin_start": 71317.53,
            "bin_end": 75856.38,
            "count": 1
           },
           {
            "bin_start": 75856.38,
            "bin_end": 80395.23000000001,
            "count": 0
           },
           {
            "bin_start": 80395.23000000001,
            "bin_end": 84934.08,
            "count": 1
           },
           {
            "bin_start": 84934.08,
            "bin_end": 89472.93,
            "count": 0
           },
           {
            "bin_start": 89472.93,
            "bin_end": 94011.78,
            "count": 1
           }
          ]
         }
        },
        {
         "name": "_deepnote_index_column",
         "dtype": "int64"
        }
       ],
       "rows": [
        {
         "date": "2016-12-25",
         "avg_price": 1,
         "total_sold": 30287853.7,
         "small_sold": 9255125.2,
         "large_sold": 10282925.61,
         "xl_sold": 541972.42,
         "total_bags_sold": 10207830.47,
         "small_bags_sold": 7709584.33,
         "large_bags_sold": 2417144.92,
         "xl_bags_sold": 81101.22,
         "_deepnote_index_column": 0
        },
        {
         "date": "2016-12-18",
         "avg_price": 0.96,
         "total_sold": 29583882.61,
         "small_sold": 9394065.91,
         "large_sold": 10339168.2,
         "xl_sold": 427872.42,
         "total_bags_sold": 9422776.08,
         "small_bags_sold": 6970320.34,
         "large_bags_sold": 2358443.96,
         "xl_bags_sold": 94011.78,
         "_deepnote_index_column": 1
        },
        {
         "date": "2016-12-11",
         "avg_price": 0.98,
         "total_sold": 30093540.7,
         "small_sold": 9009996.11,
         "large_sold": "nan",
         "xl_sold": 403047.93,
         "total_bags_sold": 10713276.64,
         "small_bags_sold": 8149438.75,
         "large_bags_sold": 2490495.07,
         "xl_bags_sold": 73342.82,
         "_deepnote_index_column": 2
        },
        {
         "date": "2016-12-04",
         "avg_price": 1,
         "total_sold": 31621221.9,
         "small_sold": 11043350.9,
         "large_sold": 9908982.97,
         "xl_sold": 428009.84,
         "total_bags_sold": 10240878.19,
         "small_bags_sold": 7187022.58,
         "large_bags_sold": 2988504.98,
         "xl_bags_sold": 65350.63,
         "_deepnote_index_column": 3
        },
        {
         "date": "2016-11-27",
         "avg_price": 1.21,
         "total_sold": 22923062.65,
         "small_sold": 7891487.94,
         "large_sold": 7337341.77,
         "xl_sold": "nan",
         "total_bags_sold": 7349757.04,
         "small_bags_sold": 5691266.56,
         "large_bags_sold": 1609867.2,
         "xl_bags_sold": 48623.28,
         "_deepnote_index_column": 4
        }
       ]
      },
      "text/plain": "         date  avg_price   total_sold   small_sold   large_sold    xl_sold  \\\n0  2016-12-25       1.00  30287853.70   9255125.20  10282925.61  541972.42   \n1  2016-12-18       0.96  29583882.61   9394065.91  10339168.20  427872.42   \n2  2016-12-11       0.98  30093540.70   9009996.11          NaN  403047.93   \n3  2016-12-04       1.00  31621221.90  11043350.90   9908982.97  428009.84   \n4  2016-11-27       1.21  22923062.65   7891487.94   7337341.77        NaN   \n\n   total_bags_sold  small_bags_sold  large_bags_sold  xl_bags_sold  \n0      10207830.47       7709584.33       2417144.92      81101.22  \n1       9422776.08       6970320.34       2358443.96      94011.78  \n2      10713276.64       8149438.75       2490495.07      73342.82  \n3      10240878.19       7187022.58       2988504.98      65350.63  \n4       7349757.04       5691266.56       1609867.20      48623.28  ",
      "text/html": "<div>\n<style scoped>\n    .dataframe tbody tr th:only-of-type {\n        vertical-align: middle;\n    }\n\n    .dataframe tbody tr th {\n        vertical-align: top;\n    }\n\n    .dataframe thead th {\n        text-align: right;\n    }\n</style>\n<table border=\"1\" class=\"dataframe\">\n  <thead>\n    <tr style=\"text-align: right;\">\n      <th></th>\n      <th>date</th>\n      <th>avg_price</th>\n      <th>total_sold</th>\n      <th>small_sold</th>\n      <th>large_sold</th>\n      <th>xl_sold</th>\n      <th>total_bags_sold</th>\n      <th>small_bags_sold</th>\n      <th>large_bags_sold</th>\n      <th>xl_bags_sold</th>\n    </tr>\n  </thead>\n  <tbody>\n    <tr>\n      <th>0</th>\n      <td>2016-12-25</td>\n      <td>1.00</td>\n      <td>30287853.70</td>\n      <td>9255125.20</td>\n      <td>10282925.61</td>\n      <td>541972.42</td>\n      <td>10207830.47</td>\n      <td>7709584.33</td>\n      <td>2417144.92</td>\n      <td>81101.22</td>\n    </tr>\n    <tr>\n      <th>1</th>\n      <td>2016-12-18</td>\n      <td>0.96</td>\n      <td>29583882.61</td>\n      <td>9394065.91</td>\n      <td>10339168.20</td>\n      <td>427872.42</td>\n      <td>9422776.08</td>\n      <td>6970320.34</td>\n      <td>2358443.96</td>\n      <td>94011.78</td>\n    </tr>\n    <tr>\n      <th>2</th>\n      <td>2016-12-11</td>\n      <td>0.98</td>\n      <td>30093540.70</td>\n      <td>9009996.11</td>\n      <td>NaN</td>\n      <td>403047.93</td>\n      <td>10713276.64</td>\n      <td>8149438.75</td>\n      <td>2490495.07</td>\n      <td>73342.82</td>\n    </tr>\n    <tr>\n      <th>3</th>\n      <td>2016-12-04</td>\n      <td>1.00</td>\n      <td>31621221.90</td>\n      <td>11043350.90</td>\n      <td>9908982.97</td>\n      <td>428009.84</td>\n      <td>10240878.19</td>\n      <td>7187022.58</td>\n      <td>2988504.98</td>\n      <td>65350.63</td>\n    </tr>\n    <tr>\n      <th>4</th>\n      <td>2016-11-27</td>\n      <td>1.21</td>\n      <td>22923062.65</td>\n      <td>7891487.94</td>\n      <td>7337341.77</td>\n      <td>NaN</td>\n      <td>7349757.04</td>\n      <td>5691266.56</td>\n      <td>1609867.20</td>\n      <td>48623.28</td>\n    </tr>\n  </tbody>\n</table>\n</div>"
     },
     "metadata": {}
    }
   ]
  },
  {
   "cell_type": "code",
   "metadata": {
    "cell_id": "68e3543a716544fea026734cadcbf032",
    "tags": [],
    "deepnote_to_be_reexecuted": false,
    "source_hash": "32223cc2",
    "execution_start": 1654882566118,
    "execution_millis": 293,
    "deepnote_table_state": {
     "pageSize": 10,
     "pageIndex": 0,
     "filters": [],
     "sortBy": []
    },
    "deepnote_table_loading": false,
    "deepnote_cell_type": "code",
    "deepnote_cell_height": 632.390625
   },
   "source": "# Print a DataFrame that shows whether each value in avocados_2016 is missing or not\navocados_2016.isna()",
   "execution_count": 10,
   "outputs": [
    {
     "output_type": "execute_result",
     "execution_count": 10,
     "data": {
      "application/vnd.deepnote.dataframe.v3+json": {
       "column_count": 10,
       "row_count": 52,
       "columns": [
        {
         "name": "date",
         "dtype": "bool",
         "stats": {
          "unique_count": 1,
          "nan_count": 0,
          "categories": [
           {
            "name": "False",
            "count": 52
           }
          ]
         }
        },
        {
         "name": "avg_price",
         "dtype": "bool",
         "stats": {
          "unique_count": 1,
          "nan_count": 0,
          "categories": [
           {
            "name": "False",
            "count": 52
           }
          ]
         }
        },
        {
         "name": "total_sold",
         "dtype": "bool",
         "stats": {
          "unique_count": 1,
          "nan_count": 0,
          "categories": [
           {
            "name": "False",
            "count": 52
           }
          ]
         }
        },
        {
         "name": "small_sold",
         "dtype": "bool",
         "stats": {
          "unique_count": 2,
          "nan_count": 0,
          "categories": [
           {
            "name": "False",
            "count": 46
           },
           {
            "name": "True",
            "count": 6
           }
          ]
         }
        },
        {
         "name": "large_sold",
         "dtype": "bool",
         "stats": {
          "unique_count": 2,
          "nan_count": 0,
          "categories": [
           {
            "name": "False",
            "count": 46
           },
           {
            "name": "True",
            "count": 6
           }
          ]
         }
        },
        {
         "name": "xl_sold",
         "dtype": "bool",
         "stats": {
          "unique_count": 2,
          "nan_count": 0,
          "categories": [
           {
            "name": "False",
            "count": 48
           },
           {
            "name": "True",
            "count": 4
           }
          ]
         }
        },
        {
         "name": "total_bags_sold",
         "dtype": "bool",
         "stats": {
          "unique_count": 1,
          "nan_count": 0,
          "categories": [
           {
            "name": "False",
            "count": 52
           }
          ]
         }
        },
        {
         "name": "small_bags_sold",
         "dtype": "bool",
         "stats": {
          "unique_count": 1,
          "nan_count": 0,
          "categories": [
           {
            "name": "False",
            "count": 52
           }
          ]
         }
        },
        {
         "name": "large_bags_sold",
         "dtype": "bool",
         "stats": {
          "unique_count": 1,
          "nan_count": 0,
          "categories": [
           {
            "name": "False",
            "count": 52
           }
          ]
         }
        },
        {
         "name": "xl_bags_sold",
         "dtype": "bool",
         "stats": {
          "unique_count": 1,
          "nan_count": 0,
          "categories": [
           {
            "name": "False",
            "count": 52
           }
          ]
         }
        },
        {
         "name": "_deepnote_index_column",
         "dtype": "int64"
        }
       ],
       "rows": [
        {
         "date": false,
         "avg_price": false,
         "total_sold": false,
         "small_sold": false,
         "large_sold": false,
         "xl_sold": false,
         "total_bags_sold": false,
         "small_bags_sold": false,
         "large_bags_sold": false,
         "xl_bags_sold": false,
         "_deepnote_index_column": 0
        },
        {
         "date": false,
         "avg_price": false,
         "total_sold": false,
         "small_sold": false,
         "large_sold": false,
         "xl_sold": false,
         "total_bags_sold": false,
         "small_bags_sold": false,
         "large_bags_sold": false,
         "xl_bags_sold": false,
         "_deepnote_index_column": 1
        },
        {
         "date": false,
         "avg_price": false,
         "total_sold": false,
         "small_sold": false,
         "large_sold": true,
         "xl_sold": false,
         "total_bags_sold": false,
         "small_bags_sold": false,
         "large_bags_sold": false,
         "xl_bags_sold": false,
         "_deepnote_index_column": 2
        },
        {
         "date": false,
         "avg_price": false,
         "total_sold": false,
         "small_sold": false,
         "large_sold": false,
         "xl_sold": false,
         "total_bags_sold": false,
         "small_bags_sold": false,
         "large_bags_sold": false,
         "xl_bags_sold": false,
         "_deepnote_index_column": 3
        },
        {
         "date": false,
         "avg_price": false,
         "total_sold": false,
         "small_sold": false,
         "large_sold": false,
         "xl_sold": true,
         "total_bags_sold": false,
         "small_bags_sold": false,
         "large_bags_sold": false,
         "xl_bags_sold": false,
         "_deepnote_index_column": 4
        },
        {
         "date": false,
         "avg_price": false,
         "total_sold": false,
         "small_sold": true,
         "large_sold": false,
         "xl_sold": false,
         "total_bags_sold": false,
         "small_bags_sold": false,
         "large_bags_sold": false,
         "xl_bags_sold": false,
         "_deepnote_index_column": 5
        },
        {
         "date": false,
         "avg_price": false,
         "total_sold": false,
         "small_sold": false,
         "large_sold": false,
         "xl_sold": false,
         "total_bags_sold": false,
         "small_bags_sold": false,
         "large_bags_sold": false,
         "xl_bags_sold": false,
         "_deepnote_index_column": 6
        },
        {
         "date": false,
         "avg_price": false,
         "total_sold": false,
         "small_sold": false,
         "large_sold": true,
         "xl_sold": false,
         "total_bags_sold": false,
         "small_bags_sold": false,
         "large_bags_sold": false,
         "xl_bags_sold": false,
         "_deepnote_index_column": 7
        },
        {
         "date": false,
         "avg_price": false,
         "total_sold": false,
         "small_sold": false,
         "large_sold": false,
         "xl_sold": false,
         "total_bags_sold": false,
         "small_bags_sold": false,
         "large_bags_sold": false,
         "xl_bags_sold": false,
         "_deepnote_index_column": 8
        },
        {
         "date": false,
         "avg_price": false,
         "total_sold": false,
         "small_sold": false,
         "large_sold": false,
         "xl_sold": false,
         "total_bags_sold": false,
         "small_bags_sold": false,
         "large_bags_sold": false,
         "xl_bags_sold": false,
         "_deepnote_index_column": 9
        }
       ]
      },
      "text/plain": "     date  avg_price  total_sold  small_sold  large_sold  xl_sold  \\\n0   False      False       False       False       False    False   \n1   False      False       False       False       False    False   \n2   False      False       False       False        True    False   \n3   False      False       False       False       False    False   \n4   False      False       False       False       False     True   \n5   False      False       False        True       False    False   \n6   False      False       False       False       False    False   \n7   False      False       False       False        True    False   \n8   False      False       False       False       False    False   \n9   False      False       False       False       False    False   \n10  False      False       False       False        True    False   \n11  False      False       False       False       False    False   \n12  False      False       False       False       False    False   \n13  False      False       False       False       False    False   \n14  False      False       False       False       False    False   \n15  False      False       False       False        True    False   \n16  False      False       False       False       False     True   \n17  False      False       False       False       False    False   \n18  False      False       False       False       False    False   \n19  False      False       False       False        True    False   \n20  False      False       False       False       False    False   \n21  False      False       False       False       False    False   \n22  False      False       False       False       False    False   \n23  False      False       False       False       False    False   \n24  False      False       False       False       False    False   \n25  False      False       False       False       False    False   \n26  False      False       False       False       False    False   \n27  False      False       False       False       False    False   \n28  False      False       False       False       False    False   \n29  False      False       False       False       False    False   \n30  False      False       False       False       False     True   \n31  False      False       False       False       False    False   \n32  False      False       False       False       False     True   \n33  False      False       False       False       False    False   \n34  False      False       False       False       False    False   \n35  False      False       False       False       False    False   \n36  False      False       False        True       False    False   \n37  False      False       False       False        True    False   \n38  False      False       False       False       False    False   \n39  False      False       False       False       False    False   \n40  False      False       False        True       False    False   \n41  False      False       False       False       False    False   \n42  False      False       False       False       False    False   \n43  False      False       False       False       False    False   \n44  False      False       False        True       False    False   \n45  False      False       False       False       False    False   \n46  False      False       False       False       False    False   \n47  False      False       False       False       False    False   \n48  False      False       False       False       False    False   \n49  False      False       False       False       False    False   \n50  False      False       False        True       False    False   \n51  False      False       False        True       False    False   \n\n    total_bags_sold  small_bags_sold  large_bags_sold  xl_bags_sold  \n0             False            False            False         False  \n1             False            False            False         False  \n2             False            False            False         False  \n3             False            False            False         False  \n4             False            False            False         False  \n5             False            False            False         False  \n6             False            False            False         False  \n7             False            False            False         False  \n8             False            False            False         False  \n9             False            False            False         False  \n10            False            False            False         False  \n11            False            False            False         False  \n12            False            False            False         False  \n13            False            False            False         False  \n14            False            False            False         False  \n15            False            False            False         False  \n16            False            False            False         False  \n17            False            False            False         False  \n18            False            False            False         False  \n19            False            False            False         False  \n20            False            False            False         False  \n21            False            False            False         False  \n22            False            False            False         False  \n23            False            False            False         False  \n24            False            False            False         False  \n25            False            False            False         False  \n26            False            False            False         False  \n27            False            False            False         False  \n28            False            False            False         False  \n29            False            False            False         False  \n30            False            False            False         False  \n31            False            False            False         False  \n32            False            False            False         False  \n33            False            False            False         False  \n34            False            False            False         False  \n35            False            False            False         False  \n36            False            False            False         False  \n37            False            False            False         False  \n38            False            False            False         False  \n39            False            False            False         False  \n40            False            False            False         False  \n41            False            False            False         False  \n42            False            False            False         False  \n43            False            False            False         False  \n44            False            False            False         False  \n45            False            False            False         False  \n46            False            False            False         False  \n47            False            False            False         False  \n48            False            False            False         False  \n49            False            False            False         False  \n50            False            False            False         False  \n51            False            False            False         False  ",
      "text/html": "<div>\n<style scoped>\n    .dataframe tbody tr th:only-of-type {\n        vertical-align: middle;\n    }\n\n    .dataframe tbody tr th {\n        vertical-align: top;\n    }\n\n    .dataframe thead th {\n        text-align: right;\n    }\n</style>\n<table border=\"1\" class=\"dataframe\">\n  <thead>\n    <tr style=\"text-align: right;\">\n      <th></th>\n      <th>date</th>\n      <th>avg_price</th>\n      <th>total_sold</th>\n      <th>small_sold</th>\n      <th>large_sold</th>\n      <th>xl_sold</th>\n      <th>total_bags_sold</th>\n      <th>small_bags_sold</th>\n      <th>large_bags_sold</th>\n      <th>xl_bags_sold</th>\n    </tr>\n  </thead>\n  <tbody>\n    <tr>\n      <th>0</th>\n      <td>False</td>\n      <td>False</td>\n      <td>False</td>\n      <td>False</td>\n      <td>False</td>\n      <td>False</td>\n      <td>False</td>\n      <td>False</td>\n      <td>False</td>\n      <td>False</td>\n    </tr>\n    <tr>\n      <th>1</th>\n      <td>False</td>\n      <td>False</td>\n      <td>False</td>\n      <td>False</td>\n      <td>False</td>\n      <td>False</td>\n      <td>False</td>\n      <td>False</td>\n      <td>False</td>\n      <td>False</td>\n    </tr>\n    <tr>\n      <th>2</th>\n      <td>False</td>\n      <td>False</td>\n      <td>False</td>\n      <td>False</td>\n      <td>True</td>\n      <td>False</td>\n      <td>False</td>\n      <td>False</td>\n      <td>False</td>\n      <td>False</td>\n    </tr>\n    <tr>\n      <th>3</th>\n      <td>False</td>\n      <td>False</td>\n      <td>False</td>\n      <td>False</td>\n      <td>False</td>\n      <td>False</td>\n      <td>False</td>\n      <td>False</td>\n      <td>False</td>\n      <td>False</td>\n    </tr>\n    <tr>\n      <th>4</th>\n      <td>False</td>\n      <td>False</td>\n      <td>False</td>\n      <td>False</td>\n      <td>False</td>\n      <td>True</td>\n      <td>False</td>\n      <td>False</td>\n      <td>False</td>\n      <td>False</td>\n    </tr>\n    <tr>\n      <th>5</th>\n      <td>False</td>\n      <td>False</td>\n      <td>False</td>\n      <td>True</td>\n      <td>False</td>\n      <td>False</td>\n      <td>False</td>\n      <td>False</td>\n      <td>False</td>\n      <td>False</td>\n    </tr>\n    <tr>\n      <th>6</th>\n      <td>False</td>\n      <td>False</td>\n      <td>False</td>\n      <td>False</td>\n      <td>False</td>\n      <td>False</td>\n      <td>False</td>\n      <td>False</td>\n      <td>False</td>\n      <td>False</td>\n    </tr>\n    <tr>\n      <th>7</th>\n      <td>False</td>\n      <td>False</td>\n      <td>False</td>\n      <td>False</td>\n      <td>True</td>\n      <td>False</td>\n      <td>False</td>\n      <td>False</td>\n      <td>False</td>\n      <td>False</td>\n    </tr>\n    <tr>\n      <th>8</th>\n      <td>False</td>\n      <td>False</td>\n      <td>False</td>\n      <td>False</td>\n      <td>False</td>\n      <td>False</td>\n      <td>False</td>\n      <td>False</td>\n      <td>False</td>\n      <td>False</td>\n    </tr>\n    <tr>\n      <th>9</th>\n      <td>False</td>\n      <td>False</td>\n      <td>False</td>\n      <td>False</td>\n      <td>False</td>\n      <td>False</td>\n      <td>False</td>\n      <td>False</td>\n      <td>False</td>\n      <td>False</td>\n    </tr>\n    <tr>\n      <th>10</th>\n      <td>False</td>\n      <td>False</td>\n      <td>False</td>\n      <td>False</td>\n      <td>True</td>\n      <td>False</td>\n      <td>False</td>\n      <td>False</td>\n      <td>False</td>\n      <td>False</td>\n    </tr>\n    <tr>\n      <th>11</th>\n      <td>False</td>\n      <td>False</td>\n      <td>False</td>\n      <td>False</td>\n      <td>False</td>\n      <td>False</td>\n      <td>False</td>\n      <td>False</td>\n      <td>False</td>\n      <td>False</td>\n    </tr>\n    <tr>\n      <th>12</th>\n      <td>False</td>\n      <td>False</td>\n      <td>False</td>\n      <td>False</td>\n      <td>False</td>\n      <td>False</td>\n      <td>False</td>\n      <td>False</td>\n      <td>False</td>\n      <td>False</td>\n    </tr>\n    <tr>\n      <th>13</th>\n      <td>False</td>\n      <td>False</td>\n      <td>False</td>\n      <td>False</td>\n      <td>False</td>\n      <td>False</td>\n      <td>False</td>\n      <td>False</td>\n      <td>False</td>\n      <td>False</td>\n    </tr>\n    <tr>\n      <th>14</th>\n      <td>False</td>\n      <td>False</td>\n      <td>False</td>\n      <td>False</td>\n      <td>False</td>\n      <td>False</td>\n      <td>False</td>\n      <td>False</td>\n      <td>False</td>\n      <td>False</td>\n    </tr>\n    <tr>\n      <th>15</th>\n      <td>False</td>\n      <td>False</td>\n      <td>False</td>\n      <td>False</td>\n      <td>True</td>\n      <td>False</td>\n      <td>False</td>\n      <td>False</td>\n      <td>False</td>\n      <td>False</td>\n    </tr>\n    <tr>\n      <th>16</th>\n      <td>False</td>\n      <td>False</td>\n      <td>False</td>\n      <td>False</td>\n      <td>False</td>\n      <td>True</td>\n      <td>False</td>\n      <td>False</td>\n      <td>False</td>\n      <td>False</td>\n    </tr>\n    <tr>\n      <th>17</th>\n      <td>False</td>\n      <td>False</td>\n      <td>False</td>\n      <td>False</td>\n      <td>False</td>\n      <td>False</td>\n      <td>False</td>\n      <td>False</td>\n      <td>False</td>\n      <td>False</td>\n    </tr>\n    <tr>\n      <th>18</th>\n      <td>False</td>\n      <td>False</td>\n      <td>False</td>\n      <td>False</td>\n      <td>False</td>\n      <td>False</td>\n      <td>False</td>\n      <td>False</td>\n      <td>False</td>\n      <td>False</td>\n    </tr>\n    <tr>\n      <th>19</th>\n      <td>False</td>\n      <td>False</td>\n      <td>False</td>\n      <td>False</td>\n      <td>True</td>\n      <td>False</td>\n      <td>False</td>\n      <td>False</td>\n      <td>False</td>\n      <td>False</td>\n    </tr>\n    <tr>\n      <th>20</th>\n      <td>False</td>\n      <td>False</td>\n      <td>False</td>\n      <td>False</td>\n      <td>False</td>\n      <td>False</td>\n      <td>False</td>\n      <td>False</td>\n      <td>False</td>\n      <td>False</td>\n    </tr>\n    <tr>\n      <th>21</th>\n      <td>False</td>\n      <td>False</td>\n      <td>False</td>\n      <td>False</td>\n      <td>False</td>\n      <td>False</td>\n      <td>False</td>\n      <td>False</td>\n      <td>False</td>\n      <td>False</td>\n    </tr>\n    <tr>\n      <th>22</th>\n      <td>False</td>\n      <td>False</td>\n      <td>False</td>\n      <td>False</td>\n      <td>False</td>\n      <td>False</td>\n      <td>False</td>\n      <td>False</td>\n      <td>False</td>\n      <td>False</td>\n    </tr>\n    <tr>\n      <th>23</th>\n      <td>False</td>\n      <td>False</td>\n      <td>False</td>\n      <td>False</td>\n      <td>False</td>\n      <td>False</td>\n      <td>False</td>\n      <td>False</td>\n      <td>False</td>\n      <td>False</td>\n    </tr>\n    <tr>\n      <th>24</th>\n      <td>False</td>\n      <td>False</td>\n      <td>False</td>\n      <td>False</td>\n      <td>False</td>\n      <td>False</td>\n      <td>False</td>\n      <td>False</td>\n      <td>False</td>\n      <td>False</td>\n    </tr>\n    <tr>\n      <th>25</th>\n      <td>False</td>\n      <td>False</td>\n      <td>False</td>\n      <td>False</td>\n      <td>False</td>\n      <td>False</td>\n      <td>False</td>\n      <td>False</td>\n      <td>False</td>\n      <td>False</td>\n    </tr>\n    <tr>\n      <th>26</th>\n      <td>False</td>\n      <td>False</td>\n      <td>False</td>\n      <td>False</td>\n      <td>False</td>\n      <td>False</td>\n      <td>False</td>\n      <td>False</td>\n      <td>False</td>\n      <td>False</td>\n    </tr>\n    <tr>\n      <th>27</th>\n      <td>False</td>\n      <td>False</td>\n      <td>False</td>\n      <td>False</td>\n      <td>False</td>\n      <td>False</td>\n      <td>False</td>\n      <td>False</td>\n      <td>False</td>\n      <td>False</td>\n    </tr>\n    <tr>\n      <th>28</th>\n      <td>False</td>\n      <td>False</td>\n      <td>False</td>\n      <td>False</td>\n      <td>False</td>\n      <td>False</td>\n      <td>False</td>\n      <td>False</td>\n      <td>False</td>\n      <td>False</td>\n    </tr>\n    <tr>\n      <th>29</th>\n      <td>False</td>\n      <td>False</td>\n      <td>False</td>\n      <td>False</td>\n      <td>False</td>\n      <td>False</td>\n      <td>False</td>\n      <td>False</td>\n      <td>False</td>\n      <td>False</td>\n    </tr>\n    <tr>\n      <th>30</th>\n      <td>False</td>\n      <td>False</td>\n      <td>False</td>\n      <td>False</td>\n      <td>False</td>\n      <td>True</td>\n      <td>False</td>\n      <td>False</td>\n      <td>False</td>\n      <td>False</td>\n    </tr>\n    <tr>\n      <th>31</th>\n      <td>False</td>\n      <td>False</td>\n      <td>False</td>\n      <td>False</td>\n      <td>False</td>\n      <td>False</td>\n      <td>False</td>\n      <td>False</td>\n      <td>False</td>\n      <td>False</td>\n    </tr>\n    <tr>\n      <th>32</th>\n      <td>False</td>\n      <td>False</td>\n      <td>False</td>\n      <td>False</td>\n      <td>False</td>\n      <td>True</td>\n      <td>False</td>\n      <td>False</td>\n      <td>False</td>\n      <td>False</td>\n    </tr>\n    <tr>\n      <th>33</th>\n      <td>False</td>\n      <td>False</td>\n      <td>False</td>\n      <td>False</td>\n      <td>False</td>\n      <td>False</td>\n      <td>False</td>\n      <td>False</td>\n      <td>False</td>\n      <td>False</td>\n    </tr>\n    <tr>\n      <th>34</th>\n      <td>False</td>\n      <td>False</td>\n      <td>False</td>\n      <td>False</td>\n      <td>False</td>\n      <td>False</td>\n      <td>False</td>\n      <td>False</td>\n      <td>False</td>\n      <td>False</td>\n    </tr>\n    <tr>\n      <th>35</th>\n      <td>False</td>\n      <td>False</td>\n      <td>False</td>\n      <td>False</td>\n      <td>False</td>\n      <td>False</td>\n      <td>False</td>\n      <td>False</td>\n      <td>False</td>\n      <td>False</td>\n    </tr>\n    <tr>\n      <th>36</th>\n      <td>False</td>\n      <td>False</td>\n      <td>False</td>\n      <td>True</td>\n      <td>False</td>\n      <td>False</td>\n      <td>False</td>\n      <td>False</td>\n      <td>False</td>\n      <td>False</td>\n    </tr>\n    <tr>\n      <th>37</th>\n      <td>False</td>\n      <td>False</td>\n      <td>False</td>\n      <td>False</td>\n      <td>True</td>\n      <td>False</td>\n      <td>False</td>\n      <td>False</td>\n      <td>False</td>\n      <td>False</td>\n    </tr>\n    <tr>\n      <th>38</th>\n      <td>False</td>\n      <td>False</td>\n      <td>False</td>\n      <td>False</td>\n      <td>False</td>\n      <td>False</td>\n      <td>False</td>\n      <td>False</td>\n      <td>False</td>\n      <td>False</td>\n    </tr>\n    <tr>\n      <th>39</th>\n      <td>False</td>\n      <td>False</td>\n      <td>False</td>\n      <td>False</td>\n      <td>False</td>\n      <td>False</td>\n      <td>False</td>\n      <td>False</td>\n      <td>False</td>\n      <td>False</td>\n    </tr>\n    <tr>\n      <th>40</th>\n      <td>False</td>\n      <td>False</td>\n      <td>False</td>\n      <td>True</td>\n      <td>False</td>\n      <td>False</td>\n      <td>False</td>\n      <td>False</td>\n      <td>False</td>\n      <td>False</td>\n    </tr>\n    <tr>\n      <th>41</th>\n      <td>False</td>\n      <td>False</td>\n      <td>False</td>\n      <td>False</td>\n      <td>False</td>\n      <td>False</td>\n      <td>False</td>\n      <td>False</td>\n      <td>False</td>\n      <td>False</td>\n    </tr>\n    <tr>\n      <th>42</th>\n      <td>False</td>\n      <td>False</td>\n      <td>False</td>\n      <td>False</td>\n      <td>False</td>\n      <td>False</td>\n      <td>False</td>\n      <td>False</td>\n      <td>False</td>\n      <td>False</td>\n    </tr>\n    <tr>\n      <th>43</th>\n      <td>False</td>\n      <td>False</td>\n      <td>False</td>\n      <td>False</td>\n      <td>False</td>\n      <td>False</td>\n      <td>False</td>\n      <td>False</td>\n      <td>False</td>\n      <td>False</td>\n    </tr>\n    <tr>\n      <th>44</th>\n      <td>False</td>\n      <td>False</td>\n      <td>False</td>\n      <td>True</td>\n      <td>False</td>\n      <td>False</td>\n      <td>False</td>\n      <td>False</td>\n      <td>False</td>\n      <td>False</td>\n    </tr>\n    <tr>\n      <th>45</th>\n      <td>False</td>\n      <td>False</td>\n      <td>False</td>\n      <td>False</td>\n      <td>False</td>\n      <td>False</td>\n      <td>False</td>\n      <td>False</td>\n      <td>False</td>\n      <td>False</td>\n    </tr>\n    <tr>\n      <th>46</th>\n      <td>False</td>\n      <td>False</td>\n      <td>False</td>\n      <td>False</td>\n      <td>False</td>\n      <td>False</td>\n      <td>False</td>\n      <td>False</td>\n      <td>False</td>\n      <td>False</td>\n    </tr>\n    <tr>\n      <th>47</th>\n      <td>False</td>\n      <td>False</td>\n      <td>False</td>\n      <td>False</td>\n      <td>False</td>\n      <td>False</td>\n      <td>False</td>\n      <td>False</td>\n      <td>False</td>\n      <td>False</td>\n    </tr>\n    <tr>\n      <th>48</th>\n      <td>False</td>\n      <td>False</td>\n      <td>False</td>\n      <td>False</td>\n      <td>False</td>\n      <td>False</td>\n      <td>False</td>\n      <td>False</td>\n      <td>False</td>\n      <td>False</td>\n    </tr>\n    <tr>\n      <th>49</th>\n      <td>False</td>\n      <td>False</td>\n      <td>False</td>\n      <td>False</td>\n      <td>False</td>\n      <td>False</td>\n      <td>False</td>\n      <td>False</td>\n      <td>False</td>\n      <td>False</td>\n    </tr>\n    <tr>\n      <th>50</th>\n      <td>False</td>\n      <td>False</td>\n      <td>False</td>\n      <td>True</td>\n      <td>False</td>\n      <td>False</td>\n      <td>False</td>\n      <td>False</td>\n      <td>False</td>\n      <td>False</td>\n    </tr>\n    <tr>\n      <th>51</th>\n      <td>False</td>\n      <td>False</td>\n      <td>False</td>\n      <td>True</td>\n      <td>False</td>\n      <td>False</td>\n      <td>False</td>\n      <td>False</td>\n      <td>False</td>\n      <td>False</td>\n    </tr>\n  </tbody>\n</table>\n</div>"
     },
     "metadata": {}
    }
   ]
  },
  {
   "cell_type": "code",
   "metadata": {
    "cell_id": "9730edabac12424b9a466e78776545e1",
    "tags": [],
    "deepnote_to_be_reexecuted": false,
    "source_hash": "98bfa3d3",
    "execution_start": 1654882566484,
    "execution_millis": 75,
    "deepnote_cell_type": "code",
    "deepnote_cell_height": 328.1875,
    "deepnote_output_heights": [
     213.1875
    ]
   },
   "source": "# Print a summary that shows whether any value in each column is missing or not\navocados_2016.isna().sum()",
   "execution_count": 11,
   "outputs": [
    {
     "output_type": "execute_result",
     "execution_count": 11,
     "data": {
      "text/plain": "date               0\navg_price          0\ntotal_sold         0\nsmall_sold         6\nlarge_sold         6\nxl_sold            4\ntotal_bags_sold    0\nsmall_bags_sold    0\nlarge_bags_sold    0\nxl_bags_sold       0\ndtype: int64"
     },
     "metadata": {}
    }
   ]
  },
  {
   "cell_type": "code",
   "metadata": {
    "cell_id": "d8bcb87d56704cfcb081c7815a96bcb9",
    "tags": [],
    "deepnote_to_be_reexecuted": false,
    "source_hash": "69f83452",
    "execution_start": 1654882566585,
    "execution_millis": 751,
    "deepnote_cell_type": "code",
    "deepnote_cell_height": 489.1875,
    "deepnote_output_heights": [
     21.1875,
     322
    ]
   },
   "source": "# Create a bar plot of the total number of missing values in each column\navocados_2016.isna().sum().plot(kind='bar')",
   "execution_count": 12,
   "outputs": [
    {
     "output_type": "execute_result",
     "execution_count": 12,
     "data": {
      "text/plain": "<AxesSubplot:>"
     },
     "metadata": {}
    },
    {
     "data": {
      "text/plain": "<Figure size 432x288 with 1 Axes>",
      "image/png": "[encoded data removed]"
     },
     "metadata": {
      "needs_background": "light",
      "image/png": {
       "width": 362,
       "height": 320
      }
     },
     "output_type": "display_data"
    }
   ]
  },
  {
   "cell_type": "markdown",
   "source": "### Removing missing values",
   "metadata": {
    "formattedRanges": [],
    "cell_id": "77b7fb441f4c4673bb5da028135f42f5",
    "tags": [],
    "is_collapsed": false,
    "deepnote_cell_type": "text-cell-h3"
   }
  },
  {
   "cell_type": "code",
   "metadata": {
    "cell_id": "52b3c60da13740eca79e169aa643cf4a",
    "tags": [],
    "deepnote_to_be_reexecuted": false,
    "source_hash": "b03ef5b5",
    "execution_start": 1654882567371,
    "execution_millis": 42,
    "deepnote_cell_type": "code",
    "deepnote_cell_height": 99
   },
   "source": "# Remove the rows of avocados_2016 that contain missing values and store the remaining rows in avocados_complete\navocados_complete = avocados_2016.dropna()",
   "execution_count": 13,
   "outputs": []
  },
  {
   "cell_type": "code",
   "metadata": {
    "cell_id": "a88b581d054b4cf48ecb4958fef0cabc",
    "tags": [],
    "deepnote_to_be_reexecuted": false,
    "source_hash": "4a8f92ac",
    "execution_start": 1654882567476,
    "execution_millis": 696,
    "deepnote_cell_type": "code",
    "deepnote_cell_height": 328.1875,
    "deepnote_output_heights": [
     213.1875
    ]
   },
   "source": "# Verify that all missing values have been removed from avocados_complete\navocados_complete.isna().any()",
   "execution_count": 14,
   "outputs": [
    {
     "output_type": "execute_result",
     "execution_count": 14,
     "data": {
      "text/plain": "date               False\navg_price          False\ntotal_sold         False\nsmall_sold         False\nlarge_sold         False\nxl_sold            False\ntotal_bags_sold    False\nsmall_bags_sold    False\nlarge_bags_sold    False\nxl_bags_sold       False\ndtype: bool"
     },
     "metadata": {}
    }
   ]
  },
  {
   "cell_type": "markdown",
   "source": "### Replacing missing values",
   "metadata": {
    "formattedRanges": [],
    "cell_id": "112acc1f199441089ebbf4acdeb68df6",
    "tags": [],
    "is_collapsed": false,
    "deepnote_cell_type": "text-cell-h3"
   }
  },
  {
   "cell_type": "markdown",
   "source": "Another way of handling missing values is to replace them all with the same value. For numerical variables, one option is to replace values with 0. However, when you replace missing values, you make assumptions about what a missing value means. In this case, you will assume that a missing number sold means that no sales for that avocado type were made that week.",
   "metadata": {
    "cell_id": "14806888e4a34baab038b8f086274a86",
    "tags": [],
    "deepnote_cell_type": "markdown",
    "deepnote_cell_height": 119.59375
   }
  },
  {
   "cell_type": "code",
   "source": "avocados_2016.isna().sum()",
   "metadata": {
    "cell_id": "6adf158f80f14972be1560685e88e4cc",
    "tags": [],
    "deepnote_to_be_reexecuted": false,
    "source_hash": "b0c24243",
    "execution_start": 1654882567540,
    "execution_millis": 667,
    "deepnote_cell_type": "code",
    "deepnote_cell_height": 310.1875,
    "deepnote_output_heights": [
     213.1875
    ]
   },
   "outputs": [
    {
     "output_type": "execute_result",
     "execution_count": 15,
     "data": {
      "text/plain": "date               0\navg_price          0\ntotal_sold         0\nsmall_sold         6\nlarge_sold         6\nxl_sold            4\ntotal_bags_sold    0\nsmall_bags_sold    0\nlarge_bags_sold    0\nxl_bags_sold       0\ndtype: int64"
     },
     "metadata": {}
    }
   ],
   "execution_count": 15
  },
  {
   "cell_type": "code",
   "source": "# Create a list containing the names of columns with missing values: \"small_sold\", \"large_sold\", and \"xl_sold\"\ncols_with_missing = [\"small_sold\", \"large_sold\", \"xl_sold\"]",
   "metadata": {
    "cell_id": "60c526619227408a90cf2efd9dde78e0",
    "tags": [],
    "deepnote_to_be_reexecuted": false,
    "source_hash": "96f7a08b",
    "execution_start": 1654882567692,
    "execution_millis": 0,
    "deepnote_cell_type": "code",
    "deepnote_cell_height": 99
   },
   "outputs": [],
   "execution_count": 16
  },
  {
   "cell_type": "code",
   "source": "# Create a histogram of those columns\navocados_2016[cols_with_missing].hist()\nplt.show()",
   "metadata": {
    "cell_id": "9af0929d321e4ad9a3c6751bd6d659c8",
    "tags": [],
    "deepnote_to_be_reexecuted": false,
    "source_hash": "b56827fa",
    "execution_start": 1654882736992,
    "execution_millis": 2450,
    "deepnote_cell_type": "code",
    "deepnote_cell_height": 448,
    "deepnote_output_heights": [
     279,
     279
    ]
   },
   "outputs": [
    {
     "data": {
      "text/plain": "<Figure size 432x288 with 4 Axes>",
      "image/png": "[encoded data removed]"
     },
     "metadata": {
      "needs_background": "light",
      "image/png": {
       "width": 368,
       "height": 277
      }
     },
     "output_type": "display_data"
    }
   ],
   "execution_count": 20
  },
  {
   "cell_type": "code",
   "source": "# Replace the missing values of avocados_2016 with 0s and store the result as avocados_filled\navocados_filled = avocados_2016.fillna(0)\n\n# Create a histogram of the cols_with_missing columns of avocados_filled\navocados_filled[cols_with_missing].hist()\nplt.show()\n",
   "metadata": {
    "cell_id": "702738e9e81a4a6f951df5f64b2a1c9d",
    "tags": [],
    "deepnote_to_be_reexecuted": false,
    "source_hash": "67f3e7d7",
    "execution_start": 1654882936505,
    "execution_millis": 1636,
    "deepnote_cell_type": "code",
    "deepnote_cell_height": 594,
    "deepnote_output_heights": [
     279,
     279
    ]
   },
   "outputs": [
    {
     "data": {
      "text/plain": "<Figure size 432x288 with 4 Axes>",
      "image/png": "[encoded data removed]"
     },
     "metadata": {
      "needs_background": "light",
      "image/png": {
       "width": 368,
       "height": 277
      }
     },
     "output_type": "display_data"
    }
   ],
   "execution_count": 23
  },
  {
   "cell_type": "markdown",
   "source": "## Creating DataFrames",
   "metadata": {
    "formattedRanges": [],
    "cell_id": "b2e17412b22a4830bcb4e32a32c4884d",
    "tags": [],
    "is_collapsed": false,
    "deepnote_cell_type": "text-cell-h2"
   }
  },
  {
   "cell_type": "markdown",
   "source": "### List of dictionaries",
   "metadata": {
    "cell_id": "0e45e0268333446499b01c61eec089be",
    "tags": [],
    "is_collapsed": false,
    "formattedRanges": [],
    "deepnote_cell_type": "text-cell-h3"
   }
  },
  {
   "cell_type": "code",
   "source": "# Create a list of dictionaries with new data\navocados_list = [\n    {'date' : \"2019-11-03\", 'small_sold' : 10376832, 'large_sold' : 7835071},\n    {'date': \"2019-11-10\", 'small_sold' : 10717154, 'large_sold' : 8561348},\n]",
   "metadata": {
    "cell_id": "567a61051e9947eb9c90ac7ae037b76a",
    "tags": [],
    "deepnote_to_be_reexecuted": false,
    "source_hash": "c80e2baf",
    "execution_start": 1654883146801,
    "execution_millis": 1,
    "deepnote_cell_type": "code",
    "deepnote_cell_height": 153
   },
   "outputs": [],
   "execution_count": 24
  },
  {
   "cell_type": "code",
   "source": "# Convert the list into a DataFrame called avocados_2019\n# Note how each dictionary will be a DataFrame row\navocados_2019 = pd.DataFrame(avocados_list)\n\n# Print your new DataFrame.\navocados_2019",
   "metadata": {
    "cell_id": "c8861032f3434abab354a965763fd0ef",
    "tags": [],
    "deepnote_to_be_reexecuted": false,
    "source_hash": "970ccd36",
    "execution_start": 1654883198558,
    "execution_millis": 93,
    "deepnote_cell_type": "code",
    "deepnote_cell_height": 362
   },
   "outputs": [
    {
     "output_type": "execute_result",
     "execution_count": 26,
     "data": {
      "application/vnd.deepnote.dataframe.v3+json": {
       "column_count": 3,
       "row_count": 2,
       "columns": [
        {
         "name": "date",
         "dtype": "object",
         "stats": {
          "unique_count": 2,
          "nan_count": 0,
          "categories": [
           {
            "name": "2019-11-03",
            "count": 1
           },
           {
            "name": "2019-11-10",
            "count": 1
           }
          ]
         }
        },
        {
         "name": "small_sold",
         "dtype": "int64",
         "stats": {
          "unique_count": 2,
          "nan_count": 0,
          "min": "10376832",
          "max": "10717154",
          "histogram": [
           {
            "bin_start": 10376832,
            "bin_end": 10410864.2,
            "count": 1
           },
           {
            "bin_start": 10410864.2,
            "bin_end": 10444896.4,
            "count": 0
           },
           {
            "bin_start": 10444896.4,
            "bin_end": 10478928.6,
            "count": 0
           },
           {
            "bin_start": 10478928.6,
            "bin_end": 10512960.8,
            "count": 0
           },
           {
            "bin_start": 10512960.8,
            "bin_end": 10546993,
            "count": 0
           },
           {
            "bin_start": 10546993,
            "bin_end": 10581025.2,
            "count": 0
           },
           {
            "bin_start": 10581025.2,
            "bin_end": 10615057.4,
            "count": 0
           },
           {
            "bin_start": 10615057.4,
            "bin_end": 10649089.6,
            "count": 0
           },
           {
            "bin_start": 10649089.6,
            "bin_end": 10683121.8,
            "count": 0
           },
           {
            "bin_start": 10683121.8,
            "bin_end": 10717154,
            "count": 1
           }
          ]
         }
        },
        {
         "name": "large_sold",
         "dtype": "int64",
         "stats": {
          "unique_count": 2,
          "nan_count": 0,
          "min": "7835071",
          "max": "8561348",
          "histogram": [
           {
            "bin_start": 7835071,
            "bin_end": 7907698.7,
            "count": 1
           },
           {
            "bin_start": 7907698.7,
            "bin_end": 7980326.4,
            "count": 0
           },
           {
            "bin_start": 7980326.4,
            "bin_end": 8052954.1,
            "count": 0
           },
           {
            "bin_start": 8052954.1,
            "bin_end": 8125581.8,
            "count": 0
           },
           {
            "bin_start": 8125581.8,
            "bin_end": 8198209.5,
            "count": 0
           },
           {
            "bin_start": 8198209.5,
            "bin_end": 8270837.2,
            "count": 0
           },
           {
            "bin_start": 8270837.2,
            "bin_end": 8343464.9,
            "count": 0
           },
           {
            "bin_start": 8343464.9,
            "bin_end": 8416092.6,
            "count": 0
           },
           {
            "bin_start": 8416092.6,
            "bin_end": 8488720.3,
            "count": 0
           },
           {
            "bin_start": 8488720.3,
            "bin_end": 8561348,
            "count": 1
           }
          ]
         }
        },
        {
         "name": "_deepnote_index_column",
         "dtype": "int64"
        }
       ],
       "rows": [
        {
         "date": "2019-11-03",
         "small_sold": 10376832,
         "large_sold": 7835071,
         "_deepnote_index_column": 0
        },
        {
         "date": "2019-11-10",
         "small_sold": 10717154,
         "large_sold": 8561348,
         "_deepnote_index_column": 1
        }
       ]
      },
      "text/plain": "         date  small_sold  large_sold\n0  2019-11-03    10376832     7835071\n1  2019-11-10    10717154     8561348",
      "text/html": "<div>\n<style scoped>\n    .dataframe tbody tr th:only-of-type {\n        vertical-align: middle;\n    }\n\n    .dataframe tbody tr th {\n        vertical-align: top;\n    }\n\n    .dataframe thead th {\n        text-align: right;\n    }\n</style>\n<table border=\"1\" class=\"dataframe\">\n  <thead>\n    <tr style=\"text-align: right;\">\n      <th></th>\n      <th>date</th>\n      <th>small_sold</th>\n      <th>large_sold</th>\n    </tr>\n  </thead>\n  <tbody>\n    <tr>\n      <th>0</th>\n      <td>2019-11-03</td>\n      <td>10376832</td>\n      <td>7835071</td>\n    </tr>\n    <tr>\n      <th>1</th>\n      <td>2019-11-10</td>\n      <td>10717154</td>\n      <td>8561348</td>\n    </tr>\n  </tbody>\n</table>\n</div>"
     },
     "metadata": {}
    }
   ],
   "execution_count": 26
  },
  {
   "cell_type": "markdown",
   "source": "### Dictionary of lists",
   "metadata": {
    "cell_id": "c5fe9595ac3741af86e9f960c0c66410",
    "tags": [],
    "is_collapsed": false,
    "formattedRanges": [],
    "deepnote_cell_type": "text-cell-h3"
   }
  },
  {
   "cell_type": "code",
   "source": "# Create a dictionary of lists with new data\navocados_dict = {\n  \"date\": [\"2019-11-17\", \"2019-12-01\"],\n  \"small_sold\": [10859987,\t9291631],\n  \"large_sold\": [7674135, 6238096]\n}",
   "metadata": {
    "cell_id": "e371bc286bb04a8f825775de3b0149c1",
    "tags": [],
    "deepnote_to_be_reexecuted": false,
    "source_hash": "cb468320",
    "execution_start": 1654883365416,
    "execution_millis": 19,
    "deepnote_cell_type": "code",
    "deepnote_cell_height": 171
   },
   "outputs": [],
   "execution_count": 27
  },
  {
   "cell_type": "code",
   "source": "# Convert the dictionary to a DataFrame called avocados_2019\navocados_2019_2 = pd.DataFrame(avocados_dict)\n\n# Print your new DataFrame\navocados_2019_2",
   "metadata": {
    "cell_id": "cdeb8596f21d44e8b1864ea0e0109a49",
    "tags": [],
    "deepnote_to_be_reexecuted": false,
    "source_hash": "6e639bdb",
    "execution_start": 1654883466000,
    "execution_millis": 86,
    "deepnote_cell_type": "code",
    "deepnote_cell_height": 344
   },
   "outputs": [
    {
     "output_type": "execute_result",
     "execution_count": 28,
     "data": {
      "application/vnd.deepnote.dataframe.v3+json": {
       "column_count": 3,
       "row_count": 2,
       "columns": [
        {
         "name": "date",
         "dtype": "object",
         "stats": {
          "unique_count": 2,
          "nan_count": 0,
          "categories": [
           {
            "name": "2019-11-17",
            "count": 1
           },
           {
            "name": "2019-12-01",
            "count": 1
           }
          ]
         }
        },
        {
         "name": "small_sold",
         "dtype": "int64",
         "stats": {
          "unique_count": 2,
          "nan_count": 0,
          "min": "9291631",
          "max": "10859987",
          "histogram": [
           {
            "bin_start": 9291631,
            "bin_end": 9448466.6,
            "count": 1
           },
           {
            "bin_start": 9448466.6,
            "bin_end": 9605302.2,
            "count": 0
           },
           {
            "bin_start": 9605302.2,
            "bin_end": 9762137.8,
            "count": 0
           },
           {
            "bin_start": 9762137.8,
            "bin_end": 9918973.4,
            "count": 0
           },
           {
            "bin_start": 9918973.4,
            "bin_end": 10075809,
            "count": 0
           },
           {
            "bin_start": 10075809,
            "bin_end": 10232644.6,
            "count": 0
           },
           {
            "bin_start": 10232644.6,
            "bin_end": 10389480.2,
            "count": 0
           },
           {
            "bin_start": 10389480.2,
            "bin_end": 10546315.8,
            "count": 0
           },
           {
            "bin_start": 10546315.8,
            "bin_end": 10703151.4,
            "count": 0
           },
           {
            "bin_start": 10703151.4,
            "bin_end": 10859987,
            "count": 1
           }
          ]
         }
        },
        {
         "name": "large_sold",
         "dtype": "int64",
         "stats": {
          "unique_count": 2,
          "nan_count": 0,
          "min": "6238096",
          "max": "7674135",
          "histogram": [
           {
            "bin_start": 6238096,
            "bin_end": 6381699.9,
            "count": 1
           },
           {
            "bin_start": 6381699.9,
            "bin_end": 6525303.8,
            "count": 0
           },
           {
            "bin_start": 6525303.8,
            "bin_end": 6668907.7,
            "count": 0
           },
           {
            "bin_start": 6668907.7,
            "bin_end": 6812511.6,
            "count": 0
           },
           {
            "bin_start": 6812511.6,
            "bin_end": 6956115.5,
            "count": 0
           },
           {
            "bin_start": 6956115.5,
            "bin_end": 7099719.4,
            "count": 0
           },
           {
            "bin_start": 7099719.4,
            "bin_end": 7243323.3,
            "count": 0
           },
           {
            "bin_start": 7243323.3,
            "bin_end": 7386927.2,
            "count": 0
           },
           {
            "bin_start": 7386927.2,
            "bin_end": 7530531.1,
            "count": 0
           },
           {
            "bin_start": 7530531.1,
            "bin_end": 7674135,
            "count": 1
           }
          ]
         }
        },
        {
         "name": "_deepnote_index_column",
         "dtype": "int64"
        }
       ],
       "rows": [
        {
         "date": "2019-11-17",
         "small_sold": 10859987,
         "large_sold": 7674135,
         "_deepnote_index_column": 0
        },
        {
         "date": "2019-12-01",
         "small_sold": 9291631,
         "large_sold": 6238096,
         "_deepnote_index_column": 1
        }
       ]
      },
      "text/plain": "         date  small_sold  large_sold\n0  2019-11-17    10859987     7674135\n1  2019-12-01     9291631     6238096",
      "text/html": "<div>\n<style scoped>\n    .dataframe tbody tr th:only-of-type {\n        vertical-align: middle;\n    }\n\n    .dataframe tbody tr th {\n        vertical-align: top;\n    }\n\n    .dataframe thead th {\n        text-align: right;\n    }\n</style>\n<table border=\"1\" class=\"dataframe\">\n  <thead>\n    <tr style=\"text-align: right;\">\n      <th></th>\n      <th>date</th>\n      <th>small_sold</th>\n      <th>large_sold</th>\n    </tr>\n  </thead>\n  <tbody>\n    <tr>\n      <th>0</th>\n      <td>2019-11-17</td>\n      <td>10859987</td>\n      <td>7674135</td>\n    </tr>\n    <tr>\n      <th>1</th>\n      <td>2019-12-01</td>\n      <td>9291631</td>\n      <td>6238096</td>\n    </tr>\n  </tbody>\n</table>\n</div>"
     },
     "metadata": {}
    }
   ],
   "execution_count": 28
  },
  {
   "cell_type": "markdown",
   "source": "## Reading and writing DataFrames",
   "metadata": {
    "formattedRanges": [],
    "cell_id": "221b2f719fac4d6b8bd877fda2d03552",
    "tags": [],
    "is_collapsed": false,
    "deepnote_cell_type": "text-cell-h2"
   }
  },
  {
   "cell_type": "markdown",
   "source": "### DataFrame to CSV",
   "metadata": {
    "cell_id": "2b7d203dd1ea4da7acfc5cd39e8b390d",
    "tags": [],
    "is_collapsed": false,
    "formattedRanges": [],
    "deepnote_cell_type": "text-cell-h3"
   }
  },
  {
   "cell_type": "code",
   "source": "# Save the avocados_complete DataFrame as a CSV called avocados_2016_complete\navocados_complete.to_csv('/work/data_science_notes/3. Data manipulation with pandasw/data/avocados_2016_complete.csv') ",
   "metadata": {
    "cell_id": "5f0dd821565f450291448f860d9624f2",
    "tags": [],
    "deepnote_to_be_reexecuted": false,
    "source_hash": "b92c54cb",
    "execution_start": 1654883871413,
    "execution_millis": 15,
    "deepnote_cell_type": "code",
    "deepnote_cell_height": 99
   },
   "outputs": [],
   "execution_count": 29
  },
  {
   "cell_type": "markdown",
   "source": "<a style='text-decoration:none;line-height:16px;display:flex;color:#5B5B62;padding:10px;justify-content:end;' href='https://deepnote.com?utm_source=created-in-deepnote-cell&projectId=8c91f87e-48d2-4010-b7ff-56410ab49fe5' target=\"_blank\">\n<img alt='Created in deepnote.com' style='display:inline;max-height:16px;margin:0px;margin-right:7.5px;' src='data:image/svg+xml;base64,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' > </img>\nCreated in <span style='font-weight:600;margin-left:4px;'>Deepnote</span></a>",
   "metadata": {
    "tags": [],
    "created_in_deepnote_cell": true,
    "deepnote_cell_type": "markdown"
   }
  }
 ],
 "nbformat": 4,
 "nbformat_minor": 2,
 "metadata": {
  "orig_nbformat": 2,
  "deepnote": {},
  "deepnote_notebook_id": "a17eebc2-62ce-46e1-94c8-a6c97fff2a61",
  "deepnote_execution_queue": []
 }
}