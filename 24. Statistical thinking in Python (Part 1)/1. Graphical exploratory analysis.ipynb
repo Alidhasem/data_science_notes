{
 "cells": [
  {
   "cell_type": "markdown",
   "source": "# Graphical exploratory data analysis",
   "metadata": {
    "formattedRanges": [],
    "cell_id": "a0ff5f0715a64a6db6853a9475753e8f",
    "tags": [],
    "is_collapsed": false,
    "owner_user_id": "ef1985d3-6878-4f43-aa7a-40eb37e1c2a1",
    "deepnote_cell_type": "text-cell-h1"
   }
  },
  {
   "cell_type": "markdown",
   "source": "For the exercises in this section, you will use a classic data set collected by botanist Edward Anderson and made famous by Ronald Fisher, one of the most prolific statisticians in history. \n\nAnderson carefully measured the anatomical properties of samples of three different species of iris: Iris setosa, Iris versicolor, and Iris virginica. \n\nHere, you will work with his measurements of petal length.",
   "metadata": {
    "cell_id": "c59c96f9324344c0827672275ab29ed3",
    "tags": [],
    "deepnote_cell_type": "markdown",
    "deepnote_cell_height": 170
   }
  },
  {
   "cell_type": "code",
   "metadata": {
    "cell_id": "66bffbe3846d4879b7f159545f2318f2",
    "tags": [],
    "deepnote_to_be_reexecuted": false,
    "source_hash": "47b632c",
    "execution_start": 1654609402799,
    "execution_millis": 110,
    "deepnote_cell_type": "code",
    "deepnote_cell_height": 445.390625
   },
   "source": "import pandas as pd\niris = pd.read_csv('/work/data/Iris.csv', index_col=0)\niris.head()",
   "execution_count": 1,
   "outputs": [
    {
     "output_type": "execute_result",
     "execution_count": 1,
     "data": {
      "application/vnd.deepnote.dataframe.v3+json": {
       "column_count": 5,
       "row_count": 5,
       "columns": [
        {
         "name": "SepalLengthCm",
         "dtype": "float64",
         "stats": {
          "unique_count": 5,
          "nan_count": 0,
          "min": "4.6",
          "max": "5.1",
          "histogram": [
           {
            "bin_start": 4.6,
            "bin_end": 4.6499999999999995,
            "count": 1
           },
           {
            "bin_start": 4.6499999999999995,
            "bin_end": 4.699999999999999,
            "count": 0
           },
           {
            "bin_start": 4.699999999999999,
            "bin_end": 4.75,
            "count": 1
           },
           {
            "bin_start": 4.75,
            "bin_end": 4.8,
            "count": 0
           },
           {
            "bin_start": 4.8,
            "bin_end": 4.85,
            "count": 0
           },
           {
            "bin_start": 4.85,
            "bin_end": 4.8999999999999995,
            "count": 0
           },
           {
            "bin_start": 4.8999999999999995,
            "bin_end": 4.949999999999999,
            "count": 1
           },
           {
            "bin_start": 4.949999999999999,
            "bin_end": 5,
            "count": 0
           },
           {
            "bin_start": 5,
            "bin_end": 5.05,
            "count": 1
           },
           {
            "bin_start": 5.05,
            "bin_end": 5.1,
            "count": 1
           }
          ]
         }
        },
        {
         "name": "SepalWidthCm",
         "dtype": "float64",
         "stats": {
          "unique_count": 5,
          "nan_count": 0,
          "min": "3.0",
          "max": "3.6",
          "histogram": [
           {
            "bin_start": 3,
            "bin_end": 3.06,
            "count": 1
           },
           {
            "bin_start": 3.06,
            "bin_end": 3.12,
            "count": 1
           },
           {
            "bin_start": 3.12,
            "bin_end": 3.18,
            "count": 0
           },
           {
            "bin_start": 3.18,
            "bin_end": 3.24,
            "count": 1
           },
           {
            "bin_start": 3.24,
            "bin_end": 3.3,
            "count": 0
           },
           {
            "bin_start": 3.3,
            "bin_end": 3.3600000000000003,
            "count": 0
           },
           {
            "bin_start": 3.3600000000000003,
            "bin_end": 3.42,
            "count": 0
           },
           {
            "bin_start": 3.42,
            "bin_end": 3.48,
            "count": 0
           },
           {
            "bin_start": 3.48,
            "bin_end": 3.54,
            "count": 1
           },
           {
            "bin_start": 3.54,
            "bin_end": 3.6,
            "count": 1
           }
          ]
         }
        },
        {
         "name": "PetalLengthCm",
         "dtype": "float64",
         "stats": {
          "unique_count": 3,
          "nan_count": 0,
          "min": "1.3",
          "max": "1.5",
          "histogram": [
           {
            "bin_start": 1.3,
            "bin_end": 1.32,
            "count": 1
           },
           {
            "bin_start": 1.32,
            "bin_end": 1.34,
            "count": 0
           },
           {
            "bin_start": 1.34,
            "bin_end": 1.36,
            "count": 0
           },
           {
            "bin_start": 1.36,
            "bin_end": 1.3800000000000001,
            "count": 0
           },
           {
            "bin_start": 1.3800000000000001,
            "bin_end": 1.4,
            "count": 0
           },
           {
            "bin_start": 1.4,
            "bin_end": 1.42,
            "count": 3
           },
           {
            "bin_start": 1.42,
            "bin_end": 1.44,
            "count": 0
           },
           {
            "bin_start": 1.44,
            "bin_end": 1.46,
            "count": 0
           },
           {
            "bin_start": 1.46,
            "bin_end": 1.48,
            "count": 0
           },
           {
            "bin_start": 1.48,
            "bin_end": 1.5,
            "count": 1
           }
          ]
         }
        },
        {
         "name": "PetalWidthCm",
         "dtype": "float64",
         "stats": {
          "unique_count": 1,
          "nan_count": 0,
          "min": "0.2",
          "max": "0.2",
          "histogram": [
           {
            "bin_start": -0.3,
            "bin_end": -0.19999999999999998,
            "count": 0
           },
           {
            "bin_start": -0.19999999999999998,
            "bin_end": -0.09999999999999998,
            "count": 0
           },
           {
            "bin_start": -0.09999999999999998,
            "bin_end": 5.551115123125783e-17,
            "count": 0
           },
           {
            "bin_start": 5.551115123125783e-17,
            "bin_end": 0.10000000000000003,
            "count": 0
           },
           {
            "bin_start": 0.10000000000000003,
            "bin_end": 0.2,
            "count": 0
           },
           {
            "bin_start": 0.2,
            "bin_end": 0.3000000000000001,
            "count": 5
           },
           {
            "bin_start": 0.3000000000000001,
            "bin_end": 0.4000000000000001,
            "count": 0
           },
           {
            "bin_start": 0.4000000000000001,
            "bin_end": 0.5,
            "count": 0
           },
           {
            "bin_start": 0.5,
            "bin_end": 0.6000000000000001,
            "count": 0
           },
           {
            "bin_start": 0.6000000000000001,
            "bin_end": 0.7,
            "count": 0
           }
          ]
         }
        },
        {
         "name": "Species",
         "dtype": "object",
         "stats": {
          "unique_count": 1,
          "nan_count": 0,
          "categories": [
           {
            "name": "Iris-setosa",
            "count": 5
           }
          ]
         }
        },
        {
         "name": "_deepnote_index_column",
         "dtype": "int64"
        }
       ],
       "rows": [
        {
         "SepalLengthCm": 5.1,
         "SepalWidthCm": 3.5,
         "PetalLengthCm": 1.4,
         "PetalWidthCm": 0.2,
         "Species": "Iris-setosa",
         "_deepnote_index_column": 1
        },
        {
         "SepalLengthCm": 4.9,
         "SepalWidthCm": 3,
         "PetalLengthCm": 1.4,
         "PetalWidthCm": 0.2,
         "Species": "Iris-setosa",
         "_deepnote_index_column": 2
        },
        {
         "SepalLengthCm": 4.7,
         "SepalWidthCm": 3.2,
         "PetalLengthCm": 1.3,
         "PetalWidthCm": 0.2,
         "Species": "Iris-setosa",
         "_deepnote_index_column": 3
        },
        {
         "SepalLengthCm": 4.6,
         "SepalWidthCm": 3.1,
         "PetalLengthCm": 1.5,
         "PetalWidthCm": 0.2,
         "Species": "Iris-setosa",
         "_deepnote_index_column": 4
        },
        {
         "SepalLengthCm": 5,
         "SepalWidthCm": 3.6,
         "PetalLengthCm": 1.4,
         "PetalWidthCm": 0.2,
         "Species": "Iris-setosa",
         "_deepnote_index_column": 5
        }
       ]
      },
      "text/plain": "    SepalLengthCm  SepalWidthCm  PetalLengthCm  PetalWidthCm      Species\nId                                                                       \n1             5.1           3.5            1.4           0.2  Iris-setosa\n2             4.9           3.0            1.4           0.2  Iris-setosa\n3             4.7           3.2            1.3           0.2  Iris-setosa\n4             4.6           3.1            1.5           0.2  Iris-setosa\n5             5.0           3.6            1.4           0.2  Iris-setosa",
      "text/html": "<div>\n<style scoped>\n    .dataframe tbody tr th:only-of-type {\n        vertical-align: middle;\n    }\n\n    .dataframe tbody tr th {\n        vertical-align: top;\n    }\n\n    .dataframe thead th {\n        text-align: right;\n    }\n</style>\n<table border=\"1\" class=\"dataframe\">\n  <thead>\n    <tr style=\"text-align: right;\">\n      <th></th>\n      <th>SepalLengthCm</th>\n      <th>SepalWidthCm</th>\n      <th>PetalLengthCm</th>\n      <th>PetalWidthCm</th>\n      <th>Species</th>\n    </tr>\n    <tr>\n      <th>Id</th>\n      <th></th>\n      <th></th>\n      <th></th>\n      <th></th>\n      <th></th>\n    </tr>\n  </thead>\n  <tbody>\n    <tr>\n      <th>1</th>\n      <td>5.1</td>\n      <td>3.5</td>\n      <td>1.4</td>\n      <td>0.2</td>\n      <td>Iris-setosa</td>\n    </tr>\n    <tr>\n      <th>2</th>\n      <td>4.9</td>\n      <td>3.0</td>\n      <td>1.4</td>\n      <td>0.2</td>\n      <td>Iris-setosa</td>\n    </tr>\n    <tr>\n      <th>3</th>\n      <td>4.7</td>\n      <td>3.2</td>\n      <td>1.3</td>\n      <td>0.2</td>\n      <td>Iris-setosa</td>\n    </tr>\n    <tr>\n      <th>4</th>\n      <td>4.6</td>\n      <td>3.1</td>\n      <td>1.5</td>\n      <td>0.2</td>\n      <td>Iris-setosa</td>\n    </tr>\n    <tr>\n      <th>5</th>\n      <td>5.0</td>\n      <td>3.6</td>\n      <td>1.4</td>\n      <td>0.2</td>\n      <td>Iris-setosa</td>\n    </tr>\n  </tbody>\n</table>\n</div>"
     },
     "metadata": {}
    }
   ]
  },
  {
   "cell_type": "code",
   "metadata": {
    "cell_id": "17f16636175d4324811340fcd5c486e6",
    "tags": [],
    "deepnote_to_be_reexecuted": false,
    "source_hash": "c9bfa5f1",
    "execution_start": 1654609402906,
    "execution_millis": 5,
    "deepnote_cell_type": "code",
    "deepnote_cell_height": 332
   },
   "source": "iris.info()",
   "execution_count": 2,
   "outputs": [
    {
     "name": "stdout",
     "text": "<class 'pandas.core.frame.DataFrame'>\nInt64Index: 150 entries, 1 to 150\nData columns (total 5 columns):\n #   Column         Non-Null Count  Dtype  \n---  ------         --------------  -----  \n 0   SepalLengthCm  150 non-null    float64\n 1   SepalWidthCm   150 non-null    float64\n 2   PetalLengthCm  150 non-null    float64\n 3   PetalWidthCm   150 non-null    float64\n 4   Species        150 non-null    object \ndtypes: float64(4), object(1)\nmemory usage: 7.0+ KB\n",
     "output_type": "stream"
    }
   ]
  },
  {
   "cell_type": "markdown",
   "source": "## Introduction to exploratory data analysis (EDA)",
   "metadata": {
    "formattedRanges": [],
    "cell_id": "aaec5983e2c74af799754554a43bfdfe",
    "tags": [],
    "is_collapsed": false,
    "deepnote_cell_type": "text-cell-h2"
   }
  },
  {
   "cell_type": "markdown",
   "source": "The EDA is the process of organizing, summarizing and plotting your data, in order to begin to drawing conclusions about it.\n\nThe concept was created by John Tukey, who wrote a book entitled Exploratory Data Analysis in 1977.  About EDA, John Tukey said: \"Exploratory data analysis can never be the whole story, but nothing else can serve as the foundation stone.\"",
   "metadata": {
    "cell_id": "49020c0575be46dc9e88cade9462682f",
    "tags": [],
    "deepnote_cell_type": "markdown",
    "deepnote_cell_height": 156
   }
  },
  {
   "cell_type": "markdown",
   "source": "## Plotting a histogram",
   "metadata": {
    "formattedRanges": [],
    "cell_id": "cc87087c5f134ac4b8b0085d96e4137c",
    "tags": [],
    "is_collapsed": false,
    "deepnote_cell_type": "text-cell-h2"
   }
  },
  {
   "cell_type": "markdown",
   "source": "### Plotting a histogram of iris data",
   "metadata": {
    "formattedRanges": [],
    "cell_id": "231082f38f134b58aeedacd739acddd0",
    "tags": [],
    "is_collapsed": false,
    "deepnote_cell_type": "text-cell-h3"
   }
  },
  {
   "cell_type": "code",
   "metadata": {
    "cell_id": "2a0d17cb6e474c45bae4bac0aaa874ff",
    "tags": [],
    "deepnote_to_be_reexecuted": false,
    "source_hash": "ddc36bb4",
    "execution_start": 1654609402914,
    "execution_millis": 2948,
    "deepnote_cell_type": "code",
    "deepnote_cell_height": 458,
    "deepnote_output_heights": [
     253
    ]
   },
   "source": "# Use seaborn to set the plotting defaults\n# Plot a histogram of the Iris versicolor petal lengths\nimport seaborn as sns\nimport matplotlib.pyplot as plt\nsns.set()\nplt.hist(iris[iris.Species == 'Iris-versicolor'].PetalLengthCm)\nplt.show()",
   "execution_count": 3,
   "outputs": [
    {
     "data": {
      "text/plain": "<Figure size 432x288 with 1 Axes>",
      "image/png": "[encoded data removed]"
     },
     "metadata": {
      "needs_background": "light",
      "image/png": {
       "width": 372,
       "height": 251
      }
     },
     "output_type": "display_data"
    }
   ]
  },
  {
   "cell_type": "markdown",
   "source": "### Axis labels!",
   "metadata": {
    "formattedRanges": [],
    "cell_id": "b551df83908149829bce814a14774808",
    "tags": [],
    "is_collapsed": false,
    "deepnote_cell_type": "text-cell-h3"
   }
  },
  {
   "cell_type": "code",
   "metadata": {
    "cell_id": "39708b8da0544b86851a50ccba2ea6df",
    "tags": [],
    "deepnote_to_be_reexecuted": false,
    "source_hash": "1af2f358",
    "execution_start": 1654609405866,
    "execution_millis": 814,
    "deepnote_cell_type": "code",
    "deepnote_cell_height": 511,
    "deepnote_output_heights": [
     270
    ]
   },
   "source": "# Label the axes \n# Don't forget that you should always include units in your axis labels \n# Your y-axis label is just 'count' \n# Your x-axis label is 'petal length (cm)'\n\nplt.hist(iris[iris.Species == 'Iris-versicolor'].PetalLengthCm)\nplt.xlabel('petal length (cm)')\nplt.ylabel('count')\nplt.show()",
   "execution_count": 4,
   "outputs": [
    {
     "data": {
      "text/plain": "<Figure size 432x288 with 1 Axes>",
      "image/png": "[encoded data removed]"
     },
     "metadata": {
      "needs_background": "light",
      "image/png": {
       "width": 389,
       "height": 268
      }
     },
     "output_type": "display_data"
    }
   ]
  },
  {
   "cell_type": "markdown",
   "source": "### Adjusting the number of bins in a histogram",
   "metadata": {
    "formattedRanges": [],
    "cell_id": "412d331b4bb34bb79d54d51f603cac09",
    "tags": [],
    "is_collapsed": false,
    "deepnote_cell_type": "text-cell-h3"
   }
  },
  {
   "cell_type": "code",
   "metadata": {
    "cell_id": "3b7168e58dc9410b9399a02aa23c122e",
    "tags": [],
    "deepnote_to_be_reexecuted": false,
    "source_hash": "ebd1e4ec",
    "execution_start": 1654609406142,
    "execution_millis": 560,
    "deepnote_cell_type": "code",
    "deepnote_cell_height": 547,
    "deepnote_output_heights": [
     270
    ]
   },
   "source": "# Plot the histogram of Iris versicolor petal lengths again, this time using the square root rule for the number of bins\n# The \"square root rule\" is a commonly-used rule of thumb for choosing number of bins: \n# choose the number of bins to be the square root of the number of samples\n\nimport numpy as np \nn_data = len(iris[iris.Species == 'Iris-versicolor'].PetalLengthCm)\nn_bins = int(np.sqrt(n_data))\nplt.hist(iris[iris.Species == 'Iris-versicolor'].PetalLengthCm, bins=n_bins)\nplt.xlabel('petal length (cm)')\nplt.ylabel('count')\nplt.show()",
   "execution_count": 5,
   "outputs": [
    {
     "data": {
      "text/plain": "<Figure size 432x288 with 1 Axes>",
      "image/png": "[encoded data removed]"
     },
     "metadata": {
      "needs_background": "light",
      "image/png": {
       "width": 389,
       "height": 268
      }
     },
     "output_type": "display_data"
    }
   ]
  },
  {
   "cell_type": "markdown",
   "source": "## Plot all of your data: Bee swarm plots",
   "metadata": {
    "formattedRanges": [],
    "cell_id": "7978f109ec524281bf74b98150d36109",
    "tags": [],
    "is_collapsed": false,
    "deepnote_cell_type": "text-cell-h2"
   }
  },
  {
   "cell_type": "markdown",
   "source": "### Bee swarm plot",
   "metadata": {
    "formattedRanges": [],
    "cell_id": "c1745019772b4300bfb1355bb50643d2",
    "tags": [],
    "is_collapsed": false,
    "deepnote_cell_type": "text-cell-h3"
   }
  },
  {
   "cell_type": "code",
   "metadata": {
    "cell_id": "acbda90354e444c593d274a96b2d995d",
    "tags": [],
    "deepnote_to_be_reexecuted": false,
    "source_hash": "234b7b5f",
    "execution_start": 1654609406481,
    "execution_millis": 614,
    "deepnote_cell_type": "code",
    "deepnote_cell_height": 563.796875,
    "deepnote_output_heights": [
     null,
     270
    ]
   },
   "source": "# Use sns.swarmplot() to make a bee swarm plot from the DataFrame containing the Fisher iris data set \n# The x-axis should contain each of the three species, and the y-axis should contain the petal lengths\n# Label the axes\n\nsns.swarmplot(x='Species', y='PetalLengthCm', data=iris)\nplt.xlabel('Species')\nplt.ylabel('Petal length (cm)')\nplt.show()",
   "execution_count": 6,
   "outputs": [
    {
     "name": "stderr",
     "text": "/shared-libs/python3.7/py/lib/python3.7/site-packages/seaborn/categorical.py:1296: UserWarning: 14.0% of the points cannot be placed; you may want to decrease the size of the markers or use stripplot.\n  warnings.warn(msg, UserWarning)\n",
     "output_type": "stream"
    },
    {
     "data": {
      "text/plain": "<Figure size 432x288 with 1 Axes>",
      "image/png": "[encoded data removed]"
     },
     "metadata": {
      "needs_background": "light",
      "image/png": {
       "width": 382,
       "height": 268
      }
     },
     "output_type": "display_data"
    }
   ]
  },
  {
   "cell_type": "markdown",
   "source": "## Plot all of your data: ECDFs",
   "metadata": {
    "formattedRanges": [],
    "cell_id": "cf21e0a176fb45aa9a47017be17313e2",
    "tags": [],
    "is_collapsed": false,
    "deepnote_cell_type": "text-cell-h2"
   }
  },
  {
   "cell_type": "markdown",
   "source": "### Computing the empirical cumulative distribution function ECDF",
   "metadata": {
    "formattedRanges": [],
    "cell_id": "d4018935428b439c9453fd433cd98eeb",
    "tags": [],
    "is_collapsed": false,
    "deepnote_cell_type": "text-cell-h3"
   }
  },
  {
   "cell_type": "code",
   "metadata": {
    "cell_id": "67fe182e97aa459186343262bc69053c",
    "tags": [],
    "deepnote_to_be_reexecuted": false,
    "source_hash": "3ad72268",
    "execution_start": 1654610710788,
    "execution_millis": 2,
    "deepnote_cell_type": "code",
    "deepnote_cell_height": 261
   },
   "source": "# Define a function with the signature ecdf(data)\n# Compute the number of data points, n, using the len() function\n# The x-values are the sorted data\n# The y data of the ECDF go from 1/n to 1 in equally spaced increments\n# The function returns the values x and y\n\ndef ecdf(data):\n    n = len(data)\n    x = np.sort(data)\n    y = np.arange(1, (n+1)) / n\n    return x, y",
   "execution_count": 16,
   "outputs": []
  },
  {
   "cell_type": "markdown",
   "source": "### Plotting the ECDF",
   "metadata": {
    "formattedRanges": [],
    "cell_id": "d01152e2db574313add1001354b3be5c",
    "tags": [],
    "is_collapsed": false,
    "deepnote_cell_type": "text-cell-h3"
   }
  },
  {
   "cell_type": "code",
   "metadata": {
    "cell_id": "f1017ce6de2846d7ba572f27b0c427e0",
    "tags": [],
    "deepnote_to_be_reexecuted": false,
    "source_hash": "ca5582ce",
    "execution_start": 1654610714932,
    "execution_millis": 4,
    "deepnote_cell_type": "code",
    "deepnote_cell_height": 117
   },
   "source": "# Use your ecdf() function to compute the ECDF for the petal lengths of Anderson's Iris versicolor flowers\n# Unpack the output into x_vers and y_vers\nx_vers, y_vers = ecdf(iris[iris.Species == 'Iris-versicolor'].PetalLengthCm)",
   "execution_count": 18,
   "outputs": []
  },
  {
   "cell_type": "code",
   "metadata": {
    "cell_id": "ccf30e63adde48499542abad627bd6e1",
    "tags": [],
    "deepnote_to_be_reexecuted": false,
    "source_hash": "c14d592b",
    "execution_start": 1654610716972,
    "execution_millis": 393,
    "deepnote_cell_type": "code",
    "deepnote_cell_height": 491.1875,
    "deepnote_output_heights": [
     21.1875,
     270
    ]
   },
   "source": "# Plot the ECDF as dots\n# Label the axes\nplt.plot(x_vers, y_vers, marker='.', linestyle='none')\nplt.xlabel('Petal length (cm)')\nplt.ylabel('ECDF')",
   "execution_count": 19,
   "outputs": [
    {
     "output_type": "execute_result",
     "execution_count": 19,
     "data": {
      "text/plain": "Text(0, 0.5, 'ECDF')"
     },
     "metadata": {}
    },
    {
     "data": {
      "text/plain": "<Figure size 432x288 with 1 Axes>",
      "image/png": "[encoded data removed]"
     },
     "metadata": {
      "needs_background": "light",
      "image/png": {
       "width": 393,
       "height": 268
      }
     },
     "output_type": "display_data"
    }
   ]
  },
  {
   "cell_type": "markdown",
   "source": "### Comparison of ECDFs",
   "metadata": {
    "formattedRanges": [],
    "cell_id": "7b32e1e72ab24d268f9bcf86ba377250",
    "tags": [],
    "is_collapsed": false,
    "deepnote_cell_type": "text-cell-h3"
   }
  },
  {
   "cell_type": "code",
   "metadata": {
    "cell_id": "af029877b4d84a5a9ff77d759f4da0e8",
    "tags": [],
    "deepnote_to_be_reexecuted": false,
    "source_hash": "d3092acd",
    "execution_start": 1654610977602,
    "execution_millis": 285,
    "deepnote_cell_type": "code",
    "deepnote_cell_height": 635.1875,
    "deepnote_output_heights": [
     21.1875,
     270
    ]
   },
   "source": "# Compute ECDFs for each of the three species using your ecdf() function\n\nx_vers, y_vers = ecdf(iris[iris.Species == 'Iris-versicolor'].PetalLengthCm)\nx_set, y_set = ecdf(iris[iris.Species == 'Iris-setosa'].PetalLengthCm)\nx_vir, y_vir = ecdf(iris[iris.Species == 'Iris-virginica'].PetalLengthCm)\n\nplt.plot(x_vers, y_vers, marker='.', linestyle='none')\nplt.plot(x_set, y_set, marker='.', linestyle='none')\nplt.plot(x_vir, y_vir, marker='.', linestyle='none')\nplt.legend(('Versicolor', 'Setosa', 'Virginica'))\nplt.xlabel('Petal length (cm)')\nplt.ylabel('ECDF')\nplt.plot()",
   "execution_count": 21,
   "outputs": [
    {
     "output_type": "execute_result",
     "execution_count": 21,
     "data": {
      "text/plain": "[]"
     },
     "metadata": {}
    },
    {
     "data": {
      "text/plain": "<Figure size 432x288 with 1 Axes>",
      "image/png": "[encoded data removed]"
     },
     "metadata": {
      "needs_background": "light",
      "image/png": {
       "width": 393,
       "height": 268
      }
     },
     "output_type": "display_data"
    }
   ]
  },
  {
   "cell_type": "markdown",
   "source": "<a style='text-decoration:none;line-height:16px;display:flex;color:#5B5B62;padding:10px;justify-content:end;' href='https://deepnote.com?utm_source=created-in-deepnote-cell&projectId=372b2736-5c01-43ec-8ea4-0d42b8b93393' target=\"_blank\">\n<img alt='Created in deepnote.com' style='display:inline;max-height:16px;margin:0px;margin-right:7.5px;' src='data:image/svg+xml;base64,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' > </img>\nCreated in <span style='font-weight:600;margin-left:4px;'>Deepnote</span></a>",
   "metadata": {
    "tags": [],
    "created_in_deepnote_cell": true,
    "deepnote_cell_type": "markdown"
   }
  }
 ],
 "nbformat": 4,
 "nbformat_minor": 2,
 "metadata": {
  "orig_nbformat": 2,
  "deepnote": {},
  "deepnote_notebook_id": "d44fbc2b-d95a-404c-9d64-ff8863fdf722",
  "deepnote_execution_queue": []
 }
}