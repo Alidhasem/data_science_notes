{
 "cells": [
  {
   "cell_type": "markdown",
   "source": "# Preparing the data for analysis",
   "metadata": {
    "cell_id": "85917ecaf7594c6292366389e8241d63",
    "tags": [],
    "is_collapsed": false,
    "deepnote_cell_type": "text-cell-h1"
   }
  },
  {
   "cell_type": "markdown",
   "source": "You'll be working with a dataset of traffic stops by police officers that was collected by the Stanford Open Policing Project.\n\nYou'll be focusing on data from the state of Rhode Island.",
   "metadata": {
    "cell_id": "4bde15f03e944115a52be05343ff99e5",
    "tags": [],
    "deepnote_cell_type": "markdown",
    "deepnote_cell_height": 111.1875
   }
  },
  {
   "cell_type": "markdown",
   "source": "## Stanford Open Policing Project dataset ",
   "metadata": {
    "cell_id": "92632f9b9d01403ba60bbbc441659e5c",
    "tags": [],
    "is_collapsed": false,
    "deepnote_cell_type": "text-cell-h2"
   }
  },
  {
   "cell_type": "code",
   "metadata": {
    "cell_id": "3b8c9958e00c4277b55386e342f60ae8",
    "tags": [],
    "deepnote_to_be_reexecuted": false,
    "source_hash": "475642a",
    "execution_start": 1654094553553,
    "execution_millis": 235,
    "owner_user_id": "ef1985d3-6878-4f43-aa7a-40eb37e1c2a1",
    "deepnote_cell_type": "code",
    "deepnote_cell_height": 498.078125
   },
   "source": "# Read the file police.csv into a DataFrame named ri\n# Examine the first 5 rows of the DataFrame\n\nimport pandas as pd\nri = pd.read_csv('/work/data_science_notes/ 23. Analyzing police activity with pandas/data/police.csv')\nri.head()",
   "execution_count": 1,
   "outputs": [
    {
     "output_type": "execute_result",
     "execution_count": 1,
     "data": {
      "application/vnd.deepnote.dataframe.v3+json": {
       "column_count": 15,
       "row_count": 5,
       "columns": [
        {
         "name": "state",
         "dtype": "object",
         "stats": {
          "unique_count": 1,
          "nan_count": 0,
          "categories": [
           {
            "name": "RI",
            "count": 5
           }
          ]
         }
        },
        {
         "name": "stop_date",
         "dtype": "object",
         "stats": {
          "unique_count": 5,
          "nan_count": 0,
          "categories": [
           {
            "name": "2005-01-04",
            "count": 1
           },
           {
            "name": "2005-01-23",
            "count": 1
           },
           {
            "name": "3 others",
            "count": 3
           }
          ]
         }
        },
        {
         "name": "stop_time",
         "dtype": "object",
         "stats": {
          "unique_count": 5,
          "nan_count": 0,
          "categories": [
           {
            "name": "12:55",
            "count": 1
           },
           {
            "name": "23:15",
            "count": 1
           },
           {
            "name": "3 others",
            "count": 3
           }
          ]
         }
        },
        {
         "name": "county_name",
         "dtype": "float64",
         "stats": {
          "unique_count": 0,
          "nan_count": 5,
          "min": null,
          "max": null,
          "histogram": [
           {
            "bin_start": 0,
            "bin_end": 0.1,
            "count": 0
           },
           {
            "bin_start": 0.1,
            "bin_end": 0.2,
            "count": 0
           },
           {
            "bin_start": 0.2,
            "bin_end": 0.30000000000000004,
            "count": 0
           },
           {
            "bin_start": 0.30000000000000004,
            "bin_end": 0.4,
            "count": 0
           },
           {
            "bin_start": 0.4,
            "bin_end": 0.5,
            "count": 0
           },
           {
            "bin_start": 0.5,
            "bin_end": 0.6000000000000001,
            "count": 0
           },
           {
            "bin_start": 0.6000000000000001,
            "bin_end": 0.7000000000000001,
            "count": 0
           },
           {
            "bin_start": 0.7000000000000001,
            "bin_end": 0.8,
            "count": 0
           },
           {
            "bin_start": 0.8,
            "bin_end": 0.9,
            "count": 0
           },
           {
            "bin_start": 0.9,
            "bin_end": 1,
            "count": 0
           }
          ]
         }
        },
        {
         "name": "driver_gender",
         "dtype": "object",
         "stats": {
          "unique_count": 2,
          "nan_count": 0,
          "categories": [
           {
            "name": "M",
            "count": 4
           },
           {
            "name": "F",
            "count": 1
           }
          ]
         }
        },
        {
         "name": "driver_race",
         "dtype": "object",
         "stats": {
          "unique_count": 1,
          "nan_count": 0,
          "categories": [
           {
            "name": "White",
            "count": 5
           }
          ]
         }
        },
        {
         "name": "violation_raw",
         "dtype": "object",
         "stats": {
          "unique_count": 3,
          "nan_count": 0,
          "categories": [
           {
            "name": "Speeding",
            "count": 3
           },
           {
            "name": "Equipment/Inspection Violation",
            "count": 1
           },
           {
            "name": "Call for Service",
            "count": 1
           }
          ]
         }
        },
        {
         "name": "violation",
         "dtype": "object",
         "stats": {
          "unique_count": 3,
          "nan_count": 0,
          "categories": [
           {
            "name": "Speeding",
            "count": 3
           },
           {
            "name": "Equipment",
            "count": 1
           },
           {
            "name": "Other",
            "count": 1
           }
          ]
         }
        },
        {
         "name": "search_conducted",
         "dtype": "bool",
         "stats": {
          "unique_count": 1,
          "nan_count": 0,
          "categories": [
           {
            "name": "False",
            "count": 5
           }
          ]
         }
        },
        {
         "name": "search_type",
         "dtype": "object",
         "stats": {
          "unique_count": 0,
          "nan_count": 5,
          "categories": [
           {
            "name": "Missing",
            "count": 5
           }
          ]
         }
        },
        {
         "name": "stop_outcome",
         "dtype": "object",
         "stats": {
          "unique_count": 2,
          "nan_count": 0,
          "categories": [
           {
            "name": "Citation",
            "count": 4
           },
           {
            "name": "Arrest Driver",
            "count": 1
           }
          ]
         }
        },
        {
         "name": "is_arrested",
         "dtype": "object",
         "stats": {
          "unique_count": 2,
          "nan_count": 0,
          "categories": [
           {
            "name": "False",
            "count": 4
           },
           {
            "name": "True",
            "count": 1
           }
          ]
         }
        },
        {
         "name": "stop_duration",
         "dtype": "object",
         "stats": {
          "unique_count": 2,
          "nan_count": 0,
          "categories": [
           {
            "name": "0-15 Min",
            "count": 4
           },
           {
            "name": "16-30 Min",
            "count": 1
           }
          ]
         }
        },
        {
         "name": "drugs_related_stop",
         "dtype": "bool",
         "stats": {
          "unique_count": 1,
          "nan_count": 0,
          "categories": [
           {
            "name": "False",
            "count": 5
           }
          ]
         }
        },
        {
         "name": "district",
         "dtype": "object",
         "stats": {
          "unique_count": 4,
          "nan_count": 0,
          "categories": [
           {
            "name": "Zone X4",
            "count": 2
           },
           {
            "name": "Zone K3",
            "count": 1
           },
           {
            "name": "2 others",
            "count": 2
           }
          ]
         }
        },
        {
         "name": "_deepnote_index_column",
         "dtype": "int64"
        }
       ],
       "rows": [
        {
         "state": "RI",
         "stop_date": "2005-01-04",
         "stop_time": "12:55",
         "county_name": "nan",
         "driver_gender": "M",
         "driver_race": "White",
         "violation_raw": "Equipment/Inspection Violation",
         "violation": "Equipment",
         "search_conducted": false,
         "search_type": "nan",
         "stop_outcome": "Citation",
         "is_arrested": "False",
         "stop_duration": "0-15 Min",
         "drugs_related_stop": false,
         "district": "Zone X4",
         "_deepnote_index_column": 0
        },
        {
         "state": "RI",
         "stop_date": "2005-01-23",
         "stop_time": "23:15",
         "county_name": "nan",
         "driver_gender": "M",
         "driver_race": "White",
         "violation_raw": "Speeding",
         "violation": "Speeding",
         "search_conducted": false,
         "search_type": "nan",
         "stop_outcome": "Citation",
         "is_arrested": "False",
         "stop_duration": "0-15 Min",
         "drugs_related_stop": false,
         "district": "Zone K3",
         "_deepnote_index_column": 1
        },
        {
         "state": "RI",
         "stop_date": "2005-02-17",
         "stop_time": "04:15",
         "county_name": "nan",
         "driver_gender": "M",
         "driver_race": "White",
         "violation_raw": "Speeding",
         "violation": "Speeding",
         "search_conducted": false,
         "search_type": "nan",
         "stop_outcome": "Citation",
         "is_arrested": "False",
         "stop_duration": "0-15 Min",
         "drugs_related_stop": false,
         "district": "Zone X4",
         "_deepnote_index_column": 2
        },
        {
         "state": "RI",
         "stop_date": "2005-02-20",
         "stop_time": "17:15",
         "county_name": "nan",
         "driver_gender": "M",
         "driver_race": "White",
         "violation_raw": "Call for Service",
         "violation": "Other",
         "search_conducted": false,
         "search_type": "nan",
         "stop_outcome": "Arrest Driver",
         "is_arrested": "True",
         "stop_duration": "16-30 Min",
         "drugs_related_stop": false,
         "district": "Zone X1",
         "_deepnote_index_column": 3
        },
        {
         "state": "RI",
         "stop_date": "2005-02-24",
         "stop_time": "01:20",
         "county_name": "nan",
         "driver_gender": "F",
         "driver_race": "White",
         "violation_raw": "Speeding",
         "violation": "Speeding",
         "search_conducted": false,
         "search_type": "nan",
         "stop_outcome": "Citation",
         "is_arrested": "False",
         "stop_duration": "0-15 Min",
         "drugs_related_stop": false,
         "district": "Zone X3",
         "_deepnote_index_column": 4
        }
       ]
      },
      "text/plain": "  state   stop_date stop_time  county_name driver_gender driver_race  \\\n0    RI  2005-01-04     12:55          NaN             M       White   \n1    RI  2005-01-23     23:15          NaN             M       White   \n2    RI  2005-02-17     04:15          NaN             M       White   \n3    RI  2005-02-20     17:15          NaN             M       White   \n4    RI  2005-02-24     01:20          NaN             F       White   \n\n                    violation_raw  violation  search_conducted search_type  \\\n0  Equipment/Inspection Violation  Equipment             False         NaN   \n1                        Speeding   Speeding             False         NaN   \n2                        Speeding   Speeding             False         NaN   \n3                Call for Service      Other             False         NaN   \n4                        Speeding   Speeding             False         NaN   \n\n    stop_outcome is_arrested stop_duration  drugs_related_stop district  \n0       Citation       False      0-15 Min               False  Zone X4  \n1       Citation       False      0-15 Min               False  Zone K3  \n2       Citation       False      0-15 Min               False  Zone X4  \n3  Arrest Driver        True     16-30 Min               False  Zone X1  \n4       Citation       False      0-15 Min               False  Zone X3  ",
      "text/html": "<div>\n<style scoped>\n    .dataframe tbody tr th:only-of-type {\n        vertical-align: middle;\n    }\n\n    .dataframe tbody tr th {\n        vertical-align: top;\n    }\n\n    .dataframe thead th {\n        text-align: right;\n    }\n</style>\n<table border=\"1\" class=\"dataframe\">\n  <thead>\n    <tr style=\"text-align: right;\">\n      <th></th>\n      <th>state</th>\n      <th>stop_date</th>\n      <th>stop_time</th>\n      <th>county_name</th>\n      <th>driver_gender</th>\n      <th>driver_race</th>\n      <th>violation_raw</th>\n      <th>violation</th>\n      <th>search_conducted</th>\n      <th>search_type</th>\n      <th>stop_outcome</th>\n      <th>is_arrested</th>\n      <th>stop_duration</th>\n      <th>drugs_related_stop</th>\n      <th>district</th>\n    </tr>\n  </thead>\n  <tbody>\n    <tr>\n      <th>0</th>\n      <td>RI</td>\n      <td>2005-01-04</td>\n      <td>12:55</td>\n      <td>NaN</td>\n      <td>M</td>\n      <td>White</td>\n      <td>Equipment/Inspection Violation</td>\n      <td>Equipment</td>\n      <td>False</td>\n      <td>NaN</td>\n      <td>Citation</td>\n      <td>False</td>\n      <td>0-15 Min</td>\n      <td>False</td>\n      <td>Zone X4</td>\n    </tr>\n    <tr>\n      <th>1</th>\n      <td>RI</td>\n      <td>2005-01-23</td>\n      <td>23:15</td>\n      <td>NaN</td>\n      <td>M</td>\n      <td>White</td>\n      <td>Speeding</td>\n      <td>Speeding</td>\n      <td>False</td>\n      <td>NaN</td>\n      <td>Citation</td>\n      <td>False</td>\n      <td>0-15 Min</td>\n      <td>False</td>\n      <td>Zone K3</td>\n    </tr>\n    <tr>\n      <th>2</th>\n      <td>RI</td>\n      <td>2005-02-17</td>\n      <td>04:15</td>\n      <td>NaN</td>\n      <td>M</td>\n      <td>White</td>\n      <td>Speeding</td>\n      <td>Speeding</td>\n      <td>False</td>\n      <td>NaN</td>\n      <td>Citation</td>\n      <td>False</td>\n      <td>0-15 Min</td>\n      <td>False</td>\n      <td>Zone X4</td>\n    </tr>\n    <tr>\n      <th>3</th>\n      <td>RI</td>\n      <td>2005-02-20</td>\n      <td>17:15</td>\n      <td>NaN</td>\n      <td>M</td>\n      <td>White</td>\n      <td>Call for Service</td>\n      <td>Other</td>\n      <td>False</td>\n      <td>NaN</td>\n      <td>Arrest Driver</td>\n      <td>True</td>\n      <td>16-30 Min</td>\n      <td>False</td>\n      <td>Zone X1</td>\n    </tr>\n    <tr>\n      <th>4</th>\n      <td>RI</td>\n      <td>2005-02-24</td>\n      <td>01:20</td>\n      <td>NaN</td>\n      <td>F</td>\n      <td>White</td>\n      <td>Speeding</td>\n      <td>Speeding</td>\n      <td>False</td>\n      <td>NaN</td>\n      <td>Citation</td>\n      <td>False</td>\n      <td>0-15 Min</td>\n      <td>False</td>\n      <td>Zone X3</td>\n    </tr>\n  </tbody>\n</table>\n</div>"
     },
     "metadata": {}
    }
   ]
  },
  {
   "cell_type": "code",
   "metadata": {
    "cell_id": "0f648c280a7e48b599dce493b15b8c83",
    "tags": [],
    "deepnote_to_be_reexecuted": false,
    "source_hash": "bbf523b3",
    "execution_start": 1654094553791,
    "execution_millis": 65,
    "deepnote_cell_type": "code",
    "deepnote_cell_height": 442.0625,
    "deepnote_output_heights": [
     309.078125
    ]
   },
   "source": "# Count the number of missing values in each column\n\nri.isna().sum()",
   "execution_count": 2,
   "outputs": [
    {
     "output_type": "execute_result",
     "execution_count": 2,
     "data": {
      "text/plain": "state                     0\nstop_date                 0\nstop_time                 0\ncounty_name           91741\ndriver_gender          5205\ndriver_race            5202\nviolation_raw          5202\nviolation              5202\nsearch_conducted          0\nsearch_type           88434\nstop_outcome           5202\nis_arrested            5202\nstop_duration          5202\ndrugs_related_stop        0\ndistrict                  0\ndtype: int64"
     },
     "metadata": {}
    }
   ]
  },
  {
   "cell_type": "code",
   "metadata": {
    "cell_id": "cf68df3cded94c71a91601d8ecc8674a",
    "tags": [],
    "deepnote_to_be_reexecuted": false,
    "source_hash": "b47f673",
    "execution_start": 1654094553858,
    "execution_millis": 22,
    "deepnote_cell_type": "code",
    "deepnote_cell_height": 154.171875,
    "deepnote_output_heights": [
     21.1875
    ]
   },
   "source": "# Find out the number of rows and columns of ri\n\nri.shape",
   "execution_count": 3,
   "outputs": [
    {
     "output_type": "execute_result",
     "execution_count": 3,
     "data": {
      "text/plain": "(91741, 15)"
     },
     "metadata": {}
    }
   ]
  },
  {
   "cell_type": "code",
   "metadata": {
    "cell_id": "1b7c5ac051ce42598841078a993525bc",
    "tags": [],
    "deepnote_to_be_reexecuted": false,
    "source_hash": "201e1a49",
    "execution_start": 1654094553879,
    "execution_millis": 10,
    "deepnote_cell_type": "code",
    "deepnote_cell_height": 189
   },
   "source": "# Drop both the county_name and state columns\n# All county_name values are missing\n# All ri vales are from Rhode Island\n\nri.drop(['county_name', 'state'], axis='columns', inplace=True)\n\n# ERROR! Remeber to add the axis argument",
   "execution_count": 4,
   "outputs": []
  },
  {
   "cell_type": "code",
   "metadata": {
    "cell_id": "2219bdb072174986aaa79af14987e26d",
    "tags": [],
    "deepnote_to_be_reexecuted": false,
    "source_hash": "d421880c",
    "execution_start": 1654094553893,
    "execution_millis": 9,
    "deepnote_cell_type": "code",
    "deepnote_cell_height": 136.171875,
    "deepnote_output_heights": [
     21.1875
    ]
   },
   "source": "# Verify that there are now two fewer columns\nri.shape",
   "execution_count": 5,
   "outputs": [
    {
     "output_type": "execute_result",
     "execution_count": 5,
     "data": {
      "text/plain": "(91741, 13)"
     },
     "metadata": {}
    }
   ]
  },
  {
   "cell_type": "code",
   "metadata": {
    "cell_id": "17ec5d4c4b3b4fbd86729672bab9c627",
    "tags": [],
    "deepnote_to_be_reexecuted": false,
    "source_hash": "cea76a9e",
    "execution_start": 1654094553939,
    "execution_millis": 8,
    "deepnote_cell_type": "code",
    "deepnote_cell_height": 385.6875,
    "deepnote_output_heights": [
     270.703125
    ]
   },
   "source": "# Count the number of missing values in each column\nri.isna().sum()",
   "execution_count": 6,
   "outputs": [
    {
     "output_type": "execute_result",
     "execution_count": 6,
     "data": {
      "text/plain": "stop_date                 0\nstop_time                 0\ndriver_gender          5205\ndriver_race            5202\nviolation_raw          5202\nviolation              5202\nsearch_conducted          0\nsearch_type           88434\nstop_outcome           5202\nis_arrested            5202\nstop_duration          5202\ndrugs_related_stop        0\ndistrict                  0\ndtype: int64"
     },
     "metadata": {}
    }
   ]
  },
  {
   "cell_type": "code",
   "metadata": {
    "cell_id": "470c304270c5458bb2f6b23897062427",
    "tags": [],
    "deepnote_to_be_reexecuted": false,
    "source_hash": "4b44757f",
    "execution_start": 1654094553952,
    "execution_millis": 23,
    "deepnote_cell_type": "code",
    "deepnote_cell_height": 153
   },
   "source": "# Drop all rows that are missing driver_gender\n# It'll be an important in our analysis\nri.dropna(subset=['driver_gender'], inplace=True)\n\n# ERROR! You need to specify the columns to drop on by the subset argument",
   "execution_count": 7,
   "outputs": []
  },
  {
   "cell_type": "code",
   "metadata": {
    "cell_id": "04cffbc3b0ab404f982f4b4f1ae6ed49",
    "tags": [],
    "deepnote_to_be_reexecuted": false,
    "source_hash": "d7f1eef4",
    "execution_start": 1654094554011,
    "execution_millis": 12,
    "deepnote_cell_type": "code",
    "deepnote_cell_height": 385.6875,
    "deepnote_output_heights": [
     270.703125
    ]
   },
   "source": "# Verify that none of the remaining rows are missing driver_gender\nri.isna().sum()",
   "execution_count": 8,
   "outputs": [
    {
     "output_type": "execute_result",
     "execution_count": 8,
     "data": {
      "text/plain": "stop_date                 0\nstop_time                 0\ndriver_gender             0\ndriver_race               0\nviolation_raw             0\nviolation                 0\nsearch_conducted          0\nsearch_type           83229\nstop_outcome              0\nis_arrested               0\nstop_duration             0\ndrugs_related_stop        0\ndistrict                  0\ndtype: int64"
     },
     "metadata": {}
    }
   ]
  },
  {
   "cell_type": "code",
   "metadata": {
    "cell_id": "e558d03ed8ab4aca8b833417fa44d525",
    "tags": [],
    "deepnote_to_be_reexecuted": false,
    "source_hash": "92207c0a",
    "execution_start": 1654094554027,
    "execution_millis": 5,
    "deepnote_cell_type": "code",
    "deepnote_cell_height": 136.171875,
    "deepnote_output_heights": [
     21.1875
    ]
   },
   "source": "# Find how many rows and columns remain\nri.shape",
   "execution_count": 9,
   "outputs": [
    {
     "output_type": "execute_result",
     "execution_count": 9,
     "data": {
      "text/plain": "(86536, 13)"
     },
     "metadata": {}
    }
   ]
  },
  {
   "cell_type": "markdown",
   "source": "## Using proper data types",
   "metadata": {
    "cell_id": "79e06f9d087241bcabd5145d3111cafe",
    "tags": [],
    "is_collapsed": false,
    "deepnote_cell_type": "text-cell-h2"
   }
  },
  {
   "cell_type": "code",
   "metadata": {
    "cell_id": "35dfb07727dc49d1814cf9f06994ece5",
    "tags": [],
    "deepnote_to_be_reexecuted": false,
    "source_hash": "2e1bc7dd",
    "execution_start": 1654094554065,
    "execution_millis": 1,
    "deepnote_cell_type": "code",
    "deepnote_cell_height": 232.140625,
    "deepnote_output_heights": [
     117.15625
    ]
   },
   "source": "# Examine the head of the is_arrested column to verify that it contains True and False values and to check the column's data type\nri['is_arrested'].head()",
   "execution_count": 10,
   "outputs": [
    {
     "output_type": "execute_result",
     "execution_count": 10,
     "data": {
      "text/plain": "0    False\n1    False\n2    False\n3     True\n4    False\nName: is_arrested, dtype: object"
     },
     "metadata": {}
    }
   ]
  },
  {
   "cell_type": "code",
   "metadata": {
    "cell_id": "2af8fce46b534963bd8fb0395f43c73a",
    "tags": [],
    "deepnote_to_be_reexecuted": false,
    "source_hash": "1dff9aae",
    "execution_start": 1654094554066,
    "execution_millis": 35,
    "deepnote_cell_type": "code",
    "deepnote_cell_height": 99
   },
   "source": "# Convert is_arrested to a bool column\nri['is_arrested']= ri.is_arrested.astype('bool')",
   "execution_count": 11,
   "outputs": []
  },
  {
   "cell_type": "code",
   "metadata": {
    "cell_id": "542e90e87a1541998d084851ba64bb30",
    "tags": [],
    "deepnote_to_be_reexecuted": false,
    "source_hash": "5b6e84fe",
    "execution_start": 1654094554068,
    "execution_millis": 80,
    "deepnote_cell_type": "code",
    "deepnote_cell_height": 136.171875,
    "deepnote_output_heights": [
     21.1875
    ]
   },
   "source": "# Check the new data type of is_arrested to confirm that it is now a bool column\nri.is_arrested.dtypes",
   "execution_count": 12,
   "outputs": [
    {
     "output_type": "execute_result",
     "execution_count": 12,
     "data": {
      "text/plain": "dtype('bool')"
     },
     "metadata": {}
    }
   ]
  },
  {
   "cell_type": "markdown",
   "source": "## Creating a DatetimeIndex",
   "metadata": {
    "cell_id": "95c94fd8ea7048f08cb8a3c5898aeb77",
    "tags": [],
    "is_collapsed": false,
    "deepnote_cell_type": "text-cell-h2"
   }
  },
  {
   "cell_type": "code",
   "metadata": {
    "cell_id": "b873233403524de6a317227ca0b0f9b4",
    "tags": [],
    "deepnote_to_be_reexecuted": false,
    "source_hash": "2ae03e57",
    "execution_start": 1654094554070,
    "execution_millis": 32,
    "deepnote_cell_type": "code",
    "deepnote_cell_height": 99
   },
   "source": "# Use a string method to concatenate stop_date and stop_time (separated by a space), and store the result in combined\ncombined = ri.stop_date.str.cat(' ' + ri.stop_time)",
   "execution_count": 13,
   "outputs": []
  },
  {
   "cell_type": "code",
   "metadata": {
    "cell_id": "fe0783de65d844cea9bb7909a6de0b0a",
    "tags": [],
    "deepnote_to_be_reexecuted": false,
    "source_hash": "47407a32",
    "execution_start": 1654094554119,
    "execution_millis": 5,
    "deepnote_cell_type": "code",
    "deepnote_cell_height": 99
   },
   "source": "# Convert combined to datetime format, and store the result in a new column named stop_datetime\nri['stop_datetime'] = pd.to_datetime(combined)",
   "execution_count": 14,
   "outputs": []
  },
  {
   "cell_type": "code",
   "metadata": {
    "cell_id": "ac816ecb2ca54c9882598b34c668fc82",
    "tags": [],
    "deepnote_to_be_reexecuted": false,
    "source_hash": "e730fd69",
    "execution_start": 1654094554128,
    "execution_millis": 222,
    "deepnote_cell_type": "code",
    "deepnote_cell_height": 404.875,
    "deepnote_output_heights": [
     289.890625
    ]
   },
   "source": "# Examine the DataFrame .dtypes to confirm that stop_datetime is a datetime column\nri.dtypes",
   "execution_count": 15,
   "outputs": [
    {
     "output_type": "execute_result",
     "execution_count": 15,
     "data": {
      "text/plain": "stop_date                     object\nstop_time                     object\ndriver_gender                 object\ndriver_race                   object\nviolation_raw                 object\nviolation                     object\nsearch_conducted                bool\nsearch_type                   object\nstop_outcome                  object\nis_arrested                     bool\nstop_duration                 object\ndrugs_related_stop              bool\ndistrict                      object\nstop_datetime         datetime64[ns]\ndtype: object"
     },
     "metadata": {}
    }
   ]
  },
  {
   "cell_type": "code",
   "metadata": {
    "cell_id": "ad2d4242701c4f3ea723b296e4898098",
    "tags": [],
    "deepnote_to_be_reexecuted": false,
    "source_hash": "c107a4a7",
    "execution_start": 1654094554139,
    "execution_millis": 10,
    "deepnote_cell_type": "code",
    "deepnote_cell_height": 99
   },
   "source": "# Set stop_datetime as the DataFrame index\nri = ri.set_index('stop_datetime')",
   "execution_count": 16,
   "outputs": []
  },
  {
   "cell_type": "code",
   "metadata": {
    "cell_id": "1d3b06c3cc4048e182157bf72daaeb41",
    "tags": [],
    "deepnote_to_be_reexecuted": false,
    "source_hash": "48f5ff7",
    "execution_start": 1654094554153,
    "execution_millis": 200,
    "deepnote_cell_type": "code",
    "deepnote_cell_height": 347.296875,
    "deepnote_output_heights": [
     232.3125
    ]
   },
   "source": "# Examine the index to verify that it is a DatetimeIndex\nri.index",
   "execution_count": 17,
   "outputs": [
    {
     "output_type": "execute_result",
     "execution_count": 17,
     "data": {
      "text/plain": "DatetimeIndex(['2005-01-04 12:55:00', '2005-01-23 23:15:00',\n               '2005-02-17 04:15:00', '2005-02-20 17:15:00',\n               '2005-02-24 01:20:00', '2005-03-14 10:00:00',\n               '2005-03-29 21:55:00', '2005-04-04 21:25:00',\n               '2005-07-14 11:20:00', '2005-07-14 19:55:00',\n               ...\n               '2015-12-31 13:23:00', '2015-12-31 18:59:00',\n               '2015-12-31 19:13:00', '2015-12-31 20:20:00',\n               '2015-12-31 20:50:00', '2015-12-31 21:21:00',\n               '2015-12-31 21:59:00', '2015-12-31 22:04:00',\n               '2015-12-31 22:09:00', '2015-12-31 22:47:00'],\n              dtype='datetime64[ns]', name='stop_datetime', length=86536, freq=None)"
     },
     "metadata": {}
    }
   ]
  },
  {
   "cell_type": "code",
   "metadata": {
    "cell_id": "dc78e96f0293470d96cb72080b4357ea",
    "tags": [],
    "deepnote_to_be_reexecuted": false,
    "source_hash": "c59b75ee",
    "execution_start": 1654094554165,
    "execution_millis": 191,
    "deepnote_cell_type": "code",
    "deepnote_cell_height": 212.9375,
    "deepnote_output_heights": [
     97.953125
    ]
   },
   "source": "# Examine the DataFrame columns to confirm that stop_datetime is no longer one of the columns\nri.columns",
   "execution_count": 18,
   "outputs": [
    {
     "output_type": "execute_result",
     "execution_count": 18,
     "data": {
      "text/plain": "Index(['stop_date', 'stop_time', 'driver_gender', 'driver_race',\n       'violation_raw', 'violation', 'search_conducted', 'search_type',\n       'stop_outcome', 'is_arrested', 'stop_duration', 'drugs_related_stop',\n       'district'],\n      dtype='object')"
     },
     "metadata": {}
    }
   ]
  },
  {
   "cell_type": "markdown",
   "source": "<a style='text-decoration:none;line-height:16px;display:flex;color:#5B5B62;padding:10px;justify-content:end;' href='https://deepnote.com?utm_source=created-in-deepnote-cell&projectId=dc001eea-22fe-4a27-852d-7fbece520334' target=\"_blank\">\n<img alt='Created in deepnote.com' style='display:inline;max-height:16px;margin:0px;margin-right:7.5px;' src='data:image/svg+xml;base64,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' > </img>\nCreated in <span style='font-weight:600;margin-left:4px;'>Deepnote</span></a>",
   "metadata": {
    "tags": [],
    "created_in_deepnote_cell": true,
    "deepnote_cell_type": "markdown"
   }
  }
 ],
 "nbformat": 4,
 "nbformat_minor": 2,
 "metadata": {
  "orig_nbformat": 2,
  "deepnote": {},
  "deepnote_notebook_id": "f4cabb79-8cab-4bb5-885e-73ec9f7627f2",
  "deepnote_execution_queue": []
 }
}