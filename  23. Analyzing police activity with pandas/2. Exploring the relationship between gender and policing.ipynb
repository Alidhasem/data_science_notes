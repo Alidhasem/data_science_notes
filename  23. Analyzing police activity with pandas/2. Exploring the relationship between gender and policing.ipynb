{
 "cells": [
  {
   "cell_type": "markdown",
   "source": "# Exploring the relationship between gender and policing\n",
   "metadata": {
    "cell_id": "8a94875650124262bd01527594156030",
    "tags": [],
    "is_collapsed": false,
    "deepnote_cell_type": "text-cell-h1"
   }
  },
  {
   "cell_type": "markdown",
   "source": "You'll be working with a dataset of traffic stops by police officers that was collected by the Stanford Open Policing Project. \n\nYou'll be focusing on data from the state of Rhode Island. ",
   "metadata": {
    "cell_id": "448e366ddf76425e8dfb7a3898349783",
    "tags": [],
    "deepnote_cell_type": "markdown",
    "deepnote_cell_height": 111.1875
   }
  },
  {
   "cell_type": "code",
   "metadata": {
    "cell_id": "a98a6e93804545ddad70547595ddca3e",
    "tags": [],
    "deepnote_to_be_reexecuted": false,
    "source_hash": "99e9b53",
    "execution_start": 1654094592336,
    "execution_millis": 230,
    "owner_user_id": "ef1985d3-6878-4f43-aa7a-40eb37e1c2a1",
    "deepnote_cell_type": "code",
    "deepnote_cell_height": 444.078125
   },
   "source": "import pandas as pd\nri = pd.read_csv('/work/data_science_notes/ 23. Analyzing police activity with pandas/data/police_edited.csv')\nri.head()",
   "execution_count": null,
   "outputs": [
    {
     "output_type": "execute_result",
     "execution_count": 1,
     "data": {
      "application/vnd.deepnote.dataframe.v3+json": {
       "column_count": 14,
       "row_count": 5,
       "columns": [
        {
         "name": "stop_datetime",
         "dtype": "object",
         "stats": {
          "unique_count": 5,
          "nan_count": 0,
          "categories": [
           {
            "name": "2005-01-04 12:55:00",
            "count": 1
           },
           {
            "name": "2005-01-23 23:15:00",
            "count": 1
           },
           {
            "name": "3 others",
            "count": 3
           }
          ]
         }
        },
        {
         "name": "stop_date",
         "dtype": "object",
         "stats": {
          "unique_count": 5,
          "nan_count": 0,
          "categories": [
           {
            "name": "2005-01-04",
            "count": 1
           },
           {
            "name": "2005-01-23",
            "count": 1
           },
           {
            "name": "3 others",
            "count": 3
           }
          ]
         }
        },
        {
         "name": "stop_time",
         "dtype": "object",
         "stats": {
          "unique_count": 5,
          "nan_count": 0,
          "categories": [
           {
            "name": "12:55",
            "count": 1
           },
           {
            "name": "23:15",
            "count": 1
           },
           {
            "name": "3 others",
            "count": 3
           }
          ]
         }
        },
        {
         "name": "driver_gender",
         "dtype": "object",
         "stats": {
          "unique_count": 2,
          "nan_count": 0,
          "categories": [
           {
            "name": "M",
            "count": 4
           },
           {
            "name": "F",
            "count": 1
           }
          ]
         }
        },
        {
         "name": "driver_race",
         "dtype": "object",
         "stats": {
          "unique_count": 1,
          "nan_count": 0,
          "categories": [
           {
            "name": "White",
            "count": 5
           }
          ]
         }
        },
        {
         "name": "violation_raw",
         "dtype": "object",
         "stats": {
          "unique_count": 3,
          "nan_count": 0,
          "categories": [
           {
            "name": "Speeding",
            "count": 3
           },
           {
            "name": "Equipment/Inspection Violation",
            "count": 1
           },
           {
            "name": "Call for Service",
            "count": 1
           }
          ]
         }
        },
        {
         "name": "violation",
         "dtype": "object",
         "stats": {
          "unique_count": 3,
          "nan_count": 0,
          "categories": [
           {
            "name": "Speeding",
            "count": 3
           },
           {
            "name": "Equipment",
            "count": 1
           },
           {
            "name": "Other",
            "count": 1
           }
          ]
         }
        },
        {
         "name": "search_conducted",
         "dtype": "bool",
         "stats": {
          "unique_count": 1,
          "nan_count": 0,
          "categories": [
           {
            "name": "False",
            "count": 5
           }
          ]
         }
        },
        {
         "name": "search_type",
         "dtype": "object",
         "stats": {
          "unique_count": 0,
          "nan_count": 5,
          "categories": [
           {
            "name": "Missing",
            "count": 5
           }
          ]
         }
        },
        {
         "name": "stop_outcome",
         "dtype": "object",
         "stats": {
          "unique_count": 2,
          "nan_count": 0,
          "categories": [
           {
            "name": "Citation",
            "count": 4
           },
           {
            "name": "Arrest Driver",
            "count": 1
           }
          ]
         }
        },
        {
         "name": "is_arrested",
         "dtype": "bool",
         "stats": {
          "unique_count": 2,
          "nan_count": 0,
          "categories": [
           {
            "name": "False",
            "count": 4
           },
           {
            "name": "True",
            "count": 1
           }
          ]
         }
        },
        {
         "name": "stop_duration",
         "dtype": "object",
         "stats": {
          "unique_count": 2,
          "nan_count": 0,
          "categories": [
           {
            "name": "0-15 Min",
            "count": 4
           },
           {
            "name": "16-30 Min",
            "count": 1
           }
          ]
         }
        },
        {
         "name": "drugs_related_stop",
         "dtype": "bool",
         "stats": {
          "unique_count": 1,
          "nan_count": 0,
          "categories": [
           {
            "name": "False",
            "count": 5
           }
          ]
         }
        },
        {
         "name": "district",
         "dtype": "object",
         "stats": {
          "unique_count": 4,
          "nan_count": 0,
          "categories": [
           {
            "name": "Zone X4",
            "count": 2
           },
           {
            "name": "Zone K3",
            "count": 1
           },
           {
            "name": "2 others",
            "count": 2
           }
          ]
         }
        },
        {
         "name": "_deepnote_index_column",
         "dtype": "int64"
        }
       ],
       "rows": [
        {
         "stop_datetime": "2005-01-04 12:55:00",
         "stop_date": "2005-01-04",
         "stop_time": "12:55",
         "driver_gender": "M",
         "driver_race": "White",
         "violation_raw": "Equipment/Inspection Violation",
         "violation": "Equipment",
         "search_conducted": false,
         "search_type": "nan",
         "stop_outcome": "Citation",
         "is_arrested": false,
         "stop_duration": "0-15 Min",
         "drugs_related_stop": false,
         "district": "Zone X4",
         "_deepnote_index_column": 0
        },
        {
         "stop_datetime": "2005-01-23 23:15:00",
         "stop_date": "2005-01-23",
         "stop_time": "23:15",
         "driver_gender": "M",
         "driver_race": "White",
         "violation_raw": "Speeding",
         "violation": "Speeding",
         "search_conducted": false,
         "search_type": "nan",
         "stop_outcome": "Citation",
         "is_arrested": false,
         "stop_duration": "0-15 Min",
         "drugs_related_stop": false,
         "district": "Zone K3",
         "_deepnote_index_column": 1
        },
        {
         "stop_datetime": "2005-02-17 04:15:00",
         "stop_date": "2005-02-17",
         "stop_time": "04:15",
         "driver_gender": "M",
         "driver_race": "White",
         "violation_raw": "Speeding",
         "violation": "Speeding",
         "search_conducted": false,
         "search_type": "nan",
         "stop_outcome": "Citation",
         "is_arrested": false,
         "stop_duration": "0-15 Min",
         "drugs_related_stop": false,
         "district": "Zone X4",
         "_deepnote_index_column": 2
        },
        {
         "stop_datetime": "2005-02-20 17:15:00",
         "stop_date": "2005-02-20",
         "stop_time": "17:15",
         "driver_gender": "M",
         "driver_race": "White",
         "violation_raw": "Call for Service",
         "violation": "Other",
         "search_conducted": false,
         "search_type": "nan",
         "stop_outcome": "Arrest Driver",
         "is_arrested": true,
         "stop_duration": "16-30 Min",
         "drugs_related_stop": false,
         "district": "Zone X1",
         "_deepnote_index_column": 3
        },
        {
         "stop_datetime": "2005-02-24 01:20:00",
         "stop_date": "2005-02-24",
         "stop_time": "01:20",
         "driver_gender": "F",
         "driver_race": "White",
         "violation_raw": "Speeding",
         "violation": "Speeding",
         "search_conducted": false,
         "search_type": "nan",
         "stop_outcome": "Citation",
         "is_arrested": false,
         "stop_duration": "0-15 Min",
         "drugs_related_stop": false,
         "district": "Zone X3",
         "_deepnote_index_column": 4
        }
       ]
      },
      "text/plain": "         stop_datetime   stop_date stop_time driver_gender driver_race  \\\n0  2005-01-04 12:55:00  2005-01-04     12:55             M       White   \n1  2005-01-23 23:15:00  2005-01-23     23:15             M       White   \n2  2005-02-17 04:15:00  2005-02-17     04:15             M       White   \n3  2005-02-20 17:15:00  2005-02-20     17:15             M       White   \n4  2005-02-24 01:20:00  2005-02-24     01:20             F       White   \n\n                    violation_raw  violation  search_conducted search_type  \\\n0  Equipment/Inspection Violation  Equipment             False         NaN   \n1                        Speeding   Speeding             False         NaN   \n2                        Speeding   Speeding             False         NaN   \n3                Call for Service      Other             False         NaN   \n4                        Speeding   Speeding             False         NaN   \n\n    stop_outcome  is_arrested stop_duration  drugs_related_stop district  \n0       Citation        False      0-15 Min               False  Zone X4  \n1       Citation        False      0-15 Min               False  Zone K3  \n2       Citation        False      0-15 Min               False  Zone X4  \n3  Arrest Driver         True     16-30 Min               False  Zone X1  \n4       Citation        False      0-15 Min               False  Zone X3  ",
      "text/html": "<div>\n<style scoped>\n    .dataframe tbody tr th:only-of-type {\n        vertical-align: middle;\n    }\n\n    .dataframe tbody tr th {\n        vertical-align: top;\n    }\n\n    .dataframe thead th {\n        text-align: right;\n    }\n</style>\n<table border=\"1\" class=\"dataframe\">\n  <thead>\n    <tr style=\"text-align: right;\">\n      <th></th>\n      <th>stop_datetime</th>\n      <th>stop_date</th>\n      <th>stop_time</th>\n      <th>driver_gender</th>\n      <th>driver_race</th>\n      <th>violation_raw</th>\n      <th>violation</th>\n      <th>search_conducted</th>\n      <th>search_type</th>\n      <th>stop_outcome</th>\n      <th>is_arrested</th>\n      <th>stop_duration</th>\n      <th>drugs_related_stop</th>\n      <th>district</th>\n    </tr>\n  </thead>\n  <tbody>\n    <tr>\n      <th>0</th>\n      <td>2005-01-04 12:55:00</td>\n      <td>2005-01-04</td>\n      <td>12:55</td>\n      <td>M</td>\n      <td>White</td>\n      <td>Equipment/Inspection Violation</td>\n      <td>Equipment</td>\n      <td>False</td>\n      <td>NaN</td>\n      <td>Citation</td>\n      <td>False</td>\n      <td>0-15 Min</td>\n      <td>False</td>\n      <td>Zone X4</td>\n    </tr>\n    <tr>\n      <th>1</th>\n      <td>2005-01-23 23:15:00</td>\n      <td>2005-01-23</td>\n      <td>23:15</td>\n      <td>M</td>\n      <td>White</td>\n      <td>Speeding</td>\n      <td>Speeding</td>\n      <td>False</td>\n      <td>NaN</td>\n      <td>Citation</td>\n      <td>False</td>\n      <td>0-15 Min</td>\n      <td>False</td>\n      <td>Zone K3</td>\n    </tr>\n    <tr>\n      <th>2</th>\n      <td>2005-02-17 04:15:00</td>\n      <td>2005-02-17</td>\n      <td>04:15</td>\n      <td>M</td>\n      <td>White</td>\n      <td>Speeding</td>\n      <td>Speeding</td>\n      <td>False</td>\n      <td>NaN</td>\n      <td>Citation</td>\n      <td>False</td>\n      <td>0-15 Min</td>\n      <td>False</td>\n      <td>Zone X4</td>\n    </tr>\n    <tr>\n      <th>3</th>\n      <td>2005-02-20 17:15:00</td>\n      <td>2005-02-20</td>\n      <td>17:15</td>\n      <td>M</td>\n      <td>White</td>\n      <td>Call for Service</td>\n      <td>Other</td>\n      <td>False</td>\n      <td>NaN</td>\n      <td>Arrest Driver</td>\n      <td>True</td>\n      <td>16-30 Min</td>\n      <td>False</td>\n      <td>Zone X1</td>\n    </tr>\n    <tr>\n      <th>4</th>\n      <td>2005-02-24 01:20:00</td>\n      <td>2005-02-24</td>\n      <td>01:20</td>\n      <td>F</td>\n      <td>White</td>\n      <td>Speeding</td>\n      <td>Speeding</td>\n      <td>False</td>\n      <td>NaN</td>\n      <td>Citation</td>\n      <td>False</td>\n      <td>0-15 Min</td>\n      <td>False</td>\n      <td>Zone X3</td>\n    </tr>\n  </tbody>\n</table>\n</div>"
     },
     "metadata": {}
    }
   ]
  },
  {
   "cell_type": "markdown",
   "source": "## Do the genders commit different violations?",
   "metadata": {
    "cell_id": "38b208e4db6d47ed90fc9f672b7ed179",
    "tags": [],
    "is_collapsed": false,
    "deepnote_cell_type": "text-cell-h2"
   }
  },
  {
   "cell_type": "markdown",
   "source": "### Examining traffic violations",
   "metadata": {
    "cell_id": "8b6f793512aa469e867503bd4b1a5890",
    "tags": [],
    "is_collapsed": false,
    "deepnote_cell_type": "text-cell-h3"
   }
  },
  {
   "cell_type": "code",
   "metadata": {
    "cell_id": "c95168d1bb7d410f8798643b59ffd294",
    "tags": [],
    "deepnote_to_be_reexecuted": false,
    "source_hash": "46968522",
    "execution_start": 1654094592619,
    "execution_millis": 4,
    "deepnote_cell_type": "code",
    "deepnote_cell_height": 251.328125,
    "deepnote_output_heights": [
     136.34375
    ]
   },
   "source": "# Count the unique values in the violation column of ri. \nri.violation.value_counts()",
   "execution_count": null,
   "outputs": [
    {
     "output_type": "execute_result",
     "execution_count": 2,
     "data": {
      "text/plain": "Speeding               48423\nMoving violation       16224\nEquipment              10921\nOther                   4409\nRegistration/plates     3703\nSeat belt               2856\nName: violation, dtype: int64"
     },
     "metadata": {}
    }
   ]
  },
  {
   "cell_type": "code",
   "metadata": {
    "cell_id": "246d532106084ce0869d8df2ccdb8f20",
    "tags": [],
    "deepnote_to_be_reexecuted": false,
    "source_hash": "1428f05a",
    "execution_start": 1654094592620,
    "execution_millis": 3,
    "deepnote_cell_type": "code",
    "deepnote_cell_height": 251.328125,
    "deepnote_output_heights": [
     136.34375
    ]
   },
   "source": "# Express the violation counts as proportions of the total.\nri.violation.value_counts(normalize=True)",
   "execution_count": null,
   "outputs": [
    {
     "output_type": "execute_result",
     "execution_count": 3,
     "data": {
      "text/plain": "Speeding               0.559571\nMoving violation       0.187483\nEquipment              0.126202\nOther                  0.050950\nRegistration/plates    0.042791\nSeat belt              0.033004\nName: violation, dtype: float64"
     },
     "metadata": {}
    }
   ]
  },
  {
   "cell_type": "markdown",
   "source": "### Comparing violations by gender",
   "metadata": {
    "cell_id": "3a84ba88b54641f0b00f81e195b8419c",
    "tags": [],
    "is_collapsed": false,
    "deepnote_cell_type": "text-cell-h3"
   }
  },
  {
   "cell_type": "code",
   "metadata": {
    "cell_id": "96723cee83a84c42b74353c7e27a08db",
    "tags": [],
    "deepnote_to_be_reexecuted": false,
    "source_hash": "9d0d01b6",
    "execution_start": 1654094592621,
    "execution_millis": 42,
    "deepnote_cell_type": "code",
    "deepnote_cell_height": 99
   },
   "source": "# Create a DataFrame, female, that only contains rows in which driver_gender is 'F'\nfemale = ri[ri['driver_gender'] == 'F']",
   "execution_count": null,
   "outputs": []
  },
  {
   "cell_type": "code",
   "metadata": {
    "cell_id": "a73ca1191bb9495488222cf4ba5db521",
    "tags": [],
    "deepnote_to_be_reexecuted": false,
    "source_hash": "e8c0857b",
    "execution_start": 1654094592663,
    "execution_millis": 3,
    "deepnote_cell_type": "code",
    "deepnote_cell_height": 251.328125,
    "deepnote_output_heights": [
     136.34375
    ]
   },
   "source": "# Count the violations committed by female drivers and express them as proportions\nfemale.violation.value_counts(normalize=True)",
   "execution_count": null,
   "outputs": [
    {
     "output_type": "execute_result",
     "execution_count": 5,
     "data": {
      "text/plain": "Speeding               0.658114\nMoving violation       0.138218\nEquipment              0.105199\nRegistration/plates    0.044418\nOther                  0.029738\nSeat belt              0.024312\nName: violation, dtype: float64"
     },
     "metadata": {}
    }
   ]
  },
  {
   "cell_type": "code",
   "metadata": {
    "cell_id": "8d9b51d7ef854ea6bbac10c001a4cd6b",
    "tags": [],
    "deepnote_to_be_reexecuted": false,
    "source_hash": "ee511e6b",
    "execution_start": 1654094592664,
    "execution_millis": 1,
    "deepnote_cell_type": "code",
    "deepnote_cell_height": 99
   },
   "source": "# Create a DataFrame, male, that only contains rows in which driver_gender is 'M'\nmale = ri[ri.driver_gender == 'M']",
   "execution_count": null,
   "outputs": []
  },
  {
   "cell_type": "code",
   "metadata": {
    "cell_id": "5ad6d19cd7934a3f9e14a403b75bfd26",
    "tags": [],
    "deepnote_to_be_reexecuted": false,
    "source_hash": "b86ee3f9",
    "execution_start": 1654094592671,
    "execution_millis": 3,
    "deepnote_cell_type": "code",
    "deepnote_cell_height": 251.328125,
    "deepnote_output_heights": [
     136.34375
    ]
   },
   "source": "# Count the violations committed by male drivers and express them as proportions\nmale.violation.value_counts(normalize=True)",
   "execution_count": null,
   "outputs": [
    {
     "output_type": "execute_result",
     "execution_count": 7,
     "data": {
      "text/plain": "Speeding               0.522243\nMoving violation       0.206144\nEquipment              0.134158\nOther                  0.058985\nRegistration/plates    0.042175\nSeat belt              0.036296\nName: violation, dtype: float64"
     },
     "metadata": {}
    }
   ]
  },
  {
   "cell_type": "markdown",
   "source": "## Does gender affect who gets a ticket for speeding?",
   "metadata": {
    "cell_id": "ab0d4fccd9d1468e8bfefbf2fa0384b1",
    "tags": [],
    "is_collapsed": false,
    "deepnote_cell_type": "text-cell-h2"
   }
  },
  {
   "cell_type": "markdown",
   "source": "### Comparing speeding outcomes by gender",
   "metadata": {
    "cell_id": "24b4cc634ce44c91b0a64337d193dadb",
    "tags": [],
    "is_collapsed": false,
    "deepnote_cell_type": "text-cell-h3"
   }
  },
  {
   "cell_type": "code",
   "metadata": {
    "cell_id": "e3b356d46edf4e32b53eed44c1917123",
    "tags": [],
    "deepnote_to_be_reexecuted": false,
    "source_hash": "fa091321",
    "execution_start": 1654094592731,
    "execution_millis": 0,
    "deepnote_cell_type": "code",
    "deepnote_cell_height": 99
   },
   "source": "# Create a DataFrame, female_and_speeding, that only includes female drivers who were stopped for speeding\nfemale_and_speeding = ri[(ri.driver_gender == 'F') & (ri.violation == 'Speeding')]",
   "execution_count": null,
   "outputs": []
  },
  {
   "cell_type": "code",
   "metadata": {
    "cell_id": "0b43a158bdee4f60a3ece818c310dd29",
    "tags": [],
    "deepnote_to_be_reexecuted": false,
    "source_hash": "32dbb1ff",
    "execution_start": 1654094592731,
    "execution_millis": 3,
    "deepnote_cell_type": "code",
    "deepnote_cell_height": 251.328125,
    "deepnote_output_heights": [
     136.34375
    ]
   },
   "source": "# Count the stop outcomes for the female drivers and express them as proportions\nfemale_and_speeding.stop_outcome.value_counts(normalize=True)",
   "execution_count": null,
   "outputs": [
    {
     "output_type": "execute_result",
     "execution_count": 9,
     "data": {
      "text/plain": "Citation            0.952192\nWarning             0.040074\nArrest Driver       0.005752\nN/D                 0.000959\nArrest Passenger    0.000639\nNo Action           0.000383\nName: stop_outcome, dtype: float64"
     },
     "metadata": {}
    }
   ]
  },
  {
   "cell_type": "code",
   "metadata": {
    "cell_id": "9f05f35c1ac34e578c989c0a0aeaf769",
    "tags": [],
    "deepnote_to_be_reexecuted": false,
    "source_hash": "1c31bad1",
    "execution_start": 1654094592732,
    "execution_millis": 33,
    "deepnote_cell_type": "code",
    "deepnote_cell_height": 99
   },
   "source": "# Create a DataFrame, male_and_speeding, that only includes male drivers who were stopped for speeding\nmale_and_speeding = ri[(ri.driver_gender == 'M') & (ri.violation == 'Speeding')]",
   "execution_count": null,
   "outputs": []
  },
  {
   "cell_type": "code",
   "metadata": {
    "cell_id": "1d674b72f99f4a82b65c920aedfbcbeb",
    "tags": [],
    "deepnote_to_be_reexecuted": false,
    "source_hash": "c7e9447c",
    "execution_start": 1654094592765,
    "execution_millis": 7,
    "deepnote_cell_type": "code",
    "deepnote_cell_height": 251.328125,
    "deepnote_output_heights": [
     136.34375
    ]
   },
   "source": "# Count the stop outcomes for the male drivers and express them as proportions\nmale_and_speeding.stop_outcome.value_counts(normalize=True)",
   "execution_count": null,
   "outputs": [
    {
     "output_type": "execute_result",
     "execution_count": 11,
     "data": {
      "text/plain": "Citation            0.944595\nWarning             0.036184\nArrest Driver       0.015895\nArrest Passenger    0.001281\nNo Action           0.001068\nN/D                 0.000976\nName: stop_outcome, dtype: float64"
     },
     "metadata": {}
    }
   ]
  },
  {
   "cell_type": "markdown",
   "source": "## Does gender affect whose vehicle is searched?",
   "metadata": {
    "cell_id": "b020ad8362884791b2809d4a64d3c0f0",
    "tags": [],
    "is_collapsed": false,
    "deepnote_cell_type": "text-cell-h2"
   }
  },
  {
   "cell_type": "markdown",
   "source": "### Calculating the search rate",
   "metadata": {
    "cell_id": "c32526562a3148dbadeb11341348a08e",
    "tags": [],
    "is_collapsed": false,
    "deepnote_cell_type": "text-cell-h3"
   }
  },
  {
   "cell_type": "code",
   "metadata": {
    "cell_id": "d04c90ba25914f52aa8afcbab5139c26",
    "tags": [],
    "deepnote_to_be_reexecuted": false,
    "source_hash": "87e0340c",
    "execution_start": 1654094592766,
    "execution_millis": 6,
    "deepnote_cell_type": "code",
    "deepnote_cell_height": 136.171875,
    "deepnote_output_heights": [
     21.1875
    ]
   },
   "source": "# Check the data type of search_conducted to confirm that it's a Boolean Series\nri['search_conducted'].dtypes",
   "execution_count": null,
   "outputs": [
    {
     "output_type": "execute_result",
     "execution_count": 12,
     "data": {
      "text/plain": "dtype('bool')"
     },
     "metadata": {}
    }
   ]
  },
  {
   "cell_type": "code",
   "metadata": {
    "cell_id": "d59d7faafd79467abce9adf7b4215a7c",
    "tags": [],
    "deepnote_to_be_reexecuted": false,
    "source_hash": "3ef124f2",
    "execution_start": 1654094592774,
    "execution_millis": 3,
    "deepnote_cell_type": "code",
    "deepnote_cell_height": 174.5625,
    "deepnote_output_heights": [
     59.578125
    ]
   },
   "source": "# Calculate the search rate by counting the Series values and expressing them as proportions\nri.search_conducted.value_counts(normalize=True)",
   "execution_count": null,
   "outputs": [
    {
     "output_type": "execute_result",
     "execution_count": 13,
     "data": {
      "text/plain": "False    0.961785\nTrue     0.038215\nName: search_conducted, dtype: float64"
     },
     "metadata": {}
    }
   ]
  },
  {
   "cell_type": "code",
   "metadata": {
    "cell_id": "a8eee34dad1c4a5cbcdc572891134851",
    "tags": [],
    "deepnote_to_be_reexecuted": false,
    "source_hash": "fb852eaf",
    "execution_start": 1654094592776,
    "execution_millis": 10,
    "deepnote_cell_type": "code",
    "deepnote_cell_height": 136.171875,
    "deepnote_output_heights": [
     21.1875
    ]
   },
   "source": "# Calculate the search rate by taking the mean of the Series\nri.search_conducted.mean()",
   "execution_count": null,
   "outputs": [
    {
     "output_type": "execute_result",
     "execution_count": 14,
     "data": {
      "text/plain": "0.0382153092354627"
     },
     "metadata": {}
    }
   ]
  },
  {
   "cell_type": "markdown",
   "source": "### Comparing search rates by gender",
   "metadata": {
    "cell_id": "edea24f6568d403696ba994ec528cfc2",
    "tags": [],
    "is_collapsed": false,
    "deepnote_cell_type": "text-cell-h3"
   }
  },
  {
   "cell_type": "code",
   "metadata": {
    "cell_id": "ed5f50a811784db98034aa9989c4ac83",
    "tags": [],
    "deepnote_to_be_reexecuted": false,
    "source_hash": "1519213f",
    "execution_start": 1654094592785,
    "execution_millis": 14,
    "deepnote_cell_type": "code",
    "deepnote_cell_height": 136.171875,
    "deepnote_output_heights": [
     21.1875
    ]
   },
   "source": "# Filter the DataFrame to only include female drivers, and then calculate the search rate by taking the mean of search_conducted\nri[ri.driver_gender == 'F'].search_conducted.mean()",
   "execution_count": null,
   "outputs": [
    {
     "output_type": "execute_result",
     "execution_count": 15,
     "data": {
      "text/plain": "0.019180617481282074"
     },
     "metadata": {}
    }
   ]
  },
  {
   "cell_type": "code",
   "metadata": {
    "cell_id": "a8a2f61726484c299e6cc161f1ba7c48",
    "tags": [],
    "deepnote_to_be_reexecuted": false,
    "source_hash": "31792a17",
    "execution_start": 1654094592806,
    "execution_millis": 29,
    "deepnote_cell_type": "code",
    "deepnote_cell_height": 136.171875,
    "deepnote_output_heights": [
     21.1875
    ]
   },
   "source": "# Filter the DataFrame to only include male drivers, and then repeat the search rate calculation\nri[ri.driver_gender == 'M'].search_conducted.mean()",
   "execution_count": null,
   "outputs": [
    {
     "output_type": "execute_result",
     "execution_count": 16,
     "data": {
      "text/plain": "0.04542557598546892"
     },
     "metadata": {}
    }
   ]
  },
  {
   "cell_type": "code",
   "metadata": {
    "cell_id": "17cdba679dc8414692c909f9d7ddd256",
    "tags": [],
    "deepnote_to_be_reexecuted": false,
    "source_hash": "34832e95",
    "execution_start": 1654094592830,
    "execution_millis": 14,
    "deepnote_cell_type": "code",
    "deepnote_cell_height": 193.75,
    "deepnote_output_heights": [
     78.765625
    ]
   },
   "source": "# Group by driver gender to calculate the search rate for both groups simultaneously\nri.groupby('driver_gender').search_conducted.mean()",
   "execution_count": null,
   "outputs": [
    {
     "output_type": "execute_result",
     "execution_count": 17,
     "data": {
      "text/plain": "driver_gender\nF    0.019181\nM    0.045426\nName: search_conducted, dtype: float64"
     },
     "metadata": {}
    }
   ]
  },
  {
   "cell_type": "markdown",
   "source": "### Adding a second factor to the analysis",
   "metadata": {
    "cell_id": "fa3a58f289e5447c8c7165cde17585ec",
    "tags": [],
    "is_collapsed": false,
    "deepnote_cell_type": "text-cell-h3"
   }
  },
  {
   "cell_type": "code",
   "metadata": {
    "cell_id": "19bc1d066a344b2d9200ceb4a84384ef",
    "tags": [],
    "deepnote_to_be_reexecuted": false,
    "source_hash": "f6efdf85",
    "execution_start": 1654094592847,
    "execution_millis": 25,
    "deepnote_cell_type": "code",
    "deepnote_cell_height": 403.6875,
    "deepnote_output_heights": [
     270.703125
    ]
   },
   "source": "# Use a .groupby() to calculate the search rate for each combination of gender and violation \n# Are males and females searched at about the same rate for each violation?\nri.groupby(['driver_gender', 'violation']).search_conducted.mean()",
   "execution_count": null,
   "outputs": [
    {
     "output_type": "execute_result",
     "execution_count": 18,
     "data": {
      "text/plain": "driver_gender  violation          \nF              Equipment              0.039984\n               Moving violation       0.039257\n               Other                  0.041018\n               Registration/plates    0.054924\n               Seat belt              0.017301\n               Speeding               0.008309\nM              Equipment              0.071496\n               Moving violation       0.061524\n               Other                  0.046191\n               Registration/plates    0.108802\n               Seat belt              0.035119\n               Speeding               0.027885\nName: search_conducted, dtype: float64"
     },
     "metadata": {}
    }
   ]
  },
  {
   "cell_type": "code",
   "metadata": {
    "cell_id": "75cdae471dab4a6891522d66d079a4de",
    "tags": [],
    "deepnote_to_be_reexecuted": false,
    "source_hash": "57eef970",
    "execution_start": 1654094592874,
    "execution_millis": 40,
    "deepnote_cell_type": "code",
    "deepnote_cell_height": 403.6875,
    "deepnote_output_heights": [
     270.703125
    ]
   },
   "source": "# Reverse the ordering to group by violation before gender \n# The results may be easier to compare when presented this way\nri.groupby(['violation', 'driver_gender']).search_conducted.mean()",
   "execution_count": null,
   "outputs": [
    {
     "output_type": "execute_result",
     "execution_count": 19,
     "data": {
      "text/plain": "violation            driver_gender\nEquipment            F                0.039984\n                     M                0.071496\nMoving violation     F                0.039257\n                     M                0.061524\nOther                F                0.041018\n                     M                0.046191\nRegistration/plates  F                0.054924\n                     M                0.108802\nSeat belt            F                0.017301\n                     M                0.035119\nSpeeding             F                0.008309\n                     M                0.027885\nName: search_conducted, dtype: float64"
     },
     "metadata": {}
    }
   ]
  },
  {
   "cell_type": "markdown",
   "source": "## Does gender affect who is frisked during a search?",
   "metadata": {
    "cell_id": "d5b079a48a9d464b8dc121c34be4125f",
    "tags": [],
    "is_collapsed": false,
    "deepnote_cell_type": "text-cell-h2"
   }
  },
  {
   "cell_type": "markdown",
   "source": "During a vehicle search, the police officer may pat down the driver to check if they have a weapon. This is known as a \"protective frisk\".",
   "metadata": {
    "cell_id": "95163d1a19254f59b46f6ac5c57175ff",
    "tags": [],
    "deepnote_cell_type": "markdown",
    "deepnote_cell_height": 74.78125
   }
  },
  {
   "cell_type": "code",
   "metadata": {
    "cell_id": "452154a2a9cf48fbb271d938f9959248",
    "tags": [],
    "deepnote_to_be_reexecuted": false,
    "source_hash": "b2d03c9e",
    "execution_start": 1654094592923,
    "execution_millis": 9,
    "deepnote_cell_type": "code",
    "deepnote_cell_height": 616,
    "deepnote_output_heights": [
     501.015625
    ]
   },
   "source": "# Count the search_type values in the ri DataFrame to see how many times \"Protective Frisk\" was the only search type\nri.search_type.value_counts()",
   "execution_count": null,
   "outputs": [
    {
     "output_type": "execute_result",
     "execution_count": 20,
     "data": {
      "text/plain": "Incident to Arrest                                          1290\nProbable Cause                                               924\nInventory                                                    219\nReasonable Suspicion                                         214\nProtective Frisk                                             164\nIncident to Arrest,Inventory                                 123\nIncident to Arrest,Probable Cause                            100\nProbable Cause,Reasonable Suspicion                           54\nIncident to Arrest,Inventory,Probable Cause                   35\nProbable Cause,Protective Frisk                               35\nIncident to Arrest,Protective Frisk                           33\nInventory,Probable Cause                                      25\nProtective Frisk,Reasonable Suspicion                         19\nIncident to Arrest,Inventory,Protective Frisk                 18\nIncident to Arrest,Probable Cause,Protective Frisk            13\nInventory,Protective Frisk                                    12\nIncident to Arrest,Reasonable Suspicion                        8\nProbable Cause,Protective Frisk,Reasonable Suspicion           5\nIncident to Arrest,Probable Cause,Reasonable Suspicion         5\nIncident to Arrest,Inventory,Reasonable Suspicion              4\nInventory,Reasonable Suspicion                                 2\nIncident to Arrest,Protective Frisk,Reasonable Suspicion       2\nInventory,Protective Frisk,Reasonable Suspicion                1\nInventory,Probable Cause,Protective Frisk                      1\nInventory,Probable Cause,Reasonable Suspicion                  1\nName: search_type, dtype: int64"
     },
     "metadata": {}
    }
   ]
  },
  {
   "cell_type": "code",
   "metadata": {
    "cell_id": "db15d395e14c4be7853b41dbf080e9a2",
    "tags": [],
    "deepnote_to_be_reexecuted": false,
    "source_hash": "bf9e6323",
    "execution_start": 1654094592974,
    "execution_millis": 1,
    "deepnote_cell_type": "code",
    "deepnote_cell_height": 99
   },
   "source": "# Create a new column, frisk, that is True if search_type contains the string \"Protective Frisk\" and False otherwise\nri['frisk'] = ri.search_type.str.contains('Protective Frisk', na=False)",
   "execution_count": null,
   "outputs": []
  },
  {
   "cell_type": "code",
   "metadata": {
    "cell_id": "728060a1b0024edd96a238667d1a6ae6",
    "tags": [],
    "deepnote_to_be_reexecuted": false,
    "source_hash": "c68ae1ef",
    "execution_start": 1654094592975,
    "execution_millis": 3,
    "deepnote_cell_type": "code",
    "deepnote_cell_height": 136.171875,
    "deepnote_output_heights": [
     21.1875
    ]
   },
   "source": "# Check the data type of frisk to confirm that it's a Boolean Series\nri['frisk'].dtypes",
   "execution_count": null,
   "outputs": [
    {
     "output_type": "execute_result",
     "execution_count": 22,
     "data": {
      "text/plain": "dtype('bool')"
     },
     "metadata": {}
    }
   ]
  },
  {
   "cell_type": "code",
   "metadata": {
    "cell_id": "29f982732a1745958a360f6fd7b3aa73",
    "tags": [],
    "deepnote_to_be_reexecuted": false,
    "source_hash": "95a3f0a",
    "execution_start": 1654094592976,
    "execution_millis": 0,
    "deepnote_cell_type": "code",
    "deepnote_cell_height": 136.171875,
    "deepnote_output_heights": [
     21.1875
    ]
   },
   "source": "# Take the sum of frisk to count the total number of frisks\nri['frisk'].sum()",
   "execution_count": null,
   "outputs": [
    {
     "output_type": "execute_result",
     "execution_count": 23,
     "data": {
      "text/plain": "303"
     },
     "metadata": {}
    }
   ]
  },
  {
   "cell_type": "markdown",
   "source": "### Comparing frisk rates by gender",
   "metadata": {
    "cell_id": "dc83d9f4a9fd4cfc88904f092f895b42",
    "tags": [],
    "is_collapsed": false,
    "deepnote_cell_type": "text-cell-h3"
   }
  },
  {
   "cell_type": "code",
   "metadata": {
    "cell_id": "acad909522aa4b239798963d67807988",
    "tags": [],
    "deepnote_to_be_reexecuted": false,
    "source_hash": "4ef48a95",
    "execution_start": 1654094592979,
    "execution_millis": 4,
    "deepnote_cell_type": "code",
    "deepnote_cell_height": 99
   },
   "source": "# Create a DataFrame, searched, that only contains rows in which search_conducted is True\nsearched = ri[ri.search_conducted]",
   "execution_count": null,
   "outputs": []
  },
  {
   "cell_type": "code",
   "metadata": {
    "cell_id": "c3ce70ad8ff041249f6565dc9185e3e6",
    "tags": [],
    "deepnote_to_be_reexecuted": false,
    "source_hash": "99ab87af",
    "execution_start": 1654094592987,
    "execution_millis": 1,
    "deepnote_cell_type": "code",
    "deepnote_cell_height": 136.171875,
    "deepnote_output_heights": [
     21.1875
    ]
   },
   "source": "# Take the mean of the frisk column to find out what percentage of searches included a frisk\nsearched.frisk.mean()",
   "execution_count": null,
   "outputs": [
    {
     "output_type": "execute_result",
     "execution_count": 25,
     "data": {
      "text/plain": "0.09162382824312065"
     },
     "metadata": {}
    }
   ]
  },
  {
   "cell_type": "code",
   "metadata": {
    "cell_id": "40dc634b2047441a8d38aa5ebdd8d502",
    "tags": [],
    "deepnote_to_be_reexecuted": false,
    "source_hash": "855a42b6",
    "execution_start": 1654094593038,
    "execution_millis": 3,
    "deepnote_cell_type": "code",
    "deepnote_cell_height": 193.75,
    "deepnote_output_heights": [
     78.765625
    ]
   },
   "source": "# Calculate the frisk rate for each gender using a .groupby()\nsearched.groupby('driver_gender').frisk.mean()",
   "execution_count": null,
   "outputs": [
    {
     "output_type": "execute_result",
     "execution_count": 26,
     "data": {
      "text/plain": "driver_gender\nF    0.074561\nM    0.094353\nName: frisk, dtype: float64"
     },
     "metadata": {}
    }
   ]
  },
  {
   "cell_type": "markdown",
   "source": "<a style='text-decoration:none;line-height:16px;display:flex;color:#5B5B62;padding:10px;justify-content:end;' href='https://deepnote.com?utm_source=created-in-deepnote-cell&projectId=dc001eea-22fe-4a27-852d-7fbece520334' target=\"_blank\">\n<img alt='Created in deepnote.com' style='display:inline;max-height:16px;margin:0px;margin-right:7.5px;' src='data:image/svg+xml;base64,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' > </img>\nCreated in <span style='font-weight:600;margin-left:4px;'>Deepnote</span></a>",
   "metadata": {
    "tags": [],
    "created_in_deepnote_cell": true,
    "deepnote_cell_type": "markdown"
   }
  }
 ],
 "nbformat": 4,
 "nbformat_minor": 2,
 "metadata": {
  "orig_nbformat": 2,
  "deepnote": {},
  "deepnote_notebook_id": "d59b706e-8102-4147-9747-9ab40a537295",
  "deepnote_execution_queue": []
 }
}