{
 "cells": [
  {
   "cell_type": "markdown",
   "source": "# Analyzing the effect of weather on policing",
   "metadata": {
    "cell_id": "6c8354eaaffc4cab98f616583de77d6e",
    "tags": [],
    "is_collapsed": false,
    "owner_user_id": "ef1985d3-6878-4f43-aa7a-40eb37e1c2a1",
    "deepnote_cell_type": "text-cell-h1"
   }
  },
  {
   "cell_type": "markdown",
   "source": "## Exploring the weather dataset",
   "metadata": {
    "cell_id": "5708c00219c844a7bf2cece8ca63eef7",
    "tags": [],
    "is_collapsed": false,
    "deepnote_cell_type": "text-cell-h2"
   }
  },
  {
   "cell_type": "markdown",
   "source": "The weather data you'll be using was collected by the National Centers for Environmental Information. \n\nOur hypothesis is that weather conditions impact police behavior during traffic stops.",
   "metadata": {
    "cell_id": "15fba46bb5964a24a522a40e829bf3dd",
    "tags": [],
    "deepnote_cell_type": "markdown",
    "deepnote_cell_height": 111.1875
   }
  },
  {
   "cell_type": "code",
   "metadata": {
    "cell_id": "1c5fe91ef3334ab69ec91073dba0e73c",
    "tags": [],
    "deepnote_to_be_reexecuted": false,
    "source_hash": "8dc5655a",
    "execution_start": 1654356192419,
    "execution_millis": 493,
    "deepnote_cell_type": "code",
    "deepnote_cell_height": 444.078125
   },
   "source": "import pandas as pd\nweather = pd.read_csv('/work/data_science_notes/ 23. Analyzing police activity with pandas/data/weather.csv')\nweather.head()",
   "execution_count": 1,
   "outputs": [
    {
     "output_type": "execute_result",
     "execution_count": 1,
     "data": {
      "application/vnd.deepnote.dataframe.v3+json": {
       "column_count": 27,
       "row_count": 5,
       "columns": [
        {
         "name": "STATION",
         "dtype": "object",
         "stats": {
          "unique_count": 1,
          "nan_count": 0,
          "categories": [
           {
            "name": "USW00014765",
            "count": 5
           }
          ]
         }
        },
        {
         "name": "DATE",
         "dtype": "object",
         "stats": {
          "unique_count": 5,
          "nan_count": 0,
          "categories": [
           {
            "name": "2005-01-01",
            "count": 1
           },
           {
            "name": "2005-01-02",
            "count": 1
           },
           {
            "name": "3 others",
            "count": 3
           }
          ]
         }
        },
        {
         "name": "TAVG",
         "dtype": "float64",
         "stats": {
          "unique_count": 4,
          "nan_count": 0,
          "min": "36.0",
          "max": "49.0",
          "histogram": [
           {
            "bin_start": 36,
            "bin_end": 37.3,
            "count": 2
           },
           {
            "bin_start": 37.3,
            "bin_end": 38.6,
            "count": 0
           },
           {
            "bin_start": 38.6,
            "bin_end": 39.9,
            "count": 0
           },
           {
            "bin_start": 39.9,
            "bin_end": 41.2,
            "count": 0
           },
           {
            "bin_start": 41.2,
            "bin_end": 42.5,
            "count": 1
           },
           {
            "bin_start": 42.5,
            "bin_end": 43.8,
            "count": 0
           },
           {
            "bin_start": 43.8,
            "bin_end": 45.1,
            "count": 1
           },
           {
            "bin_start": 45.1,
            "bin_end": 46.4,
            "count": 0
           },
           {
            "bin_start": 46.4,
            "bin_end": 47.7,
            "count": 0
           },
           {
            "bin_start": 47.7,
            "bin_end": 49,
            "count": 1
           }
          ]
         }
        },
        {
         "name": "TMIN",
         "dtype": "int64",
         "stats": {
          "unique_count": 4,
          "nan_count": 0,
          "min": "28",
          "max": "44",
          "histogram": [
           {
            "bin_start": 28,
            "bin_end": 29.6,
            "count": 2
           },
           {
            "bin_start": 29.6,
            "bin_end": 31.2,
            "count": 0
           },
           {
            "bin_start": 31.2,
            "bin_end": 32.8,
            "count": 0
           },
           {
            "bin_start": 32.8,
            "bin_end": 34.4,
            "count": 0
           },
           {
            "bin_start": 34.4,
            "bin_end": 36,
            "count": 1
           },
           {
            "bin_start": 36,
            "bin_end": 37.6,
            "count": 0
           },
           {
            "bin_start": 37.6,
            "bin_end": 39.2,
            "count": 1
           },
           {
            "bin_start": 39.2,
            "bin_end": 40.8,
            "count": 0
           },
           {
            "bin_start": 40.8,
            "bin_end": 42.4,
            "count": 0
           },
           {
            "bin_start": 42.4,
            "bin_end": 44,
            "count": 1
           }
          ]
         }
        },
        {
         "name": "TMAX",
         "dtype": "int64",
         "stats": {
          "unique_count": 4,
          "nan_count": 0,
          "min": "43",
          "max": "53",
          "histogram": [
           {
            "bin_start": 43,
            "bin_end": 44,
            "count": 1
           },
           {
            "bin_start": 44,
            "bin_end": 45,
            "count": 1
           },
           {
            "bin_start": 45,
            "bin_end": 46,
            "count": 1
           },
           {
            "bin_start": 46,
            "bin_end": 47,
            "count": 0
           },
           {
            "bin_start": 47,
            "bin_end": 48,
            "count": 0
           },
           {
            "bin_start": 48,
            "bin_end": 49,
            "count": 0
           },
           {
            "bin_start": 49,
            "bin_end": 50,
            "count": 0
           },
           {
            "bin_start": 50,
            "bin_end": 51,
            "count": 0
           },
           {
            "bin_start": 51,
            "bin_end": 52,
            "count": 0
           },
           {
            "bin_start": 52,
            "bin_end": 53,
            "count": 2
           }
          ]
         }
        },
        {
         "name": "AWND",
         "dtype": "float64",
         "stats": {
          "unique_count": 4,
          "nan_count": 0,
          "min": "6.93",
          "max": "9.4",
          "histogram": [
           {
            "bin_start": 6.93,
            "bin_end": 7.177,
            "count": 2
           },
           {
            "bin_start": 7.177,
            "bin_end": 7.4239999999999995,
            "count": 0
           },
           {
            "bin_start": 7.4239999999999995,
            "bin_end": 7.670999999999999,
            "count": 0
           },
           {
            "bin_start": 7.670999999999999,
            "bin_end": 7.918,
            "count": 1
           },
           {
            "bin_start": 7.918,
            "bin_end": 8.165,
            "count": 0
           },
           {
            "bin_start": 8.165,
            "bin_end": 8.411999999999999,
            "count": 0
           },
           {
            "bin_start": 8.411999999999999,
            "bin_end": 8.659,
            "count": 0
           },
           {
            "bin_start": 8.659,
            "bin_end": 8.906,
            "count": 0
           },
           {
            "bin_start": 8.906,
            "bin_end": 9.153,
            "count": 1
           },
           {
            "bin_start": 9.153,
            "bin_end": 9.4,
            "count": 1
           }
          ]
         }
        },
        {
         "name": "WSF2",
         "dtype": "float64",
         "stats": {
          "unique_count": 4,
          "nan_count": 0,
          "min": "14.1",
          "max": "25.1",
          "histogram": [
           {
            "bin_start": 14.1,
            "bin_end": 15.2,
            "count": 1
           },
           {
            "bin_start": 15.2,
            "bin_end": 16.3,
            "count": 1
           },
           {
            "bin_start": 16.3,
            "bin_end": 17.4,
            "count": 2
           },
           {
            "bin_start": 17.4,
            "bin_end": 18.5,
            "count": 0
           },
           {
            "bin_start": 18.5,
            "bin_end": 19.6,
            "count": 0
           },
           {
            "bin_start": 19.6,
            "bin_end": 20.7,
            "count": 0
           },
           {
            "bin_start": 20.7,
            "bin_end": 21.8,
            "count": 0
           },
           {
            "bin_start": 21.8,
            "bin_end": 22.9,
            "count": 0
           },
           {
            "bin_start": 22.9,
            "bin_end": 24,
            "count": 0
           },
           {
            "bin_start": 24,
            "bin_end": 25.1,
            "count": 1
           }
          ]
         }
        },
        {
         "name": "WT01",
         "dtype": "float64",
         "stats": {
          "unique_count": 1,
          "nan_count": 1,
          "min": "1.0",
          "max": "1.0",
          "histogram": [
           {
            "bin_start": 0.5,
            "bin_end": 0.6,
            "count": 0
           },
           {
            "bin_start": 0.6,
            "bin_end": 0.7,
            "count": 0
           },
           {
            "bin_start": 0.7,
            "bin_end": 0.8,
            "count": 0
           },
           {
            "bin_start": 0.8,
            "bin_end": 0.9,
            "count": 0
           },
           {
            "bin_start": 0.9,
            "bin_end": 1,
            "count": 0
           },
           {
            "bin_start": 1,
            "bin_end": 1.1,
            "count": 4
           },
           {
            "bin_start": 1.1,
            "bin_end": 1.2000000000000002,
            "count": 0
           },
           {
            "bin_start": 1.2000000000000002,
            "bin_end": 1.3,
            "count": 0
           },
           {
            "bin_start": 1.3,
            "bin_end": 1.4,
            "count": 0
           },
           {
            "bin_start": 1.4,
            "bin_end": 1.5,
            "count": 0
           }
          ]
         }
        },
        {
         "name": "WT02",
         "dtype": "float64",
         "stats": {
          "unique_count": 0,
          "nan_count": 5,
          "min": null,
          "max": null,
          "histogram": [
           {
            "bin_start": 0,
            "bin_end": 0.1,
            "count": 0
           },
           {
            "bin_start": 0.1,
            "bin_end": 0.2,
            "count": 0
           },
           {
            "bin_start": 0.2,
            "bin_end": 0.30000000000000004,
            "count": 0
           },
           {
            "bin_start": 0.30000000000000004,
            "bin_end": 0.4,
            "count": 0
           },
           {
            "bin_start": 0.4,
            "bin_end": 0.5,
            "count": 0
           },
           {
            "bin_start": 0.5,
            "bin_end": 0.6000000000000001,
            "count": 0
           },
           {
            "bin_start": 0.6000000000000001,
            "bin_end": 0.7000000000000001,
            "count": 0
           },
           {
            "bin_start": 0.7000000000000001,
            "bin_end": 0.8,
            "count": 0
           },
           {
            "bin_start": 0.8,
            "bin_end": 0.9,
            "count": 0
           },
           {
            "bin_start": 0.9,
            "bin_end": 1,
            "count": 0
           }
          ]
         }
        },
        {
         "name": "WT03",
         "dtype": "float64",
         "stats": {
          "unique_count": 0,
          "nan_count": 5,
          "min": null,
          "max": null,
          "histogram": [
           {
            "bin_start": 0,
            "bin_end": 0.1,
            "count": 0
           },
           {
            "bin_start": 0.1,
            "bin_end": 0.2,
            "count": 0
           },
           {
            "bin_start": 0.2,
            "bin_end": 0.30000000000000004,
            "count": 0
           },
           {
            "bin_start": 0.30000000000000004,
            "bin_end": 0.4,
            "count": 0
           },
           {
            "bin_start": 0.4,
            "bin_end": 0.5,
            "count": 0
           },
           {
            "bin_start": 0.5,
            "bin_end": 0.6000000000000001,
            "count": 0
           },
           {
            "bin_start": 0.6000000000000001,
            "bin_end": 0.7000000000000001,
            "count": 0
           },
           {
            "bin_start": 0.7000000000000001,
            "bin_end": 0.8,
            "count": 0
           },
           {
            "bin_start": 0.8,
            "bin_end": 0.9,
            "count": 0
           },
           {
            "bin_start": 0.9,
            "bin_end": 1,
            "count": 0
           }
          ]
         }
        },
        {
         "name": "WT04",
         "dtype": "float64",
         "stats": {
          "unique_count": 0,
          "nan_count": 5,
          "min": null,
          "max": null,
          "histogram": [
           {
            "bin_start": 0,
            "bin_end": 0.1,
            "count": 0
           },
           {
            "bin_start": 0.1,
            "bin_end": 0.2,
            "count": 0
           },
           {
            "bin_start": 0.2,
            "bin_end": 0.30000000000000004,
            "count": 0
           },
           {
            "bin_start": 0.30000000000000004,
            "bin_end": 0.4,
            "count": 0
           },
           {
            "bin_start": 0.4,
            "bin_end": 0.5,
            "count": 0
           },
           {
            "bin_start": 0.5,
            "bin_end": 0.6000000000000001,
            "count": 0
           },
           {
            "bin_start": 0.6000000000000001,
            "bin_end": 0.7000000000000001,
            "count": 0
           },
           {
            "bin_start": 0.7000000000000001,
            "bin_end": 0.8,
            "count": 0
           },
           {
            "bin_start": 0.8,
            "bin_end": 0.9,
            "count": 0
           },
           {
            "bin_start": 0.9,
            "bin_end": 1,
            "count": 0
           }
          ]
         }
        },
        {
         "name": "WT05",
         "dtype": "float64",
         "stats": {
          "unique_count": 0,
          "nan_count": 5,
          "min": null,
          "max": null,
          "histogram": [
           {
            "bin_start": 0,
            "bin_end": 0.1,
            "count": 0
           },
           {
            "bin_start": 0.1,
            "bin_end": 0.2,
            "count": 0
           },
           {
            "bin_start": 0.2,
            "bin_end": 0.30000000000000004,
            "count": 0
           },
           {
            "bin_start": 0.30000000000000004,
            "bin_end": 0.4,
            "count": 0
           },
           {
            "bin_start": 0.4,
            "bin_end": 0.5,
            "count": 0
           },
           {
            "bin_start": 0.5,
            "bin_end": 0.6000000000000001,
            "count": 0
           },
           {
            "bin_start": 0.6000000000000001,
            "bin_end": 0.7000000000000001,
            "count": 0
           },
           {
            "bin_start": 0.7000000000000001,
            "bin_end": 0.8,
            "count": 0
           },
           {
            "bin_start": 0.8,
            "bin_end": 0.9,
            "count": 0
           },
           {
            "bin_start": 0.9,
            "bin_end": 1,
            "count": 0
           }
          ]
         }
        },
        {
         "name": "WT06",
         "dtype": "float64",
         "stats": {
          "unique_count": 0,
          "nan_count": 5,
          "min": null,
          "max": null,
          "histogram": [
           {
            "bin_start": 0,
            "bin_end": 0.1,
            "count": 0
           },
           {
            "bin_start": 0.1,
            "bin_end": 0.2,
            "count": 0
           },
           {
            "bin_start": 0.2,
            "bin_end": 0.30000000000000004,
            "count": 0
           },
           {
            "bin_start": 0.30000000000000004,
            "bin_end": 0.4,
            "count": 0
           },
           {
            "bin_start": 0.4,
            "bin_end": 0.5,
            "count": 0
           },
           {
            "bin_start": 0.5,
            "bin_end": 0.6000000000000001,
            "count": 0
           },
           {
            "bin_start": 0.6000000000000001,
            "bin_end": 0.7000000000000001,
            "count": 0
           },
           {
            "bin_start": 0.7000000000000001,
            "bin_end": 0.8,
            "count": 0
           },
           {
            "bin_start": 0.8,
            "bin_end": 0.9,
            "count": 0
           },
           {
            "bin_start": 0.9,
            "bin_end": 1,
            "count": 0
           }
          ]
         }
        },
        {
         "name": "WT07",
         "dtype": "float64",
         "stats": {
          "unique_count": 0,
          "nan_count": 5,
          "min": null,
          "max": null,
          "histogram": [
           {
            "bin_start": 0,
            "bin_end": 0.1,
            "count": 0
           },
           {
            "bin_start": 0.1,
            "bin_end": 0.2,
            "count": 0
           },
           {
            "bin_start": 0.2,
            "bin_end": 0.30000000000000004,
            "count": 0
           },
           {
            "bin_start": 0.30000000000000004,
            "bin_end": 0.4,
            "count": 0
           },
           {
            "bin_start": 0.4,
            "bin_end": 0.5,
            "count": 0
           },
           {
            "bin_start": 0.5,
            "bin_end": 0.6000000000000001,
            "count": 0
           },
           {
            "bin_start": 0.6000000000000001,
            "bin_end": 0.7000000000000001,
            "count": 0
           },
           {
            "bin_start": 0.7000000000000001,
            "bin_end": 0.8,
            "count": 0
           },
           {
            "bin_start": 0.8,
            "bin_end": 0.9,
            "count": 0
           },
           {
            "bin_start": 0.9,
            "bin_end": 1,
            "count": 0
           }
          ]
         }
        },
        {
         "name": "WT08",
         "dtype": "float64",
         "stats": {
          "unique_count": 0,
          "nan_count": 5,
          "min": null,
          "max": null,
          "histogram": [
           {
            "bin_start": 0,
            "bin_end": 0.1,
            "count": 0
           },
           {
            "bin_start": 0.1,
            "bin_end": 0.2,
            "count": 0
           },
           {
            "bin_start": 0.2,
            "bin_end": 0.30000000000000004,
            "count": 0
           },
           {
            "bin_start": 0.30000000000000004,
            "bin_end": 0.4,
            "count": 0
           },
           {
            "bin_start": 0.4,
            "bin_end": 0.5,
            "count": 0
           },
           {
            "bin_start": 0.5,
            "bin_end": 0.6000000000000001,
            "count": 0
           },
           {
            "bin_start": 0.6000000000000001,
            "bin_end": 0.7000000000000001,
            "count": 0
           },
           {
            "bin_start": 0.7000000000000001,
            "bin_end": 0.8,
            "count": 0
           },
           {
            "bin_start": 0.8,
            "bin_end": 0.9,
            "count": 0
           },
           {
            "bin_start": 0.9,
            "bin_end": 1,
            "count": 0
           }
          ]
         }
        },
        {
         "name": "WT09",
         "dtype": "float64",
         "stats": {
          "unique_count": 0,
          "nan_count": 5,
          "min": null,
          "max": null,
          "histogram": [
           {
            "bin_start": 0,
            "bin_end": 0.1,
            "count": 0
           },
           {
            "bin_start": 0.1,
            "bin_end": 0.2,
            "count": 0
           },
           {
            "bin_start": 0.2,
            "bin_end": 0.30000000000000004,
            "count": 0
           },
           {
            "bin_start": 0.30000000000000004,
            "bin_end": 0.4,
            "count": 0
           },
           {
            "bin_start": 0.4,
            "bin_end": 0.5,
            "count": 0
           },
           {
            "bin_start": 0.5,
            "bin_end": 0.6000000000000001,
            "count": 0
           },
           {
            "bin_start": 0.6000000000000001,
            "bin_end": 0.7000000000000001,
            "count": 0
           },
           {
            "bin_start": 0.7000000000000001,
            "bin_end": 0.8,
            "count": 0
           },
           {
            "bin_start": 0.8,
            "bin_end": 0.9,
            "count": 0
           },
           {
            "bin_start": 0.9,
            "bin_end": 1,
            "count": 0
           }
          ]
         }
        },
        {
         "name": "WT10",
         "dtype": "float64",
         "stats": {
          "unique_count": 0,
          "nan_count": 5,
          "min": null,
          "max": null,
          "histogram": [
           {
            "bin_start": 0,
            "bin_end": 0.1,
            "count": 0
           },
           {
            "bin_start": 0.1,
            "bin_end": 0.2,
            "count": 0
           },
           {
            "bin_start": 0.2,
            "bin_end": 0.30000000000000004,
            "count": 0
           },
           {
            "bin_start": 0.30000000000000004,
            "bin_end": 0.4,
            "count": 0
           },
           {
            "bin_start": 0.4,
            "bin_end": 0.5,
            "count": 0
           },
           {
            "bin_start": 0.5,
            "bin_end": 0.6000000000000001,
            "count": 0
           },
           {
            "bin_start": 0.6000000000000001,
            "bin_end": 0.7000000000000001,
            "count": 0
           },
           {
            "bin_start": 0.7000000000000001,
            "bin_end": 0.8,
            "count": 0
           },
           {
            "bin_start": 0.8,
            "bin_end": 0.9,
            "count": 0
           },
           {
            "bin_start": 0.9,
            "bin_end": 1,
            "count": 0
           }
          ]
         }
        },
        {
         "name": "WT11",
         "dtype": "float64",
         "stats": {
          "unique_count": 0,
          "nan_count": 5,
          "min": null,
          "max": null,
          "histogram": [
           {
            "bin_start": 0,
            "bin_end": 0.1,
            "count": 0
           },
           {
            "bin_start": 0.1,
            "bin_end": 0.2,
            "count": 0
           },
           {
            "bin_start": 0.2,
            "bin_end": 0.30000000000000004,
            "count": 0
           },
           {
            "bin_start": 0.30000000000000004,
            "bin_end": 0.4,
            "count": 0
           },
           {
            "bin_start": 0.4,
            "bin_end": 0.5,
            "count": 0
           },
           {
            "bin_start": 0.5,
            "bin_end": 0.6000000000000001,
            "count": 0
           },
           {
            "bin_start": 0.6000000000000001,
            "bin_end": 0.7000000000000001,
            "count": 0
           },
           {
            "bin_start": 0.7000000000000001,
            "bin_end": 0.8,
            "count": 0
           },
           {
            "bin_start": 0.8,
            "bin_end": 0.9,
            "count": 0
           },
           {
            "bin_start": 0.9,
            "bin_end": 1,
            "count": 0
           }
          ]
         }
        },
        {
         "name": "WT13",
         "dtype": "float64",
         "stats": {
          "unique_count": 1,
          "nan_count": 1,
          "min": "1.0",
          "max": "1.0",
          "histogram": [
           {
            "bin_start": 0.5,
            "bin_end": 0.6,
            "count": 0
           },
           {
            "bin_start": 0.6,
            "bin_end": 0.7,
            "count": 0
           },
           {
            "bin_start": 0.7,
            "bin_end": 0.8,
            "count": 0
           },
           {
            "bin_start": 0.8,
            "bin_end": 0.9,
            "count": 0
           },
           {
            "bin_start": 0.9,
            "bin_end": 1,
            "count": 0
           },
           {
            "bin_start": 1,
            "bin_end": 1.1,
            "count": 4
           },
           {
            "bin_start": 1.1,
            "bin_end": 1.2000000000000002,
            "count": 0
           },
           {
            "bin_start": 1.2000000000000002,
            "bin_end": 1.3,
            "count": 0
           },
           {
            "bin_start": 1.3,
            "bin_end": 1.4,
            "count": 0
           },
           {
            "bin_start": 1.4,
            "bin_end": 1.5,
            "count": 0
           }
          ]
         }
        },
        {
         "name": "WT14",
         "dtype": "float64",
         "stats": {
          "unique_count": 1,
          "nan_count": 4,
          "min": "1.0",
          "max": "1.0",
          "histogram": [
           {
            "bin_start": 0.5,
            "bin_end": 0.6,
            "count": 0
           },
           {
            "bin_start": 0.6,
            "bin_end": 0.7,
            "count": 0
           },
           {
            "bin_start": 0.7,
            "bin_end": 0.8,
            "count": 0
           },
           {
            "bin_start": 0.8,
            "bin_end": 0.9,
            "count": 0
           },
           {
            "bin_start": 0.9,
            "bin_end": 1,
            "count": 0
           },
           {
            "bin_start": 1,
            "bin_end": 1.1,
            "count": 1
           },
           {
            "bin_start": 1.1,
            "bin_end": 1.2000000000000002,
            "count": 0
           },
           {
            "bin_start": 1.2000000000000002,
            "bin_end": 1.3,
            "count": 0
           },
           {
            "bin_start": 1.3,
            "bin_end": 1.4,
            "count": 0
           },
           {
            "bin_start": 1.4,
            "bin_end": 1.5,
            "count": 0
           }
          ]
         }
        },
        {
         "name": "WT15",
         "dtype": "float64",
         "stats": {
          "unique_count": 0,
          "nan_count": 5,
          "min": null,
          "max": null,
          "histogram": [
           {
            "bin_start": 0,
            "bin_end": 0.1,
            "count": 0
           },
           {
            "bin_start": 0.1,
            "bin_end": 0.2,
            "count": 0
           },
           {
            "bin_start": 0.2,
            "bin_end": 0.30000000000000004,
            "count": 0
           },
           {
            "bin_start": 0.30000000000000004,
            "bin_end": 0.4,
            "count": 0
           },
           {
            "bin_start": 0.4,
            "bin_end": 0.5,
            "count": 0
           },
           {
            "bin_start": 0.5,
            "bin_end": 0.6000000000000001,
            "count": 0
           },
           {
            "bin_start": 0.6000000000000001,
            "bin_end": 0.7000000000000001,
            "count": 0
           },
           {
            "bin_start": 0.7000000000000001,
            "bin_end": 0.8,
            "count": 0
           },
           {
            "bin_start": 0.8,
            "bin_end": 0.9,
            "count": 0
           },
           {
            "bin_start": 0.9,
            "bin_end": 1,
            "count": 0
           }
          ]
         }
        },
        {
         "name": "WT16",
         "dtype": "float64",
         "stats": {
          "unique_count": 1,
          "nan_count": 1,
          "min": "1.0",
          "max": "1.0",
          "histogram": [
           {
            "bin_start": 0.5,
            "bin_end": 0.6,
            "count": 0
           },
           {
            "bin_start": 0.6,
            "bin_end": 0.7,
            "count": 0
           },
           {
            "bin_start": 0.7,
            "bin_end": 0.8,
            "count": 0
           },
           {
            "bin_start": 0.8,
            "bin_end": 0.9,
            "count": 0
           },
           {
            "bin_start": 0.9,
            "bin_end": 1,
            "count": 0
           },
           {
            "bin_start": 1,
            "bin_end": 1.1,
            "count": 4
           },
           {
            "bin_start": 1.1,
            "bin_end": 1.2000000000000002,
            "count": 0
           },
           {
            "bin_start": 1.2000000000000002,
            "bin_end": 1.3,
            "count": 0
           },
           {
            "bin_start": 1.3,
            "bin_end": 1.4,
            "count": 0
           },
           {
            "bin_start": 1.4,
            "bin_end": 1.5,
            "count": 0
           }
          ]
         }
        },
        {
         "name": "WT17",
         "dtype": "float64",
         "stats": {
          "unique_count": 0,
          "nan_count": 5,
          "min": null,
          "max": null,
          "histogram": [
           {
            "bin_start": 0,
            "bin_end": 0.1,
            "count": 0
           },
           {
            "bin_start": 0.1,
            "bin_end": 0.2,
            "count": 0
           },
           {
            "bin_start": 0.2,
            "bin_end": 0.30000000000000004,
            "count": 0
           },
           {
            "bin_start": 0.30000000000000004,
            "bin_end": 0.4,
            "count": 0
           },
           {
            "bin_start": 0.4,
            "bin_end": 0.5,
            "count": 0
           },
           {
            "bin_start": 0.5,
            "bin_end": 0.6000000000000001,
            "count": 0
           },
           {
            "bin_start": 0.6000000000000001,
            "bin_end": 0.7000000000000001,
            "count": 0
           },
           {
            "bin_start": 0.7000000000000001,
            "bin_end": 0.8,
            "count": 0
           },
           {
            "bin_start": 0.8,
            "bin_end": 0.9,
            "count": 0
           },
           {
            "bin_start": 0.9,
            "bin_end": 1,
            "count": 0
           }
          ]
         }
        },
        {
         "name": "WT18",
         "dtype": "float64",
         "stats": {
          "unique_count": 1,
          "nan_count": 3,
          "min": "1.0",
          "max": "1.0",
          "histogram": [
           {
            "bin_start": 0.5,
            "bin_end": 0.6,
            "count": 0
           },
           {
            "bin_start": 0.6,
            "bin_end": 0.7,
            "count": 0
           },
           {
            "bin_start": 0.7,
            "bin_end": 0.8,
            "count": 0
           },
           {
            "bin_start": 0.8,
            "bin_end": 0.9,
            "count": 0
           },
           {
            "bin_start": 0.9,
            "bin_end": 1,
            "count": 0
           },
           {
            "bin_start": 1,
            "bin_end": 1.1,
            "count": 2
           },
           {
            "bin_start": 1.1,
            "bin_end": 1.2000000000000002,
            "count": 0
           },
           {
            "bin_start": 1.2000000000000002,
            "bin_end": 1.3,
            "count": 0
           },
           {
            "bin_start": 1.3,
            "bin_end": 1.4,
            "count": 0
           },
           {
            "bin_start": 1.4,
            "bin_end": 1.5,
            "count": 0
           }
          ]
         }
        },
        {
         "name": "WT19",
         "dtype": "float64",
         "stats": {
          "unique_count": 0,
          "nan_count": 5,
          "min": null,
          "max": null,
          "histogram": [
           {
            "bin_start": 0,
            "bin_end": 0.1,
            "count": 0
           },
           {
            "bin_start": 0.1,
            "bin_end": 0.2,
            "count": 0
           },
           {
            "bin_start": 0.2,
            "bin_end": 0.30000000000000004,
            "count": 0
           },
           {
            "bin_start": 0.30000000000000004,
            "bin_end": 0.4,
            "count": 0
           },
           {
            "bin_start": 0.4,
            "bin_end": 0.5,
            "count": 0
           },
           {
            "bin_start": 0.5,
            "bin_end": 0.6000000000000001,
            "count": 0
           },
           {
            "bin_start": 0.6000000000000001,
            "bin_end": 0.7000000000000001,
            "count": 0
           },
           {
            "bin_start": 0.7000000000000001,
            "bin_end": 0.8,
            "count": 0
           },
           {
            "bin_start": 0.8,
            "bin_end": 0.9,
            "count": 0
           },
           {
            "bin_start": 0.9,
            "bin_end": 1,
            "count": 0
           }
          ]
         }
        },
        {
         "name": "WT21",
         "dtype": "float64",
         "stats": {
          "unique_count": 0,
          "nan_count": 5,
          "min": null,
          "max": null,
          "histogram": [
           {
            "bin_start": 0,
            "bin_end": 0.1,
            "count": 0
           },
           {
            "bin_start": 0.1,
            "bin_end": 0.2,
            "count": 0
           },
           {
            "bin_start": 0.2,
            "bin_end": 0.30000000000000004,
            "count": 0
           },
           {
            "bin_start": 0.30000000000000004,
            "bin_end": 0.4,
            "count": 0
           },
           {
            "bin_start": 0.4,
            "bin_end": 0.5,
            "count": 0
           },
           {
            "bin_start": 0.5,
            "bin_end": 0.6000000000000001,
            "count": 0
           },
           {
            "bin_start": 0.6000000000000001,
            "bin_end": 0.7000000000000001,
            "count": 0
           },
           {
            "bin_start": 0.7000000000000001,
            "bin_end": 0.8,
            "count": 0
           },
           {
            "bin_start": 0.8,
            "bin_end": 0.9,
            "count": 0
           },
           {
            "bin_start": 0.9,
            "bin_end": 1,
            "count": 0
           }
          ]
         }
        },
        {
         "name": "WT22",
         "dtype": "float64",
         "stats": {
          "unique_count": 0,
          "nan_count": 5,
          "min": null,
          "max": null,
          "histogram": [
           {
            "bin_start": 0,
            "bin_end": 0.1,
            "count": 0
           },
           {
            "bin_start": 0.1,
            "bin_end": 0.2,
            "count": 0
           },
           {
            "bin_start": 0.2,
            "bin_end": 0.30000000000000004,
            "count": 0
           },
           {
            "bin_start": 0.30000000000000004,
            "bin_end": 0.4,
            "count": 0
           },
           {
            "bin_start": 0.4,
            "bin_end": 0.5,
            "count": 0
           },
           {
            "bin_start": 0.5,
            "bin_end": 0.6000000000000001,
            "count": 0
           },
           {
            "bin_start": 0.6000000000000001,
            "bin_end": 0.7000000000000001,
            "count": 0
           },
           {
            "bin_start": 0.7000000000000001,
            "bin_end": 0.8,
            "count": 0
           },
           {
            "bin_start": 0.8,
            "bin_end": 0.9,
            "count": 0
           },
           {
            "bin_start": 0.9,
            "bin_end": 1,
            "count": 0
           }
          ]
         }
        },
        {
         "name": "_deepnote_index_column",
         "dtype": "int64"
        }
       ],
       "rows": [
        {
         "STATION": "USW00014765",
         "DATE": "2005-01-01",
         "TAVG": 44,
         "TMIN": 35,
         "TMAX": 53,
         "AWND": 8.95,
         "WSF2": 25.1,
         "WT01": 1,
         "WT02": "nan",
         "WT03": "nan",
         "WT04": "nan",
         "WT05": "nan",
         "WT06": "nan",
         "WT07": "nan",
         "WT08": "nan",
         "WT09": "nan",
         "WT10": "nan",
         "WT11": "nan",
         "WT13": 1,
         "WT14": "nan",
         "WT15": "nan",
         "WT16": "nan",
         "WT17": "nan",
         "WT18": "nan",
         "WT19": "nan",
         "WT21": "nan",
         "WT22": "nan",
         "_deepnote_index_column": 0
        },
        {
         "STATION": "USW00014765",
         "DATE": "2005-01-02",
         "TAVG": 36,
         "TMIN": 28,
         "TMAX": 44,
         "AWND": 9.4,
         "WSF2": 14.1,
         "WT01": "nan",
         "WT02": "nan",
         "WT03": "nan",
         "WT04": "nan",
         "WT05": "nan",
         "WT06": "nan",
         "WT07": "nan",
         "WT08": "nan",
         "WT09": "nan",
         "WT10": "nan",
         "WT11": "nan",
         "WT13": "nan",
         "WT14": "nan",
         "WT15": "nan",
         "WT16": 1,
         "WT17": "nan",
         "WT18": 1,
         "WT19": "nan",
         "WT21": "nan",
         "WT22": "nan",
         "_deepnote_index_column": 1
        },
        {
         "STATION": "USW00014765",
         "DATE": "2005-01-03",
         "TAVG": 49,
         "TMIN": 44,
         "TMAX": 53,
         "AWND": 6.93,
         "WSF2": 17,
         "WT01": 1,
         "WT02": "nan",
         "WT03": "nan",
         "WT04": "nan",
         "WT05": "nan",
         "WT06": "nan",
         "WT07": "nan",
         "WT08": "nan",
         "WT09": "nan",
         "WT10": "nan",
         "WT11": "nan",
         "WT13": 1,
         "WT14": "nan",
         "WT15": "nan",
         "WT16": 1,
         "WT17": "nan",
         "WT18": "nan",
         "WT19": "nan",
         "WT21": "nan",
         "WT22": "nan",
         "_deepnote_index_column": 2
        },
        {
         "STATION": "USW00014765",
         "DATE": "2005-01-04",
         "TAVG": 42,
         "TMIN": 39,
         "TMAX": 45,
         "AWND": 6.93,
         "WSF2": 16.1,
         "WT01": 1,
         "WT02": "nan",
         "WT03": "nan",
         "WT04": "nan",
         "WT05": "nan",
         "WT06": "nan",
         "WT07": "nan",
         "WT08": "nan",
         "WT09": "nan",
         "WT10": "nan",
         "WT11": "nan",
         "WT13": 1,
         "WT14": 1,
         "WT15": "nan",
         "WT16": 1,
         "WT17": "nan",
         "WT18": "nan",
         "WT19": "nan",
         "WT21": "nan",
         "WT22": "nan",
         "_deepnote_index_column": 3
        },
        {
         "STATION": "USW00014765",
         "DATE": "2005-01-05",
         "TAVG": 36,
         "TMIN": 28,
         "TMAX": 43,
         "AWND": 7.83,
         "WSF2": 17,
         "WT01": 1,
         "WT02": "nan",
         "WT03": "nan",
         "WT04": "nan",
         "WT05": "nan",
         "WT06": "nan",
         "WT07": "nan",
         "WT08": "nan",
         "WT09": "nan",
         "WT10": "nan",
         "WT11": "nan",
         "WT13": 1,
         "WT14": "nan",
         "WT15": "nan",
         "WT16": 1,
         "WT17": "nan",
         "WT18": 1,
         "WT19": "nan",
         "WT21": "nan",
         "WT22": "nan",
         "_deepnote_index_column": 4
        }
       ]
      },
      "text/plain": "       STATION        DATE  TAVG  TMIN  TMAX  AWND  WSF2  WT01  WT02  WT03  \\\n0  USW00014765  2005-01-01  44.0    35    53  8.95  25.1   1.0   NaN   NaN   \n1  USW00014765  2005-01-02  36.0    28    44  9.40  14.1   NaN   NaN   NaN   \n2  USW00014765  2005-01-03  49.0    44    53  6.93  17.0   1.0   NaN   NaN   \n3  USW00014765  2005-01-04  42.0    39    45  6.93  16.1   1.0   NaN   NaN   \n4  USW00014765  2005-01-05  36.0    28    43  7.83  17.0   1.0   NaN   NaN   \n\n   ...  WT11  WT13  WT14  WT15  WT16  WT17  WT18  WT19  WT21  WT22  \n0  ...   NaN   1.0   NaN   NaN   NaN   NaN   NaN   NaN   NaN   NaN  \n1  ...   NaN   NaN   NaN   NaN   1.0   NaN   1.0   NaN   NaN   NaN  \n2  ...   NaN   1.0   NaN   NaN   1.0   NaN   NaN   NaN   NaN   NaN  \n3  ...   NaN   1.0   1.0   NaN   1.0   NaN   NaN   NaN   NaN   NaN  \n4  ...   NaN   1.0   NaN   NaN   1.0   NaN   1.0   NaN   NaN   NaN  \n\n[5 rows x 27 columns]",
      "text/html": "<div>\n<style scoped>\n    .dataframe tbody tr th:only-of-type {\n        vertical-align: middle;\n    }\n\n    .dataframe tbody tr th {\n        vertical-align: top;\n    }\n\n    .dataframe thead th {\n        text-align: right;\n    }\n</style>\n<table border=\"1\" class=\"dataframe\">\n  <thead>\n    <tr style=\"text-align: right;\">\n      <th></th>\n      <th>STATION</th>\n      <th>DATE</th>\n      <th>TAVG</th>\n      <th>TMIN</th>\n      <th>TMAX</th>\n      <th>AWND</th>\n      <th>WSF2</th>\n      <th>WT01</th>\n      <th>WT02</th>\n      <th>WT03</th>\n      <th>...</th>\n      <th>WT11</th>\n      <th>WT13</th>\n      <th>WT14</th>\n      <th>WT15</th>\n      <th>WT16</th>\n      <th>WT17</th>\n      <th>WT18</th>\n      <th>WT19</th>\n      <th>WT21</th>\n      <th>WT22</th>\n    </tr>\n  </thead>\n  <tbody>\n    <tr>\n      <th>0</th>\n      <td>USW00014765</td>\n      <td>2005-01-01</td>\n      <td>44.0</td>\n      <td>35</td>\n      <td>53</td>\n      <td>8.95</td>\n      <td>25.1</td>\n      <td>1.0</td>\n      <td>NaN</td>\n      <td>NaN</td>\n      <td>...</td>\n      <td>NaN</td>\n      <td>1.0</td>\n      <td>NaN</td>\n      <td>NaN</td>\n      <td>NaN</td>\n      <td>NaN</td>\n      <td>NaN</td>\n      <td>NaN</td>\n      <td>NaN</td>\n      <td>NaN</td>\n    </tr>\n    <tr>\n      <th>1</th>\n      <td>USW00014765</td>\n      <td>2005-01-02</td>\n      <td>36.0</td>\n      <td>28</td>\n      <td>44</td>\n      <td>9.40</td>\n      <td>14.1</td>\n      <td>NaN</td>\n      <td>NaN</td>\n      <td>NaN</td>\n      <td>...</td>\n      <td>NaN</td>\n      <td>NaN</td>\n      <td>NaN</td>\n      <td>NaN</td>\n      <td>1.0</td>\n      <td>NaN</td>\n      <td>1.0</td>\n      <td>NaN</td>\n      <td>NaN</td>\n      <td>NaN</td>\n    </tr>\n    <tr>\n      <th>2</th>\n      <td>USW00014765</td>\n      <td>2005-01-03</td>\n      <td>49.0</td>\n      <td>44</td>\n      <td>53</td>\n      <td>6.93</td>\n      <td>17.0</td>\n      <td>1.0</td>\n      <td>NaN</td>\n      <td>NaN</td>\n      <td>...</td>\n      <td>NaN</td>\n      <td>1.0</td>\n      <td>NaN</td>\n      <td>NaN</td>\n      <td>1.0</td>\n      <td>NaN</td>\n      <td>NaN</td>\n      <td>NaN</td>\n      <td>NaN</td>\n      <td>NaN</td>\n    </tr>\n    <tr>\n      <th>3</th>\n      <td>USW00014765</td>\n      <td>2005-01-04</td>\n      <td>42.0</td>\n      <td>39</td>\n      <td>45</td>\n      <td>6.93</td>\n      <td>16.1</td>\n      <td>1.0</td>\n      <td>NaN</td>\n      <td>NaN</td>\n      <td>...</td>\n      <td>NaN</td>\n      <td>1.0</td>\n      <td>1.0</td>\n      <td>NaN</td>\n      <td>1.0</td>\n      <td>NaN</td>\n      <td>NaN</td>\n      <td>NaN</td>\n      <td>NaN</td>\n      <td>NaN</td>\n    </tr>\n    <tr>\n      <th>4</th>\n      <td>USW00014765</td>\n      <td>2005-01-05</td>\n      <td>36.0</td>\n      <td>28</td>\n      <td>43</td>\n      <td>7.83</td>\n      <td>17.0</td>\n      <td>1.0</td>\n      <td>NaN</td>\n      <td>NaN</td>\n      <td>...</td>\n      <td>NaN</td>\n      <td>1.0</td>\n      <td>NaN</td>\n      <td>NaN</td>\n      <td>1.0</td>\n      <td>NaN</td>\n      <td>1.0</td>\n      <td>NaN</td>\n      <td>NaN</td>\n      <td>NaN</td>\n    </tr>\n  </tbody>\n</table>\n<p>5 rows × 27 columns</p>\n</div>"
     },
     "metadata": {}
    }
   ]
  },
  {
   "cell_type": "markdown",
   "source": "### Plotting the temperature",
   "metadata": {
    "cell_id": "2310f769421a49ddb5b3f414f1e8fd10",
    "tags": [],
    "is_collapsed": false,
    "deepnote_cell_type": "text-cell-h3"
   }
  },
  {
   "cell_type": "code",
   "metadata": {
    "cell_id": "0137e906f2d24c17af6094a0ec9ef995",
    "tags": [],
    "deepnote_to_be_reexecuted": false,
    "source_hash": "48a8ab3c",
    "execution_start": 1654356192643,
    "execution_millis": 270,
    "deepnote_cell_type": "code",
    "deepnote_cell_height": 536
   },
   "source": "# Select the temperature columns (TMIN, TAVG, TMAX) and print their summary statistics\nweather[['TMIN', 'TAVG', 'TMAX']].describe()",
   "execution_count": 2,
   "outputs": [
    {
     "output_type": "execute_result",
     "execution_count": 2,
     "data": {
      "application/vnd.deepnote.dataframe.v3+json": {
       "column_count": 3,
       "row_count": 8,
       "columns": [
        {
         "name": "TMIN",
         "dtype": "float64",
         "stats": {
          "unique_count": 8,
          "nan_count": 0,
          "min": "-5.0",
          "max": "4017.0",
          "histogram": [
           {
            "bin_start": -5,
            "bin_end": 397.2,
            "count": 7
           },
           {
            "bin_start": 397.2,
            "bin_end": 799.4,
            "count": 0
           },
           {
            "bin_start": 799.4,
            "bin_end": 1201.6,
            "count": 0
           },
           {
            "bin_start": 1201.6,
            "bin_end": 1603.8,
            "count": 0
           },
           {
            "bin_start": 1603.8,
            "bin_end": 2006,
            "count": 0
           },
           {
            "bin_start": 2006,
            "bin_end": 2408.2,
            "count": 0
           },
           {
            "bin_start": 2408.2,
            "bin_end": 2810.4,
            "count": 0
           },
           {
            "bin_start": 2810.4,
            "bin_end": 3212.6,
            "count": 0
           },
           {
            "bin_start": 3212.6,
            "bin_end": 3614.7999999999997,
            "count": 0
           },
           {
            "bin_start": 3614.7999999999997,
            "bin_end": 4017,
            "count": 1
           }
          ]
         }
        },
        {
         "name": "TAVG",
         "dtype": "float64",
         "stats": {
          "unique_count": 8,
          "nan_count": 0,
          "min": "6.0",
          "max": "1217.0",
          "histogram": [
           {
            "bin_start": 6,
            "bin_end": 127.1,
            "count": 7
           },
           {
            "bin_start": 127.1,
            "bin_end": 248.2,
            "count": 0
           },
           {
            "bin_start": 248.2,
            "bin_end": 369.29999999999995,
            "count": 0
           },
           {
            "bin_start": 369.29999999999995,
            "bin_end": 490.4,
            "count": 0
           },
           {
            "bin_start": 490.4,
            "bin_end": 611.5,
            "count": 0
           },
           {
            "bin_start": 611.5,
            "bin_end": 732.5999999999999,
            "count": 0
           },
           {
            "bin_start": 732.5999999999999,
            "bin_end": 853.6999999999999,
            "count": 0
           },
           {
            "bin_start": 853.6999999999999,
            "bin_end": 974.8,
            "count": 0
           },
           {
            "bin_start": 974.8,
            "bin_end": 1095.8999999999999,
            "count": 0
           },
           {
            "bin_start": 1095.8999999999999,
            "bin_end": 1217,
            "count": 1
           }
          ]
         }
        },
        {
         "name": "TMAX",
         "dtype": "float64",
         "stats": {
          "unique_count": 8,
          "nan_count": 0,
          "min": "15.0",
          "max": "4017.0",
          "histogram": [
           {
            "bin_start": 15,
            "bin_end": 415.2,
            "count": 7
           },
           {
            "bin_start": 415.2,
            "bin_end": 815.4,
            "count": 0
           },
           {
            "bin_start": 815.4,
            "bin_end": 1215.6,
            "count": 0
           },
           {
            "bin_start": 1215.6,
            "bin_end": 1615.8,
            "count": 0
           },
           {
            "bin_start": 1615.8,
            "bin_end": 2016,
            "count": 0
           },
           {
            "bin_start": 2016,
            "bin_end": 2416.2,
            "count": 0
           },
           {
            "bin_start": 2416.2,
            "bin_end": 2816.4,
            "count": 0
           },
           {
            "bin_start": 2816.4,
            "bin_end": 3216.6,
            "count": 0
           },
           {
            "bin_start": 3216.6,
            "bin_end": 3616.7999999999997,
            "count": 0
           },
           {
            "bin_start": 3616.7999999999997,
            "bin_end": 4017,
            "count": 1
           }
          ]
         }
        },
        {
         "name": "_deepnote_index_column",
         "dtype": "object"
        }
       ],
       "rows": [
        {
         "TMIN": 4017,
         "TAVG": 1217,
         "TMAX": 4017,
         "_deepnote_index_column": "count"
        },
        {
         "TMIN": 43.48444112521783,
         "TAVG": 52.49301561216105,
         "TMAX": 61.26860841423948,
         "_deepnote_index_column": "mean"
        },
        {
         "TMIN": 17.020298386453916,
         "TAVG": 17.830714155541585,
         "TMAX": 18.199516566853916,
         "_deepnote_index_column": "std"
        },
        {
         "TMIN": -5,
         "TAVG": 6,
         "TMAX": 15,
         "_deepnote_index_column": "min"
        },
        {
         "TMIN": 30,
         "TAVG": 39,
         "TMAX": 47,
         "_deepnote_index_column": "25%"
        },
        {
         "TMIN": 44,
         "TAVG": 54,
         "TMAX": 62,
         "_deepnote_index_column": "50%"
        },
        {
         "TMIN": 58,
         "TAVG": 68,
         "TMAX": 77,
         "_deepnote_index_column": "75%"
        },
        {
         "TMIN": 77,
         "TAVG": 86,
         "TMAX": 102,
         "_deepnote_index_column": "max"
        }
       ]
      },
      "text/plain": "              TMIN         TAVG         TMAX\ncount  4017.000000  1217.000000  4017.000000\nmean     43.484441    52.493016    61.268608\nstd      17.020298    17.830714    18.199517\nmin      -5.000000     6.000000    15.000000\n25%      30.000000    39.000000    47.000000\n50%      44.000000    54.000000    62.000000\n75%      58.000000    68.000000    77.000000\nmax      77.000000    86.000000   102.000000",
      "text/html": "<div>\n<style scoped>\n    .dataframe tbody tr th:only-of-type {\n        vertical-align: middle;\n    }\n\n    .dataframe tbody tr th {\n        vertical-align: top;\n    }\n\n    .dataframe thead th {\n        text-align: right;\n    }\n</style>\n<table border=\"1\" class=\"dataframe\">\n  <thead>\n    <tr style=\"text-align: right;\">\n      <th></th>\n      <th>TMIN</th>\n      <th>TAVG</th>\n      <th>TMAX</th>\n    </tr>\n  </thead>\n  <tbody>\n    <tr>\n      <th>count</th>\n      <td>4017.000000</td>\n      <td>1217.000000</td>\n      <td>4017.000000</td>\n    </tr>\n    <tr>\n      <th>mean</th>\n      <td>43.484441</td>\n      <td>52.493016</td>\n      <td>61.268608</td>\n    </tr>\n    <tr>\n      <th>std</th>\n      <td>17.020298</td>\n      <td>17.830714</td>\n      <td>18.199517</td>\n    </tr>\n    <tr>\n      <th>min</th>\n      <td>-5.000000</td>\n      <td>6.000000</td>\n      <td>15.000000</td>\n    </tr>\n    <tr>\n      <th>25%</th>\n      <td>30.000000</td>\n      <td>39.000000</td>\n      <td>47.000000</td>\n    </tr>\n    <tr>\n      <th>50%</th>\n      <td>44.000000</td>\n      <td>54.000000</td>\n      <td>62.000000</td>\n    </tr>\n    <tr>\n      <th>75%</th>\n      <td>58.000000</td>\n      <td>68.000000</td>\n      <td>77.000000</td>\n    </tr>\n    <tr>\n      <th>max</th>\n      <td>77.000000</td>\n      <td>86.000000</td>\n      <td>102.000000</td>\n    </tr>\n  </tbody>\n</table>\n</div>"
     },
     "metadata": {}
    }
   ]
  },
  {
   "cell_type": "code",
   "metadata": {
    "cell_id": "b49a3f8d27f74bfda555eb6c3003577a",
    "tags": [],
    "deepnote_to_be_reexecuted": false,
    "source_hash": "7090034",
    "execution_start": 1654356192720,
    "execution_millis": 2913,
    "deepnote_cell_type": "code",
    "deepnote_cell_height": 417.171875,
    "deepnote_output_heights": [
     21.1875,
     250
    ]
   },
   "source": "# Create a box plot to visualize the temperature columns\nweather[['TMIN', 'TAVG', 'TMAX']].plot(kind='box')",
   "execution_count": 3,
   "outputs": [
    {
     "output_type": "execute_result",
     "execution_count": 3,
     "data": {
      "text/plain": "<AxesSubplot:>"
     },
     "metadata": {}
    },
    {
     "data": {
      "text/plain": "<Figure size 432x288 with 1 Axes>",
      "image/png": "[encoded data removed]"
     },
     "metadata": {
      "needs_background": "light",
      "image/png": {
       "width": 375,
       "height": 248
      }
     },
     "output_type": "display_data"
    }
   ]
  },
  {
   "cell_type": "markdown",
   "source": "### Plotting the temperature difference",
   "metadata": {
    "cell_id": "076aceac755646dbbedcf28d9b794509",
    "tags": [],
    "is_collapsed": false,
    "deepnote_cell_type": "text-cell-h3"
   }
  },
  {
   "cell_type": "code",
   "metadata": {
    "cell_id": "d339c154810343a9abf3e967a3cc7d6c",
    "tags": [],
    "deepnote_to_be_reexecuted": false,
    "source_hash": "1154313",
    "execution_start": 1654356195577,
    "execution_millis": 20,
    "deepnote_cell_type": "code",
    "deepnote_cell_height": 99
   },
   "source": "# Create a new column named TDIFF that represents the difference between the maximum and minimum temperatures\nweather['TDIFF'] = weather['TMAX'] - weather['TMIN'] ",
   "execution_count": 4,
   "outputs": []
  },
  {
   "cell_type": "code",
   "metadata": {
    "cell_id": "77ff0b0209ea4986a1de018f55051e63",
    "tags": [],
    "deepnote_to_be_reexecuted": false,
    "source_hash": "1ed7d3d6",
    "execution_start": 1654356195606,
    "execution_millis": 33,
    "deepnote_cell_type": "code",
    "deepnote_cell_height": 289.71875,
    "deepnote_output_heights": [
     174.734375
    ]
   },
   "source": "# Print the summary statistics for TDIFF\nweather['TDIFF'].describe()",
   "execution_count": 5,
   "outputs": [
    {
     "output_type": "execute_result",
     "execution_count": 5,
     "data": {
      "text/plain": "count    4017.000000\nmean       17.784167\nstd         6.350720\nmin         2.000000\n25%        14.000000\n50%        18.000000\n75%        22.000000\nmax        43.000000\nName: TDIFF, dtype: float64"
     },
     "metadata": {}
    }
   ]
  },
  {
   "cell_type": "code",
   "metadata": {
    "cell_id": "393223eb47d14185b3e6249c199eca1f",
    "tags": [],
    "deepnote_to_be_reexecuted": false,
    "source_hash": "7c012c67",
    "execution_start": 1654356195654,
    "execution_millis": 413,
    "deepnote_cell_type": "code",
    "deepnote_cell_height": 417.171875,
    "deepnote_output_heights": [
     21.1875,
     250
    ]
   },
   "source": "# Create a histogram with 20 bins to visualize TDIFF\nweather['TDIFF'].hist(bins=20)",
   "execution_count": 6,
   "outputs": [
    {
     "output_type": "execute_result",
     "execution_count": 6,
     "data": {
      "text/plain": "<AxesSubplot:>"
     },
     "metadata": {}
    },
    {
     "data": {
      "text/plain": "<Figure size 432x288 with 1 Axes>",
      "image/png": "[encoded data removed]"
     },
     "metadata": {
      "needs_background": "light",
      "image/png": {
       "width": 375,
       "height": 248
      }
     },
     "output_type": "display_data"
    }
   ]
  },
  {
   "cell_type": "markdown",
   "source": "## Categorizing the weather",
   "metadata": {
    "cell_id": "b2358d103da94c228886a066d9a2f806",
    "tags": [],
    "is_collapsed": false,
    "deepnote_cell_type": "text-cell-h2"
   }
  },
  {
   "cell_type": "markdown",
   "source": "### Counting bad weather conditions",
   "metadata": {
    "cell_id": "7842fd67fa604283a4fbc382fb83dfa9",
    "tags": [],
    "is_collapsed": false,
    "deepnote_cell_type": "text-cell-h3"
   }
  },
  {
   "cell_type": "code",
   "metadata": {
    "cell_id": "315025a8255441bf8e68e2b1e395ebf0",
    "tags": [],
    "deepnote_to_be_reexecuted": false,
    "source_hash": "3ee1d5cc",
    "execution_start": 1654356196073,
    "execution_millis": 19,
    "deepnote_cell_type": "code",
    "deepnote_cell_height": 117
   },
   "source": "# The weather DataFrame contains 20 columns that start with 'WT', each of which represents a bad weather condition\n# Copy the columns WT01 through WT22 from weather to a new DataFrame named WT\nWT = weather.loc[:, 'WT01':'WT22']",
   "execution_count": 7,
   "outputs": []
  },
  {
   "cell_type": "code",
   "metadata": {
    "cell_id": "ff78ef6824f8454792169b77fca1eb72",
    "tags": [],
    "deepnote_to_be_reexecuted": false,
    "source_hash": "fca66563",
    "execution_start": 1654356196103,
    "execution_millis": 19,
    "deepnote_cell_type": "code",
    "deepnote_cell_height": 99
   },
   "source": "# Calculate the sum of each row in WT, and store the results in a new weather column named bad_conditions\nweather['bad_conditions'] = WT.sum(axis='columns')",
   "execution_count": 8,
   "outputs": []
  },
  {
   "cell_type": "code",
   "metadata": {
    "cell_id": "b9ce590a2b3a4081adadcddd0fdc2ce7",
    "tags": [],
    "deepnote_to_be_reexecuted": false,
    "source_hash": "c7a1d811",
    "execution_start": 1654356196140,
    "execution_millis": 33,
    "deepnote_cell_type": "code",
    "deepnote_cell_height": 347.296875,
    "deepnote_output_heights": [
     232.3125
    ]
   },
   "source": "# Replace any missing values in bad_conditions with a 0\nweather.bad_conditions.fillna(0)",
   "execution_count": 9,
   "outputs": [
    {
     "output_type": "execute_result",
     "execution_count": 9,
     "data": {
      "text/plain": "0       2.0\n1       2.0\n2       3.0\n3       4.0\n4       4.0\n       ... \n4012    1.0\n4013    0.0\n4014    3.0\n4015    2.0\n4016    1.0\nName: bad_conditions, Length: 4017, dtype: float64"
     },
     "metadata": {}
    }
   ]
  },
  {
   "cell_type": "code",
   "metadata": {
    "cell_id": "78f33d153dae4b41a6b67912c2e52052",
    "tags": [],
    "deepnote_to_be_reexecuted": false,
    "source_hash": "73a2eb5c",
    "execution_start": 1654356196180,
    "execution_millis": 382,
    "deepnote_cell_type": "code",
    "deepnote_cell_height": 417.171875,
    "deepnote_output_heights": [
     21.1875,
     250
    ]
   },
   "source": "# Create a histogram to visualize bad_conditions\nweather.bad_conditions.hist()",
   "execution_count": 10,
   "outputs": [
    {
     "output_type": "execute_result",
     "execution_count": 10,
     "data": {
      "text/plain": "<AxesSubplot:>"
     },
     "metadata": {}
    },
    {
     "data": {
      "text/plain": "<Figure size 432x288 with 1 Axes>",
      "image/png": "[encoded data removed]"
     },
     "metadata": {
      "needs_background": "light",
      "image/png": {
       "width": 381,
       "height": 248
      }
     },
     "output_type": "display_data"
    }
   ]
  },
  {
   "cell_type": "markdown",
   "source": "### Rating the weather conditions",
   "metadata": {
    "cell_id": "b4c35cf541f64a73865935013aa02613",
    "tags": [],
    "is_collapsed": false,
    "deepnote_cell_type": "text-cell-h3"
   }
  },
  {
   "cell_type": "code",
   "metadata": {
    "cell_id": "8b8123a4891c4c48994a6ccfac1af9af",
    "tags": [],
    "deepnote_to_be_reexecuted": false,
    "source_hash": "25c014ba",
    "execution_start": 1654356196568,
    "execution_millis": 27,
    "deepnote_cell_type": "code",
    "deepnote_cell_height": 346.125,
    "deepnote_output_heights": [
     213.125
    ]
   },
   "source": "# In this exercise, you'll use the counts to create a rating system for the weather\n# Count the unique values in the bad_conditions column and sort the index\nweather.bad_conditions.value_counts().sort_index()",
   "execution_count": 11,
   "outputs": [
    {
     "output_type": "execute_result",
     "execution_count": 11,
     "data": {
      "text/plain": "0.0    1749\n1.0     613\n2.0     367\n3.0     380\n4.0     476\n5.0     282\n6.0     101\n7.0      41\n8.0       4\n9.0       4\nName: bad_conditions, dtype: int64"
     },
     "metadata": {}
    }
   ]
  },
  {
   "cell_type": "code",
   "metadata": {
    "cell_id": "cad21cf320634249b7f805735b6bfb52",
    "tags": [],
    "deepnote_to_be_reexecuted": false,
    "source_hash": "117d8525",
    "execution_start": 1654356196603,
    "execution_millis": 60,
    "deepnote_cell_type": "code",
    "deepnote_cell_height": 99
   },
   "source": "# Create a dictionary called mapping that maps the bad_conditions integers to strings\nmapping = {0:'good', 1:'bad', 2:'bad', 3:'bad', 4:'bad', 5:'worse', 6:'worse', 7:'worse', 8:'worse', 9:'worse'}",
   "execution_count": 12,
   "outputs": []
  },
  {
   "cell_type": "code",
   "metadata": {
    "cell_id": "da9619b237e2446fa3554cbc06bc75be",
    "tags": [],
    "deepnote_to_be_reexecuted": false,
    "source_hash": "57f98604",
    "execution_start": 1654356196664,
    "execution_millis": 0,
    "deepnote_cell_type": "code",
    "deepnote_cell_height": 99
   },
   "source": "# Convert the bad_conditions integers to strings using the mapping and store the results in a new column called rating\nweather['rating'] = weather.bad_conditions.map(mapping)",
   "execution_count": 13,
   "outputs": []
  },
  {
   "cell_type": "code",
   "metadata": {
    "cell_id": "c41a2c09fba843b1b225f9bf3f067cb7",
    "tags": [],
    "deepnote_to_be_reexecuted": false,
    "source_hash": "93d5ce9b",
    "execution_start": 1654356196664,
    "execution_millis": 49,
    "deepnote_cell_type": "code",
    "deepnote_cell_height": 193.75,
    "deepnote_output_heights": [
     78.765625
    ]
   },
   "source": "# Count the unique values in rating to verify that the integers were properly converted to strings\nweather.rating.value_counts()",
   "execution_count": 14,
   "outputs": [
    {
     "output_type": "execute_result",
     "execution_count": 14,
     "data": {
      "text/plain": "bad      1836\ngood     1749\nworse     432\nName: rating, dtype: int64"
     },
     "metadata": {}
    }
   ]
  },
  {
   "cell_type": "markdown",
   "source": "### Changing the data type to category",
   "metadata": {
    "cell_id": "d8f690bffb6c434fb79304d5b5818f2e",
    "tags": [],
    "is_collapsed": false,
    "deepnote_cell_type": "text-cell-h3"
   }
  },
  {
   "cell_type": "code",
   "metadata": {
    "cell_id": "0a889b7198c44b7eb965722e8b0abd11",
    "tags": [],
    "deepnote_to_be_reexecuted": false,
    "source_hash": "80f9bfa3",
    "execution_start": 1654356196712,
    "execution_millis": 5,
    "deepnote_cell_type": "code",
    "deepnote_cell_height": 99
   },
   "source": "# Create a CategoricalDtype object called cats that lists the weather ratings in a logical order: 'good', 'bad', 'worse'\ncats = pd.CategoricalDtype(['good', 'bad', 'worse'], ordered=True)",
   "execution_count": 15,
   "outputs": []
  },
  {
   "cell_type": "code",
   "metadata": {
    "cell_id": "accd801369ee4825bbfdcc66238452bf",
    "tags": [],
    "deepnote_to_be_reexecuted": false,
    "source_hash": "c2e9f273",
    "execution_start": 1654356196731,
    "execution_millis": 6,
    "deepnote_cell_type": "code",
    "deepnote_cell_height": 99
   },
   "source": "# Use the cats object to change the data type of the rating column from object to category\nweather.rating = weather.rating.astype(cats)",
   "execution_count": 16,
   "outputs": []
  },
  {
   "cell_type": "code",
   "metadata": {
    "cell_id": "7a9caf6803394964998fde02acd849fc",
    "tags": [],
    "deepnote_to_be_reexecuted": false,
    "source_hash": "75c0ecdf",
    "execution_start": 1654356196746,
    "execution_millis": 29,
    "deepnote_cell_type": "code",
    "deepnote_cell_height": 251.328125,
    "deepnote_output_heights": [
     136.34375
    ]
   },
   "source": "# Examine the head of the rating column to confirm that the categories are logically ordered\nweather.rating.head()",
   "execution_count": 17,
   "outputs": [
    {
     "output_type": "execute_result",
     "execution_count": 17,
     "data": {
      "text/plain": "0    bad\n1    bad\n2    bad\n3    bad\n4    bad\nName: rating, dtype: category\nCategories (3, object): ['good' < 'bad' < 'worse']"
     },
     "metadata": {}
    }
   ]
  },
  {
   "cell_type": "markdown",
   "source": "## Merging datasets",
   "metadata": {
    "cell_id": "0be7361dc48b4037a86fec117184a2d1",
    "tags": [],
    "is_collapsed": false,
    "deepnote_cell_type": "text-cell-h2"
   }
  },
  {
   "cell_type": "markdown",
   "source": "### Preparing the DataFrames",
   "metadata": {
    "cell_id": "fd5db613b46b43eea86904e060ffd1d1",
    "tags": [],
    "is_collapsed": false,
    "deepnote_cell_type": "text-cell-h3"
   }
  },
  {
   "cell_type": "code",
   "metadata": {
    "cell_id": "7aff391095644b6ab6f31263b76b17d5",
    "tags": [],
    "deepnote_to_be_reexecuted": false,
    "source_hash": "eda31e0c",
    "execution_start": 1654356196781,
    "execution_millis": 449,
    "deepnote_cell_type": "code",
    "deepnote_cell_height": 462.078125
   },
   "source": "# Reset the index of the ri DataFrame\nri = pd.read_csv('/work/data_science_notes/ 23. Analyzing police activity with pandas/data/police_edited.csv')\nri.stop_datetime = pd.to_datetime(ri.stop_datetime)\nri.head()",
   "execution_count": 18,
   "outputs": [
    {
     "output_type": "execute_result",
     "execution_count": 18,
     "data": {
      "application/vnd.deepnote.dataframe.v3+json": {
       "column_count": 14,
       "row_count": 5,
       "columns": [
        {
         "name": "stop_datetime",
         "dtype": "datetime64[ns]",
         "stats": {
          "unique_count": 5,
          "nan_count": 0,
          "min": "2005-01-04 12:55:00",
          "max": "2005-02-24 01:20:00",
          "histogram": [
           {
            "bin_start": 1104843300000000000,
            "bin_end": 1105279770000000000,
            "count": 1
           },
           {
            "bin_start": 1105279770000000000,
            "bin_end": 1105716240000000000,
            "count": 0
           },
           {
            "bin_start": 1105716240000000000,
            "bin_end": 1106152710000000000,
            "count": 0
           },
           {
            "bin_start": 1106152710000000000,
            "bin_end": 1106589180000000000,
            "count": 1
           },
           {
            "bin_start": 1106589180000000000,
            "bin_end": 1107025650000000000,
            "count": 0
           },
           {
            "bin_start": 1107025650000000000,
            "bin_end": 1107462120000000000,
            "count": 0
           },
           {
            "bin_start": 1107462120000000000,
            "bin_end": 1107898590000000000,
            "count": 0
           },
           {
            "bin_start": 1107898590000000000,
            "bin_end": 1108335060000000000,
            "count": 0
           },
           {
            "bin_start": 1108335060000000000,
            "bin_end": 1108771530000000000,
            "count": 1
           },
           {
            "bin_start": 1108771530000000000,
            "bin_end": 1109208000000000000,
            "count": 2
           }
          ]
         }
        },
        {
         "name": "stop_date",
         "dtype": "object",
         "stats": {
          "unique_count": 5,
          "nan_count": 0,
          "categories": [
           {
            "name": "2005-01-04",
            "count": 1
           },
           {
            "name": "2005-01-23",
            "count": 1
           },
           {
            "name": "3 others",
            "count": 3
           }
          ]
         }
        },
        {
         "name": "stop_time",
         "dtype": "object",
         "stats": {
          "unique_count": 5,
          "nan_count": 0,
          "categories": [
           {
            "name": "12:55",
            "count": 1
           },
           {
            "name": "23:15",
            "count": 1
           },
           {
            "name": "3 others",
            "count": 3
           }
          ]
         }
        },
        {
         "name": "driver_gender",
         "dtype": "object",
         "stats": {
          "unique_count": 2,
          "nan_count": 0,
          "categories": [
           {
            "name": "M",
            "count": 4
           },
           {
            "name": "F",
            "count": 1
           }
          ]
         }
        },
        {
         "name": "driver_race",
         "dtype": "object",
         "stats": {
          "unique_count": 1,
          "nan_count": 0,
          "categories": [
           {
            "name": "White",
            "count": 5
           }
          ]
         }
        },
        {
         "name": "violation_raw",
         "dtype": "object",
         "stats": {
          "unique_count": 3,
          "nan_count": 0,
          "categories": [
           {
            "name": "Speeding",
            "count": 3
           },
           {
            "name": "Equipment/Inspection Violation",
            "count": 1
           },
           {
            "name": "Call for Service",
            "count": 1
           }
          ]
         }
        },
        {
         "name": "violation",
         "dtype": "object",
         "stats": {
          "unique_count": 3,
          "nan_count": 0,
          "categories": [
           {
            "name": "Speeding",
            "count": 3
           },
           {
            "name": "Equipment",
            "count": 1
           },
           {
            "name": "Other",
            "count": 1
           }
          ]
         }
        },
        {
         "name": "search_conducted",
         "dtype": "bool",
         "stats": {
          "unique_count": 1,
          "nan_count": 0,
          "categories": [
           {
            "name": "False",
            "count": 5
           }
          ]
         }
        },
        {
         "name": "search_type",
         "dtype": "object",
         "stats": {
          "unique_count": 0,
          "nan_count": 5,
          "categories": [
           {
            "name": "Missing",
            "count": 5
           }
          ]
         }
        },
        {
         "name": "stop_outcome",
         "dtype": "object",
         "stats": {
          "unique_count": 2,
          "nan_count": 0,
          "categories": [
           {
            "name": "Citation",
            "count": 4
           },
           {
            "name": "Arrest Driver",
            "count": 1
           }
          ]
         }
        },
        {
         "name": "is_arrested",
         "dtype": "bool",
         "stats": {
          "unique_count": 2,
          "nan_count": 0,
          "categories": [
           {
            "name": "False",
            "count": 4
           },
           {
            "name": "True",
            "count": 1
           }
          ]
         }
        },
        {
         "name": "stop_duration",
         "dtype": "object",
         "stats": {
          "unique_count": 2,
          "nan_count": 0,
          "categories": [
           {
            "name": "0-15 Min",
            "count": 4
           },
           {
            "name": "16-30 Min",
            "count": 1
           }
          ]
         }
        },
        {
         "name": "drugs_related_stop",
         "dtype": "bool",
         "stats": {
          "unique_count": 1,
          "nan_count": 0,
          "categories": [
           {
            "name": "False",
            "count": 5
           }
          ]
         }
        },
        {
         "name": "district",
         "dtype": "object",
         "stats": {
          "unique_count": 4,
          "nan_count": 0,
          "categories": [
           {
            "name": "Zone X4",
            "count": 2
           },
           {
            "name": "Zone K3",
            "count": 1
           },
           {
            "name": "2 others",
            "count": 2
           }
          ]
         }
        },
        {
         "name": "_deepnote_index_column",
         "dtype": "int64"
        }
       ],
       "rows": [
        {
         "stop_datetime": "2005-01-04T12:55:00.000000",
         "stop_date": "2005-01-04",
         "stop_time": "12:55",
         "driver_gender": "M",
         "driver_race": "White",
         "violation_raw": "Equipment/Inspection Violation",
         "violation": "Equipment",
         "search_conducted": false,
         "search_type": "nan",
         "stop_outcome": "Citation",
         "is_arrested": false,
         "stop_duration": "0-15 Min",
         "drugs_related_stop": false,
         "district": "Zone X4",
         "_deepnote_index_column": 0
        },
        {
         "stop_datetime": "2005-01-23T23:15:00.000000",
         "stop_date": "2005-01-23",
         "stop_time": "23:15",
         "driver_gender": "M",
         "driver_race": "White",
         "violation_raw": "Speeding",
         "violation": "Speeding",
         "search_conducted": false,
         "search_type": "nan",
         "stop_outcome": "Citation",
         "is_arrested": false,
         "stop_duration": "0-15 Min",
         "drugs_related_stop": false,
         "district": "Zone K3",
         "_deepnote_index_column": 1
        },
        {
         "stop_datetime": "2005-02-17T04:15:00.000000",
         "stop_date": "2005-02-17",
         "stop_time": "04:15",
         "driver_gender": "M",
         "driver_race": "White",
         "violation_raw": "Speeding",
         "violation": "Speeding",
         "search_conducted": false,
         "search_type": "nan",
         "stop_outcome": "Citation",
         "is_arrested": false,
         "stop_duration": "0-15 Min",
         "drugs_related_stop": false,
         "district": "Zone X4",
         "_deepnote_index_column": 2
        },
        {
         "stop_datetime": "2005-02-20T17:15:00.000000",
         "stop_date": "2005-02-20",
         "stop_time": "17:15",
         "driver_gender": "M",
         "driver_race": "White",
         "violation_raw": "Call for Service",
         "violation": "Other",
         "search_conducted": false,
         "search_type": "nan",
         "stop_outcome": "Arrest Driver",
         "is_arrested": true,
         "stop_duration": "16-30 Min",
         "drugs_related_stop": false,
         "district": "Zone X1",
         "_deepnote_index_column": 3
        },
        {
         "stop_datetime": "2005-02-24T01:20:00.000000",
         "stop_date": "2005-02-24",
         "stop_time": "01:20",
         "driver_gender": "F",
         "driver_race": "White",
         "violation_raw": "Speeding",
         "violation": "Speeding",
         "search_conducted": false,
         "search_type": "nan",
         "stop_outcome": "Citation",
         "is_arrested": false,
         "stop_duration": "0-15 Min",
         "drugs_related_stop": false,
         "district": "Zone X3",
         "_deepnote_index_column": 4
        }
       ]
      },
      "text/plain": "        stop_datetime   stop_date stop_time driver_gender driver_race  \\\n0 2005-01-04 12:55:00  2005-01-04     12:55             M       White   \n1 2005-01-23 23:15:00  2005-01-23     23:15             M       White   \n2 2005-02-17 04:15:00  2005-02-17     04:15             M       White   \n3 2005-02-20 17:15:00  2005-02-20     17:15             M       White   \n4 2005-02-24 01:20:00  2005-02-24     01:20             F       White   \n\n                    violation_raw  violation  search_conducted search_type  \\\n0  Equipment/Inspection Violation  Equipment             False         NaN   \n1                        Speeding   Speeding             False         NaN   \n2                        Speeding   Speeding             False         NaN   \n3                Call for Service      Other             False         NaN   \n4                        Speeding   Speeding             False         NaN   \n\n    stop_outcome  is_arrested stop_duration  drugs_related_stop district  \n0       Citation        False      0-15 Min               False  Zone X4  \n1       Citation        False      0-15 Min               False  Zone K3  \n2       Citation        False      0-15 Min               False  Zone X4  \n3  Arrest Driver         True     16-30 Min               False  Zone X1  \n4       Citation        False      0-15 Min               False  Zone X3  ",
      "text/html": "<div>\n<style scoped>\n    .dataframe tbody tr th:only-of-type {\n        vertical-align: middle;\n    }\n\n    .dataframe tbody tr th {\n        vertical-align: top;\n    }\n\n    .dataframe thead th {\n        text-align: right;\n    }\n</style>\n<table border=\"1\" class=\"dataframe\">\n  <thead>\n    <tr style=\"text-align: right;\">\n      <th></th>\n      <th>stop_datetime</th>\n      <th>stop_date</th>\n      <th>stop_time</th>\n      <th>driver_gender</th>\n      <th>driver_race</th>\n      <th>violation_raw</th>\n      <th>violation</th>\n      <th>search_conducted</th>\n      <th>search_type</th>\n      <th>stop_outcome</th>\n      <th>is_arrested</th>\n      <th>stop_duration</th>\n      <th>drugs_related_stop</th>\n      <th>district</th>\n    </tr>\n  </thead>\n  <tbody>\n    <tr>\n      <th>0</th>\n      <td>2005-01-04 12:55:00</td>\n      <td>2005-01-04</td>\n      <td>12:55</td>\n      <td>M</td>\n      <td>White</td>\n      <td>Equipment/Inspection Violation</td>\n      <td>Equipment</td>\n      <td>False</td>\n      <td>NaN</td>\n      <td>Citation</td>\n      <td>False</td>\n      <td>0-15 Min</td>\n      <td>False</td>\n      <td>Zone X4</td>\n    </tr>\n    <tr>\n      <th>1</th>\n      <td>2005-01-23 23:15:00</td>\n      <td>2005-01-23</td>\n      <td>23:15</td>\n      <td>M</td>\n      <td>White</td>\n      <td>Speeding</td>\n      <td>Speeding</td>\n      <td>False</td>\n      <td>NaN</td>\n      <td>Citation</td>\n      <td>False</td>\n      <td>0-15 Min</td>\n      <td>False</td>\n      <td>Zone K3</td>\n    </tr>\n    <tr>\n      <th>2</th>\n      <td>2005-02-17 04:15:00</td>\n      <td>2005-02-17</td>\n      <td>04:15</td>\n      <td>M</td>\n      <td>White</td>\n      <td>Speeding</td>\n      <td>Speeding</td>\n      <td>False</td>\n      <td>NaN</td>\n      <td>Citation</td>\n      <td>False</td>\n      <td>0-15 Min</td>\n      <td>False</td>\n      <td>Zone X4</td>\n    </tr>\n    <tr>\n      <th>3</th>\n      <td>2005-02-20 17:15:00</td>\n      <td>2005-02-20</td>\n      <td>17:15</td>\n      <td>M</td>\n      <td>White</td>\n      <td>Call for Service</td>\n      <td>Other</td>\n      <td>False</td>\n      <td>NaN</td>\n      <td>Arrest Driver</td>\n      <td>True</td>\n      <td>16-30 Min</td>\n      <td>False</td>\n      <td>Zone X1</td>\n    </tr>\n    <tr>\n      <th>4</th>\n      <td>2005-02-24 01:20:00</td>\n      <td>2005-02-24</td>\n      <td>01:20</td>\n      <td>F</td>\n      <td>White</td>\n      <td>Speeding</td>\n      <td>Speeding</td>\n      <td>False</td>\n      <td>NaN</td>\n      <td>Citation</td>\n      <td>False</td>\n      <td>0-15 Min</td>\n      <td>False</td>\n      <td>Zone X3</td>\n    </tr>\n  </tbody>\n</table>\n</div>"
     },
     "metadata": {}
    }
   ]
  },
  {
   "cell_type": "code",
   "metadata": {
    "cell_id": "3fb67210861847e599862a39638950c4",
    "tags": [],
    "deepnote_to_be_reexecuted": false,
    "source_hash": "d538113b",
    "execution_start": 1654356197237,
    "execution_millis": 44,
    "deepnote_cell_type": "code",
    "deepnote_cell_height": 431
   },
   "source": "# Create a new DataFrame named weather_rating that contains only the DATE and rating columns from the weather DataFrame\nweather_rating = weather[['DATE', 'rating']]\nweather_rating.head()",
   "execution_count": 19,
   "outputs": [
    {
     "output_type": "execute_result",
     "execution_count": 19,
     "data": {
      "application/vnd.deepnote.dataframe.v3+json": {
       "column_count": 2,
       "row_count": 5,
       "columns": [
        {
         "name": "DATE",
         "dtype": "object",
         "stats": {
          "unique_count": 5,
          "nan_count": 0,
          "categories": [
           {
            "name": "2005-01-01",
            "count": 1
           },
           {
            "name": "2005-01-02",
            "count": 1
           },
           {
            "name": "3 others",
            "count": 3
           }
          ]
         }
        },
        {
         "name": "rating",
         "dtype": "category",
         "stats": {
          "unique_count": 1,
          "nan_count": 0,
          "categories": [
           {
            "name": "bad",
            "count": 5
           }
          ]
         }
        },
        {
         "name": "_deepnote_index_column",
         "dtype": "int64"
        }
       ],
       "rows": [
        {
         "DATE": "2005-01-01",
         "rating": "bad",
         "_deepnote_index_column": 0
        },
        {
         "DATE": "2005-01-02",
         "rating": "bad",
         "_deepnote_index_column": 1
        },
        {
         "DATE": "2005-01-03",
         "rating": "bad",
         "_deepnote_index_column": 2
        },
        {
         "DATE": "2005-01-04",
         "rating": "bad",
         "_deepnote_index_column": 3
        },
        {
         "DATE": "2005-01-05",
         "rating": "bad",
         "_deepnote_index_column": 4
        }
       ]
      },
      "text/plain": "         DATE rating\n0  2005-01-01    bad\n1  2005-01-02    bad\n2  2005-01-03    bad\n3  2005-01-04    bad\n4  2005-01-05    bad",
      "text/html": "<div>\n<style scoped>\n    .dataframe tbody tr th:only-of-type {\n        vertical-align: middle;\n    }\n\n    .dataframe tbody tr th {\n        vertical-align: top;\n    }\n\n    .dataframe thead th {\n        text-align: right;\n    }\n</style>\n<table border=\"1\" class=\"dataframe\">\n  <thead>\n    <tr style=\"text-align: right;\">\n      <th></th>\n      <th>DATE</th>\n      <th>rating</th>\n    </tr>\n  </thead>\n  <tbody>\n    <tr>\n      <th>0</th>\n      <td>2005-01-01</td>\n      <td>bad</td>\n    </tr>\n    <tr>\n      <th>1</th>\n      <td>2005-01-02</td>\n      <td>bad</td>\n    </tr>\n    <tr>\n      <th>2</th>\n      <td>2005-01-03</td>\n      <td>bad</td>\n    </tr>\n    <tr>\n      <th>3</th>\n      <td>2005-01-04</td>\n      <td>bad</td>\n    </tr>\n    <tr>\n      <th>4</th>\n      <td>2005-01-05</td>\n      <td>bad</td>\n    </tr>\n  </tbody>\n</table>\n</div>"
     },
     "metadata": {}
    }
   ]
  },
  {
   "cell_type": "markdown",
   "source": "### Merging the DataFrames",
   "metadata": {
    "cell_id": "a5e280e6b58e404c80e9ec15004c70af",
    "tags": [],
    "is_collapsed": false,
    "deepnote_cell_type": "text-cell-h3"
   }
  },
  {
   "cell_type": "code",
   "metadata": {
    "cell_id": "ac582e7032c041a7adfe3d841343053e",
    "tags": [],
    "deepnote_to_be_reexecuted": false,
    "source_hash": "2786eb90",
    "execution_start": 1654356197290,
    "execution_millis": 16,
    "deepnote_cell_type": "code",
    "deepnote_cell_height": 136.171875,
    "deepnote_output_heights": [
     21.1875
    ]
   },
   "source": "# Examine the shape of the ri DataFrame\nri.shape",
   "execution_count": 20,
   "outputs": [
    {
     "output_type": "execute_result",
     "execution_count": 20,
     "data": {
      "text/plain": "(86536, 14)"
     },
     "metadata": {}
    }
   ]
  },
  {
   "cell_type": "code",
   "metadata": {
    "cell_id": "9ea60ca2649540ed826237dcbdece704",
    "tags": [],
    "deepnote_to_be_reexecuted": false,
    "source_hash": "ed233462",
    "execution_start": 1654356197322,
    "execution_millis": 206,
    "deepnote_cell_type": "code",
    "deepnote_cell_height": 444.078125
   },
   "source": "# Merge the ri and weather_rating DataFrames using a left join\nri_weather = pd.merge(left=ri, right=weather_rating, left_on='stop_date', right_on='DATE', how='left')\nri_weather.head()",
   "execution_count": 21,
   "outputs": [
    {
     "output_type": "execute_result",
     "execution_count": 21,
     "data": {
      "application/vnd.deepnote.dataframe.v3+json": {
       "column_count": 16,
       "row_count": 5,
       "columns": [
        {
         "name": "stop_datetime",
         "dtype": "datetime64[ns]",
         "stats": {
          "unique_count": 5,
          "nan_count": 0,
          "min": "2005-01-04 12:55:00",
          "max": "2005-02-24 01:20:00",
          "histogram": [
           {
            "bin_start": 1104843300000000000,
            "bin_end": 1105279770000000000,
            "count": 1
           },
           {
            "bin_start": 1105279770000000000,
            "bin_end": 1105716240000000000,
            "count": 0
           },
           {
            "bin_start": 1105716240000000000,
            "bin_end": 1106152710000000000,
            "count": 0
           },
           {
            "bin_start": 1106152710000000000,
            "bin_end": 1106589180000000000,
            "count": 1
           },
           {
            "bin_start": 1106589180000000000,
            "bin_end": 1107025650000000000,
            "count": 0
           },
           {
            "bin_start": 1107025650000000000,
            "bin_end": 1107462120000000000,
            "count": 0
           },
           {
            "bin_start": 1107462120000000000,
            "bin_end": 1107898590000000000,
            "count": 0
           },
           {
            "bin_start": 1107898590000000000,
            "bin_end": 1108335060000000000,
            "count": 0
           },
           {
            "bin_start": 1108335060000000000,
            "bin_end": 1108771530000000000,
            "count": 1
           },
           {
            "bin_start": 1108771530000000000,
            "bin_end": 1109208000000000000,
            "count": 2
           }
          ]
         }
        },
        {
         "name": "stop_date",
         "dtype": "object",
         "stats": {
          "unique_count": 5,
          "nan_count": 0,
          "categories": [
           {
            "name": "2005-01-04",
            "count": 1
           },
           {
            "name": "2005-01-23",
            "count": 1
           },
           {
            "name": "3 others",
            "count": 3
           }
          ]
         }
        },
        {
         "name": "stop_time",
         "dtype": "object",
         "stats": {
          "unique_count": 5,
          "nan_count": 0,
          "categories": [
           {
            "name": "12:55",
            "count": 1
           },
           {
            "name": "23:15",
            "count": 1
           },
           {
            "name": "3 others",
            "count": 3
           }
          ]
         }
        },
        {
         "name": "driver_gender",
         "dtype": "object",
         "stats": {
          "unique_count": 2,
          "nan_count": 0,
          "categories": [
           {
            "name": "M",
            "count": 4
           },
           {
            "name": "F",
            "count": 1
           }
          ]
         }
        },
        {
         "name": "driver_race",
         "dtype": "object",
         "stats": {
          "unique_count": 1,
          "nan_count": 0,
          "categories": [
           {
            "name": "White",
            "count": 5
           }
          ]
         }
        },
        {
         "name": "violation_raw",
         "dtype": "object",
         "stats": {
          "unique_count": 3,
          "nan_count": 0,
          "categories": [
           {
            "name": "Speeding",
            "count": 3
           },
           {
            "name": "Equipment/Inspection Violation",
            "count": 1
           },
           {
            "name": "Call for Service",
            "count": 1
           }
          ]
         }
        },
        {
         "name": "violation",
         "dtype": "object",
         "stats": {
          "unique_count": 3,
          "nan_count": 0,
          "categories": [
           {
            "name": "Speeding",
            "count": 3
           },
           {
            "name": "Equipment",
            "count": 1
           },
           {
            "name": "Other",
            "count": 1
           }
          ]
         }
        },
        {
         "name": "search_conducted",
         "dtype": "bool",
         "stats": {
          "unique_count": 1,
          "nan_count": 0,
          "categories": [
           {
            "name": "False",
            "count": 5
           }
          ]
         }
        },
        {
         "name": "search_type",
         "dtype": "object",
         "stats": {
          "unique_count": 0,
          "nan_count": 5,
          "categories": [
           {
            "name": "Missing",
            "count": 5
           }
          ]
         }
        },
        {
         "name": "stop_outcome",
         "dtype": "object",
         "stats": {
          "unique_count": 2,
          "nan_count": 0,
          "categories": [
           {
            "name": "Citation",
            "count": 4
           },
           {
            "name": "Arrest Driver",
            "count": 1
           }
          ]
         }
        },
        {
         "name": "is_arrested",
         "dtype": "bool",
         "stats": {
          "unique_count": 2,
          "nan_count": 0,
          "categories": [
           {
            "name": "False",
            "count": 4
           },
           {
            "name": "True",
            "count": 1
           }
          ]
         }
        },
        {
         "name": "stop_duration",
         "dtype": "object",
         "stats": {
          "unique_count": 2,
          "nan_count": 0,
          "categories": [
           {
            "name": "0-15 Min",
            "count": 4
           },
           {
            "name": "16-30 Min",
            "count": 1
           }
          ]
         }
        },
        {
         "name": "drugs_related_stop",
         "dtype": "bool",
         "stats": {
          "unique_count": 1,
          "nan_count": 0,
          "categories": [
           {
            "name": "False",
            "count": 5
           }
          ]
         }
        },
        {
         "name": "district",
         "dtype": "object",
         "stats": {
          "unique_count": 4,
          "nan_count": 0,
          "categories": [
           {
            "name": "Zone X4",
            "count": 2
           },
           {
            "name": "Zone K3",
            "count": 1
           },
           {
            "name": "2 others",
            "count": 2
           }
          ]
         }
        },
        {
         "name": "DATE",
         "dtype": "object",
         "stats": {
          "unique_count": 5,
          "nan_count": 0,
          "categories": [
           {
            "name": "2005-01-04",
            "count": 1
           },
           {
            "name": "2005-01-23",
            "count": 1
           },
           {
            "name": "3 others",
            "count": 3
           }
          ]
         }
        },
        {
         "name": "rating",
         "dtype": "category",
         "stats": {
          "unique_count": 3,
          "nan_count": 0,
          "categories": [
           {
            "name": "bad",
            "count": 3
           },
           {
            "name": "worse",
            "count": 1
           },
           {
            "name": "good",
            "count": 1
           }
          ]
         }
        },
        {
         "name": "_deepnote_index_column",
         "dtype": "int64"
        }
       ],
       "rows": [
        {
         "stop_datetime": "2005-01-04T12:55:00.000000",
         "stop_date": "2005-01-04",
         "stop_time": "12:55",
         "driver_gender": "M",
         "driver_race": "White",
         "violation_raw": "Equipment/Inspection Violation",
         "violation": "Equipment",
         "search_conducted": false,
         "search_type": "nan",
         "stop_outcome": "Citation",
         "is_arrested": false,
         "stop_duration": "0-15 Min",
         "drugs_related_stop": false,
         "district": "Zone X4",
         "DATE": "2005-01-04",
         "rating": "bad",
         "_deepnote_index_column": 0
        },
        {
         "stop_datetime": "2005-01-23T23:15:00.000000",
         "stop_date": "2005-01-23",
         "stop_time": "23:15",
         "driver_gender": "M",
         "driver_race": "White",
         "violation_raw": "Speeding",
         "violation": "Speeding",
         "search_conducted": false,
         "search_type": "nan",
         "stop_outcome": "Citation",
         "is_arrested": false,
         "stop_duration": "0-15 Min",
         "drugs_related_stop": false,
         "district": "Zone K3",
         "DATE": "2005-01-23",
         "rating": "worse",
         "_deepnote_index_column": 1
        },
        {
         "stop_datetime": "2005-02-17T04:15:00.000000",
         "stop_date": "2005-02-17",
         "stop_time": "04:15",
         "driver_gender": "M",
         "driver_race": "White",
         "violation_raw": "Speeding",
         "violation": "Speeding",
         "search_conducted": false,
         "search_type": "nan",
         "stop_outcome": "Citation",
         "is_arrested": false,
         "stop_duration": "0-15 Min",
         "drugs_related_stop": false,
         "district": "Zone X4",
         "DATE": "2005-02-17",
         "rating": "good",
         "_deepnote_index_column": 2
        },
        {
         "stop_datetime": "2005-02-20T17:15:00.000000",
         "stop_date": "2005-02-20",
         "stop_time": "17:15",
         "driver_gender": "M",
         "driver_race": "White",
         "violation_raw": "Call for Service",
         "violation": "Other",
         "search_conducted": false,
         "search_type": "nan",
         "stop_outcome": "Arrest Driver",
         "is_arrested": true,
         "stop_duration": "16-30 Min",
         "drugs_related_stop": false,
         "district": "Zone X1",
         "DATE": "2005-02-20",
         "rating": "bad",
         "_deepnote_index_column": 3
        },
        {
         "stop_datetime": "2005-02-24T01:20:00.000000",
         "stop_date": "2005-02-24",
         "stop_time": "01:20",
         "driver_gender": "F",
         "driver_race": "White",
         "violation_raw": "Speeding",
         "violation": "Speeding",
         "search_conducted": false,
         "search_type": "nan",
         "stop_outcome": "Citation",
         "is_arrested": false,
         "stop_duration": "0-15 Min",
         "drugs_related_stop": false,
         "district": "Zone X3",
         "DATE": "2005-02-24",
         "rating": "bad",
         "_deepnote_index_column": 4
        }
       ]
      },
      "text/plain": "        stop_datetime   stop_date stop_time driver_gender driver_race  \\\n0 2005-01-04 12:55:00  2005-01-04     12:55             M       White   \n1 2005-01-23 23:15:00  2005-01-23     23:15             M       White   \n2 2005-02-17 04:15:00  2005-02-17     04:15             M       White   \n3 2005-02-20 17:15:00  2005-02-20     17:15             M       White   \n4 2005-02-24 01:20:00  2005-02-24     01:20             F       White   \n\n                    violation_raw  violation  search_conducted search_type  \\\n0  Equipment/Inspection Violation  Equipment             False         NaN   \n1                        Speeding   Speeding             False         NaN   \n2                        Speeding   Speeding             False         NaN   \n3                Call for Service      Other             False         NaN   \n4                        Speeding   Speeding             False         NaN   \n\n    stop_outcome  is_arrested stop_duration  drugs_related_stop district  \\\n0       Citation        False      0-15 Min               False  Zone X4   \n1       Citation        False      0-15 Min               False  Zone K3   \n2       Citation        False      0-15 Min               False  Zone X4   \n3  Arrest Driver         True     16-30 Min               False  Zone X1   \n4       Citation        False      0-15 Min               False  Zone X3   \n\n         DATE rating  \n0  2005-01-04    bad  \n1  2005-01-23  worse  \n2  2005-02-17   good  \n3  2005-02-20    bad  \n4  2005-02-24    bad  ",
      "text/html": "<div>\n<style scoped>\n    .dataframe tbody tr th:only-of-type {\n        vertical-align: middle;\n    }\n\n    .dataframe tbody tr th {\n        vertical-align: top;\n    }\n\n    .dataframe thead th {\n        text-align: right;\n    }\n</style>\n<table border=\"1\" class=\"dataframe\">\n  <thead>\n    <tr style=\"text-align: right;\">\n      <th></th>\n      <th>stop_datetime</th>\n      <th>stop_date</th>\n      <th>stop_time</th>\n      <th>driver_gender</th>\n      <th>driver_race</th>\n      <th>violation_raw</th>\n      <th>violation</th>\n      <th>search_conducted</th>\n      <th>search_type</th>\n      <th>stop_outcome</th>\n      <th>is_arrested</th>\n      <th>stop_duration</th>\n      <th>drugs_related_stop</th>\n      <th>district</th>\n      <th>DATE</th>\n      <th>rating</th>\n    </tr>\n  </thead>\n  <tbody>\n    <tr>\n      <th>0</th>\n      <td>2005-01-04 12:55:00</td>\n      <td>2005-01-04</td>\n      <td>12:55</td>\n      <td>M</td>\n      <td>White</td>\n      <td>Equipment/Inspection Violation</td>\n      <td>Equipment</td>\n      <td>False</td>\n      <td>NaN</td>\n      <td>Citation</td>\n      <td>False</td>\n      <td>0-15 Min</td>\n      <td>False</td>\n      <td>Zone X4</td>\n      <td>2005-01-04</td>\n      <td>bad</td>\n    </tr>\n    <tr>\n      <th>1</th>\n      <td>2005-01-23 23:15:00</td>\n      <td>2005-01-23</td>\n      <td>23:15</td>\n      <td>M</td>\n      <td>White</td>\n      <td>Speeding</td>\n      <td>Speeding</td>\n      <td>False</td>\n      <td>NaN</td>\n      <td>Citation</td>\n      <td>False</td>\n      <td>0-15 Min</td>\n      <td>False</td>\n      <td>Zone K3</td>\n      <td>2005-01-23</td>\n      <td>worse</td>\n    </tr>\n    <tr>\n      <th>2</th>\n      <td>2005-02-17 04:15:00</td>\n      <td>2005-02-17</td>\n      <td>04:15</td>\n      <td>M</td>\n      <td>White</td>\n      <td>Speeding</td>\n      <td>Speeding</td>\n      <td>False</td>\n      <td>NaN</td>\n      <td>Citation</td>\n      <td>False</td>\n      <td>0-15 Min</td>\n      <td>False</td>\n      <td>Zone X4</td>\n      <td>2005-02-17</td>\n      <td>good</td>\n    </tr>\n    <tr>\n      <th>3</th>\n      <td>2005-02-20 17:15:00</td>\n      <td>2005-02-20</td>\n      <td>17:15</td>\n      <td>M</td>\n      <td>White</td>\n      <td>Call for Service</td>\n      <td>Other</td>\n      <td>False</td>\n      <td>NaN</td>\n      <td>Arrest Driver</td>\n      <td>True</td>\n      <td>16-30 Min</td>\n      <td>False</td>\n      <td>Zone X1</td>\n      <td>2005-02-20</td>\n      <td>bad</td>\n    </tr>\n    <tr>\n      <th>4</th>\n      <td>2005-02-24 01:20:00</td>\n      <td>2005-02-24</td>\n      <td>01:20</td>\n      <td>F</td>\n      <td>White</td>\n      <td>Speeding</td>\n      <td>Speeding</td>\n      <td>False</td>\n      <td>NaN</td>\n      <td>Citation</td>\n      <td>False</td>\n      <td>0-15 Min</td>\n      <td>False</td>\n      <td>Zone X3</td>\n      <td>2005-02-24</td>\n      <td>bad</td>\n    </tr>\n  </tbody>\n</table>\n</div>"
     },
     "metadata": {}
    }
   ]
  },
  {
   "cell_type": "code",
   "source": "ri_weather.isna().sum()",
   "metadata": {
    "cell_id": "651d514fd1724361b3e1005b94d2ac45",
    "tags": [],
    "deepnote_to_be_reexecuted": false,
    "source_hash": "a0ca4ebd",
    "execution_start": 1654356197529,
    "execution_millis": 741,
    "deepnote_cell_type": "code",
    "deepnote_cell_height": 425.265625,
    "deepnote_output_heights": [
     328.28125
    ]
   },
   "outputs": [
    {
     "output_type": "execute_result",
     "execution_count": 22,
     "data": {
      "text/plain": "stop_datetime             0\nstop_date                 0\nstop_time                 0\ndriver_gender             0\ndriver_race               0\nviolation_raw             0\nviolation                 0\nsearch_conducted          0\nsearch_type           83229\nstop_outcome              0\nis_arrested               0\nstop_duration             0\ndrugs_related_stop        0\ndistrict                  0\nDATE                      0\nrating                    0\ndtype: int64"
     },
     "metadata": {}
    }
   ],
   "execution_count": 22
  },
  {
   "cell_type": "code",
   "metadata": {
    "cell_id": "fa9964900a874f6190e5e9a6c7e935cd",
    "tags": [],
    "deepnote_to_be_reexecuted": false,
    "source_hash": "1c0577d9",
    "execution_start": 1654356197616,
    "execution_millis": 672,
    "deepnote_cell_type": "code",
    "deepnote_cell_height": 136.171875,
    "deepnote_output_heights": [
     21.1875
    ]
   },
   "source": "# Examine the shape of ri_weather to confirm that it has two more columns but the same number of rows as ri\nri_weather.shape",
   "execution_count": 23,
   "outputs": [
    {
     "output_type": "execute_result",
     "execution_count": 23,
     "data": {
      "text/plain": "(86536, 16)"
     },
     "metadata": {}
    }
   ]
  },
  {
   "cell_type": "code",
   "metadata": {
    "cell_id": "1c4312c8dcaa4708a3d02a7036240955",
    "tags": [],
    "deepnote_to_be_reexecuted": false,
    "source_hash": "bdac0e45",
    "execution_start": 1654356197652,
    "execution_millis": 17,
    "deepnote_cell_type": "code",
    "deepnote_cell_height": 99
   },
   "source": "# Replace the index of ri_weather with the stop_datetime column\nri_weather = ri_weather.set_index('stop_datetime')",
   "execution_count": 24,
   "outputs": []
  },
  {
   "cell_type": "markdown",
   "source": "## Does weather affect the arrest rate?",
   "metadata": {
    "cell_id": "3e8adea1d3a64c1cae39736cd36c6f98",
    "tags": [],
    "is_collapsed": false,
    "deepnote_cell_type": "text-cell-h2"
   }
  },
  {
   "cell_type": "markdown",
   "source": "### Comparing arrest rates by weather rating",
   "metadata": {
    "cell_id": "a8b1c234de7d413c96419927b74c5edb",
    "tags": [],
    "is_collapsed": false,
    "deepnote_cell_type": "text-cell-h3"
   }
  },
  {
   "cell_type": "code",
   "metadata": {
    "cell_id": "d2298b52be2f47d7a5e747e59e273fd7",
    "tags": [],
    "deepnote_to_be_reexecuted": false,
    "source_hash": "5618e6",
    "execution_start": 1654356197688,
    "execution_millis": 607,
    "deepnote_cell_type": "code",
    "deepnote_cell_height": 136.171875,
    "deepnote_output_heights": [
     21.1875
    ]
   },
   "source": "# Calculate the overall arrest rate\nri_weather.is_arrested.mean()",
   "execution_count": 25,
   "outputs": [
    {
     "output_type": "execute_result",
     "execution_count": 25,
     "data": {
      "text/plain": "0.0355690117407784"
     },
     "metadata": {}
    }
   ]
  },
  {
   "cell_type": "code",
   "metadata": {
    "cell_id": "31732b707fb045afb31540b9ede36bbd",
    "tags": [],
    "deepnote_to_be_reexecuted": false,
    "source_hash": "599eda73",
    "execution_start": 1654356197724,
    "execution_millis": 578,
    "deepnote_cell_type": "code",
    "deepnote_cell_height": 212.9375,
    "deepnote_output_heights": [
     97.953125
    ]
   },
   "source": "# Calculate the arrest rate for each weather rating using a .groupby()\nri_weather.groupby('rating').is_arrested.mean()",
   "execution_count": 26,
   "outputs": [
    {
     "output_type": "execute_result",
     "execution_count": 26,
     "data": {
      "text/plain": "rating\ngood     0.033715\nbad      0.036261\nworse    0.041667\nName: is_arrested, dtype: float64"
     },
     "metadata": {}
    }
   ]
  },
  {
   "cell_type": "code",
   "metadata": {
    "cell_id": "f295659292f34ed8b1a15742835403b4",
    "tags": [],
    "deepnote_to_be_reexecuted": false,
    "source_hash": "45a7aa68",
    "execution_start": 1654356329149,
    "execution_millis": 47,
    "deepnote_cell_type": "code",
    "deepnote_cell_height": 518.84375,
    "deepnote_output_heights": [
     385.859375
    ]
   },
   "source": "# Calculate the arrest rate for each combination of violation and rating\n# How do the arrest rates differ by group?\nri_weather.groupby(['violation', 'rating']).is_arrested.mean()",
   "execution_count": 32,
   "outputs": [
    {
     "output_type": "execute_result",
     "execution_count": 32,
     "data": {
      "text/plain": "violation            rating\nEquipment            good      0.059007\n                     bad       0.066311\n                     worse     0.097357\nMoving violation     good      0.056227\n                     bad       0.058050\n                     worse     0.065860\nOther                good      0.076966\n                     bad       0.087443\n                     worse     0.062893\nRegistration/plates  good      0.081574\n                     bad       0.098160\n                     worse     0.115625\nSeat belt            good      0.028587\n                     bad       0.022493\n                     worse     0.000000\nSpeeding             good      0.013405\n                     bad       0.013314\n                     worse     0.016886\nName: is_arrested, dtype: float64"
     },
     "metadata": {}
    }
   ]
  },
  {
   "cell_type": "markdown",
   "source": "### Selecting from a multi-indexed Series",
   "metadata": {
    "cell_id": "b3cc24c350e04e79930b6cfcb9442164",
    "tags": [],
    "is_collapsed": false,
    "deepnote_cell_type": "text-cell-h3"
   }
  },
  {
   "cell_type": "code",
   "source": "# Save the output of the .groupby() operation from the last exercise as a new object, arrest_rate\narrest_rate = ri_weather.groupby(['violation', 'rating']).is_arrested.mean()\narrest_rate",
   "metadata": {
    "cell_id": "f2068f67c808434a8ba4b29800782731",
    "tags": [],
    "deepnote_to_be_reexecuted": false,
    "source_hash": "f09c9337",
    "execution_start": 1654356493485,
    "execution_millis": 65,
    "deepnote_cell_type": "code",
    "deepnote_cell_height": 518.84375,
    "deepnote_output_heights": [
     385.859375
    ]
   },
   "outputs": [
    {
     "output_type": "execute_result",
     "execution_count": 34,
     "data": {
      "text/plain": "violation            rating\nEquipment            good      0.059007\n                     bad       0.066311\n                     worse     0.097357\nMoving violation     good      0.056227\n                     bad       0.058050\n                     worse     0.065860\nOther                good      0.076966\n                     bad       0.087443\n                     worse     0.062893\nRegistration/plates  good      0.081574\n                     bad       0.098160\n                     worse     0.115625\nSeat belt            good      0.028587\n                     bad       0.022493\n                     worse     0.000000\nSpeeding             good      0.013405\n                     bad       0.013314\n                     worse     0.016886\nName: is_arrested, dtype: float64"
     },
     "metadata": {}
    }
   ],
   "execution_count": 34
  },
  {
   "cell_type": "code",
   "metadata": {
    "cell_id": "d3442ac6b2584951afaa8a3c165f4cce",
    "tags": [],
    "deepnote_to_be_reexecuted": false,
    "source_hash": "fa7d637d",
    "execution_start": 1654356534191,
    "execution_millis": 24,
    "deepnote_cell_type": "code",
    "deepnote_cell_height": 136.171875,
    "deepnote_output_heights": [
     21.1875
    ]
   },
   "source": "# Print the arrest rate for moving violations in bad weather\narrest_rate.loc['Moving violation', 'bad']",
   "execution_count": 35,
   "outputs": [
    {
     "output_type": "execute_result",
     "execution_count": 35,
     "data": {
      "text/plain": "0.05804964058049641"
     },
     "metadata": {}
    }
   ]
  },
  {
   "cell_type": "code",
   "metadata": {
    "cell_id": "1d4f7dcd1c70468cbfe7a0b261b79add",
    "tags": [],
    "deepnote_to_be_reexecuted": false,
    "source_hash": "4ebbccb4",
    "execution_start": 1654356578675,
    "execution_millis": 24,
    "deepnote_cell_type": "code",
    "deepnote_cell_height": 212.9375,
    "deepnote_output_heights": [
     97.953125
    ]
   },
   "source": "# Print the arrest rates for speeding violations in all three weather conditions\narrest_rate.loc['Speeding', :]",
   "execution_count": 37,
   "outputs": [
    {
     "output_type": "execute_result",
     "execution_count": 37,
     "data": {
      "text/plain": "violation  rating\nSpeeding   good      0.013405\n           bad       0.013314\n           worse     0.016886\nName: is_arrested, dtype: float64"
     },
     "metadata": {}
    }
   ]
  },
  {
   "cell_type": "markdown",
   "source": "### Reshaping the arrest rate data",
   "metadata": {
    "cell_id": "6a80283aaa774f6e86c957fec3a858ef",
    "tags": [],
    "is_collapsed": false,
    "deepnote_cell_type": "text-cell-h3"
   }
  },
  {
   "cell_type": "code",
   "metadata": {
    "cell_id": "f2227b0c779349de8620588ac8b6390b",
    "tags": [],
    "deepnote_to_be_reexecuted": false,
    "source_hash": "a62590cf",
    "execution_start": 1654356641714,
    "execution_millis": 800,
    "deepnote_cell_type": "code",
    "deepnote_cell_height": 454
   },
   "source": "# Unstack the arrest_rate Series to reshape it into a DataFrame\narrest_rate.unstack()",
   "execution_count": 38,
   "outputs": [
    {
     "output_type": "execute_result",
     "execution_count": 38,
     "data": {
      "application/vnd.deepnote.dataframe.v3+json": {
       "column_count": 3,
       "row_count": 6,
       "columns": [
        {
         "name": "good",
         "dtype": "float64",
         "stats": {
          "unique_count": 6,
          "nan_count": 0,
          "min": "0.01340458291821393",
          "max": "0.08157444381061038",
          "histogram": [
           {
            "bin_start": 0.01340458291821393,
            "bin_end": 0.020221569007453574,
            "count": 1
           },
           {
            "bin_start": 0.020221569007453574,
            "bin_end": 0.02703855509669322,
            "count": 0
           },
           {
            "bin_start": 0.02703855509669322,
            "bin_end": 0.03385554118593287,
            "count": 1
           },
           {
            "bin_start": 0.03385554118593287,
            "bin_end": 0.04067252727517251,
            "count": 0
           },
           {
            "bin_start": 0.04067252727517251,
            "bin_end": 0.04748951336441215,
            "count": 0
           },
           {
            "bin_start": 0.04748951336441215,
            "bin_end": 0.054306499453651805,
            "count": 0
           },
           {
            "bin_start": 0.054306499453651805,
            "bin_end": 0.061123485542891445,
            "count": 2
           },
           {
            "bin_start": 0.061123485542891445,
            "bin_end": 0.06794047163213109,
            "count": 0
           },
           {
            "bin_start": 0.06794047163213109,
            "bin_end": 0.07475745772137074,
            "count": 0
           },
           {
            "bin_start": 0.07475745772137074,
            "bin_end": 0.08157444381061038,
            "count": 2
           }
          ]
         }
        },
        {
         "name": "bad",
         "dtype": "float64",
         "stats": {
          "unique_count": 6,
          "nan_count": 0,
          "min": "0.013314356549286074",
          "max": "0.09815950920245399",
          "histogram": [
           {
            "bin_start": 0.013314356549286074,
            "bin_end": 0.021798871814602865,
            "count": 1
           },
           {
            "bin_start": 0.021798871814602865,
            "bin_end": 0.030283387079919656,
            "count": 1
           },
           {
            "bin_start": 0.030283387079919656,
            "bin_end": 0.038767902345236444,
            "count": 0
           },
           {
            "bin_start": 0.038767902345236444,
            "bin_end": 0.04725241761055324,
            "count": 0
           },
           {
            "bin_start": 0.04725241761055324,
            "bin_end": 0.05573693287587003,
            "count": 0
           },
           {
            "bin_start": 0.05573693287587003,
            "bin_end": 0.06422144814118683,
            "count": 1
           },
           {
            "bin_start": 0.06422144814118683,
            "bin_end": 0.07270596340650361,
            "count": 1
           },
           {
            "bin_start": 0.07270596340650361,
            "bin_end": 0.0811904786718204,
            "count": 0
           },
           {
            "bin_start": 0.0811904786718204,
            "bin_end": 0.0896749939371372,
            "count": 1
           },
           {
            "bin_start": 0.0896749939371372,
            "bin_end": 0.09815950920245399,
            "count": 1
           }
          ]
         }
        },
        {
         "name": "worse",
         "dtype": "float64",
         "stats": {
          "unique_count": 6,
          "nan_count": 0,
          "min": "0.0",
          "max": "0.115625",
          "histogram": [
           {
            "bin_start": 0,
            "bin_end": 0.0115625,
            "count": 1
           },
           {
            "bin_start": 0.0115625,
            "bin_end": 0.023125,
            "count": 1
           },
           {
            "bin_start": 0.023125,
            "bin_end": 0.034687499999999996,
            "count": 0
           },
           {
            "bin_start": 0.034687499999999996,
            "bin_end": 0.04625,
            "count": 0
           },
           {
            "bin_start": 0.04625,
            "bin_end": 0.0578125,
            "count": 0
           },
           {
            "bin_start": 0.0578125,
            "bin_end": 0.06937499999999999,
            "count": 2
           },
           {
            "bin_start": 0.06937499999999999,
            "bin_end": 0.0809375,
            "count": 0
           },
           {
            "bin_start": 0.0809375,
            "bin_end": 0.0925,
            "count": 0
           },
           {
            "bin_start": 0.0925,
            "bin_end": 0.1040625,
            "count": 1
           },
           {
            "bin_start": 0.1040625,
            "bin_end": 0.115625,
            "count": 1
           }
          ]
         }
        },
        {
         "name": "_deepnote_index_column",
         "dtype": "object"
        }
       ],
       "rows": [
        {
         "good": 0.05900681596884128,
         "bad": 0.06631142687981054,
         "worse": 0.09735744089012517,
         "_deepnote_index_column": "Equipment"
        },
        {
         "good": 0.05622708135270949,
         "bad": 0.05804964058049641,
         "worse": 0.06586021505376344,
         "_deepnote_index_column": "Moving violation"
        },
        {
         "good": 0.0769656699889258,
         "bad": 0.08744280630401627,
         "worse": 0.06289308176100629,
         "_deepnote_index_column": "Other"
        },
        {
         "good": 0.08157444381061038,
         "bad": 0.09815950920245399,
         "worse": 0.115625,
         "_deepnote_index_column": "Registration/plates"
        },
        {
         "good": 0.02858744394618834,
         "bad": 0.022492970946579195,
         "worse": 0,
         "_deepnote_index_column": "Seat belt"
        },
        {
         "good": 0.01340458291821393,
         "bad": 0.013314356549286074,
         "worse": 0.016885964912280702,
         "_deepnote_index_column": "Speeding"
        }
       ]
      },
      "text/plain": "rating                   good       bad     worse\nviolation                                        \nEquipment            0.059007  0.066311  0.097357\nMoving violation     0.056227  0.058050  0.065860\nOther                0.076966  0.087443  0.062893\nRegistration/plates  0.081574  0.098160  0.115625\nSeat belt            0.028587  0.022493  0.000000\nSpeeding             0.013405  0.013314  0.016886",
      "text/html": "<div>\n<style scoped>\n    .dataframe tbody tr th:only-of-type {\n        vertical-align: middle;\n    }\n\n    .dataframe tbody tr th {\n        vertical-align: top;\n    }\n\n    .dataframe thead th {\n        text-align: right;\n    }\n</style>\n<table border=\"1\" class=\"dataframe\">\n  <thead>\n    <tr style=\"text-align: right;\">\n      <th>rating</th>\n      <th>good</th>\n      <th>bad</th>\n      <th>worse</th>\n    </tr>\n    <tr>\n      <th>violation</th>\n      <th></th>\n      <th></th>\n      <th></th>\n    </tr>\n  </thead>\n  <tbody>\n    <tr>\n      <th>Equipment</th>\n      <td>0.059007</td>\n      <td>0.066311</td>\n      <td>0.097357</td>\n    </tr>\n    <tr>\n      <th>Moving violation</th>\n      <td>0.056227</td>\n      <td>0.058050</td>\n      <td>0.065860</td>\n    </tr>\n    <tr>\n      <th>Other</th>\n      <td>0.076966</td>\n      <td>0.087443</td>\n      <td>0.062893</td>\n    </tr>\n    <tr>\n      <th>Registration/plates</th>\n      <td>0.081574</td>\n      <td>0.098160</td>\n      <td>0.115625</td>\n    </tr>\n    <tr>\n      <th>Seat belt</th>\n      <td>0.028587</td>\n      <td>0.022493</td>\n      <td>0.000000</td>\n    </tr>\n    <tr>\n      <th>Speeding</th>\n      <td>0.013405</td>\n      <td>0.013314</td>\n      <td>0.016886</td>\n    </tr>\n  </tbody>\n</table>\n</div>"
     },
     "metadata": {}
    }
   ]
  },
  {
   "cell_type": "code",
   "metadata": {
    "cell_id": "1123868dabe4402b98801ebba2e3eed0",
    "tags": [],
    "deepnote_to_be_reexecuted": false,
    "source_hash": "84a6dcd8",
    "execution_start": 1654356717356,
    "execution_millis": 164,
    "deepnote_cell_type": "code",
    "deepnote_cell_height": 472
   },
   "source": "# Create the exact same DataFrame using a pivot table! \n# Each of the three .pivot_table() parameters should be specified as one of the ri_weather columns\nri_weather.pivot_table(values='is_arrested', index='violation', columns='rating')",
   "execution_count": 39,
   "outputs": [
    {
     "output_type": "execute_result",
     "execution_count": 39,
     "data": {
      "application/vnd.deepnote.dataframe.v3+json": {
       "column_count": 3,
       "row_count": 6,
       "columns": [
        {
         "name": "good",
         "dtype": "float64",
         "stats": {
          "unique_count": 6,
          "nan_count": 0,
          "min": "0.01340458291821393",
          "max": "0.08157444381061038",
          "histogram": [
           {
            "bin_start": 0.01340458291821393,
            "bin_end": 0.020221569007453574,
            "count": 1
           },
           {
            "bin_start": 0.020221569007453574,
            "bin_end": 0.02703855509669322,
            "count": 0
           },
           {
            "bin_start": 0.02703855509669322,
            "bin_end": 0.03385554118593287,
            "count": 1
           },
           {
            "bin_start": 0.03385554118593287,
            "bin_end": 0.04067252727517251,
            "count": 0
           },
           {
            "bin_start": 0.04067252727517251,
            "bin_end": 0.04748951336441215,
            "count": 0
           },
           {
            "bin_start": 0.04748951336441215,
            "bin_end": 0.054306499453651805,
            "count": 0
           },
           {
            "bin_start": 0.054306499453651805,
            "bin_end": 0.061123485542891445,
            "count": 2
           },
           {
            "bin_start": 0.061123485542891445,
            "bin_end": 0.06794047163213109,
            "count": 0
           },
           {
            "bin_start": 0.06794047163213109,
            "bin_end": 0.07475745772137074,
            "count": 0
           },
           {
            "bin_start": 0.07475745772137074,
            "bin_end": 0.08157444381061038,
            "count": 2
           }
          ]
         }
        },
        {
         "name": "bad",
         "dtype": "float64",
         "stats": {
          "unique_count": 6,
          "nan_count": 0,
          "min": "0.013314356549286074",
          "max": "0.09815950920245399",
          "histogram": [
           {
            "bin_start": 0.013314356549286074,
            "bin_end": 0.021798871814602865,
            "count": 1
           },
           {
            "bin_start": 0.021798871814602865,
            "bin_end": 0.030283387079919656,
            "count": 1
           },
           {
            "bin_start": 0.030283387079919656,
            "bin_end": 0.038767902345236444,
            "count": 0
           },
           {
            "bin_start": 0.038767902345236444,
            "bin_end": 0.04725241761055324,
            "count": 0
           },
           {
            "bin_start": 0.04725241761055324,
            "bin_end": 0.05573693287587003,
            "count": 0
           },
           {
            "bin_start": 0.05573693287587003,
            "bin_end": 0.06422144814118683,
            "count": 1
           },
           {
            "bin_start": 0.06422144814118683,
            "bin_end": 0.07270596340650361,
            "count": 1
           },
           {
            "bin_start": 0.07270596340650361,
            "bin_end": 0.0811904786718204,
            "count": 0
           },
           {
            "bin_start": 0.0811904786718204,
            "bin_end": 0.0896749939371372,
            "count": 1
           },
           {
            "bin_start": 0.0896749939371372,
            "bin_end": 0.09815950920245399,
            "count": 1
           }
          ]
         }
        },
        {
         "name": "worse",
         "dtype": "float64",
         "stats": {
          "unique_count": 6,
          "nan_count": 0,
          "min": "0.0",
          "max": "0.115625",
          "histogram": [
           {
            "bin_start": 0,
            "bin_end": 0.0115625,
            "count": 1
           },
           {
            "bin_start": 0.0115625,
            "bin_end": 0.023125,
            "count": 1
           },
           {
            "bin_start": 0.023125,
            "bin_end": 0.034687499999999996,
            "count": 0
           },
           {
            "bin_start": 0.034687499999999996,
            "bin_end": 0.04625,
            "count": 0
           },
           {
            "bin_start": 0.04625,
            "bin_end": 0.0578125,
            "count": 0
           },
           {
            "bin_start": 0.0578125,
            "bin_end": 0.06937499999999999,
            "count": 2
           },
           {
            "bin_start": 0.06937499999999999,
            "bin_end": 0.0809375,
            "count": 0
           },
           {
            "bin_start": 0.0809375,
            "bin_end": 0.0925,
            "count": 0
           },
           {
            "bin_start": 0.0925,
            "bin_end": 0.1040625,
            "count": 1
           },
           {
            "bin_start": 0.1040625,
            "bin_end": 0.115625,
            "count": 1
           }
          ]
         }
        },
        {
         "name": "_deepnote_index_column",
         "dtype": "object"
        }
       ],
       "rows": [
        {
         "good": 0.05900681596884128,
         "bad": 0.06631142687981054,
         "worse": 0.09735744089012517,
         "_deepnote_index_column": "Equipment"
        },
        {
         "good": 0.05622708135270949,
         "bad": 0.05804964058049641,
         "worse": 0.06586021505376344,
         "_deepnote_index_column": "Moving violation"
        },
        {
         "good": 0.0769656699889258,
         "bad": 0.08744280630401627,
         "worse": 0.06289308176100629,
         "_deepnote_index_column": "Other"
        },
        {
         "good": 0.08157444381061038,
         "bad": 0.09815950920245399,
         "worse": 0.115625,
         "_deepnote_index_column": "Registration/plates"
        },
        {
         "good": 0.02858744394618834,
         "bad": 0.022492970946579195,
         "worse": 0,
         "_deepnote_index_column": "Seat belt"
        },
        {
         "good": 0.01340458291821393,
         "bad": 0.013314356549286074,
         "worse": 0.016885964912280702,
         "_deepnote_index_column": "Speeding"
        }
       ]
      },
      "text/plain": "rating                   good       bad     worse\nviolation                                        \nEquipment            0.059007  0.066311  0.097357\nMoving violation     0.056227  0.058050  0.065860\nOther                0.076966  0.087443  0.062893\nRegistration/plates  0.081574  0.098160  0.115625\nSeat belt            0.028587  0.022493  0.000000\nSpeeding             0.013405  0.013314  0.016886",
      "text/html": "<div>\n<style scoped>\n    .dataframe tbody tr th:only-of-type {\n        vertical-align: middle;\n    }\n\n    .dataframe tbody tr th {\n        vertical-align: top;\n    }\n\n    .dataframe thead th {\n        text-align: right;\n    }\n</style>\n<table border=\"1\" class=\"dataframe\">\n  <thead>\n    <tr style=\"text-align: right;\">\n      <th>rating</th>\n      <th>good</th>\n      <th>bad</th>\n      <th>worse</th>\n    </tr>\n    <tr>\n      <th>violation</th>\n      <th></th>\n      <th></th>\n      <th></th>\n    </tr>\n  </thead>\n  <tbody>\n    <tr>\n      <th>Equipment</th>\n      <td>0.059007</td>\n      <td>0.066311</td>\n      <td>0.097357</td>\n    </tr>\n    <tr>\n      <th>Moving violation</th>\n      <td>0.056227</td>\n      <td>0.058050</td>\n      <td>0.065860</td>\n    </tr>\n    <tr>\n      <th>Other</th>\n      <td>0.076966</td>\n      <td>0.087443</td>\n      <td>0.062893</td>\n    </tr>\n    <tr>\n      <th>Registration/plates</th>\n      <td>0.081574</td>\n      <td>0.098160</td>\n      <td>0.115625</td>\n    </tr>\n    <tr>\n      <th>Seat belt</th>\n      <td>0.028587</td>\n      <td>0.022493</td>\n      <td>0.000000</td>\n    </tr>\n    <tr>\n      <th>Speeding</th>\n      <td>0.013405</td>\n      <td>0.013314</td>\n      <td>0.016886</td>\n    </tr>\n  </tbody>\n</table>\n</div>"
     },
     "metadata": {}
    }
   ]
  },
  {
   "cell_type": "markdown",
   "source": "<a style='text-decoration:none;line-height:16px;display:flex;color:#5B5B62;padding:10px;justify-content:end;' href='https://deepnote.com?utm_source=created-in-deepnote-cell&projectId=dc001eea-22fe-4a27-852d-7fbece520334' target=\"_blank\">\n<img alt='Created in deepnote.com' style='display:inline;max-height:16px;margin:0px;margin-right:7.5px;' src='data:image/svg+xml;base64,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' > </img>\nCreated in <span style='font-weight:600;margin-left:4px;'>Deepnote</span></a>",
   "metadata": {
    "tags": [],
    "created_in_deepnote_cell": true,
    "deepnote_cell_type": "markdown"
   }
  }
 ],
 "nbformat": 4,
 "nbformat_minor": 2,
 "metadata": {
  "orig_nbformat": 2,
  "deepnote": {},
  "deepnote_notebook_id": "f925995a-8c87-4249-b630-117244e48262",
  "deepnote_execution_queue": []
 }
}