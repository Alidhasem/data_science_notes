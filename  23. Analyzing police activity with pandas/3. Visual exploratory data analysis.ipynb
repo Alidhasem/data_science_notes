{
 "cells": [
  {
   "cell_type": "markdown",
   "source": "# Visual exploratory data analysis",
   "metadata": {
    "cell_id": "d412a3d470334b55888adc848e9f3fc7",
    "tags": [],
    "is_collapsed": false,
    "owner_user_id": "ef1985d3-6878-4f43-aa7a-40eb37e1c2a1",
    "deepnote_cell_type": "text-cell-h1"
   }
  },
  {
   "cell_type": "markdown",
   "source": "You'll be working with a dataset of traffic stops by police officers that was collected by the Stanford Open Policing Project. \n\nYou'll be focusing on data from the state of Rhode Island.",
   "metadata": {
    "cell_id": "0d81303f8bd4423b902feac872c07552",
    "tags": [],
    "deepnote_cell_type": "markdown",
    "deepnote_cell_height": 111.1875
   }
  },
  {
   "cell_type": "code",
   "metadata": {
    "cell_id": "421ea3c0ea9448298919c9953bcacc43",
    "tags": [],
    "deepnote_to_be_reexecuted": false,
    "source_hash": "9aa55f44",
    "execution_start": 1654269365095,
    "execution_millis": 452,
    "deepnote_cell_type": "code",
    "deepnote_cell_height": 480.078125
   },
   "source": "import pandas as pd\nri = pd.read_csv('/work/data_science_notes/ 23. Analyzing police activity with pandas/data/police_edited.csv')\nri['stop_datetime'] = pd.to_datetime(ri.stop_datetime)\nri.set_index(ri.stop_datetime, inplace=True)\nri.head()",
   "execution_count": 1,
   "outputs": [
    {
     "output_type": "execute_result",
     "execution_count": 1,
     "data": {
      "application/vnd.deepnote.dataframe.v3+json": {
       "column_count": 14,
       "row_count": 5,
       "columns": [
        {
         "name": "stop_datetime",
         "dtype": "datetime64[ns]",
         "stats": {
          "unique_count": 5,
          "nan_count": 0,
          "min": "2005-01-04 12:55:00",
          "max": "2005-02-24 01:20:00",
          "histogram": [
           {
            "bin_start": 1104843300000000000,
            "bin_end": 1105279770000000000,
            "count": 1
           },
           {
            "bin_start": 1105279770000000000,
            "bin_end": 1105716240000000000,
            "count": 0
           },
           {
            "bin_start": 1105716240000000000,
            "bin_end": 1106152710000000000,
            "count": 0
           },
           {
            "bin_start": 1106152710000000000,
            "bin_end": 1106589180000000000,
            "count": 1
           },
           {
            "bin_start": 1106589180000000000,
            "bin_end": 1107025650000000000,
            "count": 0
           },
           {
            "bin_start": 1107025650000000000,
            "bin_end": 1107462120000000000,
            "count": 0
           },
           {
            "bin_start": 1107462120000000000,
            "bin_end": 1107898590000000000,
            "count": 0
           },
           {
            "bin_start": 1107898590000000000,
            "bin_end": 1108335060000000000,
            "count": 0
           },
           {
            "bin_start": 1108335060000000000,
            "bin_end": 1108771530000000000,
            "count": 1
           },
           {
            "bin_start": 1108771530000000000,
            "bin_end": 1109208000000000000,
            "count": 2
           }
          ]
         }
        },
        {
         "name": "stop_date",
         "dtype": "object",
         "stats": {
          "unique_count": 5,
          "nan_count": 0,
          "categories": [
           {
            "name": "2005-01-04",
            "count": 1
           },
           {
            "name": "2005-01-23",
            "count": 1
           },
           {
            "name": "3 others",
            "count": 3
           }
          ]
         }
        },
        {
         "name": "stop_time",
         "dtype": "object",
         "stats": {
          "unique_count": 5,
          "nan_count": 0,
          "categories": [
           {
            "name": "12:55",
            "count": 1
           },
           {
            "name": "23:15",
            "count": 1
           },
           {
            "name": "3 others",
            "count": 3
           }
          ]
         }
        },
        {
         "name": "driver_gender",
         "dtype": "object",
         "stats": {
          "unique_count": 2,
          "nan_count": 0,
          "categories": [
           {
            "name": "M",
            "count": 4
           },
           {
            "name": "F",
            "count": 1
           }
          ]
         }
        },
        {
         "name": "driver_race",
         "dtype": "object",
         "stats": {
          "unique_count": 1,
          "nan_count": 0,
          "categories": [
           {
            "name": "White",
            "count": 5
           }
          ]
         }
        },
        {
         "name": "violation_raw",
         "dtype": "object",
         "stats": {
          "unique_count": 3,
          "nan_count": 0,
          "categories": [
           {
            "name": "Speeding",
            "count": 3
           },
           {
            "name": "Equipment/Inspection Violation",
            "count": 1
           },
           {
            "name": "Call for Service",
            "count": 1
           }
          ]
         }
        },
        {
         "name": "violation",
         "dtype": "object",
         "stats": {
          "unique_count": 3,
          "nan_count": 0,
          "categories": [
           {
            "name": "Speeding",
            "count": 3
           },
           {
            "name": "Equipment",
            "count": 1
           },
           {
            "name": "Other",
            "count": 1
           }
          ]
         }
        },
        {
         "name": "search_conducted",
         "dtype": "bool",
         "stats": {
          "unique_count": 1,
          "nan_count": 0,
          "categories": [
           {
            "name": "False",
            "count": 5
           }
          ]
         }
        },
        {
         "name": "search_type",
         "dtype": "object",
         "stats": {
          "unique_count": 0,
          "nan_count": 5,
          "categories": [
           {
            "name": "Missing",
            "count": 5
           }
          ]
         }
        },
        {
         "name": "stop_outcome",
         "dtype": "object",
         "stats": {
          "unique_count": 2,
          "nan_count": 0,
          "categories": [
           {
            "name": "Citation",
            "count": 4
           },
           {
            "name": "Arrest Driver",
            "count": 1
           }
          ]
         }
        },
        {
         "name": "is_arrested",
         "dtype": "bool",
         "stats": {
          "unique_count": 2,
          "nan_count": 0,
          "categories": [
           {
            "name": "False",
            "count": 4
           },
           {
            "name": "True",
            "count": 1
           }
          ]
         }
        },
        {
         "name": "stop_duration",
         "dtype": "object",
         "stats": {
          "unique_count": 2,
          "nan_count": 0,
          "categories": [
           {
            "name": "0-15 Min",
            "count": 4
           },
           {
            "name": "16-30 Min",
            "count": 1
           }
          ]
         }
        },
        {
         "name": "drugs_related_stop",
         "dtype": "bool",
         "stats": {
          "unique_count": 1,
          "nan_count": 0,
          "categories": [
           {
            "name": "False",
            "count": 5
           }
          ]
         }
        },
        {
         "name": "district",
         "dtype": "object",
         "stats": {
          "unique_count": 4,
          "nan_count": 0,
          "categories": [
           {
            "name": "Zone X4",
            "count": 2
           },
           {
            "name": "Zone K3",
            "count": 1
           },
           {
            "name": "2 others",
            "count": 2
           }
          ]
         }
        },
        {
         "name": "_deepnote_index_column",
         "dtype": "datetime64[ns]"
        }
       ],
       "rows": [
        {
         "stop_datetime": "2005-01-04T12:55:00.000000",
         "stop_date": "2005-01-04",
         "stop_time": "12:55",
         "driver_gender": "M",
         "driver_race": "White",
         "violation_raw": "Equipment/Inspection Violation",
         "violation": "Equipment",
         "search_conducted": false,
         "search_type": "nan",
         "stop_outcome": "Citation",
         "is_arrested": false,
         "stop_duration": "0-15 Min",
         "drugs_related_stop": false,
         "district": "Zone X4",
         "_deepnote_index_column": "2005-01-04T12:55:00.000000"
        },
        {
         "stop_datetime": "2005-01-23T23:15:00.000000",
         "stop_date": "2005-01-23",
         "stop_time": "23:15",
         "driver_gender": "M",
         "driver_race": "White",
         "violation_raw": "Speeding",
         "violation": "Speeding",
         "search_conducted": false,
         "search_type": "nan",
         "stop_outcome": "Citation",
         "is_arrested": false,
         "stop_duration": "0-15 Min",
         "drugs_related_stop": false,
         "district": "Zone K3",
         "_deepnote_index_column": "2005-01-23T23:15:00.000000"
        },
        {
         "stop_datetime": "2005-02-17T04:15:00.000000",
         "stop_date": "2005-02-17",
         "stop_time": "04:15",
         "driver_gender": "M",
         "driver_race": "White",
         "violation_raw": "Speeding",
         "violation": "Speeding",
         "search_conducted": false,
         "search_type": "nan",
         "stop_outcome": "Citation",
         "is_arrested": false,
         "stop_duration": "0-15 Min",
         "drugs_related_stop": false,
         "district": "Zone X4",
         "_deepnote_index_column": "2005-02-17T04:15:00.000000"
        },
        {
         "stop_datetime": "2005-02-20T17:15:00.000000",
         "stop_date": "2005-02-20",
         "stop_time": "17:15",
         "driver_gender": "M",
         "driver_race": "White",
         "violation_raw": "Call for Service",
         "violation": "Other",
         "search_conducted": false,
         "search_type": "nan",
         "stop_outcome": "Arrest Driver",
         "is_arrested": true,
         "stop_duration": "16-30 Min",
         "drugs_related_stop": false,
         "district": "Zone X1",
         "_deepnote_index_column": "2005-02-20T17:15:00.000000"
        },
        {
         "stop_datetime": "2005-02-24T01:20:00.000000",
         "stop_date": "2005-02-24",
         "stop_time": "01:20",
         "driver_gender": "F",
         "driver_race": "White",
         "violation_raw": "Speeding",
         "violation": "Speeding",
         "search_conducted": false,
         "search_type": "nan",
         "stop_outcome": "Citation",
         "is_arrested": false,
         "stop_duration": "0-15 Min",
         "drugs_related_stop": false,
         "district": "Zone X3",
         "_deepnote_index_column": "2005-02-24T01:20:00.000000"
        }
       ]
      },
      "text/plain": "                          stop_datetime   stop_date stop_time driver_gender  \\\nstop_datetime                                                                 \n2005-01-04 12:55:00 2005-01-04 12:55:00  2005-01-04     12:55             M   \n2005-01-23 23:15:00 2005-01-23 23:15:00  2005-01-23     23:15             M   \n2005-02-17 04:15:00 2005-02-17 04:15:00  2005-02-17     04:15             M   \n2005-02-20 17:15:00 2005-02-20 17:15:00  2005-02-20     17:15             M   \n2005-02-24 01:20:00 2005-02-24 01:20:00  2005-02-24     01:20             F   \n\n                    driver_race                   violation_raw  violation  \\\nstop_datetime                                                                \n2005-01-04 12:55:00       White  Equipment/Inspection Violation  Equipment   \n2005-01-23 23:15:00       White                        Speeding   Speeding   \n2005-02-17 04:15:00       White                        Speeding   Speeding   \n2005-02-20 17:15:00       White                Call for Service      Other   \n2005-02-24 01:20:00       White                        Speeding   Speeding   \n\n                     search_conducted search_type   stop_outcome  is_arrested  \\\nstop_datetime                                                                   \n2005-01-04 12:55:00             False         NaN       Citation        False   \n2005-01-23 23:15:00             False         NaN       Citation        False   \n2005-02-17 04:15:00             False         NaN       Citation        False   \n2005-02-20 17:15:00             False         NaN  Arrest Driver         True   \n2005-02-24 01:20:00             False         NaN       Citation        False   \n\n                    stop_duration  drugs_related_stop district  \nstop_datetime                                                   \n2005-01-04 12:55:00      0-15 Min               False  Zone X4  \n2005-01-23 23:15:00      0-15 Min               False  Zone K3  \n2005-02-17 04:15:00      0-15 Min               False  Zone X4  \n2005-02-20 17:15:00     16-30 Min               False  Zone X1  \n2005-02-24 01:20:00      0-15 Min               False  Zone X3  ",
      "text/html": "<div>\n<style scoped>\n    .dataframe tbody tr th:only-of-type {\n        vertical-align: middle;\n    }\n\n    .dataframe tbody tr th {\n        vertical-align: top;\n    }\n\n    .dataframe thead th {\n        text-align: right;\n    }\n</style>\n<table border=\"1\" class=\"dataframe\">\n  <thead>\n    <tr style=\"text-align: right;\">\n      <th></th>\n      <th>stop_datetime</th>\n      <th>stop_date</th>\n      <th>stop_time</th>\n      <th>driver_gender</th>\n      <th>driver_race</th>\n      <th>violation_raw</th>\n      <th>violation</th>\n      <th>search_conducted</th>\n      <th>search_type</th>\n      <th>stop_outcome</th>\n      <th>is_arrested</th>\n      <th>stop_duration</th>\n      <th>drugs_related_stop</th>\n      <th>district</th>\n    </tr>\n    <tr>\n      <th>stop_datetime</th>\n      <th></th>\n      <th></th>\n      <th></th>\n      <th></th>\n      <th></th>\n      <th></th>\n      <th></th>\n      <th></th>\n      <th></th>\n      <th></th>\n      <th></th>\n      <th></th>\n      <th></th>\n      <th></th>\n    </tr>\n  </thead>\n  <tbody>\n    <tr>\n      <th>2005-01-04 12:55:00</th>\n      <td>2005-01-04 12:55:00</td>\n      <td>2005-01-04</td>\n      <td>12:55</td>\n      <td>M</td>\n      <td>White</td>\n      <td>Equipment/Inspection Violation</td>\n      <td>Equipment</td>\n      <td>False</td>\n      <td>NaN</td>\n      <td>Citation</td>\n      <td>False</td>\n      <td>0-15 Min</td>\n      <td>False</td>\n      <td>Zone X4</td>\n    </tr>\n    <tr>\n      <th>2005-01-23 23:15:00</th>\n      <td>2005-01-23 23:15:00</td>\n      <td>2005-01-23</td>\n      <td>23:15</td>\n      <td>M</td>\n      <td>White</td>\n      <td>Speeding</td>\n      <td>Speeding</td>\n      <td>False</td>\n      <td>NaN</td>\n      <td>Citation</td>\n      <td>False</td>\n      <td>0-15 Min</td>\n      <td>False</td>\n      <td>Zone K3</td>\n    </tr>\n    <tr>\n      <th>2005-02-17 04:15:00</th>\n      <td>2005-02-17 04:15:00</td>\n      <td>2005-02-17</td>\n      <td>04:15</td>\n      <td>M</td>\n      <td>White</td>\n      <td>Speeding</td>\n      <td>Speeding</td>\n      <td>False</td>\n      <td>NaN</td>\n      <td>Citation</td>\n      <td>False</td>\n      <td>0-15 Min</td>\n      <td>False</td>\n      <td>Zone X4</td>\n    </tr>\n    <tr>\n      <th>2005-02-20 17:15:00</th>\n      <td>2005-02-20 17:15:00</td>\n      <td>2005-02-20</td>\n      <td>17:15</td>\n      <td>M</td>\n      <td>White</td>\n      <td>Call for Service</td>\n      <td>Other</td>\n      <td>False</td>\n      <td>NaN</td>\n      <td>Arrest Driver</td>\n      <td>True</td>\n      <td>16-30 Min</td>\n      <td>False</td>\n      <td>Zone X1</td>\n    </tr>\n    <tr>\n      <th>2005-02-24 01:20:00</th>\n      <td>2005-02-24 01:20:00</td>\n      <td>2005-02-24</td>\n      <td>01:20</td>\n      <td>F</td>\n      <td>White</td>\n      <td>Speeding</td>\n      <td>Speeding</td>\n      <td>False</td>\n      <td>NaN</td>\n      <td>Citation</td>\n      <td>False</td>\n      <td>0-15 Min</td>\n      <td>False</td>\n      <td>Zone X3</td>\n    </tr>\n  </tbody>\n</table>\n</div>"
     },
     "metadata": {}
    }
   ]
  },
  {
   "cell_type": "markdown",
   "source": "## Does time of day affect arrest rate?",
   "metadata": {
    "cell_id": "73c5296ff351488d9774578f427b7681",
    "tags": [],
    "is_collapsed": false,
    "deepnote_cell_type": "text-cell-h2"
   }
  },
  {
   "cell_type": "markdown",
   "source": "### Calculating the hourly arrest rate",
   "metadata": {
    "cell_id": "ab103c7d25254a5cb67ab36eb1a30a5e",
    "tags": [],
    "is_collapsed": false,
    "deepnote_cell_type": "text-cell-h3"
   }
  },
  {
   "cell_type": "code",
   "metadata": {
    "cell_id": "8d1b58fc35de4caba1c012766525a891",
    "tags": [],
    "deepnote_to_be_reexecuted": false,
    "source_hash": "59abd03e",
    "execution_start": 1654269365563,
    "execution_millis": 11,
    "deepnote_cell_type": "code",
    "deepnote_cell_height": 136.171875,
    "deepnote_output_heights": [
     21.1875
    ]
   },
   "source": "# Take the mean of the is_arrested column to calculate the overall arrest rate\nri.is_arrested.mean()",
   "execution_count": 2,
   "outputs": [
    {
     "output_type": "execute_result",
     "execution_count": 2,
     "data": {
      "text/plain": "0.0355690117407784"
     },
     "metadata": {}
    }
   ]
  },
  {
   "cell_type": "code",
   "metadata": {
    "cell_id": "db6cde2f49ed499a86d7f8cbae7379cf",
    "tags": [],
    "deepnote_to_be_reexecuted": false,
    "source_hash": "cb76e78c",
    "execution_start": 1654269365636,
    "execution_millis": 173106306,
    "deepnote_cell_type": "code",
    "deepnote_cell_height": 153
   },
   "source": "# Group by the hour attribute of the DataFrame index to calculate the hourly arrest rate\n# Save the hourly arrest rate Series as a new object, hourly_arrest_rate\nhourly_arrest_rate = ri.groupby(ri.index.hour).is_arrested.mean()\n\n# ERROR! The .dt accesor isn't needed when you are working with a DatetimeIndex ",
   "execution_count": 3,
   "outputs": []
  },
  {
   "cell_type": "markdown",
   "source": "### Plotting the hourly arrest rate",
   "metadata": {
    "cell_id": "1166bd7eda224f808556ac121e18330a",
    "tags": [],
    "is_collapsed": false,
    "deepnote_cell_type": "text-cell-h3"
   }
  },
  {
   "cell_type": "code",
   "metadata": {
    "cell_id": "2abe518abc94495e96cd115b2b80615c",
    "tags": [],
    "deepnote_to_be_reexecuted": false,
    "source_hash": "af6b861e",
    "execution_start": 1654269365636,
    "execution_millis": 3104,
    "deepnote_cell_type": "code",
    "deepnote_cell_height": 505,
    "deepnote_output_heights": [
     264
    ]
   },
   "source": "# Create a line plot of hourly_arrest_rate using the .plot() method\n# Label the x-axis as 'Hour', label the y-axis as 'Arrest Rate', and title the plot 'Arrest Rate by Time of Day'\n\nimport matplotlib.pyplot as plt\n\nhourly_arrest_rate.plot()\nplt.xlabel('Hour')\nplt.ylabel('Arrest Rate')\nplt.show()",
   "execution_count": 4,
   "outputs": [
    {
     "data": {
      "text/plain": "<Figure size 432x288 with 1 Axes>",
      "image/png": "[encoded data removed]"
     },
     "metadata": {
      "needs_background": "light",
      "image/png": {
       "width": 392,
       "height": 262
      }
     },
     "output_type": "display_data"
    }
   ]
  },
  {
   "cell_type": "markdown",
   "source": "## Are drug-related stops on the rise?",
   "metadata": {
    "cell_id": "da9d077e54f0482fb2240d4de7b3e15d",
    "tags": [],
    "is_collapsed": false,
    "deepnote_cell_type": "text-cell-h2"
   }
  },
  {
   "cell_type": "markdown",
   "source": "### Plotting drug-related stops",
   "metadata": {
    "cell_id": "b118672202b5445fbeaa8ab9d84e15ee",
    "tags": [],
    "is_collapsed": false,
    "deepnote_cell_type": "text-cell-h3"
   }
  },
  {
   "cell_type": "code",
   "metadata": {
    "cell_id": "71c9a969cb2d4a138872cf68cfda4e1e",
    "tags": [],
    "deepnote_to_be_reexecuted": false,
    "source_hash": "23579c03",
    "execution_start": 1654269368746,
    "execution_millis": 16,
    "deepnote_cell_type": "code",
    "deepnote_cell_height": 153
   },
   "source": "# Calculate the annual rate of drug-related stops by resampling the drugs_related_stop column (on the 'A' frequency) and taking the mean\n# Save the annual drug rate Series as a new object, annual_drug_rate\nannual_drug_rate = ri.drugs_related_stop.resample('A').mean()\n\n# ERROR! What's resampling? How it works? ",
   "execution_count": 5,
   "outputs": []
  },
  {
   "cell_type": "code",
   "metadata": {
    "cell_id": "f23078fc049c445d9d5a4c0ba5e4b7db",
    "tags": [],
    "deepnote_to_be_reexecuted": false,
    "source_hash": "95a2ec1c",
    "execution_start": 1654269368832,
    "execution_millis": 249,
    "deepnote_cell_type": "code",
    "deepnote_cell_height": 433,
    "deepnote_output_heights": [
     264
    ]
   },
   "source": "# Create a line plot of annual_drug_rate using the .plot() method\nannual_drug_rate.plot()\nplt.xlabel('Year')\nplt.ylabel('Drug related stops rate')\nplt.show()",
   "execution_count": 6,
   "outputs": [
    {
     "data": {
      "text/plain": "<Figure size 432x288 with 1 Axes>",
      "image/png": "[encoded data removed]"
     },
     "metadata": {
      "needs_background": "light",
      "image/png": {
       "width": 398,
       "height": 262
      }
     },
     "output_type": "display_data"
    }
   ]
  },
  {
   "cell_type": "markdown",
   "source": "### Comparing drug and search rates",
   "metadata": {
    "cell_id": "5379e1876a394ba2aeee1af0e379f5ee",
    "tags": [],
    "is_collapsed": false,
    "deepnote_cell_type": "text-cell-h3"
   }
  },
  {
   "cell_type": "code",
   "metadata": {
    "cell_id": "d4f78ccc732545d8a1c0f05a7dd5c73f",
    "tags": [],
    "deepnote_to_be_reexecuted": false,
    "source_hash": "d495ab5a",
    "execution_start": 1654269369134,
    "execution_millis": 0,
    "deepnote_cell_type": "code",
    "deepnote_cell_height": 99
   },
   "source": "# Calculate the annual search rate by resampling the search_conducted column, and save the result as annual_search_rate\nannual_search_rate = ri.search_conducted.resample('A').mean()",
   "execution_count": 7,
   "outputs": []
  },
  {
   "cell_type": "code",
   "metadata": {
    "cell_id": "17d44b746aa44777ba292c6a4aa78442",
    "tags": [],
    "deepnote_to_be_reexecuted": false,
    "source_hash": "f9c3e297",
    "execution_start": 1654269369134,
    "execution_millis": 1,
    "deepnote_cell_type": "code",
    "deepnote_cell_height": 135
   },
   "source": "# Concatenate annual_drug_rate and annual_search_rate along the columns axis, and save the result as annual\nannual = pd.concat([annual_drug_rate, annual_search_rate], axis='columns')\n\n# ERROR! Rember the pd.concat() method to concatenate pandas Series",
   "execution_count": 8,
   "outputs": []
  },
  {
   "cell_type": "code",
   "metadata": {
    "cell_id": "9e156a4a7a0b43b09123ddd5c0401b7f",
    "tags": [],
    "deepnote_to_be_reexecuted": false,
    "source_hash": "2db8c4b3",
    "execution_start": 1654269369174,
    "execution_millis": 920,
    "deepnote_cell_type": "code",
    "deepnote_cell_height": 397,
    "deepnote_output_heights": [
     264
    ]
   },
   "source": "annual.plot(subplots=True)\nplt.xlabel('Year')\nplt.show()",
   "execution_count": 9,
   "outputs": [
    {
     "data": {
      "text/plain": "<Figure size 432x288 with 2 Axes>",
      "image/png": "[encoded data removed]"
     },
     "metadata": {
      "needs_background": "light",
      "image/png": {
       "width": 391,
       "height": 262
      }
     },
     "output_type": "display_data"
    }
   ]
  },
  {
   "cell_type": "markdown",
   "source": "## What violations are caught in each district?",
   "metadata": {
    "cell_id": "2a7c23db8ab0499d9e2b5f3214446182",
    "tags": [],
    "is_collapsed": false,
    "deepnote_cell_type": "text-cell-h2"
   }
  },
  {
   "cell_type": "markdown",
   "source": "### Tallying violations by district",
   "metadata": {
    "cell_id": "2ad5d5e9d36448c085d1e73ca91a8421",
    "tags": [],
    "is_collapsed": false,
    "deepnote_cell_type": "text-cell-h3"
   }
  },
  {
   "cell_type": "code",
   "source": "# Create a frequency table from the ri DataFrame's district and violation columns using the pd.crosstab() function\n# Save the frequency table as a new object, all_zones\nall_zones = pd.crosstab(ri['district'], ri['violation'])\nall_zones\n\n# ERROR! Remember how to create a crosstab",
   "metadata": {
    "cell_id": "89de14211b014a5f9fc80b0b2d2075c8",
    "tags": [],
    "deepnote_to_be_reexecuted": false,
    "source_hash": "996ecac9",
    "execution_start": 1654269701275,
    "execution_millis": 78,
    "deepnote_cell_type": "code",
    "deepnote_cell_height": 539.078125
   },
   "outputs": [
    {
     "output_type": "execute_result",
     "execution_count": 11,
     "data": {
      "application/vnd.deepnote.dataframe.v3+json": {
       "column_count": 6,
       "row_count": 6,
       "columns": [
        {
         "name": "Equipment",
         "dtype": "int64",
         "stats": {
          "unique_count": 6,
          "nan_count": 0,
          "min": "296",
          "max": "3541",
          "histogram": [
           {
            "bin_start": 296,
            "bin_end": 620.5,
            "count": 1
           },
           {
            "bin_start": 620.5,
            "bin_end": 945,
            "count": 1
           },
           {
            "bin_start": 945,
            "bin_end": 1269.5,
            "count": 0
           },
           {
            "bin_start": 1269.5,
            "bin_end": 1594,
            "count": 0
           },
           {
            "bin_start": 1594,
            "bin_end": 1918.5,
            "count": 0
           },
           {
            "bin_start": 1918.5,
            "bin_end": 2243,
            "count": 2
           },
           {
            "bin_start": 2243,
            "bin_end": 2567.5,
            "count": 1
           },
           {
            "bin_start": 2567.5,
            "bin_end": 2892,
            "count": 0
           },
           {
            "bin_start": 2892,
            "bin_end": 3216.5,
            "count": 0
           },
           {
            "bin_start": 3216.5,
            "bin_end": 3541,
            "count": 1
           }
          ]
         }
        },
        {
         "name": "Moving violation",
         "dtype": "int64",
         "stats": {
          "unique_count": 6,
          "nan_count": 0,
          "min": "671",
          "max": "5353",
          "histogram": [
           {
            "bin_start": 671,
            "bin_end": 1139.2,
            "count": 1
           },
           {
            "bin_start": 1139.2,
            "bin_end": 1607.4,
            "count": 1
           },
           {
            "bin_start": 1607.4,
            "bin_end": 2075.6,
            "count": 0
           },
           {
            "bin_start": 2075.6,
            "bin_end": 2543.8,
            "count": 0
           },
           {
            "bin_start": 2543.8,
            "bin_end": 3012,
            "count": 2
           },
           {
            "bin_start": 3012,
            "bin_end": 3480.2,
            "count": 1
           },
           {
            "bin_start": 3480.2,
            "bin_end": 3948.4,
            "count": 0
           },
           {
            "bin_start": 3948.4,
            "bin_end": 4416.6,
            "count": 0
           },
           {
            "bin_start": 4416.6,
            "bin_end": 4884.8,
            "count": 0
           },
           {
            "bin_start": 4884.8,
            "bin_end": 5353,
            "count": 1
           }
          ]
         }
        },
        {
         "name": "Other",
         "dtype": "int64",
         "stats": {
          "unique_count": 6,
          "nan_count": 0,
          "min": "143",
          "max": "1560",
          "histogram": [
           {
            "bin_start": 143,
            "bin_end": 284.7,
            "count": 1
           },
           {
            "bin_start": 284.7,
            "bin_end": 426.4,
            "count": 1
           },
           {
            "bin_start": 426.4,
            "bin_end": 568.0999999999999,
            "count": 0
           },
           {
            "bin_start": 568.0999999999999,
            "bin_end": 709.8,
            "count": 1
           },
           {
            "bin_start": 709.8,
            "bin_end": 851.5,
            "count": 1
           },
           {
            "bin_start": 851.5,
            "bin_end": 993.1999999999999,
            "count": 1
           },
           {
            "bin_start": 993.1999999999999,
            "bin_end": 1134.8999999999999,
            "count": 0
           },
           {
            "bin_start": 1134.8999999999999,
            "bin_end": 1276.6,
            "count": 0
           },
           {
            "bin_start": 1276.6,
            "bin_end": 1418.3,
            "count": 0
           },
           {
            "bin_start": 1418.3,
            "bin_end": 1560,
            "count": 1
           }
          ]
         }
        },
        {
         "name": "Registration/plates",
         "dtype": "int64",
         "stats": {
          "unique_count": 6,
          "nan_count": 0,
          "min": "38",
          "max": "1411",
          "histogram": [
           {
            "bin_start": 38,
            "bin_end": 175.3,
            "count": 2
           },
           {
            "bin_start": 175.3,
            "bin_end": 312.6,
            "count": 0
           },
           {
            "bin_start": 312.6,
            "bin_end": 449.90000000000003,
            "count": 0
           },
           {
            "bin_start": 449.90000000000003,
            "bin_end": 587.2,
            "count": 0
           },
           {
            "bin_start": 587.2,
            "bin_end": 724.5,
            "count": 2
           },
           {
            "bin_start": 724.5,
            "bin_end": 861.8000000000001,
            "count": 1
           },
           {
            "bin_start": 861.8000000000001,
            "bin_end": 999.1000000000001,
            "count": 0
           },
           {
            "bin_start": 999.1000000000001,
            "bin_end": 1136.4,
            "count": 0
           },
           {
            "bin_start": 1136.4,
            "bin_end": 1273.7,
            "count": 0
           },
           {
            "bin_start": 1273.7,
            "bin_end": 1411,
            "count": 1
           }
          ]
         }
        },
        {
         "name": "Seat belt",
         "dtype": "int64",
         "stats": {
          "unique_count": 6,
          "nan_count": 0,
          "min": "0",
          "max": "843",
          "histogram": [
           {
            "bin_start": 0,
            "bin_end": 84.3,
            "count": 2
           },
           {
            "bin_start": 84.3,
            "bin_end": 168.6,
            "count": 0
           },
           {
            "bin_start": 168.6,
            "bin_end": 252.89999999999998,
            "count": 0
           },
           {
            "bin_start": 252.89999999999998,
            "bin_end": 337.2,
            "count": 0
           },
           {
            "bin_start": 337.2,
            "bin_end": 421.5,
            "count": 0
           },
           {
            "bin_start": 421.5,
            "bin_end": 505.79999999999995,
            "count": 1
           },
           {
            "bin_start": 505.79999999999995,
            "bin_end": 590.1,
            "count": 0
           },
           {
            "bin_start": 590.1,
            "bin_end": 674.4,
            "count": 1
           },
           {
            "bin_start": 674.4,
            "bin_end": 758.6999999999999,
            "count": 0
           },
           {
            "bin_start": 758.6999999999999,
            "bin_end": 843,
            "count": 2
           }
          ]
         }
        },
        {
         "name": "Speeding",
         "dtype": "int64",
         "stats": {
          "unique_count": 6,
          "nan_count": 0,
          "min": "1119",
          "max": "12322",
          "histogram": [
           {
            "bin_start": 1119,
            "bin_end": 2239.3,
            "count": 1
           },
           {
            "bin_start": 2239.3,
            "bin_end": 3359.6,
            "count": 0
           },
           {
            "bin_start": 3359.6,
            "bin_end": 4479.9,
            "count": 0
           },
           {
            "bin_start": 4479.9,
            "bin_end": 5600.2,
            "count": 0
           },
           {
            "bin_start": 5600.2,
            "bin_end": 6720.5,
            "count": 1
           },
           {
            "bin_start": 6720.5,
            "bin_end": 7840.799999999999,
            "count": 0
           },
           {
            "bin_start": 7840.799999999999,
            "bin_end": 8961.099999999999,
            "count": 1
           },
           {
            "bin_start": 8961.099999999999,
            "bin_end": 10081.4,
            "count": 1
           },
           {
            "bin_start": 10081.4,
            "bin_end": 11201.699999999999,
            "count": 1
           },
           {
            "bin_start": 11201.699999999999,
            "bin_end": 12322,
            "count": 1
           }
          ]
         }
        },
        {
         "name": "_deepnote_index_column",
         "dtype": "object"
        }
       ],
       "rows": [
        {
         "Equipment": 672,
         "Moving violation": 1254,
         "Other": 290,
         "Registration/plates": 120,
         "Seat belt": 0,
         "Speeding": 5960,
         "_deepnote_index_column": "Zone K1"
        },
        {
         "Equipment": 2061,
         "Moving violation": 2962,
         "Other": 942,
         "Registration/plates": 768,
         "Seat belt": 481,
         "Speeding": 10448,
         "_deepnote_index_column": "Zone K2"
        },
        {
         "Equipment": 2302,
         "Moving violation": 2898,
         "Other": 705,
         "Registration/plates": 695,
         "Seat belt": 638,
         "Speeding": 12322,
         "_deepnote_index_column": "Zone K3"
        },
        {
         "Equipment": 296,
         "Moving violation": 671,
         "Other": 143,
         "Registration/plates": 38,
         "Seat belt": 74,
         "Speeding": 1119,
         "_deepnote_index_column": "Zone X1"
        },
        {
         "Equipment": 2049,
         "Moving violation": 3086,
         "Other": 769,
         "Registration/plates": 671,
         "Seat belt": 820,
         "Speeding": 8779,
         "_deepnote_index_column": "Zone X3"
        },
        {
         "Equipment": 3541,
         "Moving violation": 5353,
         "Other": 1560,
         "Registration/plates": 1411,
         "Seat belt": 843,
         "Speeding": 9795,
         "_deepnote_index_column": "Zone X4"
        }
       ]
      },
      "text/plain": "violation  Equipment  Moving violation  Other  Registration/plates  Seat belt  \\\ndistrict                                                                        \nZone K1          672              1254    290                  120          0   \nZone K2         2061              2962    942                  768        481   \nZone K3         2302              2898    705                  695        638   \nZone X1          296               671    143                   38         74   \nZone X3         2049              3086    769                  671        820   \nZone X4         3541              5353   1560                 1411        843   \n\nviolation  Speeding  \ndistrict             \nZone K1        5960  \nZone K2       10448  \nZone K3       12322  \nZone X1        1119  \nZone X3        8779  \nZone X4        9795  ",
      "text/html": "<div>\n<style scoped>\n    .dataframe tbody tr th:only-of-type {\n        vertical-align: middle;\n    }\n\n    .dataframe tbody tr th {\n        vertical-align: top;\n    }\n\n    .dataframe thead th {\n        text-align: right;\n    }\n</style>\n<table border=\"1\" class=\"dataframe\">\n  <thead>\n    <tr style=\"text-align: right;\">\n      <th>violation</th>\n      <th>Equipment</th>\n      <th>Moving violation</th>\n      <th>Other</th>\n      <th>Registration/plates</th>\n      <th>Seat belt</th>\n      <th>Speeding</th>\n    </tr>\n    <tr>\n      <th>district</th>\n      <th></th>\n      <th></th>\n      <th></th>\n      <th></th>\n      <th></th>\n      <th></th>\n    </tr>\n  </thead>\n  <tbody>\n    <tr>\n      <th>Zone K1</th>\n      <td>672</td>\n      <td>1254</td>\n      <td>290</td>\n      <td>120</td>\n      <td>0</td>\n      <td>5960</td>\n    </tr>\n    <tr>\n      <th>Zone K2</th>\n      <td>2061</td>\n      <td>2962</td>\n      <td>942</td>\n      <td>768</td>\n      <td>481</td>\n      <td>10448</td>\n    </tr>\n    <tr>\n      <th>Zone K3</th>\n      <td>2302</td>\n      <td>2898</td>\n      <td>705</td>\n      <td>695</td>\n      <td>638</td>\n      <td>12322</td>\n    </tr>\n    <tr>\n      <th>Zone X1</th>\n      <td>296</td>\n      <td>671</td>\n      <td>143</td>\n      <td>38</td>\n      <td>74</td>\n      <td>1119</td>\n    </tr>\n    <tr>\n      <th>Zone X3</th>\n      <td>2049</td>\n      <td>3086</td>\n      <td>769</td>\n      <td>671</td>\n      <td>820</td>\n      <td>8779</td>\n    </tr>\n    <tr>\n      <th>Zone X4</th>\n      <td>3541</td>\n      <td>5353</td>\n      <td>1560</td>\n      <td>1411</td>\n      <td>843</td>\n      <td>9795</td>\n    </tr>\n  </tbody>\n</table>\n</div>"
     },
     "metadata": {}
    }
   ],
   "execution_count": 11
  },
  {
   "cell_type": "code",
   "source": "# Select rows 'Zone K1' through 'Zone K3' from all_zones using the .loc[] accessor\n# Save the smaller table as a new object, k_zones\nk_zones = all_zones.loc['Zone K1':'Zone K3']\nk_zones",
   "metadata": {
    "cell_id": "1c39f27c085c498180f00ab50ef17cd1",
    "tags": [],
    "deepnote_to_be_reexecuted": false,
    "source_hash": "7efab5a8",
    "execution_start": 1654269823370,
    "execution_millis": 77,
    "deepnote_cell_type": "code",
    "deepnote_cell_height": 380.078125
   },
   "outputs": [
    {
     "output_type": "execute_result",
     "execution_count": 12,
     "data": {
      "application/vnd.deepnote.dataframe.v3+json": {
       "column_count": 6,
       "row_count": 3,
       "columns": [
        {
         "name": "Equipment",
         "dtype": "int64",
         "stats": {
          "unique_count": 3,
          "nan_count": 0,
          "min": "672",
          "max": "2302",
          "histogram": [
           {
            "bin_start": 672,
            "bin_end": 835,
            "count": 1
           },
           {
            "bin_start": 835,
            "bin_end": 998,
            "count": 0
           },
           {
            "bin_start": 998,
            "bin_end": 1161,
            "count": 0
           },
           {
            "bin_start": 1161,
            "bin_end": 1324,
            "count": 0
           },
           {
            "bin_start": 1324,
            "bin_end": 1487,
            "count": 0
           },
           {
            "bin_start": 1487,
            "bin_end": 1650,
            "count": 0
           },
           {
            "bin_start": 1650,
            "bin_end": 1813,
            "count": 0
           },
           {
            "bin_start": 1813,
            "bin_end": 1976,
            "count": 0
           },
           {
            "bin_start": 1976,
            "bin_end": 2139,
            "count": 1
           },
           {
            "bin_start": 2139,
            "bin_end": 2302,
            "count": 1
           }
          ]
         }
        },
        {
         "name": "Moving violation",
         "dtype": "int64",
         "stats": {
          "unique_count": 3,
          "nan_count": 0,
          "min": "1254",
          "max": "2962",
          "histogram": [
           {
            "bin_start": 1254,
            "bin_end": 1424.8,
            "count": 1
           },
           {
            "bin_start": 1424.8,
            "bin_end": 1595.6,
            "count": 0
           },
           {
            "bin_start": 1595.6,
            "bin_end": 1766.4,
            "count": 0
           },
           {
            "bin_start": 1766.4,
            "bin_end": 1937.2,
            "count": 0
           },
           {
            "bin_start": 1937.2,
            "bin_end": 2108,
            "count": 0
           },
           {
            "bin_start": 2108,
            "bin_end": 2278.8,
            "count": 0
           },
           {
            "bin_start": 2278.8,
            "bin_end": 2449.6000000000004,
            "count": 0
           },
           {
            "bin_start": 2449.6000000000004,
            "bin_end": 2620.4,
            "count": 0
           },
           {
            "bin_start": 2620.4,
            "bin_end": 2791.2,
            "count": 0
           },
           {
            "bin_start": 2791.2,
            "bin_end": 2962,
            "count": 2
           }
          ]
         }
        },
        {
         "name": "Other",
         "dtype": "int64",
         "stats": {
          "unique_count": 3,
          "nan_count": 0,
          "min": "290",
          "max": "942",
          "histogram": [
           {
            "bin_start": 290,
            "bin_end": 355.2,
            "count": 1
           },
           {
            "bin_start": 355.2,
            "bin_end": 420.4,
            "count": 0
           },
           {
            "bin_start": 420.4,
            "bin_end": 485.6,
            "count": 0
           },
           {
            "bin_start": 485.6,
            "bin_end": 550.8,
            "count": 0
           },
           {
            "bin_start": 550.8,
            "bin_end": 616,
            "count": 0
           },
           {
            "bin_start": 616,
            "bin_end": 681.2,
            "count": 0
           },
           {
            "bin_start": 681.2,
            "bin_end": 746.4000000000001,
            "count": 1
           },
           {
            "bin_start": 746.4000000000001,
            "bin_end": 811.6,
            "count": 0
           },
           {
            "bin_start": 811.6,
            "bin_end": 876.8000000000001,
            "count": 0
           },
           {
            "bin_start": 876.8000000000001,
            "bin_end": 942,
            "count": 1
           }
          ]
         }
        },
        {
         "name": "Registration/plates",
         "dtype": "int64",
         "stats": {
          "unique_count": 3,
          "nan_count": 0,
          "min": "120",
          "max": "768",
          "histogram": [
           {
            "bin_start": 120,
            "bin_end": 184.8,
            "count": 1
           },
           {
            "bin_start": 184.8,
            "bin_end": 249.6,
            "count": 0
           },
           {
            "bin_start": 249.6,
            "bin_end": 314.4,
            "count": 0
           },
           {
            "bin_start": 314.4,
            "bin_end": 379.2,
            "count": 0
           },
           {
            "bin_start": 379.2,
            "bin_end": 444,
            "count": 0
           },
           {
            "bin_start": 444,
            "bin_end": 508.79999999999995,
            "count": 0
           },
           {
            "bin_start": 508.79999999999995,
            "bin_end": 573.5999999999999,
            "count": 0
           },
           {
            "bin_start": 573.5999999999999,
            "bin_end": 638.4,
            "count": 0
           },
           {
            "bin_start": 638.4,
            "bin_end": 703.1999999999999,
            "count": 1
           },
           {
            "bin_start": 703.1999999999999,
            "bin_end": 768,
            "count": 1
           }
          ]
         }
        },
        {
         "name": "Seat belt",
         "dtype": "int64",
         "stats": {
          "unique_count": 3,
          "nan_count": 0,
          "min": "0",
          "max": "638",
          "histogram": [
           {
            "bin_start": 0,
            "bin_end": 63.8,
            "count": 1
           },
           {
            "bin_start": 63.8,
            "bin_end": 127.6,
            "count": 0
           },
           {
            "bin_start": 127.6,
            "bin_end": 191.39999999999998,
            "count": 0
           },
           {
            "bin_start": 191.39999999999998,
            "bin_end": 255.2,
            "count": 0
           },
           {
            "bin_start": 255.2,
            "bin_end": 319,
            "count": 0
           },
           {
            "bin_start": 319,
            "bin_end": 382.79999999999995,
            "count": 0
           },
           {
            "bin_start": 382.79999999999995,
            "bin_end": 446.59999999999997,
            "count": 0
           },
           {
            "bin_start": 446.59999999999997,
            "bin_end": 510.4,
            "count": 1
           },
           {
            "bin_start": 510.4,
            "bin_end": 574.1999999999999,
            "count": 0
           },
           {
            "bin_start": 574.1999999999999,
            "bin_end": 638,
            "count": 1
           }
          ]
         }
        },
        {
         "name": "Speeding",
         "dtype": "int64",
         "stats": {
          "unique_count": 3,
          "nan_count": 0,
          "min": "5960",
          "max": "12322",
          "histogram": [
           {
            "bin_start": 5960,
            "bin_end": 6596.2,
            "count": 1
           },
           {
            "bin_start": 6596.2,
            "bin_end": 7232.4,
            "count": 0
           },
           {
            "bin_start": 7232.4,
            "bin_end": 7868.6,
            "count": 0
           },
           {
            "bin_start": 7868.6,
            "bin_end": 8504.8,
            "count": 0
           },
           {
            "bin_start": 8504.8,
            "bin_end": 9141,
            "count": 0
           },
           {
            "bin_start": 9141,
            "bin_end": 9777.2,
            "count": 0
           },
           {
            "bin_start": 9777.2,
            "bin_end": 10413.400000000001,
            "count": 0
           },
           {
            "bin_start": 10413.400000000001,
            "bin_end": 11049.6,
            "count": 1
           },
           {
            "bin_start": 11049.6,
            "bin_end": 11685.8,
            "count": 0
           },
           {
            "bin_start": 11685.8,
            "bin_end": 12322,
            "count": 1
           }
          ]
         }
        },
        {
         "name": "_deepnote_index_column",
         "dtype": "object"
        }
       ],
       "rows": [
        {
         "Equipment": 672,
         "Moving violation": 1254,
         "Other": 290,
         "Registration/plates": 120,
         "Seat belt": 0,
         "Speeding": 5960,
         "_deepnote_index_column": "Zone K1"
        },
        {
         "Equipment": 2061,
         "Moving violation": 2962,
         "Other": 942,
         "Registration/plates": 768,
         "Seat belt": 481,
         "Speeding": 10448,
         "_deepnote_index_column": "Zone K2"
        },
        {
         "Equipment": 2302,
         "Moving violation": 2898,
         "Other": 705,
         "Registration/plates": 695,
         "Seat belt": 638,
         "Speeding": 12322,
         "_deepnote_index_column": "Zone K3"
        }
       ]
      },
      "text/plain": "violation  Equipment  Moving violation  Other  Registration/plates  Seat belt  \\\ndistrict                                                                        \nZone K1          672              1254    290                  120          0   \nZone K2         2061              2962    942                  768        481   \nZone K3         2302              2898    705                  695        638   \n\nviolation  Speeding  \ndistrict             \nZone K1        5960  \nZone K2       10448  \nZone K3       12322  ",
      "text/html": "<div>\n<style scoped>\n    .dataframe tbody tr th:only-of-type {\n        vertical-align: middle;\n    }\n\n    .dataframe tbody tr th {\n        vertical-align: top;\n    }\n\n    .dataframe thead th {\n        text-align: right;\n    }\n</style>\n<table border=\"1\" class=\"dataframe\">\n  <thead>\n    <tr style=\"text-align: right;\">\n      <th>violation</th>\n      <th>Equipment</th>\n      <th>Moving violation</th>\n      <th>Other</th>\n      <th>Registration/plates</th>\n      <th>Seat belt</th>\n      <th>Speeding</th>\n    </tr>\n    <tr>\n      <th>district</th>\n      <th></th>\n      <th></th>\n      <th></th>\n      <th></th>\n      <th></th>\n      <th></th>\n    </tr>\n  </thead>\n  <tbody>\n    <tr>\n      <th>Zone K1</th>\n      <td>672</td>\n      <td>1254</td>\n      <td>290</td>\n      <td>120</td>\n      <td>0</td>\n      <td>5960</td>\n    </tr>\n    <tr>\n      <th>Zone K2</th>\n      <td>2061</td>\n      <td>2962</td>\n      <td>942</td>\n      <td>768</td>\n      <td>481</td>\n      <td>10448</td>\n    </tr>\n    <tr>\n      <th>Zone K3</th>\n      <td>2302</td>\n      <td>2898</td>\n      <td>705</td>\n      <td>695</td>\n      <td>638</td>\n      <td>12322</td>\n    </tr>\n  </tbody>\n</table>\n</div>"
     },
     "metadata": {}
    }
   ],
   "execution_count": 12
  },
  {
   "cell_type": "markdown",
   "source": "### Plotting violations by district",
   "metadata": {
    "cell_id": "b93df91e28804fe693e7a74f9c3b290f",
    "tags": [],
    "is_collapsed": false,
    "deepnote_cell_type": "text-cell-h3"
   }
  },
  {
   "cell_type": "code",
   "source": "# Create a bar plot of k_zones\nk_zones.plot(kind='bar')\nplt.show()\n\n# ERROR! Remember how to create a plot from a pandas data structure ",
   "metadata": {
    "cell_id": "790f17f3adda4488822431f6554f0e1d",
    "tags": [],
    "deepnote_to_be_reexecuted": false,
    "source_hash": "502efab",
    "execution_start": 1654270255699,
    "execution_millis": 756,
    "deepnote_cell_type": "code",
    "deepnote_cell_height": 465,
    "deepnote_output_heights": [
     296,
     296
    ]
   },
   "outputs": [
    {
     "data": {
      "text/plain": "<Figure size 432x288 with 1 Axes>",
      "image/png": "[encoded data removed]"
     },
     "metadata": {
      "needs_background": "light",
      "image/png": {
       "width": 387,
       "height": 294
      }
     },
     "output_type": "display_data"
    }
   ],
   "execution_count": 18
  },
  {
   "cell_type": "code",
   "source": "# Create a stacked bar plot of k_zones\nk_zones.plot(kind='bar', stacked=True)\nplt.show()",
   "metadata": {
    "cell_id": "6d88a2735ed442c9a8f355c4bc4e5bbe",
    "tags": [],
    "deepnote_to_be_reexecuted": false,
    "source_hash": "f3ff2ab8",
    "execution_start": 1654270249805,
    "execution_millis": 333,
    "deepnote_cell_type": "code",
    "deepnote_cell_height": 429,
    "deepnote_output_heights": [
     296,
     296
    ]
   },
   "outputs": [
    {
     "data": {
      "text/plain": "<Figure size 432x288 with 1 Axes>",
      "image/png": "[encoded data removed]"
     },
     "metadata": {
      "needs_background": "light",
      "image/png": {
       "width": 387,
       "height": 294
      }
     },
     "output_type": "display_data"
    }
   ],
   "execution_count": 17
  },
  {
   "cell_type": "markdown",
   "source": "## How long might you be stopped for a violation?",
   "metadata": {
    "cell_id": "50fb4d0c81ff4101b0be23e0af0b1f11",
    "tags": [],
    "is_collapsed": false,
    "deepnote_cell_type": "text-cell-h2"
   }
  },
  {
   "cell_type": "markdown",
   "source": "### Converting stop durations to numbers",
   "metadata": {
    "cell_id": "068a82d71c414d3da40a321a5f24fc19",
    "tags": [],
    "is_collapsed": false,
    "deepnote_cell_type": "text-cell-h3"
   }
  },
  {
   "cell_type": "code",
   "source": "# Print the unique values in the stop_duration column\nri.stop_duration.value_counts()",
   "metadata": {
    "cell_id": "17b65e2e362a4389b192d22dd3fce1a6",
    "tags": [],
    "deepnote_to_be_reexecuted": false,
    "source_hash": "8e29a888",
    "execution_start": 1654270781870,
    "execution_millis": 10,
    "deepnote_cell_type": "code",
    "deepnote_cell_height": 193.75,
    "deepnote_output_heights": [
     78.765625
    ]
   },
   "outputs": [
    {
     "output_type": "execute_result",
     "execution_count": 25,
     "data": {
      "text/plain": "0-15 Min     69577\n16-30 Min    13740\n30+ Min       3219\nName: stop_duration, dtype: int64"
     },
     "metadata": {}
    }
   ],
   "execution_count": 25
  },
  {
   "cell_type": "code",
   "source": "# Create a dictionary called mapping that maps the stop_duration strings to the specified integers: [8, 23, 45]\nmapping = {'0-15 Min':8, '16-30 Min':23, '30+ Min':45}",
   "metadata": {
    "cell_id": "ebc0a472e4ed48a5bc7d33652273c8e6",
    "tags": [],
    "deepnote_to_be_reexecuted": false,
    "source_hash": "346b574f",
    "execution_start": 1654270747011,
    "execution_millis": 1,
    "deepnote_cell_type": "code",
    "deepnote_cell_height": 99
   },
   "outputs": [],
   "execution_count": 22
  },
  {
   "cell_type": "code",
   "source": "# Convert the stop_duration strings to integers using the mapping, and store the results in a new column called stop_minutes\nri['stop_minutes'] = ri['stop_duration'].map(mapping)",
   "metadata": {
    "cell_id": "0b3434602c564e359474ac3e5ea7b4b4",
    "tags": [],
    "deepnote_to_be_reexecuted": false,
    "source_hash": "2227ac22",
    "execution_start": 1654270749558,
    "execution_millis": 9,
    "deepnote_cell_type": "code",
    "deepnote_cell_height": 99
   },
   "outputs": [],
   "execution_count": 23
  },
  {
   "cell_type": "code",
   "source": "# Print the unique values in the stop_minutes column, to verify that the durations were properly converted to integers\nri.stop_minutes.value_counts()",
   "metadata": {
    "cell_id": "e224b38a0f4e426cb4bd133ec5eb15b0",
    "tags": [],
    "deepnote_to_be_reexecuted": false,
    "source_hash": "cef1ce06",
    "execution_start": 1654270792074,
    "execution_millis": 269,
    "deepnote_cell_type": "code",
    "deepnote_cell_height": 193.75,
    "deepnote_output_heights": [
     78.765625
    ]
   },
   "outputs": [
    {
     "output_type": "execute_result",
     "execution_count": 26,
     "data": {
      "text/plain": "8     69577\n23    13740\n45     3219\nName: stop_minutes, dtype: int64"
     },
     "metadata": {}
    }
   ],
   "execution_count": 26
  },
  {
   "cell_type": "markdown",
   "source": "### Plotting stop length",
   "metadata": {
    "cell_id": "03e7b579ebf74134bf229f78f72606da",
    "tags": [],
    "is_collapsed": false,
    "deepnote_cell_type": "text-cell-h3"
   }
  },
  {
   "cell_type": "code",
   "source": "# For each value in the ri DataFrame's violation_raw column, calculate the mean number of stop_minutes that a driver is detained\n# Save the resulting Series as a new object, stop_length\nstop_length = ri.groupby('violation_raw').stop_minutes.mean()\nstop_length",
   "metadata": {
    "cell_id": "e278e35379844287a6e92fa236171770",
    "tags": [],
    "deepnote_to_be_reexecuted": false,
    "source_hash": "e32c2806",
    "execution_start": 1654271336252,
    "execution_millis": 17,
    "deepnote_cell_type": "code",
    "deepnote_cell_height": 421.6875,
    "deepnote_output_heights": [
     270.703125
    ]
   },
   "outputs": [
    {
     "output_type": "execute_result",
     "execution_count": 28,
     "data": {
      "text/plain": "violation_raw\nAPB                                 17.967033\nCall for Service                    22.124371\nEquipment/Inspection Violation      11.445655\nMotorist Assist/Courtesy            17.741463\nOther Traffic Violation             13.844490\nRegistration Violation              13.736970\nSeatbelt Violation                   9.662815\nSpecial Detail/Directed Patrol      15.123632\nSpeeding                            10.581562\nSuspicious Person                   14.910714\nViolation of City/Town Ordinance    13.254144\nWarrant                             24.055556\nName: stop_minutes, dtype: float64"
     },
     "metadata": {}
    }
   ],
   "execution_count": 28
  },
  {
   "cell_type": "code",
   "source": "# Sort stop_length by its values, and then visualize it using a horizontal bar plot\n# Display the plot\nstop_length = stop_length.sort_values()\nstop_length.plot(kind='barh')\nplt.show()",
   "metadata": {
    "cell_id": "eb1e2a8d5b5c4f51b1570f1ce21dc8a2",
    "tags": [],
    "deepnote_to_be_reexecuted": false,
    "source_hash": "ca534b6d",
    "execution_start": 1654271450249,
    "execution_millis": 293,
    "deepnote_cell_type": "code",
    "deepnote_cell_height": 419,
    "deepnote_output_heights": [
     250
    ]
   },
   "outputs": [
    {
     "data": {
      "text/plain": "<Figure size 432x288 with 1 Axes>",
      "image/png": "[encoded data removed]"
     },
     "metadata": {
      "needs_background": "light",
      "image/png": {
       "width": 535,
       "height": 248
      }
     },
     "output_type": "display_data"
    }
   ],
   "execution_count": 29
  },
  {
   "cell_type": "markdown",
   "source": "<a style='text-decoration:none;line-height:16px;display:flex;color:#5B5B62;padding:10px;justify-content:end;' href='https://deepnote.com?utm_source=created-in-deepnote-cell&projectId=dc001eea-22fe-4a27-852d-7fbece520334' target=\"_blank\">\n<img alt='Created in deepnote.com' style='display:inline;max-height:16px;margin:0px;margin-right:7.5px;' src='data:image/svg+xml;base64,PD94bWwgdmVyc2lvbj0iMS4wIiBlbmNvZGluZz0iVVRGLTgiPz4KPHN2ZyB3aWR0aD0iODBweCIgaGVpZ2h0PSI4MHB4IiB2aWV3Qm94PSIwIDAgODAgODAiIHZlcnNpb249IjEuMSIgeG1sbnM9Imh0dHA6Ly93d3cudzMub3JnLzIwMDAvc3ZnIiB4bWxuczp4bGluaz0iaHR0cDovL3d3dy53My5vcmcvMTk5OS94bGluayI+CiAgICA8IS0tIEdlbmVyYXRvcjogU2tldGNoIDU0LjEgKDc2NDkwKSAtIGh0dHBzOi8vc2tldGNoYXBwLmNvbSAtLT4KICAgIDx0aXRsZT5Hcm91cCAzPC90aXRsZT4KICAgIDxkZXNjPkNyZWF0ZWQgd2l0aCBTa2V0Y2guPC9kZXNjPgogICAgPGcgaWQ9IkxhbmRpbmciIHN0cm9rZT0ibm9uZSIgc3Ryb2tlLXdpZHRoPSIxIiBmaWxsPSJub25lIiBmaWxsLXJ1bGU9ImV2ZW5vZGQiPgogICAgICAgIDxnIGlkPSJBcnRib2FyZCIgdHJhbnNmb3JtPSJ0cmFuc2xhdGUoLTEyMzUuMDAwMDAwLCAtNzkuMDAwMDAwKSI+CiAgICAgICAgICAgIDxnIGlkPSJHcm91cC0zIiB0cmFuc2Zvcm09InRyYW5zbGF0ZSgxMjM1LjAwMDAwMCwgNzkuMDAwMDAwKSI+CiAgICAgICAgICAgICAgICA8cG9seWdvbiBpZD0iUGF0aC0yMCIgZmlsbD0iIzAyNjVCNCIgcG9pbnRzPSIyLjM3NjIzNzYyIDgwIDM4LjA0NzY2NjcgODAgNTcuODIxNzgyMiA3My44MDU3NTkyIDU3LjgyMTc4MjIgMzIuNzU5MjczOSAzOS4xNDAyMjc4IDMxLjY4MzE2ODMiPjwvcG9seWdvbj4KICAgICAgICAgICAgICAgIDxwYXRoIGQ9Ik0zNS4wMDc3MTgsODAgQzQyLjkwNjIwMDcsNzYuNDU0OTM1OCA0Ny41NjQ5MTY3LDcxLjU0MjI2NzEgNDguOTgzODY2LDY1LjI2MTk5MzkgQzUxLjExMjI4OTksNTUuODQxNTg0MiA0MS42NzcxNzk1LDQ5LjIxMjIyODQgMjUuNjIzOTg0Niw0OS4yMTIyMjg0IEMyNS40ODQ5Mjg5LDQ5LjEyNjg0NDggMjkuODI2MTI5Niw0My4yODM4MjQ4IDM4LjY0NzU4NjksMzEuNjgzMTY4MyBMNzIuODcxMjg3MSwzMi41NTQ0MjUgTDY1LjI4MDk3Myw2Ny42NzYzNDIxIEw1MS4xMTIyODk5LDc3LjM3NjE0NCBMMzUuMDA3NzE4LDgwIFoiIGlkPSJQYXRoLTIyIiBmaWxsPSIjMDAyODY4Ij48L3BhdGg+CiAgICAgICAgICAgICAgICA8cGF0aCBkPSJNMCwzNy43MzA0NDA1IEwyNy4xMTQ1MzcsMC4yNTcxMTE0MzYgQzYyLjM3MTUxMjMsLTEuOTkwNzE3MDEgODAsMTAuNTAwMzkyNyA4MCwzNy43MzA0NDA1IEM4MCw2NC45NjA0ODgyIDY0Ljc3NjUwMzgsNzkuMDUwMzQxNCAzNC4zMjk1MTEzLDgwIEM0Ny4wNTUzNDg5LDc3LjU2NzA4MDggNTMuNDE4MjY3Nyw3MC4zMTM2MTAzIDUzLjQxODI2NzcsNTguMjM5NTg4NSBDNTMuNDE4MjY3Nyw0MC4xMjg1NTU3IDM2LjMwMzk1NDQsMzcuNzMwNDQwNSAyNS4yMjc0MTcsMzcuNzMwNDQwNSBDMTcuODQzMDU4NiwzNy43MzA0NDA1IDkuNDMzOTE5NjYsMzcuNzMwNDQwNSAwLDM3LjczMDQ0MDUgWiIgaWQ9IlBhdGgtMTkiIGZpbGw9IiMzNzkzRUYiPjwvcGF0aD4KICAgICAgICAgICAgPC9nPgogICAgICAgIDwvZz4KICAgIDwvZz4KPC9zdmc+' > </img>\nCreated in <span style='font-weight:600;margin-left:4px;'>Deepnote</span></a>",
   "metadata": {
    "tags": [],
    "created_in_deepnote_cell": true,
    "deepnote_cell_type": "markdown"
   }
  }
 ],
 "nbformat": 4,
 "nbformat_minor": 2,
 "metadata": {
  "orig_nbformat": 2,
  "deepnote": {},
  "deepnote_notebook_id": "3fb37bfa-03ad-428a-b5c4-2365a916da8e",
  "deepnote_execution_queue": []
 }
}