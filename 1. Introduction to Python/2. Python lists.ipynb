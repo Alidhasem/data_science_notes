{
 "cells": [
  {
   "cell_type": "markdown",
   "source": "# Python lists",
   "metadata": {
    "formattedRanges": [],
    "cell_id": "a28cd0b60c0a41dd963328c8a01539d7",
    "tags": [],
    "is_collapsed": false,
    "deepnote_cell_type": "text-cell-h1"
   }
  },
  {
   "cell_type": "markdown",
   "source": "## Python lists",
   "metadata": {
    "formattedRanges": [],
    "cell_id": "d99e812382374708a27eac02ff563ac9",
    "tags": [],
    "is_collapsed": false,
    "deepnote_cell_type": "text-cell-h2"
   }
  },
  {
   "cell_type": "markdown",
   "source": "### Create a list",
   "metadata": {
    "formattedRanges": [],
    "cell_id": "3aed3633794c43d5b0fd0c27f1787160",
    "tags": [],
    "is_collapsed": false,
    "deepnote_cell_type": "text-cell-h3"
   }
  },
  {
   "cell_type": "markdown",
   "source": "The Python list is a data structure that allows us to save many data points in an ordered way. The elements of a list could be any data type and with different data type between each other. \n\nSave a list in a variable is useful to save a collection of values with a single tag. ",
   "metadata": {
    "cell_id": "c65aefb3b2d74c759c7b320e040ddbe8",
    "tags": [],
    "deepnote_cell_type": "markdown",
    "deepnote_cell_height": 133.578125
   }
  },
  {
   "cell_type": "code",
   "metadata": {
    "cell_id": "083fea6d300946d9b13ebe6b59314144",
    "tags": [],
    "deepnote_to_be_reexecuted": false,
    "source_hash": "ed7cb1ae",
    "execution_start": 1655309282067,
    "execution_millis": 6,
    "deepnote_cell_type": "code",
    "deepnote_cell_height": 316.171875,
    "deepnote_output_heights": [
     21.1875
    ]
   },
   "source": "# Create a list, areas, that contains the area of the hallway (hall), kitchen (kit), living room (liv), bedroom (bed) and bathroom (bath), in this order \n# Use the predefined variables\n\nhall = 11.25\nkit = 18.0\nliv = 20.0\nbed = 10.75\nbath = 9.50\n\nareas = [hall, kit, liv, bed, bath]\n\nareas",
   "execution_count": 1,
   "outputs": [
    {
     "output_type": "execute_result",
     "execution_count": 1,
     "data": {
      "text/plain": "[11.25, 18.0, 20.0, 10.75, 9.5]"
     },
     "metadata": {}
    }
   ]
  },
  {
   "cell_type": "markdown",
   "source": "### Create a list with different types",
   "metadata": {
    "formattedRanges": [],
    "cell_id": "c3286704e3874a58a8081dd6651c886b",
    "tags": [],
    "is_collapsed": false,
    "deepnote_cell_type": "text-cell-h3"
   }
  },
  {
   "cell_type": "code",
   "metadata": {
    "cell_id": "45363c457fee4a3c90366933e7c84e64",
    "tags": [],
    "deepnote_to_be_reexecuted": false,
    "source_hash": "ebff181f",
    "execution_start": 1655309282068,
    "execution_millis": 0,
    "deepnote_cell_type": "code",
    "deepnote_cell_height": 172.171875,
    "deepnote_output_heights": [
     21.1875
    ]
   },
   "source": "# Finish the code that creates the areas list \n# Build the list so that the list first contains the name of each room as a string and then its area\nareas_names = ['hallway', hall, 'kitchen', kit, 'living', liv, 'bedroom', bed, 'bathroom', bath]\nareas ",
   "execution_count": 2,
   "outputs": [
    {
     "output_type": "execute_result",
     "execution_count": 2,
     "data": {
      "text/plain": "[11.25, 18.0, 20.0, 10.75, 9.5]"
     },
     "metadata": {}
    }
   ]
  },
  {
   "cell_type": "markdown",
   "source": "### List of lists",
   "metadata": {
    "formattedRanges": [],
    "cell_id": "213b2e3e0bd64281800f846e98bdff84",
    "tags": [],
    "is_collapsed": false,
    "deepnote_cell_type": "text-cell-h3"
   }
  },
  {
   "cell_type": "markdown",
   "source": "As the elements of a list could be any data type, they can be lists also. ",
   "metadata": {
    "cell_id": "4ba393e9da834ab2a7767fe0790371af",
    "tags": [],
    "deepnote_cell_type": "markdown",
    "deepnote_cell_height": 52.390625
   }
  },
  {
   "cell_type": "code",
   "metadata": {
    "cell_id": "8f5b482d101740258a967aa970123667",
    "tags": [],
    "deepnote_to_be_reexecuted": false,
    "source_hash": "e9cab3d0",
    "execution_start": 1655309282069,
    "execution_millis": 5,
    "deepnote_cell_type": "code",
    "deepnote_cell_height": 320.9375,
    "deepnote_output_heights": [
     97.953125
    ]
   },
   "source": "# Create a list of lists containing the room name and it's area\nhouse = [[\"hallway\", hall],\n         [\"kitchen\", kit],\n         [\"living room\", liv],\n         [\"bedroom\", bed],\n         [\"bathroom\", bath]]\n\nhouse",
   "execution_count": 3,
   "outputs": [
    {
     "output_type": "execute_result",
     "execution_count": 3,
     "data": {
      "text/plain": "[['hallway', 11.25],\n ['kitchen', 18.0],\n ['living room', 20.0],\n ['bedroom', 10.75],\n ['bathroom', 9.5]]"
     },
     "metadata": {}
    }
   ]
  },
  {
   "cell_type": "code",
   "metadata": {
    "cell_id": "d61d520c42c94070abdde480e90888eb",
    "tags": [],
    "deepnote_to_be_reexecuted": false,
    "source_hash": "de664d58",
    "execution_start": 1655309282075,
    "execution_millis": 14,
    "deepnote_cell_type": "code",
    "deepnote_cell_height": 118.171875,
    "deepnote_output_heights": [
     21.1875
    ]
   },
   "source": "type(house)",
   "execution_count": 4,
   "outputs": [
    {
     "output_type": "execute_result",
     "execution_count": 4,
     "data": {
      "text/plain": "list"
     },
     "metadata": {}
    }
   ]
  },
  {
   "cell_type": "markdown",
   "source": "## Subsetting lists",
   "metadata": {
    "formattedRanges": [],
    "cell_id": "9c9e8af9d7ca48dfa43de13b2477ff81",
    "tags": [],
    "is_collapsed": false,
    "deepnote_cell_type": "text-cell-h2"
   }
  },
  {
   "cell_type": "markdown",
   "source": "### Subset and conquer",
   "metadata": {
    "formattedRanges": [],
    "cell_id": "f86564c1a20643fb8883c92a3d00f9c0",
    "tags": [],
    "is_collapsed": false,
    "deepnote_cell_type": "text-cell-h3"
   }
  },
  {
   "cell_type": "markdown",
   "source": "The elements in a Python list are ordered, that means that they have an index associated. This index begins with zero. \n\nIn fact, you can also use negative indexes. The -1 index corresponds to the last element in the list. ",
   "metadata": {
    "cell_id": "1ab83224f2174be2984898c0f7944a9b",
    "tags": [],
    "deepnote_cell_type": "markdown",
    "deepnote_cell_height": 133.578125
   }
  },
  {
   "cell_type": "code",
   "metadata": {
    "cell_id": "73079dfa1d5348ec8cb43fa0a487c13e",
    "tags": [],
    "deepnote_to_be_reexecuted": false,
    "source_hash": "d9319288",
    "execution_start": 1655309282087,
    "execution_millis": 6,
    "deepnote_cell_type": "code",
    "deepnote_cell_height": 366.53125,
    "deepnote_output_heights": [
     21.1875,
     21.1875,
     21.1875
    ]
   },
   "source": "# Print out the second element from the areas list\ndisplay(areas[1])\n\n\n# Subset and print out the last element of areas\ndisplay(areas[-1])\n\n# Select the number representing the area of the living room (20.0) and print it out\ndisplay(areas[2])",
   "execution_count": 5,
   "outputs": [
    {
     "data": {
      "text/plain": "18.0"
     },
     "metadata": {},
     "output_type": "display_data"
    },
    {
     "data": {
      "text/plain": "9.5"
     },
     "metadata": {},
     "output_type": "display_data"
    },
    {
     "data": {
      "text/plain": "20.0"
     },
     "metadata": {},
     "output_type": "display_data"
    }
   ]
  },
  {
   "cell_type": "markdown",
   "source": "### Subset and calculate",
   "metadata": {
    "formattedRanges": [],
    "cell_id": "1b3ed9c9851a4d5ca96778cc71dc9e6e",
    "tags": [],
    "is_collapsed": false,
    "deepnote_cell_type": "text-cell-h3"
   }
  },
  {
   "cell_type": "code",
   "metadata": {
    "cell_id": "3fc8ee6dbd944c8f8f8b4634ca7a8a1d",
    "tags": [],
    "deepnote_to_be_reexecuted": false,
    "source_hash": "b56cd0b",
    "execution_start": 1655309282090,
    "execution_millis": 3,
    "deepnote_cell_type": "code",
    "deepnote_cell_height": 172.171875,
    "deepnote_output_heights": [
     21.1875
    ]
   },
   "source": "# Using a combination of list subsetting and variable assignment, create a new variable, eat_sleep_area, that contains the sum of the area of the kitchen and the area of the bedroom\n# Print the new variable eat_sleep_area\neat_sleep_area = areas_names[3] + areas_names[7]\neat_sleep_area",
   "execution_count": 6,
   "outputs": [
    {
     "output_type": "execute_result",
     "execution_count": 6,
     "data": {
      "text/plain": "28.75"
     },
     "metadata": {}
    }
   ]
  },
  {
   "cell_type": "markdown",
   "source": "### Slicing and dicing",
   "metadata": {
    "formattedRanges": [],
    "cell_id": "c624b5ae15d94898ad47466f8fec4be6",
    "tags": [],
    "is_collapsed": false,
    "deepnote_cell_type": "text-cell-h3"
   }
  },
  {
   "cell_type": "code",
   "metadata": {
    "cell_id": "b67203b48b4d453dba7d72f5aec0529d",
    "tags": [],
    "deepnote_to_be_reexecuted": false,
    "source_hash": "69dec4f7",
    "execution_start": 1655309282093,
    "execution_millis": 6,
    "deepnote_cell_type": "code",
    "deepnote_cell_height": 154.171875,
    "deepnote_output_heights": [
     21.1875
    ]
   },
   "source": "# Use slicing to create a list, downstairs, that contains the first 6 elements of areas_names\ndownstairs = areas_names[:6]\ndownstairs",
   "execution_count": 7,
   "outputs": [
    {
     "output_type": "execute_result",
     "execution_count": 7,
     "data": {
      "text/plain": "['hallway', 11.25, 'kitchen', 18.0, 'living', 20.0]"
     },
     "metadata": {}
    }
   ]
  },
  {
   "cell_type": "code",
   "metadata": {
    "cell_id": "6981ec3fcb8542638e762ed046cd2706",
    "tags": [],
    "deepnote_to_be_reexecuted": false,
    "source_hash": "a61dfb78",
    "execution_start": 1655309282101,
    "execution_millis": 27,
    "deepnote_cell_type": "code",
    "deepnote_cell_height": 154.171875,
    "deepnote_output_heights": [
     21.1875
    ]
   },
   "source": "# Do a similar thing to create a new variable, upstairs, that contains the last 4 elements of areas\nupstairs = areas_names[-4:]\nupstairs",
   "execution_count": 8,
   "outputs": [
    {
     "output_type": "execute_result",
     "execution_count": 8,
     "data": {
      "text/plain": "['bedroom', 10.75, 'bathroom', 9.5]"
     },
     "metadata": {}
    }
   ]
  },
  {
   "cell_type": "markdown",
   "source": "## Manipulating lists",
   "metadata": {
    "formattedRanges": [],
    "cell_id": "cbfd7ce681d54b94b101687fed7c80e9",
    "tags": [],
    "is_collapsed": false,
    "deepnote_cell_type": "text-cell-h2"
   }
  },
  {
   "cell_type": "markdown",
   "source": "### Replace list elements",
   "metadata": {
    "formattedRanges": [],
    "cell_id": "7af3f235bb744e50854500f280a7e62b",
    "tags": [],
    "is_collapsed": false,
    "deepnote_cell_type": "text-cell-h3"
   }
  },
  {
   "cell_type": "code",
   "source": "# Update the area of the bathroom area to be 10.50 square meters instead of 9.50\n# Make the areas list more trendy! Change \"living room\" to \"chill zone\" and change it's area from 20.0 to 20.2\nareas_names[-1] = 10.50\nareas_names[4:6] = ['chill zone', 20.2]\nareas_names",
   "metadata": {
    "cell_id": "828b5196025945df826c94b005b41881",
    "tags": [],
    "deepnote_to_be_reexecuted": false,
    "source_hash": "1199959b",
    "execution_start": 1655309282155,
    "execution_millis": 5,
    "deepnote_cell_type": "code",
    "deepnote_cell_height": 362.90625,
    "deepnote_output_heights": [
     193.921875
    ]
   },
   "outputs": [
    {
     "output_type": "execute_result",
     "execution_count": 9,
     "data": {
      "text/plain": "['hallway',\n 11.25,\n 'kitchen',\n 18.0,\n 'chill zone',\n 20.2,\n 'bedroom',\n 10.75,\n 'bathroom',\n 10.5]"
     },
     "metadata": {}
    }
   ],
   "execution_count": 9
  },
  {
   "cell_type": "markdown",
   "source": "### Extend a list",
   "metadata": {
    "formattedRanges": [],
    "cell_id": "c52d5340ac384592b5c42a136f3bcc20",
    "tags": [],
    "is_collapsed": false,
    "deepnote_cell_type": "text-cell-h3"
   }
  },
  {
   "cell_type": "code",
   "source": "# Use the + operator to paste the list [\"poolhouse\", 24.5] to the end of the areas list \n# Store the resulting list as areas_1\n\nareas_1 = areas_names + [\"poolhouse\", 24.5]",
   "metadata": {
    "cell_id": "be8ac6b2e55c49a0a25a10092cfb0551",
    "tags": [],
    "deepnote_to_be_reexecuted": false,
    "source_hash": "8bcd571",
    "execution_start": 1655309282156,
    "execution_millis": 1,
    "deepnote_cell_type": "code",
    "deepnote_cell_height": 135
   },
   "outputs": [],
   "execution_count": 10
  },
  {
   "cell_type": "code",
   "source": "# Further extend areas_1 by adding data on your garage \n# Add the string \"garage\" and float 15.45\n# Name the resulting list areas_2\n\nareas_2 = areas_1 + ['garage', 15.45]\nareas_2",
   "metadata": {
    "cell_id": "4fca0c5c1b614499a1aa7ebe1e2ea39e",
    "tags": [],
    "deepnote_to_be_reexecuted": false,
    "source_hash": "e3a9c681",
    "execution_start": 1655309282157,
    "execution_millis": 4,
    "deepnote_cell_type": "code",
    "deepnote_cell_height": 457.6875,
    "deepnote_output_heights": [
     270.703125
    ]
   },
   "outputs": [
    {
     "output_type": "execute_result",
     "execution_count": 11,
     "data": {
      "text/plain": "['hallway',\n 11.25,\n 'kitchen',\n 18.0,\n 'chill zone',\n 20.2,\n 'bedroom',\n 10.75,\n 'bathroom',\n 10.5,\n 'poolhouse',\n 24.5,\n 'garage',\n 15.45]"
     },
     "metadata": {}
    }
   ],
   "execution_count": 11
  },
  {
   "cell_type": "markdown",
   "source": "### Delete list elements ",
   "metadata": {
    "cell_id": "a4ca1f82d1654907a823d5115aef12d9",
    "tags": [],
    "is_collapsed": false,
    "formattedRanges": [],
    "deepnote_cell_type": "text-cell-h3"
   }
  },
  {
   "cell_type": "code",
   "source": "# Assing areas_2 to areas_names\nareas_names = areas_2\n\n# Get the original areas_names list deleting the last four elements\ndel(areas_names[-4:])\nareas_names",
   "metadata": {
    "cell_id": "69b86660f5e8499b9e30a3f2e30ab26b",
    "tags": [],
    "deepnote_to_be_reexecuted": false,
    "source_hash": "5c13b750",
    "execution_start": 1655309282159,
    "execution_millis": 5,
    "deepnote_cell_type": "code",
    "deepnote_cell_height": 380.90625,
    "deepnote_output_heights": [
     193.921875
    ]
   },
   "outputs": [
    {
     "output_type": "execute_result",
     "execution_count": 12,
     "data": {
      "text/plain": "['hallway',\n 11.25,\n 'kitchen',\n 18.0,\n 'chill zone',\n 20.2,\n 'bedroom',\n 10.75,\n 'bathroom',\n 10.5]"
     },
     "metadata": {}
    }
   ],
   "execution_count": 12
  },
  {
   "cell_type": "markdown",
   "source": "### Inner workings of a list",
   "metadata": {
    "formattedRanges": [],
    "cell_id": "ae9655db258a4cfe958e418528551d03",
    "tags": [],
    "is_collapsed": false,
    "deepnote_cell_type": "text-cell-h3"
   }
  },
  {
   "cell_type": "markdown",
   "source": "When you save a list `x` in a variable, `x` really keeps a reference to the list saved in memmory. Then , if you copy `x` by `x = y` you are storing the a reference to the original list. If you make a change to `y`, the change is reflected also in `x`.",
   "metadata": {
    "cell_id": "db5b58c5b745414eb3e6cbc8289d441c",
    "tags": [],
    "deepnote_cell_type": "markdown",
    "deepnote_cell_height": 119.578125
   }
  },
  {
   "cell_type": "markdown",
   "source": "To avoid that behavior you can use the list() function or copy the list using bracket notation like this: `y = x[:]`.",
   "metadata": {
    "cell_id": "534a1142e18e4dd9a90da02f07dcd96f",
    "tags": [],
    "deepnote_cell_type": "markdown",
    "deepnote_cell_height": 74.78125
   }
  },
  {
   "cell_type": "code",
   "source": "# Make a copy of areas_2 using the sintax y = x\nareas_2_copy = areas_2\n\n# Change the last element of areas_2_copy to 10.0\n# Print both areas_2_copy and areas_2\nareas_2_copy[-1] = 10.0\ndisplay(areas_2_copy, areas_2)",
   "metadata": {
    "cell_id": "73d6368d64364c79944946162f9fb94c",
    "tags": [],
    "deepnote_to_be_reexecuted": false,
    "source_hash": "90a1247d",
    "execution_start": 1655309360367,
    "execution_millis": 664,
    "deepnote_cell_type": "code",
    "deepnote_cell_height": 623.828125,
    "deepnote_output_heights": [
     193.921875,
     193.921875
    ]
   },
   "outputs": [
    {
     "data": {
      "text/plain": "['hallway',\n 11.25,\n 'kitchen',\n 18.0,\n 'chill zone',\n 20.2,\n 'bedroom',\n 10.75,\n 'bathroom',\n 10.0]"
     },
     "metadata": {},
     "output_type": "display_data"
    },
    {
     "data": {
      "text/plain": "['hallway',\n 11.25,\n 'kitchen',\n 18.0,\n 'chill zone',\n 20.2,\n 'bedroom',\n 10.75,\n 'bathroom',\n 10.0]"
     },
     "metadata": {},
     "output_type": "display_data"
    }
   ],
   "execution_count": 14
  },
  {
   "cell_type": "code",
   "source": "# Make two copies of areas_2 using the sintax y = x[:] and the list() function\nareas_2_copy_1 = areas_2[:]\nareas_2_copy_2 = list(areas_2)\n\n# Change the last element of areas_2_copy_1 and areas_2_copy_2 to 10.5\n# Print the three lists \nareas_2_copy_1[-1] = 10.5\nareas_2_copy_2[-1] = 10.5\ndisplay(areas_2_copy_1, areas_2_copy_2, areas_2)",
   "metadata": {
    "cell_id": "048556825d9248b4a48a248f76d25902",
    "tags": [],
    "owner_user_id": "ef1985d3-6878-4f43-aa7a-40eb37e1c2a1",
    "deepnote_to_be_reexecuted": false,
    "source_hash": "3611eb82",
    "execution_start": 1655309545967,
    "execution_millis": 53,
    "deepnote_cell_type": "code",
    "deepnote_cell_height": 884.75,
    "deepnote_output_heights": [
     193.921875,
     193.921875,
     193.921875
    ]
   },
   "outputs": [
    {
     "data": {
      "text/plain": "['hallway',\n 11.25,\n 'kitchen',\n 18.0,\n 'chill zone',\n 20.2,\n 'bedroom',\n 10.75,\n 'bathroom',\n 10.5]"
     },
     "metadata": {},
     "output_type": "display_data"
    },
    {
     "data": {
      "text/plain": "['hallway',\n 11.25,\n 'kitchen',\n 18.0,\n 'chill zone',\n 20.2,\n 'bedroom',\n 10.75,\n 'bathroom',\n 10.5]"
     },
     "metadata": {},
     "output_type": "display_data"
    },
    {
     "data": {
      "text/plain": "['hallway',\n 11.25,\n 'kitchen',\n 18.0,\n 'chill zone',\n 20.2,\n 'bedroom',\n 10.75,\n 'bathroom',\n 10.0]"
     },
     "metadata": {},
     "output_type": "display_data"
    }
   ],
   "execution_count": 16
  },
  {
   "cell_type": "markdown",
   "source": "<a style='text-decoration:none;line-height:16px;display:flex;color:#5B5B62;padding:10px;justify-content:end;' href='https://deepnote.com?utm_source=created-in-deepnote-cell&projectId=5ae2da81-80d3-4fda-a7da-5d87dbb75a0f' target=\"_blank\">\n<img alt='Created in deepnote.com' style='display:inline;max-height:16px;margin:0px;margin-right:7.5px;' src='data:image/svg+xml;base64,PD94bWwgdmVyc2lvbj0iMS4wIiBlbmNvZGluZz0iVVRGLTgiPz4KPHN2ZyB3aWR0aD0iODBweCIgaGVpZ2h0PSI4MHB4IiB2aWV3Qm94PSIwIDAgODAgODAiIHZlcnNpb249IjEuMSIgeG1sbnM9Imh0dHA6Ly93d3cudzMub3JnLzIwMDAvc3ZnIiB4bWxuczp4bGluaz0iaHR0cDovL3d3dy53My5vcmcvMTk5OS94bGluayI+CiAgICA8IS0tIEdlbmVyYXRvcjogU2tldGNoIDU0LjEgKDc2NDkwKSAtIGh0dHBzOi8vc2tldGNoYXBwLmNvbSAtLT4KICAgIDx0aXRsZT5Hcm91cCAzPC90aXRsZT4KICAgIDxkZXNjPkNyZWF0ZWQgd2l0aCBTa2V0Y2guPC9kZXNjPgogICAgPGcgaWQ9IkxhbmRpbmciIHN0cm9rZT0ibm9uZSIgc3Ryb2tlLXdpZHRoPSIxIiBmaWxsPSJub25lIiBmaWxsLXJ1bGU9ImV2ZW5vZGQiPgogICAgICAgIDxnIGlkPSJBcnRib2FyZCIgdHJhbnNmb3JtPSJ0cmFuc2xhdGUoLTEyMzUuMDAwMDAwLCAtNzkuMDAwMDAwKSI+CiAgICAgICAgICAgIDxnIGlkPSJHcm91cC0zIiB0cmFuc2Zvcm09InRyYW5zbGF0ZSgxMjM1LjAwMDAwMCwgNzkuMDAwMDAwKSI+CiAgICAgICAgICAgICAgICA8cG9seWdvbiBpZD0iUGF0aC0yMCIgZmlsbD0iIzAyNjVCNCIgcG9pbnRzPSIyLjM3NjIzNzYyIDgwIDM4LjA0NzY2NjcgODAgNTcuODIxNzgyMiA3My44MDU3NTkyIDU3LjgyMTc4MjIgMzIuNzU5MjczOSAzOS4xNDAyMjc4IDMxLjY4MzE2ODMiPjwvcG9seWdvbj4KICAgICAgICAgICAgICAgIDxwYXRoIGQ9Ik0zNS4wMDc3MTgsODAgQzQyLjkwNjIwMDcsNzYuNDU0OTM1OCA0Ny41NjQ5MTY3LDcxLjU0MjI2NzEgNDguOTgzODY2LDY1LjI2MTk5MzkgQzUxLjExMjI4OTksNTUuODQxNTg0MiA0MS42NzcxNzk1LDQ5LjIxMjIyODQgMjUuNjIzOTg0Niw0OS4yMTIyMjg0IEMyNS40ODQ5Mjg5LDQ5LjEyNjg0NDggMjkuODI2MTI5Niw0My4yODM4MjQ4IDM4LjY0NzU4NjksMzEuNjgzMTY4MyBMNzIuODcxMjg3MSwzMi41NTQ0MjUgTDY1LjI4MDk3Myw2Ny42NzYzNDIxIEw1MS4xMTIyODk5LDc3LjM3NjE0NCBMMzUuMDA3NzE4LDgwIFoiIGlkPSJQYXRoLTIyIiBmaWxsPSIjMDAyODY4Ij48L3BhdGg+CiAgICAgICAgICAgICAgICA8cGF0aCBkPSJNMCwzNy43MzA0NDA1IEwyNy4xMTQ1MzcsMC4yNTcxMTE0MzYgQzYyLjM3MTUxMjMsLTEuOTkwNzE3MDEgODAsMTAuNTAwMzkyNyA4MCwzNy43MzA0NDA1IEM4MCw2NC45NjA0ODgyIDY0Ljc3NjUwMzgsNzkuMDUwMzQxNCAzNC4zMjk1MTEzLDgwIEM0Ny4wNTUzNDg5LDc3LjU2NzA4MDggNTMuNDE4MjY3Nyw3MC4zMTM2MTAzIDUzLjQxODI2NzcsNTguMjM5NTg4NSBDNTMuNDE4MjY3Nyw0MC4xMjg1NTU3IDM2LjMwMzk1NDQsMzcuNzMwNDQwNSAyNS4yMjc0MTcsMzcuNzMwNDQwNSBDMTcuODQzMDU4NiwzNy43MzA0NDA1IDkuNDMzOTE5NjYsMzcuNzMwNDQwNSAwLDM3LjczMDQ0MDUgWiIgaWQ9IlBhdGgtMTkiIGZpbGw9IiMzNzkzRUYiPjwvcGF0aD4KICAgICAgICAgICAgPC9nPgogICAgICAgIDwvZz4KICAgIDwvZz4KPC9zdmc+' > </img>\nCreated in <span style='font-weight:600;margin-left:4px;'>Deepnote</span></a>",
   "metadata": {
    "tags": [],
    "created_in_deepnote_cell": true,
    "deepnote_cell_type": "markdown"
   }
  }
 ],
 "nbformat": 4,
 "nbformat_minor": 2,
 "metadata": {
  "orig_nbformat": 2,
  "deepnote": {},
  "deepnote_notebook_id": "8ec4d9ef-e859-4e77-928c-975527542f90",
  "deepnote_execution_queue": []
 }
}