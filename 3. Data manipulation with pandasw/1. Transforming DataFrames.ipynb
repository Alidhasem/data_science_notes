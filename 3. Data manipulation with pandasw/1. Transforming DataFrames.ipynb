{
 "cells": [
  {
   "cell_type": "markdown",
   "source": "# Transforming DataFrames",
   "metadata": {
    "cell_id": "3d351a4f9fe94da89e36265a36a905b9",
    "tags": [],
    "is_collapsed": false,
    "owner_user_id": "ef1985d3-6878-4f43-aa7a-40eb37e1c2a1",
    "deepnote_cell_type": "text-cell-h1"
   }
  },
  {
   "cell_type": "markdown",
   "source": "The homelessness DataFrame contains estimates of homelessness in each U.S. state in 2018. \n\nThe individual column is the number of homeless individuals not part of a family with children. \n\nThe family_members column is the number of homeless individuals part of a family with children. \n\nThe state_pop column is the state's total population.",
   "metadata": {
    "cell_id": "be138557acb34fe187e069190d5f61bc",
    "tags": [],
    "deepnote_cell_type": "markdown",
    "deepnote_cell_height": 228.78125
   }
  },
  {
   "cell_type": "code",
   "metadata": {
    "cell_id": "fc98d8aaf01444a388fb93f5a024bd00",
    "tags": [],
    "deepnote_to_be_reexecuted": false,
    "source_hash": "9dcb0ca9",
    "execution_start": 1653945958117,
    "execution_millis": 5,
    "deepnote_cell_type": "code",
    "deepnote_cell_height": 117
   },
   "source": "import pandas as pd\n\nhomelessness = pd.read_csv('/work/data_science_notes/3. Data manipulation with pandasw/data/homelessness.csv', index_col=0)",
   "execution_count": null,
   "outputs": []
  },
  {
   "cell_type": "markdown",
   "source": "## Introducing DataFrames",
   "metadata": {
    "cell_id": "826881ae3a774d6f8979f32cd18dc5c0",
    "tags": [],
    "is_collapsed": false,
    "deepnote_cell_type": "text-cell-h2"
   }
  },
  {
   "cell_type": "markdown",
   "source": "### Inspecting a DataFrame\n",
   "metadata": {
    "cell_id": "635899266b2841ef9f743c124e5091d3",
    "tags": [],
    "is_collapsed": false,
    "deepnote_cell_type": "text-cell-h3"
   }
  },
  {
   "cell_type": "code",
   "metadata": {
    "cell_id": "02d271ed64294bcab0e16227150881e2",
    "tags": [],
    "deepnote_to_be_reexecuted": false,
    "source_hash": "78c59a2e",
    "execution_start": 1653945960763,
    "execution_millis": 25,
    "deepnote_cell_type": "code",
    "deepnote_cell_height": 426.078125
   },
   "source": "# Print the head of the homelessness DataFrame\nhomelessness.head()",
   "execution_count": null,
   "outputs": [
    {
     "output_type": "execute_result",
     "execution_count": 5,
     "data": {
      "application/vnd.deepnote.dataframe.v3+json": {
       "column_count": 5,
       "row_count": 5,
       "columns": [
        {
         "name": "region",
         "dtype": "object",
         "stats": {
          "unique_count": 4,
          "nan_count": 0,
          "categories": [
           {
            "name": "Pacific",
            "count": 2
           },
           {
            "name": "East South Central",
            "count": 1
           },
           {
            "name": "2 others",
            "count": 2
           }
          ]
         }
        },
        {
         "name": "state",
         "dtype": "object",
         "stats": {
          "unique_count": 5,
          "nan_count": 0,
          "categories": [
           {
            "name": "Alabama",
            "count": 1
           },
           {
            "name": "Alaska",
            "count": 1
           },
           {
            "name": "3 others",
            "count": 3
           }
          ]
         }
        },
        {
         "name": "individuals",
         "dtype": "float64",
         "stats": {
          "unique_count": 5,
          "nan_count": 0,
          "min": "1434.0",
          "max": "109008.0",
          "histogram": [
           {
            "bin_start": 1434,
            "bin_end": 12191.4,
            "count": 4
           },
           {
            "bin_start": 12191.4,
            "bin_end": 22948.8,
            "count": 0
           },
           {
            "bin_start": 22948.8,
            "bin_end": 33706.2,
            "count": 0
           },
           {
            "bin_start": 33706.2,
            "bin_end": 44463.6,
            "count": 0
           },
           {
            "bin_start": 44463.6,
            "bin_end": 55221,
            "count": 0
           },
           {
            "bin_start": 55221,
            "bin_end": 65978.4,
            "count": 0
           },
           {
            "bin_start": 65978.4,
            "bin_end": 76735.8,
            "count": 0
           },
           {
            "bin_start": 76735.8,
            "bin_end": 87493.2,
            "count": 0
           },
           {
            "bin_start": 87493.2,
            "bin_end": 98250.59999999999,
            "count": 0
           },
           {
            "bin_start": 98250.59999999999,
            "bin_end": 109008,
            "count": 1
           }
          ]
         }
        },
        {
         "name": "family_members",
         "dtype": "float64",
         "stats": {
          "unique_count": 5,
          "nan_count": 0,
          "min": "432.0",
          "max": "20964.0",
          "histogram": [
           {
            "bin_start": 432,
            "bin_end": 2485.2,
            "count": 3
           },
           {
            "bin_start": 2485.2,
            "bin_end": 4538.4,
            "count": 1
           },
           {
            "bin_start": 4538.4,
            "bin_end": 6591.599999999999,
            "count": 0
           },
           {
            "bin_start": 6591.599999999999,
            "bin_end": 8644.8,
            "count": 0
           },
           {
            "bin_start": 8644.8,
            "bin_end": 10698,
            "count": 0
           },
           {
            "bin_start": 10698,
            "bin_end": 12751.199999999999,
            "count": 0
           },
           {
            "bin_start": 12751.199999999999,
            "bin_end": 14804.399999999998,
            "count": 0
           },
           {
            "bin_start": 14804.399999999998,
            "bin_end": 16857.6,
            "count": 0
           },
           {
            "bin_start": 16857.6,
            "bin_end": 18910.8,
            "count": 0
           },
           {
            "bin_start": 18910.8,
            "bin_end": 20964,
            "count": 1
           }
          ]
         }
        },
        {
         "name": "state_pop",
         "dtype": "int64",
         "stats": {
          "unique_count": 5,
          "nan_count": 0,
          "min": "735139",
          "max": "39461588",
          "histogram": [
           {
            "bin_start": 735139,
            "bin_end": 4607783.9,
            "count": 2
           },
           {
            "bin_start": 4607783.9,
            "bin_end": 8480428.8,
            "count": 2
           },
           {
            "bin_start": 8480428.8,
            "bin_end": 12353073.7,
            "count": 0
           },
           {
            "bin_start": 12353073.7,
            "bin_end": 16225718.6,
            "count": 0
           },
           {
            "bin_start": 16225718.6,
            "bin_end": 20098363.5,
            "count": 0
           },
           {
            "bin_start": 20098363.5,
            "bin_end": 23971008.4,
            "count": 0
           },
           {
            "bin_start": 23971008.4,
            "bin_end": 27843653.3,
            "count": 0
           },
           {
            "bin_start": 27843653.3,
            "bin_end": 31716298.2,
            "count": 0
           },
           {
            "bin_start": 31716298.2,
            "bin_end": 35588943.1,
            "count": 0
           },
           {
            "bin_start": 35588943.1,
            "bin_end": 39461588,
            "count": 1
           }
          ]
         }
        },
        {
         "name": "_deepnote_index_column",
         "dtype": "int64"
        }
       ],
       "rows": [
        {
         "region": "East South Central",
         "state": "Alabama",
         "individuals": 2570,
         "family_members": 864,
         "state_pop": 4887681,
         "_deepnote_index_column": 0
        },
        {
         "region": "Pacific",
         "state": "Alaska",
         "individuals": 1434,
         "family_members": 582,
         "state_pop": 735139,
         "_deepnote_index_column": 1
        },
        {
         "region": "Mountain",
         "state": "Arizona",
         "individuals": 7259,
         "family_members": 2606,
         "state_pop": 7158024,
         "_deepnote_index_column": 2
        },
        {
         "region": "West South Central",
         "state": "Arkansas",
         "individuals": 2280,
         "family_members": 432,
         "state_pop": 3009733,
         "_deepnote_index_column": 3
        },
        {
         "region": "Pacific",
         "state": "California",
         "individuals": 109008,
         "family_members": 20964,
         "state_pop": 39461588,
         "_deepnote_index_column": 4
        }
       ]
      },
      "text/plain": "               region       state  individuals  family_members  state_pop\n0  East South Central     Alabama       2570.0           864.0    4887681\n1             Pacific      Alaska       1434.0           582.0     735139\n2            Mountain     Arizona       7259.0          2606.0    7158024\n3  West South Central    Arkansas       2280.0           432.0    3009733\n4             Pacific  California     109008.0         20964.0   39461588",
      "text/html": "<div>\n<style scoped>\n    .dataframe tbody tr th:only-of-type {\n        vertical-align: middle;\n    }\n\n    .dataframe tbody tr th {\n        vertical-align: top;\n    }\n\n    .dataframe thead th {\n        text-align: right;\n    }\n</style>\n<table border=\"1\" class=\"dataframe\">\n  <thead>\n    <tr style=\"text-align: right;\">\n      <th></th>\n      <th>region</th>\n      <th>state</th>\n      <th>individuals</th>\n      <th>family_members</th>\n      <th>state_pop</th>\n    </tr>\n  </thead>\n  <tbody>\n    <tr>\n      <th>0</th>\n      <td>East South Central</td>\n      <td>Alabama</td>\n      <td>2570.0</td>\n      <td>864.0</td>\n      <td>4887681</td>\n    </tr>\n    <tr>\n      <th>1</th>\n      <td>Pacific</td>\n      <td>Alaska</td>\n      <td>1434.0</td>\n      <td>582.0</td>\n      <td>735139</td>\n    </tr>\n    <tr>\n      <th>2</th>\n      <td>Mountain</td>\n      <td>Arizona</td>\n      <td>7259.0</td>\n      <td>2606.0</td>\n      <td>7158024</td>\n    </tr>\n    <tr>\n      <th>3</th>\n      <td>West South Central</td>\n      <td>Arkansas</td>\n      <td>2280.0</td>\n      <td>432.0</td>\n      <td>3009733</td>\n    </tr>\n    <tr>\n      <th>4</th>\n      <td>Pacific</td>\n      <td>California</td>\n      <td>109008.0</td>\n      <td>20964.0</td>\n      <td>39461588</td>\n    </tr>\n  </tbody>\n</table>\n</div>"
     },
     "metadata": {}
    }
   ]
  },
  {
   "cell_type": "code",
   "metadata": {
    "cell_id": "64a34d01ccfe4db691ccfe8fe6c6d055",
    "tags": [],
    "deepnote_to_be_reexecuted": false,
    "source_hash": "2f707b30",
    "execution_start": 1653945988509,
    "execution_millis": 14,
    "deepnote_cell_type": "code",
    "deepnote_cell_height": 349.03125
   },
   "source": "# Print information about the column types and missing values in homelessness\nhomelessness.info()",
   "execution_count": null,
   "outputs": [
    {
     "name": "stdout",
     "text": "<class 'pandas.core.frame.DataFrame'>\nInt64Index: 51 entries, 0 to 50\nData columns (total 5 columns):\n #   Column          Non-Null Count  Dtype  \n---  ------          --------------  -----  \n 0   region          51 non-null     object \n 1   state           51 non-null     object \n 2   individuals     51 non-null     float64\n 3   family_members  51 non-null     float64\n 4   state_pop       51 non-null     int64  \ndtypes: float64(2), int64(1), object(2)\nmemory usage: 4.4+ KB\n",
     "output_type": "stream"
    }
   ]
  },
  {
   "cell_type": "code",
   "metadata": {
    "cell_id": "99c1aded94b440d59b93fd456787f096",
    "tags": [],
    "deepnote_to_be_reexecuted": false,
    "source_hash": "d98cc8b7",
    "execution_start": 1653946161851,
    "execution_millis": 323,
    "deepnote_cell_type": "code",
    "deepnote_cell_height": 136.171875
   },
   "source": "# Print the number of rows and columns in homelessness\nhomelessness.shape",
   "execution_count": null,
   "outputs": [
    {
     "output_type": "execute_result",
     "execution_count": 7,
     "data": {
      "text/plain": "(51, 5)"
     },
     "metadata": {}
    }
   ]
  },
  {
   "cell_type": "code",
   "metadata": {
    "cell_id": "4b33302ccb36484da74922f59037a23a",
    "tags": [],
    "deepnote_to_be_reexecuted": false,
    "source_hash": "72ee8b55",
    "execution_start": 1653946173019,
    "execution_millis": 29,
    "deepnote_cell_type": "code",
    "deepnote_cell_height": 536
   },
   "source": "# Print some summary statistics that describe the homelessness DataFrame\nhomelessness.describe()",
   "execution_count": null,
   "outputs": [
    {
     "output_type": "execute_result",
     "execution_count": 8,
     "data": {
      "application/vnd.deepnote.dataframe.v3+json": {
       "column_count": 3,
       "row_count": 8,
       "columns": [
        {
         "name": "individuals",
         "dtype": "float64",
         "stats": {
          "unique_count": 8,
          "nan_count": 0,
          "min": "51.0",
          "max": "109008.0",
          "histogram": [
           {
            "bin_start": 51,
            "bin_end": 10946.7,
            "count": 6
           },
           {
            "bin_start": 10946.7,
            "bin_end": 21842.4,
            "count": 1
           },
           {
            "bin_start": 21842.4,
            "bin_end": 32738.100000000002,
            "count": 0
           },
           {
            "bin_start": 32738.100000000002,
            "bin_end": 43633.8,
            "count": 0
           },
           {
            "bin_start": 43633.8,
            "bin_end": 54529.5,
            "count": 0
           },
           {
            "bin_start": 54529.5,
            "bin_end": 65425.200000000004,
            "count": 0
           },
           {
            "bin_start": 65425.200000000004,
            "bin_end": 76320.90000000001,
            "count": 0
           },
           {
            "bin_start": 76320.90000000001,
            "bin_end": 87216.6,
            "count": 0
           },
           {
            "bin_start": 87216.6,
            "bin_end": 98112.3,
            "count": 0
           },
           {
            "bin_start": 98112.3,
            "bin_end": 109008,
            "count": 1
           }
          ]
         }
        },
        {
         "name": "family_members",
         "dtype": "float64",
         "stats": {
          "unique_count": 8,
          "nan_count": 0,
          "min": "51.0",
          "max": "52070.0",
          "histogram": [
           {
            "bin_start": 51,
            "bin_end": 5252.9,
            "count": 6
           },
           {
            "bin_start": 5252.9,
            "bin_end": 10454.8,
            "count": 1
           },
           {
            "bin_start": 10454.8,
            "bin_end": 15656.699999999999,
            "count": 0
           },
           {
            "bin_start": 15656.699999999999,
            "bin_end": 20858.6,
            "count": 0
           },
           {
            "bin_start": 20858.6,
            "bin_end": 26060.5,
            "count": 0
           },
           {
            "bin_start": 26060.5,
            "bin_end": 31262.399999999998,
            "count": 0
           },
           {
            "bin_start": 31262.399999999998,
            "bin_end": 36464.299999999996,
            "count": 0
           },
           {
            "bin_start": 36464.299999999996,
            "bin_end": 41666.2,
            "count": 0
           },
           {
            "bin_start": 41666.2,
            "bin_end": 46868.1,
            "count": 0
           },
           {
            "bin_start": 46868.1,
            "bin_end": 52070,
            "count": 1
           }
          ]
         }
        },
        {
         "name": "state_pop",
         "dtype": "float64",
         "stats": {
          "unique_count": 8,
          "nan_count": 0,
          "min": "51.0",
          "max": "39461588.0",
          "histogram": [
           {
            "bin_start": 51,
            "bin_end": 3946204.7,
            "count": 3
           },
           {
            "bin_start": 3946204.7,
            "bin_end": 7892358.4,
            "count": 4
           },
           {
            "bin_start": 7892358.4,
            "bin_end": 11838512.100000001,
            "count": 0
           },
           {
            "bin_start": 11838512.100000001,
            "bin_end": 15784665.8,
            "count": 0
           },
           {
            "bin_start": 15784665.8,
            "bin_end": 19730819.5,
            "count": 0
           },
           {
            "bin_start": 19730819.5,
            "bin_end": 23676973.200000003,
            "count": 0
           },
           {
            "bin_start": 23676973.200000003,
            "bin_end": 27623126.900000002,
            "count": 0
           },
           {
            "bin_start": 27623126.900000002,
            "bin_end": 31569280.6,
            "count": 0
           },
           {
            "bin_start": 31569280.6,
            "bin_end": 35515434.300000004,
            "count": 0
           },
           {
            "bin_start": 35515434.300000004,
            "bin_end": 39461588,
            "count": 1
           }
          ]
         }
        },
        {
         "name": "_deepnote_index_column",
         "dtype": "object"
        }
       ],
       "rows": [
        {
         "individuals": 51,
         "family_members": 51,
         "state_pop": 51,
         "_deepnote_index_column": "count"
        },
        {
         "individuals": 7225.78431372549,
         "family_members": 3504.8823529411766,
         "state_pop": 6405637.274509804,
         "_deepnote_index_column": "mean"
        },
        {
         "individuals": 15991.025083231812,
         "family_members": 7805.411811421762,
         "state_pop": 7327257.808678786,
         "_deepnote_index_column": "std"
        },
        {
         "individuals": 434,
         "family_members": 75,
         "state_pop": 577601,
         "_deepnote_index_column": "min"
        },
        {
         "individuals": 1446.5,
         "family_members": 592,
         "state_pop": 1777413.5,
         "_deepnote_index_column": "25%"
        },
        {
         "individuals": 3082,
         "family_members": 1482,
         "state_pop": 4461153,
         "_deepnote_index_column": "50%"
        },
        {
         "individuals": 6781.5,
         "family_members": 3196,
         "state_pop": 7340946.5,
         "_deepnote_index_column": "75%"
        },
        {
         "individuals": 109008,
         "family_members": 52070,
         "state_pop": 39461588,
         "_deepnote_index_column": "max"
        }
       ]
      },
      "text/plain": "         individuals  family_members     state_pop\ncount      51.000000       51.000000  5.100000e+01\nmean     7225.784314     3504.882353  6.405637e+06\nstd     15991.025083     7805.411811  7.327258e+06\nmin       434.000000       75.000000  5.776010e+05\n25%      1446.500000      592.000000  1.777414e+06\n50%      3082.000000     1482.000000  4.461153e+06\n75%      6781.500000     3196.000000  7.340946e+06\nmax    109008.000000    52070.000000  3.946159e+07",
      "text/html": "<div>\n<style scoped>\n    .dataframe tbody tr th:only-of-type {\n        vertical-align: middle;\n    }\n\n    .dataframe tbody tr th {\n        vertical-align: top;\n    }\n\n    .dataframe thead th {\n        text-align: right;\n    }\n</style>\n<table border=\"1\" class=\"dataframe\">\n  <thead>\n    <tr style=\"text-align: right;\">\n      <th></th>\n      <th>individuals</th>\n      <th>family_members</th>\n      <th>state_pop</th>\n    </tr>\n  </thead>\n  <tbody>\n    <tr>\n      <th>count</th>\n      <td>51.000000</td>\n      <td>51.000000</td>\n      <td>5.100000e+01</td>\n    </tr>\n    <tr>\n      <th>mean</th>\n      <td>7225.784314</td>\n      <td>3504.882353</td>\n      <td>6.405637e+06</td>\n    </tr>\n    <tr>\n      <th>std</th>\n      <td>15991.025083</td>\n      <td>7805.411811</td>\n      <td>7.327258e+06</td>\n    </tr>\n    <tr>\n      <th>min</th>\n      <td>434.000000</td>\n      <td>75.000000</td>\n      <td>5.776010e+05</td>\n    </tr>\n    <tr>\n      <th>25%</th>\n      <td>1446.500000</td>\n      <td>592.000000</td>\n      <td>1.777414e+06</td>\n    </tr>\n    <tr>\n      <th>50%</th>\n      <td>3082.000000</td>\n      <td>1482.000000</td>\n      <td>4.461153e+06</td>\n    </tr>\n    <tr>\n      <th>75%</th>\n      <td>6781.500000</td>\n      <td>3196.000000</td>\n      <td>7.340946e+06</td>\n    </tr>\n    <tr>\n      <th>max</th>\n      <td>109008.000000</td>\n      <td>52070.000000</td>\n      <td>3.946159e+07</td>\n    </tr>\n  </tbody>\n</table>\n</div>"
     },
     "metadata": {}
    }
   ]
  },
  {
   "cell_type": "markdown",
   "source": "### Parts of a DataFrame\n",
   "metadata": {
    "cell_id": "ffe66b4618e84fa8bf95419aef27a088",
    "tags": [],
    "is_collapsed": false,
    "deepnote_cell_type": "text-cell-h3"
   }
  },
  {
   "cell_type": "code",
   "metadata": {
    "cell_id": "75b1352c8ab94626bee19df15fe8a7b1",
    "tags": [],
    "deepnote_to_be_reexecuted": false,
    "source_hash": "d01e5996",
    "execution_start": 1653946213667,
    "execution_millis": 4,
    "deepnote_cell_type": "code",
    "deepnote_cell_height": 726,
    "deepnote_output_heights": [
     611
    ]
   },
   "source": "# Print a 2D NumPy array of the values in homelessness\nhomelessness.values",
   "execution_count": null,
   "outputs": [
    {
     "output_type": "execute_result",
     "execution_count": 9,
     "data": {
      "text/plain": "array([['East South Central', 'Alabama', 2570.0, 864.0, 4887681],\n       ['Pacific', 'Alaska', 1434.0, 582.0, 735139],\n       ['Mountain', 'Arizona', 7259.0, 2606.0, 7158024],\n       ['West South Central', 'Arkansas', 2280.0, 432.0, 3009733],\n       ['Pacific', 'California', 109008.0, 20964.0, 39461588],\n       ['Mountain', 'Colorado', 7607.0, 3250.0, 5691287],\n       ['New England', 'Connecticut', 2280.0, 1696.0, 3571520],\n       ['South Atlantic', 'Delaware', 708.0, 374.0, 965479],\n       ['South Atlantic', 'District of Columbia', 3770.0, 3134.0, 701547],\n       ['South Atlantic', 'Florida', 21443.0, 9587.0, 21244317],\n       ['South Atlantic', 'Georgia', 6943.0, 2556.0, 10511131],\n       ['Pacific', 'Hawaii', 4131.0, 2399.0, 1420593],\n       ['Mountain', 'Idaho', 1297.0, 715.0, 1750536],\n       ['East North Central', 'Illinois', 6752.0, 3891.0, 12723071],\n       ['East North Central', 'Indiana', 3776.0, 1482.0, 6695497],\n       ['West North Central', 'Iowa', 1711.0, 1038.0, 3148618],\n       ['West North Central', 'Kansas', 1443.0, 773.0, 2911359],\n       ['East South Central', 'Kentucky', 2735.0, 953.0, 4461153],\n       ['West South Central', 'Louisiana', 2540.0, 519.0, 4659690],\n       ['New England', 'Maine', 1450.0, 1066.0, 1339057],\n       ['South Atlantic', 'Maryland', 4914.0, 2230.0, 6035802],\n       ['New England', 'Massachusetts', 6811.0, 13257.0, 6882635],\n       ['East North Central', 'Michigan', 5209.0, 3142.0, 9984072],\n       ['West North Central', 'Minnesota', 3993.0, 3250.0, 5606249],\n       ['East South Central', 'Mississippi', 1024.0, 328.0, 2981020],\n       ['West North Central', 'Missouri', 3776.0, 2107.0, 6121623],\n       ['Mountain', 'Montana', 983.0, 422.0, 1060665],\n       ['West North Central', 'Nebraska', 1745.0, 676.0, 1925614],\n       ['Mountain', 'Nevada', 7058.0, 486.0, 3027341],\n       ['New England', 'New Hampshire', 835.0, 615.0, 1353465],\n       ['Mid-Atlantic', 'New Jersey', 6048.0, 3350.0, 8886025],\n       ['Mountain', 'New Mexico', 1949.0, 602.0, 2092741],\n       ['Mid-Atlantic', 'New York', 39827.0, 52070.0, 19530351],\n       ['South Atlantic', 'North Carolina', 6451.0, 2817.0, 10381615],\n       ['West North Central', 'North Dakota', 467.0, 75.0, 758080],\n       ['East North Central', 'Ohio', 6929.0, 3320.0, 11676341],\n       ['West South Central', 'Oklahoma', 2823.0, 1048.0, 3940235],\n       ['Pacific', 'Oregon', 11139.0, 3337.0, 4181886],\n       ['Mid-Atlantic', 'Pennsylvania', 8163.0, 5349.0, 12800922],\n       ['New England', 'Rhode Island', 747.0, 354.0, 1058287],\n       ['South Atlantic', 'South Carolina', 3082.0, 851.0, 5084156],\n       ['West North Central', 'South Dakota', 836.0, 323.0, 878698],\n       ['East South Central', 'Tennessee', 6139.0, 1744.0, 6771631],\n       ['West South Central', 'Texas', 19199.0, 6111.0, 28628666],\n       ['Mountain', 'Utah', 1904.0, 972.0, 3153550],\n       ['New England', 'Vermont', 780.0, 511.0, 624358],\n       ['South Atlantic', 'Virginia', 3928.0, 2047.0, 8501286],\n       ['Pacific', 'Washington', 16424.0, 5880.0, 7523869],\n       ['South Atlantic', 'West Virginia', 1021.0, 222.0, 1804291],\n       ['East North Central', 'Wisconsin', 2740.0, 2167.0, 5807406],\n       ['Mountain', 'Wyoming', 434.0, 205.0, 577601]], dtype=object)"
     },
     "metadata": {}
    }
   ]
  },
  {
   "cell_type": "code",
   "metadata": {
    "cell_id": "7ad03fd835c94f288c55e1bc3c81513e",
    "tags": [],
    "deepnote_to_be_reexecuted": false,
    "source_hash": "7ffad68c",
    "execution_start": 1653946229966,
    "execution_millis": 5,
    "deepnote_cell_type": "code",
    "deepnote_cell_height": 136.171875,
    "deepnote_output_heights": [
     21.1875
    ]
   },
   "source": "# Print the column names of homelessness\nhomelessness.columns",
   "execution_count": null,
   "outputs": [
    {
     "output_type": "execute_result",
     "execution_count": 10,
     "data": {
      "text/plain": "Index(['region', 'state', 'individuals', 'family_members', 'state_pop'], dtype='object')"
     },
     "metadata": {}
    }
   ]
  },
  {
   "cell_type": "code",
   "metadata": {
    "cell_id": "3bebdc7a373241fa8e153bc28dfaadff",
    "tags": [],
    "deepnote_to_be_reexecuted": false,
    "source_hash": "a3af91fd",
    "execution_start": 1653946247728,
    "execution_millis": 485,
    "deepnote_cell_type": "code",
    "deepnote_cell_height": 212.9375,
    "deepnote_output_heights": [
     97.953125
    ]
   },
   "source": "# Print the index of homelessness\nhomelessness.index",
   "execution_count": null,
   "outputs": [
    {
     "output_type": "execute_result",
     "execution_count": 11,
     "data": {
      "text/plain": "Int64Index([ 0,  1,  2,  3,  4,  5,  6,  7,  8,  9, 10, 11, 12, 13, 14, 15, 16,\n            17, 18, 19, 20, 21, 22, 23, 24, 25, 26, 27, 28, 29, 30, 31, 32, 33,\n            34, 35, 36, 37, 38, 39, 40, 41, 42, 43, 44, 45, 46, 47, 48, 49,\n            50],\n           dtype='int64')"
     },
     "metadata": {}
    }
   ]
  },
  {
   "cell_type": "markdown",
   "source": "## Sorting and subsetting\n",
   "metadata": {
    "cell_id": "df7f81c178694c5b8ab095fcfe83ab41",
    "tags": [],
    "is_collapsed": false,
    "deepnote_cell_type": "text-cell-h2"
   }
  },
  {
   "cell_type": "markdown",
   "source": "### Sorting rows\n",
   "metadata": {
    "cell_id": "e5c8ec5db289479fad5273a55d17864f",
    "tags": [],
    "is_collapsed": false,
    "deepnote_cell_type": "text-cell-h3"
   }
  },
  {
   "cell_type": "code",
   "metadata": {
    "cell_id": "4b50a2a718db4abca3170c9feef1723e",
    "tags": [],
    "deepnote_to_be_reexecuted": false,
    "source_hash": "cae3c168",
    "execution_start": 1653946389895,
    "execution_millis": 22,
    "deepnote_cell_type": "code",
    "deepnote_cell_height": 480.078125
   },
   "source": "# Sort homelessness by the number of homeless individuals, from smallest to largest, and save this as homelessness_ind\n# Print the head of the sorted DataFrame\n\nhomelessness_ind = homelessness.sort_values('individuals').head()\nhomelessness_ind.head()",
   "execution_count": null,
   "outputs": [
    {
     "output_type": "execute_result",
     "execution_count": 15,
     "data": {
      "application/vnd.deepnote.dataframe.v3+json": {
       "column_count": 5,
       "row_count": 5,
       "columns": [
        {
         "name": "region",
         "dtype": "object",
         "stats": {
          "unique_count": 4,
          "nan_count": 0,
          "categories": [
           {
            "name": "New England",
            "count": 2
           },
           {
            "name": "Mountain",
            "count": 1
           },
           {
            "name": "2 others",
            "count": 2
           }
          ]
         }
        },
        {
         "name": "state",
         "dtype": "object",
         "stats": {
          "unique_count": 5,
          "nan_count": 0,
          "categories": [
           {
            "name": "Wyoming",
            "count": 1
           },
           {
            "name": "North Dakota",
            "count": 1
           },
           {
            "name": "3 others",
            "count": 3
           }
          ]
         }
        },
        {
         "name": "individuals",
         "dtype": "float64",
         "stats": {
          "unique_count": 5,
          "nan_count": 0,
          "min": "434.0",
          "max": "780.0",
          "histogram": [
           {
            "bin_start": 434,
            "bin_end": 468.6,
            "count": 2
           },
           {
            "bin_start": 468.6,
            "bin_end": 503.2,
            "count": 0
           },
           {
            "bin_start": 503.2,
            "bin_end": 537.8,
            "count": 0
           },
           {
            "bin_start": 537.8,
            "bin_end": 572.4,
            "count": 0
           },
           {
            "bin_start": 572.4,
            "bin_end": 607,
            "count": 0
           },
           {
            "bin_start": 607,
            "bin_end": 641.6,
            "count": 0
           },
           {
            "bin_start": 641.6,
            "bin_end": 676.2,
            "count": 0
           },
           {
            "bin_start": 676.2,
            "bin_end": 710.8,
            "count": 1
           },
           {
            "bin_start": 710.8,
            "bin_end": 745.4000000000001,
            "count": 0
           },
           {
            "bin_start": 745.4000000000001,
            "bin_end": 780,
            "count": 2
           }
          ]
         }
        },
        {
         "name": "family_members",
         "dtype": "float64",
         "stats": {
          "unique_count": 5,
          "nan_count": 0,
          "min": "75.0",
          "max": "511.0",
          "histogram": [
           {
            "bin_start": 75,
            "bin_end": 118.6,
            "count": 1
           },
           {
            "bin_start": 118.6,
            "bin_end": 162.2,
            "count": 0
           },
           {
            "bin_start": 162.2,
            "bin_end": 205.8,
            "count": 1
           },
           {
            "bin_start": 205.8,
            "bin_end": 249.4,
            "count": 0
           },
           {
            "bin_start": 249.4,
            "bin_end": 293,
            "count": 0
           },
           {
            "bin_start": 293,
            "bin_end": 336.6,
            "count": 0
           },
           {
            "bin_start": 336.6,
            "bin_end": 380.2,
            "count": 2
           },
           {
            "bin_start": 380.2,
            "bin_end": 423.8,
            "count": 0
           },
           {
            "bin_start": 423.8,
            "bin_end": 467.40000000000003,
            "count": 0
           },
           {
            "bin_start": 467.40000000000003,
            "bin_end": 511,
            "count": 1
           }
          ]
         }
        },
        {
         "name": "state_pop",
         "dtype": "int64",
         "stats": {
          "unique_count": 5,
          "nan_count": 0,
          "min": "577601",
          "max": "1058287",
          "histogram": [
           {
            "bin_start": 577601,
            "bin_end": 625669.6,
            "count": 2
           },
           {
            "bin_start": 625669.6,
            "bin_end": 673738.2,
            "count": 0
           },
           {
            "bin_start": 673738.2,
            "bin_end": 721806.8,
            "count": 0
           },
           {
            "bin_start": 721806.8,
            "bin_end": 769875.4,
            "count": 1
           },
           {
            "bin_start": 769875.4,
            "bin_end": 817944,
            "count": 0
           },
           {
            "bin_start": 817944,
            "bin_end": 866012.6,
            "count": 0
           },
           {
            "bin_start": 866012.6,
            "bin_end": 914081.2,
            "count": 0
           },
           {
            "bin_start": 914081.2,
            "bin_end": 962149.8,
            "count": 0
           },
           {
            "bin_start": 962149.8,
            "bin_end": 1010218.3999999999,
            "count": 1
           },
           {
            "bin_start": 1010218.3999999999,
            "bin_end": 1058287,
            "count": 1
           }
          ]
         }
        },
        {
         "name": "_deepnote_index_column",
         "dtype": "int64"
        }
       ],
       "rows": [
        {
         "region": "Mountain",
         "state": "Wyoming",
         "individuals": 434,
         "family_members": 205,
         "state_pop": 577601,
         "_deepnote_index_column": 50
        },
        {
         "region": "West North Central",
         "state": "North Dakota",
         "individuals": 467,
         "family_members": 75,
         "state_pop": 758080,
         "_deepnote_index_column": 34
        },
        {
         "region": "South Atlantic",
         "state": "Delaware",
         "individuals": 708,
         "family_members": 374,
         "state_pop": 965479,
         "_deepnote_index_column": 7
        },
        {
         "region": "New England",
         "state": "Rhode Island",
         "individuals": 747,
         "family_members": 354,
         "state_pop": 1058287,
         "_deepnote_index_column": 39
        },
        {
         "region": "New England",
         "state": "Vermont",
         "individuals": 780,
         "family_members": 511,
         "state_pop": 624358,
         "_deepnote_index_column": 45
        }
       ]
      },
      "text/plain": "                region         state  individuals  family_members  state_pop\n50            Mountain       Wyoming        434.0           205.0     577601\n34  West North Central  North Dakota        467.0            75.0     758080\n7       South Atlantic      Delaware        708.0           374.0     965479\n39         New England  Rhode Island        747.0           354.0    1058287\n45         New England       Vermont        780.0           511.0     624358",
      "text/html": "<div>\n<style scoped>\n    .dataframe tbody tr th:only-of-type {\n        vertical-align: middle;\n    }\n\n    .dataframe tbody tr th {\n        vertical-align: top;\n    }\n\n    .dataframe thead th {\n        text-align: right;\n    }\n</style>\n<table border=\"1\" class=\"dataframe\">\n  <thead>\n    <tr style=\"text-align: right;\">\n      <th></th>\n      <th>region</th>\n      <th>state</th>\n      <th>individuals</th>\n      <th>family_members</th>\n      <th>state_pop</th>\n    </tr>\n  </thead>\n  <tbody>\n    <tr>\n      <th>50</th>\n      <td>Mountain</td>\n      <td>Wyoming</td>\n      <td>434.0</td>\n      <td>205.0</td>\n      <td>577601</td>\n    </tr>\n    <tr>\n      <th>34</th>\n      <td>West North Central</td>\n      <td>North Dakota</td>\n      <td>467.0</td>\n      <td>75.0</td>\n      <td>758080</td>\n    </tr>\n    <tr>\n      <th>7</th>\n      <td>South Atlantic</td>\n      <td>Delaware</td>\n      <td>708.0</td>\n      <td>374.0</td>\n      <td>965479</td>\n    </tr>\n    <tr>\n      <th>39</th>\n      <td>New England</td>\n      <td>Rhode Island</td>\n      <td>747.0</td>\n      <td>354.0</td>\n      <td>1058287</td>\n    </tr>\n    <tr>\n      <th>45</th>\n      <td>New England</td>\n      <td>Vermont</td>\n      <td>780.0</td>\n      <td>511.0</td>\n      <td>624358</td>\n    </tr>\n  </tbody>\n</table>\n</div>"
     },
     "metadata": {}
    }
   ]
  },
  {
   "cell_type": "code",
   "metadata": {
    "cell_id": "a4eb939fc7af469d9cfc9b019055a69a",
    "tags": [],
    "deepnote_to_be_reexecuted": false,
    "source_hash": "7b1b5b01",
    "execution_start": 1653946450889,
    "execution_millis": 186,
    "deepnote_cell_type": "code",
    "deepnote_cell_height": 462.078125
   },
   "source": "# Sort homelessness by the number of homeless family_members in descending order, and save this as homelessness_fam\n# Print the head of the sorted DataFrame\nhomelessness_fam = homelessness.sort_values('family_members', ascending=False)\nhomelessness_fam.head()",
   "execution_count": null,
   "outputs": [
    {
     "output_type": "execute_result",
     "execution_count": 16,
     "data": {
      "application/vnd.deepnote.dataframe.v3+json": {
       "column_count": 5,
       "row_count": 5,
       "columns": [
        {
         "name": "region",
         "dtype": "object",
         "stats": {
          "unique_count": 5,
          "nan_count": 0,
          "categories": [
           {
            "name": "Mid-Atlantic",
            "count": 1
           },
           {
            "name": "Pacific",
            "count": 1
           },
           {
            "name": "3 others",
            "count": 3
           }
          ]
         }
        },
        {
         "name": "state",
         "dtype": "object",
         "stats": {
          "unique_count": 5,
          "nan_count": 0,
          "categories": [
           {
            "name": "New York",
            "count": 1
           },
           {
            "name": "California",
            "count": 1
           },
           {
            "name": "3 others",
            "count": 3
           }
          ]
         }
        },
        {
         "name": "individuals",
         "dtype": "float64",
         "stats": {
          "unique_count": 5,
          "nan_count": 0,
          "min": "6811.0",
          "max": "109008.0",
          "histogram": [
           {
            "bin_start": 6811,
            "bin_end": 17030.7,
            "count": 1
           },
           {
            "bin_start": 17030.7,
            "bin_end": 27250.4,
            "count": 2
           },
           {
            "bin_start": 27250.4,
            "bin_end": 37470.100000000006,
            "count": 0
           },
           {
            "bin_start": 37470.100000000006,
            "bin_end": 47689.8,
            "count": 1
           },
           {
            "bin_start": 47689.8,
            "bin_end": 57909.5,
            "count": 0
           },
           {
            "bin_start": 57909.5,
            "bin_end": 68129.20000000001,
            "count": 0
           },
           {
            "bin_start": 68129.20000000001,
            "bin_end": 78348.90000000001,
            "count": 0
           },
           {
            "bin_start": 78348.90000000001,
            "bin_end": 88568.6,
            "count": 0
           },
           {
            "bin_start": 88568.6,
            "bin_end": 98788.3,
            "count": 0
           },
           {
            "bin_start": 98788.3,
            "bin_end": 109008,
            "count": 1
           }
          ]
         }
        },
        {
         "name": "family_members",
         "dtype": "float64",
         "stats": {
          "unique_count": 5,
          "nan_count": 0,
          "min": "6111.0",
          "max": "52070.0",
          "histogram": [
           {
            "bin_start": 6111,
            "bin_end": 10706.9,
            "count": 2
           },
           {
            "bin_start": 10706.9,
            "bin_end": 15302.8,
            "count": 1
           },
           {
            "bin_start": 15302.8,
            "bin_end": 19898.699999999997,
            "count": 0
           },
           {
            "bin_start": 19898.699999999997,
            "bin_end": 24494.6,
            "count": 1
           },
           {
            "bin_start": 24494.6,
            "bin_end": 29090.5,
            "count": 0
           },
           {
            "bin_start": 29090.5,
            "bin_end": 33686.399999999994,
            "count": 0
           },
           {
            "bin_start": 33686.399999999994,
            "bin_end": 38282.299999999996,
            "count": 0
           },
           {
            "bin_start": 38282.299999999996,
            "bin_end": 42878.2,
            "count": 0
           },
           {
            "bin_start": 42878.2,
            "bin_end": 47474.1,
            "count": 0
           },
           {
            "bin_start": 47474.1,
            "bin_end": 52070,
            "count": 1
           }
          ]
         }
        },
        {
         "name": "state_pop",
         "dtype": "int64",
         "stats": {
          "unique_count": 5,
          "nan_count": 0,
          "min": "6882635",
          "max": "39461588",
          "histogram": [
           {
            "bin_start": 6882635,
            "bin_end": 10140530.3,
            "count": 1
           },
           {
            "bin_start": 10140530.3,
            "bin_end": 13398425.6,
            "count": 0
           },
           {
            "bin_start": 13398425.6,
            "bin_end": 16656320.899999999,
            "count": 0
           },
           {
            "bin_start": 16656320.899999999,
            "bin_end": 19914216.2,
            "count": 1
           },
           {
            "bin_start": 19914216.2,
            "bin_end": 23172111.5,
            "count": 1
           },
           {
            "bin_start": 23172111.5,
            "bin_end": 26430006.799999997,
            "count": 0
           },
           {
            "bin_start": 26430006.799999997,
            "bin_end": 29687902.099999998,
            "count": 1
           },
           {
            "bin_start": 29687902.099999998,
            "bin_end": 32945797.4,
            "count": 0
           },
           {
            "bin_start": 32945797.4,
            "bin_end": 36203692.7,
            "count": 0
           },
           {
            "bin_start": 36203692.7,
            "bin_end": 39461588,
            "count": 1
           }
          ]
         }
        },
        {
         "name": "_deepnote_index_column",
         "dtype": "int64"
        }
       ],
       "rows": [
        {
         "region": "Mid-Atlantic",
         "state": "New York",
         "individuals": 39827,
         "family_members": 52070,
         "state_pop": 19530351,
         "_deepnote_index_column": 32
        },
        {
         "region": "Pacific",
         "state": "California",
         "individuals": 109008,
         "family_members": 20964,
         "state_pop": 39461588,
         "_deepnote_index_column": 4
        },
        {
         "region": "New England",
         "state": "Massachusetts",
         "individuals": 6811,
         "family_members": 13257,
         "state_pop": 6882635,
         "_deepnote_index_column": 21
        },
        {
         "region": "South Atlantic",
         "state": "Florida",
         "individuals": 21443,
         "family_members": 9587,
         "state_pop": 21244317,
         "_deepnote_index_column": 9
        },
        {
         "region": "West South Central",
         "state": "Texas",
         "individuals": 19199,
         "family_members": 6111,
         "state_pop": 28628666,
         "_deepnote_index_column": 43
        }
       ]
      },
      "text/plain": "                region          state  individuals  family_members  state_pop\n32        Mid-Atlantic       New York      39827.0         52070.0   19530351\n4              Pacific     California     109008.0         20964.0   39461588\n21         New England  Massachusetts       6811.0         13257.0    6882635\n9       South Atlantic        Florida      21443.0          9587.0   21244317\n43  West South Central          Texas      19199.0          6111.0   28628666",
      "text/html": "<div>\n<style scoped>\n    .dataframe tbody tr th:only-of-type {\n        vertical-align: middle;\n    }\n\n    .dataframe tbody tr th {\n        vertical-align: top;\n    }\n\n    .dataframe thead th {\n        text-align: right;\n    }\n</style>\n<table border=\"1\" class=\"dataframe\">\n  <thead>\n    <tr style=\"text-align: right;\">\n      <th></th>\n      <th>region</th>\n      <th>state</th>\n      <th>individuals</th>\n      <th>family_members</th>\n      <th>state_pop</th>\n    </tr>\n  </thead>\n  <tbody>\n    <tr>\n      <th>32</th>\n      <td>Mid-Atlantic</td>\n      <td>New York</td>\n      <td>39827.0</td>\n      <td>52070.0</td>\n      <td>19530351</td>\n    </tr>\n    <tr>\n      <th>4</th>\n      <td>Pacific</td>\n      <td>California</td>\n      <td>109008.0</td>\n      <td>20964.0</td>\n      <td>39461588</td>\n    </tr>\n    <tr>\n      <th>21</th>\n      <td>New England</td>\n      <td>Massachusetts</td>\n      <td>6811.0</td>\n      <td>13257.0</td>\n      <td>6882635</td>\n    </tr>\n    <tr>\n      <th>9</th>\n      <td>South Atlantic</td>\n      <td>Florida</td>\n      <td>21443.0</td>\n      <td>9587.0</td>\n      <td>21244317</td>\n    </tr>\n    <tr>\n      <th>43</th>\n      <td>West South Central</td>\n      <td>Texas</td>\n      <td>19199.0</td>\n      <td>6111.0</td>\n      <td>28628666</td>\n    </tr>\n  </tbody>\n</table>\n</div>"
     },
     "metadata": {}
    }
   ]
  },
  {
   "cell_type": "code",
   "metadata": {
    "cell_id": "14faa61551e9426694631d5cd8d5a7c7",
    "tags": [],
    "deepnote_to_be_reexecuted": false,
    "source_hash": "ecc4e781",
    "execution_start": 1653946565855,
    "execution_millis": 31,
    "deepnote_cell_type": "code",
    "deepnote_cell_height": 703.078125
   },
   "source": "# Sort homelessness first by region (ascending), and then by number of family members (descending) \n# Save this as homelessness_reg_fam\n# Print the head of the sorted DataFrame\n\nhomelessness_reg_fam = homelessness.sort_values(['region', 'family_members'], ascending=[True, False])\nhomelessness_reg_fam.head(10)",
   "execution_count": null,
   "outputs": [
    {
     "output_type": "execute_result",
     "execution_count": 18,
     "data": {
      "application/vnd.deepnote.dataframe.v3+json": {
       "column_count": 5,
       "row_count": 10,
       "columns": [
        {
         "name": "region",
         "dtype": "object",
         "stats": {
          "unique_count": 3,
          "nan_count": 0,
          "categories": [
           {
            "name": "East North Central",
            "count": 5
           },
           {
            "name": "East South Central",
            "count": 4
           },
           {
            "name": "Mid-Atlantic",
            "count": 1
           }
          ]
         }
        },
        {
         "name": "state",
         "dtype": "object",
         "stats": {
          "unique_count": 10,
          "nan_count": 0,
          "categories": [
           {
            "name": "Illinois",
            "count": 1
           },
           {
            "name": "Ohio",
            "count": 1
           },
           {
            "name": "8 others",
            "count": 8
           }
          ]
         }
        },
        {
         "name": "individuals",
         "dtype": "float64",
         "stats": {
          "unique_count": 10,
          "nan_count": 0,
          "min": "1024.0",
          "max": "39827.0",
          "histogram": [
           {
            "bin_start": 1024,
            "bin_end": 4904.3,
            "count": 5
           },
           {
            "bin_start": 4904.3,
            "bin_end": 8784.6,
            "count": 4
           },
           {
            "bin_start": 8784.6,
            "bin_end": 12664.900000000001,
            "count": 0
           },
           {
            "bin_start": 12664.900000000001,
            "bin_end": 16545.2,
            "count": 0
           },
           {
            "bin_start": 16545.2,
            "bin_end": 20425.5,
            "count": 0
           },
           {
            "bin_start": 20425.5,
            "bin_end": 24305.800000000003,
            "count": 0
           },
           {
            "bin_start": 24305.800000000003,
            "bin_end": 28186.100000000002,
            "count": 0
           },
           {
            "bin_start": 28186.100000000002,
            "bin_end": 32066.4,
            "count": 0
           },
           {
            "bin_start": 32066.4,
            "bin_end": 35946.700000000004,
            "count": 0
           },
           {
            "bin_start": 35946.700000000004,
            "bin_end": 39827,
            "count": 1
           }
          ]
         }
        },
        {
         "name": "family_members",
         "dtype": "float64",
         "stats": {
          "unique_count": 10,
          "nan_count": 0,
          "min": "328.0",
          "max": "52070.0",
          "histogram": [
           {
            "bin_start": 328,
            "bin_end": 5502.2,
            "count": 9
           },
           {
            "bin_start": 5502.2,
            "bin_end": 10676.4,
            "count": 0
           },
           {
            "bin_start": 10676.4,
            "bin_end": 15850.599999999999,
            "count": 0
           },
           {
            "bin_start": 15850.599999999999,
            "bin_end": 21024.8,
            "count": 0
           },
           {
            "bin_start": 21024.8,
            "bin_end": 26199,
            "count": 0
           },
           {
            "bin_start": 26199,
            "bin_end": 31373.199999999997,
            "count": 0
           },
           {
            "bin_start": 31373.199999999997,
            "bin_end": 36547.4,
            "count": 0
           },
           {
            "bin_start": 36547.4,
            "bin_end": 41721.6,
            "count": 0
           },
           {
            "bin_start": 41721.6,
            "bin_end": 46895.799999999996,
            "count": 0
           },
           {
            "bin_start": 46895.799999999996,
            "bin_end": 52070,
            "count": 1
           }
          ]
         }
        },
        {
         "name": "state_pop",
         "dtype": "int64",
         "stats": {
          "unique_count": 10,
          "nan_count": 0,
          "min": "2981020",
          "max": "19530351",
          "histogram": [
           {
            "bin_start": 2981020,
            "bin_end": 4635953.1,
            "count": 2
           },
           {
            "bin_start": 4635953.1,
            "bin_end": 6290886.2,
            "count": 2
           },
           {
            "bin_start": 6290886.2,
            "bin_end": 7945819.300000001,
            "count": 2
           },
           {
            "bin_start": 7945819.300000001,
            "bin_end": 9600752.4,
            "count": 0
           },
           {
            "bin_start": 9600752.4,
            "bin_end": 11255685.5,
            "count": 1
           },
           {
            "bin_start": 11255685.5,
            "bin_end": 12910618.600000001,
            "count": 2
           },
           {
            "bin_start": 12910618.600000001,
            "bin_end": 14565551.700000001,
            "count": 0
           },
           {
            "bin_start": 14565551.700000001,
            "bin_end": 16220484.8,
            "count": 0
           },
           {
            "bin_start": 16220484.8,
            "bin_end": 17875417.9,
            "count": 0
           },
           {
            "bin_start": 17875417.9,
            "bin_end": 19530351,
            "count": 1
           }
          ]
         }
        },
        {
         "name": "_deepnote_index_column",
         "dtype": "int64"
        }
       ],
       "rows": [
        {
         "region": "East North Central",
         "state": "Illinois",
         "individuals": 6752,
         "family_members": 3891,
         "state_pop": 12723071,
         "_deepnote_index_column": 13
        },
        {
         "region": "East North Central",
         "state": "Ohio",
         "individuals": 6929,
         "family_members": 3320,
         "state_pop": 11676341,
         "_deepnote_index_column": 35
        },
        {
         "region": "East North Central",
         "state": "Michigan",
         "individuals": 5209,
         "family_members": 3142,
         "state_pop": 9984072,
         "_deepnote_index_column": 22
        },
        {
         "region": "East North Central",
         "state": "Wisconsin",
         "individuals": 2740,
         "family_members": 2167,
         "state_pop": 5807406,
         "_deepnote_index_column": 49
        },
        {
         "region": "East North Central",
         "state": "Indiana",
         "individuals": 3776,
         "family_members": 1482,
         "state_pop": 6695497,
         "_deepnote_index_column": 14
        },
        {
         "region": "East South Central",
         "state": "Tennessee",
         "individuals": 6139,
         "family_members": 1744,
         "state_pop": 6771631,
         "_deepnote_index_column": 42
        },
        {
         "region": "East South Central",
         "state": "Kentucky",
         "individuals": 2735,
         "family_members": 953,
         "state_pop": 4461153,
         "_deepnote_index_column": 17
        },
        {
         "region": "East South Central",
         "state": "Alabama",
         "individuals": 2570,
         "family_members": 864,
         "state_pop": 4887681,
         "_deepnote_index_column": 0
        },
        {
         "region": "East South Central",
         "state": "Mississippi",
         "individuals": 1024,
         "family_members": 328,
         "state_pop": 2981020,
         "_deepnote_index_column": 24
        },
        {
         "region": "Mid-Atlantic",
         "state": "New York",
         "individuals": 39827,
         "family_members": 52070,
         "state_pop": 19530351,
         "_deepnote_index_column": 32
        }
       ]
      },
      "text/plain": "                region        state  individuals  family_members  state_pop\n13  East North Central     Illinois       6752.0          3891.0   12723071\n35  East North Central         Ohio       6929.0          3320.0   11676341\n22  East North Central     Michigan       5209.0          3142.0    9984072\n49  East North Central    Wisconsin       2740.0          2167.0    5807406\n14  East North Central      Indiana       3776.0          1482.0    6695497\n42  East South Central    Tennessee       6139.0          1744.0    6771631\n17  East South Central     Kentucky       2735.0           953.0    4461153\n0   East South Central      Alabama       2570.0           864.0    4887681\n24  East South Central  Mississippi       1024.0           328.0    2981020\n32        Mid-Atlantic     New York      39827.0         52070.0   19530351",
      "text/html": "<div>\n<style scoped>\n    .dataframe tbody tr th:only-of-type {\n        vertical-align: middle;\n    }\n\n    .dataframe tbody tr th {\n        vertical-align: top;\n    }\n\n    .dataframe thead th {\n        text-align: right;\n    }\n</style>\n<table border=\"1\" class=\"dataframe\">\n  <thead>\n    <tr style=\"text-align: right;\">\n      <th></th>\n      <th>region</th>\n      <th>state</th>\n      <th>individuals</th>\n      <th>family_members</th>\n      <th>state_pop</th>\n    </tr>\n  </thead>\n  <tbody>\n    <tr>\n      <th>13</th>\n      <td>East North Central</td>\n      <td>Illinois</td>\n      <td>6752.0</td>\n      <td>3891.0</td>\n      <td>12723071</td>\n    </tr>\n    <tr>\n      <th>35</th>\n      <td>East North Central</td>\n      <td>Ohio</td>\n      <td>6929.0</td>\n      <td>3320.0</td>\n      <td>11676341</td>\n    </tr>\n    <tr>\n      <th>22</th>\n      <td>East North Central</td>\n      <td>Michigan</td>\n      <td>5209.0</td>\n      <td>3142.0</td>\n      <td>9984072</td>\n    </tr>\n    <tr>\n      <th>49</th>\n      <td>East North Central</td>\n      <td>Wisconsin</td>\n      <td>2740.0</td>\n      <td>2167.0</td>\n      <td>5807406</td>\n    </tr>\n    <tr>\n      <th>14</th>\n      <td>East North Central</td>\n      <td>Indiana</td>\n      <td>3776.0</td>\n      <td>1482.0</td>\n      <td>6695497</td>\n    </tr>\n    <tr>\n      <th>42</th>\n      <td>East South Central</td>\n      <td>Tennessee</td>\n      <td>6139.0</td>\n      <td>1744.0</td>\n      <td>6771631</td>\n    </tr>\n    <tr>\n      <th>17</th>\n      <td>East South Central</td>\n      <td>Kentucky</td>\n      <td>2735.0</td>\n      <td>953.0</td>\n      <td>4461153</td>\n    </tr>\n    <tr>\n      <th>0</th>\n      <td>East South Central</td>\n      <td>Alabama</td>\n      <td>2570.0</td>\n      <td>864.0</td>\n      <td>4887681</td>\n    </tr>\n    <tr>\n      <th>24</th>\n      <td>East South Central</td>\n      <td>Mississippi</td>\n      <td>1024.0</td>\n      <td>328.0</td>\n      <td>2981020</td>\n    </tr>\n    <tr>\n      <th>32</th>\n      <td>Mid-Atlantic</td>\n      <td>New York</td>\n      <td>39827.0</td>\n      <td>52070.0</td>\n      <td>19530351</td>\n    </tr>\n  </tbody>\n</table>\n</div>"
     },
     "metadata": {}
    }
   ]
  },
  {
   "cell_type": "markdown",
   "source": "### Subsetting columns",
   "metadata": {
    "cell_id": "5f80cd00234c4dd59a166b829ab6219e",
    "tags": [],
    "is_collapsed": false,
    "deepnote_cell_type": "text-cell-h3"
   }
  },
  {
   "cell_type": "code",
   "metadata": {
    "cell_id": "00d67865270b4bd683f0dcd353b67d15",
    "tags": [],
    "deepnote_to_be_reexecuted": false,
    "source_hash": "79c2db38",
    "execution_start": 1653947150452,
    "execution_millis": 5,
    "deepnote_cell_type": "code",
    "deepnote_cell_height": 268.140625,
    "deepnote_output_heights": [
     117.15625
    ]
   },
   "source": "# Create a DataFrame called individuals that contains only the individuals column of homelessness\n# Print the head of the result\nindividuals = homelessness['individuals']\nindividuals.head() ",
   "execution_count": null,
   "outputs": [
    {
     "output_type": "execute_result",
     "execution_count": 19,
     "data": {
      "text/plain": "0      2570.0\n1      1434.0\n2      7259.0\n3      2280.0\n4    109008.0\nName: individuals, dtype: float64"
     },
     "metadata": {}
    }
   ]
  },
  {
   "cell_type": "code",
   "metadata": {
    "cell_id": "b31248c45e1a483eb2b747180a6ae940",
    "tags": [],
    "deepnote_to_be_reexecuted": false,
    "source_hash": "8a992ddc",
    "execution_start": 1653947265047,
    "execution_millis": 5,
    "deepnote_cell_type": "code",
    "deepnote_cell_height": 449
   },
   "source": "# Create a DataFrame called state_fam that contains only the state and family_members columns of homelessness, in that order\n# Print the head of the result\nstate_fam = homelessness[['state', 'family_members']]\nstate_fam.head()",
   "execution_count": null,
   "outputs": [
    {
     "output_type": "execute_result",
     "execution_count": 20,
     "data": {
      "application/vnd.deepnote.dataframe.v3+json": {
       "column_count": 2,
       "row_count": 5,
       "columns": [
        {
         "name": "state",
         "dtype": "object",
         "stats": {
          "unique_count": 5,
          "nan_count": 0,
          "categories": [
           {
            "name": "Alabama",
            "count": 1
           },
           {
            "name": "Alaska",
            "count": 1
           },
           {
            "name": "3 others",
            "count": 3
           }
          ]
         }
        },
        {
         "name": "family_members",
         "dtype": "float64",
         "stats": {
          "unique_count": 5,
          "nan_count": 0,
          "min": "432.0",
          "max": "20964.0",
          "histogram": [
           {
            "bin_start": 432,
            "bin_end": 2485.2,
            "count": 3
           },
           {
            "bin_start": 2485.2,
            "bin_end": 4538.4,
            "count": 1
           },
           {
            "bin_start": 4538.4,
            "bin_end": 6591.599999999999,
            "count": 0
           },
           {
            "bin_start": 6591.599999999999,
            "bin_end": 8644.8,
            "count": 0
           },
           {
            "bin_start": 8644.8,
            "bin_end": 10698,
            "count": 0
           },
           {
            "bin_start": 10698,
            "bin_end": 12751.199999999999,
            "count": 0
           },
           {
            "bin_start": 12751.199999999999,
            "bin_end": 14804.399999999998,
            "count": 0
           },
           {
            "bin_start": 14804.399999999998,
            "bin_end": 16857.6,
            "count": 0
           },
           {
            "bin_start": 16857.6,
            "bin_end": 18910.8,
            "count": 0
           },
           {
            "bin_start": 18910.8,
            "bin_end": 20964,
            "count": 1
           }
          ]
         }
        },
        {
         "name": "_deepnote_index_column",
         "dtype": "int64"
        }
       ],
       "rows": [
        {
         "state": "Alabama",
         "family_members": 864,
         "_deepnote_index_column": 0
        },
        {
         "state": "Alaska",
         "family_members": 582,
         "_deepnote_index_column": 1
        },
        {
         "state": "Arizona",
         "family_members": 2606,
         "_deepnote_index_column": 2
        },
        {
         "state": "Arkansas",
         "family_members": 432,
         "_deepnote_index_column": 3
        },
        {
         "state": "California",
         "family_members": 20964,
         "_deepnote_index_column": 4
        }
       ]
      },
      "text/plain": "        state  family_members\n0     Alabama           864.0\n1      Alaska           582.0\n2     Arizona          2606.0\n3    Arkansas           432.0\n4  California         20964.0",
      "text/html": "<div>\n<style scoped>\n    .dataframe tbody tr th:only-of-type {\n        vertical-align: middle;\n    }\n\n    .dataframe tbody tr th {\n        vertical-align: top;\n    }\n\n    .dataframe thead th {\n        text-align: right;\n    }\n</style>\n<table border=\"1\" class=\"dataframe\">\n  <thead>\n    <tr style=\"text-align: right;\">\n      <th></th>\n      <th>state</th>\n      <th>family_members</th>\n    </tr>\n  </thead>\n  <tbody>\n    <tr>\n      <th>0</th>\n      <td>Alabama</td>\n      <td>864.0</td>\n    </tr>\n    <tr>\n      <th>1</th>\n      <td>Alaska</td>\n      <td>582.0</td>\n    </tr>\n    <tr>\n      <th>2</th>\n      <td>Arizona</td>\n      <td>2606.0</td>\n    </tr>\n    <tr>\n      <th>3</th>\n      <td>Arkansas</td>\n      <td>432.0</td>\n    </tr>\n    <tr>\n      <th>4</th>\n      <td>California</td>\n      <td>20964.0</td>\n    </tr>\n  </tbody>\n</table>\n</div>"
     },
     "metadata": {}
    }
   ]
  },
  {
   "cell_type": "code",
   "metadata": {
    "cell_id": "ad31dff5ece84f4cac2cb7f74d4abd29",
    "tags": [],
    "deepnote_to_be_reexecuted": false,
    "source_hash": "6cdc8225",
    "execution_start": 1653947349068,
    "execution_millis": 79,
    "deepnote_cell_type": "code",
    "deepnote_cell_height": 467
   },
   "source": "# Create a DataFrame called ind_state that contains the individuals and state columns of homelessness, in that order\n# Print the head of the result\n\nind_state = homelessness[['individuals', 'state']]\nind_state.head()",
   "execution_count": null,
   "outputs": [
    {
     "output_type": "execute_result",
     "execution_count": 21,
     "data": {
      "application/vnd.deepnote.dataframe.v3+json": {
       "column_count": 2,
       "row_count": 5,
       "columns": [
        {
         "name": "individuals",
         "dtype": "float64",
         "stats": {
          "unique_count": 5,
          "nan_count": 0,
          "min": "1434.0",
          "max": "109008.0",
          "histogram": [
           {
            "bin_start": 1434,
            "bin_end": 12191.4,
            "count": 4
           },
           {
            "bin_start": 12191.4,
            "bin_end": 22948.8,
            "count": 0
           },
           {
            "bin_start": 22948.8,
            "bin_end": 33706.2,
            "count": 0
           },
           {
            "bin_start": 33706.2,
            "bin_end": 44463.6,
            "count": 0
           },
           {
            "bin_start": 44463.6,
            "bin_end": 55221,
            "count": 0
           },
           {
            "bin_start": 55221,
            "bin_end": 65978.4,
            "count": 0
           },
           {
            "bin_start": 65978.4,
            "bin_end": 76735.8,
            "count": 0
           },
           {
            "bin_start": 76735.8,
            "bin_end": 87493.2,
            "count": 0
           },
           {
            "bin_start": 87493.2,
            "bin_end": 98250.59999999999,
            "count": 0
           },
           {
            "bin_start": 98250.59999999999,
            "bin_end": 109008,
            "count": 1
           }
          ]
         }
        },
        {
         "name": "state",
         "dtype": "object",
         "stats": {
          "unique_count": 5,
          "nan_count": 0,
          "categories": [
           {
            "name": "Alabama",
            "count": 1
           },
           {
            "name": "Alaska",
            "count": 1
           },
           {
            "name": "3 others",
            "count": 3
           }
          ]
         }
        },
        {
         "name": "_deepnote_index_column",
         "dtype": "int64"
        }
       ],
       "rows": [
        {
         "individuals": 2570,
         "state": "Alabama",
         "_deepnote_index_column": 0
        },
        {
         "individuals": 1434,
         "state": "Alaska",
         "_deepnote_index_column": 1
        },
        {
         "individuals": 7259,
         "state": "Arizona",
         "_deepnote_index_column": 2
        },
        {
         "individuals": 2280,
         "state": "Arkansas",
         "_deepnote_index_column": 3
        },
        {
         "individuals": 109008,
         "state": "California",
         "_deepnote_index_column": 4
        }
       ]
      },
      "text/plain": "   individuals       state\n0       2570.0     Alabama\n1       1434.0      Alaska\n2       7259.0     Arizona\n3       2280.0    Arkansas\n4     109008.0  California",
      "text/html": "<div>\n<style scoped>\n    .dataframe tbody tr th:only-of-type {\n        vertical-align: middle;\n    }\n\n    .dataframe tbody tr th {\n        vertical-align: top;\n    }\n\n    .dataframe thead th {\n        text-align: right;\n    }\n</style>\n<table border=\"1\" class=\"dataframe\">\n  <thead>\n    <tr style=\"text-align: right;\">\n      <th></th>\n      <th>individuals</th>\n      <th>state</th>\n    </tr>\n  </thead>\n  <tbody>\n    <tr>\n      <th>0</th>\n      <td>2570.0</td>\n      <td>Alabama</td>\n    </tr>\n    <tr>\n      <th>1</th>\n      <td>1434.0</td>\n      <td>Alaska</td>\n    </tr>\n    <tr>\n      <th>2</th>\n      <td>7259.0</td>\n      <td>Arizona</td>\n    </tr>\n    <tr>\n      <th>3</th>\n      <td>2280.0</td>\n      <td>Arkansas</td>\n    </tr>\n    <tr>\n      <th>4</th>\n      <td>109008.0</td>\n      <td>California</td>\n    </tr>\n  </tbody>\n</table>\n</div>"
     },
     "metadata": {}
    }
   ]
  },
  {
   "cell_type": "code",
   "metadata": {
    "cell_id": "4cc1dbba50f0489dbaf65c94f126e584",
    "tags": [],
    "deepnote_to_be_reexecuted": false,
    "source_hash": "debe4c9",
    "execution_start": 1653947459931,
    "execution_millis": 31,
    "deepnote_cell_type": "code",
    "deepnote_cell_height": 503.078125
   },
   "source": "# Filter homelessness for cases where the number of individuals is greater than ten thousand, assigning to ind_gt_10k \n# View the printed result\nind_gt_10k = homelessness[homelessness['individuals'] > 10000]\nind_gt_10k",
   "execution_count": null,
   "outputs": [
    {
     "output_type": "execute_result",
     "execution_count": 22,
     "data": {
      "application/vnd.deepnote.dataframe.v3+json": {
       "column_count": 5,
       "row_count": 6,
       "columns": [
        {
         "name": "region",
         "dtype": "object",
         "stats": {
          "unique_count": 4,
          "nan_count": 0,
          "categories": [
           {
            "name": "Pacific",
            "count": 3
           },
           {
            "name": "South Atlantic",
            "count": 1
           },
           {
            "name": "2 others",
            "count": 2
           }
          ]
         }
        },
        {
         "name": "state",
         "dtype": "object",
         "stats": {
          "unique_count": 6,
          "nan_count": 0,
          "categories": [
           {
            "name": "California",
            "count": 1
           },
           {
            "name": "Florida",
            "count": 1
           },
           {
            "name": "4 others",
            "count": 4
           }
          ]
         }
        },
        {
         "name": "individuals",
         "dtype": "float64",
         "stats": {
          "unique_count": 6,
          "nan_count": 0,
          "min": "11139.0",
          "max": "109008.0",
          "histogram": [
           {
            "bin_start": 11139,
            "bin_end": 20925.9,
            "count": 3
           },
           {
            "bin_start": 20925.9,
            "bin_end": 30712.8,
            "count": 1
           },
           {
            "bin_start": 30712.8,
            "bin_end": 40499.7,
            "count": 1
           },
           {
            "bin_start": 40499.7,
            "bin_end": 50286.6,
            "count": 0
           },
           {
            "bin_start": 50286.6,
            "bin_end": 60073.5,
            "count": 0
           },
           {
            "bin_start": 60073.5,
            "bin_end": 69860.4,
            "count": 0
           },
           {
            "bin_start": 69860.4,
            "bin_end": 79647.3,
            "count": 0
           },
           {
            "bin_start": 79647.3,
            "bin_end": 89434.2,
            "count": 0
           },
           {
            "bin_start": 89434.2,
            "bin_end": 99221.09999999999,
            "count": 0
           },
           {
            "bin_start": 99221.09999999999,
            "bin_end": 109008,
            "count": 1
           }
          ]
         }
        },
        {
         "name": "family_members",
         "dtype": "float64",
         "stats": {
          "unique_count": 6,
          "nan_count": 0,
          "min": "3337.0",
          "max": "52070.0",
          "histogram": [
           {
            "bin_start": 3337,
            "bin_end": 8210.3,
            "count": 3
           },
           {
            "bin_start": 8210.3,
            "bin_end": 13083.6,
            "count": 1
           },
           {
            "bin_start": 13083.6,
            "bin_end": 17956.9,
            "count": 0
           },
           {
            "bin_start": 17956.9,
            "bin_end": 22830.2,
            "count": 1
           },
           {
            "bin_start": 22830.2,
            "bin_end": 27703.5,
            "count": 0
           },
           {
            "bin_start": 27703.5,
            "bin_end": 32576.800000000003,
            "count": 0
           },
           {
            "bin_start": 32576.800000000003,
            "bin_end": 37450.1,
            "count": 0
           },
           {
            "bin_start": 37450.1,
            "bin_end": 42323.4,
            "count": 0
           },
           {
            "bin_start": 42323.4,
            "bin_end": 47196.700000000004,
            "count": 0
           },
           {
            "bin_start": 47196.700000000004,
            "bin_end": 52070,
            "count": 1
           }
          ]
         }
        },
        {
         "name": "state_pop",
         "dtype": "int64",
         "stats": {
          "unique_count": 6,
          "nan_count": 0,
          "min": "4181886",
          "max": "39461588",
          "histogram": [
           {
            "bin_start": 4181886,
            "bin_end": 7709856.2,
            "count": 2
           },
           {
            "bin_start": 7709856.2,
            "bin_end": 11237826.4,
            "count": 0
           },
           {
            "bin_start": 11237826.4,
            "bin_end": 14765796.600000001,
            "count": 0
           },
           {
            "bin_start": 14765796.600000001,
            "bin_end": 18293766.8,
            "count": 0
           },
           {
            "bin_start": 18293766.8,
            "bin_end": 21821737,
            "count": 2
           },
           {
            "bin_start": 21821737,
            "bin_end": 25349707.200000003,
            "count": 0
           },
           {
            "bin_start": 25349707.200000003,
            "bin_end": 28877677.400000002,
            "count": 1
           },
           {
            "bin_start": 28877677.400000002,
            "bin_end": 32405647.6,
            "count": 0
           },
           {
            "bin_start": 32405647.6,
            "bin_end": 35933617.8,
            "count": 0
           },
           {
            "bin_start": 35933617.8,
            "bin_end": 39461588,
            "count": 1
           }
          ]
         }
        },
        {
         "name": "_deepnote_index_column",
         "dtype": "int64"
        }
       ],
       "rows": [
        {
         "region": "Pacific",
         "state": "California",
         "individuals": 109008,
         "family_members": 20964,
         "state_pop": 39461588,
         "_deepnote_index_column": 4
        },
        {
         "region": "South Atlantic",
         "state": "Florida",
         "individuals": 21443,
         "family_members": 9587,
         "state_pop": 21244317,
         "_deepnote_index_column": 9
        },
        {
         "region": "Mid-Atlantic",
         "state": "New York",
         "individuals": 39827,
         "family_members": 52070,
         "state_pop": 19530351,
         "_deepnote_index_column": 32
        },
        {
         "region": "Pacific",
         "state": "Oregon",
         "individuals": 11139,
         "family_members": 3337,
         "state_pop": 4181886,
         "_deepnote_index_column": 37
        },
        {
         "region": "West South Central",
         "state": "Texas",
         "individuals": 19199,
         "family_members": 6111,
         "state_pop": 28628666,
         "_deepnote_index_column": 43
        },
        {
         "region": "Pacific",
         "state": "Washington",
         "individuals": 16424,
         "family_members": 5880,
         "state_pop": 7523869,
         "_deepnote_index_column": 47
        }
       ]
      },
      "text/plain": "                region       state  individuals  family_members  state_pop\n4              Pacific  California     109008.0         20964.0   39461588\n9       South Atlantic     Florida      21443.0          9587.0   21244317\n32        Mid-Atlantic    New York      39827.0         52070.0   19530351\n37             Pacific      Oregon      11139.0          3337.0    4181886\n43  West South Central       Texas      19199.0          6111.0   28628666\n47             Pacific  Washington      16424.0          5880.0    7523869",
      "text/html": "<div>\n<style scoped>\n    .dataframe tbody tr th:only-of-type {\n        vertical-align: middle;\n    }\n\n    .dataframe tbody tr th {\n        vertical-align: top;\n    }\n\n    .dataframe thead th {\n        text-align: right;\n    }\n</style>\n<table border=\"1\" class=\"dataframe\">\n  <thead>\n    <tr style=\"text-align: right;\">\n      <th></th>\n      <th>region</th>\n      <th>state</th>\n      <th>individuals</th>\n      <th>family_members</th>\n      <th>state_pop</th>\n    </tr>\n  </thead>\n  <tbody>\n    <tr>\n      <th>4</th>\n      <td>Pacific</td>\n      <td>California</td>\n      <td>109008.0</td>\n      <td>20964.0</td>\n      <td>39461588</td>\n    </tr>\n    <tr>\n      <th>9</th>\n      <td>South Atlantic</td>\n      <td>Florida</td>\n      <td>21443.0</td>\n      <td>9587.0</td>\n      <td>21244317</td>\n    </tr>\n    <tr>\n      <th>32</th>\n      <td>Mid-Atlantic</td>\n      <td>New York</td>\n      <td>39827.0</td>\n      <td>52070.0</td>\n      <td>19530351</td>\n    </tr>\n    <tr>\n      <th>37</th>\n      <td>Pacific</td>\n      <td>Oregon</td>\n      <td>11139.0</td>\n      <td>3337.0</td>\n      <td>4181886</td>\n    </tr>\n    <tr>\n      <th>43</th>\n      <td>West South Central</td>\n      <td>Texas</td>\n      <td>19199.0</td>\n      <td>6111.0</td>\n      <td>28628666</td>\n    </tr>\n    <tr>\n      <th>47</th>\n      <td>Pacific</td>\n      <td>Washington</td>\n      <td>16424.0</td>\n      <td>5880.0</td>\n      <td>7523869</td>\n    </tr>\n  </tbody>\n</table>\n</div>"
     },
     "metadata": {}
    }
   ]
  },
  {
   "cell_type": "markdown",
   "source": "### Subsetting rows by categorical variables",
   "metadata": {
    "cell_id": "16ef351ea33e48bfab2b1c9b38600732",
    "tags": [],
    "is_collapsed": false,
    "deepnote_cell_type": "text-cell-h3"
   }
  },
  {
   "cell_type": "code",
   "metadata": {
    "cell_id": "0b05834b1b8049e081491bba39c74f85",
    "tags": [],
    "deepnote_to_be_reexecuted": false,
    "source_hash": "db4db24f",
    "execution_start": 1653947518774,
    "execution_millis": 13,
    "deepnote_cell_type": "code",
    "deepnote_cell_height": 585.078125
   },
   "source": "# Filter homelessness for cases where the USA Census region is \"Mountain\", assigning to mountain_reg \n# View the printed result\nmountain_reg = homelessness[homelessness['region'] == 'Mountain']\nmountain_reg",
   "execution_count": null,
   "outputs": [
    {
     "output_type": "execute_result",
     "execution_count": 23,
     "data": {
      "application/vnd.deepnote.dataframe.v3+json": {
       "column_count": 5,
       "row_count": 8,
       "columns": [
        {
         "name": "region",
         "dtype": "object",
         "stats": {
          "unique_count": 1,
          "nan_count": 0,
          "categories": [
           {
            "name": "Mountain",
            "count": 8
           }
          ]
         }
        },
        {
         "name": "state",
         "dtype": "object",
         "stats": {
          "unique_count": 8,
          "nan_count": 0,
          "categories": [
           {
            "name": "Arizona",
            "count": 1
           },
           {
            "name": "Colorado",
            "count": 1
           },
           {
            "name": "6 others",
            "count": 6
           }
          ]
         }
        },
        {
         "name": "individuals",
         "dtype": "float64",
         "stats": {
          "unique_count": 8,
          "nan_count": 0,
          "min": "434.0",
          "max": "7607.0",
          "histogram": [
           {
            "bin_start": 434,
            "bin_end": 1151.3,
            "count": 2
           },
           {
            "bin_start": 1151.3,
            "bin_end": 1868.6,
            "count": 1
           },
           {
            "bin_start": 1868.6,
            "bin_end": 2585.8999999999996,
            "count": 2
           },
           {
            "bin_start": 2585.8999999999996,
            "bin_end": 3303.2,
            "count": 0
           },
           {
            "bin_start": 3303.2,
            "bin_end": 4020.5,
            "count": 0
           },
           {
            "bin_start": 4020.5,
            "bin_end": 4737.799999999999,
            "count": 0
           },
           {
            "bin_start": 4737.799999999999,
            "bin_end": 5455.099999999999,
            "count": 0
           },
           {
            "bin_start": 5455.099999999999,
            "bin_end": 6172.4,
            "count": 0
           },
           {
            "bin_start": 6172.4,
            "bin_end": 6889.7,
            "count": 0
           },
           {
            "bin_start": 6889.7,
            "bin_end": 7607,
            "count": 3
           }
          ]
         }
        },
        {
         "name": "family_members",
         "dtype": "float64",
         "stats": {
          "unique_count": 8,
          "nan_count": 0,
          "min": "205.0",
          "max": "3250.0",
          "histogram": [
           {
            "bin_start": 205,
            "bin_end": 509.5,
            "count": 3
           },
           {
            "bin_start": 509.5,
            "bin_end": 814,
            "count": 2
           },
           {
            "bin_start": 814,
            "bin_end": 1118.5,
            "count": 1
           },
           {
            "bin_start": 1118.5,
            "bin_end": 1423,
            "count": 0
           },
           {
            "bin_start": 1423,
            "bin_end": 1727.5,
            "count": 0
           },
           {
            "bin_start": 1727.5,
            "bin_end": 2032,
            "count": 0
           },
           {
            "bin_start": 2032,
            "bin_end": 2336.5,
            "count": 0
           },
           {
            "bin_start": 2336.5,
            "bin_end": 2641,
            "count": 1
           },
           {
            "bin_start": 2641,
            "bin_end": 2945.5,
            "count": 0
           },
           {
            "bin_start": 2945.5,
            "bin_end": 3250,
            "count": 1
           }
          ]
         }
        },
        {
         "name": "state_pop",
         "dtype": "int64",
         "stats": {
          "unique_count": 8,
          "nan_count": 0,
          "min": "577601",
          "max": "7158024",
          "histogram": [
           {
            "bin_start": 577601,
            "bin_end": 1235643.3,
            "count": 2
           },
           {
            "bin_start": 1235643.3,
            "bin_end": 1893685.6,
            "count": 1
           },
           {
            "bin_start": 1893685.6,
            "bin_end": 2551727.9000000004,
            "count": 1
           },
           {
            "bin_start": 2551727.9000000004,
            "bin_end": 3209770.2,
            "count": 2
           },
           {
            "bin_start": 3209770.2,
            "bin_end": 3867812.5,
            "count": 0
           },
           {
            "bin_start": 3867812.5,
            "bin_end": 4525854.800000001,
            "count": 0
           },
           {
            "bin_start": 4525854.800000001,
            "bin_end": 5183897.100000001,
            "count": 0
           },
           {
            "bin_start": 5183897.100000001,
            "bin_end": 5841939.4,
            "count": 1
           },
           {
            "bin_start": 5841939.4,
            "bin_end": 6499981.7,
            "count": 0
           },
           {
            "bin_start": 6499981.7,
            "bin_end": 7158024,
            "count": 1
           }
          ]
         }
        },
        {
         "name": "_deepnote_index_column",
         "dtype": "int64"
        }
       ],
       "rows": [
        {
         "region": "Mountain",
         "state": "Arizona",
         "individuals": 7259,
         "family_members": 2606,
         "state_pop": 7158024,
         "_deepnote_index_column": 2
        },
        {
         "region": "Mountain",
         "state": "Colorado",
         "individuals": 7607,
         "family_members": 3250,
         "state_pop": 5691287,
         "_deepnote_index_column": 5
        },
        {
         "region": "Mountain",
         "state": "Idaho",
         "individuals": 1297,
         "family_members": 715,
         "state_pop": 1750536,
         "_deepnote_index_column": 12
        },
        {
         "region": "Mountain",
         "state": "Montana",
         "individuals": 983,
         "family_members": 422,
         "state_pop": 1060665,
         "_deepnote_index_column": 26
        },
        {
         "region": "Mountain",
         "state": "Nevada",
         "individuals": 7058,
         "family_members": 486,
         "state_pop": 3027341,
         "_deepnote_index_column": 28
        },
        {
         "region": "Mountain",
         "state": "New Mexico",
         "individuals": 1949,
         "family_members": 602,
         "state_pop": 2092741,
         "_deepnote_index_column": 31
        },
        {
         "region": "Mountain",
         "state": "Utah",
         "individuals": 1904,
         "family_members": 972,
         "state_pop": 3153550,
         "_deepnote_index_column": 44
        },
        {
         "region": "Mountain",
         "state": "Wyoming",
         "individuals": 434,
         "family_members": 205,
         "state_pop": 577601,
         "_deepnote_index_column": 50
        }
       ]
      },
      "text/plain": "      region       state  individuals  family_members  state_pop\n2   Mountain     Arizona       7259.0          2606.0    7158024\n5   Mountain    Colorado       7607.0          3250.0    5691287\n12  Mountain       Idaho       1297.0           715.0    1750536\n26  Mountain     Montana        983.0           422.0    1060665\n28  Mountain      Nevada       7058.0           486.0    3027341\n31  Mountain  New Mexico       1949.0           602.0    2092741\n44  Mountain        Utah       1904.0           972.0    3153550\n50  Mountain     Wyoming        434.0           205.0     577601",
      "text/html": "<div>\n<style scoped>\n    .dataframe tbody tr th:only-of-type {\n        vertical-align: middle;\n    }\n\n    .dataframe tbody tr th {\n        vertical-align: top;\n    }\n\n    .dataframe thead th {\n        text-align: right;\n    }\n</style>\n<table border=\"1\" class=\"dataframe\">\n  <thead>\n    <tr style=\"text-align: right;\">\n      <th></th>\n      <th>region</th>\n      <th>state</th>\n      <th>individuals</th>\n      <th>family_members</th>\n      <th>state_pop</th>\n    </tr>\n  </thead>\n  <tbody>\n    <tr>\n      <th>2</th>\n      <td>Mountain</td>\n      <td>Arizona</td>\n      <td>7259.0</td>\n      <td>2606.0</td>\n      <td>7158024</td>\n    </tr>\n    <tr>\n      <th>5</th>\n      <td>Mountain</td>\n      <td>Colorado</td>\n      <td>7607.0</td>\n      <td>3250.0</td>\n      <td>5691287</td>\n    </tr>\n    <tr>\n      <th>12</th>\n      <td>Mountain</td>\n      <td>Idaho</td>\n      <td>1297.0</td>\n      <td>715.0</td>\n      <td>1750536</td>\n    </tr>\n    <tr>\n      <th>26</th>\n      <td>Mountain</td>\n      <td>Montana</td>\n      <td>983.0</td>\n      <td>422.0</td>\n      <td>1060665</td>\n    </tr>\n    <tr>\n      <th>28</th>\n      <td>Mountain</td>\n      <td>Nevada</td>\n      <td>7058.0</td>\n      <td>486.0</td>\n      <td>3027341</td>\n    </tr>\n    <tr>\n      <th>31</th>\n      <td>Mountain</td>\n      <td>New Mexico</td>\n      <td>1949.0</td>\n      <td>602.0</td>\n      <td>2092741</td>\n    </tr>\n    <tr>\n      <th>44</th>\n      <td>Mountain</td>\n      <td>Utah</td>\n      <td>1904.0</td>\n      <td>972.0</td>\n      <td>3153550</td>\n    </tr>\n    <tr>\n      <th>50</th>\n      <td>Mountain</td>\n      <td>Wyoming</td>\n      <td>434.0</td>\n      <td>205.0</td>\n      <td>577601</td>\n    </tr>\n  </tbody>\n</table>\n</div>"
     },
     "metadata": {}
    }
   ]
  },
  {
   "cell_type": "code",
   "metadata": {
    "cell_id": "3eef4b610a9f43b59561c94d7c7ac8b2",
    "tags": [],
    "deepnote_to_be_reexecuted": false,
    "source_hash": "f856e018",
    "execution_start": 1653947647949,
    "execution_millis": 30,
    "deepnote_cell_type": "code",
    "deepnote_cell_height": 298.078125
   },
   "source": "# Filter homelessness for cases where the number of family_members is less than one thousand and the region is \"Pacific\", assigning to fam_lt_1k_pac \n# View the printed result\nfam_lt_1k_pac = homelessness[(homelessness['family_members'] < 1000) & (homelessness['region'] == 'Pacific')]\nfam_lt_1k_pac",
   "execution_count": null,
   "outputs": [
    {
     "output_type": "execute_result",
     "execution_count": 24,
     "data": {
      "application/vnd.deepnote.dataframe.v3+json": {
       "column_count": 5,
       "row_count": 1,
       "columns": [
        {
         "name": "region",
         "dtype": "object",
         "stats": {
          "unique_count": 1,
          "nan_count": 0,
          "categories": [
           {
            "name": "Pacific",
            "count": 1
           }
          ]
         }
        },
        {
         "name": "state",
         "dtype": "object",
         "stats": {
          "unique_count": 1,
          "nan_count": 0,
          "categories": [
           {
            "name": "Alaska",
            "count": 1
           }
          ]
         }
        },
        {
         "name": "individuals",
         "dtype": "float64",
         "stats": {
          "unique_count": 1,
          "nan_count": 0,
          "min": "1434.0",
          "max": "1434.0",
          "histogram": [
           {
            "bin_start": 1433.5,
            "bin_end": 1433.6,
            "count": 0
           },
           {
            "bin_start": 1433.6,
            "bin_end": 1433.7,
            "count": 0
           },
           {
            "bin_start": 1433.7,
            "bin_end": 1433.8,
            "count": 0
           },
           {
            "bin_start": 1433.8,
            "bin_end": 1433.9,
            "count": 0
           },
           {
            "bin_start": 1433.9,
            "bin_end": 1434,
            "count": 0
           },
           {
            "bin_start": 1434,
            "bin_end": 1434.1,
            "count": 1
           },
           {
            "bin_start": 1434.1,
            "bin_end": 1434.2,
            "count": 0
           },
           {
            "bin_start": 1434.2,
            "bin_end": 1434.3,
            "count": 0
           },
           {
            "bin_start": 1434.3,
            "bin_end": 1434.4,
            "count": 0
           },
           {
            "bin_start": 1434.4,
            "bin_end": 1434.5,
            "count": 0
           }
          ]
         }
        },
        {
         "name": "family_members",
         "dtype": "float64",
         "stats": {
          "unique_count": 1,
          "nan_count": 0,
          "min": "582.0",
          "max": "582.0",
          "histogram": [
           {
            "bin_start": 581.5,
            "bin_end": 581.6,
            "count": 0
           },
           {
            "bin_start": 581.6,
            "bin_end": 581.7,
            "count": 0
           },
           {
            "bin_start": 581.7,
            "bin_end": 581.8,
            "count": 0
           },
           {
            "bin_start": 581.8,
            "bin_end": 581.9,
            "count": 0
           },
           {
            "bin_start": 581.9,
            "bin_end": 582,
            "count": 0
           },
           {
            "bin_start": 582,
            "bin_end": 582.1,
            "count": 1
           },
           {
            "bin_start": 582.1,
            "bin_end": 582.2,
            "count": 0
           },
           {
            "bin_start": 582.2,
            "bin_end": 582.3,
            "count": 0
           },
           {
            "bin_start": 582.3,
            "bin_end": 582.4,
            "count": 0
           },
           {
            "bin_start": 582.4,
            "bin_end": 582.5,
            "count": 0
           }
          ]
         }
        },
        {
         "name": "state_pop",
         "dtype": "int64",
         "stats": {
          "unique_count": 1,
          "nan_count": 0,
          "min": "735139",
          "max": "735139",
          "histogram": [
           {
            "bin_start": 735138.5,
            "bin_end": 735138.6,
            "count": 0
           },
           {
            "bin_start": 735138.6,
            "bin_end": 735138.7,
            "count": 0
           },
           {
            "bin_start": 735138.7,
            "bin_end": 735138.8,
            "count": 0
           },
           {
            "bin_start": 735138.8,
            "bin_end": 735138.9,
            "count": 0
           },
           {
            "bin_start": 735138.9,
            "bin_end": 735139,
            "count": 0
           },
           {
            "bin_start": 735139,
            "bin_end": 735139.1,
            "count": 1
           },
           {
            "bin_start": 735139.1,
            "bin_end": 735139.2,
            "count": 0
           },
           {
            "bin_start": 735139.2,
            "bin_end": 735139.3,
            "count": 0
           },
           {
            "bin_start": 735139.3,
            "bin_end": 735139.4,
            "count": 0
           },
           {
            "bin_start": 735139.4,
            "bin_end": 735139.5,
            "count": 0
           }
          ]
         }
        },
        {
         "name": "_deepnote_index_column",
         "dtype": "int64"
        }
       ],
       "rows": [
        {
         "region": "Pacific",
         "state": "Alaska",
         "individuals": 1434,
         "family_members": 582,
         "state_pop": 735139,
         "_deepnote_index_column": 1
        }
       ]
      },
      "text/plain": "    region   state  individuals  family_members  state_pop\n1  Pacific  Alaska       1434.0           582.0     735139",
      "text/html": "<div>\n<style scoped>\n    .dataframe tbody tr th:only-of-type {\n        vertical-align: middle;\n    }\n\n    .dataframe tbody tr th {\n        vertical-align: top;\n    }\n\n    .dataframe thead th {\n        text-align: right;\n    }\n</style>\n<table border=\"1\" class=\"dataframe\">\n  <thead>\n    <tr style=\"text-align: right;\">\n      <th></th>\n      <th>region</th>\n      <th>state</th>\n      <th>individuals</th>\n      <th>family_members</th>\n      <th>state_pop</th>\n    </tr>\n  </thead>\n  <tbody>\n    <tr>\n      <th>1</th>\n      <td>Pacific</td>\n      <td>Alaska</td>\n      <td>1434.0</td>\n      <td>582.0</td>\n      <td>735139</td>\n    </tr>\n  </tbody>\n</table>\n</div>"
     },
     "metadata": {}
    }
   ]
  },
  {
   "cell_type": "code",
   "metadata": {
    "cell_id": "3193b97780754065bba4c58b8bd0ecb6",
    "tags": [],
    "deepnote_to_be_reexecuted": false,
    "source_hash": "1f2199d1",
    "execution_start": 1653947928066,
    "execution_millis": 24,
    "deepnote_cell_type": "code",
    "deepnote_cell_height": 667.078125
   },
   "source": "# Filter homelessness for cases where the USA census region is \"South Atlantic\" or it is \"Mid-Atlantic\", assigning to south_mid_atlantic \n# View the printed result\nsouth_mid_atlantic = homelessness[(homelessness['region'] == 'South Atlantic') | (homelessness['region'] == 'Mid-Atlantic')]\nsouth_mid_atlantic",
   "execution_count": null,
   "outputs": [
    {
     "output_type": "execute_result",
     "execution_count": 29,
     "data": {
      "application/vnd.deepnote.dataframe.v3+json": {
       "column_count": 5,
       "row_count": 12,
       "columns": [
        {
         "name": "region",
         "dtype": "object",
         "stats": {
          "unique_count": 2,
          "nan_count": 0,
          "categories": [
           {
            "name": "South Atlantic",
            "count": 9
           },
           {
            "name": "Mid-Atlantic",
            "count": 3
           }
          ]
         }
        },
        {
         "name": "state",
         "dtype": "object",
         "stats": {
          "unique_count": 12,
          "nan_count": 0,
          "categories": [
           {
            "name": "Delaware",
            "count": 1
           },
           {
            "name": "District of Columbia",
            "count": 1
           },
           {
            "name": "10 others",
            "count": 10
           }
          ]
         }
        },
        {
         "name": "individuals",
         "dtype": "float64",
         "stats": {
          "unique_count": 12,
          "nan_count": 0,
          "min": "708.0",
          "max": "39827.0",
          "histogram": [
           {
            "bin_start": 708,
            "bin_end": 4619.9,
            "count": 5
           },
           {
            "bin_start": 4619.9,
            "bin_end": 8531.8,
            "count": 5
           },
           {
            "bin_start": 8531.8,
            "bin_end": 12443.7,
            "count": 0
           },
           {
            "bin_start": 12443.7,
            "bin_end": 16355.6,
            "count": 0
           },
           {
            "bin_start": 16355.6,
            "bin_end": 20267.5,
            "count": 0
           },
           {
            "bin_start": 20267.5,
            "bin_end": 24179.4,
            "count": 1
           },
           {
            "bin_start": 24179.4,
            "bin_end": 28091.3,
            "count": 0
           },
           {
            "bin_start": 28091.3,
            "bin_end": 32003.2,
            "count": 0
           },
           {
            "bin_start": 32003.2,
            "bin_end": 35915.1,
            "count": 0
           },
           {
            "bin_start": 35915.1,
            "bin_end": 39827,
            "count": 1
           }
          ]
         }
        },
        {
         "name": "family_members",
         "dtype": "float64",
         "stats": {
          "unique_count": 12,
          "nan_count": 0,
          "min": "222.0",
          "max": "52070.0",
          "histogram": [
           {
            "bin_start": 222,
            "bin_end": 5406.8,
            "count": 10
           },
           {
            "bin_start": 5406.8,
            "bin_end": 10591.6,
            "count": 1
           },
           {
            "bin_start": 10591.6,
            "bin_end": 15776.400000000001,
            "count": 0
           },
           {
            "bin_start": 15776.400000000001,
            "bin_end": 20961.2,
            "count": 0
           },
           {
            "bin_start": 20961.2,
            "bin_end": 26146,
            "count": 0
           },
           {
            "bin_start": 26146,
            "bin_end": 31330.800000000003,
            "count": 0
           },
           {
            "bin_start": 31330.800000000003,
            "bin_end": 36515.6,
            "count": 0
           },
           {
            "bin_start": 36515.6,
            "bin_end": 41700.4,
            "count": 0
           },
           {
            "bin_start": 41700.4,
            "bin_end": 46885.200000000004,
            "count": 0
           },
           {
            "bin_start": 46885.200000000004,
            "bin_end": 52070,
            "count": 1
           }
          ]
         }
        },
        {
         "name": "state_pop",
         "dtype": "int64",
         "stats": {
          "unique_count": 12,
          "nan_count": 0,
          "min": "701547",
          "max": "21244317",
          "histogram": [
           {
            "bin_start": 701547,
            "bin_end": 2755824,
            "count": 3
           },
           {
            "bin_start": 2755824,
            "bin_end": 4810101,
            "count": 0
           },
           {
            "bin_start": 4810101,
            "bin_end": 6864378,
            "count": 2
           },
           {
            "bin_start": 6864378,
            "bin_end": 8918655,
            "count": 2
           },
           {
            "bin_start": 8918655,
            "bin_end": 10972932,
            "count": 2
           },
           {
            "bin_start": 10972932,
            "bin_end": 13027209,
            "count": 1
           },
           {
            "bin_start": 13027209,
            "bin_end": 15081486,
            "count": 0
           },
           {
            "bin_start": 15081486,
            "bin_end": 17135763,
            "count": 0
           },
           {
            "bin_start": 17135763,
            "bin_end": 19190040,
            "count": 0
           },
           {
            "bin_start": 19190040,
            "bin_end": 21244317,
            "count": 2
           }
          ]
         }
        },
        {
         "name": "_deepnote_index_column",
         "dtype": "int64"
        }
       ],
       "rows": [
        {
         "region": "South Atlantic",
         "state": "Delaware",
         "individuals": 708,
         "family_members": 374,
         "state_pop": 965479,
         "_deepnote_index_column": 7
        },
        {
         "region": "South Atlantic",
         "state": "District of Columbia",
         "individuals": 3770,
         "family_members": 3134,
         "state_pop": 701547,
         "_deepnote_index_column": 8
        },
        {
         "region": "South Atlantic",
         "state": "Florida",
         "individuals": 21443,
         "family_members": 9587,
         "state_pop": 21244317,
         "_deepnote_index_column": 9
        },
        {
         "region": "South Atlantic",
         "state": "Georgia",
         "individuals": 6943,
         "family_members": 2556,
         "state_pop": 10511131,
         "_deepnote_index_column": 10
        },
        {
         "region": "South Atlantic",
         "state": "Maryland",
         "individuals": 4914,
         "family_members": 2230,
         "state_pop": 6035802,
         "_deepnote_index_column": 20
        },
        {
         "region": "Mid-Atlantic",
         "state": "New Jersey",
         "individuals": 6048,
         "family_members": 3350,
         "state_pop": 8886025,
         "_deepnote_index_column": 30
        },
        {
         "region": "Mid-Atlantic",
         "state": "New York",
         "individuals": 39827,
         "family_members": 52070,
         "state_pop": 19530351,
         "_deepnote_index_column": 32
        },
        {
         "region": "South Atlantic",
         "state": "North Carolina",
         "individuals": 6451,
         "family_members": 2817,
         "state_pop": 10381615,
         "_deepnote_index_column": 33
        },
        {
         "region": "Mid-Atlantic",
         "state": "Pennsylvania",
         "individuals": 8163,
         "family_members": 5349,
         "state_pop": 12800922,
         "_deepnote_index_column": 38
        },
        {
         "region": "South Atlantic",
         "state": "South Carolina",
         "individuals": 3082,
         "family_members": 851,
         "state_pop": 5084156,
         "_deepnote_index_column": 40
        }
       ]
      },
      "text/plain": "            region                 state  individuals  family_members  \\\n7   South Atlantic              Delaware        708.0           374.0   \n8   South Atlantic  District of Columbia       3770.0          3134.0   \n9   South Atlantic               Florida      21443.0          9587.0   \n10  South Atlantic               Georgia       6943.0          2556.0   \n20  South Atlantic              Maryland       4914.0          2230.0   \n30    Mid-Atlantic            New Jersey       6048.0          3350.0   \n32    Mid-Atlantic              New York      39827.0         52070.0   \n33  South Atlantic        North Carolina       6451.0          2817.0   \n38    Mid-Atlantic          Pennsylvania       8163.0          5349.0   \n40  South Atlantic        South Carolina       3082.0           851.0   \n46  South Atlantic              Virginia       3928.0          2047.0   \n48  South Atlantic         West Virginia       1021.0           222.0   \n\n    state_pop  \n7      965479  \n8      701547  \n9    21244317  \n10   10511131  \n20    6035802  \n30    8886025  \n32   19530351  \n33   10381615  \n38   12800922  \n40    5084156  \n46    8501286  \n48    1804291  ",
      "text/html": "<div>\n<style scoped>\n    .dataframe tbody tr th:only-of-type {\n        vertical-align: middle;\n    }\n\n    .dataframe tbody tr th {\n        vertical-align: top;\n    }\n\n    .dataframe thead th {\n        text-align: right;\n    }\n</style>\n<table border=\"1\" class=\"dataframe\">\n  <thead>\n    <tr style=\"text-align: right;\">\n      <th></th>\n      <th>region</th>\n      <th>state</th>\n      <th>individuals</th>\n      <th>family_members</th>\n      <th>state_pop</th>\n    </tr>\n  </thead>\n  <tbody>\n    <tr>\n      <th>7</th>\n      <td>South Atlantic</td>\n      <td>Delaware</td>\n      <td>708.0</td>\n      <td>374.0</td>\n      <td>965479</td>\n    </tr>\n    <tr>\n      <th>8</th>\n      <td>South Atlantic</td>\n      <td>District of Columbia</td>\n      <td>3770.0</td>\n      <td>3134.0</td>\n      <td>701547</td>\n    </tr>\n    <tr>\n      <th>9</th>\n      <td>South Atlantic</td>\n      <td>Florida</td>\n      <td>21443.0</td>\n      <td>9587.0</td>\n      <td>21244317</td>\n    </tr>\n    <tr>\n      <th>10</th>\n      <td>South Atlantic</td>\n      <td>Georgia</td>\n      <td>6943.0</td>\n      <td>2556.0</td>\n      <td>10511131</td>\n    </tr>\n    <tr>\n      <th>20</th>\n      <td>South Atlantic</td>\n      <td>Maryland</td>\n      <td>4914.0</td>\n      <td>2230.0</td>\n      <td>6035802</td>\n    </tr>\n    <tr>\n      <th>30</th>\n      <td>Mid-Atlantic</td>\n      <td>New Jersey</td>\n      <td>6048.0</td>\n      <td>3350.0</td>\n      <td>8886025</td>\n    </tr>\n    <tr>\n      <th>32</th>\n      <td>Mid-Atlantic</td>\n      <td>New York</td>\n      <td>39827.0</td>\n      <td>52070.0</td>\n      <td>19530351</td>\n    </tr>\n    <tr>\n      <th>33</th>\n      <td>South Atlantic</td>\n      <td>North Carolina</td>\n      <td>6451.0</td>\n      <td>2817.0</td>\n      <td>10381615</td>\n    </tr>\n    <tr>\n      <th>38</th>\n      <td>Mid-Atlantic</td>\n      <td>Pennsylvania</td>\n      <td>8163.0</td>\n      <td>5349.0</td>\n      <td>12800922</td>\n    </tr>\n    <tr>\n      <th>40</th>\n      <td>South Atlantic</td>\n      <td>South Carolina</td>\n      <td>3082.0</td>\n      <td>851.0</td>\n      <td>5084156</td>\n    </tr>\n    <tr>\n      <th>46</th>\n      <td>South Atlantic</td>\n      <td>Virginia</td>\n      <td>3928.0</td>\n      <td>2047.0</td>\n      <td>8501286</td>\n    </tr>\n    <tr>\n      <th>48</th>\n      <td>South Atlantic</td>\n      <td>West Virginia</td>\n      <td>1021.0</td>\n      <td>222.0</td>\n      <td>1804291</td>\n    </tr>\n  </tbody>\n</table>\n</div>"
     },
     "metadata": {}
    }
   ]
  },
  {
   "cell_type": "code",
   "metadata": {
    "cell_id": "cf5b1820c9ea488d8c9ce5757d3a74cc",
    "tags": [],
    "deepnote_to_be_reexecuted": false,
    "source_hash": "ab9dc559",
    "execution_start": 1653948220787,
    "execution_millis": 26,
    "deepnote_cell_type": "code",
    "deepnote_cell_height": 667.078125
   },
   "source": "south_mid_atlantic_isin = homelessness[homelessness.region.isin(['South Atlantic', 'Mid-Atlantic'])]\nsouth_mid_atlantic_isin\n\n# ERROR! The .isin() method retuns a boolean series",
   "execution_count": null,
   "outputs": [
    {
     "output_type": "execute_result",
     "execution_count": 36,
     "data": {
      "application/vnd.deepnote.dataframe.v3+json": {
       "column_count": 5,
       "row_count": 12,
       "columns": [
        {
         "name": "region",
         "dtype": "object",
         "stats": {
          "unique_count": 2,
          "nan_count": 0,
          "categories": [
           {
            "name": "South Atlantic",
            "count": 9
           },
           {
            "name": "Mid-Atlantic",
            "count": 3
           }
          ]
         }
        },
        {
         "name": "state",
         "dtype": "object",
         "stats": {
          "unique_count": 12,
          "nan_count": 0,
          "categories": [
           {
            "name": "Delaware",
            "count": 1
           },
           {
            "name": "District of Columbia",
            "count": 1
           },
           {
            "name": "10 others",
            "count": 10
           }
          ]
         }
        },
        {
         "name": "individuals",
         "dtype": "float64",
         "stats": {
          "unique_count": 12,
          "nan_count": 0,
          "min": "708.0",
          "max": "39827.0",
          "histogram": [
           {
            "bin_start": 708,
            "bin_end": 4619.9,
            "count": 5
           },
           {
            "bin_start": 4619.9,
            "bin_end": 8531.8,
            "count": 5
           },
           {
            "bin_start": 8531.8,
            "bin_end": 12443.7,
            "count": 0
           },
           {
            "bin_start": 12443.7,
            "bin_end": 16355.6,
            "count": 0
           },
           {
            "bin_start": 16355.6,
            "bin_end": 20267.5,
            "count": 0
           },
           {
            "bin_start": 20267.5,
            "bin_end": 24179.4,
            "count": 1
           },
           {
            "bin_start": 24179.4,
            "bin_end": 28091.3,
            "count": 0
           },
           {
            "bin_start": 28091.3,
            "bin_end": 32003.2,
            "count": 0
           },
           {
            "bin_start": 32003.2,
            "bin_end": 35915.1,
            "count": 0
           },
           {
            "bin_start": 35915.1,
            "bin_end": 39827,
            "count": 1
           }
          ]
         }
        },
        {
         "name": "family_members",
         "dtype": "float64",
         "stats": {
          "unique_count": 12,
          "nan_count": 0,
          "min": "222.0",
          "max": "52070.0",
          "histogram": [
           {
            "bin_start": 222,
            "bin_end": 5406.8,
            "count": 10
           },
           {
            "bin_start": 5406.8,
            "bin_end": 10591.6,
            "count": 1
           },
           {
            "bin_start": 10591.6,
            "bin_end": 15776.400000000001,
            "count": 0
           },
           {
            "bin_start": 15776.400000000001,
            "bin_end": 20961.2,
            "count": 0
           },
           {
            "bin_start": 20961.2,
            "bin_end": 26146,
            "count": 0
           },
           {
            "bin_start": 26146,
            "bin_end": 31330.800000000003,
            "count": 0
           },
           {
            "bin_start": 31330.800000000003,
            "bin_end": 36515.6,
            "count": 0
           },
           {
            "bin_start": 36515.6,
            "bin_end": 41700.4,
            "count": 0
           },
           {
            "bin_start": 41700.4,
            "bin_end": 46885.200000000004,
            "count": 0
           },
           {
            "bin_start": 46885.200000000004,
            "bin_end": 52070,
            "count": 1
           }
          ]
         }
        },
        {
         "name": "state_pop",
         "dtype": "int64",
         "stats": {
          "unique_count": 12,
          "nan_count": 0,
          "min": "701547",
          "max": "21244317",
          "histogram": [
           {
            "bin_start": 701547,
            "bin_end": 2755824,
            "count": 3
           },
           {
            "bin_start": 2755824,
            "bin_end": 4810101,
            "count": 0
           },
           {
            "bin_start": 4810101,
            "bin_end": 6864378,
            "count": 2
           },
           {
            "bin_start": 6864378,
            "bin_end": 8918655,
            "count": 2
           },
           {
            "bin_start": 8918655,
            "bin_end": 10972932,
            "count": 2
           },
           {
            "bin_start": 10972932,
            "bin_end": 13027209,
            "count": 1
           },
           {
            "bin_start": 13027209,
            "bin_end": 15081486,
            "count": 0
           },
           {
            "bin_start": 15081486,
            "bin_end": 17135763,
            "count": 0
           },
           {
            "bin_start": 17135763,
            "bin_end": 19190040,
            "count": 0
           },
           {
            "bin_start": 19190040,
            "bin_end": 21244317,
            "count": 2
           }
          ]
         }
        },
        {
         "name": "_deepnote_index_column",
         "dtype": "int64"
        }
       ],
       "rows": [
        {
         "region": "South Atlantic",
         "state": "Delaware",
         "individuals": 708,
         "family_members": 374,
         "state_pop": 965479,
         "_deepnote_index_column": 7
        },
        {
         "region": "South Atlantic",
         "state": "District of Columbia",
         "individuals": 3770,
         "family_members": 3134,
         "state_pop": 701547,
         "_deepnote_index_column": 8
        },
        {
         "region": "South Atlantic",
         "state": "Florida",
         "individuals": 21443,
         "family_members": 9587,
         "state_pop": 21244317,
         "_deepnote_index_column": 9
        },
        {
         "region": "South Atlantic",
         "state": "Georgia",
         "individuals": 6943,
         "family_members": 2556,
         "state_pop": 10511131,
         "_deepnote_index_column": 10
        },
        {
         "region": "South Atlantic",
         "state": "Maryland",
         "individuals": 4914,
         "family_members": 2230,
         "state_pop": 6035802,
         "_deepnote_index_column": 20
        },
        {
         "region": "Mid-Atlantic",
         "state": "New Jersey",
         "individuals": 6048,
         "family_members": 3350,
         "state_pop": 8886025,
         "_deepnote_index_column": 30
        },
        {
         "region": "Mid-Atlantic",
         "state": "New York",
         "individuals": 39827,
         "family_members": 52070,
         "state_pop": 19530351,
         "_deepnote_index_column": 32
        },
        {
         "region": "South Atlantic",
         "state": "North Carolina",
         "individuals": 6451,
         "family_members": 2817,
         "state_pop": 10381615,
         "_deepnote_index_column": 33
        },
        {
         "region": "Mid-Atlantic",
         "state": "Pennsylvania",
         "individuals": 8163,
         "family_members": 5349,
         "state_pop": 12800922,
         "_deepnote_index_column": 38
        },
        {
         "region": "South Atlantic",
         "state": "South Carolina",
         "individuals": 3082,
         "family_members": 851,
         "state_pop": 5084156,
         "_deepnote_index_column": 40
        }
       ]
      },
      "text/plain": "            region                 state  individuals  family_members  \\\n7   South Atlantic              Delaware        708.0           374.0   \n8   South Atlantic  District of Columbia       3770.0          3134.0   \n9   South Atlantic               Florida      21443.0          9587.0   \n10  South Atlantic               Georgia       6943.0          2556.0   \n20  South Atlantic              Maryland       4914.0          2230.0   \n30    Mid-Atlantic            New Jersey       6048.0          3350.0   \n32    Mid-Atlantic              New York      39827.0         52070.0   \n33  South Atlantic        North Carolina       6451.0          2817.0   \n38    Mid-Atlantic          Pennsylvania       8163.0          5349.0   \n40  South Atlantic        South Carolina       3082.0           851.0   \n46  South Atlantic              Virginia       3928.0          2047.0   \n48  South Atlantic         West Virginia       1021.0           222.0   \n\n    state_pop  \n7      965479  \n8      701547  \n9    21244317  \n10   10511131  \n20    6035802  \n30    8886025  \n32   19530351  \n33   10381615  \n38   12800922  \n40    5084156  \n46    8501286  \n48    1804291  ",
      "text/html": "<div>\n<style scoped>\n    .dataframe tbody tr th:only-of-type {\n        vertical-align: middle;\n    }\n\n    .dataframe tbody tr th {\n        vertical-align: top;\n    }\n\n    .dataframe thead th {\n        text-align: right;\n    }\n</style>\n<table border=\"1\" class=\"dataframe\">\n  <thead>\n    <tr style=\"text-align: right;\">\n      <th></th>\n      <th>region</th>\n      <th>state</th>\n      <th>individuals</th>\n      <th>family_members</th>\n      <th>state_pop</th>\n    </tr>\n  </thead>\n  <tbody>\n    <tr>\n      <th>7</th>\n      <td>South Atlantic</td>\n      <td>Delaware</td>\n      <td>708.0</td>\n      <td>374.0</td>\n      <td>965479</td>\n    </tr>\n    <tr>\n      <th>8</th>\n      <td>South Atlantic</td>\n      <td>District of Columbia</td>\n      <td>3770.0</td>\n      <td>3134.0</td>\n      <td>701547</td>\n    </tr>\n    <tr>\n      <th>9</th>\n      <td>South Atlantic</td>\n      <td>Florida</td>\n      <td>21443.0</td>\n      <td>9587.0</td>\n      <td>21244317</td>\n    </tr>\n    <tr>\n      <th>10</th>\n      <td>South Atlantic</td>\n      <td>Georgia</td>\n      <td>6943.0</td>\n      <td>2556.0</td>\n      <td>10511131</td>\n    </tr>\n    <tr>\n      <th>20</th>\n      <td>South Atlantic</td>\n      <td>Maryland</td>\n      <td>4914.0</td>\n      <td>2230.0</td>\n      <td>6035802</td>\n    </tr>\n    <tr>\n      <th>30</th>\n      <td>Mid-Atlantic</td>\n      <td>New Jersey</td>\n      <td>6048.0</td>\n      <td>3350.0</td>\n      <td>8886025</td>\n    </tr>\n    <tr>\n      <th>32</th>\n      <td>Mid-Atlantic</td>\n      <td>New York</td>\n      <td>39827.0</td>\n      <td>52070.0</td>\n      <td>19530351</td>\n    </tr>\n    <tr>\n      <th>33</th>\n      <td>South Atlantic</td>\n      <td>North Carolina</td>\n      <td>6451.0</td>\n      <td>2817.0</td>\n      <td>10381615</td>\n    </tr>\n    <tr>\n      <th>38</th>\n      <td>Mid-Atlantic</td>\n      <td>Pennsylvania</td>\n      <td>8163.0</td>\n      <td>5349.0</td>\n      <td>12800922</td>\n    </tr>\n    <tr>\n      <th>40</th>\n      <td>South Atlantic</td>\n      <td>South Carolina</td>\n      <td>3082.0</td>\n      <td>851.0</td>\n      <td>5084156</td>\n    </tr>\n    <tr>\n      <th>46</th>\n      <td>South Atlantic</td>\n      <td>Virginia</td>\n      <td>3928.0</td>\n      <td>2047.0</td>\n      <td>8501286</td>\n    </tr>\n    <tr>\n      <th>48</th>\n      <td>South Atlantic</td>\n      <td>West Virginia</td>\n      <td>1021.0</td>\n      <td>222.0</td>\n      <td>1804291</td>\n    </tr>\n  </tbody>\n</table>\n</div>"
     },
     "metadata": {}
    }
   ]
  },
  {
   "cell_type": "code",
   "metadata": {
    "cell_id": "9e7de396dc2942bb9cdbe5b1e2e7b5f5",
    "tags": [],
    "deepnote_to_be_reexecuted": false,
    "source_hash": "d2229902",
    "execution_start": 1653948254917,
    "execution_millis": 19,
    "deepnote_cell_type": "code",
    "deepnote_cell_height": 439.078125
   },
   "source": "# Filter homelessness for cases where the USA census state is in the list of Mojave states, canu, assigning to mojave_homelessness \n# View the printed result\ncanu = [\"California\", \"Arizona\", \"Nevada\", \"Utah\"]\nmojave_homelessness = homelessness[homelessness['state'].isin(canu)]\nmojave_homelessness",
   "execution_count": null,
   "outputs": [
    {
     "output_type": "execute_result",
     "execution_count": 37,
     "data": {
      "application/vnd.deepnote.dataframe.v3+json": {
       "column_count": 5,
       "row_count": 4,
       "columns": [
        {
         "name": "region",
         "dtype": "object",
         "stats": {
          "unique_count": 2,
          "nan_count": 0,
          "categories": [
           {
            "name": "Mountain",
            "count": 3
           },
           {
            "name": "Pacific",
            "count": 1
           }
          ]
         }
        },
        {
         "name": "state",
         "dtype": "object",
         "stats": {
          "unique_count": 4,
          "nan_count": 0,
          "categories": [
           {
            "name": "Arizona",
            "count": 1
           },
           {
            "name": "California",
            "count": 1
           },
           {
            "name": "2 others",
            "count": 2
           }
          ]
         }
        },
        {
         "name": "individuals",
         "dtype": "float64",
         "stats": {
          "unique_count": 4,
          "nan_count": 0,
          "min": "1904.0",
          "max": "109008.0",
          "histogram": [
           {
            "bin_start": 1904,
            "bin_end": 12614.4,
            "count": 3
           },
           {
            "bin_start": 12614.4,
            "bin_end": 23324.8,
            "count": 0
           },
           {
            "bin_start": 23324.8,
            "bin_end": 34035.2,
            "count": 0
           },
           {
            "bin_start": 34035.2,
            "bin_end": 44745.6,
            "count": 0
           },
           {
            "bin_start": 44745.6,
            "bin_end": 55456,
            "count": 0
           },
           {
            "bin_start": 55456,
            "bin_end": 66166.4,
            "count": 0
           },
           {
            "bin_start": 66166.4,
            "bin_end": 76876.8,
            "count": 0
           },
           {
            "bin_start": 76876.8,
            "bin_end": 87587.2,
            "count": 0
           },
           {
            "bin_start": 87587.2,
            "bin_end": 98297.59999999999,
            "count": 0
           },
           {
            "bin_start": 98297.59999999999,
            "bin_end": 109008,
            "count": 1
           }
          ]
         }
        },
        {
         "name": "family_members",
         "dtype": "float64",
         "stats": {
          "unique_count": 4,
          "nan_count": 0,
          "min": "486.0",
          "max": "20964.0",
          "histogram": [
           {
            "bin_start": 486,
            "bin_end": 2533.8,
            "count": 2
           },
           {
            "bin_start": 2533.8,
            "bin_end": 4581.6,
            "count": 1
           },
           {
            "bin_start": 4581.6,
            "bin_end": 6629.4,
            "count": 0
           },
           {
            "bin_start": 6629.4,
            "bin_end": 8677.2,
            "count": 0
           },
           {
            "bin_start": 8677.2,
            "bin_end": 10725,
            "count": 0
           },
           {
            "bin_start": 10725,
            "bin_end": 12772.8,
            "count": 0
           },
           {
            "bin_start": 12772.8,
            "bin_end": 14820.6,
            "count": 0
           },
           {
            "bin_start": 14820.6,
            "bin_end": 16868.4,
            "count": 0
           },
           {
            "bin_start": 16868.4,
            "bin_end": 18916.2,
            "count": 0
           },
           {
            "bin_start": 18916.2,
            "bin_end": 20964,
            "count": 1
           }
          ]
         }
        },
        {
         "name": "state_pop",
         "dtype": "int64",
         "stats": {
          "unique_count": 4,
          "nan_count": 0,
          "min": "3027341",
          "max": "39461588",
          "histogram": [
           {
            "bin_start": 3027341,
            "bin_end": 6670765.7,
            "count": 2
           },
           {
            "bin_start": 6670765.7,
            "bin_end": 10314190.4,
            "count": 1
           },
           {
            "bin_start": 10314190.4,
            "bin_end": 13957615.100000001,
            "count": 0
           },
           {
            "bin_start": 13957615.100000001,
            "bin_end": 17601039.8,
            "count": 0
           },
           {
            "bin_start": 17601039.8,
            "bin_end": 21244464.5,
            "count": 0
           },
           {
            "bin_start": 21244464.5,
            "bin_end": 24887889.200000003,
            "count": 0
           },
           {
            "bin_start": 24887889.200000003,
            "bin_end": 28531313.900000002,
            "count": 0
           },
           {
            "bin_start": 28531313.900000002,
            "bin_end": 32174738.6,
            "count": 0
           },
           {
            "bin_start": 32174738.6,
            "bin_end": 35818163.3,
            "count": 0
           },
           {
            "bin_start": 35818163.3,
            "bin_end": 39461588,
            "count": 1
           }
          ]
         }
        },
        {
         "name": "_deepnote_index_column",
         "dtype": "int64"
        }
       ],
       "rows": [
        {
         "region": "Mountain",
         "state": "Arizona",
         "individuals": 7259,
         "family_members": 2606,
         "state_pop": 7158024,
         "_deepnote_index_column": 2
        },
        {
         "region": "Pacific",
         "state": "California",
         "individuals": 109008,
         "family_members": 20964,
         "state_pop": 39461588,
         "_deepnote_index_column": 4
        },
        {
         "region": "Mountain",
         "state": "Nevada",
         "individuals": 7058,
         "family_members": 486,
         "state_pop": 3027341,
         "_deepnote_index_column": 28
        },
        {
         "region": "Mountain",
         "state": "Utah",
         "individuals": 1904,
         "family_members": 972,
         "state_pop": 3153550,
         "_deepnote_index_column": 44
        }
       ]
      },
      "text/plain": "      region       state  individuals  family_members  state_pop\n2   Mountain     Arizona       7259.0          2606.0    7158024\n4    Pacific  California     109008.0         20964.0   39461588\n28  Mountain      Nevada       7058.0           486.0    3027341\n44  Mountain        Utah       1904.0           972.0    3153550",
      "text/html": "<div>\n<style scoped>\n    .dataframe tbody tr th:only-of-type {\n        vertical-align: middle;\n    }\n\n    .dataframe tbody tr th {\n        vertical-align: top;\n    }\n\n    .dataframe thead th {\n        text-align: right;\n    }\n</style>\n<table border=\"1\" class=\"dataframe\">\n  <thead>\n    <tr style=\"text-align: right;\">\n      <th></th>\n      <th>region</th>\n      <th>state</th>\n      <th>individuals</th>\n      <th>family_members</th>\n      <th>state_pop</th>\n    </tr>\n  </thead>\n  <tbody>\n    <tr>\n      <th>2</th>\n      <td>Mountain</td>\n      <td>Arizona</td>\n      <td>7259.0</td>\n      <td>2606.0</td>\n      <td>7158024</td>\n    </tr>\n    <tr>\n      <th>4</th>\n      <td>Pacific</td>\n      <td>California</td>\n      <td>109008.0</td>\n      <td>20964.0</td>\n      <td>39461588</td>\n    </tr>\n    <tr>\n      <th>28</th>\n      <td>Mountain</td>\n      <td>Nevada</td>\n      <td>7058.0</td>\n      <td>486.0</td>\n      <td>3027341</td>\n    </tr>\n    <tr>\n      <th>44</th>\n      <td>Mountain</td>\n      <td>Utah</td>\n      <td>1904.0</td>\n      <td>972.0</td>\n      <td>3153550</td>\n    </tr>\n  </tbody>\n</table>\n</div>"
     },
     "metadata": {}
    }
   ]
  },
  {
   "cell_type": "markdown",
   "source": "## New columns",
   "metadata": {
    "cell_id": "610f96a7ee624106814cdf7065cb7883",
    "tags": [],
    "is_collapsed": false,
    "deepnote_cell_type": "text-cell-h2"
   }
  },
  {
   "cell_type": "code",
   "metadata": {
    "cell_id": "ccdf7cc3a887454e83fa3ebcfd119913",
    "tags": [],
    "deepnote_to_be_reexecuted": false,
    "source_hash": "b4520376",
    "execution_start": 1653948477826,
    "execution_millis": 6,
    "deepnote_cell_type": "code",
    "deepnote_cell_height": 250.140625,
    "deepnote_output_heights": [
     117.15625
    ]
   },
   "source": "# Add a new column to homelessness, named total, containing the sum of the individuals and family_members columns\nhomelessness['total'] = homelessness['individuals'] + homelessness['family_members']\nhomelessness['total'].head()",
   "execution_count": null,
   "outputs": [
    {
     "output_type": "execute_result",
     "execution_count": 40,
     "data": {
      "text/plain": "0      3434.0\n1      2016.0\n2      9865.0\n3      2712.0\n4    129972.0\nName: total, dtype: float64"
     },
     "metadata": {}
    }
   ]
  },
  {
   "cell_type": "code",
   "metadata": {
    "cell_id": "299f4ce232d14f6ab01e2b8f605c6b01",
    "tags": [],
    "deepnote_to_be_reexecuted": false,
    "source_hash": "2dbb9d40",
    "execution_start": 1653948493970,
    "execution_millis": 3,
    "deepnote_cell_type": "code",
    "deepnote_cell_height": 250.140625,
    "deepnote_output_heights": [
     117.15625
    ]
   },
   "source": "# Add another column to homelessness, named p_individuals, containing the proportion of homeless people in each state who are individuals\nhomelessness['p_individuals'] = homelessness['individuals']/homelessness['total'] \nhomelessness['p_individuals'].head()",
   "execution_count": null,
   "outputs": [
    {
     "output_type": "execute_result",
     "execution_count": 41,
     "data": {
      "text/plain": "0    0.748398\n1    0.711310\n2    0.735834\n3    0.840708\n4    0.838704\nName: p_individuals, dtype: float64"
     },
     "metadata": {}
    }
   ]
  },
  {
   "cell_type": "code",
   "metadata": {
    "cell_id": "e7fe2af3fa5943d9810ca85d9dcf03f5",
    "tags": [],
    "deepnote_to_be_reexecuted": false,
    "source_hash": "95aa2b89",
    "execution_start": 1653948964413,
    "execution_millis": 1,
    "deepnote_cell_type": "code",
    "deepnote_cell_height": 99
   },
   "source": "# Add a column to homelessness, indiv_per_10k, containing the number of homeless individuals per ten thousand people in each state\nhomelessness['indiv_per_10k'] = (homelessness['individuals']/homelessness['state_pop']) * 10000",
   "execution_count": null,
   "outputs": []
  },
  {
   "cell_type": "code",
   "metadata": {
    "cell_id": "dfdb04907157482e9b947409fb6523b5",
    "tags": [],
    "deepnote_to_be_reexecuted": false,
    "source_hash": "659c4539",
    "execution_start": 1653948980686,
    "execution_millis": 27,
    "deepnote_cell_type": "code",
    "deepnote_cell_height": 526.078125
   },
   "source": "# Subset rows where indiv_per_10k is higher than 20, assigning to high_homelessness\nhigh_homelessness = homelessness[homelessness.indiv_per_10k > 20]\nhigh_homelessness",
   "execution_count": null,
   "outputs": [
    {
     "output_type": "execute_result",
     "execution_count": 52,
     "data": {
      "application/vnd.deepnote.dataframe.v3+json": {
       "column_count": 8,
       "row_count": 7,
       "columns": [
        {
         "name": "region",
         "dtype": "object",
         "stats": {
          "unique_count": 4,
          "nan_count": 0,
          "categories": [
           {
            "name": "Pacific",
            "count": 4
           },
           {
            "name": "South Atlantic",
            "count": 1
           },
           {
            "name": "2 others",
            "count": 2
           }
          ]
         }
        },
        {
         "name": "state",
         "dtype": "object",
         "stats": {
          "unique_count": 7,
          "nan_count": 0,
          "categories": [
           {
            "name": "California",
            "count": 1
           },
           {
            "name": "District of Columbia",
            "count": 1
           },
           {
            "name": "5 others",
            "count": 5
           }
          ]
         }
        },
        {
         "name": "individuals",
         "dtype": "float64",
         "stats": {
          "unique_count": 7,
          "nan_count": 0,
          "min": "3770.0",
          "max": "109008.0",
          "histogram": [
           {
            "bin_start": 3770,
            "bin_end": 14293.8,
            "count": 4
           },
           {
            "bin_start": 14293.8,
            "bin_end": 24817.6,
            "count": 1
           },
           {
            "bin_start": 24817.6,
            "bin_end": 35341.399999999994,
            "count": 0
           },
           {
            "bin_start": 35341.399999999994,
            "bin_end": 45865.2,
            "count": 1
           },
           {
            "bin_start": 45865.2,
            "bin_end": 56389,
            "count": 0
           },
           {
            "bin_start": 56389,
            "bin_end": 66912.79999999999,
            "count": 0
           },
           {
            "bin_start": 66912.79999999999,
            "bin_end": 77436.59999999999,
            "count": 0
           },
           {
            "bin_start": 77436.59999999999,
            "bin_end": 87960.4,
            "count": 0
           },
           {
            "bin_start": 87960.4,
            "bin_end": 98484.2,
            "count": 0
           },
           {
            "bin_start": 98484.2,
            "bin_end": 109008,
            "count": 1
           }
          ]
         }
        },
        {
         "name": "family_members",
         "dtype": "float64",
         "stats": {
          "unique_count": 7,
          "nan_count": 0,
          "min": "486.0",
          "max": "52070.0",
          "histogram": [
           {
            "bin_start": 486,
            "bin_end": 5644.4,
            "count": 4
           },
           {
            "bin_start": 5644.4,
            "bin_end": 10802.8,
            "count": 1
           },
           {
            "bin_start": 10802.8,
            "bin_end": 15961.199999999999,
            "count": 0
           },
           {
            "bin_start": 15961.199999999999,
            "bin_end": 21119.6,
            "count": 1
           },
           {
            "bin_start": 21119.6,
            "bin_end": 26278,
            "count": 0
           },
           {
            "bin_start": 26278,
            "bin_end": 31436.399999999998,
            "count": 0
           },
           {
            "bin_start": 31436.399999999998,
            "bin_end": 36594.799999999996,
            "count": 0
           },
           {
            "bin_start": 36594.799999999996,
            "bin_end": 41753.2,
            "count": 0
           },
           {
            "bin_start": 41753.2,
            "bin_end": 46911.6,
            "count": 0
           },
           {
            "bin_start": 46911.6,
            "bin_end": 52070,
            "count": 1
           }
          ]
         }
        },
        {
         "name": "state_pop",
         "dtype": "int64",
         "stats": {
          "unique_count": 7,
          "nan_count": 0,
          "min": "701547",
          "max": "39461588",
          "histogram": [
           {
            "bin_start": 701547,
            "bin_end": 4577551.1,
            "count": 4
           },
           {
            "bin_start": 4577551.1,
            "bin_end": 8453555.2,
            "count": 1
           },
           {
            "bin_start": 8453555.2,
            "bin_end": 12329559.3,
            "count": 0
           },
           {
            "bin_start": 12329559.3,
            "bin_end": 16205563.4,
            "count": 0
           },
           {
            "bin_start": 16205563.4,
            "bin_end": 20081567.5,
            "count": 1
           },
           {
            "bin_start": 20081567.5,
            "bin_end": 23957571.6,
            "count": 0
           },
           {
            "bin_start": 23957571.6,
            "bin_end": 27833575.7,
            "count": 0
           },
           {
            "bin_start": 27833575.7,
            "bin_end": 31709579.8,
            "count": 0
           },
           {
            "bin_start": 31709579.8,
            "bin_end": 35585583.9,
            "count": 0
           },
           {
            "bin_start": 35585583.9,
            "bin_end": 39461588,
            "count": 1
           }
          ]
         }
        },
        {
         "name": "total",
         "dtype": "float64",
         "stats": {
          "unique_count": 7,
          "nan_count": 0,
          "min": "6530.0",
          "max": "129972.0",
          "histogram": [
           {
            "bin_start": 6530,
            "bin_end": 18874.2,
            "count": 4
           },
           {
            "bin_start": 18874.2,
            "bin_end": 31218.4,
            "count": 1
           },
           {
            "bin_start": 31218.4,
            "bin_end": 43562.600000000006,
            "count": 0
           },
           {
            "bin_start": 43562.600000000006,
            "bin_end": 55906.8,
            "count": 0
           },
           {
            "bin_start": 55906.8,
            "bin_end": 68251,
            "count": 0
           },
           {
            "bin_start": 68251,
            "bin_end": 80595.20000000001,
            "count": 0
           },
           {
            "bin_start": 80595.20000000001,
            "bin_end": 92939.40000000001,
            "count": 1
           },
           {
            "bin_start": 92939.40000000001,
            "bin_end": 105283.6,
            "count": 0
           },
           {
            "bin_start": 105283.6,
            "bin_end": 117627.8,
            "count": 0
           },
           {
            "bin_start": 117627.8,
            "bin_end": 129972,
            "count": 1
           }
          ]
         }
        },
        {
         "name": "p_individuals",
         "dtype": "float64",
         "stats": {
          "unique_count": 7,
          "nan_count": 0,
          "min": "0.43338737934861854",
          "max": "0.9355779427359491",
          "histogram": [
           {
            "bin_start": 0.43338737934861854,
            "bin_end": 0.48360643568735157,
            "count": 1
           },
           {
            "bin_start": 0.48360643568735157,
            "bin_end": 0.5338254920260846,
            "count": 0
           },
           {
            "bin_start": 0.5338254920260846,
            "bin_end": 0.5840445483648177,
            "count": 1
           },
           {
            "bin_start": 0.5840445483648177,
            "bin_end": 0.6342636047035507,
            "count": 1
           },
           {
            "bin_start": 0.6342636047035507,
            "bin_end": 0.6844826610422838,
            "count": 0
           },
           {
            "bin_start": 0.6844826610422838,
            "bin_end": 0.7347017173810169,
            "count": 0
           },
           {
            "bin_start": 0.7347017173810169,
            "bin_end": 0.7849207737197499,
            "count": 2
           },
           {
            "bin_start": 0.7849207737197499,
            "bin_end": 0.8351398300584829,
            "count": 0
           },
           {
            "bin_start": 0.8351398300584829,
            "bin_end": 0.8853588863972159,
            "count": 1
           },
           {
            "bin_start": 0.8853588863972159,
            "bin_end": 0.9355779427359491,
            "count": 1
           }
          ]
         }
        },
        {
         "name": "indiv_per_10k",
         "dtype": "float64",
         "stats": {
          "unique_count": 7,
          "nan_count": 0,
          "min": "20.392362635981296",
          "max": "53.73838103505538",
          "histogram": [
           {
            "bin_start": 20.392362635981296,
            "bin_end": 23.726964475888703,
            "count": 3
           },
           {
            "bin_start": 23.726964475888703,
            "bin_end": 27.061566315796114,
            "count": 1
           },
           {
            "bin_start": 27.061566315796114,
            "bin_end": 30.39616815570352,
            "count": 2
           },
           {
            "bin_start": 30.39616815570352,
            "bin_end": 33.73076999561093,
            "count": 0
           },
           {
            "bin_start": 33.73076999561093,
            "bin_end": 37.065371835518334,
            "count": 0
           },
           {
            "bin_start": 37.065371835518334,
            "bin_end": 40.39997367542574,
            "count": 0
           },
           {
            "bin_start": 40.39997367542574,
            "bin_end": 43.734575515333155,
            "count": 0
           },
           {
            "bin_start": 43.734575515333155,
            "bin_end": 47.06917735524056,
            "count": 0
           },
           {
            "bin_start": 47.06917735524056,
            "bin_end": 50.40377919514797,
            "count": 0
           },
           {
            "bin_start": 50.40377919514797,
            "bin_end": 53.73838103505538,
            "count": 1
           }
          ]
         }
        },
        {
         "name": "_deepnote_index_column",
         "dtype": "int64"
        }
       ],
       "rows": [
        {
         "region": "Pacific",
         "state": "California",
         "individuals": 109008,
         "family_members": 20964,
         "state_pop": 39461588,
         "total": 129972,
         "p_individuals": 0.8387037208014034,
         "indiv_per_10k": 27.62382497126066,
         "_deepnote_index_column": 4
        },
        {
         "region": "South Atlantic",
         "state": "District of Columbia",
         "individuals": 3770,
         "family_members": 3134,
         "state_pop": 701547,
         "total": 6904,
         "p_individuals": 0.5460602549246814,
         "indiv_per_10k": 53.73838103505538,
         "_deepnote_index_column": 8
        },
        {
         "region": "Pacific",
         "state": "Hawaii",
         "individuals": 4131,
         "family_members": 2399,
         "state_pop": 1420593,
         "total": 6530,
         "p_individuals": 0.6326186830015313,
         "indiv_per_10k": 29.079405572180068,
         "_deepnote_index_column": 11
        },
        {
         "region": "Mountain",
         "state": "Nevada",
         "individuals": 7058,
         "family_members": 486,
         "state_pop": 3027341,
         "total": 7544,
         "p_individuals": 0.9355779427359491,
         "indiv_per_10k": 23.314188920243872,
         "_deepnote_index_column": 28
        },
        {
         "region": "Mid-Atlantic",
         "state": "New York",
         "individuals": 39827,
         "family_members": 52070,
         "state_pop": 19530351,
         "total": 91897,
         "p_individuals": 0.43338737934861854,
         "indiv_per_10k": 20.392362635981296,
         "_deepnote_index_column": 32
        },
        {
         "region": "Pacific",
         "state": "Oregon",
         "individuals": 11139,
         "family_members": 3337,
         "state_pop": 4181886,
         "total": 14476,
         "p_individuals": 0.7694805194805194,
         "indiv_per_10k": 26.636307159018685,
         "_deepnote_index_column": 37
        },
        {
         "region": "Pacific",
         "state": "Washington",
         "individuals": 16424,
         "family_members": 5880,
         "state_pop": 7523869,
         "total": 22304,
         "p_individuals": 0.7363701578192252,
         "indiv_per_10k": 21.82919452744326,
         "_deepnote_index_column": 47
        }
       ]
      },
      "text/plain": "            region                 state  individuals  family_members  \\\n4          Pacific            California     109008.0         20964.0   \n8   South Atlantic  District of Columbia       3770.0          3134.0   \n11         Pacific                Hawaii       4131.0          2399.0   \n28        Mountain                Nevada       7058.0           486.0   \n32    Mid-Atlantic              New York      39827.0         52070.0   \n37         Pacific                Oregon      11139.0          3337.0   \n47         Pacific            Washington      16424.0          5880.0   \n\n    state_pop     total  p_individuals  indiv_per_10k  \n4    39461588  129972.0       0.838704      27.623825  \n8      701547    6904.0       0.546060      53.738381  \n11    1420593    6530.0       0.632619      29.079406  \n28    3027341    7544.0       0.935578      23.314189  \n32   19530351   91897.0       0.433387      20.392363  \n37    4181886   14476.0       0.769481      26.636307  \n47    7523869   22304.0       0.736370      21.829195  ",
      "text/html": "<div>\n<style scoped>\n    .dataframe tbody tr th:only-of-type {\n        vertical-align: middle;\n    }\n\n    .dataframe tbody tr th {\n        vertical-align: top;\n    }\n\n    .dataframe thead th {\n        text-align: right;\n    }\n</style>\n<table border=\"1\" class=\"dataframe\">\n  <thead>\n    <tr style=\"text-align: right;\">\n      <th></th>\n      <th>region</th>\n      <th>state</th>\n      <th>individuals</th>\n      <th>family_members</th>\n      <th>state_pop</th>\n      <th>total</th>\n      <th>p_individuals</th>\n      <th>indiv_per_10k</th>\n    </tr>\n  </thead>\n  <tbody>\n    <tr>\n      <th>4</th>\n      <td>Pacific</td>\n      <td>California</td>\n      <td>109008.0</td>\n      <td>20964.0</td>\n      <td>39461588</td>\n      <td>129972.0</td>\n      <td>0.838704</td>\n      <td>27.623825</td>\n    </tr>\n    <tr>\n      <th>8</th>\n      <td>South Atlantic</td>\n      <td>District of Columbia</td>\n      <td>3770.0</td>\n      <td>3134.0</td>\n      <td>701547</td>\n      <td>6904.0</td>\n      <td>0.546060</td>\n      <td>53.738381</td>\n    </tr>\n    <tr>\n      <th>11</th>\n      <td>Pacific</td>\n      <td>Hawaii</td>\n      <td>4131.0</td>\n      <td>2399.0</td>\n      <td>1420593</td>\n      <td>6530.0</td>\n      <td>0.632619</td>\n      <td>29.079406</td>\n    </tr>\n    <tr>\n      <th>28</th>\n      <td>Mountain</td>\n      <td>Nevada</td>\n      <td>7058.0</td>\n      <td>486.0</td>\n      <td>3027341</td>\n      <td>7544.0</td>\n      <td>0.935578</td>\n      <td>23.314189</td>\n    </tr>\n    <tr>\n      <th>32</th>\n      <td>Mid-Atlantic</td>\n      <td>New York</td>\n      <td>39827.0</td>\n      <td>52070.0</td>\n      <td>19530351</td>\n      <td>91897.0</td>\n      <td>0.433387</td>\n      <td>20.392363</td>\n    </tr>\n    <tr>\n      <th>37</th>\n      <td>Pacific</td>\n      <td>Oregon</td>\n      <td>11139.0</td>\n      <td>3337.0</td>\n      <td>4181886</td>\n      <td>14476.0</td>\n      <td>0.769481</td>\n      <td>26.636307</td>\n    </tr>\n    <tr>\n      <th>47</th>\n      <td>Pacific</td>\n      <td>Washington</td>\n      <td>16424.0</td>\n      <td>5880.0</td>\n      <td>7523869</td>\n      <td>22304.0</td>\n      <td>0.736370</td>\n      <td>21.829195</td>\n    </tr>\n  </tbody>\n</table>\n</div>"
     },
     "metadata": {}
    }
   ]
  },
  {
   "cell_type": "code",
   "metadata": {
    "cell_id": "059ca08c27444dc4930e76b06023e5b9",
    "tags": [],
    "deepnote_to_be_reexecuted": false,
    "source_hash": "a5a33ae7",
    "execution_start": 1653949033699,
    "execution_millis": 2,
    "deepnote_cell_type": "code",
    "deepnote_cell_height": 99
   },
   "source": "# Sort high_homelessness by descending indiv_per_10k, assigning to high_homelessness_srt\nhigh_homelessness_srt = high_homelessness.sort_values('indiv_per_10k', ascending=False)",
   "execution_count": null,
   "outputs": []
  },
  {
   "cell_type": "code",
   "metadata": {
    "cell_id": "81baa4bc7f79437d84bc098ac6346351",
    "tags": [],
    "deepnote_to_be_reexecuted": false,
    "source_hash": "856e0b6c",
    "execution_start": 1653949119567,
    "execution_millis": 7,
    "deepnote_cell_type": "code",
    "deepnote_cell_height": 531
   },
   "source": "# Select only the state and indiv_per_10k columns of high_homelessness_srt and save as result \n# Look at the result\nresult = high_homelessness_srt[['state', 'indiv_per_10k']]\nresult",
   "execution_count": null,
   "outputs": [
    {
     "output_type": "execute_result",
     "execution_count": 54,
     "data": {
      "application/vnd.deepnote.dataframe.v3+json": {
       "column_count": 2,
       "row_count": 7,
       "columns": [
        {
         "name": "state",
         "dtype": "object",
         "stats": {
          "unique_count": 7,
          "nan_count": 0,
          "categories": [
           {
            "name": "District of Columbia",
            "count": 1
           },
           {
            "name": "Hawaii",
            "count": 1
           },
           {
            "name": "5 others",
            "count": 5
           }
          ]
         }
        },
        {
         "name": "indiv_per_10k",
         "dtype": "float64",
         "stats": {
          "unique_count": 7,
          "nan_count": 0,
          "min": "20.392362635981296",
          "max": "53.73838103505538",
          "histogram": [
           {
            "bin_start": 20.392362635981296,
            "bin_end": 23.726964475888703,
            "count": 3
           },
           {
            "bin_start": 23.726964475888703,
            "bin_end": 27.061566315796114,
            "count": 1
           },
           {
            "bin_start": 27.061566315796114,
            "bin_end": 30.39616815570352,
            "count": 2
           },
           {
            "bin_start": 30.39616815570352,
            "bin_end": 33.73076999561093,
            "count": 0
           },
           {
            "bin_start": 33.73076999561093,
            "bin_end": 37.065371835518334,
            "count": 0
           },
           {
            "bin_start": 37.065371835518334,
            "bin_end": 40.39997367542574,
            "count": 0
           },
           {
            "bin_start": 40.39997367542574,
            "bin_end": 43.734575515333155,
            "count": 0
           },
           {
            "bin_start": 43.734575515333155,
            "bin_end": 47.06917735524056,
            "count": 0
           },
           {
            "bin_start": 47.06917735524056,
            "bin_end": 50.40377919514797,
            "count": 0
           },
           {
            "bin_start": 50.40377919514797,
            "bin_end": 53.73838103505538,
            "count": 1
           }
          ]
         }
        },
        {
         "name": "_deepnote_index_column",
         "dtype": "int64"
        }
       ],
       "rows": [
        {
         "state": "District of Columbia",
         "indiv_per_10k": 53.73838103505538,
         "_deepnote_index_column": 8
        },
        {
         "state": "Hawaii",
         "indiv_per_10k": 29.079405572180068,
         "_deepnote_index_column": 11
        },
        {
         "state": "California",
         "indiv_per_10k": 27.62382497126066,
         "_deepnote_index_column": 4
        },
        {
         "state": "Oregon",
         "indiv_per_10k": 26.636307159018685,
         "_deepnote_index_column": 37
        },
        {
         "state": "Nevada",
         "indiv_per_10k": 23.314188920243872,
         "_deepnote_index_column": 28
        },
        {
         "state": "Washington",
         "indiv_per_10k": 21.82919452744326,
         "_deepnote_index_column": 47
        },
        {
         "state": "New York",
         "indiv_per_10k": 20.392362635981296,
         "_deepnote_index_column": 32
        }
       ]
      },
      "text/plain": "                   state  indiv_per_10k\n8   District of Columbia      53.738381\n11                Hawaii      29.079406\n4             California      27.623825\n37                Oregon      26.636307\n28                Nevada      23.314189\n47            Washington      21.829195\n32              New York      20.392363",
      "text/html": "<div>\n<style scoped>\n    .dataframe tbody tr th:only-of-type {\n        vertical-align: middle;\n    }\n\n    .dataframe tbody tr th {\n        vertical-align: top;\n    }\n\n    .dataframe thead th {\n        text-align: right;\n    }\n</style>\n<table border=\"1\" class=\"dataframe\">\n  <thead>\n    <tr style=\"text-align: right;\">\n      <th></th>\n      <th>state</th>\n      <th>indiv_per_10k</th>\n    </tr>\n  </thead>\n  <tbody>\n    <tr>\n      <th>8</th>\n      <td>District of Columbia</td>\n      <td>53.738381</td>\n    </tr>\n    <tr>\n      <th>11</th>\n      <td>Hawaii</td>\n      <td>29.079406</td>\n    </tr>\n    <tr>\n      <th>4</th>\n      <td>California</td>\n      <td>27.623825</td>\n    </tr>\n    <tr>\n      <th>37</th>\n      <td>Oregon</td>\n      <td>26.636307</td>\n    </tr>\n    <tr>\n      <th>28</th>\n      <td>Nevada</td>\n      <td>23.314189</td>\n    </tr>\n    <tr>\n      <th>47</th>\n      <td>Washington</td>\n      <td>21.829195</td>\n    </tr>\n    <tr>\n      <th>32</th>\n      <td>New York</td>\n      <td>20.392363</td>\n    </tr>\n  </tbody>\n</table>\n</div>"
     },
     "metadata": {}
    }
   ]
  },
  {
   "cell_type": "markdown",
   "source": "<a style='text-decoration:none;line-height:16px;display:flex;color:#5B5B62;padding:10px;justify-content:end;' href='https://deepnote.com?utm_source=created-in-deepnote-cell&projectId=8c91f87e-48d2-4010-b7ff-56410ab49fe5' target=\"_blank\">\n<img alt='Created in deepnote.com' style='display:inline;max-height:16px;margin:0px;margin-right:7.5px;' src='data:image/svg+xml;base64,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' > </img>\nCreated in <span style='font-weight:600;margin-left:4px;'>Deepnote</span></a>",
   "metadata": {
    "tags": [],
    "created_in_deepnote_cell": true,
    "deepnote_cell_type": "markdown"
   }
  }
 ],
 "nbformat": 4,
 "nbformat_minor": 2,
 "metadata": {
  "orig_nbformat": 2,
  "deepnote": {},
  "deepnote_notebook_id": "7cb0dbdb-dfa3-4275-bf5f-9c877adf7284",
  "deepnote_execution_queue": []
 }
}