{
 "cells": [
  {
   "cell_type": "markdown",
   "source": "# Slicing and indexing DataFrames",
   "metadata": {
    "formattedRanges": [],
    "cell_id": "db0ea28498b848abafcd264f3a709355",
    "tags": [],
    "is_collapsed": false,
    "deepnote_cell_type": "text-cell-h1"
   }
  },
  {
   "cell_type": "markdown",
   "source": "In this module, you'll be exploring temperatures, a DataFrame of average temperatures in cities around the world.",
   "metadata": {
    "cell_id": "82e2958c8b8f4b1bad7f0cbf1508f759",
    "tags": [],
    "deepnote_cell_type": "markdown",
    "deepnote_cell_height": 74.796875
   }
  },
  {
   "cell_type": "code",
   "metadata": {
    "cell_id": "38ea4834c0dc402196f2794a1c3da38d",
    "tags": [],
    "deepnote_to_be_reexecuted": false,
    "source_hash": "a9dae342",
    "execution_start": 1654645953892,
    "execution_millis": 403,
    "deepnote_cell_type": "code",
    "deepnote_cell_height": 431
   },
   "source": "import pandas as pd \ntemperatures = pd.read_csv('/work/data_science_notes/3. Data manipulation with pandasw/data/temperatures.csv', index_col=0)\ntemperatures.head()",
   "execution_count": null,
   "outputs": [
    {
     "output_type": "execute_result",
     "execution_count": 1,
     "data": {
      "application/vnd.deepnote.dataframe.v3+json": {
       "column_count": 4,
       "row_count": 5,
       "columns": [
        {
         "name": "date",
         "dtype": "object",
         "stats": {
          "unique_count": 5,
          "nan_count": 0,
          "categories": [
           {
            "name": "2000-01-01",
            "count": 1
           },
           {
            "name": "2000-02-01",
            "count": 1
           },
           {
            "name": "3 others",
            "count": 3
           }
          ]
         }
        },
        {
         "name": "city",
         "dtype": "object",
         "stats": {
          "unique_count": 1,
          "nan_count": 0,
          "categories": [
           {
            "name": "Abidjan",
            "count": 5
           }
          ]
         }
        },
        {
         "name": "country",
         "dtype": "object",
         "stats": {
          "unique_count": 1,
          "nan_count": 0,
          "categories": [
           {
            "name": "Côte D'Ivoire",
            "count": 5
           }
          ]
         }
        },
        {
         "name": "avg_temp_c",
         "dtype": "float64",
         "stats": {
          "unique_count": 5,
          "nan_count": 0,
          "min": "27.29300000000001",
          "max": "29.061",
          "histogram": [
           {
            "bin_start": 27.29300000000001,
            "bin_end": 27.46980000000001,
            "count": 1
           },
           {
            "bin_start": 27.46980000000001,
            "bin_end": 27.646600000000007,
            "count": 1
           },
           {
            "bin_start": 27.646600000000007,
            "bin_end": 27.823400000000007,
            "count": 1
           },
           {
            "bin_start": 27.823400000000007,
            "bin_end": 28.000200000000007,
            "count": 0
           },
           {
            "bin_start": 28.000200000000007,
            "bin_end": 28.177000000000007,
            "count": 1
           },
           {
            "bin_start": 28.177000000000007,
            "bin_end": 28.353800000000003,
            "count": 0
           },
           {
            "bin_start": 28.353800000000003,
            "bin_end": 28.530600000000003,
            "count": 0
           },
           {
            "bin_start": 28.530600000000003,
            "bin_end": 28.707400000000003,
            "count": 0
           },
           {
            "bin_start": 28.707400000000003,
            "bin_end": 28.8842,
            "count": 0
           },
           {
            "bin_start": 28.8842,
            "bin_end": 29.061,
            "count": 1
           }
          ]
         }
        },
        {
         "name": "_deepnote_index_column",
         "dtype": "int64"
        }
       ],
       "rows": [
        {
         "date": "2000-01-01",
         "city": "Abidjan",
         "country": "Côte D'Ivoire",
         "avg_temp_c": 27.29300000000001,
         "_deepnote_index_column": 0
        },
        {
         "date": "2000-02-01",
         "city": "Abidjan",
         "country": "Côte D'Ivoire",
         "avg_temp_c": 27.685,
         "_deepnote_index_column": 1
        },
        {
         "date": "2000-03-01",
         "city": "Abidjan",
         "country": "Côte D'Ivoire",
         "avg_temp_c": 29.061,
         "_deepnote_index_column": 2
        },
        {
         "date": "2000-04-01",
         "city": "Abidjan",
         "country": "Côte D'Ivoire",
         "avg_temp_c": 28.162,
         "_deepnote_index_column": 3
        },
        {
         "date": "2000-05-01",
         "city": "Abidjan",
         "country": "Côte D'Ivoire",
         "avg_temp_c": 27.547,
         "_deepnote_index_column": 4
        }
       ]
      },
      "text/plain": "         date     city        country  avg_temp_c\n0  2000-01-01  Abidjan  Côte D'Ivoire      27.293\n1  2000-02-01  Abidjan  Côte D'Ivoire      27.685\n2  2000-03-01  Abidjan  Côte D'Ivoire      29.061\n3  2000-04-01  Abidjan  Côte D'Ivoire      28.162\n4  2000-05-01  Abidjan  Côte D'Ivoire      27.547",
      "text/html": "<div>\n<style scoped>\n    .dataframe tbody tr th:only-of-type {\n        vertical-align: middle;\n    }\n\n    .dataframe tbody tr th {\n        vertical-align: top;\n    }\n\n    .dataframe thead th {\n        text-align: right;\n    }\n</style>\n<table border=\"1\" class=\"dataframe\">\n  <thead>\n    <tr style=\"text-align: right;\">\n      <th></th>\n      <th>date</th>\n      <th>city</th>\n      <th>country</th>\n      <th>avg_temp_c</th>\n    </tr>\n  </thead>\n  <tbody>\n    <tr>\n      <th>0</th>\n      <td>2000-01-01</td>\n      <td>Abidjan</td>\n      <td>Côte D'Ivoire</td>\n      <td>27.293</td>\n    </tr>\n    <tr>\n      <th>1</th>\n      <td>2000-02-01</td>\n      <td>Abidjan</td>\n      <td>Côte D'Ivoire</td>\n      <td>27.685</td>\n    </tr>\n    <tr>\n      <th>2</th>\n      <td>2000-03-01</td>\n      <td>Abidjan</td>\n      <td>Côte D'Ivoire</td>\n      <td>29.061</td>\n    </tr>\n    <tr>\n      <th>3</th>\n      <td>2000-04-01</td>\n      <td>Abidjan</td>\n      <td>Côte D'Ivoire</td>\n      <td>28.162</td>\n    </tr>\n    <tr>\n      <th>4</th>\n      <td>2000-05-01</td>\n      <td>Abidjan</td>\n      <td>Côte D'Ivoire</td>\n      <td>27.547</td>\n    </tr>\n  </tbody>\n</table>\n</div>"
     },
     "metadata": {}
    }
   ]
  },
  {
   "cell_type": "markdown",
   "source": "## Explicit indexes",
   "metadata": {
    "formattedRanges": [],
    "cell_id": "3244c77bbaac441d9f1d29c6e90c86c5",
    "tags": [],
    "is_collapsed": false,
    "deepnote_cell_type": "text-cell-h2"
   }
  },
  {
   "cell_type": "markdown",
   "source": "### Setting and removing indexes",
   "metadata": {
    "formattedRanges": [],
    "cell_id": "643fc69b5f484302a4441416ea840191",
    "tags": [],
    "is_collapsed": false,
    "deepnote_cell_type": "text-cell-h3"
   }
  },
  {
   "cell_type": "code",
   "metadata": {
    "cell_id": "213f77a1f76f4ef3856c29a432e29c15",
    "tags": [],
    "deepnote_to_be_reexecuted": false,
    "source_hash": "462ad88",
    "execution_start": 1654645954325,
    "execution_millis": 193,
    "deepnote_cell_type": "code",
    "deepnote_cell_height": 330
   },
   "source": "# Look at temperatures\ntemperatures.info()",
   "execution_count": null,
   "outputs": [
    {
     "name": "stdout",
     "text": "<class 'pandas.core.frame.DataFrame'>\nInt64Index: 16500 entries, 0 to 16499\nData columns (total 4 columns):\n #   Column      Non-Null Count  Dtype  \n---  ------      --------------  -----  \n 0   date        16500 non-null  object \n 1   city        16500 non-null  object \n 2   country     16500 non-null  object \n 3   avg_temp_c  16407 non-null  float64\ndtypes: float64(1), object(3)\nmemory usage: 644.5+ KB\n",
     "output_type": "stream"
    }
   ]
  },
  {
   "cell_type": "code",
   "metadata": {
    "cell_id": "f89bdff6e9c94ea49d0d14c54237b0c9",
    "tags": [],
    "deepnote_to_be_reexecuted": false,
    "source_hash": "25196a14",
    "execution_start": 1654645954576,
    "execution_millis": 0,
    "deepnote_cell_type": "code",
    "deepnote_cell_height": 99
   },
   "source": "# Set the index of temperatures to \"city\", assigning to temperatures_ind\ntemperatures_ind = temperatures.set_index('city')",
   "execution_count": null,
   "outputs": []
  },
  {
   "cell_type": "code",
   "metadata": {
    "cell_id": "0b7394c3de46411b955d6c0a34c506a1",
    "tags": [],
    "deepnote_to_be_reexecuted": false,
    "source_hash": "20a84ea9",
    "execution_start": 1654645954629,
    "execution_millis": 591,
    "deepnote_cell_type": "code",
    "deepnote_cell_height": 431
   },
   "source": "# Look at temperatures_ind. \n# How is it different from temperatures?\ntemperatures_ind.head()",
   "execution_count": null,
   "outputs": [
    {
     "output_type": "execute_result",
     "execution_count": 4,
     "data": {
      "application/vnd.deepnote.dataframe.v3+json": {
       "column_count": 3,
       "row_count": 5,
       "columns": [
        {
         "name": "date",
         "dtype": "object",
         "stats": {
          "unique_count": 5,
          "nan_count": 0,
          "categories": [
           {
            "name": "2000-01-01",
            "count": 1
           },
           {
            "name": "2000-02-01",
            "count": 1
           },
           {
            "name": "3 others",
            "count": 3
           }
          ]
         }
        },
        {
         "name": "country",
         "dtype": "object",
         "stats": {
          "unique_count": 1,
          "nan_count": 0,
          "categories": [
           {
            "name": "Côte D'Ivoire",
            "count": 5
           }
          ]
         }
        },
        {
         "name": "avg_temp_c",
         "dtype": "float64",
         "stats": {
          "unique_count": 5,
          "nan_count": 0,
          "min": "27.29300000000001",
          "max": "29.061",
          "histogram": [
           {
            "bin_start": 27.29300000000001,
            "bin_end": 27.46980000000001,
            "count": 1
           },
           {
            "bin_start": 27.46980000000001,
            "bin_end": 27.646600000000007,
            "count": 1
           },
           {
            "bin_start": 27.646600000000007,
            "bin_end": 27.823400000000007,
            "count": 1
           },
           {
            "bin_start": 27.823400000000007,
            "bin_end": 28.000200000000007,
            "count": 0
           },
           {
            "bin_start": 28.000200000000007,
            "bin_end": 28.177000000000007,
            "count": 1
           },
           {
            "bin_start": 28.177000000000007,
            "bin_end": 28.353800000000003,
            "count": 0
           },
           {
            "bin_start": 28.353800000000003,
            "bin_end": 28.530600000000003,
            "count": 0
           },
           {
            "bin_start": 28.530600000000003,
            "bin_end": 28.707400000000003,
            "count": 0
           },
           {
            "bin_start": 28.707400000000003,
            "bin_end": 28.8842,
            "count": 0
           },
           {
            "bin_start": 28.8842,
            "bin_end": 29.061,
            "count": 1
           }
          ]
         }
        },
        {
         "name": "_deepnote_index_column",
         "dtype": "object"
        }
       ],
       "rows": [
        {
         "date": "2000-01-01",
         "country": "Côte D'Ivoire",
         "avg_temp_c": 27.29300000000001,
         "_deepnote_index_column": "Abidjan"
        },
        {
         "date": "2000-02-01",
         "country": "Côte D'Ivoire",
         "avg_temp_c": 27.685,
         "_deepnote_index_column": "Abidjan"
        },
        {
         "date": "2000-03-01",
         "country": "Côte D'Ivoire",
         "avg_temp_c": 29.061,
         "_deepnote_index_column": "Abidjan"
        },
        {
         "date": "2000-04-01",
         "country": "Côte D'Ivoire",
         "avg_temp_c": 28.162,
         "_deepnote_index_column": "Abidjan"
        },
        {
         "date": "2000-05-01",
         "country": "Côte D'Ivoire",
         "avg_temp_c": 27.547,
         "_deepnote_index_column": "Abidjan"
        }
       ]
      },
      "text/plain": "               date        country  avg_temp_c\ncity                                          \nAbidjan  2000-01-01  Côte D'Ivoire      27.293\nAbidjan  2000-02-01  Côte D'Ivoire      27.685\nAbidjan  2000-03-01  Côte D'Ivoire      29.061\nAbidjan  2000-04-01  Côte D'Ivoire      28.162\nAbidjan  2000-05-01  Côte D'Ivoire      27.547",
      "text/html": "<div>\n<style scoped>\n    .dataframe tbody tr th:only-of-type {\n        vertical-align: middle;\n    }\n\n    .dataframe tbody tr th {\n        vertical-align: top;\n    }\n\n    .dataframe thead th {\n        text-align: right;\n    }\n</style>\n<table border=\"1\" class=\"dataframe\">\n  <thead>\n    <tr style=\"text-align: right;\">\n      <th></th>\n      <th>date</th>\n      <th>country</th>\n      <th>avg_temp_c</th>\n    </tr>\n    <tr>\n      <th>city</th>\n      <th></th>\n      <th></th>\n      <th></th>\n    </tr>\n  </thead>\n  <tbody>\n    <tr>\n      <th>Abidjan</th>\n      <td>2000-01-01</td>\n      <td>Côte D'Ivoire</td>\n      <td>27.293</td>\n    </tr>\n    <tr>\n      <th>Abidjan</th>\n      <td>2000-02-01</td>\n      <td>Côte D'Ivoire</td>\n      <td>27.685</td>\n    </tr>\n    <tr>\n      <th>Abidjan</th>\n      <td>2000-03-01</td>\n      <td>Côte D'Ivoire</td>\n      <td>29.061</td>\n    </tr>\n    <tr>\n      <th>Abidjan</th>\n      <td>2000-04-01</td>\n      <td>Côte D'Ivoire</td>\n      <td>28.162</td>\n    </tr>\n    <tr>\n      <th>Abidjan</th>\n      <td>2000-05-01</td>\n      <td>Côte D'Ivoire</td>\n      <td>27.547</td>\n    </tr>\n  </tbody>\n</table>\n</div>"
     },
     "metadata": {}
    }
   ]
  },
  {
   "cell_type": "code",
   "metadata": {
    "cell_id": "acb4dd3b9f7542658b1ed35bbede7e18",
    "tags": [],
    "deepnote_to_be_reexecuted": false,
    "source_hash": "44c64e2d",
    "execution_start": 1654645954794,
    "execution_millis": 459,
    "deepnote_cell_type": "code",
    "deepnote_cell_height": 431
   },
   "source": "# Reset the index of temperatures_ind, keeping its contents\ntemperatures_ind = temperatures_ind.reset_index(drop=False)\ntemperatures_ind.head()",
   "execution_count": null,
   "outputs": [
    {
     "output_type": "execute_result",
     "execution_count": 5,
     "data": {
      "application/vnd.deepnote.dataframe.v3+json": {
       "column_count": 4,
       "row_count": 5,
       "columns": [
        {
         "name": "city",
         "dtype": "object",
         "stats": {
          "unique_count": 1,
          "nan_count": 0,
          "categories": [
           {
            "name": "Abidjan",
            "count": 5
           }
          ]
         }
        },
        {
         "name": "date",
         "dtype": "object",
         "stats": {
          "unique_count": 5,
          "nan_count": 0,
          "categories": [
           {
            "name": "2000-01-01",
            "count": 1
           },
           {
            "name": "2000-02-01",
            "count": 1
           },
           {
            "name": "3 others",
            "count": 3
           }
          ]
         }
        },
        {
         "name": "country",
         "dtype": "object",
         "stats": {
          "unique_count": 1,
          "nan_count": 0,
          "categories": [
           {
            "name": "Côte D'Ivoire",
            "count": 5
           }
          ]
         }
        },
        {
         "name": "avg_temp_c",
         "dtype": "float64",
         "stats": {
          "unique_count": 5,
          "nan_count": 0,
          "min": "27.29300000000001",
          "max": "29.061",
          "histogram": [
           {
            "bin_start": 27.29300000000001,
            "bin_end": 27.46980000000001,
            "count": 1
           },
           {
            "bin_start": 27.46980000000001,
            "bin_end": 27.646600000000007,
            "count": 1
           },
           {
            "bin_start": 27.646600000000007,
            "bin_end": 27.823400000000007,
            "count": 1
           },
           {
            "bin_start": 27.823400000000007,
            "bin_end": 28.000200000000007,
            "count": 0
           },
           {
            "bin_start": 28.000200000000007,
            "bin_end": 28.177000000000007,
            "count": 1
           },
           {
            "bin_start": 28.177000000000007,
            "bin_end": 28.353800000000003,
            "count": 0
           },
           {
            "bin_start": 28.353800000000003,
            "bin_end": 28.530600000000003,
            "count": 0
           },
           {
            "bin_start": 28.530600000000003,
            "bin_end": 28.707400000000003,
            "count": 0
           },
           {
            "bin_start": 28.707400000000003,
            "bin_end": 28.8842,
            "count": 0
           },
           {
            "bin_start": 28.8842,
            "bin_end": 29.061,
            "count": 1
           }
          ]
         }
        },
        {
         "name": "_deepnote_index_column",
         "dtype": "int64"
        }
       ],
       "rows": [
        {
         "city": "Abidjan",
         "date": "2000-01-01",
         "country": "Côte D'Ivoire",
         "avg_temp_c": 27.29300000000001,
         "_deepnote_index_column": 0
        },
        {
         "city": "Abidjan",
         "date": "2000-02-01",
         "country": "Côte D'Ivoire",
         "avg_temp_c": 27.685,
         "_deepnote_index_column": 1
        },
        {
         "city": "Abidjan",
         "date": "2000-03-01",
         "country": "Côte D'Ivoire",
         "avg_temp_c": 29.061,
         "_deepnote_index_column": 2
        },
        {
         "city": "Abidjan",
         "date": "2000-04-01",
         "country": "Côte D'Ivoire",
         "avg_temp_c": 28.162,
         "_deepnote_index_column": 3
        },
        {
         "city": "Abidjan",
         "date": "2000-05-01",
         "country": "Côte D'Ivoire",
         "avg_temp_c": 27.547,
         "_deepnote_index_column": 4
        }
       ]
      },
      "text/plain": "      city        date        country  avg_temp_c\n0  Abidjan  2000-01-01  Côte D'Ivoire      27.293\n1  Abidjan  2000-02-01  Côte D'Ivoire      27.685\n2  Abidjan  2000-03-01  Côte D'Ivoire      29.061\n3  Abidjan  2000-04-01  Côte D'Ivoire      28.162\n4  Abidjan  2000-05-01  Côte D'Ivoire      27.547",
      "text/html": "<div>\n<style scoped>\n    .dataframe tbody tr th:only-of-type {\n        vertical-align: middle;\n    }\n\n    .dataframe tbody tr th {\n        vertical-align: top;\n    }\n\n    .dataframe thead th {\n        text-align: right;\n    }\n</style>\n<table border=\"1\" class=\"dataframe\">\n  <thead>\n    <tr style=\"text-align: right;\">\n      <th></th>\n      <th>city</th>\n      <th>date</th>\n      <th>country</th>\n      <th>avg_temp_c</th>\n    </tr>\n  </thead>\n  <tbody>\n    <tr>\n      <th>0</th>\n      <td>Abidjan</td>\n      <td>2000-01-01</td>\n      <td>Côte D'Ivoire</td>\n      <td>27.293</td>\n    </tr>\n    <tr>\n      <th>1</th>\n      <td>Abidjan</td>\n      <td>2000-02-01</td>\n      <td>Côte D'Ivoire</td>\n      <td>27.685</td>\n    </tr>\n    <tr>\n      <th>2</th>\n      <td>Abidjan</td>\n      <td>2000-03-01</td>\n      <td>Côte D'Ivoire</td>\n      <td>29.061</td>\n    </tr>\n    <tr>\n      <th>3</th>\n      <td>Abidjan</td>\n      <td>2000-04-01</td>\n      <td>Côte D'Ivoire</td>\n      <td>28.162</td>\n    </tr>\n    <tr>\n      <th>4</th>\n      <td>Abidjan</td>\n      <td>2000-05-01</td>\n      <td>Côte D'Ivoire</td>\n      <td>27.547</td>\n    </tr>\n  </tbody>\n</table>\n</div>"
     },
     "metadata": {}
    }
   ]
  },
  {
   "cell_type": "code",
   "metadata": {
    "cell_id": "6aad43dc51db4ae89298714b25dcdbae",
    "tags": [],
    "deepnote_to_be_reexecuted": false,
    "source_hash": "67da8582",
    "execution_start": 1654645955057,
    "execution_millis": 207,
    "deepnote_cell_type": "code",
    "deepnote_cell_height": 449
   },
   "source": "# Reset the index of temperatures_ind, dropping its contents\ntemperatures_ind = temperatures.set_index('city')\ntemperatures_ind = temperatures_ind.reset_index(drop=True)\ntemperatures_ind.head()",
   "execution_count": null,
   "outputs": [
    {
     "output_type": "execute_result",
     "execution_count": 6,
     "data": {
      "application/vnd.deepnote.dataframe.v3+json": {
       "column_count": 3,
       "row_count": 5,
       "columns": [
        {
         "name": "date",
         "dtype": "object",
         "stats": {
          "unique_count": 5,
          "nan_count": 0,
          "categories": [
           {
            "name": "2000-01-01",
            "count": 1
           },
           {
            "name": "2000-02-01",
            "count": 1
           },
           {
            "name": "3 others",
            "count": 3
           }
          ]
         }
        },
        {
         "name": "country",
         "dtype": "object",
         "stats": {
          "unique_count": 1,
          "nan_count": 0,
          "categories": [
           {
            "name": "Côte D'Ivoire",
            "count": 5
           }
          ]
         }
        },
        {
         "name": "avg_temp_c",
         "dtype": "float64",
         "stats": {
          "unique_count": 5,
          "nan_count": 0,
          "min": "27.29300000000001",
          "max": "29.061",
          "histogram": [
           {
            "bin_start": 27.29300000000001,
            "bin_end": 27.46980000000001,
            "count": 1
           },
           {
            "bin_start": 27.46980000000001,
            "bin_end": 27.646600000000007,
            "count": 1
           },
           {
            "bin_start": 27.646600000000007,
            "bin_end": 27.823400000000007,
            "count": 1
           },
           {
            "bin_start": 27.823400000000007,
            "bin_end": 28.000200000000007,
            "count": 0
           },
           {
            "bin_start": 28.000200000000007,
            "bin_end": 28.177000000000007,
            "count": 1
           },
           {
            "bin_start": 28.177000000000007,
            "bin_end": 28.353800000000003,
            "count": 0
           },
           {
            "bin_start": 28.353800000000003,
            "bin_end": 28.530600000000003,
            "count": 0
           },
           {
            "bin_start": 28.530600000000003,
            "bin_end": 28.707400000000003,
            "count": 0
           },
           {
            "bin_start": 28.707400000000003,
            "bin_end": 28.8842,
            "count": 0
           },
           {
            "bin_start": 28.8842,
            "bin_end": 29.061,
            "count": 1
           }
          ]
         }
        },
        {
         "name": "_deepnote_index_column",
         "dtype": "int64"
        }
       ],
       "rows": [
        {
         "date": "2000-01-01",
         "country": "Côte D'Ivoire",
         "avg_temp_c": 27.29300000000001,
         "_deepnote_index_column": 0
        },
        {
         "date": "2000-02-01",
         "country": "Côte D'Ivoire",
         "avg_temp_c": 27.685,
         "_deepnote_index_column": 1
        },
        {
         "date": "2000-03-01",
         "country": "Côte D'Ivoire",
         "avg_temp_c": 29.061,
         "_deepnote_index_column": 2
        },
        {
         "date": "2000-04-01",
         "country": "Côte D'Ivoire",
         "avg_temp_c": 28.162,
         "_deepnote_index_column": 3
        },
        {
         "date": "2000-05-01",
         "country": "Côte D'Ivoire",
         "avg_temp_c": 27.547,
         "_deepnote_index_column": 4
        }
       ]
      },
      "text/plain": "         date        country  avg_temp_c\n0  2000-01-01  Côte D'Ivoire      27.293\n1  2000-02-01  Côte D'Ivoire      27.685\n2  2000-03-01  Côte D'Ivoire      29.061\n3  2000-04-01  Côte D'Ivoire      28.162\n4  2000-05-01  Côte D'Ivoire      27.547",
      "text/html": "<div>\n<style scoped>\n    .dataframe tbody tr th:only-of-type {\n        vertical-align: middle;\n    }\n\n    .dataframe tbody tr th {\n        vertical-align: top;\n    }\n\n    .dataframe thead th {\n        text-align: right;\n    }\n</style>\n<table border=\"1\" class=\"dataframe\">\n  <thead>\n    <tr style=\"text-align: right;\">\n      <th></th>\n      <th>date</th>\n      <th>country</th>\n      <th>avg_temp_c</th>\n    </tr>\n  </thead>\n  <tbody>\n    <tr>\n      <th>0</th>\n      <td>2000-01-01</td>\n      <td>Côte D'Ivoire</td>\n      <td>27.293</td>\n    </tr>\n    <tr>\n      <th>1</th>\n      <td>2000-02-01</td>\n      <td>Côte D'Ivoire</td>\n      <td>27.685</td>\n    </tr>\n    <tr>\n      <th>2</th>\n      <td>2000-03-01</td>\n      <td>Côte D'Ivoire</td>\n      <td>29.061</td>\n    </tr>\n    <tr>\n      <th>3</th>\n      <td>2000-04-01</td>\n      <td>Côte D'Ivoire</td>\n      <td>28.162</td>\n    </tr>\n    <tr>\n      <th>4</th>\n      <td>2000-05-01</td>\n      <td>Côte D'Ivoire</td>\n      <td>27.547</td>\n    </tr>\n  </tbody>\n</table>\n</div>"
     },
     "metadata": {}
    }
   ]
  },
  {
   "cell_type": "markdown",
   "source": "### Subsetting with .loc[]\n",
   "metadata": {
    "formattedRanges": [],
    "cell_id": "000131c05b3244e4be49889f0a03cfef",
    "tags": [],
    "is_collapsed": false,
    "deepnote_cell_type": "text-cell-h3"
   }
  },
  {
   "cell_type": "code",
   "metadata": {
    "cell_id": "1958f0d1ab3f4faf88ae5f47fd1e25af",
    "tags": [],
    "deepnote_to_be_reexecuted": false,
    "source_hash": "7b95a9dd",
    "execution_start": 1654645955203,
    "execution_millis": 47,
    "deepnote_cell_type": "code",
    "deepnote_cell_height": 99
   },
   "source": "# Create a list called cities that contains \"Moscow\" and \"Saint Petersburg\"\ncities = [\"Moscow\", \"Saint Petersburg\"]",
   "execution_count": null,
   "outputs": []
  },
  {
   "cell_type": "code",
   "metadata": {
    "cell_id": "31d603d0a7964cac814316a675716be4",
    "tags": [],
    "deepnote_to_be_reexecuted": false,
    "source_hash": "9242ae7e",
    "execution_start": 1654645955348,
    "execution_millis": 200,
    "deepnote_table_state": {
     "pageSize": 10,
     "pageIndex": 0,
     "filters": [],
     "sortBy": []
    },
    "deepnote_table_loading": false,
    "deepnote_cell_type": "code",
    "deepnote_cell_height": 618
   },
   "source": "# Use [] subsetting to filter temperatures for rows where the city column takes a value in the cities list\ntemperatures[temperatures.city.isin(cities)]",
   "execution_count": null,
   "outputs": [
    {
     "output_type": "execute_result",
     "execution_count": 8,
     "data": {
      "application/vnd.deepnote.dataframe.v3+json": {
       "column_count": 4,
       "row_count": 330,
       "columns": [
        {
         "name": "date",
         "dtype": "object",
         "stats": {
          "unique_count": 165,
          "nan_count": 0,
          "categories": [
           {
            "name": "2000-01-01",
            "count": 2
           },
           {
            "name": "2000-02-01",
            "count": 2
           },
           {
            "name": "163 others",
            "count": 326
           }
          ]
         }
        },
        {
         "name": "city",
         "dtype": "object",
         "stats": {
          "unique_count": 2,
          "nan_count": 0,
          "categories": [
           {
            "name": "Moscow",
            "count": 165
           },
           {
            "name": "Saint Petersburg",
            "count": 165
           }
          ]
         }
        },
        {
         "name": "country",
         "dtype": "object",
         "stats": {
          "unique_count": 1,
          "nan_count": 0,
          "categories": [
           {
            "name": "Russia",
            "count": 330
           }
          ]
         }
        },
        {
         "name": "avg_temp_c",
         "dtype": "float64",
         "stats": {
          "unique_count": 326,
          "nan_count": 2,
          "min": "-15.845999999999998",
          "max": "24.58",
          "histogram": [
           {
            "bin_start": -15.845999999999998,
            "bin_end": -11.8034,
            "count": 8
           },
           {
            "bin_start": -11.8034,
            "bin_end": -7.7608,
            "count": 22
           },
           {
            "bin_start": -7.7608,
            "bin_end": -3.7182000000000013,
            "count": 32
           },
           {
            "bin_start": -3.7182000000000013,
            "bin_end": 0.3243999999999989,
            "count": 50
           },
           {
            "bin_start": 0.3243999999999989,
            "bin_end": 4.366999999999999,
            "count": 40
           },
           {
            "bin_start": 4.366999999999999,
            "bin_end": 8.409599999999996,
            "count": 34
           },
           {
            "bin_start": 8.409599999999996,
            "bin_end": 12.452199999999996,
            "count": 42
           },
           {
            "bin_start": 12.452199999999996,
            "bin_end": 16.494799999999998,
            "count": 46
           },
           {
            "bin_start": 16.494799999999998,
            "bin_end": 20.537399999999998,
            "count": 48
           },
           {
            "bin_start": 20.537399999999998,
            "bin_end": 24.58,
            "count": 6
           }
          ]
         }
        },
        {
         "name": "_deepnote_index_column",
         "dtype": "int64"
        }
       ],
       "rows": [
        {
         "date": "2000-01-01",
         "city": "Moscow",
         "country": "Russia",
         "avg_temp_c": -7.3130000000000015,
         "_deepnote_index_column": 10725
        },
        {
         "date": "2000-02-01",
         "city": "Moscow",
         "country": "Russia",
         "avg_temp_c": -3.551,
         "_deepnote_index_column": 10726
        },
        {
         "date": "2000-03-01",
         "city": "Moscow",
         "country": "Russia",
         "avg_temp_c": -1.6609999999999996,
         "_deepnote_index_column": 10727
        },
        {
         "date": "2000-04-01",
         "city": "Moscow",
         "country": "Russia",
         "avg_temp_c": 10.096,
         "_deepnote_index_column": 10728
        },
        {
         "date": "2000-05-01",
         "city": "Moscow",
         "country": "Russia",
         "avg_temp_c": 10.357,
         "_deepnote_index_column": 10729
        },
        {
         "date": "2000-06-01",
         "city": "Moscow",
         "country": "Russia",
         "avg_temp_c": 15.243,
         "_deepnote_index_column": 10730
        },
        {
         "date": "2000-07-01",
         "city": "Moscow",
         "country": "Russia",
         "avg_temp_c": 18.676,
         "_deepnote_index_column": 10731
        },
        {
         "date": "2000-08-01",
         "city": "Moscow",
         "country": "Russia",
         "avg_temp_c": 16.42,
         "_deepnote_index_column": 10732
        },
        {
         "date": "2000-09-01",
         "city": "Moscow",
         "country": "Russia",
         "avg_temp_c": 9.775,
         "_deepnote_index_column": 10733
        },
        {
         "date": "2000-10-01",
         "city": "Moscow",
         "country": "Russia",
         "avg_temp_c": 6.6110000000000015,
         "_deepnote_index_column": 10734
        }
       ]
      },
      "text/plain": "             date              city country  avg_temp_c\n10725  2000-01-01            Moscow  Russia      -7.313\n10726  2000-02-01            Moscow  Russia      -3.551\n10727  2000-03-01            Moscow  Russia      -1.661\n10728  2000-04-01            Moscow  Russia      10.096\n10729  2000-05-01            Moscow  Russia      10.357\n...           ...               ...     ...         ...\n13360  2013-05-01  Saint Petersburg  Russia      12.355\n13361  2013-06-01  Saint Petersburg  Russia      17.185\n13362  2013-07-01  Saint Petersburg  Russia      17.234\n13363  2013-08-01  Saint Petersburg  Russia      17.153\n13364  2013-09-01  Saint Petersburg  Russia         NaN\n\n[330 rows x 4 columns]",
      "text/html": "<div>\n<style scoped>\n    .dataframe tbody tr th:only-of-type {\n        vertical-align: middle;\n    }\n\n    .dataframe tbody tr th {\n        vertical-align: top;\n    }\n\n    .dataframe thead th {\n        text-align: right;\n    }\n</style>\n<table border=\"1\" class=\"dataframe\">\n  <thead>\n    <tr style=\"text-align: right;\">\n      <th></th>\n      <th>date</th>\n      <th>city</th>\n      <th>country</th>\n      <th>avg_temp_c</th>\n    </tr>\n  </thead>\n  <tbody>\n    <tr>\n      <th>10725</th>\n      <td>2000-01-01</td>\n      <td>Moscow</td>\n      <td>Russia</td>\n      <td>-7.313</td>\n    </tr>\n    <tr>\n      <th>10726</th>\n      <td>2000-02-01</td>\n      <td>Moscow</td>\n      <td>Russia</td>\n      <td>-3.551</td>\n    </tr>\n    <tr>\n      <th>10727</th>\n      <td>2000-03-01</td>\n      <td>Moscow</td>\n      <td>Russia</td>\n      <td>-1.661</td>\n    </tr>\n    <tr>\n      <th>10728</th>\n      <td>2000-04-01</td>\n      <td>Moscow</td>\n      <td>Russia</td>\n      <td>10.096</td>\n    </tr>\n    <tr>\n      <th>10729</th>\n      <td>2000-05-01</td>\n      <td>Moscow</td>\n      <td>Russia</td>\n      <td>10.357</td>\n    </tr>\n    <tr>\n      <th>...</th>\n      <td>...</td>\n      <td>...</td>\n      <td>...</td>\n      <td>...</td>\n    </tr>\n    <tr>\n      <th>13360</th>\n      <td>2013-05-01</td>\n      <td>Saint Petersburg</td>\n      <td>Russia</td>\n      <td>12.355</td>\n    </tr>\n    <tr>\n      <th>13361</th>\n      <td>2013-06-01</td>\n      <td>Saint Petersburg</td>\n      <td>Russia</td>\n      <td>17.185</td>\n    </tr>\n    <tr>\n      <th>13362</th>\n      <td>2013-07-01</td>\n      <td>Saint Petersburg</td>\n      <td>Russia</td>\n      <td>17.234</td>\n    </tr>\n    <tr>\n      <th>13363</th>\n      <td>2013-08-01</td>\n      <td>Saint Petersburg</td>\n      <td>Russia</td>\n      <td>17.153</td>\n    </tr>\n    <tr>\n      <th>13364</th>\n      <td>2013-09-01</td>\n      <td>Saint Petersburg</td>\n      <td>Russia</td>\n      <td>NaN</td>\n    </tr>\n  </tbody>\n</table>\n<p>330 rows × 4 columns</p>\n</div>"
     },
     "metadata": {}
    }
   ]
  },
  {
   "cell_type": "code",
   "metadata": {
    "cell_id": "653f8d7be66946c8aca8ac712b04adf0",
    "tags": [],
    "deepnote_to_be_reexecuted": false,
    "source_hash": "c78456af",
    "execution_start": 1654646265905,
    "execution_millis": 179,
    "deepnote_table_state": {
     "pageSize": 10,
     "pageIndex": 32,
     "filters": [],
     "sortBy": []
    },
    "deepnote_table_loading": false,
    "deepnote_cell_type": "code",
    "deepnote_cell_height": 672
   },
   "source": "# Use .loc[] subsetting to filter temperatures_ind for rows where the city is in the cities list\ntemperatures_ind = temperatures.set_index('city')\ntemperatures_ind.loc[cities]\n\n# ERROR! To filter in this way the variable needs to be set as the DF index",
   "execution_count": null,
   "outputs": [
    {
     "output_type": "execute_result",
     "execution_count": 17,
     "data": {
      "application/vnd.deepnote.dataframe.v3+json": {
       "column_count": 4,
       "row_count": 330,
       "columns": [
        {
         "name": "date",
         "dtype": "datetime64[ns]",
         "stats": {
          "unique_count": 165,
          "nan_count": 0,
          "min": "2000-01-01 00:00:00",
          "max": "2013-09-01 00:00:00",
          "histogram": [
           {
            "bin_start": 946684800000000000,
            "bin_end": 989815680000000000,
            "count": 34
           },
           {
            "bin_start": 989815680000000000,
            "bin_end": 1032946560000000000,
            "count": 32
           },
           {
            "bin_start": 1032946560000000000,
            "bin_end": 1076077440000000000,
            "count": 34
           },
           {
            "bin_start": 1076077440000000000,
            "bin_end": 1119208320000000000,
            "count": 32
           },
           {
            "bin_start": 1119208320000000000,
            "bin_end": 1162339200000000000,
            "count": 32
           },
           {
            "bin_start": 1162339200000000000,
            "bin_end": 1205470080000000000,
            "count": 34
           },
           {
            "bin_start": 1205470080000000000,
            "bin_end": 1248600960000000000,
            "count": 32
           },
           {
            "bin_start": 1248600960000000000,
            "bin_end": 1291731840000000000,
            "count": 34
           },
           {
            "bin_start": 1291731840000000000,
            "bin_end": 1334862720000000000,
            "count": 32
           },
           {
            "bin_start": 1334862720000000000,
            "bin_end": 1377993600000000000,
            "count": 34
           }
          ]
         }
        },
        {
         "name": "country",
         "dtype": "object",
         "stats": {
          "unique_count": 1,
          "nan_count": 0,
          "categories": [
           {
            "name": "Russia",
            "count": 330
           }
          ]
         }
        },
        {
         "name": "avg_temp_c",
         "dtype": "float64",
         "stats": {
          "unique_count": 326,
          "nan_count": 2,
          "min": "-15.845999999999998",
          "max": "24.58",
          "histogram": [
           {
            "bin_start": -15.845999999999998,
            "bin_end": -11.8034,
            "count": 8
           },
           {
            "bin_start": -11.8034,
            "bin_end": -7.7608,
            "count": 22
           },
           {
            "bin_start": -7.7608,
            "bin_end": -3.7182000000000013,
            "count": 32
           },
           {
            "bin_start": -3.7182000000000013,
            "bin_end": 0.3243999999999989,
            "count": 50
           },
           {
            "bin_start": 0.3243999999999989,
            "bin_end": 4.366999999999999,
            "count": 40
           },
           {
            "bin_start": 4.366999999999999,
            "bin_end": 8.409599999999996,
            "count": 34
           },
           {
            "bin_start": 8.409599999999996,
            "bin_end": 12.452199999999996,
            "count": 42
           },
           {
            "bin_start": 12.452199999999996,
            "bin_end": 16.494799999999998,
            "count": 46
           },
           {
            "bin_start": 16.494799999999998,
            "bin_end": 20.537399999999998,
            "count": 48
           },
           {
            "bin_start": 20.537399999999998,
            "bin_end": 24.58,
            "count": 6
           }
          ]
         }
        },
        {
         "name": "year",
         "dtype": "int64",
         "stats": {
          "unique_count": 14,
          "nan_count": 0,
          "min": "2000",
          "max": "2013",
          "histogram": [
           {
            "bin_start": 2000,
            "bin_end": 2001.3,
            "count": 48
           },
           {
            "bin_start": 2001.3,
            "bin_end": 2002.6,
            "count": 24
           },
           {
            "bin_start": 2002.6,
            "bin_end": 2003.9,
            "count": 24
           },
           {
            "bin_start": 2003.9,
            "bin_end": 2005.2,
            "count": 48
           },
           {
            "bin_start": 2005.2,
            "bin_end": 2006.5,
            "count": 24
           },
           {
            "bin_start": 2006.5,
            "bin_end": 2007.8,
            "count": 24
           },
           {
            "bin_start": 2007.8,
            "bin_end": 2009.1,
            "count": 48
           },
           {
            "bin_start": 2009.1,
            "bin_end": 2010.4,
            "count": 24
           },
           {
            "bin_start": 2010.4,
            "bin_end": 2011.7,
            "count": 24
           },
           {
            "bin_start": 2011.7,
            "bin_end": 2013,
            "count": 42
           }
          ]
         }
        },
        {
         "name": "_deepnote_index_column",
         "dtype": "object"
        }
       ],
       "rows": [
        {
         "date": "2012-12-01T00:00:00.000000",
         "country": "Russia",
         "avg_temp_c": -7.316000000000002,
         "year": 2012,
         "_deepnote_index_column": "Saint Petersburg"
        },
        {
         "date": "2013-01-01T00:00:00.000000",
         "country": "Russia",
         "avg_temp_c": -6.218,
         "year": 2013,
         "_deepnote_index_column": "Saint Petersburg"
        },
        {
         "date": "2013-02-01T00:00:00.000000",
         "country": "Russia",
         "avg_temp_c": -3.228,
         "year": 2013,
         "_deepnote_index_column": "Saint Petersburg"
        },
        {
         "date": "2013-03-01T00:00:00.000000",
         "country": "Russia",
         "avg_temp_c": -8.177999999999999,
         "year": 2013,
         "_deepnote_index_column": "Saint Petersburg"
        },
        {
         "date": "2013-04-01T00:00:00.000000",
         "country": "Russia",
         "avg_temp_c": 2.1670000000000003,
         "year": 2013,
         "_deepnote_index_column": "Saint Petersburg"
        },
        {
         "date": "2013-05-01T00:00:00.000000",
         "country": "Russia",
         "avg_temp_c": 12.355,
         "year": 2013,
         "_deepnote_index_column": "Saint Petersburg"
        },
        {
         "date": "2013-06-01T00:00:00.000000",
         "country": "Russia",
         "avg_temp_c": 17.185000000000002,
         "year": 2013,
         "_deepnote_index_column": "Saint Petersburg"
        },
        {
         "date": "2013-07-01T00:00:00.000000",
         "country": "Russia",
         "avg_temp_c": 17.234,
         "year": 2013,
         "_deepnote_index_column": "Saint Petersburg"
        },
        {
         "date": "2013-08-01T00:00:00.000000",
         "country": "Russia",
         "avg_temp_c": 17.153000000000002,
         "year": 2013,
         "_deepnote_index_column": "Saint Petersburg"
        },
        {
         "date": "2013-09-01T00:00:00.000000",
         "country": "Russia",
         "avg_temp_c": "nan",
         "year": 2013,
         "_deepnote_index_column": "Saint Petersburg"
        }
       ]
      },
      "text/plain": "                       date country  avg_temp_c  year\ncity                                                 \nMoscow           2000-01-01  Russia      -7.313  2000\nMoscow           2000-02-01  Russia      -3.551  2000\nMoscow           2000-03-01  Russia      -1.661  2000\nMoscow           2000-04-01  Russia      10.096  2000\nMoscow           2000-05-01  Russia      10.357  2000\n...                     ...     ...         ...   ...\nSaint Petersburg 2013-05-01  Russia      12.355  2013\nSaint Petersburg 2013-06-01  Russia      17.185  2013\nSaint Petersburg 2013-07-01  Russia      17.234  2013\nSaint Petersburg 2013-08-01  Russia      17.153  2013\nSaint Petersburg 2013-09-01  Russia         NaN  2013\n\n[330 rows x 4 columns]",
      "text/html": "<div>\n<style scoped>\n    .dataframe tbody tr th:only-of-type {\n        vertical-align: middle;\n    }\n\n    .dataframe tbody tr th {\n        vertical-align: top;\n    }\n\n    .dataframe thead th {\n        text-align: right;\n    }\n</style>\n<table border=\"1\" class=\"dataframe\">\n  <thead>\n    <tr style=\"text-align: right;\">\n      <th></th>\n      <th>date</th>\n      <th>country</th>\n      <th>avg_temp_c</th>\n      <th>year</th>\n    </tr>\n    <tr>\n      <th>city</th>\n      <th></th>\n      <th></th>\n      <th></th>\n      <th></th>\n    </tr>\n  </thead>\n  <tbody>\n    <tr>\n      <th>Moscow</th>\n      <td>2000-01-01</td>\n      <td>Russia</td>\n      <td>-7.313</td>\n      <td>2000</td>\n    </tr>\n    <tr>\n      <th>Moscow</th>\n      <td>2000-02-01</td>\n      <td>Russia</td>\n      <td>-3.551</td>\n      <td>2000</td>\n    </tr>\n    <tr>\n      <th>Moscow</th>\n      <td>2000-03-01</td>\n      <td>Russia</td>\n      <td>-1.661</td>\n      <td>2000</td>\n    </tr>\n    <tr>\n      <th>Moscow</th>\n      <td>2000-04-01</td>\n      <td>Russia</td>\n      <td>10.096</td>\n      <td>2000</td>\n    </tr>\n    <tr>\n      <th>Moscow</th>\n      <td>2000-05-01</td>\n      <td>Russia</td>\n      <td>10.357</td>\n      <td>2000</td>\n    </tr>\n    <tr>\n      <th>...</th>\n      <td>...</td>\n      <td>...</td>\n      <td>...</td>\n      <td>...</td>\n    </tr>\n    <tr>\n      <th>Saint Petersburg</th>\n      <td>2013-05-01</td>\n      <td>Russia</td>\n      <td>12.355</td>\n      <td>2013</td>\n    </tr>\n    <tr>\n      <th>Saint Petersburg</th>\n      <td>2013-06-01</td>\n      <td>Russia</td>\n      <td>17.185</td>\n      <td>2013</td>\n    </tr>\n    <tr>\n      <th>Saint Petersburg</th>\n      <td>2013-07-01</td>\n      <td>Russia</td>\n      <td>17.234</td>\n      <td>2013</td>\n    </tr>\n    <tr>\n      <th>Saint Petersburg</th>\n      <td>2013-08-01</td>\n      <td>Russia</td>\n      <td>17.153</td>\n      <td>2013</td>\n    </tr>\n    <tr>\n      <th>Saint Petersburg</th>\n      <td>2013-09-01</td>\n      <td>Russia</td>\n      <td>NaN</td>\n      <td>2013</td>\n    </tr>\n  </tbody>\n</table>\n<p>330 rows × 4 columns</p>\n</div>"
     },
     "metadata": {}
    }
   ]
  },
  {
   "cell_type": "markdown",
   "source": "### Setting multi-level indexes\n",
   "metadata": {
    "formattedRanges": [],
    "cell_id": "bf930aee33c24a60b0f80c0cb90f36d7",
    "tags": [],
    "is_collapsed": false,
    "deepnote_cell_type": "text-cell-h3"
   }
  },
  {
   "cell_type": "code",
   "metadata": {
    "cell_id": "83eeaea6aba443b596979661614fc584",
    "tags": [],
    "deepnote_to_be_reexecuted": false,
    "source_hash": "183ea2c9",
    "execution_start": 1654646290785,
    "execution_millis": 1,
    "deepnote_cell_type": "code",
    "deepnote_cell_height": 99
   },
   "source": "# Set the index of temperatures to the \"country\" and \"city\" columns, and assign this to temperatures_ind\ntemperatures_ind = temperatures.set_index(['country', 'city'])",
   "execution_count": null,
   "outputs": []
  },
  {
   "cell_type": "code",
   "metadata": {
    "cell_id": "682795edb8104476ac68593e64ca9571",
    "tags": [],
    "deepnote_to_be_reexecuted": false,
    "source_hash": "b835af55",
    "execution_start": 1654646295464,
    "execution_millis": 18,
    "deepnote_cell_type": "code",
    "deepnote_cell_height": 99
   },
   "source": "# Specify two country/city pairs to keep: \"Brazil\"/\"Rio De Janeiro\" and \"Pakistan\"/\"Lahore\", assigning to rows_to_keep\nrows_to_keep = [('Brazil', 'Rio De Janeiro'), ('Pakistan', 'Lahore')]",
   "execution_count": null,
   "outputs": []
  },
  {
   "cell_type": "code",
   "metadata": {
    "cell_id": "5c5fd5bd15b34597ac8ec71f5c119fb7",
    "tags": [],
    "deepnote_to_be_reexecuted": false,
    "source_hash": "1013c1b6",
    "execution_start": 1654646297937,
    "execution_millis": 157,
    "deepnote_table_state": {
     "pageSize": 10,
     "pageIndex": 0,
     "filters": [],
     "sortBy": []
    },
    "deepnote_table_loading": false,
    "deepnote_cell_type": "code",
    "deepnote_cell_height": 618
   },
   "source": "# Print and subset temperatures_ind for rows_to_keep using .loc[]\ntemperatures_ind.loc[rows_to_keep]",
   "execution_count": null,
   "outputs": [
    {
     "output_type": "execute_result",
     "execution_count": 19,
     "data": {
      "application/vnd.deepnote.dataframe.v3+json": {
       "column_count": 3,
       "row_count": 330,
       "columns": [
        {
         "name": "date",
         "dtype": "datetime64[ns]",
         "stats": {
          "unique_count": 165,
          "nan_count": 0,
          "min": "2000-01-01 00:00:00",
          "max": "2013-09-01 00:00:00",
          "histogram": [
           {
            "bin_start": 946684800000000000,
            "bin_end": 989815680000000000,
            "count": 34
           },
           {
            "bin_start": 989815680000000000,
            "bin_end": 1032946560000000000,
            "count": 32
           },
           {
            "bin_start": 1032946560000000000,
            "bin_end": 1076077440000000000,
            "count": 34
           },
           {
            "bin_start": 1076077440000000000,
            "bin_end": 1119208320000000000,
            "count": 32
           },
           {
            "bin_start": 1119208320000000000,
            "bin_end": 1162339200000000000,
            "count": 32
           },
           {
            "bin_start": 1162339200000000000,
            "bin_end": 1205470080000000000,
            "count": 34
           },
           {
            "bin_start": 1205470080000000000,
            "bin_end": 1248600960000000000,
            "count": 32
           },
           {
            "bin_start": 1248600960000000000,
            "bin_end": 1291731840000000000,
            "count": 34
           },
           {
            "bin_start": 1291731840000000000,
            "bin_end": 1334862720000000000,
            "count": 32
           },
           {
            "bin_start": 1334862720000000000,
            "bin_end": 1377993600000000000,
            "count": 34
           }
          ]
         }
        },
        {
         "name": "avg_temp_c",
         "dtype": "float64",
         "stats": {
          "unique_count": 326,
          "nan_count": 2,
          "min": "11.285",
          "max": "35.649",
          "histogram": [
           {
            "bin_start": 11.285,
            "bin_end": 13.7214,
            "count": 15
           },
           {
            "bin_start": 13.7214,
            "bin_end": 16.1578,
            "count": 21
           },
           {
            "bin_start": 16.1578,
            "bin_end": 18.5942,
            "count": 4
           },
           {
            "bin_start": 18.5942,
            "bin_end": 21.0306,
            "count": 18
           },
           {
            "bin_start": 21.0306,
            "bin_end": 23.467,
            "count": 49
           },
           {
            "bin_start": 23.467,
            "bin_end": 25.903399999999998,
            "count": 83
           },
           {
            "bin_start": 25.903399999999998,
            "bin_end": 28.3398,
            "count": 62
           },
           {
            "bin_start": 28.3398,
            "bin_end": 30.7762,
            "count": 20
           },
           {
            "bin_start": 30.7762,
            "bin_end": 33.212599999999995,
            "count": 31
           },
           {
            "bin_start": 33.212599999999995,
            "bin_end": 35.649,
            "count": 25
           }
          ]
         }
        },
        {
         "name": "year",
         "dtype": "int64",
         "stats": {
          "unique_count": 14,
          "nan_count": 0,
          "min": "2000",
          "max": "2013",
          "histogram": [
           {
            "bin_start": 2000,
            "bin_end": 2001.3,
            "count": 48
           },
           {
            "bin_start": 2001.3,
            "bin_end": 2002.6,
            "count": 24
           },
           {
            "bin_start": 2002.6,
            "bin_end": 2003.9,
            "count": 24
           },
           {
            "bin_start": 2003.9,
            "bin_end": 2005.2,
            "count": 48
           },
           {
            "bin_start": 2005.2,
            "bin_end": 2006.5,
            "count": 24
           },
           {
            "bin_start": 2006.5,
            "bin_end": 2007.8,
            "count": 24
           },
           {
            "bin_start": 2007.8,
            "bin_end": 2009.1,
            "count": 48
           },
           {
            "bin_start": 2009.1,
            "bin_end": 2010.4,
            "count": 24
           },
           {
            "bin_start": 2010.4,
            "bin_end": 2011.7,
            "count": 24
           },
           {
            "bin_start": 2011.7,
            "bin_end": 2013,
            "count": 42
           }
          ]
         }
        },
        {
         "name": "_deepnote_index_column",
         "dtype": "object"
        }
       ],
       "rows": [
        {
         "date": "2000-01-01T00:00:00.000000",
         "avg_temp_c": 25.974,
         "year": 2000,
         "_deepnote_index_column": "('Brazil', 'Rio De Janeiro')"
        },
        {
         "date": "2000-02-01T00:00:00.000000",
         "avg_temp_c": 26.699,
         "year": 2000,
         "_deepnote_index_column": "('Brazil', 'Rio De Janeiro')"
        },
        {
         "date": "2000-03-01T00:00:00.000000",
         "avg_temp_c": 26.27,
         "year": 2000,
         "_deepnote_index_column": "('Brazil', 'Rio De Janeiro')"
        },
        {
         "date": "2000-04-01T00:00:00.000000",
         "avg_temp_c": 25.75,
         "year": 2000,
         "_deepnote_index_column": "('Brazil', 'Rio De Janeiro')"
        },
        {
         "date": "2000-05-01T00:00:00.000000",
         "avg_temp_c": 24.356,
         "year": 2000,
         "_deepnote_index_column": "('Brazil', 'Rio De Janeiro')"
        },
        {
         "date": "2000-06-01T00:00:00.000000",
         "avg_temp_c": 24.059,
         "year": 2000,
         "_deepnote_index_column": "('Brazil', 'Rio De Janeiro')"
        },
        {
         "date": "2000-07-01T00:00:00.000000",
         "avg_temp_c": 22.049,
         "year": 2000,
         "_deepnote_index_column": "('Brazil', 'Rio De Janeiro')"
        },
        {
         "date": "2000-08-01T00:00:00.000000",
         "avg_temp_c": 22.447,
         "year": 2000,
         "_deepnote_index_column": "('Brazil', 'Rio De Janeiro')"
        },
        {
         "date": "2000-09-01T00:00:00.000000",
         "avg_temp_c": 22.099,
         "year": 2000,
         "_deepnote_index_column": "('Brazil', 'Rio De Janeiro')"
        },
        {
         "date": "2000-10-01T00:00:00.000000",
         "avg_temp_c": 23.844,
         "year": 2000,
         "_deepnote_index_column": "('Brazil', 'Rio De Janeiro')"
        }
       ]
      },
      "text/plain": "                              date  avg_temp_c  year\ncountry  city                                       \nBrazil   Rio De Janeiro 2000-01-01      25.974  2000\n         Rio De Janeiro 2000-02-01      26.699  2000\n         Rio De Janeiro 2000-03-01      26.270  2000\n         Rio De Janeiro 2000-04-01      25.750  2000\n         Rio De Janeiro 2000-05-01      24.356  2000\n...                            ...         ...   ...\nPakistan Lahore         2013-05-01      33.457  2013\n         Lahore         2013-06-01      34.456  2013\n         Lahore         2013-07-01      33.279  2013\n         Lahore         2013-08-01      31.511  2013\n         Lahore         2013-09-01         NaN  2013\n\n[330 rows x 3 columns]",
      "text/html": "<div>\n<style scoped>\n    .dataframe tbody tr th:only-of-type {\n        vertical-align: middle;\n    }\n\n    .dataframe tbody tr th {\n        vertical-align: top;\n    }\n\n    .dataframe thead th {\n        text-align: right;\n    }\n</style>\n<table border=\"1\" class=\"dataframe\">\n  <thead>\n    <tr style=\"text-align: right;\">\n      <th></th>\n      <th></th>\n      <th>date</th>\n      <th>avg_temp_c</th>\n      <th>year</th>\n    </tr>\n    <tr>\n      <th>country</th>\n      <th>city</th>\n      <th></th>\n      <th></th>\n      <th></th>\n    </tr>\n  </thead>\n  <tbody>\n    <tr>\n      <th rowspan=\"5\" valign=\"top\">Brazil</th>\n      <th>Rio De Janeiro</th>\n      <td>2000-01-01</td>\n      <td>25.974</td>\n      <td>2000</td>\n    </tr>\n    <tr>\n      <th>Rio De Janeiro</th>\n      <td>2000-02-01</td>\n      <td>26.699</td>\n      <td>2000</td>\n    </tr>\n    <tr>\n      <th>Rio De Janeiro</th>\n      <td>2000-03-01</td>\n      <td>26.270</td>\n      <td>2000</td>\n    </tr>\n    <tr>\n      <th>Rio De Janeiro</th>\n      <td>2000-04-01</td>\n      <td>25.750</td>\n      <td>2000</td>\n    </tr>\n    <tr>\n      <th>Rio De Janeiro</th>\n      <td>2000-05-01</td>\n      <td>24.356</td>\n      <td>2000</td>\n    </tr>\n    <tr>\n      <th>...</th>\n      <th>...</th>\n      <td>...</td>\n      <td>...</td>\n      <td>...</td>\n    </tr>\n    <tr>\n      <th rowspan=\"5\" valign=\"top\">Pakistan</th>\n      <th>Lahore</th>\n      <td>2013-05-01</td>\n      <td>33.457</td>\n      <td>2013</td>\n    </tr>\n    <tr>\n      <th>Lahore</th>\n      <td>2013-06-01</td>\n      <td>34.456</td>\n      <td>2013</td>\n    </tr>\n    <tr>\n      <th>Lahore</th>\n      <td>2013-07-01</td>\n      <td>33.279</td>\n      <td>2013</td>\n    </tr>\n    <tr>\n      <th>Lahore</th>\n      <td>2013-08-01</td>\n      <td>31.511</td>\n      <td>2013</td>\n    </tr>\n    <tr>\n      <th>Lahore</th>\n      <td>2013-09-01</td>\n      <td>NaN</td>\n      <td>2013</td>\n    </tr>\n  </tbody>\n</table>\n<p>330 rows × 3 columns</p>\n</div>"
     },
     "metadata": {}
    }
   ]
  },
  {
   "cell_type": "markdown",
   "source": "## Working with pivot tables",
   "metadata": {
    "formattedRanges": [],
    "cell_id": "74be4fbb8ff44120830c2a54520e43e0",
    "tags": [],
    "is_collapsed": false,
    "deepnote_cell_type": "text-cell-h2"
   }
  },
  {
   "cell_type": "markdown",
   "source": "### Pivot temperature by city and year",
   "metadata": {
    "formattedRanges": [],
    "cell_id": "86fcdf86232a4e34be64d303684fc8b4",
    "tags": [],
    "is_collapsed": false,
    "deepnote_cell_type": "text-cell-h3"
   }
  },
  {
   "cell_type": "code",
   "metadata": {
    "cell_id": "606a182c334743c6910ab6c3133db57b",
    "tags": [],
    "deepnote_to_be_reexecuted": false,
    "source_hash": "74e1f891",
    "execution_start": 1654646040285,
    "execution_millis": 49,
    "deepnote_cell_type": "code",
    "deepnote_cell_height": 117
   },
   "source": "# Add a year column to temperatures, from the year component of the date column\ntemperatures['date'] = pd.to_datetime(temperatures.date)\ntemperatures['year'] = temperatures.date.dt.year",
   "execution_count": null,
   "outputs": []
  },
  {
   "cell_type": "code",
   "metadata": {
    "cell_id": "09893ec6bd994e0e917d6cda816f6116",
    "tags": [],
    "deepnote_to_be_reexecuted": false,
    "source_hash": "ee60792e",
    "execution_start": 1654646477233,
    "execution_millis": 347,
    "deepnote_table_state": {
     "pageSize": 10,
     "pageIndex": 0,
     "filters": [],
     "sortBy": []
    },
    "deepnote_table_loading": false,
    "deepnote_cell_type": "code",
    "deepnote_cell_height": 686.390625
   },
   "source": "# Make a pivot table of the avg_temp_c column, with country and city as rows, and year as columns \n# Assign to temp_by_country_city_vs_year, and look at the result\n\ntemp_by_country_city_vs_year = temperatures.pivot_table(values='avg_temp_c', index=['country', 'city'], columns='year')\ntemp_by_country_city_vs_year",
   "execution_count": null,
   "outputs": [
    {
     "output_type": "execute_result",
     "execution_count": 22,
     "data": {
      "application/vnd.deepnote.dataframe.v3+json": {
       "column_count": 14,
       "row_count": 100,
       "columns": [
        {
         "name": 2000,
         "dtype": "float64",
         "stats": {
          "unique_count": 95,
          "nan_count": 0,
          "min": "4.204750000000001",
          "max": "29.621250000000003",
          "histogram": [
           {
            "bin_start": 4.204750000000001,
            "bin_end": 6.746400000000001,
            "count": 7
           },
           {
            "bin_start": 6.746400000000001,
            "bin_end": 9.288050000000002,
            "count": 3
           },
           {
            "bin_start": 9.288050000000002,
            "bin_end": 11.8297,
            "count": 9
           },
           {
            "bin_start": 11.8297,
            "bin_end": 14.371350000000001,
            "count": 11
           },
           {
            "bin_start": 14.371350000000001,
            "bin_end": 16.913000000000004,
            "count": 7
           },
           {
            "bin_start": 16.913000000000004,
            "bin_end": 19.45465,
            "count": 9
           },
           {
            "bin_start": 19.45465,
            "bin_end": 21.9963,
            "count": 8
           },
           {
            "bin_start": 21.9963,
            "bin_end": 24.537950000000002,
            "count": 8
           },
           {
            "bin_start": 24.537950000000002,
            "bin_end": 27.079600000000003,
            "count": 23
           },
           {
            "bin_start": 27.079600000000003,
            "bin_end": 29.621250000000003,
            "count": 15
           }
          ]
         }
        },
        {
         "name": 2001,
         "dtype": "float64",
         "stats": {
          "unique_count": 95,
          "nan_count": 0,
          "min": "4.460916666666666",
          "max": "29.805499999999995",
          "histogram": [
           {
            "bin_start": 4.460916666666666,
            "bin_end": 6.995374999999999,
            "count": 6
           },
           {
            "bin_start": 6.995374999999999,
            "bin_end": 9.529833333333332,
            "count": 4
           },
           {
            "bin_start": 9.529833333333332,
            "bin_end": 12.064291666666664,
            "count": 8
           },
           {
            "bin_start": 12.064291666666664,
            "bin_end": 14.598749999999997,
            "count": 10
           },
           {
            "bin_start": 14.598749999999997,
            "bin_end": 17.13320833333333,
            "count": 11
           },
           {
            "bin_start": 17.13320833333333,
            "bin_end": 19.667666666666662,
            "count": 7
           },
           {
            "bin_start": 19.667666666666662,
            "bin_end": 22.202124999999995,
            "count": 7
           },
           {
            "bin_start": 22.202124999999995,
            "bin_end": 24.73658333333333,
            "count": 8
           },
           {
            "bin_start": 24.73658333333333,
            "bin_end": 27.27104166666666,
            "count": 28
           },
           {
            "bin_start": 27.27104166666666,
            "bin_end": 29.805499999999995,
            "count": 11
           }
          ]
         }
        },
        {
         "name": 2002,
         "dtype": "float64",
         "stats": {
          "unique_count": 95,
          "nan_count": 0,
          "min": "5.0767500000000005",
          "max": "29.989500000000003",
          "histogram": [
           {
            "bin_start": 5.0767500000000005,
            "bin_end": 7.5680250000000004,
            "count": 7
           },
           {
            "bin_start": 7.5680250000000004,
            "bin_end": 10.0593,
            "count": 3
           },
           {
            "bin_start": 10.0593,
            "bin_end": 12.550575000000002,
            "count": 10
           },
           {
            "bin_start": 12.550575000000002,
            "bin_end": 15.041850000000002,
            "count": 10
           },
           {
            "bin_start": 15.041850000000002,
            "bin_end": 17.533125000000002,
            "count": 10
           },
           {
            "bin_start": 17.533125000000002,
            "bin_end": 20.024400000000004,
            "count": 6
           },
           {
            "bin_start": 20.024400000000004,
            "bin_end": 22.515675,
            "count": 9
           },
           {
            "bin_start": 22.515675,
            "bin_end": 25.006950000000003,
            "count": 6
           },
           {
            "bin_start": 25.006950000000003,
            "bin_end": 27.498225000000005,
            "count": 28
           },
           {
            "bin_start": 27.498225000000005,
            "bin_end": 29.989500000000003,
            "count": 11
           }
          ]
         }
        },
        {
         "name": 2003,
         "dtype": "float64",
         "stats": {
          "unique_count": 95,
          "nan_count": 0,
          "min": "4.847416666666667",
          "max": "29.679916666666667",
          "histogram": [
           {
            "bin_start": 4.847416666666667,
            "bin_end": 7.330666666666667,
            "count": 7
           },
           {
            "bin_start": 7.330666666666667,
            "bin_end": 9.813916666666668,
            "count": 3
           },
           {
            "bin_start": 9.813916666666668,
            "bin_end": 12.297166666666666,
            "count": 11
           },
           {
            "bin_start": 12.297166666666666,
            "bin_end": 14.780416666666667,
            "count": 9
           },
           {
            "bin_start": 14.780416666666667,
            "bin_end": 17.263666666666666,
            "count": 8
           },
           {
            "bin_start": 17.263666666666666,
            "bin_end": 19.746916666666667,
            "count": 8
           },
           {
            "bin_start": 19.746916666666667,
            "bin_end": 22.23016666666667,
            "count": 8
           },
           {
            "bin_start": 22.23016666666667,
            "bin_end": 24.713416666666667,
            "count": 6
           },
           {
            "bin_start": 24.713416666666667,
            "bin_end": 27.196666666666665,
            "count": 24
           },
           {
            "bin_start": 27.196666666666665,
            "bin_end": 29.679916666666667,
            "count": 16
           }
          ]
         }
        },
        {
         "name": 2004,
         "dtype": "float64",
         "stats": {
          "unique_count": 95,
          "nan_count": 0,
          "min": "4.9085833333333335",
          "max": "29.890416666666667",
          "histogram": [
           {
            "bin_start": 4.9085833333333335,
            "bin_end": 7.406766666666667,
            "count": 7
           },
           {
            "bin_start": 7.406766666666667,
            "bin_end": 9.90495,
            "count": 4
           },
           {
            "bin_start": 9.90495,
            "bin_end": 12.403133333333333,
            "count": 9
           },
           {
            "bin_start": 12.403133333333333,
            "bin_end": 14.901316666666666,
            "count": 10
           },
           {
            "bin_start": 14.901316666666666,
            "bin_end": 17.3995,
            "count": 10
           },
           {
            "bin_start": 17.3995,
            "bin_end": 19.897683333333333,
            "count": 6
           },
           {
            "bin_start": 19.897683333333333,
            "bin_end": 22.395866666666667,
            "count": 9
           },
           {
            "bin_start": 22.395866666666667,
            "bin_end": 24.89405,
            "count": 7
           },
           {
            "bin_start": 24.89405,
            "bin_end": 27.392233333333333,
            "count": 27
           },
           {
            "bin_start": 27.392233333333333,
            "bin_end": 29.890416666666667,
            "count": 11
           }
          ]
         }
        },
        {
         "name": 2005,
         "dtype": "float64",
         "stats": {
          "unique_count": 95,
          "nan_count": 0,
          "min": "4.293",
          "max": "30.168333333333333",
          "histogram": [
           {
            "bin_start": 4.293,
            "bin_end": 6.880533333333334,
            "count": 6
           },
           {
            "bin_start": 6.880533333333334,
            "bin_end": 9.468066666666667,
            "count": 4
           },
           {
            "bin_start": 9.468066666666667,
            "bin_end": 12.055600000000002,
            "count": 9
           },
           {
            "bin_start": 12.055600000000002,
            "bin_end": 14.643133333333335,
            "count": 11
           },
           {
            "bin_start": 14.643133333333335,
            "bin_end": 17.230666666666668,
            "count": 9
           },
           {
            "bin_start": 17.230666666666668,
            "bin_end": 19.8182,
            "count": 7
           },
           {
            "bin_start": 19.8182,
            "bin_end": 22.405733333333334,
            "count": 9
           },
           {
            "bin_start": 22.405733333333334,
            "bin_end": 24.993266666666667,
            "count": 9
           },
           {
            "bin_start": 24.993266666666667,
            "bin_end": 27.5808,
            "count": 27
           },
           {
            "bin_start": 27.5808,
            "bin_end": 30.168333333333333,
            "count": 9
           }
          ]
         }
        },
        {
         "name": 2006,
         "dtype": "float64",
         "stats": {
          "unique_count": 95,
          "nan_count": 0,
          "min": "4.715166666666668",
          "max": "29.551833333333335",
          "histogram": [
           {
            "bin_start": 4.715166666666668,
            "bin_end": 7.198833333333335,
            "count": 6
           },
           {
            "bin_start": 7.198833333333335,
            "bin_end": 9.682500000000001,
            "count": 3
           },
           {
            "bin_start": 9.682500000000001,
            "bin_end": 12.166166666666669,
            "count": 10
           },
           {
            "bin_start": 12.166166666666669,
            "bin_end": 14.649833333333333,
            "count": 10
           },
           {
            "bin_start": 14.649833333333333,
            "bin_end": 17.1335,
            "count": 8
           },
           {
            "bin_start": 17.1335,
            "bin_end": 19.61716666666667,
            "count": 9
           },
           {
            "bin_start": 19.61716666666667,
            "bin_end": 22.100833333333334,
            "count": 8
           },
           {
            "bin_start": 22.100833333333334,
            "bin_end": 24.584500000000002,
            "count": 7
           },
           {
            "bin_start": 24.584500000000002,
            "bin_end": 27.06816666666667,
            "count": 19
           },
           {
            "bin_start": 27.06816666666667,
            "bin_end": 29.551833333333335,
            "count": 20
           }
          ]
         }
        },
        {
         "name": 2007,
         "dtype": "float64",
         "stats": {
          "unique_count": 95,
          "nan_count": 0,
          "min": "5.246000000000001",
          "max": "29.584166666666672",
          "histogram": [
           {
            "bin_start": 5.246000000000001,
            "bin_end": 7.679816666666668,
            "count": 7
           },
           {
            "bin_start": 7.679816666666668,
            "bin_end": 10.113633333333336,
            "count": 3
           },
           {
            "bin_start": 10.113633333333336,
            "bin_end": 12.547450000000001,
            "count": 10
           },
           {
            "bin_start": 12.547450000000001,
            "bin_end": 14.98126666666667,
            "count": 9
           },
           {
            "bin_start": 14.98126666666667,
            "bin_end": 17.415083333333335,
            "count": 9
           },
           {
            "bin_start": 17.415083333333335,
            "bin_end": 19.848900000000004,
            "count": 8
           },
           {
            "bin_start": 19.848900000000004,
            "bin_end": 22.282716666666673,
            "count": 6
           },
           {
            "bin_start": 22.282716666666673,
            "bin_end": 24.716533333333338,
            "count": 9
           },
           {
            "bin_start": 24.716533333333338,
            "bin_end": 27.150350000000003,
            "count": 20
           },
           {
            "bin_start": 27.150350000000003,
            "bin_end": 29.584166666666672,
            "count": 19
           }
          ]
         }
        },
        {
         "name": 2008,
         "dtype": "float64",
         "stats": {
          "unique_count": 95,
          "nan_count": 0,
          "min": "5.616833333333333",
          "max": "29.911333333333335",
          "histogram": [
           {
            "bin_start": 5.616833333333333,
            "bin_end": 8.046283333333333,
            "count": 7
           },
           {
            "bin_start": 8.046283333333333,
            "bin_end": 10.475733333333334,
            "count": 5
           },
           {
            "bin_start": 10.475733333333334,
            "bin_end": 12.905183333333333,
            "count": 10
           },
           {
            "bin_start": 12.905183333333333,
            "bin_end": 15.334633333333333,
            "count": 8
           },
           {
            "bin_start": 15.334633333333333,
            "bin_end": 17.764083333333332,
            "count": 12
           },
           {
            "bin_start": 17.764083333333332,
            "bin_end": 20.193533333333335,
            "count": 4
           },
           {
            "bin_start": 20.193533333333335,
            "bin_end": 22.622983333333334,
            "count": 9
           },
           {
            "bin_start": 22.622983333333334,
            "bin_end": 25.052433333333333,
            "count": 9
           },
           {
            "bin_start": 25.052433333333333,
            "bin_end": 27.481883333333332,
            "count": 30
           },
           {
            "bin_start": 27.481883333333332,
            "bin_end": 29.911333333333335,
            "count": 6
           }
          ]
         }
        },
        {
         "name": 2009,
         "dtype": "float64",
         "stats": {
          "unique_count": 95,
          "nan_count": 0,
          "min": "4.319500000000001",
          "max": "30.46016666666667",
          "histogram": [
           {
            "bin_start": 4.319500000000001,
            "bin_end": 6.9335666666666675,
            "count": 7
           },
           {
            "bin_start": 6.9335666666666675,
            "bin_end": 9.547633333333334,
            "count": 3
           },
           {
            "bin_start": 9.547633333333334,
            "bin_end": 12.161700000000002,
            "count": 9
           },
           {
            "bin_start": 12.161700000000002,
            "bin_end": 14.77576666666667,
            "count": 10
           },
           {
            "bin_start": 14.77576666666667,
            "bin_end": 17.389833333333335,
            "count": 9
           },
           {
            "bin_start": 17.389833333333335,
            "bin_end": 20.0039,
            "count": 8
           },
           {
            "bin_start": 20.0039,
            "bin_end": 22.61796666666667,
            "count": 7
           },
           {
            "bin_start": 22.61796666666667,
            "bin_end": 25.232033333333337,
            "count": 10
           },
           {
            "bin_start": 25.232033333333337,
            "bin_end": 27.846100000000003,
            "count": 30
           },
           {
            "bin_start": 27.846100000000003,
            "bin_end": 30.46016666666667,
            "count": 7
           }
          ]
         }
        },
        {
         "name": 2010,
         "dtype": "float64",
         "stats": {
          "unique_count": 95,
          "nan_count": 0,
          "min": "3.85225",
          "max": "30.730166666666666",
          "histogram": [
           {
            "bin_start": 3.85225,
            "bin_end": 6.540041666666667,
            "count": 5
           },
           {
            "bin_start": 6.540041666666667,
            "bin_end": 9.227833333333333,
            "count": 6
           },
           {
            "bin_start": 9.227833333333333,
            "bin_end": 11.915625,
            "count": 7
           },
           {
            "bin_start": 11.915625,
            "bin_end": 14.603416666666666,
            "count": 10
           },
           {
            "bin_start": 14.603416666666666,
            "bin_end": 17.291208333333334,
            "count": 11
           },
           {
            "bin_start": 17.291208333333334,
            "bin_end": 19.979000000000003,
            "count": 6
           },
           {
            "bin_start": 19.979000000000003,
            "bin_end": 22.66679166666667,
            "count": 8
           },
           {
            "bin_start": 22.66679166666667,
            "bin_end": 25.354583333333334,
            "count": 8
           },
           {
            "bin_start": 25.354583333333334,
            "bin_end": 28.042375,
            "count": 32
           },
           {
            "bin_start": 28.042375,
            "bin_end": 30.730166666666666,
            "count": 7
           }
          ]
         }
        },
        {
         "name": 2011,
         "dtype": "float64",
         "stats": {
          "unique_count": 95,
          "nan_count": 0,
          "min": "4.60025",
          "max": "29.963666666666665",
          "histogram": [
           {
            "bin_start": 4.60025,
            "bin_end": 7.136591666666666,
            "count": 6
           },
           {
            "bin_start": 7.136591666666666,
            "bin_end": 9.672933333333333,
            "count": 4
           },
           {
            "bin_start": 9.672933333333333,
            "bin_end": 12.209274999999998,
            "count": 9
           },
           {
            "bin_start": 12.209274999999998,
            "bin_end": 14.745616666666667,
            "count": 11
           },
           {
            "bin_start": 14.745616666666667,
            "bin_end": 17.281958333333332,
            "count": 9
           },
           {
            "bin_start": 17.281958333333332,
            "bin_end": 19.818299999999997,
            "count": 7
           },
           {
            "bin_start": 19.818299999999997,
            "bin_end": 22.354641666666666,
            "count": 10
           },
           {
            "bin_start": 22.354641666666666,
            "bin_end": 24.89098333333333,
            "count": 6
           },
           {
            "bin_start": 24.89098333333333,
            "bin_end": 27.427324999999996,
            "count": 32
           },
           {
            "bin_start": 27.427324999999996,
            "bin_end": 29.963666666666665,
            "count": 6
           }
          ]
         }
        },
        {
         "name": 2012,
         "dtype": "float64",
         "stats": {
          "unique_count": 95,
          "nan_count": 0,
          "min": "4.0714999999999995",
          "max": "29.96108333333333",
          "histogram": [
           {
            "bin_start": 4.0714999999999995,
            "bin_end": 6.660458333333333,
            "count": 4
           },
           {
            "bin_start": 6.660458333333333,
            "bin_end": 9.249416666666665,
            "count": 6
           },
           {
            "bin_start": 9.249416666666665,
            "bin_end": 11.838375,
            "count": 7
           },
           {
            "bin_start": 11.838375,
            "bin_end": 14.427333333333333,
            "count": 12
           },
           {
            "bin_start": 14.427333333333333,
            "bin_end": 17.016291666666667,
            "count": 8
           },
           {
            "bin_start": 17.016291666666667,
            "bin_end": 19.605249999999998,
            "count": 9
           },
           {
            "bin_start": 19.605249999999998,
            "bin_end": 22.194208333333332,
            "count": 7
           },
           {
            "bin_start": 22.194208333333332,
            "bin_end": 24.783166666666666,
            "count": 8
           },
           {
            "bin_start": 24.783166666666666,
            "bin_end": 27.372125,
            "count": 29
           },
           {
            "bin_start": 27.372125,
            "bin_end": 29.96108333333333,
            "count": 10
           }
          ]
         }
        },
        {
         "name": 2013,
         "dtype": "float64",
         "stats": {
          "unique_count": 95,
          "nan_count": 0,
          "min": "5.616874999999999",
          "max": "30.6505",
          "histogram": [
           {
            "bin_start": 5.616874999999999,
            "bin_end": 8.1202375,
            "count": 6
           },
           {
            "bin_start": 8.1202375,
            "bin_end": 10.6236,
            "count": 5
           },
           {
            "bin_start": 10.6236,
            "bin_end": 13.126962500000001,
            "count": 7
           },
           {
            "bin_start": 13.126962500000001,
            "bin_end": 15.630325,
            "count": 10
           },
           {
            "bin_start": 15.630325,
            "bin_end": 18.1336875,
            "count": 12
           },
           {
            "bin_start": 18.1336875,
            "bin_end": 20.637050000000002,
            "count": 8
           },
           {
            "bin_start": 20.637050000000002,
            "bin_end": 23.1404125,
            "count": 9
           },
           {
            "bin_start": 23.1404125,
            "bin_end": 25.643775,
            "count": 6
           },
           {
            "bin_start": 25.643775,
            "bin_end": 28.147137500000003,
            "count": 31
           },
           {
            "bin_start": 28.147137500000003,
            "bin_end": 30.6505,
            "count": 6
           }
          ]
         }
        },
        {
         "name": "_deepnote_index_column",
         "dtype": "object"
        }
       ],
       "rows": [
        {
         "2000": 15.822666666666663,
         "2001": 15.847916666666665,
         "2002": 15.714583333333332,
         "2003": 15.132583333333331,
         "2004": 16.128416666666666,
         "2005": 14.847499999999998,
         "2006": 15.798500000000002,
         "2007": 15.518,
         "2008": 15.479249999999999,
         "2009": 15.093333333333334,
         "2010": 15.676,
         "2011": 15.812166666666668,
         "2012": 14.510333333333335,
         "2013": 16.206125,
         "_deepnote_index_column": "('Afghanistan', 'Kabul')"
        },
        {
         "2000": 24.41033333333333,
         "2001": 24.427083333333332,
         "2002": 24.790916666666664,
         "2003": 24.867166666666673,
         "2004": 24.216166666666666,
         "2005": 24.41458333333333,
         "2006": 24.13841666666667,
         "2007": 24.241583333333327,
         "2008": 24.266333333333336,
         "2009": 24.325083333333335,
         "2010": 24.440250000000002,
         "2011": 24.150750000000002,
         "2012": 24.24008333333333,
         "2013": 24.553874999999998,
         "_deepnote_index_column": "('Angola', 'Luanda')"
        },
        {
         "2000": 14.320083333333336,
         "2001": 14.180000000000001,
         "2002": 14.075833333333335,
         "2003": 13.98558333333333,
         "2004": 13.742083333333332,
         "2005": 14.3785,
         "2006": 13.99108333333333,
         "2007": 14.991833333333332,
         "2008": 14.110583333333336,
         "2009": 14.647416666666665,
         "2010": 14.231666666666667,
         "2011": 14.190916666666666,
         "2012": 14.268666666666668,
         "2013": 14.741499999999998,
         "_deepnote_index_column": "('Australia', 'Melbourne')"
        },
        {
         "2000": 17.56741666666667,
         "2001": 17.8545,
         "2002": 17.733833333333333,
         "2003": 17.592333333333332,
         "2004": 17.86966666666667,
         "2005": 18.02808333333334,
         "2006": 17.7495,
         "2007": 18.020833333333332,
         "2008": 17.321083333333334,
         "2009": 18.175833333333333,
         "2010": 17.999,
         "2011": 17.713333333333335,
         "2012": 17.474333333333334,
         "2013": 18.08975,
         "_deepnote_index_column": "('Australia', 'Sydney')"
        },
        {
         "2000": 25.90525,
         "2001": 25.931249999999995,
         "2002": 26.094999999999995,
         "2003": 25.92741666666667,
         "2004": 26.136083333333332,
         "2005": 26.19333333333333,
         "2006": 26.44041666666666,
         "2007": 25.951333333333334,
         "2008": 26.004500000000004,
         "2009": 26.53558333333333,
         "2010": 26.648166666666665,
         "2011": 25.803250000000002,
         "2012": 26.28358333333333,
         "2013": 26.587,
         "_deepnote_index_column": "('Bangladesh', 'Dhaka')"
        },
        {
         "2000": 21.694916666666668,
         "2001": 22.141500000000004,
         "2002": 22.497333333333334,
         "2003": 22.078916666666668,
         "2004": 21.588583333333332,
         "2005": 22.054666666666673,
         "2006": 21.817916666666665,
         "2007": 22.189333333333337,
         "2008": 21.857916666666668,
         "2009": 22.248749999999998,
         "2010": 22.11633333333333,
         "2011": 21.7405,
         "2012": 22.1615,
         "2013": 21.586125,
         "_deepnote_index_column": "('Brazil', 'Belo Horizonte')"
        },
        {
         "2000": 22.456166666666665,
         "2001": 22.56533333333333,
         "2002": 23.1755,
         "2003": 22.749000000000006,
         "2004": 22.606583333333333,
         "2005": 22.73675,
         "2006": 22.349166666666672,
         "2007": 22.998000000000005,
         "2008": 22.595333333333333,
         "2009": 22.662999999999997,
         "2010": 23.03516666666667,
         "2011": 22.38716666666667,
         "2012": 22.84358333333333,
         "2013": 22.601375,
         "_deepnote_index_column": "('Brazil', 'Brasília')"
        },
        {
         "2000": 27.495166666666666,
         "2001": 27.69283333333333,
         "2002": 27.853083333333334,
         "2003": 27.86283333333333,
         "2004": 27.72108333333333,
         "2005": 28.171000000000003,
         "2006": 27.75991666666666,
         "2007": 27.920083333333334,
         "2008": 27.536249999999995,
         "2009": 27.38541666666667,
         "2010": 28.17916666666667,
         "2011": 27.36316666666667,
         "2012": 28.208916666666664,
         "2013": 27.705625,
         "_deepnote_index_column": "('Brazil', 'Fortaleza')"
        },
        {
         "2000": 24.363083333333336,
         "2001": 24.989083333333337,
         "2002": 25.176666666666666,
         "2003": 24.896,
         "2004": 24.238250000000004,
         "2005": 24.792916666666667,
         "2006": 24.57191666666667,
         "2007": 24.77508333333334,
         "2008": 24.260333333333335,
         "2009": 24.98358333333334,
         "2010": 24.952749999999998,
         "2011": 24.31983333333333,
         "2012": 24.83841666666667,
         "2013": 25.188000000000002,
         "_deepnote_index_column": "('Brazil', 'Rio De Janeiro')"
        },
        {
         "2000": 25.35166666666667,
         "2001": 25.592916666666667,
         "2002": 25.560500000000005,
         "2003": 25.675749999999997,
         "2004": 25.36583333333333,
         "2005": 25.697083333333328,
         "2006": 25.409500000000005,
         "2007": 25.438416666666672,
         "2008": 25.543750000000003,
         "2009": 25.999750000000002,
         "2010": 25.776916666666665,
         "2011": 25.283666666666665,
         "2012": 25.648333333333337,
         "2013": 26.138,
         "_deepnote_index_column": "('Brazil', 'Salvador')"
        }
       ]
      },
      "text/plain": "year                                 2000       2001       2002       2003  \\\ncountry       city                                                           \nAfghanistan   Kabul             15.822667  15.847917  15.714583  15.132583   \nAngola        Luanda            24.410333  24.427083  24.790917  24.867167   \nAustralia     Melbourne         14.320083  14.180000  14.075833  13.985583   \n              Sydney            17.567417  17.854500  17.733833  17.592333   \nBangladesh    Dhaka             25.905250  25.931250  26.095000  25.927417   \n...                                   ...        ...        ...        ...   \nUnited States Chicago           11.089667  11.703083  11.532083  10.481583   \n              Los Angeles       16.643333  16.466250  16.430250  16.944667   \n              New York           9.969083  10.931000  11.252167   9.836000   \nVietnam       Ho Chi Minh City  27.588917  27.831750  28.064750  27.827667   \nZimbabwe      Harare            20.283667  20.861000  21.079333  20.889167   \n\nyear                                 2004       2005       2006       2007  \\\ncountry       city                                                           \nAfghanistan   Kabul             16.128417  14.847500  15.798500  15.518000   \nAngola        Luanda            24.216167  24.414583  24.138417  24.241583   \nAustralia     Melbourne         13.742083  14.378500  13.991083  14.991833   \n              Sydney            17.869667  18.028083  17.749500  18.020833   \nBangladesh    Dhaka             26.136083  26.193333  26.440417  25.951333   \n...                                   ...        ...        ...        ...   \nUnited States Chicago           10.943417  11.583833  11.870500  11.448333   \n              Los Angeles       16.552833  16.431417  16.623083  16.699917   \n              New York          10.389500  10.681417  11.519250  10.627333   \nVietnam       Ho Chi Minh City  27.686583  27.884000  28.044000  27.866667   \nZimbabwe      Harare            20.307667  21.487417  20.699750  20.746250   \n\nyear                                 2008       2009       2010       2011  \\\ncountry       city                                                           \nAfghanistan   Kabul             15.479250  15.093333  15.676000  15.812167   \nAngola        Luanda            24.266333  24.325083  24.440250  24.150750   \nAustralia     Melbourne         14.110583  14.647417  14.231667  14.190917   \n              Sydney            17.321083  18.175833  17.999000  17.713333   \nBangladesh    Dhaka             26.004500  26.535583  26.648167  25.803250   \n...                                   ...        ...        ...        ...   \nUnited States Chicago           10.242417  10.298333  11.815917  11.214250   \n              Los Angeles       17.014750  16.677000  15.887000  15.874833   \n              New York          10.641667  10.141833  11.357583  11.272250   \nVietnam       Ho Chi Minh City  27.611417  27.853333  28.281750  27.675417   \nZimbabwe      Harare            20.680500  20.523833  21.165833  20.781750   \n\nyear                                 2012       2013  \ncountry       city                                    \nAfghanistan   Kabul             14.510333  16.206125  \nAngola        Luanda            24.240083  24.553875  \nAustralia     Melbourne         14.268667  14.741500  \n              Sydney            17.474333  18.089750  \nBangladesh    Dhaka             26.283583  26.587000  \n...                                   ...        ...  \nUnited States Chicago           12.821250  11.586889  \n              Los Angeles       17.089583  18.120667  \n              New York          11.971500  12.163889  \nVietnam       Ho Chi Minh City  28.248750  28.455000  \nZimbabwe      Harare            20.523333  19.756500  \n\n[100 rows x 14 columns]",
      "text/html": "<div>\n<style scoped>\n    .dataframe tbody tr th:only-of-type {\n        vertical-align: middle;\n    }\n\n    .dataframe tbody tr th {\n        vertical-align: top;\n    }\n\n    .dataframe thead th {\n        text-align: right;\n    }\n</style>\n<table border=\"1\" class=\"dataframe\">\n  <thead>\n    <tr style=\"text-align: right;\">\n      <th></th>\n      <th>year</th>\n      <th>2000</th>\n      <th>2001</th>\n      <th>2002</th>\n      <th>2003</th>\n      <th>2004</th>\n      <th>2005</th>\n      <th>2006</th>\n      <th>2007</th>\n      <th>2008</th>\n      <th>2009</th>\n      <th>2010</th>\n      <th>2011</th>\n      <th>2012</th>\n      <th>2013</th>\n    </tr>\n    <tr>\n      <th>country</th>\n      <th>city</th>\n      <th></th>\n      <th></th>\n      <th></th>\n      <th></th>\n      <th></th>\n      <th></th>\n      <th></th>\n      <th></th>\n      <th></th>\n      <th></th>\n      <th></th>\n      <th></th>\n      <th></th>\n      <th></th>\n    </tr>\n  </thead>\n  <tbody>\n    <tr>\n      <th>Afghanistan</th>\n      <th>Kabul</th>\n      <td>15.822667</td>\n      <td>15.847917</td>\n      <td>15.714583</td>\n      <td>15.132583</td>\n      <td>16.128417</td>\n      <td>14.847500</td>\n      <td>15.798500</td>\n      <td>15.518000</td>\n      <td>15.479250</td>\n      <td>15.093333</td>\n      <td>15.676000</td>\n      <td>15.812167</td>\n      <td>14.510333</td>\n      <td>16.206125</td>\n    </tr>\n    <tr>\n      <th>Angola</th>\n      <th>Luanda</th>\n      <td>24.410333</td>\n      <td>24.427083</td>\n      <td>24.790917</td>\n      <td>24.867167</td>\n      <td>24.216167</td>\n      <td>24.414583</td>\n      <td>24.138417</td>\n      <td>24.241583</td>\n      <td>24.266333</td>\n      <td>24.325083</td>\n      <td>24.440250</td>\n      <td>24.150750</td>\n      <td>24.240083</td>\n      <td>24.553875</td>\n    </tr>\n    <tr>\n      <th rowspan=\"2\" valign=\"top\">Australia</th>\n      <th>Melbourne</th>\n      <td>14.320083</td>\n      <td>14.180000</td>\n      <td>14.075833</td>\n      <td>13.985583</td>\n      <td>13.742083</td>\n      <td>14.378500</td>\n      <td>13.991083</td>\n      <td>14.991833</td>\n      <td>14.110583</td>\n      <td>14.647417</td>\n      <td>14.231667</td>\n      <td>14.190917</td>\n      <td>14.268667</td>\n      <td>14.741500</td>\n    </tr>\n    <tr>\n      <th>Sydney</th>\n      <td>17.567417</td>\n      <td>17.854500</td>\n      <td>17.733833</td>\n      <td>17.592333</td>\n      <td>17.869667</td>\n      <td>18.028083</td>\n      <td>17.749500</td>\n      <td>18.020833</td>\n      <td>17.321083</td>\n      <td>18.175833</td>\n      <td>17.999000</td>\n      <td>17.713333</td>\n      <td>17.474333</td>\n      <td>18.089750</td>\n    </tr>\n    <tr>\n      <th>Bangladesh</th>\n      <th>Dhaka</th>\n      <td>25.905250</td>\n      <td>25.931250</td>\n      <td>26.095000</td>\n      <td>25.927417</td>\n      <td>26.136083</td>\n      <td>26.193333</td>\n      <td>26.440417</td>\n      <td>25.951333</td>\n      <td>26.004500</td>\n      <td>26.535583</td>\n      <td>26.648167</td>\n      <td>25.803250</td>\n      <td>26.283583</td>\n      <td>26.587000</td>\n    </tr>\n    <tr>\n      <th>...</th>\n      <th>...</th>\n      <td>...</td>\n      <td>...</td>\n      <td>...</td>\n      <td>...</td>\n      <td>...</td>\n      <td>...</td>\n      <td>...</td>\n      <td>...</td>\n      <td>...</td>\n      <td>...</td>\n      <td>...</td>\n      <td>...</td>\n      <td>...</td>\n      <td>...</td>\n    </tr>\n    <tr>\n      <th rowspan=\"3\" valign=\"top\">United States</th>\n      <th>Chicago</th>\n      <td>11.089667</td>\n      <td>11.703083</td>\n      <td>11.532083</td>\n      <td>10.481583</td>\n      <td>10.943417</td>\n      <td>11.583833</td>\n      <td>11.870500</td>\n      <td>11.448333</td>\n      <td>10.242417</td>\n      <td>10.298333</td>\n      <td>11.815917</td>\n      <td>11.214250</td>\n      <td>12.821250</td>\n      <td>11.586889</td>\n    </tr>\n    <tr>\n      <th>Los Angeles</th>\n      <td>16.643333</td>\n      <td>16.466250</td>\n      <td>16.430250</td>\n      <td>16.944667</td>\n      <td>16.552833</td>\n      <td>16.431417</td>\n      <td>16.623083</td>\n      <td>16.699917</td>\n      <td>17.014750</td>\n      <td>16.677000</td>\n      <td>15.887000</td>\n      <td>15.874833</td>\n      <td>17.089583</td>\n      <td>18.120667</td>\n    </tr>\n    <tr>\n      <th>New York</th>\n      <td>9.969083</td>\n      <td>10.931000</td>\n      <td>11.252167</td>\n      <td>9.836000</td>\n      <td>10.389500</td>\n      <td>10.681417</td>\n      <td>11.519250</td>\n      <td>10.627333</td>\n      <td>10.641667</td>\n      <td>10.141833</td>\n      <td>11.357583</td>\n      <td>11.272250</td>\n      <td>11.971500</td>\n      <td>12.163889</td>\n    </tr>\n    <tr>\n      <th>Vietnam</th>\n      <th>Ho Chi Minh City</th>\n      <td>27.588917</td>\n      <td>27.831750</td>\n      <td>28.064750</td>\n      <td>27.827667</td>\n      <td>27.686583</td>\n      <td>27.884000</td>\n      <td>28.044000</td>\n      <td>27.866667</td>\n      <td>27.611417</td>\n      <td>27.853333</td>\n      <td>28.281750</td>\n      <td>27.675417</td>\n      <td>28.248750</td>\n      <td>28.455000</td>\n    </tr>\n    <tr>\n      <th>Zimbabwe</th>\n      <th>Harare</th>\n      <td>20.283667</td>\n      <td>20.861000</td>\n      <td>21.079333</td>\n      <td>20.889167</td>\n      <td>20.307667</td>\n      <td>21.487417</td>\n      <td>20.699750</td>\n      <td>20.746250</td>\n      <td>20.680500</td>\n      <td>20.523833</td>\n      <td>21.165833</td>\n      <td>20.781750</td>\n      <td>20.523333</td>\n      <td>19.756500</td>\n    </tr>\n  </tbody>\n</table>\n<p>100 rows × 14 columns</p>\n</div>"
     },
     "metadata": {}
    }
   ]
  },
  {
   "cell_type": "markdown",
   "source": "### Subsetting pivot tables",
   "metadata": {
    "formattedRanges": [],
    "cell_id": "368c5551aae2483491b1858abccd6657",
    "tags": [],
    "is_collapsed": false,
    "deepnote_cell_type": "text-cell-h3"
   }
  },
  {
   "cell_type": "code",
   "metadata": {
    "cell_id": "66607955395d4641bf81ac591e5f5a5c",
    "tags": [],
    "deepnote_to_be_reexecuted": false,
    "source_hash": "86369c5f",
    "execution_start": 1654646862584,
    "execution_millis": 261,
    "deepnote_table_state": {
     "pageSize": 10,
     "pageIndex": 0,
     "filters": [],
     "sortBy": []
    },
    "deepnote_table_loading": false,
    "deepnote_cell_type": "code",
    "deepnote_cell_height": 668.390625
   },
   "source": "# Use .loc[] on temp_by_country_city_vs_year to take subsets.\n\n# From Egypt to India\ntemp_by_country_city_vs_year.loc['Egypt':'India']",
   "execution_count": null,
   "outputs": [
    {
     "output_type": "execute_result",
     "execution_count": 25,
     "data": {
      "application/vnd.deepnote.dataframe.v3+json": {
       "column_count": 14,
       "row_count": 20,
       "columns": [
        {
         "name": 2000,
         "dtype": "float64",
         "stats": {
          "unique_count": 17,
          "nan_count": 0,
          "min": "10.963666666666668",
          "max": "28.811666666666664",
          "histogram": [
           {
            "bin_start": 10.963666666666668,
            "bin_end": 12.748466666666667,
            "count": 2
           },
           {
            "bin_start": 12.748466666666667,
            "bin_end": 14.533266666666668,
            "count": 0
           },
           {
            "bin_start": 14.533266666666668,
            "bin_end": 16.318066666666667,
            "count": 0
           },
           {
            "bin_start": 16.318066666666667,
            "bin_end": 18.102866666666667,
            "count": 0
           },
           {
            "bin_start": 18.102866666666667,
            "bin_end": 19.887666666666668,
            "count": 1
           },
           {
            "bin_start": 19.887666666666668,
            "bin_end": 21.672466666666665,
            "count": 3
           },
           {
            "bin_start": 21.672466666666665,
            "bin_end": 23.457266666666666,
            "count": 0
           },
           {
            "bin_start": 23.457266666666666,
            "bin_end": 25.242066666666666,
            "count": 1
           },
           {
            "bin_start": 25.242066666666666,
            "bin_end": 27.026866666666663,
            "count": 8
           },
           {
            "bin_start": 27.026866666666663,
            "bin_end": 28.811666666666664,
            "count": 5
           }
          ]
         }
        },
        {
         "name": 2001,
         "dtype": "float64",
         "stats": {
          "unique_count": 17,
          "nan_count": 0,
          "min": "9.69025",
          "max": "29.162916666666664",
          "histogram": [
           {
            "bin_start": 9.69025,
            "bin_end": 11.637516666666667,
            "count": 2
           },
           {
            "bin_start": 11.637516666666667,
            "bin_end": 13.584783333333334,
            "count": 0
           },
           {
            "bin_start": 13.584783333333334,
            "bin_end": 15.53205,
            "count": 0
           },
           {
            "bin_start": 15.53205,
            "bin_end": 17.479316666666666,
            "count": 0
           },
           {
            "bin_start": 17.479316666666666,
            "bin_end": 19.426583333333333,
            "count": 1
           },
           {
            "bin_start": 19.426583333333333,
            "bin_end": 21.373849999999997,
            "count": 0
           },
           {
            "bin_start": 21.373849999999997,
            "bin_end": 23.321116666666665,
            "count": 3
           },
           {
            "bin_start": 23.321116666666665,
            "bin_end": 25.268383333333333,
            "count": 0
           },
           {
            "bin_start": 25.268383333333333,
            "bin_end": 27.215649999999997,
            "count": 11
           },
           {
            "bin_start": 27.215649999999997,
            "bin_end": 29.162916666666664,
            "count": 3
           }
          ]
         }
        },
        {
         "name": 2002,
         "dtype": "float64",
         "stats": {
          "unique_count": 17,
          "nan_count": 0,
          "min": "10.264416666666667",
          "max": "29.246499999999997",
          "histogram": [
           {
            "bin_start": 10.264416666666667,
            "bin_end": 12.162625,
            "count": 2
           },
           {
            "bin_start": 12.162625,
            "bin_end": 14.060833333333333,
            "count": 0
           },
           {
            "bin_start": 14.060833333333333,
            "bin_end": 15.959041666666666,
            "count": 0
           },
           {
            "bin_start": 15.959041666666666,
            "bin_end": 17.85725,
            "count": 0
           },
           {
            "bin_start": 17.85725,
            "bin_end": 19.75545833333333,
            "count": 1
           },
           {
            "bin_start": 19.75545833333333,
            "bin_end": 21.653666666666666,
            "count": 1
           },
           {
            "bin_start": 21.653666666666666,
            "bin_end": 23.551874999999995,
            "count": 2
           },
           {
            "bin_start": 23.551874999999995,
            "bin_end": 25.450083333333332,
            "count": 0
           },
           {
            "bin_start": 25.450083333333332,
            "bin_end": 27.34829166666666,
            "count": 10
           },
           {
            "bin_start": 27.34829166666666,
            "bin_end": 29.246499999999997,
            "count": 4
           }
          ]
         }
        },
        {
         "name": 2003,
         "dtype": "float64",
         "stats": {
          "unique_count": 17,
          "nan_count": 0,
          "min": "10.06575",
          "max": "29.273083333333332",
          "histogram": [
           {
            "bin_start": 10.06575,
            "bin_end": 11.986483333333332,
            "count": 2
           },
           {
            "bin_start": 11.986483333333332,
            "bin_end": 13.907216666666667,
            "count": 0
           },
           {
            "bin_start": 13.907216666666667,
            "bin_end": 15.82795,
            "count": 0
           },
           {
            "bin_start": 15.82795,
            "bin_end": 17.748683333333332,
            "count": 0
           },
           {
            "bin_start": 17.748683333333332,
            "bin_end": 19.669416666666663,
            "count": 1
           },
           {
            "bin_start": 19.669416666666663,
            "bin_end": 21.59015,
            "count": 1
           },
           {
            "bin_start": 21.59015,
            "bin_end": 23.510883333333332,
            "count": 2
           },
           {
            "bin_start": 23.510883333333332,
            "bin_end": 25.431616666666663,
            "count": 2
           },
           {
            "bin_start": 25.431616666666663,
            "bin_end": 27.35235,
            "count": 8
           },
           {
            "bin_start": 27.35235,
            "bin_end": 29.273083333333332,
            "count": 4
           }
          ]
         }
        },
        {
         "name": 2004,
         "dtype": "float64",
         "stats": {
          "unique_count": 17,
          "nan_count": 0,
          "min": "9.822583333333332",
          "max": "28.81091666666666",
          "histogram": [
           {
            "bin_start": 9.822583333333332,
            "bin_end": 11.721416666666665,
            "count": 2
           },
           {
            "bin_start": 11.721416666666665,
            "bin_end": 13.620249999999999,
            "count": 0
           },
           {
            "bin_start": 13.620249999999999,
            "bin_end": 15.519083333333331,
            "count": 0
           },
           {
            "bin_start": 15.519083333333331,
            "bin_end": 17.417916666666663,
            "count": 0
           },
           {
            "bin_start": 17.417916666666663,
            "bin_end": 19.31675,
            "count": 1
           },
           {
            "bin_start": 19.31675,
            "bin_end": 21.215583333333328,
            "count": 1
           },
           {
            "bin_start": 21.215583333333328,
            "bin_end": 23.114416666666664,
            "count": 2
           },
           {
            "bin_start": 23.114416666666664,
            "bin_end": 25.013249999999996,
            "count": 0
           },
           {
            "bin_start": 25.013249999999996,
            "bin_end": 26.912083333333328,
            "count": 9
           },
           {
            "bin_start": 26.912083333333328,
            "bin_end": 28.81091666666666,
            "count": 5
           }
          ]
         }
        },
        {
         "name": 2005,
         "dtype": "float64",
         "stats": {
          "unique_count": 17,
          "nan_count": 0,
          "min": "9.919083333333335",
          "max": "29.09941666666667",
          "histogram": [
           {
            "bin_start": 9.919083333333335,
            "bin_end": 11.837116666666669,
            "count": 2
           },
           {
            "bin_start": 11.837116666666669,
            "bin_end": 13.755150000000002,
            "count": 0
           },
           {
            "bin_start": 13.755150000000002,
            "bin_end": 15.673183333333336,
            "count": 0
           },
           {
            "bin_start": 15.673183333333336,
            "bin_end": 17.591216666666668,
            "count": 0
           },
           {
            "bin_start": 17.591216666666668,
            "bin_end": 19.50925,
            "count": 1
           },
           {
            "bin_start": 19.50925,
            "bin_end": 21.427283333333335,
            "count": 1
           },
           {
            "bin_start": 21.427283333333335,
            "bin_end": 23.34531666666667,
            "count": 2
           },
           {
            "bin_start": 23.34531666666667,
            "bin_end": 25.263350000000003,
            "count": 1
           },
           {
            "bin_start": 25.263350000000003,
            "bin_end": 27.181383333333336,
            "count": 11
           },
           {
            "bin_start": 27.181383333333336,
            "bin_end": 29.09941666666667,
            "count": 2
           }
          ]
         }
        },
        {
         "name": 2006,
         "dtype": "float64",
         "stats": {
          "unique_count": 17,
          "nan_count": 0,
          "min": "10.545333333333334",
          "max": "29.073250000000005",
          "histogram": [
           {
            "bin_start": 10.545333333333334,
            "bin_end": 12.398125,
            "count": 2
           },
           {
            "bin_start": 12.398125,
            "bin_end": 14.250916666666669,
            "count": 0
           },
           {
            "bin_start": 14.250916666666669,
            "bin_end": 16.103708333333337,
            "count": 0
           },
           {
            "bin_start": 16.103708333333337,
            "bin_end": 17.956500000000002,
            "count": 0
           },
           {
            "bin_start": 17.956500000000002,
            "bin_end": 19.809291666666667,
            "count": 1
           },
           {
            "bin_start": 19.809291666666667,
            "bin_end": 21.662083333333335,
            "count": 1
           },
           {
            "bin_start": 21.662083333333335,
            "bin_end": 23.514875000000004,
            "count": 2
           },
           {
            "bin_start": 23.514875000000004,
            "bin_end": 25.367666666666672,
            "count": 1
           },
           {
            "bin_start": 25.367666666666672,
            "bin_end": 27.22045833333334,
            "count": 9
           },
           {
            "bin_start": 27.22045833333334,
            "bin_end": 29.073250000000005,
            "count": 4
           }
          ]
         }
        },
        {
         "name": 2007,
         "dtype": "float64",
         "stats": {
          "unique_count": 17,
          "nan_count": 0,
          "min": "10.883166666666668",
          "max": "28.970166666666668",
          "histogram": [
           {
            "bin_start": 10.883166666666668,
            "bin_end": 12.691866666666668,
            "count": 2
           },
           {
            "bin_start": 12.691866666666668,
            "bin_end": 14.500566666666668,
            "count": 0
           },
           {
            "bin_start": 14.500566666666668,
            "bin_end": 16.309266666666666,
            "count": 0
           },
           {
            "bin_start": 16.309266666666666,
            "bin_end": 18.117966666666668,
            "count": 0
           },
           {
            "bin_start": 18.117966666666668,
            "bin_end": 19.92666666666667,
            "count": 1
           },
           {
            "bin_start": 19.92666666666667,
            "bin_end": 21.735366666666668,
            "count": 1
           },
           {
            "bin_start": 21.735366666666668,
            "bin_end": 23.544066666666666,
            "count": 2
           },
           {
            "bin_start": 23.544066666666666,
            "bin_end": 25.352766666666668,
            "count": 0
           },
           {
            "bin_start": 25.352766666666668,
            "bin_end": 27.16146666666667,
            "count": 9
           },
           {
            "bin_start": 27.16146666666667,
            "bin_end": 28.970166666666668,
            "count": 5
           }
          ]
         }
        },
        {
         "name": 2008,
         "dtype": "float64",
         "stats": {
          "unique_count": 17,
          "nan_count": 0,
          "min": "10.65775",
          "max": "29.024083333333333",
          "histogram": [
           {
            "bin_start": 10.65775,
            "bin_end": 12.494383333333333,
            "count": 2
           },
           {
            "bin_start": 12.494383333333333,
            "bin_end": 14.331016666666667,
            "count": 0
           },
           {
            "bin_start": 14.331016666666667,
            "bin_end": 16.167650000000002,
            "count": 0
           },
           {
            "bin_start": 16.167650000000002,
            "bin_end": 18.004283333333333,
            "count": 0
           },
           {
            "bin_start": 18.004283333333333,
            "bin_end": 19.840916666666665,
            "count": 1
           },
           {
            "bin_start": 19.840916666666665,
            "bin_end": 21.67755,
            "count": 0
           },
           {
            "bin_start": 21.67755,
            "bin_end": 23.514183333333335,
            "count": 3
           },
           {
            "bin_start": 23.514183333333335,
            "bin_end": 25.350816666666667,
            "count": 3
           },
           {
            "bin_start": 25.350816666666667,
            "bin_end": 27.18745,
            "count": 9
           },
           {
            "bin_start": 27.18745,
            "bin_end": 29.024083333333333,
            "count": 2
           }
          ]
         }
        },
        {
         "name": 2009,
         "dtype": "float64",
         "stats": {
          "unique_count": 17,
          "nan_count": 0,
          "min": "10.0625",
          "max": "29.417416666666668",
          "histogram": [
           {
            "bin_start": 10.0625,
            "bin_end": 11.997991666666667,
            "count": 2
           },
           {
            "bin_start": 11.997991666666667,
            "bin_end": 13.933483333333333,
            "count": 0
           },
           {
            "bin_start": 13.933483333333333,
            "bin_end": 15.868975,
            "count": 0
           },
           {
            "bin_start": 15.868975,
            "bin_end": 17.804466666666666,
            "count": 0
           },
           {
            "bin_start": 17.804466666666666,
            "bin_end": 19.739958333333334,
            "count": 1
           },
           {
            "bin_start": 19.739958333333334,
            "bin_end": 21.67545,
            "count": 1
           },
           {
            "bin_start": 21.67545,
            "bin_end": 23.61094166666667,
            "count": 2
           },
           {
            "bin_start": 23.61094166666667,
            "bin_end": 25.546433333333333,
            "count": 0
           },
           {
            "bin_start": 25.546433333333333,
            "bin_end": 27.481925,
            "count": 9
           },
           {
            "bin_start": 27.481925,
            "bin_end": 29.417416666666668,
            "count": 5
           }
          ]
         }
        },
        {
         "name": 2010,
         "dtype": "float64",
         "stats": {
          "unique_count": 17,
          "nan_count": 0,
          "min": "8.606833333333332",
          "max": "29.04733333333333",
          "histogram": [
           {
            "bin_start": 8.606833333333332,
            "bin_end": 10.650883333333333,
            "count": 2
           },
           {
            "bin_start": 10.650883333333333,
            "bin_end": 12.694933333333331,
            "count": 0
           },
           {
            "bin_start": 12.694933333333331,
            "bin_end": 14.738983333333332,
            "count": 0
           },
           {
            "bin_start": 14.738983333333332,
            "bin_end": 16.783033333333332,
            "count": 0
           },
           {
            "bin_start": 16.783033333333332,
            "bin_end": 18.827083333333334,
            "count": 1
           },
           {
            "bin_start": 18.827083333333334,
            "bin_end": 20.871133333333333,
            "count": 0
           },
           {
            "bin_start": 20.871133333333333,
            "bin_end": 22.91518333333333,
            "count": 1
           },
           {
            "bin_start": 22.91518333333333,
            "bin_end": 24.95923333333333,
            "count": 2
           },
           {
            "bin_start": 24.95923333333333,
            "bin_end": 27.00328333333333,
            "count": 8
           },
           {
            "bin_start": 27.00328333333333,
            "bin_end": 29.04733333333333,
            "count": 6
           }
          ]
         }
        },
        {
         "name": 2011,
         "dtype": "float64",
         "stats": {
          "unique_count": 17,
          "nan_count": 0,
          "min": "10.556416666666665",
          "max": "29.063166666666664",
          "histogram": [
           {
            "bin_start": 10.556416666666665,
            "bin_end": 12.407091666666664,
            "count": 2
           },
           {
            "bin_start": 12.407091666666664,
            "bin_end": 14.257766666666665,
            "count": 0
           },
           {
            "bin_start": 14.257766666666665,
            "bin_end": 16.108441666666664,
            "count": 0
           },
           {
            "bin_start": 16.108441666666664,
            "bin_end": 17.959116666666663,
            "count": 0
           },
           {
            "bin_start": 17.959116666666663,
            "bin_end": 19.809791666666662,
            "count": 1
           },
           {
            "bin_start": 19.809791666666662,
            "bin_end": 21.660466666666665,
            "count": 1
           },
           {
            "bin_start": 21.660466666666665,
            "bin_end": 23.511141666666663,
            "count": 2
           },
           {
            "bin_start": 23.511141666666663,
            "bin_end": 25.361816666666662,
            "count": 3
           },
           {
            "bin_start": 25.361816666666662,
            "bin_end": 27.212491666666665,
            "count": 7
           },
           {
            "bin_start": 27.212491666666665,
            "bin_end": 29.063166666666664,
            "count": 4
           }
          ]
         }
        },
        {
         "name": 2012,
         "dtype": "float64",
         "stats": {
          "unique_count": 17,
          "nan_count": 0,
          "min": "9.964333333333332",
          "max": "29.77841666666666",
          "histogram": [
           {
            "bin_start": 9.964333333333332,
            "bin_end": 11.945741666666665,
            "count": 2
           },
           {
            "bin_start": 11.945741666666665,
            "bin_end": 13.927149999999997,
            "count": 0
           },
           {
            "bin_start": 13.927149999999997,
            "bin_end": 15.908558333333332,
            "count": 0
           },
           {
            "bin_start": 15.908558333333332,
            "bin_end": 17.889966666666666,
            "count": 0
           },
           {
            "bin_start": 17.889966666666666,
            "bin_end": 19.871374999999997,
            "count": 1
           },
           {
            "bin_start": 19.871374999999997,
            "bin_end": 21.85278333333333,
            "count": 1
           },
           {
            "bin_start": 21.85278333333333,
            "bin_end": 23.834191666666662,
            "count": 2
           },
           {
            "bin_start": 23.834191666666662,
            "bin_end": 25.815599999999996,
            "count": 3
           },
           {
            "bin_start": 25.815599999999996,
            "bin_end": 27.79700833333333,
            "count": 9
           },
           {
            "bin_start": 27.79700833333333,
            "bin_end": 29.77841666666666,
            "count": 2
           }
          ]
         }
        },
        {
         "name": 2013,
         "dtype": "float64",
         "stats": {
          "unique_count": 17,
          "nan_count": 0,
          "min": "10.121500000000001",
          "max": "30.41175",
          "histogram": [
           {
            "bin_start": 10.121500000000001,
            "bin_end": 12.150525000000002,
            "count": 2
           },
           {
            "bin_start": 12.150525000000002,
            "bin_end": 14.17955,
            "count": 0
           },
           {
            "bin_start": 14.17955,
            "bin_end": 16.208575,
            "count": 0
           },
           {
            "bin_start": 16.208575,
            "bin_end": 18.2376,
            "count": 0
           },
           {
            "bin_start": 18.2376,
            "bin_end": 20.266625,
            "count": 1
           },
           {
            "bin_start": 20.266625,
            "bin_end": 22.295650000000002,
            "count": 1
           },
           {
            "bin_start": 22.295650000000002,
            "bin_end": 24.324675,
            "count": 2
           },
           {
            "bin_start": 24.324675,
            "bin_end": 26.3537,
            "count": 3
           },
           {
            "bin_start": 26.3537,
            "bin_end": 28.382725,
            "count": 9
           },
           {
            "bin_start": 28.382725,
            "bin_end": 30.41175,
            "count": 2
           }
          ]
         }
        },
        {
         "name": "_deepnote_index_column",
         "dtype": "object"
        }
       ],
       "rows": [
        {
         "2000": 20.744500000000006,
         "2001": 21.454583333333332,
         "2002": 21.456166666666665,
         "2003": 21.221416666666666,
         "2004": 21.064166666666665,
         "2005": 21.082333333333334,
         "2006": 21.14816666666667,
         "2007": 21.50775,
         "2008": 21.739000000000004,
         "2009": 21.6705,
         "2010": 22.45958333333333,
         "2011": 21.1815,
         "2012": 21.55258333333333,
         "2013": 21.4385,
         "_deepnote_index_column": "('Egypt', 'Alexandria')"
        },
        {
         "2000": 21.486166666666666,
         "2001": 22.33083333333333,
         "2002": 22.414083333333334,
         "2003": 22.1705,
         "2004": 22.081916666666668,
         "2005": 22.0065,
         "2006": 22.049999999999997,
         "2007": 22.361,
         "2008": 22.644499999999997,
         "2009": 22.625,
         "2010": 23.71825,
         "2011": 21.986916666666662,
         "2012": 22.484250000000003,
         "2013": 22.907,
         "_deepnote_index_column": "('Egypt', 'Cairo')"
        },
        {
         "2000": 21.486166666666666,
         "2001": 22.33083333333333,
         "2002": 22.414083333333334,
         "2003": 22.1705,
         "2004": 22.081916666666668,
         "2005": 22.0065,
         "2006": 22.049999999999997,
         "2007": 22.361,
         "2008": 22.644499999999997,
         "2009": 22.625,
         "2010": 23.71825,
         "2011": 21.986916666666662,
         "2012": 22.484250000000003,
         "2013": 22.907,
         "_deepnote_index_column": "('Egypt', 'Gizeh')"
        },
        {
         "2000": 18.24125,
         "2001": 18.29641666666667,
         "2002": 18.46975,
         "2003": 18.320916666666665,
         "2004": 18.292749999999998,
         "2005": 18.31283333333333,
         "2006": 18.427083333333332,
         "2007": 18.142583333333334,
         "2008": 18.165,
         "2009": 18.765333333333334,
         "2010": 18.29825,
         "2011": 18.60675,
         "2012": 18.448583333333332,
         "2013": 19.539,
         "_deepnote_index_column": "('Ethiopia', 'Addis Abeba')"
        },
        {
         "2000": 11.739666666666666,
         "2001": 11.371250000000002,
         "2002": 11.871333333333332,
         "2003": 11.9095,
         "2004": 11.338833333333332,
         "2005": 11.552916666666668,
         "2006": 11.788499999999997,
         "2007": 11.750833333333338,
         "2008": 11.278249999999998,
         "2009": 11.464083333333335,
         "2010": 10.409833333333333,
         "2011": 12.325750000000001,
         "2012": 11.219916666666668,
         "2013": 11.011625,
         "_deepnote_index_column": "('France', 'Paris')"
        },
        {
         "2000": 10.963666666666668,
         "2001": 9.69025,
         "2002": 10.264416666666667,
         "2003": 10.06575,
         "2004": 9.822583333333332,
         "2005": 9.919083333333335,
         "2006": 10.545333333333334,
         "2007": 10.883166666666668,
         "2008": 10.65775,
         "2009": 10.0625,
         "2010": 8.606833333333332,
         "2011": 10.556416666666665,
         "2012": 9.964333333333332,
         "2013": 10.121500000000001,
         "_deepnote_index_column": "('Germany', 'Berlin')"
        },
        {
         "2000": 27.436000000000003,
         "2001": 27.198083333333333,
         "2002": 27.719083333333334,
         "2003": 27.403833333333335,
         "2004": 27.62833333333333,
         "2005": 26.828083333333336,
         "2006": 27.282833333333333,
         "2007": 27.511166666666664,
         "2008": 27.0485,
         "2009": 28.095833333333335,
         "2010": 28.017833333333332,
         "2011": 27.29041666666667,
         "2012": 27.027250000000006,
         "2013": 27.608625,
         "_deepnote_index_column": "('India', 'Ahmadabad')"
        },
        {
         "2000": 25.33791666666666,
         "2001": 25.528166666666667,
         "2002": 25.755333333333336,
         "2003": 25.924750000000003,
         "2004": 25.252083333333335,
         "2005": 25.4765,
         "2006": 25.418250000000004,
         "2007": 25.464333333333332,
         "2008": 25.35258333333333,
         "2009": 25.72575,
         "2010": 25.705250000000003,
         "2011": 25.36208333333333,
         "2012": 26.042333333333335,
         "2013": 26.610500000000002,
         "_deepnote_index_column": "('India', 'Bangalore')"
        },
        {
         "2000": 27.203666666666667,
         "2001": 27.243666666666673,
         "2002": 27.628666666666664,
         "2003": 27.578416666666666,
         "2004": 27.318749999999994,
         "2005": 27.035749999999997,
         "2006": 27.3815,
         "2007": 27.63466666666667,
         "2008": 27.177750000000003,
         "2009": 27.8445,
         "2010": 27.765416666666667,
         "2011": 27.38491666666667,
         "2012": 27.19250000000001,
         "2013": 26.713,
         "_deepnote_index_column": "('India', 'Bombay')"
        },
        {
         "2000": 26.491333333333333,
         "2001": 26.51516666666667,
         "2002": 26.70391666666666,
         "2003": 26.561333333333334,
         "2004": 26.63433333333333,
         "2005": 26.729166666666668,
         "2006": 26.986250000000002,
         "2007": 26.58458333333333,
         "2008": 26.522333333333332,
         "2009": 27.15325,
         "2010": 27.28883333333334,
         "2011": 26.406916666666664,
         "2012": 26.935083333333335,
         "2013": 27.36925,
         "_deepnote_index_column": "('India', 'Calcutta')"
        }
       ]
      },
      "text/plain": "year                       2000       2001       2002       2003       2004  \\\ncountry  city                                                                 \nEgypt    Alexandria   20.744500  21.454583  21.456167  21.221417  21.064167   \n         Cairo        21.486167  22.330833  22.414083  22.170500  22.081917   \n         Gizeh        21.486167  22.330833  22.414083  22.170500  22.081917   \nEthiopia Addis Abeba  18.241250  18.296417  18.469750  18.320917  18.292750   \nFrance   Paris        11.739667  11.371250  11.871333  11.909500  11.338833   \nGermany  Berlin       10.963667   9.690250  10.264417  10.065750   9.822583   \nIndia    Ahmadabad    27.436000  27.198083  27.719083  27.403833  27.628333   \n         Bangalore    25.337917  25.528167  25.755333  25.924750  25.252083   \n         Bombay       27.203667  27.243667  27.628667  27.578417  27.318750   \n         Calcutta     26.491333  26.515167  26.703917  26.561333  26.634333   \n         Delhi        26.048333  25.862917  26.634333  25.721083  26.239917   \n         Hyderabad    27.231833  27.555167  27.665167  27.844583  27.228500   \n         Jaipur       26.430250  26.023000  27.031667  26.027417  26.642167   \n         Kanpur       25.353917  25.326500  26.116833  25.409083  25.586500   \n         Lakhnau      25.353917  25.326500  26.116833  25.409083  25.586500   \n         Madras       28.811667  29.162917  29.246500  29.273083  28.810917   \n         Nagpur       26.181417  26.321667  26.753000  26.503833  26.406333   \n         New Delhi    26.048333  25.862917  26.634333  25.721083  26.239917   \n         Pune         25.110917  25.337833  25.583000  25.748417  25.316167   \n         Surat        27.029000  26.897250  27.347750  27.230917  27.290583   \n\nyear                       2005       2006       2007       2008       2009  \\\ncountry  city                                                                 \nEgypt    Alexandria   21.082333  21.148167  21.507750  21.739000  21.670500   \n         Cairo        22.006500  22.050000  22.361000  22.644500  22.625000   \n         Gizeh        22.006500  22.050000  22.361000  22.644500  22.625000   \nEthiopia Addis Abeba  18.312833  18.427083  18.142583  18.165000  18.765333   \nFrance   Paris        11.552917  11.788500  11.750833  11.278250  11.464083   \nGermany  Berlin        9.919083  10.545333  10.883167  10.657750  10.062500   \nIndia    Ahmadabad    26.828083  27.282833  27.511167  27.048500  28.095833   \n         Bangalore    25.476500  25.418250  25.464333  25.352583  25.725750   \n         Bombay       27.035750  27.381500  27.634667  27.177750  27.844500   \n         Calcutta     26.729167  26.986250  26.584583  26.522333  27.153250   \n         Delhi        25.716083  26.365917  26.145667  25.675000  26.554250   \n         Hyderabad    27.488833  27.471000  27.545333  27.446667  28.026500   \n         Jaipur       25.772250  26.429833  26.267000  25.877583  26.919500   \n         Kanpur       25.621500  25.848833  25.436083  25.109750  25.987083   \n         Lakhnau      25.621500  25.848833  25.436083  25.109750  25.987083   \n         Madras       29.099417  29.073250  28.970167  29.024083  29.417417   \n         Nagpur       26.229167  26.374833  26.393667  26.188000  27.138917   \n         New Delhi    25.716083  26.365917  26.145667  25.675000  26.554250   \n         Pune         25.085583  25.310167  25.584833  25.230250  25.868250   \n         Surat        26.724500  27.149417  27.311750  26.828750  27.819833   \n\nyear                       2010       2011       2012       2013  \ncountry  city                                                     \nEgypt    Alexandria   22.459583  21.181500  21.552583  21.438500  \n         Cairo        23.718250  21.986917  22.484250  22.907000  \n         Gizeh        23.718250  21.986917  22.484250  22.907000  \nEthiopia Addis Abeba  18.298250  18.606750  18.448583  19.539000  \nFrance   Paris        10.409833  12.325750  11.219917  11.011625  \nGermany  Berlin        8.606833  10.556417   9.964333  10.121500  \nIndia    Ahmadabad    28.017833  27.290417  27.027250  27.608625  \n         Bangalore    25.705250  25.362083  26.042333  26.610500  \n         Bombay       27.765417  27.384917  27.192500  26.713000  \n         Calcutta     27.288833  26.406917  26.935083  27.369250  \n         Delhi        26.520250  25.629500  25.889417  26.709250  \n         Hyderabad    27.693417  27.408833  28.018583  28.851250  \n         Jaipur       26.818417  25.916500  25.884500  26.844125  \n         Kanpur       26.021750  25.062083  25.445417  26.121250  \n         Lakhnau      26.021750  25.062083  25.445417  26.121250  \n         Madras       29.047333  29.063167  29.778417  30.411750  \n         Nagpur       26.927000  26.004667  26.327917  27.112375  \n         New Delhi    26.520250  25.629500  25.889417  26.709250  \n         Pune         25.749167  25.161417  25.296833  25.847625  \n         Surat        27.681667  27.016583  26.889250  27.437750  ",
      "text/html": "<div>\n<style scoped>\n    .dataframe tbody tr th:only-of-type {\n        vertical-align: middle;\n    }\n\n    .dataframe tbody tr th {\n        vertical-align: top;\n    }\n\n    .dataframe thead th {\n        text-align: right;\n    }\n</style>\n<table border=\"1\" class=\"dataframe\">\n  <thead>\n    <tr style=\"text-align: right;\">\n      <th></th>\n      <th>year</th>\n      <th>2000</th>\n      <th>2001</th>\n      <th>2002</th>\n      <th>2003</th>\n      <th>2004</th>\n      <th>2005</th>\n      <th>2006</th>\n      <th>2007</th>\n      <th>2008</th>\n      <th>2009</th>\n      <th>2010</th>\n      <th>2011</th>\n      <th>2012</th>\n      <th>2013</th>\n    </tr>\n    <tr>\n      <th>country</th>\n      <th>city</th>\n      <th></th>\n      <th></th>\n      <th></th>\n      <th></th>\n      <th></th>\n      <th></th>\n      <th></th>\n      <th></th>\n      <th></th>\n      <th></th>\n      <th></th>\n      <th></th>\n      <th></th>\n      <th></th>\n    </tr>\n  </thead>\n  <tbody>\n    <tr>\n      <th rowspan=\"3\" valign=\"top\">Egypt</th>\n      <th>Alexandria</th>\n      <td>20.744500</td>\n      <td>21.454583</td>\n      <td>21.456167</td>\n      <td>21.221417</td>\n      <td>21.064167</td>\n      <td>21.082333</td>\n      <td>21.148167</td>\n      <td>21.507750</td>\n      <td>21.739000</td>\n      <td>21.670500</td>\n      <td>22.459583</td>\n      <td>21.181500</td>\n      <td>21.552583</td>\n      <td>21.438500</td>\n    </tr>\n    <tr>\n      <th>Cairo</th>\n      <td>21.486167</td>\n      <td>22.330833</td>\n      <td>22.414083</td>\n      <td>22.170500</td>\n      <td>22.081917</td>\n      <td>22.006500</td>\n      <td>22.050000</td>\n      <td>22.361000</td>\n      <td>22.644500</td>\n      <td>22.625000</td>\n      <td>23.718250</td>\n      <td>21.986917</td>\n      <td>22.484250</td>\n      <td>22.907000</td>\n    </tr>\n    <tr>\n      <th>Gizeh</th>\n      <td>21.486167</td>\n      <td>22.330833</td>\n      <td>22.414083</td>\n      <td>22.170500</td>\n      <td>22.081917</td>\n      <td>22.006500</td>\n      <td>22.050000</td>\n      <td>22.361000</td>\n      <td>22.644500</td>\n      <td>22.625000</td>\n      <td>23.718250</td>\n      <td>21.986917</td>\n      <td>22.484250</td>\n      <td>22.907000</td>\n    </tr>\n    <tr>\n      <th>Ethiopia</th>\n      <th>Addis Abeba</th>\n      <td>18.241250</td>\n      <td>18.296417</td>\n      <td>18.469750</td>\n      <td>18.320917</td>\n      <td>18.292750</td>\n      <td>18.312833</td>\n      <td>18.427083</td>\n      <td>18.142583</td>\n      <td>18.165000</td>\n      <td>18.765333</td>\n      <td>18.298250</td>\n      <td>18.606750</td>\n      <td>18.448583</td>\n      <td>19.539000</td>\n    </tr>\n    <tr>\n      <th>France</th>\n      <th>Paris</th>\n      <td>11.739667</td>\n      <td>11.371250</td>\n      <td>11.871333</td>\n      <td>11.909500</td>\n      <td>11.338833</td>\n      <td>11.552917</td>\n      <td>11.788500</td>\n      <td>11.750833</td>\n      <td>11.278250</td>\n      <td>11.464083</td>\n      <td>10.409833</td>\n      <td>12.325750</td>\n      <td>11.219917</td>\n      <td>11.011625</td>\n    </tr>\n    <tr>\n      <th>Germany</th>\n      <th>Berlin</th>\n      <td>10.963667</td>\n      <td>9.690250</td>\n      <td>10.264417</td>\n      <td>10.065750</td>\n      <td>9.822583</td>\n      <td>9.919083</td>\n      <td>10.545333</td>\n      <td>10.883167</td>\n      <td>10.657750</td>\n      <td>10.062500</td>\n      <td>8.606833</td>\n      <td>10.556417</td>\n      <td>9.964333</td>\n      <td>10.121500</td>\n    </tr>\n    <tr>\n      <th rowspan=\"14\" valign=\"top\">India</th>\n      <th>Ahmadabad</th>\n      <td>27.436000</td>\n      <td>27.198083</td>\n      <td>27.719083</td>\n      <td>27.403833</td>\n      <td>27.628333</td>\n      <td>26.828083</td>\n      <td>27.282833</td>\n      <td>27.511167</td>\n      <td>27.048500</td>\n      <td>28.095833</td>\n      <td>28.017833</td>\n      <td>27.290417</td>\n      <td>27.027250</td>\n      <td>27.608625</td>\n    </tr>\n    <tr>\n      <th>Bangalore</th>\n      <td>25.337917</td>\n      <td>25.528167</td>\n      <td>25.755333</td>\n      <td>25.924750</td>\n      <td>25.252083</td>\n      <td>25.476500</td>\n      <td>25.418250</td>\n      <td>25.464333</td>\n      <td>25.352583</td>\n      <td>25.725750</td>\n      <td>25.705250</td>\n      <td>25.362083</td>\n      <td>26.042333</td>\n      <td>26.610500</td>\n    </tr>\n    <tr>\n      <th>Bombay</th>\n      <td>27.203667</td>\n      <td>27.243667</td>\n      <td>27.628667</td>\n      <td>27.578417</td>\n      <td>27.318750</td>\n      <td>27.035750</td>\n      <td>27.381500</td>\n      <td>27.634667</td>\n      <td>27.177750</td>\n      <td>27.844500</td>\n      <td>27.765417</td>\n      <td>27.384917</td>\n      <td>27.192500</td>\n      <td>26.713000</td>\n    </tr>\n    <tr>\n      <th>Calcutta</th>\n      <td>26.491333</td>\n      <td>26.515167</td>\n      <td>26.703917</td>\n      <td>26.561333</td>\n      <td>26.634333</td>\n      <td>26.729167</td>\n      <td>26.986250</td>\n      <td>26.584583</td>\n      <td>26.522333</td>\n      <td>27.153250</td>\n      <td>27.288833</td>\n      <td>26.406917</td>\n      <td>26.935083</td>\n      <td>27.369250</td>\n    </tr>\n    <tr>\n      <th>Delhi</th>\n      <td>26.048333</td>\n      <td>25.862917</td>\n      <td>26.634333</td>\n      <td>25.721083</td>\n      <td>26.239917</td>\n      <td>25.716083</td>\n      <td>26.365917</td>\n      <td>26.145667</td>\n      <td>25.675000</td>\n      <td>26.554250</td>\n      <td>26.520250</td>\n      <td>25.629500</td>\n      <td>25.889417</td>\n      <td>26.709250</td>\n    </tr>\n    <tr>\n      <th>Hyderabad</th>\n      <td>27.231833</td>\n      <td>27.555167</td>\n      <td>27.665167</td>\n      <td>27.844583</td>\n      <td>27.228500</td>\n      <td>27.488833</td>\n      <td>27.471000</td>\n      <td>27.545333</td>\n      <td>27.446667</td>\n      <td>28.026500</td>\n      <td>27.693417</td>\n      <td>27.408833</td>\n      <td>28.018583</td>\n      <td>28.851250</td>\n    </tr>\n    <tr>\n      <th>Jaipur</th>\n      <td>26.430250</td>\n      <td>26.023000</td>\n      <td>27.031667</td>\n      <td>26.027417</td>\n      <td>26.642167</td>\n      <td>25.772250</td>\n      <td>26.429833</td>\n      <td>26.267000</td>\n      <td>25.877583</td>\n      <td>26.919500</td>\n      <td>26.818417</td>\n      <td>25.916500</td>\n      <td>25.884500</td>\n      <td>26.844125</td>\n    </tr>\n    <tr>\n      <th>Kanpur</th>\n      <td>25.353917</td>\n      <td>25.326500</td>\n      <td>26.116833</td>\n      <td>25.409083</td>\n      <td>25.586500</td>\n      <td>25.621500</td>\n      <td>25.848833</td>\n      <td>25.436083</td>\n      <td>25.109750</td>\n      <td>25.987083</td>\n      <td>26.021750</td>\n      <td>25.062083</td>\n      <td>25.445417</td>\n      <td>26.121250</td>\n    </tr>\n    <tr>\n      <th>Lakhnau</th>\n      <td>25.353917</td>\n      <td>25.326500</td>\n      <td>26.116833</td>\n      <td>25.409083</td>\n      <td>25.586500</td>\n      <td>25.621500</td>\n      <td>25.848833</td>\n      <td>25.436083</td>\n      <td>25.109750</td>\n      <td>25.987083</td>\n      <td>26.021750</td>\n      <td>25.062083</td>\n      <td>25.445417</td>\n      <td>26.121250</td>\n    </tr>\n    <tr>\n      <th>Madras</th>\n      <td>28.811667</td>\n      <td>29.162917</td>\n      <td>29.246500</td>\n      <td>29.273083</td>\n      <td>28.810917</td>\n      <td>29.099417</td>\n      <td>29.073250</td>\n      <td>28.970167</td>\n      <td>29.024083</td>\n      <td>29.417417</td>\n      <td>29.047333</td>\n      <td>29.063167</td>\n      <td>29.778417</td>\n      <td>30.411750</td>\n    </tr>\n    <tr>\n      <th>Nagpur</th>\n      <td>26.181417</td>\n      <td>26.321667</td>\n      <td>26.753000</td>\n      <td>26.503833</td>\n      <td>26.406333</td>\n      <td>26.229167</td>\n      <td>26.374833</td>\n      <td>26.393667</td>\n      <td>26.188000</td>\n      <td>27.138917</td>\n      <td>26.927000</td>\n      <td>26.004667</td>\n      <td>26.327917</td>\n      <td>27.112375</td>\n    </tr>\n    <tr>\n      <th>New Delhi</th>\n      <td>26.048333</td>\n      <td>25.862917</td>\n      <td>26.634333</td>\n      <td>25.721083</td>\n      <td>26.239917</td>\n      <td>25.716083</td>\n      <td>26.365917</td>\n      <td>26.145667</td>\n      <td>25.675000</td>\n      <td>26.554250</td>\n      <td>26.520250</td>\n      <td>25.629500</td>\n      <td>25.889417</td>\n      <td>26.709250</td>\n    </tr>\n    <tr>\n      <th>Pune</th>\n      <td>25.110917</td>\n      <td>25.337833</td>\n      <td>25.583000</td>\n      <td>25.748417</td>\n      <td>25.316167</td>\n      <td>25.085583</td>\n      <td>25.310167</td>\n      <td>25.584833</td>\n      <td>25.230250</td>\n      <td>25.868250</td>\n      <td>25.749167</td>\n      <td>25.161417</td>\n      <td>25.296833</td>\n      <td>25.847625</td>\n    </tr>\n    <tr>\n      <th>Surat</th>\n      <td>27.029000</td>\n      <td>26.897250</td>\n      <td>27.347750</td>\n      <td>27.230917</td>\n      <td>27.290583</td>\n      <td>26.724500</td>\n      <td>27.149417</td>\n      <td>27.311750</td>\n      <td>26.828750</td>\n      <td>27.819833</td>\n      <td>27.681667</td>\n      <td>27.016583</td>\n      <td>26.889250</td>\n      <td>27.437750</td>\n    </tr>\n  </tbody>\n</table>\n</div>"
     },
     "metadata": {}
    }
   ]
  },
  {
   "cell_type": "code",
   "metadata": {
    "cell_id": "901c661318b54542a19ae8b1d2ab7790",
    "tags": [],
    "deepnote_to_be_reexecuted": false,
    "source_hash": "c1978f55",
    "execution_start": 1654647004188,
    "execution_millis": 151,
    "deepnote_cell_type": "code",
    "deepnote_cell_height": 632.390625
   },
   "source": "# From Egypt, Cairo to India, Delhi\ntemp_by_country_city_vs_year.loc[('Egypt', 'Cairo'):('India', 'Delhi')]",
   "execution_count": null,
   "outputs": [
    {
     "output_type": "execute_result",
     "execution_count": 24,
     "data": {
      "application/vnd.deepnote.dataframe.v3+json": {
       "column_count": 14,
       "row_count": 10,
       "columns": [
        {
         "name": 2000,
         "dtype": "float64",
         "stats": {
          "unique_count": 9,
          "nan_count": 0,
          "min": "10.963666666666668",
          "max": "27.436000000000003",
          "histogram": [
           {
            "bin_start": 10.963666666666668,
            "bin_end": 12.610900000000003,
            "count": 2
           },
           {
            "bin_start": 12.610900000000003,
            "bin_end": 14.258133333333335,
            "count": 0
           },
           {
            "bin_start": 14.258133333333335,
            "bin_end": 15.90536666666667,
            "count": 0
           },
           {
            "bin_start": 15.90536666666667,
            "bin_end": 17.5526,
            "count": 0
           },
           {
            "bin_start": 17.5526,
            "bin_end": 19.199833333333338,
            "count": 1
           },
           {
            "bin_start": 19.199833333333338,
            "bin_end": 20.84706666666667,
            "count": 0
           },
           {
            "bin_start": 20.84706666666667,
            "bin_end": 22.494300000000003,
            "count": 2
           },
           {
            "bin_start": 22.494300000000003,
            "bin_end": 24.141533333333335,
            "count": 0
           },
           {
            "bin_start": 24.141533333333335,
            "bin_end": 25.78876666666667,
            "count": 1
           },
           {
            "bin_start": 25.78876666666667,
            "bin_end": 27.436000000000003,
            "count": 4
           }
          ]
         }
        },
        {
         "name": 2001,
         "dtype": "float64",
         "stats": {
          "unique_count": 9,
          "nan_count": 0,
          "min": "9.69025",
          "max": "27.243666666666673",
          "histogram": [
           {
            "bin_start": 9.69025,
            "bin_end": 11.445591666666667,
            "count": 2
           },
           {
            "bin_start": 11.445591666666667,
            "bin_end": 13.200933333333335,
            "count": 0
           },
           {
            "bin_start": 13.200933333333335,
            "bin_end": 14.956275000000002,
            "count": 0
           },
           {
            "bin_start": 14.956275000000002,
            "bin_end": 16.711616666666668,
            "count": 0
           },
           {
            "bin_start": 16.711616666666668,
            "bin_end": 18.466958333333338,
            "count": 1
           },
           {
            "bin_start": 18.466958333333338,
            "bin_end": 20.222300000000004,
            "count": 0
           },
           {
            "bin_start": 20.222300000000004,
            "bin_end": 21.97764166666667,
            "count": 0
           },
           {
            "bin_start": 21.97764166666667,
            "bin_end": 23.732983333333337,
            "count": 2
           },
           {
            "bin_start": 23.732983333333337,
            "bin_end": 25.488325000000003,
            "count": 0
           },
           {
            "bin_start": 25.488325000000003,
            "bin_end": 27.243666666666673,
            "count": 5
           }
          ]
         }
        },
        {
         "name": 2002,
         "dtype": "float64",
         "stats": {
          "unique_count": 9,
          "nan_count": 0,
          "min": "10.264416666666667",
          "max": "27.719083333333334",
          "histogram": [
           {
            "bin_start": 10.264416666666667,
            "bin_end": 12.009883333333335,
            "count": 2
           },
           {
            "bin_start": 12.009883333333335,
            "bin_end": 13.75535,
            "count": 0
           },
           {
            "bin_start": 13.75535,
            "bin_end": 15.500816666666667,
            "count": 0
           },
           {
            "bin_start": 15.500816666666667,
            "bin_end": 17.246283333333334,
            "count": 0
           },
           {
            "bin_start": 17.246283333333334,
            "bin_end": 18.991750000000003,
            "count": 1
           },
           {
            "bin_start": 18.991750000000003,
            "bin_end": 20.73721666666667,
            "count": 0
           },
           {
            "bin_start": 20.73721666666667,
            "bin_end": 22.482683333333334,
            "count": 2
           },
           {
            "bin_start": 22.482683333333334,
            "bin_end": 24.22815,
            "count": 0
           },
           {
            "bin_start": 24.22815,
            "bin_end": 25.97361666666667,
            "count": 1
           },
           {
            "bin_start": 25.97361666666667,
            "bin_end": 27.719083333333334,
            "count": 4
           }
          ]
         }
        },
        {
         "name": 2003,
         "dtype": "float64",
         "stats": {
          "unique_count": 9,
          "nan_count": 0,
          "min": "10.06575",
          "max": "27.578416666666666",
          "histogram": [
           {
            "bin_start": 10.06575,
            "bin_end": 11.817016666666666,
            "count": 1
           },
           {
            "bin_start": 11.817016666666666,
            "bin_end": 13.568283333333333,
            "count": 1
           },
           {
            "bin_start": 13.568283333333333,
            "bin_end": 15.31955,
            "count": 0
           },
           {
            "bin_start": 15.31955,
            "bin_end": 17.070816666666666,
            "count": 0
           },
           {
            "bin_start": 17.070816666666666,
            "bin_end": 18.82208333333333,
            "count": 1
           },
           {
            "bin_start": 18.82208333333333,
            "bin_end": 20.573349999999998,
            "count": 0
           },
           {
            "bin_start": 20.573349999999998,
            "bin_end": 22.324616666666667,
            "count": 2
           },
           {
            "bin_start": 22.324616666666667,
            "bin_end": 24.075883333333334,
            "count": 0
           },
           {
            "bin_start": 24.075883333333334,
            "bin_end": 25.82715,
            "count": 1
           },
           {
            "bin_start": 25.82715,
            "bin_end": 27.578416666666666,
            "count": 4
           }
          ]
         }
        },
        {
         "name": 2004,
         "dtype": "float64",
         "stats": {
          "unique_count": 9,
          "nan_count": 0,
          "min": "9.822583333333332",
          "max": "27.62833333333333",
          "histogram": [
           {
            "bin_start": 9.822583333333332,
            "bin_end": 11.603158333333331,
            "count": 2
           },
           {
            "bin_start": 11.603158333333331,
            "bin_end": 13.383733333333332,
            "count": 0
           },
           {
            "bin_start": 13.383733333333332,
            "bin_end": 15.16430833333333,
            "count": 0
           },
           {
            "bin_start": 15.16430833333333,
            "bin_end": 16.94488333333333,
            "count": 0
           },
           {
            "bin_start": 16.94488333333333,
            "bin_end": 18.72545833333333,
            "count": 1
           },
           {
            "bin_start": 18.72545833333333,
            "bin_end": 20.506033333333328,
            "count": 0
           },
           {
            "bin_start": 20.506033333333328,
            "bin_end": 22.28660833333333,
            "count": 2
           },
           {
            "bin_start": 22.28660833333333,
            "bin_end": 24.06718333333333,
            "count": 0
           },
           {
            "bin_start": 24.06718333333333,
            "bin_end": 25.84775833333333,
            "count": 1
           },
           {
            "bin_start": 25.84775833333333,
            "bin_end": 27.62833333333333,
            "count": 4
           }
          ]
         }
        },
        {
         "name": 2005,
         "dtype": "float64",
         "stats": {
          "unique_count": 9,
          "nan_count": 0,
          "min": "9.919083333333335",
          "max": "27.035749999999997",
          "histogram": [
           {
            "bin_start": 9.919083333333335,
            "bin_end": 11.63075,
            "count": 2
           },
           {
            "bin_start": 11.63075,
            "bin_end": 13.342416666666667,
            "count": 0
           },
           {
            "bin_start": 13.342416666666667,
            "bin_end": 15.054083333333333,
            "count": 0
           },
           {
            "bin_start": 15.054083333333333,
            "bin_end": 16.765749999999997,
            "count": 0
           },
           {
            "bin_start": 16.765749999999997,
            "bin_end": 18.477416666666663,
            "count": 1
           },
           {
            "bin_start": 18.477416666666663,
            "bin_end": 20.18908333333333,
            "count": 0
           },
           {
            "bin_start": 20.18908333333333,
            "bin_end": 21.900749999999995,
            "count": 0
           },
           {
            "bin_start": 21.900749999999995,
            "bin_end": 23.61241666666666,
            "count": 2
           },
           {
            "bin_start": 23.61241666666666,
            "bin_end": 25.324083333333327,
            "count": 0
           },
           {
            "bin_start": 25.324083333333327,
            "bin_end": 27.035749999999997,
            "count": 5
           }
          ]
         }
        },
        {
         "name": 2006,
         "dtype": "float64",
         "stats": {
          "unique_count": 9,
          "nan_count": 0,
          "min": "10.545333333333334",
          "max": "27.3815",
          "histogram": [
           {
            "bin_start": 10.545333333333334,
            "bin_end": 12.22895,
            "count": 2
           },
           {
            "bin_start": 12.22895,
            "bin_end": 13.912566666666667,
            "count": 0
           },
           {
            "bin_start": 13.912566666666667,
            "bin_end": 15.596183333333332,
            "count": 0
           },
           {
            "bin_start": 15.596183333333332,
            "bin_end": 17.279799999999998,
            "count": 0
           },
           {
            "bin_start": 17.279799999999998,
            "bin_end": 18.963416666666667,
            "count": 1
           },
           {
            "bin_start": 18.963416666666667,
            "bin_end": 20.647033333333333,
            "count": 0
           },
           {
            "bin_start": 20.647033333333333,
            "bin_end": 22.33065,
            "count": 2
           },
           {
            "bin_start": 22.33065,
            "bin_end": 24.014266666666664,
            "count": 0
           },
           {
            "bin_start": 24.014266666666664,
            "bin_end": 25.69788333333333,
            "count": 1
           },
           {
            "bin_start": 25.69788333333333,
            "bin_end": 27.3815,
            "count": 4
           }
          ]
         }
        },
        {
         "name": 2007,
         "dtype": "float64",
         "stats": {
          "unique_count": 9,
          "nan_count": 0,
          "min": "10.883166666666668",
          "max": "27.63466666666667",
          "histogram": [
           {
            "bin_start": 10.883166666666668,
            "bin_end": 12.558316666666668,
            "count": 2
           },
           {
            "bin_start": 12.558316666666668,
            "bin_end": 14.233466666666668,
            "count": 0
           },
           {
            "bin_start": 14.233466666666668,
            "bin_end": 15.908616666666669,
            "count": 0
           },
           {
            "bin_start": 15.908616666666669,
            "bin_end": 17.58376666666667,
            "count": 0
           },
           {
            "bin_start": 17.58376666666667,
            "bin_end": 19.25891666666667,
            "count": 1
           },
           {
            "bin_start": 19.25891666666667,
            "bin_end": 20.93406666666667,
            "count": 0
           },
           {
            "bin_start": 20.93406666666667,
            "bin_end": 22.60921666666667,
            "count": 2
           },
           {
            "bin_start": 22.60921666666667,
            "bin_end": 24.28436666666667,
            "count": 0
           },
           {
            "bin_start": 24.28436666666667,
            "bin_end": 25.959516666666673,
            "count": 1
           },
           {
            "bin_start": 25.959516666666673,
            "bin_end": 27.63466666666667,
            "count": 4
           }
          ]
         }
        },
        {
         "name": 2008,
         "dtype": "float64",
         "stats": {
          "unique_count": 9,
          "nan_count": 0,
          "min": "10.65775",
          "max": "27.177750000000003",
          "histogram": [
           {
            "bin_start": 10.65775,
            "bin_end": 12.309750000000001,
            "count": 2
           },
           {
            "bin_start": 12.309750000000001,
            "bin_end": 13.96175,
            "count": 0
           },
           {
            "bin_start": 13.96175,
            "bin_end": 15.613750000000001,
            "count": 0
           },
           {
            "bin_start": 15.613750000000001,
            "bin_end": 17.26575,
            "count": 0
           },
           {
            "bin_start": 17.26575,
            "bin_end": 18.91775,
            "count": 1
           },
           {
            "bin_start": 18.91775,
            "bin_end": 20.569750000000003,
            "count": 0
           },
           {
            "bin_start": 20.569750000000003,
            "bin_end": 22.22175,
            "count": 0
           },
           {
            "bin_start": 22.22175,
            "bin_end": 23.87375,
            "count": 2
           },
           {
            "bin_start": 23.87375,
            "bin_end": 25.525750000000002,
            "count": 1
           },
           {
            "bin_start": 25.525750000000002,
            "bin_end": 27.177750000000003,
            "count": 4
           }
          ]
         }
        },
        {
         "name": 2009,
         "dtype": "float64",
         "stats": {
          "unique_count": 9,
          "nan_count": 0,
          "min": "10.0625",
          "max": "28.095833333333335",
          "histogram": [
           {
            "bin_start": 10.0625,
            "bin_end": 11.865833333333333,
            "count": 2
           },
           {
            "bin_start": 11.865833333333333,
            "bin_end": 13.669166666666667,
            "count": 0
           },
           {
            "bin_start": 13.669166666666667,
            "bin_end": 15.4725,
            "count": 0
           },
           {
            "bin_start": 15.4725,
            "bin_end": 17.275833333333335,
            "count": 0
           },
           {
            "bin_start": 17.275833333333335,
            "bin_end": 19.079166666666666,
            "count": 1
           },
           {
            "bin_start": 19.079166666666666,
            "bin_end": 20.8825,
            "count": 0
           },
           {
            "bin_start": 20.8825,
            "bin_end": 22.685833333333335,
            "count": 2
           },
           {
            "bin_start": 22.685833333333335,
            "bin_end": 24.48916666666667,
            "count": 0
           },
           {
            "bin_start": 24.48916666666667,
            "bin_end": 26.2925,
            "count": 1
           },
           {
            "bin_start": 26.2925,
            "bin_end": 28.095833333333335,
            "count": 4
           }
          ]
         }
        },
        {
         "name": 2010,
         "dtype": "float64",
         "stats": {
          "unique_count": 9,
          "nan_count": 0,
          "min": "8.606833333333332",
          "max": "28.017833333333332",
          "histogram": [
           {
            "bin_start": 8.606833333333332,
            "bin_end": 10.547933333333333,
            "count": 2
           },
           {
            "bin_start": 10.547933333333333,
            "bin_end": 12.489033333333332,
            "count": 0
           },
           {
            "bin_start": 12.489033333333332,
            "bin_end": 14.430133333333332,
            "count": 0
           },
           {
            "bin_start": 14.430133333333332,
            "bin_end": 16.371233333333333,
            "count": 0
           },
           {
            "bin_start": 16.371233333333333,
            "bin_end": 18.312333333333335,
            "count": 1
           },
           {
            "bin_start": 18.312333333333335,
            "bin_end": 20.253433333333334,
            "count": 0
           },
           {
            "bin_start": 20.253433333333334,
            "bin_end": 22.194533333333332,
            "count": 0
           },
           {
            "bin_start": 22.194533333333332,
            "bin_end": 24.13563333333333,
            "count": 2
           },
           {
            "bin_start": 24.13563333333333,
            "bin_end": 26.07673333333333,
            "count": 1
           },
           {
            "bin_start": 26.07673333333333,
            "bin_end": 28.017833333333332,
            "count": 4
           }
          ]
         }
        },
        {
         "name": 2011,
         "dtype": "float64",
         "stats": {
          "unique_count": 9,
          "nan_count": 0,
          "min": "10.556416666666665",
          "max": "27.38491666666667",
          "histogram": [
           {
            "bin_start": 10.556416666666665,
            "bin_end": 12.239266666666666,
            "count": 1
           },
           {
            "bin_start": 12.239266666666666,
            "bin_end": 13.922116666666668,
            "count": 1
           },
           {
            "bin_start": 13.922116666666668,
            "bin_end": 15.604966666666668,
            "count": 0
           },
           {
            "bin_start": 15.604966666666668,
            "bin_end": 17.287816666666668,
            "count": 0
           },
           {
            "bin_start": 17.287816666666668,
            "bin_end": 18.970666666666666,
            "count": 1
           },
           {
            "bin_start": 18.970666666666666,
            "bin_end": 20.65351666666667,
            "count": 0
           },
           {
            "bin_start": 20.65351666666667,
            "bin_end": 22.33636666666667,
            "count": 2
           },
           {
            "bin_start": 22.33636666666667,
            "bin_end": 24.019216666666672,
            "count": 0
           },
           {
            "bin_start": 24.019216666666672,
            "bin_end": 25.70206666666667,
            "count": 2
           },
           {
            "bin_start": 25.70206666666667,
            "bin_end": 27.38491666666667,
            "count": 3
           }
          ]
         }
        },
        {
         "name": 2012,
         "dtype": "float64",
         "stats": {
          "unique_count": 9,
          "nan_count": 0,
          "min": "9.964333333333332",
          "max": "27.19250000000001",
          "histogram": [
           {
            "bin_start": 9.964333333333332,
            "bin_end": 11.68715,
            "count": 2
           },
           {
            "bin_start": 11.68715,
            "bin_end": 13.409966666666667,
            "count": 0
           },
           {
            "bin_start": 13.409966666666667,
            "bin_end": 15.132783333333336,
            "count": 0
           },
           {
            "bin_start": 15.132783333333336,
            "bin_end": 16.855600000000003,
            "count": 0
           },
           {
            "bin_start": 16.855600000000003,
            "bin_end": 18.57841666666667,
            "count": 1
           },
           {
            "bin_start": 18.57841666666667,
            "bin_end": 20.30123333333334,
            "count": 0
           },
           {
            "bin_start": 20.30123333333334,
            "bin_end": 22.024050000000006,
            "count": 0
           },
           {
            "bin_start": 22.024050000000006,
            "bin_end": 23.746866666666676,
            "count": 2
           },
           {
            "bin_start": 23.746866666666676,
            "bin_end": 25.469683333333343,
            "count": 0
           },
           {
            "bin_start": 25.469683333333343,
            "bin_end": 27.19250000000001,
            "count": 5
           }
          ]
         }
        },
        {
         "name": 2013,
         "dtype": "float64",
         "stats": {
          "unique_count": 9,
          "nan_count": 0,
          "min": "10.121500000000001",
          "max": "27.608625",
          "histogram": [
           {
            "bin_start": 10.121500000000001,
            "bin_end": 11.870212500000001,
            "count": 2
           },
           {
            "bin_start": 11.870212500000001,
            "bin_end": 13.618925,
            "count": 0
           },
           {
            "bin_start": 13.618925,
            "bin_end": 15.3676375,
            "count": 0
           },
           {
            "bin_start": 15.3676375,
            "bin_end": 17.11635,
            "count": 0
           },
           {
            "bin_start": 17.11635,
            "bin_end": 18.8650625,
            "count": 0
           },
           {
            "bin_start": 18.8650625,
            "bin_end": 20.613775,
            "count": 1
           },
           {
            "bin_start": 20.613775,
            "bin_end": 22.3624875,
            "count": 0
           },
           {
            "bin_start": 22.3624875,
            "bin_end": 24.1112,
            "count": 2
           },
           {
            "bin_start": 24.1112,
            "bin_end": 25.8599125,
            "count": 0
           },
           {
            "bin_start": 25.8599125,
            "bin_end": 27.608625,
            "count": 5
           }
          ]
         }
        },
        {
         "name": "_deepnote_index_column",
         "dtype": "object"
        }
       ],
       "rows": [
        {
         "2000": 21.486166666666666,
         "2001": 22.33083333333333,
         "2002": 22.414083333333334,
         "2003": 22.1705,
         "2004": 22.081916666666668,
         "2005": 22.0065,
         "2006": 22.049999999999997,
         "2007": 22.361,
         "2008": 22.644499999999997,
         "2009": 22.625,
         "2010": 23.71825,
         "2011": 21.986916666666662,
         "2012": 22.484250000000003,
         "2013": 22.907,
         "_deepnote_index_column": "('Egypt', 'Cairo')"
        },
        {
         "2000": 21.486166666666666,
         "2001": 22.33083333333333,
         "2002": 22.414083333333334,
         "2003": 22.1705,
         "2004": 22.081916666666668,
         "2005": 22.0065,
         "2006": 22.049999999999997,
         "2007": 22.361,
         "2008": 22.644499999999997,
         "2009": 22.625,
         "2010": 23.71825,
         "2011": 21.986916666666662,
         "2012": 22.484250000000003,
         "2013": 22.907,
         "_deepnote_index_column": "('Egypt', 'Gizeh')"
        },
        {
         "2000": 18.24125,
         "2001": 18.29641666666667,
         "2002": 18.46975,
         "2003": 18.320916666666665,
         "2004": 18.292749999999998,
         "2005": 18.31283333333333,
         "2006": 18.427083333333332,
         "2007": 18.142583333333334,
         "2008": 18.165,
         "2009": 18.765333333333334,
         "2010": 18.29825,
         "2011": 18.60675,
         "2012": 18.448583333333332,
         "2013": 19.539,
         "_deepnote_index_column": "('Ethiopia', 'Addis Abeba')"
        },
        {
         "2000": 11.739666666666666,
         "2001": 11.371250000000002,
         "2002": 11.871333333333332,
         "2003": 11.9095,
         "2004": 11.338833333333332,
         "2005": 11.552916666666668,
         "2006": 11.788499999999997,
         "2007": 11.750833333333338,
         "2008": 11.278249999999998,
         "2009": 11.464083333333335,
         "2010": 10.409833333333333,
         "2011": 12.325750000000001,
         "2012": 11.219916666666668,
         "2013": 11.011625,
         "_deepnote_index_column": "('France', 'Paris')"
        },
        {
         "2000": 10.963666666666668,
         "2001": 9.69025,
         "2002": 10.264416666666667,
         "2003": 10.06575,
         "2004": 9.822583333333332,
         "2005": 9.919083333333335,
         "2006": 10.545333333333334,
         "2007": 10.883166666666668,
         "2008": 10.65775,
         "2009": 10.0625,
         "2010": 8.606833333333332,
         "2011": 10.556416666666665,
         "2012": 9.964333333333332,
         "2013": 10.121500000000001,
         "_deepnote_index_column": "('Germany', 'Berlin')"
        },
        {
         "2000": 27.436000000000003,
         "2001": 27.198083333333333,
         "2002": 27.719083333333334,
         "2003": 27.403833333333335,
         "2004": 27.62833333333333,
         "2005": 26.828083333333336,
         "2006": 27.282833333333333,
         "2007": 27.511166666666664,
         "2008": 27.0485,
         "2009": 28.095833333333335,
         "2010": 28.017833333333332,
         "2011": 27.29041666666667,
         "2012": 27.027250000000006,
         "2013": 27.608625,
         "_deepnote_index_column": "('India', 'Ahmadabad')"
        },
        {
         "2000": 25.33791666666666,
         "2001": 25.528166666666667,
         "2002": 25.755333333333336,
         "2003": 25.924750000000003,
         "2004": 25.252083333333335,
         "2005": 25.4765,
         "2006": 25.418250000000004,
         "2007": 25.464333333333332,
         "2008": 25.35258333333333,
         "2009": 25.72575,
         "2010": 25.705250000000003,
         "2011": 25.36208333333333,
         "2012": 26.042333333333335,
         "2013": 26.610500000000002,
         "_deepnote_index_column": "('India', 'Bangalore')"
        },
        {
         "2000": 27.203666666666667,
         "2001": 27.243666666666673,
         "2002": 27.628666666666664,
         "2003": 27.578416666666666,
         "2004": 27.318749999999994,
         "2005": 27.035749999999997,
         "2006": 27.3815,
         "2007": 27.63466666666667,
         "2008": 27.177750000000003,
         "2009": 27.8445,
         "2010": 27.765416666666667,
         "2011": 27.38491666666667,
         "2012": 27.19250000000001,
         "2013": 26.713,
         "_deepnote_index_column": "('India', 'Bombay')"
        },
        {
         "2000": 26.491333333333333,
         "2001": 26.51516666666667,
         "2002": 26.70391666666666,
         "2003": 26.561333333333334,
         "2004": 26.63433333333333,
         "2005": 26.729166666666668,
         "2006": 26.986250000000002,
         "2007": 26.58458333333333,
         "2008": 26.522333333333332,
         "2009": 27.15325,
         "2010": 27.28883333333334,
         "2011": 26.406916666666664,
         "2012": 26.935083333333335,
         "2013": 27.36925,
         "_deepnote_index_column": "('India', 'Calcutta')"
        },
        {
         "2000": 26.048333333333332,
         "2001": 25.862916666666667,
         "2002": 26.63433333333334,
         "2003": 25.721083333333336,
         "2004": 26.23991666666667,
         "2005": 25.716083333333334,
         "2006": 26.365916666666667,
         "2007": 26.14566666666667,
         "2008": 25.675,
         "2009": 26.55425,
         "2010": 26.520250000000004,
         "2011": 25.629499999999997,
         "2012": 25.889416666666666,
         "2013": 26.70925,
         "_deepnote_index_column": "('India', 'Delhi')"
        }
       ]
      },
      "text/plain": "year                       2000       2001       2002       2003       2004  \\\ncountry  city                                                                 \nEgypt    Cairo        21.486167  22.330833  22.414083  22.170500  22.081917   \n         Gizeh        21.486167  22.330833  22.414083  22.170500  22.081917   \nEthiopia Addis Abeba  18.241250  18.296417  18.469750  18.320917  18.292750   \nFrance   Paris        11.739667  11.371250  11.871333  11.909500  11.338833   \nGermany  Berlin       10.963667   9.690250  10.264417  10.065750   9.822583   \nIndia    Ahmadabad    27.436000  27.198083  27.719083  27.403833  27.628333   \n         Bangalore    25.337917  25.528167  25.755333  25.924750  25.252083   \n         Bombay       27.203667  27.243667  27.628667  27.578417  27.318750   \n         Calcutta     26.491333  26.515167  26.703917  26.561333  26.634333   \n         Delhi        26.048333  25.862917  26.634333  25.721083  26.239917   \n\nyear                       2005       2006       2007       2008       2009  \\\ncountry  city                                                                 \nEgypt    Cairo        22.006500  22.050000  22.361000  22.644500  22.625000   \n         Gizeh        22.006500  22.050000  22.361000  22.644500  22.625000   \nEthiopia Addis Abeba  18.312833  18.427083  18.142583  18.165000  18.765333   \nFrance   Paris        11.552917  11.788500  11.750833  11.278250  11.464083   \nGermany  Berlin        9.919083  10.545333  10.883167  10.657750  10.062500   \nIndia    Ahmadabad    26.828083  27.282833  27.511167  27.048500  28.095833   \n         Bangalore    25.476500  25.418250  25.464333  25.352583  25.725750   \n         Bombay       27.035750  27.381500  27.634667  27.177750  27.844500   \n         Calcutta     26.729167  26.986250  26.584583  26.522333  27.153250   \n         Delhi        25.716083  26.365917  26.145667  25.675000  26.554250   \n\nyear                       2010       2011       2012       2013  \ncountry  city                                                     \nEgypt    Cairo        23.718250  21.986917  22.484250  22.907000  \n         Gizeh        23.718250  21.986917  22.484250  22.907000  \nEthiopia Addis Abeba  18.298250  18.606750  18.448583  19.539000  \nFrance   Paris        10.409833  12.325750  11.219917  11.011625  \nGermany  Berlin        8.606833  10.556417   9.964333  10.121500  \nIndia    Ahmadabad    28.017833  27.290417  27.027250  27.608625  \n         Bangalore    25.705250  25.362083  26.042333  26.610500  \n         Bombay       27.765417  27.384917  27.192500  26.713000  \n         Calcutta     27.288833  26.406917  26.935083  27.369250  \n         Delhi        26.520250  25.629500  25.889417  26.709250  ",
      "text/html": "<div>\n<style scoped>\n    .dataframe tbody tr th:only-of-type {\n        vertical-align: middle;\n    }\n\n    .dataframe tbody tr th {\n        vertical-align: top;\n    }\n\n    .dataframe thead th {\n        text-align: right;\n    }\n</style>\n<table border=\"1\" class=\"dataframe\">\n  <thead>\n    <tr style=\"text-align: right;\">\n      <th></th>\n      <th>year</th>\n      <th>2000</th>\n      <th>2001</th>\n      <th>2002</th>\n      <th>2003</th>\n      <th>2004</th>\n      <th>2005</th>\n      <th>2006</th>\n      <th>2007</th>\n      <th>2008</th>\n      <th>2009</th>\n      <th>2010</th>\n      <th>2011</th>\n      <th>2012</th>\n      <th>2013</th>\n    </tr>\n    <tr>\n      <th>country</th>\n      <th>city</th>\n      <th></th>\n      <th></th>\n      <th></th>\n      <th></th>\n      <th></th>\n      <th></th>\n      <th></th>\n      <th></th>\n      <th></th>\n      <th></th>\n      <th></th>\n      <th></th>\n      <th></th>\n      <th></th>\n    </tr>\n  </thead>\n  <tbody>\n    <tr>\n      <th rowspan=\"2\" valign=\"top\">Egypt</th>\n      <th>Cairo</th>\n      <td>21.486167</td>\n      <td>22.330833</td>\n      <td>22.414083</td>\n      <td>22.170500</td>\n      <td>22.081917</td>\n      <td>22.006500</td>\n      <td>22.050000</td>\n      <td>22.361000</td>\n      <td>22.644500</td>\n      <td>22.625000</td>\n      <td>23.718250</td>\n      <td>21.986917</td>\n      <td>22.484250</td>\n      <td>22.907000</td>\n    </tr>\n    <tr>\n      <th>Gizeh</th>\n      <td>21.486167</td>\n      <td>22.330833</td>\n      <td>22.414083</td>\n      <td>22.170500</td>\n      <td>22.081917</td>\n      <td>22.006500</td>\n      <td>22.050000</td>\n      <td>22.361000</td>\n      <td>22.644500</td>\n      <td>22.625000</td>\n      <td>23.718250</td>\n      <td>21.986917</td>\n      <td>22.484250</td>\n      <td>22.907000</td>\n    </tr>\n    <tr>\n      <th>Ethiopia</th>\n      <th>Addis Abeba</th>\n      <td>18.241250</td>\n      <td>18.296417</td>\n      <td>18.469750</td>\n      <td>18.320917</td>\n      <td>18.292750</td>\n      <td>18.312833</td>\n      <td>18.427083</td>\n      <td>18.142583</td>\n      <td>18.165000</td>\n      <td>18.765333</td>\n      <td>18.298250</td>\n      <td>18.606750</td>\n      <td>18.448583</td>\n      <td>19.539000</td>\n    </tr>\n    <tr>\n      <th>France</th>\n      <th>Paris</th>\n      <td>11.739667</td>\n      <td>11.371250</td>\n      <td>11.871333</td>\n      <td>11.909500</td>\n      <td>11.338833</td>\n      <td>11.552917</td>\n      <td>11.788500</td>\n      <td>11.750833</td>\n      <td>11.278250</td>\n      <td>11.464083</td>\n      <td>10.409833</td>\n      <td>12.325750</td>\n      <td>11.219917</td>\n      <td>11.011625</td>\n    </tr>\n    <tr>\n      <th>Germany</th>\n      <th>Berlin</th>\n      <td>10.963667</td>\n      <td>9.690250</td>\n      <td>10.264417</td>\n      <td>10.065750</td>\n      <td>9.822583</td>\n      <td>9.919083</td>\n      <td>10.545333</td>\n      <td>10.883167</td>\n      <td>10.657750</td>\n      <td>10.062500</td>\n      <td>8.606833</td>\n      <td>10.556417</td>\n      <td>9.964333</td>\n      <td>10.121500</td>\n    </tr>\n    <tr>\n      <th rowspan=\"5\" valign=\"top\">India</th>\n      <th>Ahmadabad</th>\n      <td>27.436000</td>\n      <td>27.198083</td>\n      <td>27.719083</td>\n      <td>27.403833</td>\n      <td>27.628333</td>\n      <td>26.828083</td>\n      <td>27.282833</td>\n      <td>27.511167</td>\n      <td>27.048500</td>\n      <td>28.095833</td>\n      <td>28.017833</td>\n      <td>27.290417</td>\n      <td>27.027250</td>\n      <td>27.608625</td>\n    </tr>\n    <tr>\n      <th>Bangalore</th>\n      <td>25.337917</td>\n      <td>25.528167</td>\n      <td>25.755333</td>\n      <td>25.924750</td>\n      <td>25.252083</td>\n      <td>25.476500</td>\n      <td>25.418250</td>\n      <td>25.464333</td>\n      <td>25.352583</td>\n      <td>25.725750</td>\n      <td>25.705250</td>\n      <td>25.362083</td>\n      <td>26.042333</td>\n      <td>26.610500</td>\n    </tr>\n    <tr>\n      <th>Bombay</th>\n      <td>27.203667</td>\n      <td>27.243667</td>\n      <td>27.628667</td>\n      <td>27.578417</td>\n      <td>27.318750</td>\n      <td>27.035750</td>\n      <td>27.381500</td>\n      <td>27.634667</td>\n      <td>27.177750</td>\n      <td>27.844500</td>\n      <td>27.765417</td>\n      <td>27.384917</td>\n      <td>27.192500</td>\n      <td>26.713000</td>\n    </tr>\n    <tr>\n      <th>Calcutta</th>\n      <td>26.491333</td>\n      <td>26.515167</td>\n      <td>26.703917</td>\n      <td>26.561333</td>\n      <td>26.634333</td>\n      <td>26.729167</td>\n      <td>26.986250</td>\n      <td>26.584583</td>\n      <td>26.522333</td>\n      <td>27.153250</td>\n      <td>27.288833</td>\n      <td>26.406917</td>\n      <td>26.935083</td>\n      <td>27.369250</td>\n    </tr>\n    <tr>\n      <th>Delhi</th>\n      <td>26.048333</td>\n      <td>25.862917</td>\n      <td>26.634333</td>\n      <td>25.721083</td>\n      <td>26.239917</td>\n      <td>25.716083</td>\n      <td>26.365917</td>\n      <td>26.145667</td>\n      <td>25.675000</td>\n      <td>26.554250</td>\n      <td>26.520250</td>\n      <td>25.629500</td>\n      <td>25.889417</td>\n      <td>26.709250</td>\n    </tr>\n  </tbody>\n</table>\n</div>"
     },
     "metadata": {}
    }
   ]
  },
  {
   "cell_type": "code",
   "metadata": {
    "cell_id": "64a6ec78ffbe40f0ac50c2763562ab9d",
    "tags": [],
    "deepnote_to_be_reexecuted": false,
    "source_hash": "e28134db",
    "execution_start": 1654647212594,
    "execution_millis": 88,
    "deepnote_cell_type": "code",
    "deepnote_cell_height": 632.390625
   },
   "source": "# From Egypt, Cairo to India, Delhi, and 2005 to 2010\ntemp_by_country_city_vs_year.loc[('Egypt', 'Cairo'):('India', 'Delhi'), 2005:2010]",
   "execution_count": null,
   "outputs": [
    {
     "output_type": "execute_result",
     "execution_count": 25,
     "data": {
      "application/vnd.deepnote.dataframe.v3+json": {
       "column_count": 6,
       "row_count": 10,
       "columns": [
        {
         "name": 2005,
         "dtype": "float64",
         "stats": {
          "unique_count": 9,
          "nan_count": 0,
          "min": "9.919083333333335",
          "max": "27.035749999999997",
          "histogram": [
           {
            "bin_start": 9.919083333333335,
            "bin_end": 11.63075,
            "count": 2
           },
           {
            "bin_start": 11.63075,
            "bin_end": 13.342416666666667,
            "count": 0
           },
           {
            "bin_start": 13.342416666666667,
            "bin_end": 15.054083333333333,
            "count": 0
           },
           {
            "bin_start": 15.054083333333333,
            "bin_end": 16.765749999999997,
            "count": 0
           },
           {
            "bin_start": 16.765749999999997,
            "bin_end": 18.477416666666663,
            "count": 1
           },
           {
            "bin_start": 18.477416666666663,
            "bin_end": 20.18908333333333,
            "count": 0
           },
           {
            "bin_start": 20.18908333333333,
            "bin_end": 21.900749999999995,
            "count": 0
           },
           {
            "bin_start": 21.900749999999995,
            "bin_end": 23.61241666666666,
            "count": 2
           },
           {
            "bin_start": 23.61241666666666,
            "bin_end": 25.324083333333327,
            "count": 0
           },
           {
            "bin_start": 25.324083333333327,
            "bin_end": 27.035749999999997,
            "count": 5
           }
          ]
         }
        },
        {
         "name": 2006,
         "dtype": "float64",
         "stats": {
          "unique_count": 9,
          "nan_count": 0,
          "min": "10.545333333333334",
          "max": "27.3815",
          "histogram": [
           {
            "bin_start": 10.545333333333334,
            "bin_end": 12.22895,
            "count": 2
           },
           {
            "bin_start": 12.22895,
            "bin_end": 13.912566666666667,
            "count": 0
           },
           {
            "bin_start": 13.912566666666667,
            "bin_end": 15.596183333333332,
            "count": 0
           },
           {
            "bin_start": 15.596183333333332,
            "bin_end": 17.279799999999998,
            "count": 0
           },
           {
            "bin_start": 17.279799999999998,
            "bin_end": 18.963416666666667,
            "count": 1
           },
           {
            "bin_start": 18.963416666666667,
            "bin_end": 20.647033333333333,
            "count": 0
           },
           {
            "bin_start": 20.647033333333333,
            "bin_end": 22.33065,
            "count": 2
           },
           {
            "bin_start": 22.33065,
            "bin_end": 24.014266666666664,
            "count": 0
           },
           {
            "bin_start": 24.014266666666664,
            "bin_end": 25.69788333333333,
            "count": 1
           },
           {
            "bin_start": 25.69788333333333,
            "bin_end": 27.3815,
            "count": 4
           }
          ]
         }
        },
        {
         "name": 2007,
         "dtype": "float64",
         "stats": {
          "unique_count": 9,
          "nan_count": 0,
          "min": "10.883166666666668",
          "max": "27.63466666666667",
          "histogram": [
           {
            "bin_start": 10.883166666666668,
            "bin_end": 12.558316666666668,
            "count": 2
           },
           {
            "bin_start": 12.558316666666668,
            "bin_end": 14.233466666666668,
            "count": 0
           },
           {
            "bin_start": 14.233466666666668,
            "bin_end": 15.908616666666669,
            "count": 0
           },
           {
            "bin_start": 15.908616666666669,
            "bin_end": 17.58376666666667,
            "count": 0
           },
           {
            "bin_start": 17.58376666666667,
            "bin_end": 19.25891666666667,
            "count": 1
           },
           {
            "bin_start": 19.25891666666667,
            "bin_end": 20.93406666666667,
            "count": 0
           },
           {
            "bin_start": 20.93406666666667,
            "bin_end": 22.60921666666667,
            "count": 2
           },
           {
            "bin_start": 22.60921666666667,
            "bin_end": 24.28436666666667,
            "count": 0
           },
           {
            "bin_start": 24.28436666666667,
            "bin_end": 25.959516666666673,
            "count": 1
           },
           {
            "bin_start": 25.959516666666673,
            "bin_end": 27.63466666666667,
            "count": 4
           }
          ]
         }
        },
        {
         "name": 2008,
         "dtype": "float64",
         "stats": {
          "unique_count": 9,
          "nan_count": 0,
          "min": "10.65775",
          "max": "27.177750000000003",
          "histogram": [
           {
            "bin_start": 10.65775,
            "bin_end": 12.309750000000001,
            "count": 2
           },
           {
            "bin_start": 12.309750000000001,
            "bin_end": 13.96175,
            "count": 0
           },
           {
            "bin_start": 13.96175,
            "bin_end": 15.613750000000001,
            "count": 0
           },
           {
            "bin_start": 15.613750000000001,
            "bin_end": 17.26575,
            "count": 0
           },
           {
            "bin_start": 17.26575,
            "bin_end": 18.91775,
            "count": 1
           },
           {
            "bin_start": 18.91775,
            "bin_end": 20.569750000000003,
            "count": 0
           },
           {
            "bin_start": 20.569750000000003,
            "bin_end": 22.22175,
            "count": 0
           },
           {
            "bin_start": 22.22175,
            "bin_end": 23.87375,
            "count": 2
           },
           {
            "bin_start": 23.87375,
            "bin_end": 25.525750000000002,
            "count": 1
           },
           {
            "bin_start": 25.525750000000002,
            "bin_end": 27.177750000000003,
            "count": 4
           }
          ]
         }
        },
        {
         "name": 2009,
         "dtype": "float64",
         "stats": {
          "unique_count": 9,
          "nan_count": 0,
          "min": "10.0625",
          "max": "28.095833333333335",
          "histogram": [
           {
            "bin_start": 10.0625,
            "bin_end": 11.865833333333333,
            "count": 2
           },
           {
            "bin_start": 11.865833333333333,
            "bin_end": 13.669166666666667,
            "count": 0
           },
           {
            "bin_start": 13.669166666666667,
            "bin_end": 15.4725,
            "count": 0
           },
           {
            "bin_start": 15.4725,
            "bin_end": 17.275833333333335,
            "count": 0
           },
           {
            "bin_start": 17.275833333333335,
            "bin_end": 19.079166666666666,
            "count": 1
           },
           {
            "bin_start": 19.079166666666666,
            "bin_end": 20.8825,
            "count": 0
           },
           {
            "bin_start": 20.8825,
            "bin_end": 22.685833333333335,
            "count": 2
           },
           {
            "bin_start": 22.685833333333335,
            "bin_end": 24.48916666666667,
            "count": 0
           },
           {
            "bin_start": 24.48916666666667,
            "bin_end": 26.2925,
            "count": 1
           },
           {
            "bin_start": 26.2925,
            "bin_end": 28.095833333333335,
            "count": 4
           }
          ]
         }
        },
        {
         "name": 2010,
         "dtype": "float64",
         "stats": {
          "unique_count": 9,
          "nan_count": 0,
          "min": "8.606833333333332",
          "max": "28.017833333333332",
          "histogram": [
           {
            "bin_start": 8.606833333333332,
            "bin_end": 10.547933333333333,
            "count": 2
           },
           {
            "bin_start": 10.547933333333333,
            "bin_end": 12.489033333333332,
            "count": 0
           },
           {
            "bin_start": 12.489033333333332,
            "bin_end": 14.430133333333332,
            "count": 0
           },
           {
            "bin_start": 14.430133333333332,
            "bin_end": 16.371233333333333,
            "count": 0
           },
           {
            "bin_start": 16.371233333333333,
            "bin_end": 18.312333333333335,
            "count": 1
           },
           {
            "bin_start": 18.312333333333335,
            "bin_end": 20.253433333333334,
            "count": 0
           },
           {
            "bin_start": 20.253433333333334,
            "bin_end": 22.194533333333332,
            "count": 0
           },
           {
            "bin_start": 22.194533333333332,
            "bin_end": 24.13563333333333,
            "count": 2
           },
           {
            "bin_start": 24.13563333333333,
            "bin_end": 26.07673333333333,
            "count": 1
           },
           {
            "bin_start": 26.07673333333333,
            "bin_end": 28.017833333333332,
            "count": 4
           }
          ]
         }
        },
        {
         "name": "_deepnote_index_column",
         "dtype": "object"
        }
       ],
       "rows": [
        {
         "2005": 22.0065,
         "2006": 22.049999999999997,
         "2007": 22.361,
         "2008": 22.644499999999997,
         "2009": 22.625,
         "2010": 23.71825,
         "_deepnote_index_column": "('Egypt', 'Cairo')"
        },
        {
         "2005": 22.0065,
         "2006": 22.049999999999997,
         "2007": 22.361,
         "2008": 22.644499999999997,
         "2009": 22.625,
         "2010": 23.71825,
         "_deepnote_index_column": "('Egypt', 'Gizeh')"
        },
        {
         "2005": 18.31283333333333,
         "2006": 18.427083333333332,
         "2007": 18.142583333333334,
         "2008": 18.165,
         "2009": 18.765333333333334,
         "2010": 18.29825,
         "_deepnote_index_column": "('Ethiopia', 'Addis Abeba')"
        },
        {
         "2005": 11.552916666666668,
         "2006": 11.788499999999997,
         "2007": 11.750833333333338,
         "2008": 11.278249999999998,
         "2009": 11.464083333333335,
         "2010": 10.409833333333333,
         "_deepnote_index_column": "('France', 'Paris')"
        },
        {
         "2005": 9.919083333333335,
         "2006": 10.545333333333334,
         "2007": 10.883166666666668,
         "2008": 10.65775,
         "2009": 10.0625,
         "2010": 8.606833333333332,
         "_deepnote_index_column": "('Germany', 'Berlin')"
        },
        {
         "2005": 26.828083333333336,
         "2006": 27.282833333333333,
         "2007": 27.511166666666664,
         "2008": 27.0485,
         "2009": 28.095833333333335,
         "2010": 28.017833333333332,
         "_deepnote_index_column": "('India', 'Ahmadabad')"
        },
        {
         "2005": 25.4765,
         "2006": 25.418250000000004,
         "2007": 25.464333333333332,
         "2008": 25.35258333333333,
         "2009": 25.72575,
         "2010": 25.705250000000003,
         "_deepnote_index_column": "('India', 'Bangalore')"
        },
        {
         "2005": 27.035749999999997,
         "2006": 27.3815,
         "2007": 27.63466666666667,
         "2008": 27.177750000000003,
         "2009": 27.8445,
         "2010": 27.765416666666667,
         "_deepnote_index_column": "('India', 'Bombay')"
        },
        {
         "2005": 26.729166666666668,
         "2006": 26.986250000000002,
         "2007": 26.58458333333333,
         "2008": 26.522333333333332,
         "2009": 27.15325,
         "2010": 27.28883333333334,
         "_deepnote_index_column": "('India', 'Calcutta')"
        },
        {
         "2005": 25.716083333333334,
         "2006": 26.365916666666667,
         "2007": 26.14566666666667,
         "2008": 25.675,
         "2009": 26.55425,
         "2010": 26.520250000000004,
         "_deepnote_index_column": "('India', 'Delhi')"
        }
       ]
      },
      "text/plain": "year                       2005       2006       2007       2008       2009  \\\ncountry  city                                                                 \nEgypt    Cairo        22.006500  22.050000  22.361000  22.644500  22.625000   \n         Gizeh        22.006500  22.050000  22.361000  22.644500  22.625000   \nEthiopia Addis Abeba  18.312833  18.427083  18.142583  18.165000  18.765333   \nFrance   Paris        11.552917  11.788500  11.750833  11.278250  11.464083   \nGermany  Berlin        9.919083  10.545333  10.883167  10.657750  10.062500   \nIndia    Ahmadabad    26.828083  27.282833  27.511167  27.048500  28.095833   \n         Bangalore    25.476500  25.418250  25.464333  25.352583  25.725750   \n         Bombay       27.035750  27.381500  27.634667  27.177750  27.844500   \n         Calcutta     26.729167  26.986250  26.584583  26.522333  27.153250   \n         Delhi        25.716083  26.365917  26.145667  25.675000  26.554250   \n\nyear                       2010  \ncountry  city                    \nEgypt    Cairo        23.718250  \n         Gizeh        23.718250  \nEthiopia Addis Abeba  18.298250  \nFrance   Paris        10.409833  \nGermany  Berlin        8.606833  \nIndia    Ahmadabad    28.017833  \n         Bangalore    25.705250  \n         Bombay       27.765417  \n         Calcutta     27.288833  \n         Delhi        26.520250  ",
      "text/html": "<div>\n<style scoped>\n    .dataframe tbody tr th:only-of-type {\n        vertical-align: middle;\n    }\n\n    .dataframe tbody tr th {\n        vertical-align: top;\n    }\n\n    .dataframe thead th {\n        text-align: right;\n    }\n</style>\n<table border=\"1\" class=\"dataframe\">\n  <thead>\n    <tr style=\"text-align: right;\">\n      <th></th>\n      <th>year</th>\n      <th>2005</th>\n      <th>2006</th>\n      <th>2007</th>\n      <th>2008</th>\n      <th>2009</th>\n      <th>2010</th>\n    </tr>\n    <tr>\n      <th>country</th>\n      <th>city</th>\n      <th></th>\n      <th></th>\n      <th></th>\n      <th></th>\n      <th></th>\n      <th></th>\n    </tr>\n  </thead>\n  <tbody>\n    <tr>\n      <th rowspan=\"2\" valign=\"top\">Egypt</th>\n      <th>Cairo</th>\n      <td>22.006500</td>\n      <td>22.050000</td>\n      <td>22.361000</td>\n      <td>22.644500</td>\n      <td>22.625000</td>\n      <td>23.718250</td>\n    </tr>\n    <tr>\n      <th>Gizeh</th>\n      <td>22.006500</td>\n      <td>22.050000</td>\n      <td>22.361000</td>\n      <td>22.644500</td>\n      <td>22.625000</td>\n      <td>23.718250</td>\n    </tr>\n    <tr>\n      <th>Ethiopia</th>\n      <th>Addis Abeba</th>\n      <td>18.312833</td>\n      <td>18.427083</td>\n      <td>18.142583</td>\n      <td>18.165000</td>\n      <td>18.765333</td>\n      <td>18.298250</td>\n    </tr>\n    <tr>\n      <th>France</th>\n      <th>Paris</th>\n      <td>11.552917</td>\n      <td>11.788500</td>\n      <td>11.750833</td>\n      <td>11.278250</td>\n      <td>11.464083</td>\n      <td>10.409833</td>\n    </tr>\n    <tr>\n      <th>Germany</th>\n      <th>Berlin</th>\n      <td>9.919083</td>\n      <td>10.545333</td>\n      <td>10.883167</td>\n      <td>10.657750</td>\n      <td>10.062500</td>\n      <td>8.606833</td>\n    </tr>\n    <tr>\n      <th rowspan=\"5\" valign=\"top\">India</th>\n      <th>Ahmadabad</th>\n      <td>26.828083</td>\n      <td>27.282833</td>\n      <td>27.511167</td>\n      <td>27.048500</td>\n      <td>28.095833</td>\n      <td>28.017833</td>\n    </tr>\n    <tr>\n      <th>Bangalore</th>\n      <td>25.476500</td>\n      <td>25.418250</td>\n      <td>25.464333</td>\n      <td>25.352583</td>\n      <td>25.725750</td>\n      <td>25.705250</td>\n    </tr>\n    <tr>\n      <th>Bombay</th>\n      <td>27.035750</td>\n      <td>27.381500</td>\n      <td>27.634667</td>\n      <td>27.177750</td>\n      <td>27.844500</td>\n      <td>27.765417</td>\n    </tr>\n    <tr>\n      <th>Calcutta</th>\n      <td>26.729167</td>\n      <td>26.986250</td>\n      <td>26.584583</td>\n      <td>26.522333</td>\n      <td>27.153250</td>\n      <td>27.288833</td>\n    </tr>\n    <tr>\n      <th>Delhi</th>\n      <td>25.716083</td>\n      <td>26.365917</td>\n      <td>26.145667</td>\n      <td>25.675000</td>\n      <td>26.554250</td>\n      <td>26.520250</td>\n    </tr>\n  </tbody>\n</table>\n</div>"
     },
     "metadata": {}
    }
   ]
  },
  {
   "cell_type": "markdown",
   "source": "### Calculating on a pivot table",
   "metadata": {
    "formattedRanges": [],
    "cell_id": "55a0944da1744b24aad2f244a17312c2",
    "tags": [],
    "is_collapsed": false,
    "deepnote_cell_type": "text-cell-h3"
   }
  },
  {
   "cell_type": "code",
   "metadata": {
    "cell_id": "b72353b550024e1b9f9525d4e7ceb763",
    "tags": [],
    "deepnote_to_be_reexecuted": false,
    "source_hash": "a11aeae1",
    "execution_start": 1654647432646,
    "execution_millis": 28,
    "deepnote_cell_type": "code",
    "deepnote_cell_height": 442.1875
   },
   "source": "# Calculate the mean temperature for each year, assigning to mean_temp_by_year\nmean_temp_by_year = temp_by_country_city_vs_year.mean()\nmean_temp_by_year",
   "execution_count": null,
   "outputs": [
    {
     "output_type": "execute_result",
     "execution_count": 27,
     "data": {
      "text/plain": "year\n2000    19.506243\n2001    19.679352\n2002    19.855685\n2003    19.630197\n2004    19.672204\n2005    19.607239\n2006    19.793993\n2007    19.854270\n2008    19.608778\n2009    19.833752\n2010    19.911734\n2011    19.549197\n2012    19.668239\n2013    20.312285\ndtype: float64"
     },
     "metadata": {}
    }
   ]
  },
  {
   "cell_type": "code",
   "metadata": {
    "cell_id": "195ded80ada94f6d81cce133c7766378",
    "tags": [],
    "deepnote_to_be_reexecuted": false,
    "source_hash": "408a06dd",
    "execution_start": 1654647703166,
    "execution_millis": 20,
    "deepnote_cell_type": "code",
    "deepnote_cell_height": 174.578125
   },
   "source": "# Filter mean_temp_by_year for the year that had the highest mean temperature\nmean_temp_by_year[mean_temp_by_year == mean_temp_by_year.max()] ",
   "execution_count": null,
   "outputs": [
    {
     "output_type": "execute_result",
     "execution_count": 32,
     "data": {
      "text/plain": "year\n2013    20.312285\ndtype: float64"
     },
     "metadata": {}
    }
   ]
  },
  {
   "cell_type": "code",
   "metadata": {
    "cell_id": "a36b29b25ebe4547b91bb30358eb70db",
    "tags": [],
    "deepnote_to_be_reexecuted": false,
    "source_hash": "f5141959",
    "execution_start": 1654647571365,
    "execution_millis": 16,
    "deepnote_cell_type": "code",
    "deepnote_cell_height": 99
   },
   "source": "# Calculate the mean temperature for each city (across columns), assigning to mean_temp_by_city\nmean_temp_by_city = temp_by_country_city_vs_year.mean(axis='columns')",
   "execution_count": null,
   "outputs": []
  },
  {
   "cell_type": "code",
   "metadata": {
    "cell_id": "b342a773eebb456cbb064eadd99224ff",
    "tags": [],
    "deepnote_to_be_reexecuted": false,
    "source_hash": "b3508455",
    "execution_start": 1654647715998,
    "execution_millis": 516,
    "owner_user_id": "ef1985d3-6878-4f43-aa7a-40eb37e1c2a1",
    "deepnote_cell_type": "code",
    "deepnote_cell_height": 174.578125
   },
   "source": "# Filter mean_temp_by_city for the city that had the lowest mean temperature\nmean_temp_by_city[mean_temp_by_city == mean_temp_by_city.min()]",
   "execution_count": null,
   "outputs": [
    {
     "output_type": "execute_result",
     "execution_count": 33,
     "data": {
      "text/plain": "country  city  \nChina    Harbin    4.876551\ndtype: float64"
     },
     "metadata": {}
    }
   ]
  },
  {
   "cell_type": "markdown",
   "source": "<a style='text-decoration:none;line-height:16px;display:flex;color:#5B5B62;padding:10px;justify-content:end;' href='https://deepnote.com?utm_source=created-in-deepnote-cell&projectId=8c91f87e-48d2-4010-b7ff-56410ab49fe5' target=\"_blank\">\n<img alt='Created in deepnote.com' style='display:inline;max-height:16px;margin:0px;margin-right:7.5px;' src='data:image/svg+xml;base64,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' > </img>\nCreated in <span style='font-weight:600;margin-left:4px;'>Deepnote</span></a>",
   "metadata": {
    "tags": [],
    "created_in_deepnote_cell": true,
    "deepnote_cell_type": "markdown"
   }
  }
 ],
 "nbformat": 4,
 "nbformat_minor": 2,
 "metadata": {
  "orig_nbformat": 2,
  "deepnote": {},
  "deepnote_notebook_id": "870cbe5a-c509-4794-8ef0-8d7e1f9cb357",
  "deepnote_execution_queue": []
 }
}