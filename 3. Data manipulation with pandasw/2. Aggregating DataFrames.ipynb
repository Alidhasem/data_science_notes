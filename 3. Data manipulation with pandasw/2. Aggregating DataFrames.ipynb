{
 "cells": [
  {
   "cell_type": "markdown",
   "source": "# Aggregating DataFrames",
   "metadata": {
    "formattedRanges": [],
    "cell_id": "20791b96c62a4b0594c81bb835b57726",
    "tags": [],
    "is_collapsed": false,
    "deepnote_cell_type": "text-cell-h1"
   }
  },
  {
   "cell_type": "markdown",
   "source": "You'll be working with data on Walmart stores, which is a chain of department stores in the US. \n\nThe dataset contains weekly sales in US dollars in various stores. Each store has an ID number and a specific store type. The sales are also separated by department ID. \n\nAlong with weekly sales, there is information about whether it was a holiday week or not, the average temperature during the week in that location, the average fuel price in dollars per liter that week, and the national unemployment rate that week.",
   "metadata": {
    "cell_id": "0ca930d8b50e40029917e6ae1239f345",
    "tags": [],
    "deepnote_cell_type": "markdown",
    "deepnote_cell_height": 214.78125
   }
  },
  {
   "cell_type": "code",
   "metadata": {
    "cell_id": "30ed051f66864c9781417e138bf50a49",
    "tags": [],
    "deepnote_to_be_reexecuted": false,
    "source_hash": "1534ad85",
    "execution_start": 1654120034861,
    "execution_millis": 47,
    "deepnote_cell_type": "code",
    "deepnote_cell_height": 99
   },
   "source": "import pandas as pd\nsales = pd.read_csv('/work/data_science_notes/3. Data manipulation with pandasw/data/sales_subset.csv', index_col=0)",
   "execution_count": null,
   "outputs": []
  },
  {
   "cell_type": "markdown",
   "source": "## Summary statistics",
   "metadata": {
    "formattedRanges": [],
    "cell_id": "8f40ba47280149669c11ae9bec3d7c51",
    "tags": [],
    "is_collapsed": false,
    "deepnote_cell_type": "text-cell-h2"
   }
  },
  {
   "cell_type": "markdown",
   "source": "### Mean and median",
   "metadata": {
    "formattedRanges": [],
    "cell_id": "aa86b6e2e9954afa9fb98ec72c99b5ad",
    "tags": [],
    "is_collapsed": false,
    "deepnote_cell_type": "text-cell-h3"
   }
  },
  {
   "cell_type": "code",
   "metadata": {
    "cell_id": "68d67553e2a34bba923f349d6ad214a0",
    "tags": [],
    "deepnote_to_be_reexecuted": false,
    "source_hash": "f769d435",
    "execution_start": 1654120034908,
    "execution_millis": 37,
    "deepnote_cell_type": "code",
    "deepnote_cell_height": 426.078125
   },
   "source": "# Explore your new DataFrame first by printing the first few rows of the sales DataFrame\nsales.head()",
   "execution_count": null,
   "outputs": [
    {
     "output_type": "execute_result",
     "execution_count": 2,
     "data": {
      "application/vnd.deepnote.dataframe.v3+json": {
       "column_count": 9,
       "row_count": 5,
       "columns": [
        {
         "name": "store",
         "dtype": "int64",
         "stats": {
          "unique_count": 1,
          "nan_count": 0,
          "min": "1",
          "max": "1",
          "histogram": [
           {
            "bin_start": 0.5,
            "bin_end": 0.6,
            "count": 0
           },
           {
            "bin_start": 0.6,
            "bin_end": 0.7,
            "count": 0
           },
           {
            "bin_start": 0.7,
            "bin_end": 0.8,
            "count": 0
           },
           {
            "bin_start": 0.8,
            "bin_end": 0.9,
            "count": 0
           },
           {
            "bin_start": 0.9,
            "bin_end": 1,
            "count": 0
           },
           {
            "bin_start": 1,
            "bin_end": 1.1,
            "count": 5
           },
           {
            "bin_start": 1.1,
            "bin_end": 1.2000000000000002,
            "count": 0
           },
           {
            "bin_start": 1.2000000000000002,
            "bin_end": 1.3,
            "count": 0
           },
           {
            "bin_start": 1.3,
            "bin_end": 1.4,
            "count": 0
           },
           {
            "bin_start": 1.4,
            "bin_end": 1.5,
            "count": 0
           }
          ]
         }
        },
        {
         "name": "type",
         "dtype": "object",
         "stats": {
          "unique_count": 1,
          "nan_count": 0,
          "categories": [
           {
            "name": "A",
            "count": 5
           }
          ]
         }
        },
        {
         "name": "department",
         "dtype": "int64",
         "stats": {
          "unique_count": 1,
          "nan_count": 0,
          "min": "1",
          "max": "1",
          "histogram": [
           {
            "bin_start": 0.5,
            "bin_end": 0.6,
            "count": 0
           },
           {
            "bin_start": 0.6,
            "bin_end": 0.7,
            "count": 0
           },
           {
            "bin_start": 0.7,
            "bin_end": 0.8,
            "count": 0
           },
           {
            "bin_start": 0.8,
            "bin_end": 0.9,
            "count": 0
           },
           {
            "bin_start": 0.9,
            "bin_end": 1,
            "count": 0
           },
           {
            "bin_start": 1,
            "bin_end": 1.1,
            "count": 5
           },
           {
            "bin_start": 1.1,
            "bin_end": 1.2000000000000002,
            "count": 0
           },
           {
            "bin_start": 1.2000000000000002,
            "bin_end": 1.3,
            "count": 0
           },
           {
            "bin_start": 1.3,
            "bin_end": 1.4,
            "count": 0
           },
           {
            "bin_start": 1.4,
            "bin_end": 1.5,
            "count": 0
           }
          ]
         }
        },
        {
         "name": "date",
         "dtype": "object",
         "stats": {
          "unique_count": 5,
          "nan_count": 0,
          "categories": [
           {
            "name": "2010-02-05",
            "count": 1
           },
           {
            "name": "2010-03-05",
            "count": 1
           },
           {
            "name": "3 others",
            "count": 3
           }
          ]
         }
        },
        {
         "name": "weekly_sales",
         "dtype": "float64",
         "stats": {
          "unique_count": 5,
          "nan_count": 0,
          "min": "17413.94",
          "max": "57258.43",
          "histogram": [
           {
            "bin_start": 17413.94,
            "bin_end": 21398.389,
            "count": 2
           },
           {
            "bin_start": 21398.389,
            "bin_end": 25382.838,
            "count": 2
           },
           {
            "bin_start": 25382.838,
            "bin_end": 29367.287,
            "count": 0
           },
           {
            "bin_start": 29367.287,
            "bin_end": 33351.736000000004,
            "count": 0
           },
           {
            "bin_start": 33351.736000000004,
            "bin_end": 37336.185,
            "count": 0
           },
           {
            "bin_start": 37336.185,
            "bin_end": 41320.634000000005,
            "count": 0
           },
           {
            "bin_start": 41320.634000000005,
            "bin_end": 45305.083,
            "count": 0
           },
           {
            "bin_start": 45305.083,
            "bin_end": 49289.53200000001,
            "count": 0
           },
           {
            "bin_start": 49289.53200000001,
            "bin_end": 53273.981,
            "count": 0
           },
           {
            "bin_start": 53273.981,
            "bin_end": 57258.43,
            "count": 1
           }
          ]
         }
        },
        {
         "name": "is_holiday",
         "dtype": "bool",
         "stats": {
          "unique_count": 1,
          "nan_count": 0,
          "categories": [
           {
            "name": "False",
            "count": 5
           }
          ]
         }
        },
        {
         "name": "temperature_c",
         "dtype": "float64",
         "stats": {
          "unique_count": 5,
          "nan_count": 0,
          "min": "5.727777777777779",
          "max": "27.05",
          "histogram": [
           {
            "bin_start": 5.727777777777779,
            "bin_end": 7.860000000000001,
            "count": 1
           },
           {
            "bin_start": 7.860000000000001,
            "bin_end": 9.992222222222225,
            "count": 1
           },
           {
            "bin_start": 9.992222222222225,
            "bin_end": 12.124444444444446,
            "count": 0
           },
           {
            "bin_start": 12.124444444444446,
            "bin_end": 14.256666666666668,
            "count": 0
           },
           {
            "bin_start": 14.256666666666668,
            "bin_end": 16.38888888888889,
            "count": 0
           },
           {
            "bin_start": 16.38888888888889,
            "bin_end": 18.521111111111114,
            "count": 1
           },
           {
            "bin_start": 18.521111111111114,
            "bin_end": 20.653333333333336,
            "count": 0
           },
           {
            "bin_start": 20.653333333333336,
            "bin_end": 22.785555555555558,
            "count": 1
           },
           {
            "bin_start": 22.785555555555558,
            "bin_end": 24.91777777777778,
            "count": 0
           },
           {
            "bin_start": 24.91777777777778,
            "bin_end": 27.05,
            "count": 1
           }
          ]
         }
        },
        {
         "name": "fuel_price_usd_per_l",
         "dtype": "float64",
         "stats": {
          "unique_count": 5,
          "nan_count": 0,
          "min": "0.6794508388787476",
          "max": "0.7489281213923986",
          "histogram": [
           {
            "bin_start": 0.6794508388787476,
            "bin_end": 0.6863985671301127,
            "count": 1
           },
           {
            "bin_start": 0.6863985671301127,
            "bin_end": 0.6933462953814777,
            "count": 0
           },
           {
            "bin_start": 0.6933462953814777,
            "bin_end": 0.7002940236328429,
            "count": 1
           },
           {
            "bin_start": 0.7002940236328429,
            "bin_end": 0.707241751884208,
            "count": 0
           },
           {
            "bin_start": 0.707241751884208,
            "bin_end": 0.714189480135573,
            "count": 0
           },
           {
            "bin_start": 0.714189480135573,
            "bin_end": 0.7211372083869382,
            "count": 2
           },
           {
            "bin_start": 0.7211372083869382,
            "bin_end": 0.7280849366383033,
            "count": 0
           },
           {
            "bin_start": 0.7280849366383033,
            "bin_end": 0.7350326648896685,
            "count": 0
           },
           {
            "bin_start": 0.7350326648896685,
            "bin_end": 0.7419803931410335,
            "count": 0
           },
           {
            "bin_start": 0.7419803931410335,
            "bin_end": 0.7489281213923986,
            "count": 1
           }
          ]
         }
        },
        {
         "name": "unemployment",
         "dtype": "float64",
         "stats": {
          "unique_count": 2,
          "nan_count": 0,
          "min": "7.808",
          "max": "8.106",
          "histogram": [
           {
            "bin_start": 7.808,
            "bin_end": 7.8378,
            "count": 3
           },
           {
            "bin_start": 7.8378,
            "bin_end": 7.8675999999999995,
            "count": 0
           },
           {
            "bin_start": 7.8675999999999995,
            "bin_end": 7.8974,
            "count": 0
           },
           {
            "bin_start": 7.8974,
            "bin_end": 7.9272,
            "count": 0
           },
           {
            "bin_start": 7.9272,
            "bin_end": 7.957,
            "count": 0
           },
           {
            "bin_start": 7.957,
            "bin_end": 7.9868,
            "count": 0
           },
           {
            "bin_start": 7.9868,
            "bin_end": 8.0166,
            "count": 0
           },
           {
            "bin_start": 8.0166,
            "bin_end": 8.0464,
            "count": 0
           },
           {
            "bin_start": 8.0464,
            "bin_end": 8.0762,
            "count": 0
           },
           {
            "bin_start": 8.0762,
            "bin_end": 8.106,
            "count": 2
           }
          ]
         }
        },
        {
         "name": "_deepnote_index_column",
         "dtype": "int64"
        }
       ],
       "rows": [
        {
         "store": 1,
         "type": "A",
         "department": 1,
         "date": "2010-02-05",
         "weekly_sales": 24924.5,
         "is_holiday": false,
         "temperature_c": 5.727777777777779,
         "fuel_price_usd_per_l": 0.6794508388787476,
         "unemployment": 8.106,
         "_deepnote_index_column": 0
        },
        {
         "store": 1,
         "type": "A",
         "department": 1,
         "date": "2010-03-05",
         "weekly_sales": 21827.9,
         "is_holiday": false,
         "temperature_c": 8.055555555555555,
         "fuel_price_usd_per_l": 0.693451964252221,
         "unemployment": 8.106,
         "_deepnote_index_column": 1
        },
        {
         "store": 1,
         "type": "A",
         "department": 1,
         "date": "2010-04-02",
         "weekly_sales": 57258.43,
         "is_holiday": false,
         "temperature_c": 16.81666666666667,
         "fuel_price_usd_per_l": 0.718284148876872,
         "unemployment": 7.808,
         "_deepnote_index_column": 2
        },
        {
         "store": 1,
         "type": "A",
         "department": 1,
         "date": "2010-05-07",
         "weekly_sales": 17413.94,
         "is_holiday": false,
         "temperature_c": 22.52777777777778,
         "fuel_price_usd_per_l": 0.7489281213923986,
         "unemployment": 7.808,
         "_deepnote_index_column": 3
        },
        {
         "store": 1,
         "type": "A",
         "department": 1,
         "date": "2010-06-04",
         "weekly_sales": 17558.09,
         "is_holiday": false,
         "temperature_c": 27.05,
         "fuel_price_usd_per_l": 0.7145857384008601,
         "unemployment": 7.808,
         "_deepnote_index_column": 4
        }
       ]
      },
      "text/plain": "   store type  department        date  weekly_sales  is_holiday  \\\n0      1    A           1  2010-02-05      24924.50       False   \n1      1    A           1  2010-03-05      21827.90       False   \n2      1    A           1  2010-04-02      57258.43       False   \n3      1    A           1  2010-05-07      17413.94       False   \n4      1    A           1  2010-06-04      17558.09       False   \n\n   temperature_c  fuel_price_usd_per_l  unemployment  \n0       5.727778              0.679451         8.106  \n1       8.055556              0.693452         8.106  \n2      16.816667              0.718284         7.808  \n3      22.527778              0.748928         7.808  \n4      27.050000              0.714586         7.808  ",
      "text/html": "<div>\n<style scoped>\n    .dataframe tbody tr th:only-of-type {\n        vertical-align: middle;\n    }\n\n    .dataframe tbody tr th {\n        vertical-align: top;\n    }\n\n    .dataframe thead th {\n        text-align: right;\n    }\n</style>\n<table border=\"1\" class=\"dataframe\">\n  <thead>\n    <tr style=\"text-align: right;\">\n      <th></th>\n      <th>store</th>\n      <th>type</th>\n      <th>department</th>\n      <th>date</th>\n      <th>weekly_sales</th>\n      <th>is_holiday</th>\n      <th>temperature_c</th>\n      <th>fuel_price_usd_per_l</th>\n      <th>unemployment</th>\n    </tr>\n  </thead>\n  <tbody>\n    <tr>\n      <th>0</th>\n      <td>1</td>\n      <td>A</td>\n      <td>1</td>\n      <td>2010-02-05</td>\n      <td>24924.50</td>\n      <td>False</td>\n      <td>5.727778</td>\n      <td>0.679451</td>\n      <td>8.106</td>\n    </tr>\n    <tr>\n      <th>1</th>\n      <td>1</td>\n      <td>A</td>\n      <td>1</td>\n      <td>2010-03-05</td>\n      <td>21827.90</td>\n      <td>False</td>\n      <td>8.055556</td>\n      <td>0.693452</td>\n      <td>8.106</td>\n    </tr>\n    <tr>\n      <th>2</th>\n      <td>1</td>\n      <td>A</td>\n      <td>1</td>\n      <td>2010-04-02</td>\n      <td>57258.43</td>\n      <td>False</td>\n      <td>16.816667</td>\n      <td>0.718284</td>\n      <td>7.808</td>\n    </tr>\n    <tr>\n      <th>3</th>\n      <td>1</td>\n      <td>A</td>\n      <td>1</td>\n      <td>2010-05-07</td>\n      <td>17413.94</td>\n      <td>False</td>\n      <td>22.527778</td>\n      <td>0.748928</td>\n      <td>7.808</td>\n    </tr>\n    <tr>\n      <th>4</th>\n      <td>1</td>\n      <td>A</td>\n      <td>1</td>\n      <td>2010-06-04</td>\n      <td>17558.09</td>\n      <td>False</td>\n      <td>27.050000</td>\n      <td>0.714586</td>\n      <td>7.808</td>\n    </tr>\n  </tbody>\n</table>\n</div>"
     },
     "metadata": {}
    }
   ]
  },
  {
   "cell_type": "code",
   "metadata": {
    "cell_id": "d16acd245d3f4cce91d316c341894700",
    "tags": [],
    "deepnote_to_be_reexecuted": false,
    "source_hash": "f9620331",
    "execution_start": 1654120034955,
    "execution_millis": 21,
    "deepnote_cell_type": "code",
    "deepnote_cell_height": 428.71875
   },
   "source": "# Print information about the columns in sales\nsales.info()",
   "execution_count": null,
   "outputs": [
    {
     "name": "stdout",
     "text": "<class 'pandas.core.frame.DataFrame'>\nInt64Index: 10774 entries, 0 to 10773\nData columns (total 9 columns):\n #   Column                Non-Null Count  Dtype  \n---  ------                --------------  -----  \n 0   store                 10774 non-null  int64  \n 1   type                  10774 non-null  object \n 2   department            10774 non-null  int64  \n 3   date                  10774 non-null  object \n 4   weekly_sales          10774 non-null  float64\n 5   is_holiday            10774 non-null  bool   \n 6   temperature_c         10774 non-null  float64\n 7   fuel_price_usd_per_l  10774 non-null  float64\n 8   unemployment          10774 non-null  float64\ndtypes: bool(1), float64(4), int64(2), object(2)\nmemory usage: 768.1+ KB\n",
     "output_type": "stream"
    }
   ]
  },
  {
   "cell_type": "code",
   "metadata": {
    "cell_id": "85ffbc8356a0409e81125de73dd9a2aa",
    "tags": [],
    "deepnote_to_be_reexecuted": false,
    "source_hash": "c0cb02a0",
    "execution_start": 1654120034969,
    "execution_millis": 12,
    "deepnote_cell_type": "code",
    "deepnote_cell_height": 136.171875,
    "deepnote_output_heights": [
     21.1875
    ]
   },
   "source": "# Print the mean of the weekly_sales column\nsales['weekly_sales'].mean()",
   "execution_count": null,
   "outputs": [
    {
     "output_type": "execute_result",
     "execution_count": 4,
     "data": {
      "text/plain": "23843.95014850566"
     },
     "metadata": {}
    }
   ]
  },
  {
   "cell_type": "code",
   "metadata": {
    "cell_id": "3fce63ff7ea14a27a86ab7327ef26dc3",
    "tags": [],
    "deepnote_to_be_reexecuted": false,
    "source_hash": "463e0ed5",
    "execution_start": 1654120034982,
    "execution_millis": 3,
    "deepnote_cell_type": "code",
    "deepnote_cell_height": 136.171875,
    "deepnote_output_heights": [
     21.1875
    ]
   },
   "source": "# Print the median of the weekly_sales column\nsales['weekly_sales'].median()",
   "execution_count": null,
   "outputs": [
    {
     "output_type": "execute_result",
     "execution_count": 5,
     "data": {
      "text/plain": "12049.064999999999"
     },
     "metadata": {}
    }
   ]
  },
  {
   "cell_type": "markdown",
   "source": "### Summarizing dates",
   "metadata": {
    "formattedRanges": [],
    "cell_id": "8f8c5794f9814695a420d26fd8261a95",
    "tags": [],
    "is_collapsed": false,
    "deepnote_cell_type": "text-cell-h3"
   }
  },
  {
   "cell_type": "code",
   "metadata": {
    "cell_id": "b3bf3dac6bc941f3b6aec0b3bfee8922",
    "tags": [],
    "deepnote_to_be_reexecuted": false,
    "source_hash": "e552b025",
    "execution_start": 1654120034991,
    "execution_millis": 7,
    "deepnote_cell_type": "code",
    "deepnote_cell_height": 154.171875,
    "deepnote_output_heights": [
     21.1875
    ]
   },
   "source": "# Print the maximum of the date column\nsales['date'] = pd.to_datetime(sales['date'])\nsales.date.max()",
   "execution_count": null,
   "outputs": [
    {
     "output_type": "execute_result",
     "execution_count": 6,
     "data": {
      "text/plain": "Timestamp('2012-10-26 00:00:00')"
     },
     "metadata": {}
    }
   ]
  },
  {
   "cell_type": "code",
   "metadata": {
    "cell_id": "d72186989f534d329de6f7a676ee3db9",
    "tags": [],
    "deepnote_to_be_reexecuted": false,
    "source_hash": "6773337a",
    "execution_start": 1654120034999,
    "execution_millis": 6,
    "deepnote_cell_type": "code",
    "deepnote_cell_height": 136.171875,
    "deepnote_output_heights": [
     21.1875
    ]
   },
   "source": "# Print the minimum of the date column\nsales.date.min()",
   "execution_count": null,
   "outputs": [
    {
     "output_type": "execute_result",
     "execution_count": 7,
     "data": {
      "text/plain": "Timestamp('2010-02-05 00:00:00')"
     },
     "metadata": {}
    }
   ]
  },
  {
   "cell_type": "markdown",
   "source": "### Efficient summaries",
   "metadata": {
    "formattedRanges": [],
    "cell_id": "cc4fd9c9146546ba913a1a0a089d1135",
    "tags": [],
    "is_collapsed": false,
    "owner_user_id": "ef1985d3-6878-4f43-aa7a-40eb37e1c2a1",
    "deepnote_cell_type": "text-cell-h3"
   }
  },
  {
   "cell_type": "code",
   "metadata": {
    "cell_id": "792f0ddc65f048f2aeb20be052710f7f",
    "tags": [],
    "deepnote_to_be_reexecuted": false,
    "source_hash": "391a068",
    "execution_start": 1654120035052,
    "execution_millis": 4,
    "deepnote_cell_type": "code",
    "deepnote_cell_height": 208.171875,
    "deepnote_output_heights": [
     21.1875
    ]
   },
   "source": "# Use the custom iqr function to print the IQR of the temperature_c column of sales\n\ndef iqr(column):\n    return column.quantile(0.75) - column.quantile(0.25)\n\nsales['temperature_c'].agg(iqr)",
   "execution_count": null,
   "outputs": [
    {
     "output_type": "execute_result",
     "execution_count": 8,
     "data": {
      "text/plain": "16.583333333333336"
     },
     "metadata": {}
    }
   ]
  },
  {
   "cell_type": "code",
   "metadata": {
    "cell_id": "2c68c9a7e0a14508bfaaf1a9d6de5a2c",
    "tags": [],
    "deepnote_to_be_reexecuted": false,
    "source_hash": "d89d0346",
    "execution_start": 1654120035053,
    "execution_millis": 3,
    "deepnote_cell_type": "code",
    "deepnote_cell_height": 193.75,
    "deepnote_output_heights": [
     78.765625
    ]
   },
   "source": "# Update the column selection to use the custom iqr function with .agg() to print the IQR of temperature_c, fuel_price_usd_per_l, and unemployment, in that order\nsales[['temperature_c', 'fuel_price_usd_per_l', 'unemployment']].agg(iqr)",
   "execution_count": null,
   "outputs": [
    {
     "output_type": "execute_result",
     "execution_count": 9,
     "data": {
      "text/plain": "temperature_c           16.583333\nfuel_price_usd_per_l     0.073176\nunemployment             0.565000\ndtype: float64"
     },
     "metadata": {}
    }
   ]
  },
  {
   "cell_type": "code",
   "metadata": {
    "cell_id": "fba016d51f2c4ead88cf08bf182ad4ea",
    "tags": [],
    "deepnote_to_be_reexecuted": false,
    "source_hash": "f63c6e30",
    "execution_start": 1654120035054,
    "execution_millis": 42,
    "deepnote_cell_type": "code",
    "deepnote_cell_height": 326
   },
   "source": "# Update the aggregation functions called by .agg(): include iqr and np.median in that order\nimport numpy as np\n\nsales[['temperature_c', 'fuel_price_usd_per_l', 'unemployment']].agg([iqr, np.median])",
   "execution_count": null,
   "outputs": [
    {
     "output_type": "execute_result",
     "execution_count": 10,
     "data": {
      "application/vnd.deepnote.dataframe.v3+json": {
       "column_count": 3,
       "row_count": 2,
       "columns": [
        {
         "name": "temperature_c",
         "dtype": "float64",
         "stats": {
          "unique_count": 2,
          "nan_count": 0,
          "min": "16.583333333333336",
          "max": "16.966666666666665",
          "histogram": [
           {
            "bin_start": 16.583333333333336,
            "bin_end": 16.62166666666667,
            "count": 1
           },
           {
            "bin_start": 16.62166666666667,
            "bin_end": 16.66,
            "count": 0
           },
           {
            "bin_start": 16.66,
            "bin_end": 16.698333333333334,
            "count": 0
           },
           {
            "bin_start": 16.698333333333334,
            "bin_end": 16.736666666666668,
            "count": 0
           },
           {
            "bin_start": 16.736666666666668,
            "bin_end": 16.775,
            "count": 0
           },
           {
            "bin_start": 16.775,
            "bin_end": 16.813333333333333,
            "count": 0
           },
           {
            "bin_start": 16.813333333333333,
            "bin_end": 16.851666666666667,
            "count": 0
           },
           {
            "bin_start": 16.851666666666667,
            "bin_end": 16.89,
            "count": 0
           },
           {
            "bin_start": 16.89,
            "bin_end": 16.92833333333333,
            "count": 0
           },
           {
            "bin_start": 16.92833333333333,
            "bin_end": 16.966666666666665,
            "count": 1
           }
          ]
         }
        },
        {
         "name": "fuel_price_usd_per_l",
         "dtype": "float64",
         "stats": {
          "unique_count": 2,
          "nan_count": 0,
          "min": "0.07317569298966298",
          "max": "0.7433805056783808",
          "histogram": [
           {
            "bin_start": 0.07317569298966298,
            "bin_end": 0.14019617425853476,
            "count": 1
           },
           {
            "bin_start": 0.14019617425853476,
            "bin_end": 0.20721665552740653,
            "count": 0
           },
           {
            "bin_start": 0.20721665552740653,
            "bin_end": 0.2742371367962783,
            "count": 0
           },
           {
            "bin_start": 0.2742371367962783,
            "bin_end": 0.3412576180651501,
            "count": 0
           },
           {
            "bin_start": 0.3412576180651501,
            "bin_end": 0.40827809933402187,
            "count": 0
           },
           {
            "bin_start": 0.40827809933402187,
            "bin_end": 0.47529858060289365,
            "count": 0
           },
           {
            "bin_start": 0.47529858060289365,
            "bin_end": 0.5423190618717655,
            "count": 0
           },
           {
            "bin_start": 0.5423190618717655,
            "bin_end": 0.6093395431406372,
            "count": 0
           },
           {
            "bin_start": 0.6093395431406372,
            "bin_end": 0.6763600244095089,
            "count": 0
           },
           {
            "bin_start": 0.6763600244095089,
            "bin_end": 0.7433805056783808,
            "count": 1
           }
          ]
         }
        },
        {
         "name": "unemployment",
         "dtype": "float64",
         "stats": {
          "unique_count": 2,
          "nan_count": 0,
          "min": "0.5649999999999995",
          "max": "8.099",
          "histogram": [
           {
            "bin_start": 0.5649999999999995,
            "bin_end": 1.3183999999999996,
            "count": 1
           },
           {
            "bin_start": 1.3183999999999996,
            "bin_end": 2.0717999999999996,
            "count": 0
           },
           {
            "bin_start": 2.0717999999999996,
            "bin_end": 2.8251999999999997,
            "count": 0
           },
           {
            "bin_start": 2.8251999999999997,
            "bin_end": 3.5786,
            "count": 0
           },
           {
            "bin_start": 3.5786,
            "bin_end": 4.332,
            "count": 0
           },
           {
            "bin_start": 4.332,
            "bin_end": 5.0854,
            "count": 0
           },
           {
            "bin_start": 5.0854,
            "bin_end": 5.8388,
            "count": 0
           },
           {
            "bin_start": 5.8388,
            "bin_end": 6.5922,
            "count": 0
           },
           {
            "bin_start": 6.5922,
            "bin_end": 7.3456,
            "count": 0
           },
           {
            "bin_start": 7.3456,
            "bin_end": 8.099,
            "count": 1
           }
          ]
         }
        },
        {
         "name": "_deepnote_index_column",
         "dtype": "object"
        }
       ],
       "rows": [
        {
         "temperature_c": 16.583333333333336,
         "fuel_price_usd_per_l": 0.07317569298966298,
         "unemployment": 0.5649999999999995,
         "_deepnote_index_column": "iqr"
        },
        {
         "temperature_c": 16.966666666666665,
         "fuel_price_usd_per_l": 0.7433805056783808,
         "unemployment": 8.099,
         "_deepnote_index_column": "median"
        }
       ]
      },
      "text/plain": "        temperature_c  fuel_price_usd_per_l  unemployment\niqr         16.583333              0.073176         0.565\nmedian      16.966667              0.743381         8.099",
      "text/html": "<div>\n<style scoped>\n    .dataframe tbody tr th:only-of-type {\n        vertical-align: middle;\n    }\n\n    .dataframe tbody tr th {\n        vertical-align: top;\n    }\n\n    .dataframe thead th {\n        text-align: right;\n    }\n</style>\n<table border=\"1\" class=\"dataframe\">\n  <thead>\n    <tr style=\"text-align: right;\">\n      <th></th>\n      <th>temperature_c</th>\n      <th>fuel_price_usd_per_l</th>\n      <th>unemployment</th>\n    </tr>\n  </thead>\n  <tbody>\n    <tr>\n      <th>iqr</th>\n      <td>16.583333</td>\n      <td>0.073176</td>\n      <td>0.565</td>\n    </tr>\n    <tr>\n      <th>median</th>\n      <td>16.966667</td>\n      <td>0.743381</td>\n      <td>8.099</td>\n    </tr>\n  </tbody>\n</table>\n</div>"
     },
     "metadata": {}
    }
   ]
  },
  {
   "cell_type": "markdown",
   "source": "### Cumulative statistics",
   "metadata": {
    "formattedRanges": [],
    "cell_id": "8ed44c885890443081cb9cbd7d7c4bd6",
    "tags": [],
    "is_collapsed": false,
    "deepnote_cell_type": "text-cell-h3"
   }
  },
  {
   "cell_type": "code",
   "metadata": {
    "cell_id": "190d97a03d5c40828145a2e189dbd81f",
    "tags": [],
    "deepnote_to_be_reexecuted": false,
    "source_hash": "35240e8a",
    "execution_start": 1654120035092,
    "execution_millis": 0,
    "deepnote_cell_type": "code",
    "deepnote_cell_height": 81
   },
   "source": "sales_1_1 = sales[(sales['store'] == 1) & (sales['department'] == 1)]",
   "execution_count": null,
   "outputs": []
  },
  {
   "cell_type": "code",
   "metadata": {
    "cell_id": "9f00c9bf34d24dd8994e582eac6cb98c",
    "tags": [],
    "deepnote_to_be_reexecuted": false,
    "source_hash": "4f21f2f0",
    "execution_start": 1654120035094,
    "execution_millis": 4,
    "deepnote_cell_type": "code",
    "deepnote_cell_height": 99
   },
   "source": "# Sort the rows of sales_1_1 by the date column in ascending order\nsales_1_1 = sales_1_1.sort_values('date')",
   "execution_count": null,
   "outputs": []
  },
  {
   "cell_type": "code",
   "metadata": {
    "cell_id": "140bcbc12e5349368bbe6030706d71c0",
    "tags": [],
    "deepnote_to_be_reexecuted": false,
    "source_hash": "5fa91bfb",
    "execution_start": 1654120035102,
    "execution_millis": 2,
    "deepnote_cell_type": "code",
    "deepnote_cell_height": 99
   },
   "source": "# Get the cumulative sum of weekly_sales and add it as a new column of sales_1_1 called cum_weekly_sales\nsales_1_1['cum_weekly_sales'] = sales_1_1['weekly_sales'].cumsum()",
   "execution_count": null,
   "outputs": []
  },
  {
   "cell_type": "code",
   "metadata": {
    "cell_id": "9f7e7c86ee7b491fbde6c49a8a5b71f4",
    "tags": [],
    "deepnote_to_be_reexecuted": false,
    "source_hash": "7e3ee1e6",
    "execution_start": 1654120035106,
    "execution_millis": 0,
    "deepnote_cell_type": "code",
    "deepnote_cell_height": 99
   },
   "source": "# Get the cumulative maximum of weekly_sales, and add it as a column called cum_max_sales\nsales_1_1['cum_max_sales'] = sales_1_1['weekly_sales'].cummax()",
   "execution_count": null,
   "outputs": []
  },
  {
   "cell_type": "code",
   "metadata": {
    "cell_id": "07384c4d7a104d5481d06d742523d757",
    "tags": [],
    "deepnote_to_be_reexecuted": false,
    "source_hash": "afb18936",
    "execution_start": 1654120035116,
    "execution_millis": 33,
    "deepnote_cell_type": "code",
    "deepnote_cell_height": 618
   },
   "source": "# Print the date, weekly_sales, cum_weekly_sales, and cum_max_sales columns\nsales_1_1[['date', 'weekly_sales', 'cum_weekly_sales', 'cum_max_sales']]",
   "execution_count": null,
   "outputs": [
    {
     "output_type": "execute_result",
     "execution_count": 15,
     "data": {
      "application/vnd.deepnote.dataframe.v3+json": {
       "column_count": 4,
       "row_count": 12,
       "columns": [
        {
         "name": "date",
         "dtype": "datetime64[ns]",
         "stats": {
          "unique_count": 12,
          "nan_count": 0,
          "min": "2010-02-05 00:00:00",
          "max": "2011-01-07 00:00:00",
          "histogram": [
           {
            "bin_start": 1265328000000000000,
            "bin_end": 1268231040000000000,
            "count": 2
           },
           {
            "bin_start": 1268231040000000000,
            "bin_end": 1271134080000000000,
            "count": 1
           },
           {
            "bin_start": 1271134080000000000,
            "bin_end": 1274037120000000000,
            "count": 1
           },
           {
            "bin_start": 1274037120000000000,
            "bin_end": 1276940160000000000,
            "count": 1
           },
           {
            "bin_start": 1276940160000000000,
            "bin_end": 1279843200000000000,
            "count": 1
           },
           {
            "bin_start": 1279843200000000000,
            "bin_end": 1282746240000000000,
            "count": 1
           },
           {
            "bin_start": 1282746240000000000,
            "bin_end": 1285649280000000000,
            "count": 1
           },
           {
            "bin_start": 1285649280000000000,
            "bin_end": 1288552320000000000,
            "count": 1
           },
           {
            "bin_start": 1288552320000000000,
            "bin_end": 1291455360000000000,
            "count": 2
           },
           {
            "bin_start": 1291455360000000000,
            "bin_end": 1294358400000000000,
            "count": 1
           }
          ]
         }
        },
        {
         "name": "weekly_sales",
         "dtype": "float64",
         "stats": {
          "unique_count": 12,
          "nan_count": 0,
          "min": "15984.24",
          "max": "57258.43",
          "histogram": [
           {
            "bin_start": 15984.24,
            "bin_end": 20111.659,
            "count": 7
           },
           {
            "bin_start": 20111.659,
            "bin_end": 24239.078,
            "count": 2
           },
           {
            "bin_start": 24239.078,
            "bin_end": 28366.497,
            "count": 1
           },
           {
            "bin_start": 28366.497,
            "bin_end": 32493.915999999997,
            "count": 0
           },
           {
            "bin_start": 32493.915999999997,
            "bin_end": 36621.335,
            "count": 1
           },
           {
            "bin_start": 36621.335,
            "bin_end": 40748.754,
            "count": 0
           },
           {
            "bin_start": 40748.754,
            "bin_end": 44876.172999999995,
            "count": 0
           },
           {
            "bin_start": 44876.172999999995,
            "bin_end": 49003.592,
            "count": 0
           },
           {
            "bin_start": 49003.592,
            "bin_end": 53131.011,
            "count": 0
           },
           {
            "bin_start": 53131.011,
            "bin_end": 57258.43,
            "count": 1
           }
          ]
         }
        },
        {
         "name": "cum_weekly_sales",
         "dtype": "float64",
         "stats": {
          "unique_count": 12,
          "nan_count": 0,
          "min": "24924.5",
          "max": "281901.06",
          "histogram": [
           {
            "bin_start": 24924.5,
            "bin_end": 50622.156,
            "count": 2
           },
           {
            "bin_start": 50622.156,
            "bin_end": 76319.812,
            "count": 0
           },
           {
            "bin_start": 76319.812,
            "bin_end": 102017.468,
            "count": 0
           },
           {
            "bin_start": 102017.468,
            "bin_end": 127715.124,
            "count": 2
           },
           {
            "bin_start": 127715.124,
            "bin_end": 153412.78,
            "count": 1
           },
           {
            "bin_start": 153412.78,
            "bin_end": 179110.436,
            "count": 2
           },
           {
            "bin_start": 179110.436,
            "bin_end": 204808.092,
            "count": 1
           },
           {
            "bin_start": 204808.092,
            "bin_end": 230505.748,
            "count": 1
           },
           {
            "bin_start": 230505.748,
            "bin_end": 256203.40399999998,
            "count": 1
           },
           {
            "bin_start": 256203.40399999998,
            "bin_end": 281901.06,
            "count": 2
           }
          ]
         }
        },
        {
         "name": "cum_max_sales",
         "dtype": "float64",
         "stats": {
          "unique_count": 2,
          "nan_count": 0,
          "min": "24924.5",
          "max": "57258.43",
          "histogram": [
           {
            "bin_start": 24924.5,
            "bin_end": 28157.893,
            "count": 2
           },
           {
            "bin_start": 28157.893,
            "bin_end": 31391.286,
            "count": 0
           },
           {
            "bin_start": 31391.286,
            "bin_end": 34624.679000000004,
            "count": 0
           },
           {
            "bin_start": 34624.679000000004,
            "bin_end": 37858.072,
            "count": 0
           },
           {
            "bin_start": 37858.072,
            "bin_end": 41091.465,
            "count": 0
           },
           {
            "bin_start": 41091.465,
            "bin_end": 44324.858,
            "count": 0
           },
           {
            "bin_start": 44324.858,
            "bin_end": 47558.251000000004,
            "count": 0
           },
           {
            "bin_start": 47558.251000000004,
            "bin_end": 50791.644,
            "count": 0
           },
           {
            "bin_start": 50791.644,
            "bin_end": 54025.037,
            "count": 0
           },
           {
            "bin_start": 54025.037,
            "bin_end": 57258.43,
            "count": 10
           }
          ]
         }
        },
        {
         "name": "_deepnote_index_column",
         "dtype": "int64"
        }
       ],
       "rows": [
        {
         "date": "2010-02-05T00:00:00.000000",
         "weekly_sales": 24924.5,
         "cum_weekly_sales": 24924.5,
         "cum_max_sales": 24924.5,
         "_deepnote_index_column": 0
        },
        {
         "date": "2010-03-05T00:00:00.000000",
         "weekly_sales": 21827.9,
         "cum_weekly_sales": 46752.4,
         "cum_max_sales": 24924.5,
         "_deepnote_index_column": 1
        },
        {
         "date": "2010-04-02T00:00:00.000000",
         "weekly_sales": 57258.43,
         "cum_weekly_sales": 104010.83,
         "cum_max_sales": 57258.43,
         "_deepnote_index_column": 2
        },
        {
         "date": "2010-05-07T00:00:00.000000",
         "weekly_sales": 17413.94,
         "cum_weekly_sales": 121424.77,
         "cum_max_sales": 57258.43,
         "_deepnote_index_column": 3
        },
        {
         "date": "2010-06-04T00:00:00.000000",
         "weekly_sales": 17558.09,
         "cum_weekly_sales": 138982.86000000002,
         "cum_max_sales": 57258.43,
         "_deepnote_index_column": 4
        },
        {
         "date": "2010-07-02T00:00:00.000000",
         "weekly_sales": 16333.14,
         "cum_weekly_sales": 155316,
         "cum_max_sales": 57258.43,
         "_deepnote_index_column": 5
        },
        {
         "date": "2010-08-06T00:00:00.000000",
         "weekly_sales": 17508.41,
         "cum_weekly_sales": 172824.41,
         "cum_max_sales": 57258.43,
         "_deepnote_index_column": 6
        },
        {
         "date": "2010-09-03T00:00:00.000000",
         "weekly_sales": 16241.78,
         "cum_weekly_sales": 189066.19,
         "cum_max_sales": 57258.43,
         "_deepnote_index_column": 7
        },
        {
         "date": "2010-10-01T00:00:00.000000",
         "weekly_sales": 20094.19,
         "cum_weekly_sales": 209160.38,
         "cum_max_sales": 57258.43,
         "_deepnote_index_column": 8
        },
        {
         "date": "2010-11-05T00:00:00.000000",
         "weekly_sales": 34238.88,
         "cum_weekly_sales": 243399.26,
         "cum_max_sales": 57258.43,
         "_deepnote_index_column": 9
        }
       ]
      },
      "text/plain": "         date  weekly_sales  cum_weekly_sales  cum_max_sales\n0  2010-02-05      24924.50          24924.50       24924.50\n1  2010-03-05      21827.90          46752.40       24924.50\n2  2010-04-02      57258.43         104010.83       57258.43\n3  2010-05-07      17413.94         121424.77       57258.43\n4  2010-06-04      17558.09         138982.86       57258.43\n5  2010-07-02      16333.14         155316.00       57258.43\n6  2010-08-06      17508.41         172824.41       57258.43\n7  2010-09-03      16241.78         189066.19       57258.43\n8  2010-10-01      20094.19         209160.38       57258.43\n9  2010-11-05      34238.88         243399.26       57258.43\n10 2010-12-03      22517.56         265916.82       57258.43\n11 2011-01-07      15984.24         281901.06       57258.43",
      "text/html": "<div>\n<style scoped>\n    .dataframe tbody tr th:only-of-type {\n        vertical-align: middle;\n    }\n\n    .dataframe tbody tr th {\n        vertical-align: top;\n    }\n\n    .dataframe thead th {\n        text-align: right;\n    }\n</style>\n<table border=\"1\" class=\"dataframe\">\n  <thead>\n    <tr style=\"text-align: right;\">\n      <th></th>\n      <th>date</th>\n      <th>weekly_sales</th>\n      <th>cum_weekly_sales</th>\n      <th>cum_max_sales</th>\n    </tr>\n  </thead>\n  <tbody>\n    <tr>\n      <th>0</th>\n      <td>2010-02-05</td>\n      <td>24924.50</td>\n      <td>24924.50</td>\n      <td>24924.50</td>\n    </tr>\n    <tr>\n      <th>1</th>\n      <td>2010-03-05</td>\n      <td>21827.90</td>\n      <td>46752.40</td>\n      <td>24924.50</td>\n    </tr>\n    <tr>\n      <th>2</th>\n      <td>2010-04-02</td>\n      <td>57258.43</td>\n      <td>104010.83</td>\n      <td>57258.43</td>\n    </tr>\n    <tr>\n      <th>3</th>\n      <td>2010-05-07</td>\n      <td>17413.94</td>\n      <td>121424.77</td>\n      <td>57258.43</td>\n    </tr>\n    <tr>\n      <th>4</th>\n      <td>2010-06-04</td>\n      <td>17558.09</td>\n      <td>138982.86</td>\n      <td>57258.43</td>\n    </tr>\n    <tr>\n      <th>5</th>\n      <td>2010-07-02</td>\n      <td>16333.14</td>\n      <td>155316.00</td>\n      <td>57258.43</td>\n    </tr>\n    <tr>\n      <th>6</th>\n      <td>2010-08-06</td>\n      <td>17508.41</td>\n      <td>172824.41</td>\n      <td>57258.43</td>\n    </tr>\n    <tr>\n      <th>7</th>\n      <td>2010-09-03</td>\n      <td>16241.78</td>\n      <td>189066.19</td>\n      <td>57258.43</td>\n    </tr>\n    <tr>\n      <th>8</th>\n      <td>2010-10-01</td>\n      <td>20094.19</td>\n      <td>209160.38</td>\n      <td>57258.43</td>\n    </tr>\n    <tr>\n      <th>9</th>\n      <td>2010-11-05</td>\n      <td>34238.88</td>\n      <td>243399.26</td>\n      <td>57258.43</td>\n    </tr>\n    <tr>\n      <th>10</th>\n      <td>2010-12-03</td>\n      <td>22517.56</td>\n      <td>265916.82</td>\n      <td>57258.43</td>\n    </tr>\n    <tr>\n      <th>11</th>\n      <td>2011-01-07</td>\n      <td>15984.24</td>\n      <td>281901.06</td>\n      <td>57258.43</td>\n    </tr>\n  </tbody>\n</table>\n</div>"
     },
     "metadata": {}
    }
   ]
  },
  {
   "cell_type": "markdown",
   "source": "## Counting",
   "metadata": {
    "formattedRanges": [],
    "cell_id": "23be64ce6a0d4e5e9dfb48e4e8e58d12",
    "tags": [],
    "is_collapsed": false,
    "deepnote_cell_type": "text-cell-h2"
   }
  },
  {
   "cell_type": "markdown",
   "source": "### Dropping duplicates",
   "metadata": {
    "formattedRanges": [],
    "cell_id": "6e330443dd92463d9268405b278eb2b9",
    "tags": [],
    "is_collapsed": false,
    "deepnote_cell_type": "text-cell-h3"
   }
  },
  {
   "cell_type": "code",
   "metadata": {
    "cell_id": "6670f2465d4a458fb4d4f5def06fdafc",
    "tags": [],
    "deepnote_to_be_reexecuted": false,
    "source_hash": "7013997d",
    "execution_start": 1654120035195,
    "execution_millis": 15,
    "deepnote_cell_type": "code",
    "deepnote_cell_height": 444.078125
   },
   "source": "# Remove rows of sales with duplicate pairs of store and type and save as store_types and print the head\nstore_types = sales.drop_duplicates(['store', 'type'])\nstore_types.head()",
   "execution_count": null,
   "outputs": [
    {
     "output_type": "execute_result",
     "execution_count": 16,
     "data": {
      "application/vnd.deepnote.dataframe.v3+json": {
       "column_count": 9,
       "row_count": 5,
       "columns": [
        {
         "name": "store",
         "dtype": "int64",
         "stats": {
          "unique_count": 5,
          "nan_count": 0,
          "min": "1",
          "max": "10",
          "histogram": [
           {
            "bin_start": 1,
            "bin_end": 1.9,
            "count": 1
           },
           {
            "bin_start": 1.9,
            "bin_end": 2.8,
            "count": 1
           },
           {
            "bin_start": 2.8,
            "bin_end": 3.7,
            "count": 0
           },
           {
            "bin_start": 3.7,
            "bin_end": 4.6,
            "count": 1
           },
           {
            "bin_start": 4.6,
            "bin_end": 5.5,
            "count": 0
           },
           {
            "bin_start": 5.5,
            "bin_end": 6.4,
            "count": 1
           },
           {
            "bin_start": 6.4,
            "bin_end": 7.3,
            "count": 0
           },
           {
            "bin_start": 7.3,
            "bin_end": 8.2,
            "count": 0
           },
           {
            "bin_start": 8.2,
            "bin_end": 9.1,
            "count": 0
           },
           {
            "bin_start": 9.1,
            "bin_end": 10,
            "count": 1
           }
          ]
         }
        },
        {
         "name": "type",
         "dtype": "object",
         "stats": {
          "unique_count": 2,
          "nan_count": 0,
          "categories": [
           {
            "name": "A",
            "count": 4
           },
           {
            "name": "B",
            "count": 1
           }
          ]
         }
        },
        {
         "name": "department",
         "dtype": "int64",
         "stats": {
          "unique_count": 1,
          "nan_count": 0,
          "min": "1",
          "max": "1",
          "histogram": [
           {
            "bin_start": 0.5,
            "bin_end": 0.6,
            "count": 0
           },
           {
            "bin_start": 0.6,
            "bin_end": 0.7,
            "count": 0
           },
           {
            "bin_start": 0.7,
            "bin_end": 0.8,
            "count": 0
           },
           {
            "bin_start": 0.8,
            "bin_end": 0.9,
            "count": 0
           },
           {
            "bin_start": 0.9,
            "bin_end": 1,
            "count": 0
           },
           {
            "bin_start": 1,
            "bin_end": 1.1,
            "count": 5
           },
           {
            "bin_start": 1.1,
            "bin_end": 1.2000000000000002,
            "count": 0
           },
           {
            "bin_start": 1.2000000000000002,
            "bin_end": 1.3,
            "count": 0
           },
           {
            "bin_start": 1.3,
            "bin_end": 1.4,
            "count": 0
           },
           {
            "bin_start": 1.4,
            "bin_end": 1.5,
            "count": 0
           }
          ]
         }
        },
        {
         "name": "date",
         "dtype": "datetime64[ns]",
         "stats": {
          "unique_count": 1,
          "nan_count": 0,
          "min": "2010-02-05 00:00:00",
          "max": "2010-02-05 00:00:00",
          "histogram": null
         }
        },
        {
         "name": "weekly_sales",
         "dtype": "float64",
         "stats": {
          "unique_count": 5,
          "nan_count": 0,
          "min": "24924.5",
          "max": "40212.84",
          "histogram": [
           {
            "bin_start": 24924.5,
            "bin_end": 26453.334,
            "count": 2
           },
           {
            "bin_start": 26453.334,
            "bin_end": 27982.167999999998,
            "count": 0
           },
           {
            "bin_start": 27982.167999999998,
            "bin_end": 29511.002,
            "count": 0
           },
           {
            "bin_start": 29511.002,
            "bin_end": 31039.836,
            "count": 0
           },
           {
            "bin_start": 31039.836,
            "bin_end": 32568.67,
            "count": 0
           },
           {
            "bin_start": 32568.67,
            "bin_end": 34097.504,
            "count": 0
           },
           {
            "bin_start": 34097.504,
            "bin_end": 35626.337999999996,
            "count": 1
           },
           {
            "bin_start": 35626.337999999996,
            "bin_end": 37155.172,
            "count": 0
           },
           {
            "bin_start": 37155.172,
            "bin_end": 38684.005999999994,
            "count": 0
           },
           {
            "bin_start": 38684.005999999994,
            "bin_end": 40212.84,
            "count": 2
           }
          ]
         }
        },
        {
         "name": "is_holiday",
         "dtype": "bool",
         "stats": {
          "unique_count": 1,
          "nan_count": 0,
          "categories": [
           {
            "name": "False",
            "count": 5
           }
          ]
         }
        },
        {
         "name": "temperature_c",
         "dtype": "float64",
         "stats": {
          "unique_count": 5,
          "nan_count": 0,
          "min": "4.549999999999999",
          "max": "12.411111111111111",
          "histogram": [
           {
            "bin_start": 4.549999999999999,
            "bin_end": 5.33611111111111,
            "count": 2
           },
           {
            "bin_start": 5.33611111111111,
            "bin_end": 6.122222222222222,
            "count": 1
           },
           {
            "bin_start": 6.122222222222222,
            "bin_end": 6.908333333333332,
            "count": 1
           },
           {
            "bin_start": 6.908333333333332,
            "bin_end": 7.694444444444444,
            "count": 0
           },
           {
            "bin_start": 7.694444444444444,
            "bin_end": 8.480555555555554,
            "count": 0
           },
           {
            "bin_start": 8.480555555555554,
            "bin_end": 9.266666666666666,
            "count": 0
           },
           {
            "bin_start": 9.266666666666666,
            "bin_end": 10.052777777777777,
            "count": 0
           },
           {
            "bin_start": 10.052777777777777,
            "bin_end": 10.838888888888889,
            "count": 0
           },
           {
            "bin_start": 10.838888888888889,
            "bin_end": 11.625,
            "count": 0
           },
           {
            "bin_start": 11.625,
            "bin_end": 12.411111111111111,
            "count": 1
           }
          ]
         }
        },
        {
         "name": "fuel_price_usd_per_l",
         "dtype": "float64",
         "stats": {
          "unique_count": 3,
          "nan_count": 0,
          "min": "0.6794508388787476",
          "max": "0.7824779878533632",
          "histogram": [
           {
            "bin_start": 0.6794508388787476,
            "bin_end": 0.6897535537762092,
            "count": 4
           },
           {
            "bin_start": 0.6897535537762092,
            "bin_end": 0.7000562686736707,
            "count": 0
           },
           {
            "bin_start": 0.7000562686736707,
            "bin_end": 0.7103589835711323,
            "count": 0
           },
           {
            "bin_start": 0.7103589835711323,
            "bin_end": 0.7206616984685938,
            "count": 0
           },
           {
            "bin_start": 0.7206616984685938,
            "bin_end": 0.7309644133660553,
            "count": 0
           },
           {
            "bin_start": 0.7309644133660553,
            "bin_end": 0.7412671282635169,
            "count": 0
           },
           {
            "bin_start": 0.7412671282635169,
            "bin_end": 0.7515698431609785,
            "count": 0
           },
           {
            "bin_start": 0.7515698431609785,
            "bin_end": 0.7618725580584401,
            "count": 0
           },
           {
            "bin_start": 0.7618725580584401,
            "bin_end": 0.7721752729559016,
            "count": 0
           },
           {
            "bin_start": 0.7721752729559016,
            "bin_end": 0.7824779878533632,
            "count": 1
           }
          ]
         }
        },
        {
         "name": "unemployment",
         "dtype": "float64",
         "stats": {
          "unique_count": 5,
          "nan_count": 0,
          "min": "7.258999999999999",
          "max": "9.765",
          "histogram": [
           {
            "bin_start": 7.258999999999999,
            "bin_end": 7.509599999999999,
            "count": 1
           },
           {
            "bin_start": 7.509599999999999,
            "bin_end": 7.760199999999999,
            "count": 0
           },
           {
            "bin_start": 7.760199999999999,
            "bin_end": 8.0108,
            "count": 0
           },
           {
            "bin_start": 8.0108,
            "bin_end": 8.2614,
            "count": 1
           },
           {
            "bin_start": 8.2614,
            "bin_end": 8.512,
            "count": 1
           },
           {
            "bin_start": 8.512,
            "bin_end": 8.762599999999999,
            "count": 1
           },
           {
            "bin_start": 8.762599999999999,
            "bin_end": 9.0132,
            "count": 0
           },
           {
            "bin_start": 9.0132,
            "bin_end": 9.2638,
            "count": 0
           },
           {
            "bin_start": 9.2638,
            "bin_end": 9.5144,
            "count": 0
           },
           {
            "bin_start": 9.5144,
            "bin_end": 9.765,
            "count": 1
           }
          ]
         }
        },
        {
         "name": "_deepnote_index_column",
         "dtype": "int64"
        }
       ],
       "rows": [
        {
         "store": 1,
         "type": "A",
         "department": 1,
         "date": "2010-02-05T00:00:00.000000",
         "weekly_sales": 24924.5,
         "is_holiday": false,
         "temperature_c": 5.727777777777779,
         "fuel_price_usd_per_l": 0.6794508388787476,
         "unemployment": 8.106,
         "_deepnote_index_column": 0
        },
        {
         "store": 2,
         "type": "A",
         "department": 1,
         "date": "2010-02-05T00:00:00.000000",
         "weekly_sales": 35034.06,
         "is_holiday": false,
         "temperature_c": 4.549999999999999,
         "fuel_price_usd_per_l": 0.6794508388787476,
         "unemployment": 8.324,
         "_deepnote_index_column": 901
        },
        {
         "store": 4,
         "type": "A",
         "department": 1,
         "date": "2010-02-05T00:00:00.000000",
         "weekly_sales": 38724.42,
         "is_holiday": false,
         "temperature_c": 6.533333333333332,
         "fuel_price_usd_per_l": 0.6863193154770554,
         "unemployment": 8.623,
         "_deepnote_index_column": 1798
        },
        {
         "store": 6,
         "type": "A",
         "department": 1,
         "date": "2010-02-05T00:00:00.000000",
         "weekly_sales": 25619,
         "is_holiday": false,
         "temperature_c": 4.683333333333334,
         "fuel_price_usd_per_l": 0.6794508388787476,
         "unemployment": 7.258999999999999,
         "_deepnote_index_column": 2699
        },
        {
         "store": 10,
         "type": "B",
         "department": 1,
         "date": "2010-02-05T00:00:00.000000",
         "weekly_sales": 40212.84,
         "is_holiday": false,
         "temperature_c": 12.411111111111111,
         "fuel_price_usd_per_l": 0.7824779878533632,
         "unemployment": 9.765,
         "_deepnote_index_column": 3593
        }
       ]
      },
      "text/plain": "      store type  department       date  weekly_sales  is_holiday  \\\n0         1    A           1 2010-02-05      24924.50       False   \n901       2    A           1 2010-02-05      35034.06       False   \n1798      4    A           1 2010-02-05      38724.42       False   \n2699      6    A           1 2010-02-05      25619.00       False   \n3593     10    B           1 2010-02-05      40212.84       False   \n\n      temperature_c  fuel_price_usd_per_l  unemployment  \n0          5.727778              0.679451         8.106  \n901        4.550000              0.679451         8.324  \n1798       6.533333              0.686319         8.623  \n2699       4.683333              0.679451         7.259  \n3593      12.411111              0.782478         9.765  ",
      "text/html": "<div>\n<style scoped>\n    .dataframe tbody tr th:only-of-type {\n        vertical-align: middle;\n    }\n\n    .dataframe tbody tr th {\n        vertical-align: top;\n    }\n\n    .dataframe thead th {\n        text-align: right;\n    }\n</style>\n<table border=\"1\" class=\"dataframe\">\n  <thead>\n    <tr style=\"text-align: right;\">\n      <th></th>\n      <th>store</th>\n      <th>type</th>\n      <th>department</th>\n      <th>date</th>\n      <th>weekly_sales</th>\n      <th>is_holiday</th>\n      <th>temperature_c</th>\n      <th>fuel_price_usd_per_l</th>\n      <th>unemployment</th>\n    </tr>\n  </thead>\n  <tbody>\n    <tr>\n      <th>0</th>\n      <td>1</td>\n      <td>A</td>\n      <td>1</td>\n      <td>2010-02-05</td>\n      <td>24924.50</td>\n      <td>False</td>\n      <td>5.727778</td>\n      <td>0.679451</td>\n      <td>8.106</td>\n    </tr>\n    <tr>\n      <th>901</th>\n      <td>2</td>\n      <td>A</td>\n      <td>1</td>\n      <td>2010-02-05</td>\n      <td>35034.06</td>\n      <td>False</td>\n      <td>4.550000</td>\n      <td>0.679451</td>\n      <td>8.324</td>\n    </tr>\n    <tr>\n      <th>1798</th>\n      <td>4</td>\n      <td>A</td>\n      <td>1</td>\n      <td>2010-02-05</td>\n      <td>38724.42</td>\n      <td>False</td>\n      <td>6.533333</td>\n      <td>0.686319</td>\n      <td>8.623</td>\n    </tr>\n    <tr>\n      <th>2699</th>\n      <td>6</td>\n      <td>A</td>\n      <td>1</td>\n      <td>2010-02-05</td>\n      <td>25619.00</td>\n      <td>False</td>\n      <td>4.683333</td>\n      <td>0.679451</td>\n      <td>7.259</td>\n    </tr>\n    <tr>\n      <th>3593</th>\n      <td>10</td>\n      <td>B</td>\n      <td>1</td>\n      <td>2010-02-05</td>\n      <td>40212.84</td>\n      <td>False</td>\n      <td>12.411111</td>\n      <td>0.782478</td>\n      <td>9.765</td>\n    </tr>\n  </tbody>\n</table>\n</div>"
     },
     "metadata": {}
    }
   ]
  },
  {
   "cell_type": "code",
   "metadata": {
    "cell_id": "5ea475f5fe28485db69ead9708e8deee",
    "tags": [],
    "deepnote_to_be_reexecuted": false,
    "source_hash": "42d2efae",
    "execution_start": 1654120035213,
    "execution_millis": 37,
    "deepnote_cell_type": "code",
    "deepnote_cell_height": 444.078125
   },
   "source": "# Remove rows of sales with duplicate pairs of store and department and save as store_depts and print the head\nstore_depts = sales.drop_duplicates(['store', 'department'])\nstore_depts.head()",
   "execution_count": null,
   "outputs": [
    {
     "output_type": "execute_result",
     "execution_count": 17,
     "data": {
      "application/vnd.deepnote.dataframe.v3+json": {
       "column_count": 9,
       "row_count": 5,
       "columns": [
        {
         "name": "store",
         "dtype": "int64",
         "stats": {
          "unique_count": 1,
          "nan_count": 0,
          "min": "1",
          "max": "1",
          "histogram": [
           {
            "bin_start": 0.5,
            "bin_end": 0.6,
            "count": 0
           },
           {
            "bin_start": 0.6,
            "bin_end": 0.7,
            "count": 0
           },
           {
            "bin_start": 0.7,
            "bin_end": 0.8,
            "count": 0
           },
           {
            "bin_start": 0.8,
            "bin_end": 0.9,
            "count": 0
           },
           {
            "bin_start": 0.9,
            "bin_end": 1,
            "count": 0
           },
           {
            "bin_start": 1,
            "bin_end": 1.1,
            "count": 5
           },
           {
            "bin_start": 1.1,
            "bin_end": 1.2000000000000002,
            "count": 0
           },
           {
            "bin_start": 1.2000000000000002,
            "bin_end": 1.3,
            "count": 0
           },
           {
            "bin_start": 1.3,
            "bin_end": 1.4,
            "count": 0
           },
           {
            "bin_start": 1.4,
            "bin_end": 1.5,
            "count": 0
           }
          ]
         }
        },
        {
         "name": "type",
         "dtype": "object",
         "stats": {
          "unique_count": 1,
          "nan_count": 0,
          "categories": [
           {
            "name": "A",
            "count": 5
           }
          ]
         }
        },
        {
         "name": "department",
         "dtype": "int64",
         "stats": {
          "unique_count": 5,
          "nan_count": 0,
          "min": "1",
          "max": "5",
          "histogram": [
           {
            "bin_start": 1,
            "bin_end": 1.4,
            "count": 1
           },
           {
            "bin_start": 1.4,
            "bin_end": 1.8,
            "count": 0
           },
           {
            "bin_start": 1.8,
            "bin_end": 2.2,
            "count": 1
           },
           {
            "bin_start": 2.2,
            "bin_end": 2.6,
            "count": 0
           },
           {
            "bin_start": 2.6,
            "bin_end": 3,
            "count": 0
           },
           {
            "bin_start": 3,
            "bin_end": 3.4000000000000004,
            "count": 1
           },
           {
            "bin_start": 3.4000000000000004,
            "bin_end": 3.8000000000000003,
            "count": 0
           },
           {
            "bin_start": 3.8000000000000003,
            "bin_end": 4.2,
            "count": 1
           },
           {
            "bin_start": 4.2,
            "bin_end": 4.6,
            "count": 0
           },
           {
            "bin_start": 4.6,
            "bin_end": 5,
            "count": 1
           }
          ]
         }
        },
        {
         "name": "date",
         "dtype": "datetime64[ns]",
         "stats": {
          "unique_count": 1,
          "nan_count": 0,
          "min": "2010-02-05 00:00:00",
          "max": "2010-02-05 00:00:00",
          "histogram": null
         }
        },
        {
         "name": "weekly_sales",
         "dtype": "float64",
         "stats": {
          "unique_count": 5,
          "nan_count": 0,
          "min": "13740.12",
          "max": "50605.27",
          "histogram": [
           {
            "bin_start": 13740.12,
            "bin_end": 17426.635000000002,
            "count": 1
           },
           {
            "bin_start": 17426.635000000002,
            "bin_end": 21113.15,
            "count": 0
           },
           {
            "bin_start": 21113.15,
            "bin_end": 24799.665,
            "count": 0
           },
           {
            "bin_start": 24799.665,
            "bin_end": 28486.18,
            "count": 1
           },
           {
            "bin_start": 28486.18,
            "bin_end": 32172.695,
            "count": 0
           },
           {
            "bin_start": 32172.695,
            "bin_end": 35859.21,
            "count": 1
           },
           {
            "bin_start": 35859.21,
            "bin_end": 39545.725,
            "count": 0
           },
           {
            "bin_start": 39545.725,
            "bin_end": 43232.24,
            "count": 1
           },
           {
            "bin_start": 43232.24,
            "bin_end": 46918.755,
            "count": 0
           },
           {
            "bin_start": 46918.755,
            "bin_end": 50605.27,
            "count": 1
           }
          ]
         }
        },
        {
         "name": "is_holiday",
         "dtype": "bool",
         "stats": {
          "unique_count": 1,
          "nan_count": 0,
          "categories": [
           {
            "name": "False",
            "count": 5
           }
          ]
         }
        },
        {
         "name": "temperature_c",
         "dtype": "float64",
         "stats": {
          "unique_count": 1,
          "nan_count": 0,
          "min": "5.727777777777779",
          "max": "5.727777777777779",
          "histogram": [
           {
            "bin_start": 5.227777777777779,
            "bin_end": 5.327777777777778,
            "count": 0
           },
           {
            "bin_start": 5.327777777777778,
            "bin_end": 5.427777777777779,
            "count": 0
           },
           {
            "bin_start": 5.427777777777779,
            "bin_end": 5.527777777777779,
            "count": 0
           },
           {
            "bin_start": 5.527777777777779,
            "bin_end": 5.627777777777779,
            "count": 0
           },
           {
            "bin_start": 5.627777777777779,
            "bin_end": 5.727777777777779,
            "count": 0
           },
           {
            "bin_start": 5.727777777777779,
            "bin_end": 5.827777777777779,
            "count": 5
           },
           {
            "bin_start": 5.827777777777779,
            "bin_end": 5.927777777777779,
            "count": 0
           },
           {
            "bin_start": 5.927777777777779,
            "bin_end": 6.027777777777779,
            "count": 0
           },
           {
            "bin_start": 6.027777777777779,
            "bin_end": 6.127777777777779,
            "count": 0
           },
           {
            "bin_start": 6.127777777777779,
            "bin_end": 6.227777777777779,
            "count": 0
           }
          ]
         }
        },
        {
         "name": "fuel_price_usd_per_l",
         "dtype": "float64",
         "stats": {
          "unique_count": 1,
          "nan_count": 0,
          "min": "0.6794508388787476",
          "max": "0.6794508388787476",
          "histogram": [
           {
            "bin_start": 0.17945083887874758,
            "bin_end": 0.27945083887874755,
            "count": 0
           },
           {
            "bin_start": 0.27945083887874755,
            "bin_end": 0.37945083887874753,
            "count": 0
           },
           {
            "bin_start": 0.37945083887874753,
            "bin_end": 0.47945083887874757,
            "count": 0
           },
           {
            "bin_start": 0.47945083887874757,
            "bin_end": 0.5794508388787476,
            "count": 0
           },
           {
            "bin_start": 0.5794508388787476,
            "bin_end": 0.6794508388787475,
            "count": 0
           },
           {
            "bin_start": 0.6794508388787475,
            "bin_end": 0.7794508388787476,
            "count": 5
           },
           {
            "bin_start": 0.7794508388787476,
            "bin_end": 0.8794508388787475,
            "count": 0
           },
           {
            "bin_start": 0.8794508388787475,
            "bin_end": 0.9794508388787475,
            "count": 0
           },
           {
            "bin_start": 0.9794508388787475,
            "bin_end": 1.0794508388787474,
            "count": 0
           },
           {
            "bin_start": 1.0794508388787474,
            "bin_end": 1.1794508388787475,
            "count": 0
           }
          ]
         }
        },
        {
         "name": "unemployment",
         "dtype": "float64",
         "stats": {
          "unique_count": 1,
          "nan_count": 0,
          "min": "8.106",
          "max": "8.106",
          "histogram": [
           {
            "bin_start": 7.606,
            "bin_end": 7.7059999999999995,
            "count": 0
           },
           {
            "bin_start": 7.7059999999999995,
            "bin_end": 7.806,
            "count": 0
           },
           {
            "bin_start": 7.806,
            "bin_end": 7.906,
            "count": 0
           },
           {
            "bin_start": 7.906,
            "bin_end": 8.006,
            "count": 0
           },
           {
            "bin_start": 8.006,
            "bin_end": 8.106,
            "count": 0
           },
           {
            "bin_start": 8.106,
            "bin_end": 8.206,
            "count": 5
           },
           {
            "bin_start": 8.206,
            "bin_end": 8.306,
            "count": 0
           },
           {
            "bin_start": 8.306,
            "bin_end": 8.406,
            "count": 0
           },
           {
            "bin_start": 8.406,
            "bin_end": 8.506,
            "count": 0
           },
           {
            "bin_start": 8.506,
            "bin_end": 8.606,
            "count": 0
           }
          ]
         }
        },
        {
         "name": "_deepnote_index_column",
         "dtype": "int64"
        }
       ],
       "rows": [
        {
         "store": 1,
         "type": "A",
         "department": 1,
         "date": "2010-02-05T00:00:00.000000",
         "weekly_sales": 24924.5,
         "is_holiday": false,
         "temperature_c": 5.727777777777779,
         "fuel_price_usd_per_l": 0.6794508388787476,
         "unemployment": 8.106,
         "_deepnote_index_column": 0
        },
        {
         "store": 1,
         "type": "A",
         "department": 2,
         "date": "2010-02-05T00:00:00.000000",
         "weekly_sales": 50605.27,
         "is_holiday": false,
         "temperature_c": 5.727777777777779,
         "fuel_price_usd_per_l": 0.6794508388787476,
         "unemployment": 8.106,
         "_deepnote_index_column": 12
        },
        {
         "store": 1,
         "type": "A",
         "department": 3,
         "date": "2010-02-05T00:00:00.000000",
         "weekly_sales": 13740.12,
         "is_holiday": false,
         "temperature_c": 5.727777777777779,
         "fuel_price_usd_per_l": 0.6794508388787476,
         "unemployment": 8.106,
         "_deepnote_index_column": 24
        },
        {
         "store": 1,
         "type": "A",
         "department": 4,
         "date": "2010-02-05T00:00:00.000000",
         "weekly_sales": 39954.04,
         "is_holiday": false,
         "temperature_c": 5.727777777777779,
         "fuel_price_usd_per_l": 0.6794508388787476,
         "unemployment": 8.106,
         "_deepnote_index_column": 36
        },
        {
         "store": 1,
         "type": "A",
         "department": 5,
         "date": "2010-02-05T00:00:00.000000",
         "weekly_sales": 32229.38,
         "is_holiday": false,
         "temperature_c": 5.727777777777779,
         "fuel_price_usd_per_l": 0.6794508388787476,
         "unemployment": 8.106,
         "_deepnote_index_column": 48
        }
       ]
      },
      "text/plain": "    store type  department       date  weekly_sales  is_holiday  \\\n0       1    A           1 2010-02-05      24924.50       False   \n12      1    A           2 2010-02-05      50605.27       False   \n24      1    A           3 2010-02-05      13740.12       False   \n36      1    A           4 2010-02-05      39954.04       False   \n48      1    A           5 2010-02-05      32229.38       False   \n\n    temperature_c  fuel_price_usd_per_l  unemployment  \n0        5.727778              0.679451         8.106  \n12       5.727778              0.679451         8.106  \n24       5.727778              0.679451         8.106  \n36       5.727778              0.679451         8.106  \n48       5.727778              0.679451         8.106  ",
      "text/html": "<div>\n<style scoped>\n    .dataframe tbody tr th:only-of-type {\n        vertical-align: middle;\n    }\n\n    .dataframe tbody tr th {\n        vertical-align: top;\n    }\n\n    .dataframe thead th {\n        text-align: right;\n    }\n</style>\n<table border=\"1\" class=\"dataframe\">\n  <thead>\n    <tr style=\"text-align: right;\">\n      <th></th>\n      <th>store</th>\n      <th>type</th>\n      <th>department</th>\n      <th>date</th>\n      <th>weekly_sales</th>\n      <th>is_holiday</th>\n      <th>temperature_c</th>\n      <th>fuel_price_usd_per_l</th>\n      <th>unemployment</th>\n    </tr>\n  </thead>\n  <tbody>\n    <tr>\n      <th>0</th>\n      <td>1</td>\n      <td>A</td>\n      <td>1</td>\n      <td>2010-02-05</td>\n      <td>24924.50</td>\n      <td>False</td>\n      <td>5.727778</td>\n      <td>0.679451</td>\n      <td>8.106</td>\n    </tr>\n    <tr>\n      <th>12</th>\n      <td>1</td>\n      <td>A</td>\n      <td>2</td>\n      <td>2010-02-05</td>\n      <td>50605.27</td>\n      <td>False</td>\n      <td>5.727778</td>\n      <td>0.679451</td>\n      <td>8.106</td>\n    </tr>\n    <tr>\n      <th>24</th>\n      <td>1</td>\n      <td>A</td>\n      <td>3</td>\n      <td>2010-02-05</td>\n      <td>13740.12</td>\n      <td>False</td>\n      <td>5.727778</td>\n      <td>0.679451</td>\n      <td>8.106</td>\n    </tr>\n    <tr>\n      <th>36</th>\n      <td>1</td>\n      <td>A</td>\n      <td>4</td>\n      <td>2010-02-05</td>\n      <td>39954.04</td>\n      <td>False</td>\n      <td>5.727778</td>\n      <td>0.679451</td>\n      <td>8.106</td>\n    </tr>\n    <tr>\n      <th>48</th>\n      <td>1</td>\n      <td>A</td>\n      <td>5</td>\n      <td>2010-02-05</td>\n      <td>32229.38</td>\n      <td>False</td>\n      <td>5.727778</td>\n      <td>0.679451</td>\n      <td>8.106</td>\n    </tr>\n  </tbody>\n</table>\n</div>"
     },
     "metadata": {}
    }
   ]
  },
  {
   "cell_type": "code",
   "metadata": {
    "cell_id": "381d59af0094471590a7006150091c70",
    "tags": [],
    "deepnote_to_be_reexecuted": false,
    "source_hash": "e14c6a11",
    "execution_start": 1654120035288,
    "execution_millis": 1816201,
    "deepnote_cell_type": "code",
    "deepnote_cell_height": 99
   },
   "source": "# Subset the rows that are holiday weeks using the is_holiday column, and drop the duplicate dates, saving as holiday_dates\nholiday_dates = sales[sales['is_holiday']].drop_duplicates('date')",
   "execution_count": null,
   "outputs": []
  },
  {
   "cell_type": "code",
   "metadata": {
    "cell_id": "8d8bab4cfa2d4401992de51ef00d21bd",
    "tags": [],
    "deepnote_to_be_reexecuted": false,
    "source_hash": "1d231c06",
    "execution_start": 1654120035288,
    "execution_millis": 3,
    "deepnote_cell_type": "code",
    "deepnote_cell_height": 270.515625,
    "deepnote_output_heights": [
     155.53125
    ]
   },
   "source": "# Select the date column of holiday_dates, and print\nholiday_dates['date']",
   "execution_count": null,
   "outputs": [
    {
     "output_type": "execute_result",
     "execution_count": 19,
     "data": {
      "text/plain": "498    2010-09-10\n691    2011-11-25\n2315   2010-02-12\n6735   2012-09-07\n6810   2010-12-31\n6815   2012-02-10\n6820   2011-09-09\nName: date, dtype: datetime64[ns]"
     },
     "metadata": {}
    }
   ]
  },
  {
   "cell_type": "markdown",
   "source": "### Counting categorical variables",
   "metadata": {
    "formattedRanges": [],
    "cell_id": "4fc941533b2348bab9f60238f3b35f94",
    "tags": [],
    "is_collapsed": false,
    "deepnote_cell_type": "text-cell-h3"
   }
  },
  {
   "cell_type": "code",
   "metadata": {
    "cell_id": "6980e6e8d3f740269a5414fb33471b83",
    "tags": [],
    "deepnote_to_be_reexecuted": false,
    "source_hash": "d5005406",
    "execution_start": 1654120035289,
    "execution_millis": 2,
    "deepnote_cell_type": "code",
    "deepnote_cell_height": 192.5625,
    "deepnote_output_heights": [
     59.578125
    ]
   },
   "source": "# Count the number of stores of each store type in store_types\nstore_counts = store_types['type'].value_counts()\nstore_counts",
   "execution_count": null,
   "outputs": [
    {
     "output_type": "execute_result",
     "execution_count": 20,
     "data": {
      "text/plain": "A    11\nB     1\nName: type, dtype: int64"
     },
     "metadata": {}
    }
   ]
  },
  {
   "cell_type": "code",
   "metadata": {
    "cell_id": "8845a180f4b54c9aa00106aa3d48a5e2",
    "tags": [],
    "deepnote_to_be_reexecuted": false,
    "source_hash": "e20d4c51",
    "execution_start": 1654120035301,
    "execution_millis": 4,
    "deepnote_cell_type": "code",
    "deepnote_cell_height": 192.5625,
    "deepnote_output_heights": [
     59.578125
    ]
   },
   "source": "# Count the proportion of stores of each store type in store_types\nstore_props = store_types['type'].value_counts(normalize=True)\nstore_props",
   "execution_count": null,
   "outputs": [
    {
     "output_type": "execute_result",
     "execution_count": 21,
     "data": {
      "text/plain": "A    0.916667\nB    0.083333\nName: type, dtype: float64"
     },
     "metadata": {}
    }
   ]
  },
  {
   "cell_type": "code",
   "metadata": {
    "cell_id": "276948a7e3d54c3eb57369bd1777ec31",
    "tags": [],
    "deepnote_to_be_reexecuted": false,
    "source_hash": "8f43d4e3",
    "execution_start": 1654120035302,
    "execution_millis": 9,
    "deepnote_cell_type": "code",
    "deepnote_cell_height": 365.296875,
    "deepnote_output_heights": [
     232.3125
    ]
   },
   "source": "# Count the number of different departments in store_depts, sorting the counts in descending order\ndept_counts_sorted = store_depts['department'].value_counts(sort=True)\ndept_counts_sorted",
   "execution_count": null,
   "outputs": [
    {
     "output_type": "execute_result",
     "execution_count": 22,
     "data": {
      "text/plain": "1     12\n55    12\n72    12\n71    12\n67    12\n      ..\n37    10\n48     8\n50     6\n39     4\n43     2\nName: department, Length: 80, dtype: int64"
     },
     "metadata": {}
    }
   ]
  },
  {
   "cell_type": "code",
   "metadata": {
    "cell_id": "7fb4d43053894c879b161828f3ee6319",
    "tags": [],
    "deepnote_to_be_reexecuted": false,
    "source_hash": "e2681ae8",
    "execution_start": 1654120035311,
    "execution_millis": 7,
    "deepnote_cell_type": "code",
    "deepnote_cell_height": 365.296875,
    "deepnote_output_heights": [
     232.3125
    ]
   },
   "source": "# Count the proportion of different departments in store_depts, sorting the proportions in descending order\ndept_counts_sorted = store_depts['department'].value_counts(normalize=True, sort=True)\ndept_counts_sorted",
   "execution_count": null,
   "outputs": [
    {
     "output_type": "execute_result",
     "execution_count": 23,
     "data": {
      "text/plain": "1     0.012917\n55    0.012917\n72    0.012917\n71    0.012917\n67    0.012917\n        ...   \n37    0.010764\n48    0.008611\n50    0.006459\n39    0.004306\n43    0.002153\nName: department, Length: 80, dtype: float64"
     },
     "metadata": {}
    }
   ]
  },
  {
   "cell_type": "markdown",
   "source": "## Grouped summary statistics",
   "metadata": {
    "formattedRanges": [],
    "cell_id": "796513e212a948cb971584494748d6f6",
    "tags": [],
    "is_collapsed": false,
    "deepnote_cell_type": "text-cell-h2"
   }
  },
  {
   "cell_type": "markdown",
   "source": "### What percent of sales occurred at each store type?",
   "metadata": {
    "formattedRanges": [],
    "cell_id": "49e05264753143daa8bd5f20378958eb",
    "tags": [],
    "is_collapsed": false,
    "deepnote_cell_type": "text-cell-h3"
   }
  },
  {
   "cell_type": "code",
   "metadata": {
    "cell_id": "abbc5118630444669d1b5783329c607f",
    "tags": [],
    "deepnote_to_be_reexecuted": false,
    "source_hash": "cf63197d",
    "execution_start": 1654120035318,
    "execution_millis": 9,
    "deepnote_cell_type": "code",
    "deepnote_cell_height": 154.171875,
    "deepnote_output_heights": [
     21.1875
    ]
   },
   "source": "# Calculate the total weekly_sales over the whole dataset\nsales_all = sales['weekly_sales'].sum()\nsales_all",
   "execution_count": null,
   "outputs": [
    {
     "output_type": "execute_result",
     "execution_count": 24,
     "data": {
      "text/plain": "256894718.89999998"
     },
     "metadata": {}
    }
   ]
  },
  {
   "cell_type": "code",
   "metadata": {
    "cell_id": "1de8bb27dfc1426fb10d9f6cb2e182d0",
    "tags": [],
    "deepnote_to_be_reexecuted": false,
    "source_hash": "e386e63d",
    "execution_start": 1654120035328,
    "execution_millis": 6,
    "deepnote_cell_type": "code",
    "deepnote_cell_height": 154.171875,
    "deepnote_output_heights": [
     21.1875
    ]
   },
   "source": "# Subset for type \"A\" stores, and calculate their total weekly sales\nsales_A = sales[sales['type'] == 'A'].weekly_sales.sum()\nsales_A",
   "execution_count": null,
   "outputs": [
    {
     "output_type": "execute_result",
     "execution_count": 25,
     "data": {
      "text/plain": "233716315.01"
     },
     "metadata": {}
    }
   ]
  },
  {
   "cell_type": "code",
   "metadata": {
    "cell_id": "5c8896f9ac6e477d91fe68fe19367c03",
    "tags": [],
    "deepnote_to_be_reexecuted": false,
    "source_hash": "d701999",
    "execution_start": 1654120035337,
    "execution_millis": 9,
    "deepnote_cell_type": "code",
    "deepnote_cell_height": 154.171875,
    "deepnote_output_heights": [
     21.1875
    ]
   },
   "source": "# Do the same for type \"B\" and type \"C\" stores\nsales_B = sales[sales['type'] == 'B'].weekly_sales.sum()\nsales_B",
   "execution_count": null,
   "outputs": [
    {
     "output_type": "execute_result",
     "execution_count": 26,
     "data": {
      "text/plain": "23178403.89"
     },
     "metadata": {}
    }
   ]
  },
  {
   "cell_type": "code",
   "metadata": {
    "cell_id": "9562b807445c40ac9f90b4262feae233",
    "tags": [],
    "deepnote_to_be_reexecuted": false,
    "source_hash": "c64abb71",
    "execution_start": 1654120035353,
    "execution_millis": 4,
    "deepnote_cell_type": "code",
    "deepnote_cell_height": 136.171875,
    "deepnote_output_heights": [
     21.1875
    ]
   },
   "source": "sales_C = sales[sales['type'] == 'C'].weekly_sales.sum()\nsales_C",
   "execution_count": null,
   "outputs": [
    {
     "output_type": "execute_result",
     "execution_count": 27,
     "data": {
      "text/plain": "0.0"
     },
     "metadata": {}
    }
   ]
  },
  {
   "cell_type": "code",
   "metadata": {
    "cell_id": "3dddf8b74d624279850f04a38f795b2f",
    "tags": [],
    "deepnote_to_be_reexecuted": false,
    "source_hash": "8d473cba",
    "execution_start": 1654120035361,
    "execution_millis": 4,
    "deepnote_cell_type": "code",
    "deepnote_cell_height": 154.171875,
    "deepnote_output_heights": [
     21.1875
    ]
   },
   "source": "# Combine the A/B/C results into a list, and divide by sales_all to get the proportion of sales by type\nsales_propn_by_type = [sales_A, sales_B, sales_C] / sales_all\nsales_propn_by_type",
   "execution_count": null,
   "outputs": [
    {
     "output_type": "execute_result",
     "execution_count": 28,
     "data": {
      "text/plain": "array([0.9097747, 0.0902253, 0.       ])"
     },
     "metadata": {}
    }
   ]
  },
  {
   "cell_type": "markdown",
   "source": "### Calculations with .groupby()",
   "metadata": {
    "formattedRanges": [],
    "cell_id": "9f35f19df0644225ab76ad7ec709806e",
    "tags": [],
    "is_collapsed": false,
    "deepnote_cell_type": "text-cell-h3"
   }
  },
  {
   "cell_type": "code",
   "metadata": {
    "cell_id": "9632f3fbf82d4435a7379c53a26c1a12",
    "tags": [],
    "deepnote_to_be_reexecuted": false,
    "source_hash": "732514ac",
    "execution_start": 1654120035370,
    "execution_millis": 5,
    "deepnote_cell_type": "code",
    "deepnote_cell_height": 211.75,
    "deepnote_output_heights": [
     78.765625
    ]
   },
   "source": "# Group sales by \"type\", take the sum of \"weekly_sales\", and store as sales_by_type\nsales_by_type = sales.groupby('type').weekly_sales.sum()\nsales_by_type",
   "execution_count": null,
   "outputs": [
    {
     "output_type": "execute_result",
     "execution_count": 29,
     "data": {
      "text/plain": "type\nA    2.337163e+08\nB    2.317840e+07\nName: weekly_sales, dtype: float64"
     },
     "metadata": {}
    }
   ]
  },
  {
   "cell_type": "code",
   "metadata": {
    "cell_id": "e1948df507e448af96a931314b888ac7",
    "tags": [],
    "deepnote_to_be_reexecuted": false,
    "source_hash": "7079a8e6",
    "execution_start": 1654120035379,
    "execution_millis": 4,
    "deepnote_cell_type": "code",
    "deepnote_cell_height": 211.75,
    "deepnote_output_heights": [
     78.765625
    ]
   },
   "source": "# Calculate the proportion of sales at each store type by dividing by the sum of sales_by_type\nsales_propn_by_type = sales_by_type / sales_by_type.sum()\nsales_propn_by_type",
   "execution_count": null,
   "outputs": [
    {
     "output_type": "execute_result",
     "execution_count": 30,
     "data": {
      "text/plain": "type\nA    0.909775\nB    0.090225\nName: weekly_sales, dtype: float64"
     },
     "metadata": {}
    }
   ]
  },
  {
   "cell_type": "code",
   "metadata": {
    "cell_id": "ef1c4f8b53b149b9b99933db6d1884aa",
    "tags": [],
    "deepnote_to_be_reexecuted": false,
    "source_hash": "bd0abafa",
    "execution_start": 1654120035385,
    "execution_millis": 8,
    "deepnote_cell_type": "code",
    "deepnote_cell_height": 250.140625,
    "deepnote_output_heights": [
     117.15625
    ]
   },
   "source": "# Group sales by \"type\" and \"is_holiday\", take the sum of weekly_sales, and store as sales_by_type_is_holiday\nsales_by_type_is_holiday = sales.groupby(['type', 'is_holiday']).weekly_sales.sum()\nsales_by_type_is_holiday",
   "execution_count": null,
   "outputs": [
    {
     "output_type": "execute_result",
     "execution_count": 31,
     "data": {
      "text/plain": "type  is_holiday\nA     False         2.336927e+08\n      True          2.360181e+04\nB     False         2.317678e+07\n      True          1.621410e+03\nName: weekly_sales, dtype: float64"
     },
     "metadata": {}
    }
   ]
  },
  {
   "cell_type": "markdown",
   "source": "### Multiple grouped summaries",
   "metadata": {
    "formattedRanges": [],
    "cell_id": "5cb1427e24b14a3aa29fa4eadfecaa43",
    "tags": [],
    "is_collapsed": false,
    "deepnote_cell_type": "text-cell-h3"
   }
  },
  {
   "cell_type": "code",
   "metadata": {
    "cell_id": "e5aef68744124a09a0bb3b319eeb5db0",
    "tags": [],
    "deepnote_to_be_reexecuted": false,
    "source_hash": "5f7a2a90",
    "execution_start": 1654120035396,
    "execution_millis": 22,
    "deepnote_cell_type": "code",
    "deepnote_cell_height": 380
   },
   "source": "# Import numpy with the alias np.\n# Get the min, max, mean, and median of weekly_sales for each store type using .groupby() and .agg() \n# Store this as sales_stats\n\nimport numpy as np\nsales_stats = sales.groupby('type').weekly_sales.agg([np.min, np.max, np.mean, np.median])\nsales_stats",
   "execution_count": null,
   "outputs": [
    {
     "output_type": "execute_result",
     "execution_count": 32,
     "data": {
      "application/vnd.deepnote.dataframe.v3+json": {
       "column_count": 4,
       "row_count": 2,
       "columns": [
        {
         "name": "amin",
         "dtype": "float64",
         "stats": {
          "unique_count": 2,
          "nan_count": 0,
          "min": "-1098.0",
          "max": "-798.0",
          "histogram": [
           {
            "bin_start": -1098,
            "bin_end": -1068,
            "count": 1
           },
           {
            "bin_start": -1068,
            "bin_end": -1038,
            "count": 0
           },
           {
            "bin_start": -1038,
            "bin_end": -1008,
            "count": 0
           },
           {
            "bin_start": -1008,
            "bin_end": -978,
            "count": 0
           },
           {
            "bin_start": -978,
            "bin_end": -948,
            "count": 0
           },
           {
            "bin_start": -948,
            "bin_end": -918,
            "count": 0
           },
           {
            "bin_start": -918,
            "bin_end": -888,
            "count": 0
           },
           {
            "bin_start": -888,
            "bin_end": -858,
            "count": 0
           },
           {
            "bin_start": -858,
            "bin_end": -828,
            "count": 0
           },
           {
            "bin_start": -828,
            "bin_end": -798,
            "count": 1
           }
          ]
         }
        },
        {
         "name": "amax",
         "dtype": "float64",
         "stats": {
          "unique_count": 2,
          "nan_count": 0,
          "min": "232558.51",
          "max": "293966.05",
          "histogram": [
           {
            "bin_start": 232558.51,
            "bin_end": 238699.264,
            "count": 1
           },
           {
            "bin_start": 238699.264,
            "bin_end": 244840.018,
            "count": 0
           },
           {
            "bin_start": 244840.018,
            "bin_end": 250980.772,
            "count": 0
           },
           {
            "bin_start": 250980.772,
            "bin_end": 257121.526,
            "count": 0
           },
           {
            "bin_start": 257121.526,
            "bin_end": 263262.28,
            "count": 0
           },
           {
            "bin_start": 263262.28,
            "bin_end": 269403.034,
            "count": 0
           },
           {
            "bin_start": 269403.034,
            "bin_end": 275543.788,
            "count": 0
           },
           {
            "bin_start": 275543.788,
            "bin_end": 281684.542,
            "count": 0
           },
           {
            "bin_start": 281684.542,
            "bin_end": 287825.296,
            "count": 0
           },
           {
            "bin_start": 287825.296,
            "bin_end": 293966.05,
            "count": 1
           }
          ]
         }
        },
        {
         "name": "mean",
         "dtype": "float64",
         "stats": {
          "unique_count": 2,
          "nan_count": 0,
          "min": "23674.667241693696",
          "max": "25696.67837028826",
          "histogram": [
           {
            "bin_start": 23674.667241693696,
            "bin_end": 23876.868354553153,
            "count": 1
           },
           {
            "bin_start": 23876.868354553153,
            "bin_end": 24079.06946741261,
            "count": 0
           },
           {
            "bin_start": 24079.06946741261,
            "bin_end": 24281.270580272067,
            "count": 0
           },
           {
            "bin_start": 24281.270580272067,
            "bin_end": 24483.471693131523,
            "count": 0
           },
           {
            "bin_start": 24483.471693131523,
            "bin_end": 24685.67280599098,
            "count": 0
           },
           {
            "bin_start": 24685.67280599098,
            "bin_end": 24887.873918850433,
            "count": 0
           },
           {
            "bin_start": 24887.873918850433,
            "bin_end": 25090.07503170989,
            "count": 0
           },
           {
            "bin_start": 25090.07503170989,
            "bin_end": 25292.276144569347,
            "count": 0
           },
           {
            "bin_start": 25292.276144569347,
            "bin_end": 25494.477257428804,
            "count": 0
           },
           {
            "bin_start": 25494.477257428804,
            "bin_end": 25696.67837028826,
            "count": 1
           }
          ]
         }
        },
        {
         "name": "median",
         "dtype": "float64",
         "stats": {
          "unique_count": 2,
          "nan_count": 0,
          "min": "11943.92",
          "max": "13336.08",
          "histogram": [
           {
            "bin_start": 11943.92,
            "bin_end": 12083.136,
            "count": 1
           },
           {
            "bin_start": 12083.136,
            "bin_end": 12222.352,
            "count": 0
           },
           {
            "bin_start": 12222.352,
            "bin_end": 12361.568,
            "count": 0
           },
           {
            "bin_start": 12361.568,
            "bin_end": 12500.784,
            "count": 0
           },
           {
            "bin_start": 12500.784,
            "bin_end": 12640,
            "count": 0
           },
           {
            "bin_start": 12640,
            "bin_end": 12779.216,
            "count": 0
           },
           {
            "bin_start": 12779.216,
            "bin_end": 12918.432,
            "count": 0
           },
           {
            "bin_start": 12918.432,
            "bin_end": 13057.648,
            "count": 0
           },
           {
            "bin_start": 13057.648,
            "bin_end": 13196.864,
            "count": 0
           },
           {
            "bin_start": 13196.864,
            "bin_end": 13336.08,
            "count": 1
           }
          ]
         }
        },
        {
         "name": "_deepnote_index_column",
         "dtype": "object"
        }
       ],
       "rows": [
        {
         "amin": -1098,
         "amax": 293966.05,
         "mean": 23674.667241693696,
         "median": 11943.92,
         "_deepnote_index_column": "A"
        },
        {
         "amin": -798,
         "amax": 232558.51,
         "mean": 25696.67837028826,
         "median": 13336.08,
         "_deepnote_index_column": "B"
        }
       ]
      },
      "text/plain": "        amin       amax          mean    median\ntype                                           \nA    -1098.0  293966.05  23674.667242  11943.92\nB     -798.0  232558.51  25696.678370  13336.08",
      "text/html": "<div>\n<style scoped>\n    .dataframe tbody tr th:only-of-type {\n        vertical-align: middle;\n    }\n\n    .dataframe tbody tr th {\n        vertical-align: top;\n    }\n\n    .dataframe thead th {\n        text-align: right;\n    }\n</style>\n<table border=\"1\" class=\"dataframe\">\n  <thead>\n    <tr style=\"text-align: right;\">\n      <th></th>\n      <th>amin</th>\n      <th>amax</th>\n      <th>mean</th>\n      <th>median</th>\n    </tr>\n    <tr>\n      <th>type</th>\n      <th></th>\n      <th></th>\n      <th></th>\n      <th></th>\n    </tr>\n  </thead>\n  <tbody>\n    <tr>\n      <th>A</th>\n      <td>-1098.0</td>\n      <td>293966.05</td>\n      <td>23674.667242</td>\n      <td>11943.92</td>\n    </tr>\n    <tr>\n      <th>B</th>\n      <td>-798.0</td>\n      <td>232558.51</td>\n      <td>25696.678370</td>\n      <td>13336.08</td>\n    </tr>\n  </tbody>\n</table>\n</div>"
     },
     "metadata": {}
    }
   ]
  },
  {
   "cell_type": "code",
   "metadata": {
    "cell_id": "2b9be57b1eda4e818afdaf5a6082355a",
    "tags": [],
    "deepnote_to_be_reexecuted": false,
    "source_hash": "492159e9",
    "execution_start": 1654120035467,
    "execution_millis": 6,
    "deepnote_cell_type": "code",
    "deepnote_cell_height": 339.078125
   },
   "source": "# Get the min, max, mean, and median of unemployment and fuel_price_usd_per_l for each store type \n# Store this as unemp_fuel_stats\nunemp_fuel_stats = sales.groupby('type')[['unemployment', 'fuel_price_usd_per_l']].agg([np.min, np.max, np.mean, np.median])\nunemp_fuel_stats",
   "execution_count": null,
   "outputs": [
    {
     "output_type": "execute_result",
     "execution_count": 33,
     "data": {
      "application/vnd.deepnote.dataframe.v3+json": {
       "column_count": 8,
       "row_count": 2,
       "columns": [
        {
         "name": "unemployment amin",
         "dtype": "float64",
         "stats": {
          "unique_count": 2,
          "nan_count": 0,
          "min": "3.879",
          "max": "7.17",
          "histogram": [
           {
            "bin_start": 3.879,
            "bin_end": 4.2081,
            "count": 1
           },
           {
            "bin_start": 4.2081,
            "bin_end": 4.5372,
            "count": 0
           },
           {
            "bin_start": 4.5372,
            "bin_end": 4.8663,
            "count": 0
           },
           {
            "bin_start": 4.8663,
            "bin_end": 5.1954,
            "count": 0
           },
           {
            "bin_start": 5.1954,
            "bin_end": 5.5245,
            "count": 0
           },
           {
            "bin_start": 5.5245,
            "bin_end": 5.8536,
            "count": 0
           },
           {
            "bin_start": 5.8536,
            "bin_end": 6.1827000000000005,
            "count": 0
           },
           {
            "bin_start": 6.1827000000000005,
            "bin_end": 6.5118,
            "count": 0
           },
           {
            "bin_start": 6.5118,
            "bin_end": 6.8408999999999995,
            "count": 0
           },
           {
            "bin_start": 6.8408999999999995,
            "bin_end": 7.17,
            "count": 1
           }
          ]
         }
        },
        {
         "name": "unemployment amax",
         "dtype": "float64",
         "stats": {
          "unique_count": 2,
          "nan_count": 0,
          "min": "8.992",
          "max": "9.765",
          "histogram": [
           {
            "bin_start": 8.992,
            "bin_end": 9.0693,
            "count": 1
           },
           {
            "bin_start": 9.0693,
            "bin_end": 9.146600000000001,
            "count": 0
           },
           {
            "bin_start": 9.146600000000001,
            "bin_end": 9.2239,
            "count": 0
           },
           {
            "bin_start": 9.2239,
            "bin_end": 9.301200000000001,
            "count": 0
           },
           {
            "bin_start": 9.301200000000001,
            "bin_end": 9.3785,
            "count": 0
           },
           {
            "bin_start": 9.3785,
            "bin_end": 9.4558,
            "count": 0
           },
           {
            "bin_start": 9.4558,
            "bin_end": 9.533100000000001,
            "count": 0
           },
           {
            "bin_start": 9.533100000000001,
            "bin_end": 9.6104,
            "count": 0
           },
           {
            "bin_start": 9.6104,
            "bin_end": 9.687700000000001,
            "count": 0
           },
           {
            "bin_start": 9.687700000000001,
            "bin_end": 9.765,
            "count": 1
           }
          ]
         }
        },
        {
         "name": "unemployment mean",
         "dtype": "float64",
         "stats": {
          "unique_count": 2,
          "nan_count": 0,
          "min": "7.972610615883498",
          "max": "9.279322616407965",
          "histogram": [
           {
            "bin_start": 7.972610615883498,
            "bin_end": 8.103281815935945,
            "count": 1
           },
           {
            "bin_start": 8.103281815935945,
            "bin_end": 8.233953015988392,
            "count": 0
           },
           {
            "bin_start": 8.233953015988392,
            "bin_end": 8.364624216040838,
            "count": 0
           },
           {
            "bin_start": 8.364624216040838,
            "bin_end": 8.495295416093285,
            "count": 0
           },
           {
            "bin_start": 8.495295416093285,
            "bin_end": 8.625966616145732,
            "count": 0
           },
           {
            "bin_start": 8.625966616145732,
            "bin_end": 8.756637816198179,
            "count": 0
           },
           {
            "bin_start": 8.756637816198179,
            "bin_end": 8.887309016250626,
            "count": 0
           },
           {
            "bin_start": 8.887309016250626,
            "bin_end": 9.017980216303071,
            "count": 0
           },
           {
            "bin_start": 9.017980216303071,
            "bin_end": 9.148651416355518,
            "count": 0
           },
           {
            "bin_start": 9.148651416355518,
            "bin_end": 9.279322616407965,
            "count": 1
           }
          ]
         }
        },
        {
         "name": "unemployment median",
         "dtype": "float64",
         "stats": {
          "unique_count": 2,
          "nan_count": 0,
          "min": "8.067",
          "max": "9.199",
          "histogram": [
           {
            "bin_start": 8.067,
            "bin_end": 8.1802,
            "count": 1
           },
           {
            "bin_start": 8.1802,
            "bin_end": 8.2934,
            "count": 0
           },
           {
            "bin_start": 8.2934,
            "bin_end": 8.406600000000001,
            "count": 0
           },
           {
            "bin_start": 8.406600000000001,
            "bin_end": 8.5198,
            "count": 0
           },
           {
            "bin_start": 8.5198,
            "bin_end": 8.633,
            "count": 0
           },
           {
            "bin_start": 8.633,
            "bin_end": 8.7462,
            "count": 0
           },
           {
            "bin_start": 8.7462,
            "bin_end": 8.8594,
            "count": 0
           },
           {
            "bin_start": 8.8594,
            "bin_end": 8.9726,
            "count": 0
           },
           {
            "bin_start": 8.9726,
            "bin_end": 9.085799999999999,
            "count": 0
           },
           {
            "bin_start": 9.085799999999999,
            "bin_end": 9.199,
            "count": 1
           }
          ]
         }
        },
        {
         "name": "fuel_price_usd_per_l amin",
         "dtype": "float64",
         "stats": {
          "unique_count": 2,
          "nan_count": 0,
          "min": "0.6641288526209843",
          "max": "0.7600233528204342",
          "histogram": [
           {
            "bin_start": 0.6641288526209843,
            "bin_end": 0.6737183026409292,
            "count": 1
           },
           {
            "bin_start": 0.6737183026409292,
            "bin_end": 0.6833077526608743,
            "count": 0
           },
           {
            "bin_start": 0.6833077526608743,
            "bin_end": 0.6928972026808193,
            "count": 0
           },
           {
            "bin_start": 0.6928972026808193,
            "bin_end": 0.7024866527007643,
            "count": 0
           },
           {
            "bin_start": 0.7024866527007643,
            "bin_end": 0.7120761027207092,
            "count": 0
           },
           {
            "bin_start": 0.7120761027207092,
            "bin_end": 0.7216655527406542,
            "count": 0
           },
           {
            "bin_start": 0.7216655527406542,
            "bin_end": 0.7312550027605993,
            "count": 0
           },
           {
            "bin_start": 0.7312550027605993,
            "bin_end": 0.7408444527805442,
            "count": 0
           },
           {
            "bin_start": 0.7408444527805442,
            "bin_end": 0.7504339028004892,
            "count": 0
           },
           {
            "bin_start": 0.7504339028004892,
            "bin_end": 0.7600233528204342,
            "count": 1
           }
          ]
         }
        },
        {
         "name": "fuel_price_usd_per_l amax",
         "dtype": "float64",
         "stats": {
          "unique_count": 2,
          "nan_count": 0,
          "min": "1.1074097653886896",
          "max": "1.1076739375655478",
          "histogram": [
           {
            "bin_start": 1.1074097653886896,
            "bin_end": 1.1074361826063754,
            "count": 1
           },
           {
            "bin_start": 1.1074361826063754,
            "bin_end": 1.1074625998240613,
            "count": 0
           },
           {
            "bin_start": 1.1074625998240613,
            "bin_end": 1.107489017041747,
            "count": 0
           },
           {
            "bin_start": 1.107489017041747,
            "bin_end": 1.1075154342594329,
            "count": 0
           },
           {
            "bin_start": 1.1075154342594329,
            "bin_end": 1.1075418514771187,
            "count": 0
           },
           {
            "bin_start": 1.1075418514771187,
            "bin_end": 1.1075682686948045,
            "count": 0
           },
           {
            "bin_start": 1.1075682686948045,
            "bin_end": 1.1075946859124903,
            "count": 0
           },
           {
            "bin_start": 1.1075946859124903,
            "bin_end": 1.1076211031301761,
            "count": 0
           },
           {
            "bin_start": 1.1076211031301761,
            "bin_end": 1.107647520347862,
            "count": 0
           },
           {
            "bin_start": 1.107647520347862,
            "bin_end": 1.1076739375655478,
            "count": 1
           }
          ]
         }
        },
        {
         "name": "fuel_price_usd_per_l mean",
         "dtype": "float64",
         "stats": {
          "unique_count": 2,
          "nan_count": 0,
          "min": "0.7446188662768789",
          "max": "0.8058583970005371",
          "histogram": [
           {
            "bin_start": 0.7446188662768789,
            "bin_end": 0.7507428193492447,
            "count": 1
           },
           {
            "bin_start": 0.7507428193492447,
            "bin_end": 0.7568667724216105,
            "count": 0
           },
           {
            "bin_start": 0.7568667724216105,
            "bin_end": 0.7629907254939764,
            "count": 0
           },
           {
            "bin_start": 0.7629907254939764,
            "bin_end": 0.7691146785663422,
            "count": 0
           },
           {
            "bin_start": 0.7691146785663422,
            "bin_end": 0.775238631638708,
            "count": 0
           },
           {
            "bin_start": 0.775238631638708,
            "bin_end": 0.7813625847110738,
            "count": 0
           },
           {
            "bin_start": 0.7813625847110738,
            "bin_end": 0.7874865377834396,
            "count": 0
           },
           {
            "bin_start": 0.7874865377834396,
            "bin_end": 0.7936104908558055,
            "count": 0
           },
           {
            "bin_start": 0.7936104908558055,
            "bin_end": 0.7997344439281713,
            "count": 0
           },
           {
            "bin_start": 0.7997344439281713,
            "bin_end": 0.8058583970005371,
            "count": 1
           }
          ]
         }
        },
        {
         "name": "fuel_price_usd_per_l median",
         "dtype": "float64",
         "stats": {
          "unique_count": 2,
          "nan_count": 0,
          "min": "0.7354553403726412",
          "max": "0.8033475898251445",
          "histogram": [
           {
            "bin_start": 0.7354553403726412,
            "bin_end": 0.7422445653178915,
            "count": 1
           },
           {
            "bin_start": 0.7422445653178915,
            "bin_end": 0.7490337902631419,
            "count": 0
           },
           {
            "bin_start": 0.7490337902631419,
            "bin_end": 0.7558230152083921,
            "count": 0
           },
           {
            "bin_start": 0.7558230152083921,
            "bin_end": 0.7626122401536425,
            "count": 0
           },
           {
            "bin_start": 0.7626122401536425,
            "bin_end": 0.7694014650988928,
            "count": 0
           },
           {
            "bin_start": 0.7694014650988928,
            "bin_end": 0.7761906900441432,
            "count": 0
           },
           {
            "bin_start": 0.7761906900441432,
            "bin_end": 0.7829799149893936,
            "count": 0
           },
           {
            "bin_start": 0.7829799149893936,
            "bin_end": 0.7897691399346438,
            "count": 0
           },
           {
            "bin_start": 0.7897691399346438,
            "bin_end": 0.7965583648798942,
            "count": 0
           },
           {
            "bin_start": 0.7965583648798942,
            "bin_end": 0.8033475898251445,
            "count": 1
           }
          ]
         }
        },
        {
         "name": "_deepnote_index_column",
         "dtype": "object"
        }
       ],
       "rows": [
        {
         "unemployment amin": 3.879,
         "unemployment amax": 8.992,
         "unemployment mean": 7.972610615883498,
         "unemployment median": 8.067,
         "fuel_price_usd_per_l amin": 0.6641288526209843,
         "fuel_price_usd_per_l amax": 1.1074097653886896,
         "fuel_price_usd_per_l mean": 0.7446188662768789,
         "fuel_price_usd_per_l median": 0.7354553403726412,
         "_deepnote_index_column": "A"
        },
        {
         "unemployment amin": 7.17,
         "unemployment amax": 9.765,
         "unemployment mean": 9.279322616407965,
         "unemployment median": 9.199,
         "fuel_price_usd_per_l amin": 0.7600233528204342,
         "fuel_price_usd_per_l amax": 1.1076739375655478,
         "fuel_price_usd_per_l mean": 0.8058583970005371,
         "fuel_price_usd_per_l median": 0.8033475898251445,
         "_deepnote_index_column": "B"
        }
       ]
      },
      "text/plain": "     unemployment                         fuel_price_usd_per_l            \\\n             amin   amax      mean median                 amin      amax   \ntype                                                                       \nA           3.879  8.992  7.972611  8.067             0.664129  1.107410   \nB           7.170  9.765  9.279323  9.199             0.760023  1.107674   \n\n                          \n          mean    median  \ntype                      \nA     0.744619  0.735455  \nB     0.805858  0.803348  ",
      "text/html": "<div>\n<style scoped>\n    .dataframe tbody tr th:only-of-type {\n        vertical-align: middle;\n    }\n\n    .dataframe tbody tr th {\n        vertical-align: top;\n    }\n\n    .dataframe thead tr th {\n        text-align: left;\n    }\n\n    .dataframe thead tr:last-of-type th {\n        text-align: right;\n    }\n</style>\n<table border=\"1\" class=\"dataframe\">\n  <thead>\n    <tr>\n      <th></th>\n      <th colspan=\"4\" halign=\"left\">unemployment</th>\n      <th colspan=\"4\" halign=\"left\">fuel_price_usd_per_l</th>\n    </tr>\n    <tr>\n      <th></th>\n      <th>amin</th>\n      <th>amax</th>\n      <th>mean</th>\n      <th>median</th>\n      <th>amin</th>\n      <th>amax</th>\n      <th>mean</th>\n      <th>median</th>\n    </tr>\n    <tr>\n      <th>type</th>\n      <th></th>\n      <th></th>\n      <th></th>\n      <th></th>\n      <th></th>\n      <th></th>\n      <th></th>\n      <th></th>\n    </tr>\n  </thead>\n  <tbody>\n    <tr>\n      <th>A</th>\n      <td>3.879</td>\n      <td>8.992</td>\n      <td>7.972611</td>\n      <td>8.067</td>\n      <td>0.664129</td>\n      <td>1.107410</td>\n      <td>0.744619</td>\n      <td>0.735455</td>\n    </tr>\n    <tr>\n      <th>B</th>\n      <td>7.170</td>\n      <td>9.765</td>\n      <td>9.279323</td>\n      <td>9.199</td>\n      <td>0.760023</td>\n      <td>1.107674</td>\n      <td>0.805858</td>\n      <td>0.803348</td>\n    </tr>\n  </tbody>\n</table>\n</div>"
     },
     "metadata": {}
    }
   ]
  },
  {
   "cell_type": "markdown",
   "source": "## Pivot tables",
   "metadata": {
    "formattedRanges": [],
    "cell_id": "6b28de755b8343ca9e9260bd57582fde",
    "tags": [],
    "is_collapsed": false,
    "deepnote_cell_type": "text-cell-h2"
   }
  },
  {
   "cell_type": "markdown",
   "source": "### Pivoting on one variable",
   "metadata": {
    "formattedRanges": [],
    "cell_id": "3607dc876b9148b88157205bbee329a9",
    "tags": [],
    "is_collapsed": false,
    "deepnote_cell_type": "text-cell-h3"
   }
  },
  {
   "cell_type": "code",
   "metadata": {
    "cell_id": "711ac5f5bf0d4253a841fb9d90b858fc",
    "tags": [],
    "deepnote_to_be_reexecuted": false,
    "source_hash": "b592ea3d",
    "execution_start": 1654120035478,
    "execution_millis": 15,
    "deepnote_cell_type": "code",
    "deepnote_cell_height": 344
   },
   "source": "# Get the mean weekly_sales by type using .pivot_table() and store as mean_sales_by_type\nmean_sales_by_type = sales.pivot_table(values='weekly_sales', index='type')\nmean_sales_by_type\n\n# ERROR! Review how to create pivot tables. ",
   "execution_count": null,
   "outputs": [
    {
     "output_type": "execute_result",
     "execution_count": 34,
     "data": {
      "application/vnd.deepnote.dataframe.v3+json": {
       "column_count": 1,
       "row_count": 2,
       "columns": [
        {
         "name": "weekly_sales",
         "dtype": "float64",
         "stats": {
          "unique_count": 2,
          "nan_count": 0,
          "min": "23674.667241693696",
          "max": "25696.67837028826",
          "histogram": [
           {
            "bin_start": 23674.667241693696,
            "bin_end": 23876.868354553153,
            "count": 1
           },
           {
            "bin_start": 23876.868354553153,
            "bin_end": 24079.06946741261,
            "count": 0
           },
           {
            "bin_start": 24079.06946741261,
            "bin_end": 24281.270580272067,
            "count": 0
           },
           {
            "bin_start": 24281.270580272067,
            "bin_end": 24483.471693131523,
            "count": 0
           },
           {
            "bin_start": 24483.471693131523,
            "bin_end": 24685.67280599098,
            "count": 0
           },
           {
            "bin_start": 24685.67280599098,
            "bin_end": 24887.873918850433,
            "count": 0
           },
           {
            "bin_start": 24887.873918850433,
            "bin_end": 25090.07503170989,
            "count": 0
           },
           {
            "bin_start": 25090.07503170989,
            "bin_end": 25292.276144569347,
            "count": 0
           },
           {
            "bin_start": 25292.276144569347,
            "bin_end": 25494.477257428804,
            "count": 0
           },
           {
            "bin_start": 25494.477257428804,
            "bin_end": 25696.67837028826,
            "count": 1
           }
          ]
         }
        },
        {
         "name": "_deepnote_index_column",
         "dtype": "object"
        }
       ],
       "rows": [
        {
         "weekly_sales": 23674.667241693696,
         "_deepnote_index_column": "A"
        },
        {
         "weekly_sales": 25696.67837028826,
         "_deepnote_index_column": "B"
        }
       ]
      },
      "text/plain": "      weekly_sales\ntype              \nA     23674.667242\nB     25696.678370",
      "text/html": "<div>\n<style scoped>\n    .dataframe tbody tr th:only-of-type {\n        vertical-align: middle;\n    }\n\n    .dataframe tbody tr th {\n        vertical-align: top;\n    }\n\n    .dataframe thead th {\n        text-align: right;\n    }\n</style>\n<table border=\"1\" class=\"dataframe\">\n  <thead>\n    <tr style=\"text-align: right;\">\n      <th></th>\n      <th>weekly_sales</th>\n    </tr>\n    <tr>\n      <th>type</th>\n      <th></th>\n    </tr>\n  </thead>\n  <tbody>\n    <tr>\n      <th>A</th>\n      <td>23674.667242</td>\n    </tr>\n    <tr>\n      <th>B</th>\n      <td>25696.678370</td>\n    </tr>\n  </tbody>\n</table>\n</div>"
     },
     "metadata": {}
    }
   ]
  },
  {
   "cell_type": "code",
   "metadata": {
    "cell_id": "1bb240c85595450399fdb9bfc3623333",
    "tags": [],
    "deepnote_to_be_reexecuted": false,
    "source_hash": "d7f8f114",
    "execution_start": 1654120035497,
    "execution_millis": 30,
    "deepnote_cell_type": "code",
    "deepnote_cell_height": 308
   },
   "source": "# Get the mean and median (using NumPy functions) of weekly_sales by type using .pivot_table() and store as mean_med_sales_by_type\nmean_med_sales_by_type = sales.pivot_table(values='weekly_sales', index='type', aggfunc=[np.mean, np.median])\nmean_med_sales_by_type",
   "execution_count": null,
   "outputs": [
    {
     "output_type": "execute_result",
     "execution_count": 35,
     "data": {
      "application/vnd.deepnote.dataframe.v3+json": {
       "column_count": 2,
       "row_count": 2,
       "columns": [
        {
         "name": "mean weekly_sales",
         "dtype": "float64",
         "stats": {
          "unique_count": 2,
          "nan_count": 0,
          "min": "23674.667241693696",
          "max": "25696.67837028826",
          "histogram": [
           {
            "bin_start": 23674.667241693696,
            "bin_end": 23876.868354553153,
            "count": 1
           },
           {
            "bin_start": 23876.868354553153,
            "bin_end": 24079.06946741261,
            "count": 0
           },
           {
            "bin_start": 24079.06946741261,
            "bin_end": 24281.270580272067,
            "count": 0
           },
           {
            "bin_start": 24281.270580272067,
            "bin_end": 24483.471693131523,
            "count": 0
           },
           {
            "bin_start": 24483.471693131523,
            "bin_end": 24685.67280599098,
            "count": 0
           },
           {
            "bin_start": 24685.67280599098,
            "bin_end": 24887.873918850433,
            "count": 0
           },
           {
            "bin_start": 24887.873918850433,
            "bin_end": 25090.07503170989,
            "count": 0
           },
           {
            "bin_start": 25090.07503170989,
            "bin_end": 25292.276144569347,
            "count": 0
           },
           {
            "bin_start": 25292.276144569347,
            "bin_end": 25494.477257428804,
            "count": 0
           },
           {
            "bin_start": 25494.477257428804,
            "bin_end": 25696.67837028826,
            "count": 1
           }
          ]
         }
        },
        {
         "name": "median weekly_sales",
         "dtype": "float64",
         "stats": {
          "unique_count": 2,
          "nan_count": 0,
          "min": "11943.92",
          "max": "13336.08",
          "histogram": [
           {
            "bin_start": 11943.92,
            "bin_end": 12083.136,
            "count": 1
           },
           {
            "bin_start": 12083.136,
            "bin_end": 12222.352,
            "count": 0
           },
           {
            "bin_start": 12222.352,
            "bin_end": 12361.568,
            "count": 0
           },
           {
            "bin_start": 12361.568,
            "bin_end": 12500.784,
            "count": 0
           },
           {
            "bin_start": 12500.784,
            "bin_end": 12640,
            "count": 0
           },
           {
            "bin_start": 12640,
            "bin_end": 12779.216,
            "count": 0
           },
           {
            "bin_start": 12779.216,
            "bin_end": 12918.432,
            "count": 0
           },
           {
            "bin_start": 12918.432,
            "bin_end": 13057.648,
            "count": 0
           },
           {
            "bin_start": 13057.648,
            "bin_end": 13196.864,
            "count": 0
           },
           {
            "bin_start": 13196.864,
            "bin_end": 13336.08,
            "count": 1
           }
          ]
         }
        },
        {
         "name": "_deepnote_index_column",
         "dtype": "object"
        }
       ],
       "rows": [
        {
         "mean weekly_sales": 23674.667241693696,
         "median weekly_sales": 11943.92,
         "_deepnote_index_column": "A"
        },
        {
         "mean weekly_sales": 25696.67837028826,
         "median weekly_sales": 13336.08,
         "_deepnote_index_column": "B"
        }
       ]
      },
      "text/plain": "              mean       median\n      weekly_sales weekly_sales\ntype                           \nA     23674.667242     11943.92\nB     25696.678370     13336.08",
      "text/html": "<div>\n<style scoped>\n    .dataframe tbody tr th:only-of-type {\n        vertical-align: middle;\n    }\n\n    .dataframe tbody tr th {\n        vertical-align: top;\n    }\n\n    .dataframe thead tr th {\n        text-align: left;\n    }\n\n    .dataframe thead tr:last-of-type th {\n        text-align: right;\n    }\n</style>\n<table border=\"1\" class=\"dataframe\">\n  <thead>\n    <tr>\n      <th></th>\n      <th>mean</th>\n      <th>median</th>\n    </tr>\n    <tr>\n      <th></th>\n      <th>weekly_sales</th>\n      <th>weekly_sales</th>\n    </tr>\n    <tr>\n      <th>type</th>\n      <th></th>\n      <th></th>\n    </tr>\n  </thead>\n  <tbody>\n    <tr>\n      <th>A</th>\n      <td>23674.667242</td>\n      <td>11943.92</td>\n    </tr>\n    <tr>\n      <th>B</th>\n      <td>25696.678370</td>\n      <td>13336.08</td>\n    </tr>\n  </tbody>\n</table>\n</div>"
     },
     "metadata": {}
    }
   ]
  },
  {
   "cell_type": "code",
   "metadata": {
    "cell_id": "0ede5bcf4286435bad4a74cee0918395",
    "tags": [],
    "deepnote_to_be_reexecuted": false,
    "source_hash": "f2219e65",
    "execution_start": 1654120094566,
    "execution_millis": 38,
    "deepnote_cell_type": "code",
    "deepnote_cell_height": 308
   },
   "source": "# Get the mean of weekly_sales by type and is_holiday using .pivot_table() and store as mean_sales_by_type_holiday\nmean_sales_by_type_holiday = sales.pivot_table(values='weekly_sales', index='type', columns='is_holiday', aggfunc=[np.mean])\nmean_sales_by_type_holiday",
   "execution_count": null,
   "outputs": [
    {
     "output_type": "execute_result",
     "execution_count": 38,
     "data": {
      "application/vnd.deepnote.dataframe.v3+json": {
       "column_count": 2,
       "row_count": 2,
       "columns": [
        {
         "name": "mean ",
         "dtype": "float64",
         "stats": {
          "unique_count": 2,
          "nan_count": 0,
          "min": "23768.5835231896",
          "max": "25751.980533333346",
          "histogram": [
           {
            "bin_start": 23768.5835231896,
            "bin_end": 23966.923224203976,
            "count": 1
           },
           {
            "bin_start": 23966.923224203976,
            "bin_end": 24165.26292521835,
            "count": 0
           },
           {
            "bin_start": 24165.26292521835,
            "bin_end": 24363.602626232725,
            "count": 0
           },
           {
            "bin_start": 24363.602626232725,
            "bin_end": 24561.9423272471,
            "count": 0
           },
           {
            "bin_start": 24561.9423272471,
            "bin_end": 24760.282028261474,
            "count": 0
           },
           {
            "bin_start": 24760.282028261474,
            "bin_end": 24958.62172927585,
            "count": 0
           },
           {
            "bin_start": 24958.62172927585,
            "bin_end": 25156.961430290223,
            "count": 0
           },
           {
            "bin_start": 25156.961430290223,
            "bin_end": 25355.301131304597,
            "count": 0
           },
           {
            "bin_start": 25355.301131304597,
            "bin_end": 25553.64083231897,
            "count": 0
           },
           {
            "bin_start": 25553.64083231897,
            "bin_end": 25751.980533333346,
            "count": 1
           }
          ]
         }
        },
        {
         "name": "mean True",
         "dtype": "float64",
         "stats": {
          "unique_count": 2,
          "nan_count": 0,
          "min": "590.04525",
          "max": "810.705",
          "histogram": [
           {
            "bin_start": 590.04525,
            "bin_end": 612.111225,
            "count": 1
           },
           {
            "bin_start": 612.111225,
            "bin_end": 634.1772,
            "count": 0
           },
           {
            "bin_start": 634.1772,
            "bin_end": 656.2431750000001,
            "count": 0
           },
           {
            "bin_start": 656.2431750000001,
            "bin_end": 678.30915,
            "count": 0
           },
           {
            "bin_start": 678.30915,
            "bin_end": 700.375125,
            "count": 0
           },
           {
            "bin_start": 700.375125,
            "bin_end": 722.4411,
            "count": 0
           },
           {
            "bin_start": 722.4411,
            "bin_end": 744.507075,
            "count": 0
           },
           {
            "bin_start": 744.507075,
            "bin_end": 766.57305,
            "count": 0
           },
           {
            "bin_start": 766.57305,
            "bin_end": 788.6390250000001,
            "count": 0
           },
           {
            "bin_start": 788.6390250000001,
            "bin_end": 810.705,
            "count": 1
           }
          ]
         }
        },
        {
         "name": "_deepnote_index_column",
         "dtype": "object"
        }
       ],
       "rows": [
        {
         "mean ": 23768.5835231896,
         "mean True": 590.04525,
         "_deepnote_index_column": "A"
        },
        {
         "mean ": 25751.980533333346,
         "mean True": 810.705,
         "_deepnote_index_column": "B"
        }
       ]
      },
      "text/plain": "                    mean           \nis_holiday         False      True \ntype                               \nA           23768.583523  590.04525\nB           25751.980533  810.70500",
      "text/html": "<div>\n<style scoped>\n    .dataframe tbody tr th:only-of-type {\n        vertical-align: middle;\n    }\n\n    .dataframe tbody tr th {\n        vertical-align: top;\n    }\n\n    .dataframe thead tr th {\n        text-align: left;\n    }\n\n    .dataframe thead tr:last-of-type th {\n        text-align: right;\n    }\n</style>\n<table border=\"1\" class=\"dataframe\">\n  <thead>\n    <tr>\n      <th></th>\n      <th colspan=\"2\" halign=\"left\">mean</th>\n    </tr>\n    <tr>\n      <th>is_holiday</th>\n      <th>False</th>\n      <th>True</th>\n    </tr>\n    <tr>\n      <th>type</th>\n      <th></th>\n      <th></th>\n    </tr>\n  </thead>\n  <tbody>\n    <tr>\n      <th>A</th>\n      <td>23768.583523</td>\n      <td>590.04525</td>\n    </tr>\n    <tr>\n      <th>B</th>\n      <td>25751.980533</td>\n      <td>810.70500</td>\n    </tr>\n  </tbody>\n</table>\n</div>"
     },
     "metadata": {}
    }
   ]
  },
  {
   "cell_type": "markdown",
   "source": "### Fill in missing values and sum values with pivot tables",
   "metadata": {
    "formattedRanges": [],
    "cell_id": "263c6a98d58c439b981ca5edebb8ff9d",
    "tags": [],
    "is_collapsed": false,
    "deepnote_cell_type": "text-cell-h3"
   }
  },
  {
   "cell_type": "code",
   "metadata": {
    "cell_id": "5a3580bfe18d4bc8b204a8a23616583d",
    "tags": [],
    "deepnote_to_be_reexecuted": false,
    "source_hash": "6f27df24",
    "execution_start": 1654120628039,
    "execution_millis": 24,
    "deepnote_table_state": {
     "pageSize": 10,
     "pageIndex": 7,
     "filters": [],
     "sortBy": []
    },
    "deepnote_table_loading": false,
    "deepnote_cell_type": "code",
    "deepnote_cell_height": 618
   },
   "source": "# Print the mean weekly_sales by department and type, filling in any missing values with 0\nsales.pivot_table(values='weekly_sales', index='department', columns='type', fill_value=0)",
   "execution_count": null,
   "outputs": [
    {
     "output_type": "execute_result",
     "execution_count": 40,
     "data": {
      "application/vnd.deepnote.dataframe.v3+json": {
       "column_count": 2,
       "row_count": 80,
       "columns": [
        {
         "name": "A",
         "dtype": "float64",
         "stats": {
          "unique_count": 80,
          "nan_count": 0,
          "min": "0.66",
          "max": "139722.20477272727",
          "histogram": [
           {
            "bin_start": 0.66,
            "bin_end": 13972.814477272726,
            "count": 44
           },
           {
            "bin_start": 13972.814477272726,
            "bin_end": 27944.968954545453,
            "count": 13
           },
           {
            "bin_start": 27944.968954545453,
            "bin_end": 41917.12343181818,
            "count": 10
           },
           {
            "bin_start": 41917.12343181818,
            "bin_end": 55889.27790909091,
            "count": 4
           },
           {
            "bin_start": 55889.27790909091,
            "bin_end": 69861.43238636364,
            "count": 2
           },
           {
            "bin_start": 69861.43238636364,
            "bin_end": 83833.58686363636,
            "count": 3
           },
           {
            "bin_start": 83833.58686363636,
            "bin_end": 97805.7413409091,
            "count": 2
           },
           {
            "bin_start": 97805.7413409091,
            "bin_end": 111777.89581818182,
            "count": 0
           },
           {
            "bin_start": 111777.89581818182,
            "bin_end": 125750.05029545454,
            "count": 1
           },
           {
            "bin_start": 125750.05029545454,
            "bin_end": 139722.20477272727,
            "count": 1
           }
          ]
         }
        },
        {
         "name": "B",
         "dtype": "float64",
         "stats": {
          "unique_count": 78,
          "nan_count": 0,
          "min": "-71.91666666666667",
          "max": "145237.7266666667",
          "histogram": [
           {
            "bin_start": -71.91666666666667,
            "bin_end": 14459.047666666671,
            "count": 41
           },
           {
            "bin_start": 14459.047666666671,
            "bin_end": 28990.012000000006,
            "count": 16
           },
           {
            "bin_start": 28990.012000000006,
            "bin_end": 43520.97633333335,
            "count": 5
           },
           {
            "bin_start": 43520.97633333335,
            "bin_end": 58051.940666666684,
            "count": 8
           },
           {
            "bin_start": 58051.940666666684,
            "bin_end": 72582.90500000001,
            "count": 4
           },
           {
            "bin_start": 72582.90500000001,
            "bin_end": 87113.86933333335,
            "count": 2
           },
           {
            "bin_start": 87113.86933333335,
            "bin_end": 101644.83366666669,
            "count": 1
           },
           {
            "bin_start": 101644.83366666669,
            "bin_end": 116175.79800000002,
            "count": 2
           },
           {
            "bin_start": 116175.79800000002,
            "bin_end": 130706.76233333336,
            "count": 0
           },
           {
            "bin_start": 130706.76233333336,
            "bin_end": 145237.7266666667,
            "count": 1
           }
          ]
         }
        },
        {
         "name": "_deepnote_index_column",
         "dtype": "int64"
        }
       ],
       "rows": [
        {
         "A": 85776.90590909093,
         "B": 14780.21,
         "_deepnote_index_column": 90
        },
        {
         "A": 70423.16522727274,
         "B": 13199.6025,
         "_deepnote_index_column": 91
        },
        {
         "A": 139722.20477272727,
         "B": 50859.27833333334,
         "_deepnote_index_column": 92
        },
        {
         "A": 53413.63393939391,
         "B": 1466.2741666666668,
         "_deepnote_index_column": 93
        },
        {
         "A": 60081.155303030304,
         "B": 161.44583333333338,
         "_deepnote_index_column": 94
        },
        {
         "A": 123933.78712121218,
         "B": 77082.10250000001,
         "_deepnote_index_column": 95
        },
        {
         "A": 21367.042857142853,
         "B": 9528.538333333332,
         "_deepnote_index_column": 96
        },
        {
         "A": 28471.266969696975,
         "B": 5828.873333333333,
         "_deepnote_index_column": 97
        },
        {
         "A": 12875.423181818182,
         "B": 217.4283333333333,
         "_deepnote_index_column": 98
        },
        {
         "A": 379.12365853658537,
         "B": 0,
         "_deepnote_index_column": 99
        }
       ]
      },
      "text/plain": "type                    A              B\ndepartment                              \n1            30961.725379   44050.626667\n2            67600.158788  112958.526667\n3            17160.002955   30580.655000\n4            44285.399091   51219.654167\n5            34821.011364   63236.875000\n...                   ...            ...\n95          123933.787121   77082.102500\n96           21367.042857    9528.538333\n97           28471.266970    5828.873333\n98           12875.423182     217.428333\n99             379.123659       0.000000\n\n[80 rows x 2 columns]",
      "text/html": "<div>\n<style scoped>\n    .dataframe tbody tr th:only-of-type {\n        vertical-align: middle;\n    }\n\n    .dataframe tbody tr th {\n        vertical-align: top;\n    }\n\n    .dataframe thead th {\n        text-align: right;\n    }\n</style>\n<table border=\"1\" class=\"dataframe\">\n  <thead>\n    <tr style=\"text-align: right;\">\n      <th>type</th>\n      <th>A</th>\n      <th>B</th>\n    </tr>\n    <tr>\n      <th>department</th>\n      <th></th>\n      <th></th>\n    </tr>\n  </thead>\n  <tbody>\n    <tr>\n      <th>1</th>\n      <td>30961.725379</td>\n      <td>44050.626667</td>\n    </tr>\n    <tr>\n      <th>2</th>\n      <td>67600.158788</td>\n      <td>112958.526667</td>\n    </tr>\n    <tr>\n      <th>3</th>\n      <td>17160.002955</td>\n      <td>30580.655000</td>\n    </tr>\n    <tr>\n      <th>4</th>\n      <td>44285.399091</td>\n      <td>51219.654167</td>\n    </tr>\n    <tr>\n      <th>5</th>\n      <td>34821.011364</td>\n      <td>63236.875000</td>\n    </tr>\n    <tr>\n      <th>...</th>\n      <td>...</td>\n      <td>...</td>\n    </tr>\n    <tr>\n      <th>95</th>\n      <td>123933.787121</td>\n      <td>77082.102500</td>\n    </tr>\n    <tr>\n      <th>96</th>\n      <td>21367.042857</td>\n      <td>9528.538333</td>\n    </tr>\n    <tr>\n      <th>97</th>\n      <td>28471.266970</td>\n      <td>5828.873333</td>\n    </tr>\n    <tr>\n      <th>98</th>\n      <td>12875.423182</td>\n      <td>217.428333</td>\n    </tr>\n    <tr>\n      <th>99</th>\n      <td>379.123659</td>\n      <td>0.000000</td>\n    </tr>\n  </tbody>\n</table>\n<p>80 rows × 2 columns</p>\n</div>"
     },
     "metadata": {}
    }
   ]
  },
  {
   "cell_type": "code",
   "metadata": {
    "cell_id": "baef5a94d689470e9a49a9d1bbc208c3",
    "tags": [],
    "deepnote_to_be_reexecuted": false,
    "source_hash": "ac87eeae",
    "execution_start": 1654120662950,
    "execution_millis": 52,
    "deepnote_table_state": {
     "pageSize": 10,
     "pageIndex": 7,
     "filters": [],
     "sortBy": []
    },
    "deepnote_table_loading": false,
    "deepnote_cell_type": "code",
    "deepnote_cell_height": 618
   },
   "source": "# Print the mean weekly_sales by department and type, filling in any missing values with 0 and summing all rows and columns\nsales.pivot_table(values='weekly_sales', index='department', columns='type', fill_value=0, margins=True)",
   "execution_count": null,
   "outputs": [
    {
     "output_type": "execute_result",
     "execution_count": 42,
     "data": {
      "application/vnd.deepnote.dataframe.v3+json": {
       "column_count": 3,
       "row_count": 81,
       "columns": [
        {
         "name": "A",
         "dtype": "float64",
         "stats": {
          "unique_count": 81,
          "nan_count": 0,
          "min": "0.66",
          "max": "139722.20477272727",
          "histogram": [
           {
            "bin_start": 0.66,
            "bin_end": 13972.814477272726,
            "count": 44
           },
           {
            "bin_start": 13972.814477272726,
            "bin_end": 27944.968954545453,
            "count": 14
           },
           {
            "bin_start": 27944.968954545453,
            "bin_end": 41917.12343181818,
            "count": 10
           },
           {
            "bin_start": 41917.12343181818,
            "bin_end": 55889.27790909091,
            "count": 4
           },
           {
            "bin_start": 55889.27790909091,
            "bin_end": 69861.43238636364,
            "count": 2
           },
           {
            "bin_start": 69861.43238636364,
            "bin_end": 83833.58686363636,
            "count": 3
           },
           {
            "bin_start": 83833.58686363636,
            "bin_end": 97805.7413409091,
            "count": 2
           },
           {
            "bin_start": 97805.7413409091,
            "bin_end": 111777.89581818182,
            "count": 0
           },
           {
            "bin_start": 111777.89581818182,
            "bin_end": 125750.05029545454,
            "count": 1
           },
           {
            "bin_start": 125750.05029545454,
            "bin_end": 139722.20477272727,
            "count": 1
           }
          ]
         }
        },
        {
         "name": "B",
         "dtype": "float64",
         "stats": {
          "unique_count": 79,
          "nan_count": 0,
          "min": "-71.91666666666667",
          "max": "145237.7266666667",
          "histogram": [
           {
            "bin_start": -71.91666666666667,
            "bin_end": 14459.047666666671,
            "count": 41
           },
           {
            "bin_start": 14459.047666666671,
            "bin_end": 28990.012000000006,
            "count": 17
           },
           {
            "bin_start": 28990.012000000006,
            "bin_end": 43520.97633333335,
            "count": 5
           },
           {
            "bin_start": 43520.97633333335,
            "bin_end": 58051.940666666684,
            "count": 8
           },
           {
            "bin_start": 58051.940666666684,
            "bin_end": 72582.90500000001,
            "count": 4
           },
           {
            "bin_start": 72582.90500000001,
            "bin_end": 87113.86933333335,
            "count": 2
           },
           {
            "bin_start": 87113.86933333335,
            "bin_end": 101644.83366666669,
            "count": 1
           },
           {
            "bin_start": 101644.83366666669,
            "bin_end": 116175.79800000002,
            "count": 2
           },
           {
            "bin_start": 116175.79800000002,
            "bin_end": 130706.76233333336,
            "count": 0
           },
           {
            "bin_start": 130706.76233333336,
            "bin_end": 145237.7266666667,
            "count": 1
           }
          ]
         }
        },
        {
         "name": "All",
         "dtype": "float64",
         "stats": {
          "unique_count": 81,
          "nan_count": 0,
          "min": "0.66",
          "max": "132316.96090277776",
          "histogram": [
           {
            "bin_start": 0.66,
            "bin_end": 13232.290090277776,
            "count": 43
           },
           {
            "bin_start": 13232.290090277776,
            "bin_end": 26463.920180555553,
            "count": 15
           },
           {
            "bin_start": 26463.920180555553,
            "bin_end": 39695.55027083334,
            "count": 9
           },
           {
            "bin_start": 39695.55027083334,
            "bin_end": 52927.18036111111,
            "count": 5
           },
           {
            "bin_start": 52927.18036111111,
            "bin_end": 66158.81045138888,
            "count": 2
           },
           {
            "bin_start": 66158.81045138888,
            "bin_end": 79390.44054166667,
            "count": 3
           },
           {
            "bin_start": 79390.44054166667,
            "bin_end": 92622.07063194444,
            "count": 2
           },
           {
            "bin_start": 92622.07063194444,
            "bin_end": 105853.70072222222,
            "count": 0
           },
           {
            "bin_start": 105853.70072222222,
            "bin_end": 119085.33081249999,
            "count": 0
           },
           {
            "bin_start": 119085.33081249999,
            "bin_end": 132316.96090277776,
            "count": 2
           }
          ]
         }
        },
        {
         "name": "_deepnote_index_column",
         "dtype": "object"
        }
       ],
       "rows": [
        {
         "A": 85776.90590909093,
         "B": 14780.21,
         "All": 79860.51458333334,
         "_deepnote_index_column": "90"
        },
        {
         "A": 70423.16522727274,
         "B": 13199.6025,
         "All": 65654.535,
         "_deepnote_index_column": "91"
        },
        {
         "A": 139722.20477272727,
         "B": 50859.27833333334,
         "All": 132316.96090277776,
         "_deepnote_index_column": "92"
        },
        {
         "A": 53413.63393939391,
         "B": 1466.2741666666668,
         "All": 49084.68729166664,
         "_deepnote_index_column": "93"
        },
        {
         "A": 60081.155303030304,
         "B": 161.44583333333338,
         "All": 55087.846180555556,
         "_deepnote_index_column": "94"
        },
        {
         "A": 123933.78712121218,
         "B": 77082.10250000001,
         "All": 120029.48006944446,
         "_deepnote_index_column": "95"
        },
        {
         "A": 21367.042857142853,
         "B": 9528.538333333332,
         "All": 20337.607681159418,
         "_deepnote_index_column": "96"
        },
        {
         "A": 28471.266969696975,
         "B": 5828.873333333333,
         "All": 26584.40083333334,
         "_deepnote_index_column": "97"
        },
        {
         "A": 12875.423181818182,
         "B": 217.4283333333333,
         "All": 11820.590277777777,
         "_deepnote_index_column": "98"
        },
        {
         "A": 379.12365853658537,
         "B": 0,
         "All": 379.12365853658537,
         "_deepnote_index_column": "99"
        }
       ]
      },
      "text/plain": "type                   A              B           All\ndepartment                                           \n1           30961.725379   44050.626667  32052.467153\n2           67600.158788  112958.526667  71380.022778\n3           17160.002955   30580.655000  18278.390625\n4           44285.399091   51219.654167  44863.253681\n5           34821.011364   63236.875000  37189.000000\n...                  ...            ...           ...\n96          21367.042857    9528.538333  20337.607681\n97          28471.266970    5828.873333  26584.400833\n98          12875.423182     217.428333  11820.590278\n99            379.123659       0.000000    379.123659\nAll         23674.667242   25696.678370  23843.950149\n\n[81 rows x 3 columns]",
      "text/html": "<div>\n<style scoped>\n    .dataframe tbody tr th:only-of-type {\n        vertical-align: middle;\n    }\n\n    .dataframe tbody tr th {\n        vertical-align: top;\n    }\n\n    .dataframe thead th {\n        text-align: right;\n    }\n</style>\n<table border=\"1\" class=\"dataframe\">\n  <thead>\n    <tr style=\"text-align: right;\">\n      <th>type</th>\n      <th>A</th>\n      <th>B</th>\n      <th>All</th>\n    </tr>\n    <tr>\n      <th>department</th>\n      <th></th>\n      <th></th>\n      <th></th>\n    </tr>\n  </thead>\n  <tbody>\n    <tr>\n      <th>1</th>\n      <td>30961.725379</td>\n      <td>44050.626667</td>\n      <td>32052.467153</td>\n    </tr>\n    <tr>\n      <th>2</th>\n      <td>67600.158788</td>\n      <td>112958.526667</td>\n      <td>71380.022778</td>\n    </tr>\n    <tr>\n      <th>3</th>\n      <td>17160.002955</td>\n      <td>30580.655000</td>\n      <td>18278.390625</td>\n    </tr>\n    <tr>\n      <th>4</th>\n      <td>44285.399091</td>\n      <td>51219.654167</td>\n      <td>44863.253681</td>\n    </tr>\n    <tr>\n      <th>5</th>\n      <td>34821.011364</td>\n      <td>63236.875000</td>\n      <td>37189.000000</td>\n    </tr>\n    <tr>\n      <th>...</th>\n      <td>...</td>\n      <td>...</td>\n      <td>...</td>\n    </tr>\n    <tr>\n      <th>96</th>\n      <td>21367.042857</td>\n      <td>9528.538333</td>\n      <td>20337.607681</td>\n    </tr>\n    <tr>\n      <th>97</th>\n      <td>28471.266970</td>\n      <td>5828.873333</td>\n      <td>26584.400833</td>\n    </tr>\n    <tr>\n      <th>98</th>\n      <td>12875.423182</td>\n      <td>217.428333</td>\n      <td>11820.590278</td>\n    </tr>\n    <tr>\n      <th>99</th>\n      <td>379.123659</td>\n      <td>0.000000</td>\n      <td>379.123659</td>\n    </tr>\n    <tr>\n      <th>All</th>\n      <td>23674.667242</td>\n      <td>25696.678370</td>\n      <td>23843.950149</td>\n    </tr>\n  </tbody>\n</table>\n<p>81 rows × 3 columns</p>\n</div>"
     },
     "metadata": {}
    }
   ]
  },
  {
   "cell_type": "markdown",
   "source": "<a style='text-decoration:none;line-height:16px;display:flex;color:#5B5B62;padding:10px;justify-content:end;' href='https://deepnote.com?utm_source=created-in-deepnote-cell&projectId=ccf93317-bea1-4146-b94a-20aafb784b0b' target=\"_blank\">\n<img alt='Created in deepnote.com' style='display:inline;max-height:16px;margin:0px;margin-right:7.5px;' src='data:image/svg+xml;base64,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' > </img>\nCreated in <span style='font-weight:600;margin-left:4px;'>Deepnote</span></a>",
   "metadata": {
    "tags": [],
    "created_in_deepnote_cell": true,
    "deepnote_cell_type": "markdown"
   }
  }
 ],
 "nbformat": 4,
 "nbformat_minor": 2,
 "metadata": {
  "orig_nbformat": 2,
  "deepnote": {},
  "deepnote_notebook_id": "0e86b243-f99f-449f-88f3-7a5f9fbb7fef",
  "deepnote_execution_queue": []
 }
}