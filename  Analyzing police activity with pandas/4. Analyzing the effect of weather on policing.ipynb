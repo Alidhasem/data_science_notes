{
 "cells": [
  {
   "cell_type": "markdown",
   "source": "# Analyzing the effect of weather on policing",
   "metadata": {
    "cell_id": "6c8354eaaffc4cab98f616583de77d6e",
    "tags": [],
    "is_collapsed": false,
    "deepnote_cell_type": "text-cell-h1"
   }
  },
  {
   "cell_type": "markdown",
   "source": "## Exploring the weather dataset",
   "metadata": {
    "cell_id": "5708c00219c844a7bf2cece8ca63eef7",
    "tags": [],
    "is_collapsed": false,
    "deepnote_cell_type": "text-cell-h2"
   }
  },
  {
   "cell_type": "markdown",
   "source": "The weather data you'll be using was collected by the National Centers for Environmental Information. \n\nOur hypothesis is that weather conditions impact police behavior during traffic stops.",
   "metadata": {
    "cell_id": "15fba46bb5964a24a522a40e829bf3dd",
    "tags": [],
    "deepnote_cell_type": "markdown",
    "deepnote_cell_height": 133.578125
   }
  },
  {
   "cell_type": "markdown",
   "source": "### Plotting the temperature",
   "metadata": {
    "cell_id": "2310f769421a49ddb5b3f414f1e8fd10",
    "tags": [],
    "is_collapsed": false,
    "deepnote_cell_type": "text-cell-h3"
   }
  },
  {
   "cell_type": "code",
   "metadata": {
    "cell_id": "0137e906f2d24c17af6094a0ec9ef995",
    "tags": [],
    "deepnote_to_be_reexecuted": false,
    "source_hash": "6f772cd1",
    "execution_start": 1654006592708,
    "deepnote_cell_type": "code",
    "deepnote_cell_height": 66
   },
   "source": "# Select the temperature columns (TMIN, TAVG, TMAX) and print their summary statistics. ",
   "execution_count": 1,
   "outputs": []
  },
  {
   "cell_type": "code",
   "metadata": {
    "cell_id": "b49a3f8d27f74bfda555eb6c3003577a",
    "tags": [],
    "deepnote_to_be_reexecuted": false,
    "source_hash": "f2410e56",
    "execution_start": 1654006592709,
    "deepnote_cell_type": "code",
    "deepnote_cell_height": 66
   },
   "source": "# Create a box plot to visualize the temperature columns.",
   "execution_count": 2,
   "outputs": []
  },
  {
   "cell_type": "markdown",
   "source": "### Plotting the temperature difference",
   "metadata": {
    "cell_id": "076aceac755646dbbedcf28d9b794509",
    "tags": [],
    "is_collapsed": false,
    "deepnote_cell_type": "text-cell-h3"
   }
  },
  {
   "cell_type": "code",
   "metadata": {
    "cell_id": "d339c154810343a9abf3e967a3cc7d6c",
    "tags": [],
    "deepnote_to_be_reexecuted": false,
    "source_hash": "61fab11f",
    "execution_start": 1654006592748,
    "deepnote_cell_type": "code",
    "deepnote_cell_height": 66
   },
   "source": "# Create a new column named TDIFF that represents the difference between the maximum and minimum temperatures.",
   "execution_count": 3,
   "outputs": []
  },
  {
   "cell_type": "code",
   "metadata": {
    "cell_id": "77ff0b0209ea4986a1de018f55051e63",
    "tags": [],
    "deepnote_to_be_reexecuted": false,
    "source_hash": "a09f3e8",
    "execution_start": 1654006592749,
    "execution_millis": 0,
    "deepnote_cell_type": "code",
    "deepnote_cell_height": 66
   },
   "source": "# Print the summary statistics for TDIFF.",
   "execution_count": 4,
   "outputs": []
  },
  {
   "cell_type": "code",
   "metadata": {
    "cell_id": "393223eb47d14185b3e6249c199eca1f",
    "tags": [],
    "deepnote_to_be_reexecuted": false,
    "source_hash": "a1b7a295",
    "execution_start": 1654006592788,
    "deepnote_cell_type": "code",
    "deepnote_cell_height": 66
   },
   "source": "# Create a histogram with 20 bins to visualize TDIFF. ",
   "execution_count": 5,
   "outputs": []
  },
  {
   "cell_type": "markdown",
   "source": "## Categorizing the weather",
   "metadata": {
    "cell_id": "b2358d103da94c228886a066d9a2f806",
    "tags": [],
    "is_collapsed": false,
    "deepnote_cell_type": "text-cell-h2"
   }
  },
  {
   "cell_type": "markdown",
   "source": "### Counting bad weather conditions",
   "metadata": {
    "cell_id": "7842fd67fa604283a4fbc382fb83dfa9",
    "tags": [],
    "is_collapsed": false,
    "deepnote_cell_type": "text-cell-h3"
   }
  },
  {
   "cell_type": "code",
   "metadata": {
    "cell_id": "315025a8255441bf8e68e2b1e395ebf0",
    "tags": [],
    "deepnote_to_be_reexecuted": false,
    "source_hash": "d8edbc2a",
    "execution_start": 1654006592903,
    "deepnote_cell_type": "code",
    "deepnote_cell_height": 66
   },
   "source": "# Copy the columns WT01 through WT22 from weather to a new DataFrame named WT.",
   "execution_count": 6,
   "outputs": []
  },
  {
   "cell_type": "code",
   "metadata": {
    "cell_id": "ff78ef6824f8454792169b77fca1eb72",
    "tags": [],
    "deepnote_to_be_reexecuted": false,
    "source_hash": "bec3858",
    "execution_start": 1654006592947,
    "deepnote_cell_type": "code",
    "deepnote_cell_height": 66
   },
   "source": "# Calculate the sum of each row in WT, and store the results in a new weather column named bad_conditions.",
   "execution_count": 7,
   "outputs": []
  },
  {
   "cell_type": "code",
   "metadata": {
    "cell_id": "b9ce590a2b3a4081adadcddd0fdc2ce7",
    "tags": [],
    "owner_user_id": "ef1985d3-6878-4f43-aa7a-40eb37e1c2a1",
    "deepnote_to_be_reexecuted": false,
    "source_hash": "3c3eeb7a",
    "execution_start": 1654006592992,
    "deepnote_cell_type": "code",
    "deepnote_cell_height": 66
   },
   "source": "# Replace any missing values in bad_conditions with a 0.",
   "execution_count": 8,
   "outputs": []
  },
  {
   "cell_type": "code",
   "metadata": {
    "cell_id": "78f33d153dae4b41a6b67912c2e52052",
    "tags": [],
    "deepnote_to_be_reexecuted": false,
    "source_hash": "301926f1",
    "execution_start": 1654006593044,
    "deepnote_cell_type": "code",
    "deepnote_cell_height": 66
   },
   "source": "# Create a histogram to visualize bad_conditions. ",
   "execution_count": 9,
   "outputs": []
  },
  {
   "cell_type": "markdown",
   "source": "### Rating the weather conditions",
   "metadata": {
    "cell_id": "b4c35cf541f64a73865935013aa02613",
    "tags": [],
    "is_collapsed": false,
    "deepnote_cell_type": "text-cell-h3"
   }
  },
  {
   "cell_type": "code",
   "metadata": {
    "cell_id": "8b8123a4891c4c48994a6ccfac1af9af",
    "tags": [],
    "deepnote_to_be_reexecuted": false,
    "source_hash": "e5cf226a",
    "execution_start": 1654006593083,
    "execution_millis": 86522155,
    "deepnote_cell_type": "code",
    "deepnote_cell_height": 81
   },
   "source": "# Count the unique values in the bad_conditions column and sort the index.",
   "execution_count": 10,
   "outputs": []
  },
  {
   "cell_type": "code",
   "metadata": {
    "cell_id": "cad21cf320634249b7f805735b6bfb52",
    "tags": [],
    "deepnote_to_be_reexecuted": false,
    "source_hash": "ac9d0e6e",
    "execution_start": 1654006593135,
    "deepnote_cell_type": "code",
    "deepnote_cell_height": 84
   },
   "source": "# Create a dictionary called mapping that maps the bad_conditions integers to the specified strings.\n# {0:'good', 1:'bad', 2:'bad', 3:'worse'}",
   "execution_count": 11,
   "outputs": []
  },
  {
   "cell_type": "code",
   "metadata": {
    "cell_id": "da9619b237e2446fa3554cbc06bc75be",
    "tags": [],
    "deepnote_to_be_reexecuted": false,
    "source_hash": "b5cd073a",
    "execution_start": 1654006593168,
    "deepnote_cell_type": "code",
    "deepnote_cell_height": 66
   },
   "source": "# Convert the bad_conditions integers to strings using the mapping and store the results in a new column called rating.",
   "execution_count": 12,
   "outputs": []
  },
  {
   "cell_type": "code",
   "metadata": {
    "cell_id": "c41a2c09fba843b1b225f9bf3f067cb7",
    "tags": [],
    "deepnote_to_be_reexecuted": false,
    "source_hash": "d09e74af",
    "execution_start": 1654006593197,
    "deepnote_cell_type": "code",
    "deepnote_cell_height": 66
   },
   "source": "# Count the unique values in rating to verify that the integers were properly converted to strings.",
   "execution_count": 13,
   "outputs": []
  },
  {
   "cell_type": "markdown",
   "source": "### Changing the data type to category",
   "metadata": {
    "cell_id": "d8f690bffb6c434fb79304d5b5818f2e",
    "tags": [],
    "is_collapsed": false,
    "deepnote_cell_type": "text-cell-h3"
   }
  },
  {
   "cell_type": "code",
   "metadata": {
    "cell_id": "0a889b7198c44b7eb965722e8b0abd11",
    "tags": [],
    "deepnote_to_be_reexecuted": false,
    "source_hash": "c4d238df",
    "execution_start": 1654006593252,
    "deepnote_cell_type": "code",
    "deepnote_cell_height": 66
   },
   "source": "# Create a CategoricalDtype object called cats that lists the weather ratings in a logical order: 'good', 'bad', 'worse'.",
   "execution_count": 14,
   "outputs": []
  },
  {
   "cell_type": "code",
   "metadata": {
    "cell_id": "accd801369ee4825bbfdcc66238452bf",
    "tags": [],
    "deepnote_to_be_reexecuted": false,
    "source_hash": "25c87ef3",
    "execution_start": 1654006593296,
    "deepnote_cell_type": "code",
    "deepnote_cell_height": 66
   },
   "source": "# Use the cats object to change the data type of the rating column from object to category.",
   "execution_count": 15,
   "outputs": []
  },
  {
   "cell_type": "code",
   "metadata": {
    "cell_id": "7a9caf6803394964998fde02acd849fc",
    "tags": [],
    "deepnote_to_be_reexecuted": false,
    "source_hash": "25c87ef3",
    "execution_start": 1654006593297,
    "deepnote_cell_type": "code",
    "deepnote_cell_height": 66
   },
   "source": "# Use the cats object to change the data type of the rating column from object to category.",
   "execution_count": 16,
   "outputs": []
  },
  {
   "cell_type": "markdown",
   "source": "## Merging datasets",
   "metadata": {
    "cell_id": "0be7361dc48b4037a86fec117184a2d1",
    "tags": [],
    "is_collapsed": false,
    "deepnote_cell_type": "text-cell-h2"
   }
  },
  {
   "cell_type": "markdown",
   "source": "### Preparing the DataFrames",
   "metadata": {
    "cell_id": "fd5db613b46b43eea86904e060ffd1d1",
    "tags": [],
    "is_collapsed": false,
    "deepnote_cell_type": "text-cell-h3"
   }
  },
  {
   "cell_type": "code",
   "metadata": {
    "cell_id": "7aff391095644b6ab6f31263b76b17d5",
    "tags": [],
    "deepnote_to_be_reexecuted": false,
    "source_hash": "809d7d04",
    "execution_start": 1654006593353,
    "deepnote_cell_type": "code",
    "deepnote_cell_height": 66
   },
   "source": "# Reset the index of the ri DataFrame",
   "execution_count": 17,
   "outputs": []
  },
  {
   "cell_type": "code",
   "metadata": {
    "cell_id": "3fb67210861847e599862a39638950c4",
    "tags": [],
    "deepnote_to_be_reexecuted": false,
    "source_hash": "f3aaadc3",
    "execution_start": 1654006593354,
    "deepnote_cell_type": "code",
    "deepnote_cell_height": 66
   },
   "source": "# Create a new DataFrame named weather_rating that contains only the DATE and rating columns from the weather DataFrame",
   "execution_count": 18,
   "outputs": []
  },
  {
   "cell_type": "markdown",
   "source": "### Merging the DataFrames",
   "metadata": {
    "cell_id": "a5e280e6b58e404c80e9ec15004c70af",
    "tags": [],
    "is_collapsed": false,
    "deepnote_cell_type": "text-cell-h3"
   }
  },
  {
   "cell_type": "code",
   "metadata": {
    "cell_id": "ac582e7032c041a7adfe3d841343053e",
    "tags": [],
    "deepnote_to_be_reexecuted": false,
    "source_hash": "4fee29d8",
    "execution_start": 1654006593354,
    "deepnote_cell_type": "code",
    "deepnote_cell_height": 66
   },
   "source": "# Examine the shape of the ri DataFrame.",
   "execution_count": 19,
   "outputs": []
  },
  {
   "cell_type": "code",
   "metadata": {
    "cell_id": "9ea60ca2649540ed826237dcbdece704",
    "tags": [],
    "deepnote_to_be_reexecuted": false,
    "source_hash": "a37bd634",
    "execution_start": 1654006593355,
    "deepnote_cell_type": "code",
    "deepnote_cell_height": 66
   },
   "source": "# Merge the ri and weather_rating DataFrames using a left join.",
   "execution_count": 20,
   "outputs": []
  },
  {
   "cell_type": "code",
   "metadata": {
    "cell_id": "fa9964900a874f6190e5e9a6c7e935cd",
    "tags": [],
    "deepnote_to_be_reexecuted": false,
    "source_hash": "e353301d",
    "execution_start": 1654006593387,
    "deepnote_cell_type": "code",
    "deepnote_cell_height": 66
   },
   "source": "# Examine the shape of ri_weather to confirm that it has two more columns but the same number of rows as ri.",
   "execution_count": 21,
   "outputs": []
  },
  {
   "cell_type": "code",
   "metadata": {
    "cell_id": "1c4312c8dcaa4708a3d02a7036240955",
    "tags": [],
    "deepnote_to_be_reexecuted": false,
    "source_hash": "12113400",
    "execution_start": 1654006593388,
    "deepnote_cell_type": "code",
    "deepnote_cell_height": 66
   },
   "source": "# Replace the index of ri_weather with the stop_datetime column.",
   "execution_count": 22,
   "outputs": []
  },
  {
   "cell_type": "markdown",
   "source": "## Does weather affect the arrest rate?",
   "metadata": {
    "cell_id": "3e8adea1d3a64c1cae39736cd36c6f98",
    "tags": [],
    "is_collapsed": false,
    "deepnote_cell_type": "text-cell-h2"
   }
  },
  {
   "cell_type": "markdown",
   "source": "### Comparing arrest rates by weather rating",
   "metadata": {
    "cell_id": "a8b1c234de7d413c96419927b74c5edb",
    "tags": [],
    "is_collapsed": false,
    "deepnote_cell_type": "text-cell-h3"
   }
  },
  {
   "cell_type": "code",
   "metadata": {
    "cell_id": "d2298b52be2f47d7a5e747e59e273fd7",
    "tags": [],
    "deepnote_to_be_reexecuted": false,
    "source_hash": "8f17b9d3",
    "execution_start": 1654006593395,
    "deepnote_cell_type": "code",
    "deepnote_cell_height": 66
   },
   "source": "# Calculate the overall arrest rate",
   "execution_count": 23,
   "outputs": []
  },
  {
   "cell_type": "code",
   "metadata": {
    "cell_id": "31732b707fb045afb31540b9ede36bbd",
    "tags": [],
    "deepnote_to_be_reexecuted": false,
    "source_hash": "653fd45e",
    "execution_start": 1654006593451,
    "deepnote_cell_type": "code",
    "deepnote_cell_height": 66
   },
   "source": "# Calculate the arrest rate for each weather rating using a .groupby()",
   "execution_count": 24,
   "outputs": []
  },
  {
   "cell_type": "code",
   "metadata": {
    "cell_id": "f295659292f34ed8b1a15742835403b4",
    "tags": [],
    "deepnote_to_be_reexecuted": false,
    "source_hash": "b956c732",
    "execution_start": 1654006593452,
    "deepnote_cell_type": "code",
    "deepnote_cell_height": 84
   },
   "source": "# Calculate the arrest rate for each combination of violation and rating\n# How do the arrest rates differ by group?",
   "execution_count": 25,
   "outputs": []
  },
  {
   "cell_type": "markdown",
   "source": "### Selecting from a multi-indexed Series",
   "metadata": {
    "cell_id": "b3cc24c350e04e79930b6cfcb9442164",
    "tags": [],
    "is_collapsed": false,
    "deepnote_cell_type": "text-cell-h3"
   }
  },
  {
   "cell_type": "code",
   "metadata": {
    "cell_id": "d3442ac6b2584951afaa8a3c165f4cce",
    "tags": [],
    "deepnote_to_be_reexecuted": false,
    "source_hash": "57a45455",
    "execution_start": 1654006593493,
    "deepnote_cell_type": "code",
    "deepnote_cell_height": 66
   },
   "source": "# Print the arrest rate for moving violations in bad weather",
   "execution_count": 26,
   "outputs": []
  },
  {
   "cell_type": "code",
   "metadata": {
    "cell_id": "1d4f7dcd1c70468cbfe7a0b261b79add",
    "tags": [],
    "deepnote_to_be_reexecuted": false,
    "source_hash": "f652ff94",
    "execution_start": 1654006593494,
    "deepnote_cell_type": "code",
    "deepnote_cell_height": 66
   },
   "source": "# Print the arrest rates for speeding violations in all three weather conditions",
   "execution_count": 27,
   "outputs": []
  },
  {
   "cell_type": "markdown",
   "source": "### Reshaping the arrest rate data",
   "metadata": {
    "cell_id": "6a80283aaa774f6e86c957fec3a858ef",
    "tags": [],
    "is_collapsed": false,
    "deepnote_cell_type": "text-cell-h3"
   }
  },
  {
   "cell_type": "code",
   "metadata": {
    "cell_id": "f2227b0c779349de8620588ac8b6390b",
    "tags": [],
    "deepnote_to_be_reexecuted": false,
    "source_hash": "8eefd883",
    "execution_start": 1654006593494,
    "deepnote_cell_type": "code",
    "deepnote_cell_height": 66
   },
   "source": "# Unstack the arrest_rate Series to reshape it into a DataFrame",
   "execution_count": 28,
   "outputs": []
  },
  {
   "cell_type": "code",
   "metadata": {
    "cell_id": "1123868dabe4402b98801ebba2e3eed0",
    "tags": [],
    "deepnote_to_be_reexecuted": false,
    "source_hash": "cbcb24d0",
    "execution_start": 1654006593495,
    "deepnote_cell_type": "code",
    "deepnote_cell_height": 84
   },
   "source": "# Create the exact same DataFrame using a pivot table! \n# Each of the three .pivot_table() parameters should be specified as one of the ri_weather columns",
   "execution_count": 29,
   "outputs": []
  },
  {
   "cell_type": "markdown",
   "source": "<a style='text-decoration:none;line-height:16px;display:flex;color:#5B5B62;padding:10px;justify-content:end;' href='https://deepnote.com?utm_source=created-in-deepnote-cell&projectId=dc001eea-22fe-4a27-852d-7fbece520334' target=\"_blank\">\n<img alt='Created in deepnote.com' style='display:inline;max-height:16px;margin:0px;margin-right:7.5px;' src='data:image/svg+xml;base64,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' > </img>\nCreated in <span style='font-weight:600;margin-left:4px;'>Deepnote</span></a>",
   "metadata": {
    "tags": [],
    "created_in_deepnote_cell": true,
    "deepnote_cell_type": "markdown"
   }
  }
 ],
 "nbformat": 4,
 "nbformat_minor": 2,
 "metadata": {
  "orig_nbformat": 2,
  "deepnote": {},
  "deepnote_notebook_id": "f925995a-8c87-4249-b630-117244e48262",
  "deepnote_execution_queue": []
 }
}