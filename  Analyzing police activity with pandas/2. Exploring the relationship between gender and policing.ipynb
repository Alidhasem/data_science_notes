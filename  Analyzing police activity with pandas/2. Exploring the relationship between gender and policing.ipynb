{
 "cells": [
  {
   "cell_type": "markdown",
   "source": "# Exploring the relationship between gender and policing\n",
   "metadata": {
    "cell_id": "8a94875650124262bd01527594156030",
    "tags": [],
    "is_collapsed": false,
    "deepnote_cell_type": "text-cell-h1"
   }
  },
  {
   "cell_type": "markdown",
   "source": "You'll be working with a dataset of traffic stops by police officers that was collected by the Stanford Open Policing Project. \n\nYou'll be focusing on data from the state of Rhode Island. ",
   "metadata": {
    "cell_id": "448e366ddf76425e8dfb7a3898349783",
    "tags": [],
    "owner_user_id": "ef1985d3-6878-4f43-aa7a-40eb37e1c2a1",
    "deepnote_cell_type": "markdown",
    "deepnote_cell_height": 111.1875
   }
  },
  {
   "cell_type": "code",
   "metadata": {
    "cell_id": "a98a6e93804545ddad70547595ddca3e",
    "tags": [],
    "deepnote_to_be_reexecuted": false,
    "source_hash": "4805839e",
    "execution_start": 1653930814593,
    "execution_millis": 633,
    "deepnote_cell_type": "code",
    "deepnote_cell_height": 444.078125
   },
   "source": "import pandas as pd\nri = pd.read_csv('/work/data_science_notes/ Analyzing police activity with pandas/data/police.csv')\nri.head()",
   "execution_count": null,
   "outputs": [
    {
     "output_type": "execute_result",
     "execution_count": 2,
     "data": {
      "application/vnd.deepnote.dataframe.v3+json": {
       "column_count": 15,
       "row_count": 5,
       "columns": [
        {
         "name": "state",
         "dtype": "object",
         "stats": {
          "unique_count": 1,
          "nan_count": 0,
          "categories": [
           {
            "name": "RI",
            "count": 5
           }
          ]
         }
        },
        {
         "name": "stop_date",
         "dtype": "object",
         "stats": {
          "unique_count": 5,
          "nan_count": 0,
          "categories": [
           {
            "name": "2005-01-04",
            "count": 1
           },
           {
            "name": "2005-01-23",
            "count": 1
           },
           {
            "name": "3 others",
            "count": 3
           }
          ]
         }
        },
        {
         "name": "stop_time",
         "dtype": "object",
         "stats": {
          "unique_count": 5,
          "nan_count": 0,
          "categories": [
           {
            "name": "12:55",
            "count": 1
           },
           {
            "name": "23:15",
            "count": 1
           },
           {
            "name": "3 others",
            "count": 3
           }
          ]
         }
        },
        {
         "name": "county_name",
         "dtype": "float64",
         "stats": {
          "unique_count": 0,
          "nan_count": 5,
          "min": null,
          "max": null,
          "histogram": [
           {
            "bin_start": 0,
            "bin_end": 0.1,
            "count": 0
           },
           {
            "bin_start": 0.1,
            "bin_end": 0.2,
            "count": 0
           },
           {
            "bin_start": 0.2,
            "bin_end": 0.30000000000000004,
            "count": 0
           },
           {
            "bin_start": 0.30000000000000004,
            "bin_end": 0.4,
            "count": 0
           },
           {
            "bin_start": 0.4,
            "bin_end": 0.5,
            "count": 0
           },
           {
            "bin_start": 0.5,
            "bin_end": 0.6000000000000001,
            "count": 0
           },
           {
            "bin_start": 0.6000000000000001,
            "bin_end": 0.7000000000000001,
            "count": 0
           },
           {
            "bin_start": 0.7000000000000001,
            "bin_end": 0.8,
            "count": 0
           },
           {
            "bin_start": 0.8,
            "bin_end": 0.9,
            "count": 0
           },
           {
            "bin_start": 0.9,
            "bin_end": 1,
            "count": 0
           }
          ]
         }
        },
        {
         "name": "driver_gender",
         "dtype": "object",
         "stats": {
          "unique_count": 2,
          "nan_count": 0,
          "categories": [
           {
            "name": "M",
            "count": 4
           },
           {
            "name": "F",
            "count": 1
           }
          ]
         }
        },
        {
         "name": "driver_race",
         "dtype": "object",
         "stats": {
          "unique_count": 1,
          "nan_count": 0,
          "categories": [
           {
            "name": "White",
            "count": 5
           }
          ]
         }
        },
        {
         "name": "violation_raw",
         "dtype": "object",
         "stats": {
          "unique_count": 3,
          "nan_count": 0,
          "categories": [
           {
            "name": "Speeding",
            "count": 3
           },
           {
            "name": "Equipment/Inspection Violation",
            "count": 1
           },
           {
            "name": "Call for Service",
            "count": 1
           }
          ]
         }
        },
        {
         "name": "violation",
         "dtype": "object",
         "stats": {
          "unique_count": 3,
          "nan_count": 0,
          "categories": [
           {
            "name": "Speeding",
            "count": 3
           },
           {
            "name": "Equipment",
            "count": 1
           },
           {
            "name": "Other",
            "count": 1
           }
          ]
         }
        },
        {
         "name": "search_conducted",
         "dtype": "bool",
         "stats": {
          "unique_count": 1,
          "nan_count": 0,
          "categories": [
           {
            "name": "False",
            "count": 5
           }
          ]
         }
        },
        {
         "name": "search_type",
         "dtype": "object",
         "stats": {
          "unique_count": 0,
          "nan_count": 5,
          "categories": [
           {
            "name": "Missing",
            "count": 5
           }
          ]
         }
        },
        {
         "name": "stop_outcome",
         "dtype": "object",
         "stats": {
          "unique_count": 2,
          "nan_count": 0,
          "categories": [
           {
            "name": "Citation",
            "count": 4
           },
           {
            "name": "Arrest Driver",
            "count": 1
           }
          ]
         }
        },
        {
         "name": "is_arrested",
         "dtype": "object",
         "stats": {
          "unique_count": 2,
          "nan_count": 0,
          "categories": [
           {
            "name": "False",
            "count": 4
           },
           {
            "name": "True",
            "count": 1
           }
          ]
         }
        },
        {
         "name": "stop_duration",
         "dtype": "object",
         "stats": {
          "unique_count": 2,
          "nan_count": 0,
          "categories": [
           {
            "name": "0-15 Min",
            "count": 4
           },
           {
            "name": "16-30 Min",
            "count": 1
           }
          ]
         }
        },
        {
         "name": "drugs_related_stop",
         "dtype": "bool",
         "stats": {
          "unique_count": 1,
          "nan_count": 0,
          "categories": [
           {
            "name": "False",
            "count": 5
           }
          ]
         }
        },
        {
         "name": "district",
         "dtype": "object",
         "stats": {
          "unique_count": 4,
          "nan_count": 0,
          "categories": [
           {
            "name": "Zone X4",
            "count": 2
           },
           {
            "name": "Zone K3",
            "count": 1
           },
           {
            "name": "2 others",
            "count": 2
           }
          ]
         }
        },
        {
         "name": "_deepnote_index_column",
         "dtype": "int64"
        }
       ],
       "rows": [
        {
         "state": "RI",
         "stop_date": "2005-01-04",
         "stop_time": "12:55",
         "county_name": "nan",
         "driver_gender": "M",
         "driver_race": "White",
         "violation_raw": "Equipment/Inspection Violation",
         "violation": "Equipment",
         "search_conducted": false,
         "search_type": "nan",
         "stop_outcome": "Citation",
         "is_arrested": "False",
         "stop_duration": "0-15 Min",
         "drugs_related_stop": false,
         "district": "Zone X4",
         "_deepnote_index_column": 0
        },
        {
         "state": "RI",
         "stop_date": "2005-01-23",
         "stop_time": "23:15",
         "county_name": "nan",
         "driver_gender": "M",
         "driver_race": "White",
         "violation_raw": "Speeding",
         "violation": "Speeding",
         "search_conducted": false,
         "search_type": "nan",
         "stop_outcome": "Citation",
         "is_arrested": "False",
         "stop_duration": "0-15 Min",
         "drugs_related_stop": false,
         "district": "Zone K3",
         "_deepnote_index_column": 1
        },
        {
         "state": "RI",
         "stop_date": "2005-02-17",
         "stop_time": "04:15",
         "county_name": "nan",
         "driver_gender": "M",
         "driver_race": "White",
         "violation_raw": "Speeding",
         "violation": "Speeding",
         "search_conducted": false,
         "search_type": "nan",
         "stop_outcome": "Citation",
         "is_arrested": "False",
         "stop_duration": "0-15 Min",
         "drugs_related_stop": false,
         "district": "Zone X4",
         "_deepnote_index_column": 2
        },
        {
         "state": "RI",
         "stop_date": "2005-02-20",
         "stop_time": "17:15",
         "county_name": "nan",
         "driver_gender": "M",
         "driver_race": "White",
         "violation_raw": "Call for Service",
         "violation": "Other",
         "search_conducted": false,
         "search_type": "nan",
         "stop_outcome": "Arrest Driver",
         "is_arrested": "True",
         "stop_duration": "16-30 Min",
         "drugs_related_stop": false,
         "district": "Zone X1",
         "_deepnote_index_column": 3
        },
        {
         "state": "RI",
         "stop_date": "2005-02-24",
         "stop_time": "01:20",
         "county_name": "nan",
         "driver_gender": "F",
         "driver_race": "White",
         "violation_raw": "Speeding",
         "violation": "Speeding",
         "search_conducted": false,
         "search_type": "nan",
         "stop_outcome": "Citation",
         "is_arrested": "False",
         "stop_duration": "0-15 Min",
         "drugs_related_stop": false,
         "district": "Zone X3",
         "_deepnote_index_column": 4
        }
       ]
      },
      "text/plain": "  state   stop_date stop_time  county_name driver_gender driver_race  \\\n0    RI  2005-01-04     12:55          NaN             M       White   \n1    RI  2005-01-23     23:15          NaN             M       White   \n2    RI  2005-02-17     04:15          NaN             M       White   \n3    RI  2005-02-20     17:15          NaN             M       White   \n4    RI  2005-02-24     01:20          NaN             F       White   \n\n                    violation_raw  violation  search_conducted search_type  \\\n0  Equipment/Inspection Violation  Equipment             False         NaN   \n1                        Speeding   Speeding             False         NaN   \n2                        Speeding   Speeding             False         NaN   \n3                Call for Service      Other             False         NaN   \n4                        Speeding   Speeding             False         NaN   \n\n    stop_outcome is_arrested stop_duration  drugs_related_stop district  \n0       Citation       False      0-15 Min               False  Zone X4  \n1       Citation       False      0-15 Min               False  Zone K3  \n2       Citation       False      0-15 Min               False  Zone X4  \n3  Arrest Driver        True     16-30 Min               False  Zone X1  \n4       Citation       False      0-15 Min               False  Zone X3  ",
      "text/html": "<div>\n<style scoped>\n    .dataframe tbody tr th:only-of-type {\n        vertical-align: middle;\n    }\n\n    .dataframe tbody tr th {\n        vertical-align: top;\n    }\n\n    .dataframe thead th {\n        text-align: right;\n    }\n</style>\n<table border=\"1\" class=\"dataframe\">\n  <thead>\n    <tr style=\"text-align: right;\">\n      <th></th>\n      <th>state</th>\n      <th>stop_date</th>\n      <th>stop_time</th>\n      <th>county_name</th>\n      <th>driver_gender</th>\n      <th>driver_race</th>\n      <th>violation_raw</th>\n      <th>violation</th>\n      <th>search_conducted</th>\n      <th>search_type</th>\n      <th>stop_outcome</th>\n      <th>is_arrested</th>\n      <th>stop_duration</th>\n      <th>drugs_related_stop</th>\n      <th>district</th>\n    </tr>\n  </thead>\n  <tbody>\n    <tr>\n      <th>0</th>\n      <td>RI</td>\n      <td>2005-01-04</td>\n      <td>12:55</td>\n      <td>NaN</td>\n      <td>M</td>\n      <td>White</td>\n      <td>Equipment/Inspection Violation</td>\n      <td>Equipment</td>\n      <td>False</td>\n      <td>NaN</td>\n      <td>Citation</td>\n      <td>False</td>\n      <td>0-15 Min</td>\n      <td>False</td>\n      <td>Zone X4</td>\n    </tr>\n    <tr>\n      <th>1</th>\n      <td>RI</td>\n      <td>2005-01-23</td>\n      <td>23:15</td>\n      <td>NaN</td>\n      <td>M</td>\n      <td>White</td>\n      <td>Speeding</td>\n      <td>Speeding</td>\n      <td>False</td>\n      <td>NaN</td>\n      <td>Citation</td>\n      <td>False</td>\n      <td>0-15 Min</td>\n      <td>False</td>\n      <td>Zone K3</td>\n    </tr>\n    <tr>\n      <th>2</th>\n      <td>RI</td>\n      <td>2005-02-17</td>\n      <td>04:15</td>\n      <td>NaN</td>\n      <td>M</td>\n      <td>White</td>\n      <td>Speeding</td>\n      <td>Speeding</td>\n      <td>False</td>\n      <td>NaN</td>\n      <td>Citation</td>\n      <td>False</td>\n      <td>0-15 Min</td>\n      <td>False</td>\n      <td>Zone X4</td>\n    </tr>\n    <tr>\n      <th>3</th>\n      <td>RI</td>\n      <td>2005-02-20</td>\n      <td>17:15</td>\n      <td>NaN</td>\n      <td>M</td>\n      <td>White</td>\n      <td>Call for Service</td>\n      <td>Other</td>\n      <td>False</td>\n      <td>NaN</td>\n      <td>Arrest Driver</td>\n      <td>True</td>\n      <td>16-30 Min</td>\n      <td>False</td>\n      <td>Zone X1</td>\n    </tr>\n    <tr>\n      <th>4</th>\n      <td>RI</td>\n      <td>2005-02-24</td>\n      <td>01:20</td>\n      <td>NaN</td>\n      <td>F</td>\n      <td>White</td>\n      <td>Speeding</td>\n      <td>Speeding</td>\n      <td>False</td>\n      <td>NaN</td>\n      <td>Citation</td>\n      <td>False</td>\n      <td>0-15 Min</td>\n      <td>False</td>\n      <td>Zone X3</td>\n    </tr>\n  </tbody>\n</table>\n</div>"
     },
     "metadata": {}
    }
   ]
  },
  {
   "cell_type": "markdown",
   "source": "## Do the genders commit different violations?",
   "metadata": {
    "cell_id": "38b208e4db6d47ed90fc9f672b7ed179",
    "tags": [],
    "is_collapsed": false,
    "deepnote_cell_type": "text-cell-h2"
   }
  },
  {
   "cell_type": "code",
   "metadata": {
    "cell_id": "c95168d1bb7d410f8798643b59ffd294",
    "tags": [],
    "deepnote_cell_type": "code",
    "deepnote_cell_height": 66
   },
   "source": "# Count the unique values in the violation column of ri. ",
   "execution_count": null,
   "outputs": []
  },
  {
   "cell_type": "code",
   "metadata": {
    "cell_id": "246d532106084ce0869d8df2ccdb8f20",
    "tags": [],
    "deepnote_cell_type": "code",
    "deepnote_cell_height": 66
   },
   "source": "# Express the violation counts as proportions of the total.",
   "execution_count": null,
   "outputs": []
  },
  {
   "cell_type": "code",
   "metadata": {
    "cell_id": "96723cee83a84c42b74353c7e27a08db",
    "tags": [],
    "deepnote_cell_type": "code",
    "deepnote_cell_height": 84
   },
   "source": "# Create a DataFrame, female, that only contains rows in which driver_gender is 'F'.\n# Count the violations committed by female drivers and express them as proportions.",
   "execution_count": null,
   "outputs": []
  },
  {
   "cell_type": "code",
   "metadata": {
    "cell_id": "8d9b51d7ef854ea6bbac10c001a4cd6b",
    "tags": [],
    "deepnote_cell_type": "code",
    "deepnote_cell_height": 84
   },
   "source": "# Create a DataFrame, male, that only contains rows in which driver_gender is 'M'.\n# Count the violations committed by male drivers and express them as proportions.",
   "execution_count": null,
   "outputs": []
  },
  {
   "cell_type": "markdown",
   "source": "## Does gender affect who gets a ticket for speeding?",
   "metadata": {
    "cell_id": "ab0d4fccd9d1468e8bfefbf2fa0384b1",
    "tags": [],
    "is_collapsed": false,
    "deepnote_cell_type": "text-cell-h2"
   }
  },
  {
   "cell_type": "code",
   "metadata": {
    "cell_id": "e3b356d46edf4e32b53eed44c1917123",
    "tags": [],
    "deepnote_cell_type": "code",
    "deepnote_cell_height": 84
   },
   "source": "# Create a DataFrame, female_and_speeding, that only includes female drivers who were stopped for speeding.\n# Count the stop outcomes for the female drivers and express them as proportions.",
   "execution_count": null,
   "outputs": []
  },
  {
   "cell_type": "code",
   "metadata": {
    "cell_id": "9f05f35c1ac34e578c989c0a0aeaf769",
    "tags": [],
    "deepnote_cell_type": "code",
    "deepnote_cell_height": 84
   },
   "source": "# Create a DataFrame, male_and_speeding, that only includes male drivers who were stopped for speeding.\n# Count the stop outcomes for the male drivers and express them as proportions.",
   "execution_count": null,
   "outputs": []
  },
  {
   "cell_type": "markdown",
   "source": "## Does gender affect whose vehicle is searched?",
   "metadata": {
    "cell_id": "b020ad8362884791b2809d4a64d3c0f0",
    "tags": [],
    "is_collapsed": false,
    "deepnote_cell_type": "text-cell-h2"
   }
  },
  {
   "cell_type": "code",
   "metadata": {
    "cell_id": "d04c90ba25914f52aa8afcbab5139c26",
    "tags": [],
    "deepnote_cell_type": "code",
    "deepnote_cell_height": 66
   },
   "source": "# Check the data type of search_conducted to confirm that it's a Boolean Series.",
   "execution_count": null,
   "outputs": []
  },
  {
   "cell_type": "code",
   "metadata": {
    "cell_id": "d59d7faafd79467abce9adf7b4215a7c",
    "tags": [],
    "deepnote_cell_type": "code",
    "deepnote_cell_height": 66
   },
   "source": "# Calculate the search rate by counting the Series values and expressing them as proportions.",
   "execution_count": null,
   "outputs": []
  },
  {
   "cell_type": "code",
   "metadata": {
    "cell_id": "a8eee34dad1c4a5cbcdc572891134851",
    "tags": [],
    "deepnote_cell_type": "code",
    "deepnote_cell_height": 66
   },
   "source": "# Calculate the search rate by taking the mean of the Series. ",
   "execution_count": null,
   "outputs": []
  },
  {
   "cell_type": "code",
   "metadata": {
    "cell_id": "ed5f50a811784db98034aa9989c4ac83",
    "tags": [],
    "deepnote_cell_type": "code",
    "deepnote_cell_height": 66
   },
   "source": "# Filter the DataFrame to only include female drivers, and then calculate the search rate by taking the mean of search_conducted.",
   "execution_count": null,
   "outputs": []
  },
  {
   "cell_type": "code",
   "metadata": {
    "cell_id": "a8a2f61726484c299e6cc161f1ba7c48",
    "tags": [],
    "deepnote_cell_type": "code",
    "deepnote_cell_height": 66
   },
   "source": "# Filter the DataFrame to only include male drivers, and then repeat the search rate calculation.",
   "execution_count": null,
   "outputs": []
  },
  {
   "cell_type": "code",
   "metadata": {
    "cell_id": "17cdba679dc8414692c909f9d7ddd256",
    "tags": [],
    "deepnote_cell_type": "code",
    "deepnote_cell_height": 66
   },
   "source": "# Group by driver gender to calculate the search rate for both groups simultaneously.",
   "execution_count": null,
   "outputs": []
  },
  {
   "cell_type": "code",
   "metadata": {
    "cell_id": "19bc1d066a344b2d9200ceb4a84384ef",
    "tags": [],
    "deepnote_cell_type": "code",
    "deepnote_cell_height": 66
   },
   "source": "# Use a .groupby() to calculate the search rate for each combination of gender and violation. Are males and females searched at about the same rate for each violation?",
   "execution_count": null,
   "outputs": []
  },
  {
   "cell_type": "code",
   "metadata": {
    "cell_id": "75cdae471dab4a6891522d66d079a4de",
    "tags": [],
    "deepnote_cell_type": "code",
    "deepnote_cell_height": 66
   },
   "source": "# Reverse the ordering to group by violation before gender. The results may be easier to compare when presented this way.",
   "execution_count": null,
   "outputs": []
  },
  {
   "cell_type": "markdown",
   "source": "## Does gender affect who is frisked during a search?",
   "metadata": {
    "cell_id": "d5b079a48a9d464b8dc121c34be4125f",
    "tags": [],
    "is_collapsed": false,
    "deepnote_cell_type": "text-cell-h2"
   }
  },
  {
   "cell_type": "code",
   "metadata": {
    "cell_id": "452154a2a9cf48fbb271d938f9959248",
    "tags": [],
    "deepnote_cell_type": "code",
    "deepnote_cell_height": 66
   },
   "source": "# Count the search_type values in the ri DataFrame to see how many times \"Protective Frisk\" was the only search type.",
   "execution_count": null,
   "outputs": []
  },
  {
   "cell_type": "code",
   "metadata": {
    "cell_id": "db15d395e14c4be7853b41dbf080e9a2",
    "tags": [],
    "deepnote_cell_type": "code",
    "deepnote_cell_height": 66
   },
   "source": "# Create a new column, frisk, that is True if search_type contains the string \"Protective Frisk\" and False otherwise.",
   "execution_count": null,
   "outputs": []
  },
  {
   "cell_type": "code",
   "metadata": {
    "cell_id": "728060a1b0024edd96a238667d1a6ae6",
    "tags": [],
    "deepnote_cell_type": "code",
    "deepnote_cell_height": 66
   },
   "source": "# Check the data type of frisk to confirm that it's a Boolean Series.",
   "execution_count": null,
   "outputs": []
  },
  {
   "cell_type": "code",
   "metadata": {
    "cell_id": "29f982732a1745958a360f6fd7b3aa73",
    "tags": [],
    "deepnote_cell_type": "code",
    "deepnote_cell_height": 66
   },
   "source": "# Take the sum of frisk to count the total number of frisks.",
   "execution_count": null,
   "outputs": []
  },
  {
   "cell_type": "code",
   "metadata": {
    "cell_id": "acad909522aa4b239798963d67807988",
    "tags": [],
    "deepnote_cell_type": "code",
    "deepnote_cell_height": 66
   },
   "source": "# Create a DataFrame, searched, that only contains rows in which search_conducted is True.",
   "execution_count": null,
   "outputs": []
  },
  {
   "cell_type": "code",
   "metadata": {
    "cell_id": "c3ce70ad8ff041249f6565dc9185e3e6",
    "tags": [],
    "deepnote_cell_type": "code",
    "deepnote_cell_height": 66
   },
   "source": "# Take the mean of the frisk column to find out what percentage of searches included a frisk.",
   "execution_count": null,
   "outputs": []
  },
  {
   "cell_type": "code",
   "metadata": {
    "cell_id": "40dc634b2047441a8d38aa5ebdd8d502",
    "tags": [],
    "deepnote_cell_type": "code",
    "deepnote_cell_height": 66
   },
   "source": "# Calculate the frisk rate for each gender using a .groupby().",
   "execution_count": null,
   "outputs": []
  },
  {
   "cell_type": "markdown",
   "source": "<a style='text-decoration:none;line-height:16px;display:flex;color:#5B5B62;padding:10px;justify-content:end;' href='https://deepnote.com?utm_source=created-in-deepnote-cell&projectId=dc001eea-22fe-4a27-852d-7fbece520334' target=\"_blank\">\n<img alt='Created in deepnote.com' style='display:inline;max-height:16px;margin:0px;margin-right:7.5px;' src='data:image/svg+xml;base64,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' > </img>\nCreated in <span style='font-weight:600;margin-left:4px;'>Deepnote</span></a>",
   "metadata": {
    "tags": [],
    "created_in_deepnote_cell": true,
    "deepnote_cell_type": "markdown"
   }
  }
 ],
 "nbformat": 4,
 "nbformat_minor": 2,
 "metadata": {
  "orig_nbformat": 2,
  "deepnote": {},
  "deepnote_notebook_id": "d59b706e-8102-4147-9747-9ab40a537295",
  "deepnote_execution_queue": []
 }
}