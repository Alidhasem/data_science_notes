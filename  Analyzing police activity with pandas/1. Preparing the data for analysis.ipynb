{
 "cells": [
  {
   "cell_type": "markdown",
   "source": "# Preparing the data for analysis",
   "metadata": {
    "cell_id": "85917ecaf7594c6292366389e8241d63",
    "tags": [],
    "is_collapsed": false,
    "deepnote_cell_type": "text-cell-h1"
   }
  },
  {
   "cell_type": "markdown",
   "source": "## Stanford Open Policing Project dataset ",
   "metadata": {
    "cell_id": "92632f9b9d01403ba60bbbc441659e5c",
    "tags": [],
    "is_collapsed": false,
    "deepnote_cell_type": "text-cell-h2"
   }
  },
  {
   "cell_type": "code",
   "source": "# Import a dataset of traffic stops in Rhode Island\nimport pandas as pd\n\nri = pd.read_csv('/work/data_science_notes/ Analyzing police activity with pandas/data/police.csv')",
   "metadata": {
    "cell_id": "3e027f8b98864ae3b7034a73676f791e",
    "tags": [],
    "deepnote_to_be_reexecuted": false,
    "source_hash": "35722077",
    "execution_start": 1653781771092,
    "execution_millis": 482,
    "deepnote_cell_type": "code",
    "deepnote_cell_height": 135
   },
   "outputs": [],
   "execution_count": 1
  },
  {
   "cell_type": "code",
   "source": "ri.head()",
   "metadata": {
    "cell_id": "2f9e9a40bd6a4b488042699bf3ffe12e",
    "tags": [],
    "deepnote_to_be_reexecuted": false,
    "source_hash": "36e17c5f",
    "execution_start": 1653781771575,
    "execution_millis": 181,
    "deepnote_cell_type": "code",
    "deepnote_cell_height": 406.71875
   },
   "outputs": [
    {
     "output_type": "execute_result",
     "execution_count": 2,
     "data": {
      "application/vnd.deepnote.dataframe.v3+json": {
       "column_count": 15,
       "row_count": 5,
       "columns": [
        {
         "name": "state",
         "dtype": "object",
         "stats": {
          "unique_count": 1,
          "nan_count": 0,
          "categories": [
           {
            "name": "RI",
            "count": 5
           }
          ]
         }
        },
        {
         "name": "stop_date",
         "dtype": "object",
         "stats": {
          "unique_count": 5,
          "nan_count": 0,
          "categories": [
           {
            "name": "2005-01-04",
            "count": 1
           },
           {
            "name": "2005-01-23",
            "count": 1
           },
           {
            "name": "3 others",
            "count": 3
           }
          ]
         }
        },
        {
         "name": "stop_time",
         "dtype": "object",
         "stats": {
          "unique_count": 5,
          "nan_count": 0,
          "categories": [
           {
            "name": "12:55",
            "count": 1
           },
           {
            "name": "23:15",
            "count": 1
           },
           {
            "name": "3 others",
            "count": 3
           }
          ]
         }
        },
        {
         "name": "county_name",
         "dtype": "float64",
         "stats": {
          "unique_count": 0,
          "nan_count": 5,
          "min": null,
          "max": null,
          "histogram": [
           {
            "bin_start": 0,
            "bin_end": 0.1,
            "count": 0
           },
           {
            "bin_start": 0.1,
            "bin_end": 0.2,
            "count": 0
           },
           {
            "bin_start": 0.2,
            "bin_end": 0.30000000000000004,
            "count": 0
           },
           {
            "bin_start": 0.30000000000000004,
            "bin_end": 0.4,
            "count": 0
           },
           {
            "bin_start": 0.4,
            "bin_end": 0.5,
            "count": 0
           },
           {
            "bin_start": 0.5,
            "bin_end": 0.6000000000000001,
            "count": 0
           },
           {
            "bin_start": 0.6000000000000001,
            "bin_end": 0.7000000000000001,
            "count": 0
           },
           {
            "bin_start": 0.7000000000000001,
            "bin_end": 0.8,
            "count": 0
           },
           {
            "bin_start": 0.8,
            "bin_end": 0.9,
            "count": 0
           },
           {
            "bin_start": 0.9,
            "bin_end": 1,
            "count": 0
           }
          ]
         }
        },
        {
         "name": "driver_gender",
         "dtype": "object",
         "stats": {
          "unique_count": 2,
          "nan_count": 0,
          "categories": [
           {
            "name": "M",
            "count": 4
           },
           {
            "name": "F",
            "count": 1
           }
          ]
         }
        },
        {
         "name": "driver_race",
         "dtype": "object",
         "stats": {
          "unique_count": 1,
          "nan_count": 0,
          "categories": [
           {
            "name": "White",
            "count": 5
           }
          ]
         }
        },
        {
         "name": "violation_raw",
         "dtype": "object",
         "stats": {
          "unique_count": 3,
          "nan_count": 0,
          "categories": [
           {
            "name": "Speeding",
            "count": 3
           },
           {
            "name": "Equipment/Inspection Violation",
            "count": 1
           },
           {
            "name": "Call for Service",
            "count": 1
           }
          ]
         }
        },
        {
         "name": "violation",
         "dtype": "object",
         "stats": {
          "unique_count": 3,
          "nan_count": 0,
          "categories": [
           {
            "name": "Speeding",
            "count": 3
           },
           {
            "name": "Equipment",
            "count": 1
           },
           {
            "name": "Other",
            "count": 1
           }
          ]
         }
        },
        {
         "name": "search_conducted",
         "dtype": "bool",
         "stats": {
          "unique_count": 1,
          "nan_count": 0,
          "categories": [
           {
            "name": "False",
            "count": 5
           }
          ]
         }
        },
        {
         "name": "search_type",
         "dtype": "object",
         "stats": {
          "unique_count": 0,
          "nan_count": 5,
          "categories": [
           {
            "name": "Missing",
            "count": 5
           }
          ]
         }
        },
        {
         "name": "stop_outcome",
         "dtype": "object",
         "stats": {
          "unique_count": 2,
          "nan_count": 0,
          "categories": [
           {
            "name": "Citation",
            "count": 4
           },
           {
            "name": "Arrest Driver",
            "count": 1
           }
          ]
         }
        },
        {
         "name": "is_arrested",
         "dtype": "object",
         "stats": {
          "unique_count": 2,
          "nan_count": 0,
          "categories": [
           {
            "name": "False",
            "count": 4
           },
           {
            "name": "True",
            "count": 1
           }
          ]
         }
        },
        {
         "name": "stop_duration",
         "dtype": "object",
         "stats": {
          "unique_count": 2,
          "nan_count": 0,
          "categories": [
           {
            "name": "0-15 Min",
            "count": 4
           },
           {
            "name": "16-30 Min",
            "count": 1
           }
          ]
         }
        },
        {
         "name": "drugs_related_stop",
         "dtype": "bool",
         "stats": {
          "unique_count": 1,
          "nan_count": 0,
          "categories": [
           {
            "name": "False",
            "count": 5
           }
          ]
         }
        },
        {
         "name": "district",
         "dtype": "object",
         "stats": {
          "unique_count": 4,
          "nan_count": 0,
          "categories": [
           {
            "name": "Zone X4",
            "count": 2
           },
           {
            "name": "Zone K3",
            "count": 1
           },
           {
            "name": "2 others",
            "count": 2
           }
          ]
         }
        },
        {
         "name": "_deepnote_index_column",
         "dtype": "int64"
        }
       ],
       "rows": [
        {
         "state": "RI",
         "stop_date": "2005-01-04",
         "stop_time": "12:55",
         "county_name": "nan",
         "driver_gender": "M",
         "driver_race": "White",
         "violation_raw": "Equipment/Inspection Violation",
         "violation": "Equipment",
         "search_conducted": false,
         "search_type": "nan",
         "stop_outcome": "Citation",
         "is_arrested": "False",
         "stop_duration": "0-15 Min",
         "drugs_related_stop": false,
         "district": "Zone X4",
         "_deepnote_index_column": 0
        },
        {
         "state": "RI",
         "stop_date": "2005-01-23",
         "stop_time": "23:15",
         "county_name": "nan",
         "driver_gender": "M",
         "driver_race": "White",
         "violation_raw": "Speeding",
         "violation": "Speeding",
         "search_conducted": false,
         "search_type": "nan",
         "stop_outcome": "Citation",
         "is_arrested": "False",
         "stop_duration": "0-15 Min",
         "drugs_related_stop": false,
         "district": "Zone K3",
         "_deepnote_index_column": 1
        },
        {
         "state": "RI",
         "stop_date": "2005-02-17",
         "stop_time": "04:15",
         "county_name": "nan",
         "driver_gender": "M",
         "driver_race": "White",
         "violation_raw": "Speeding",
         "violation": "Speeding",
         "search_conducted": false,
         "search_type": "nan",
         "stop_outcome": "Citation",
         "is_arrested": "False",
         "stop_duration": "0-15 Min",
         "drugs_related_stop": false,
         "district": "Zone X4",
         "_deepnote_index_column": 2
        },
        {
         "state": "RI",
         "stop_date": "2005-02-20",
         "stop_time": "17:15",
         "county_name": "nan",
         "driver_gender": "M",
         "driver_race": "White",
         "violation_raw": "Call for Service",
         "violation": "Other",
         "search_conducted": false,
         "search_type": "nan",
         "stop_outcome": "Arrest Driver",
         "is_arrested": "True",
         "stop_duration": "16-30 Min",
         "drugs_related_stop": false,
         "district": "Zone X1",
         "_deepnote_index_column": 3
        },
        {
         "state": "RI",
         "stop_date": "2005-02-24",
         "stop_time": "01:20",
         "county_name": "nan",
         "driver_gender": "F",
         "driver_race": "White",
         "violation_raw": "Speeding",
         "violation": "Speeding",
         "search_conducted": false,
         "search_type": "nan",
         "stop_outcome": "Citation",
         "is_arrested": "False",
         "stop_duration": "0-15 Min",
         "drugs_related_stop": false,
         "district": "Zone X3",
         "_deepnote_index_column": 4
        }
       ]
      },
      "text/plain": "  state   stop_date stop_time  county_name driver_gender driver_race  \\\n0    RI  2005-01-04     12:55          NaN             M       White   \n1    RI  2005-01-23     23:15          NaN             M       White   \n2    RI  2005-02-17     04:15          NaN             M       White   \n3    RI  2005-02-20     17:15          NaN             M       White   \n4    RI  2005-02-24     01:20          NaN             F       White   \n\n                    violation_raw  violation  search_conducted search_type  \\\n0  Equipment/Inspection Violation  Equipment             False         NaN   \n1                        Speeding   Speeding             False         NaN   \n2                        Speeding   Speeding             False         NaN   \n3                Call for Service      Other             False         NaN   \n4                        Speeding   Speeding             False         NaN   \n\n    stop_outcome is_arrested stop_duration  drugs_related_stop district  \n0       Citation       False      0-15 Min               False  Zone X4  \n1       Citation       False      0-15 Min               False  Zone K3  \n2       Citation       False      0-15 Min               False  Zone X4  \n3  Arrest Driver        True     16-30 Min               False  Zone X1  \n4       Citation       False      0-15 Min               False  Zone X3  ",
      "text/html": "<div>\n<style scoped>\n    .dataframe tbody tr th:only-of-type {\n        vertical-align: middle;\n    }\n\n    .dataframe tbody tr th {\n        vertical-align: top;\n    }\n\n    .dataframe thead th {\n        text-align: right;\n    }\n</style>\n<table border=\"1\" class=\"dataframe\">\n  <thead>\n    <tr style=\"text-align: right;\">\n      <th></th>\n      <th>state</th>\n      <th>stop_date</th>\n      <th>stop_time</th>\n      <th>county_name</th>\n      <th>driver_gender</th>\n      <th>driver_race</th>\n      <th>violation_raw</th>\n      <th>violation</th>\n      <th>search_conducted</th>\n      <th>search_type</th>\n      <th>stop_outcome</th>\n      <th>is_arrested</th>\n      <th>stop_duration</th>\n      <th>drugs_related_stop</th>\n      <th>district</th>\n    </tr>\n  </thead>\n  <tbody>\n    <tr>\n      <th>0</th>\n      <td>RI</td>\n      <td>2005-01-04</td>\n      <td>12:55</td>\n      <td>NaN</td>\n      <td>M</td>\n      <td>White</td>\n      <td>Equipment/Inspection Violation</td>\n      <td>Equipment</td>\n      <td>False</td>\n      <td>NaN</td>\n      <td>Citation</td>\n      <td>False</td>\n      <td>0-15 Min</td>\n      <td>False</td>\n      <td>Zone X4</td>\n    </tr>\n    <tr>\n      <th>1</th>\n      <td>RI</td>\n      <td>2005-01-23</td>\n      <td>23:15</td>\n      <td>NaN</td>\n      <td>M</td>\n      <td>White</td>\n      <td>Speeding</td>\n      <td>Speeding</td>\n      <td>False</td>\n      <td>NaN</td>\n      <td>Citation</td>\n      <td>False</td>\n      <td>0-15 Min</td>\n      <td>False</td>\n      <td>Zone K3</td>\n    </tr>\n    <tr>\n      <th>2</th>\n      <td>RI</td>\n      <td>2005-02-17</td>\n      <td>04:15</td>\n      <td>NaN</td>\n      <td>M</td>\n      <td>White</td>\n      <td>Speeding</td>\n      <td>Speeding</td>\n      <td>False</td>\n      <td>NaN</td>\n      <td>Citation</td>\n      <td>False</td>\n      <td>0-15 Min</td>\n      <td>False</td>\n      <td>Zone X4</td>\n    </tr>\n    <tr>\n      <th>3</th>\n      <td>RI</td>\n      <td>2005-02-20</td>\n      <td>17:15</td>\n      <td>NaN</td>\n      <td>M</td>\n      <td>White</td>\n      <td>Call for Service</td>\n      <td>Other</td>\n      <td>False</td>\n      <td>NaN</td>\n      <td>Arrest Driver</td>\n      <td>True</td>\n      <td>16-30 Min</td>\n      <td>False</td>\n      <td>Zone X1</td>\n    </tr>\n    <tr>\n      <th>4</th>\n      <td>RI</td>\n      <td>2005-02-24</td>\n      <td>01:20</td>\n      <td>NaN</td>\n      <td>F</td>\n      <td>White</td>\n      <td>Speeding</td>\n      <td>Speeding</td>\n      <td>False</td>\n      <td>NaN</td>\n      <td>Citation</td>\n      <td>False</td>\n      <td>0-15 Min</td>\n      <td>False</td>\n      <td>Zone X3</td>\n    </tr>\n  </tbody>\n</table>\n</div>"
     },
     "metadata": {}
    }
   ],
   "execution_count": 2
  },
  {
   "cell_type": "code",
   "source": "ri.info()",
   "metadata": {
    "cell_id": "1022d7c8db6a4626b67c03acec449396",
    "tags": [],
    "deepnote_to_be_reexecuted": false,
    "source_hash": "8a37be01",
    "execution_start": 1653781771767,
    "execution_millis": 192,
    "deepnote_cell_type": "code",
    "deepnote_cell_height": 538
   },
   "outputs": [
    {
     "name": "stdout",
     "text": "<class 'pandas.core.frame.DataFrame'>\nRangeIndex: 91741 entries, 0 to 91740\nData columns (total 15 columns):\n #   Column              Non-Null Count  Dtype  \n---  ------              --------------  -----  \n 0   state               91741 non-null  object \n 1   stop_date           91741 non-null  object \n 2   stop_time           91741 non-null  object \n 3   county_name         0 non-null      float64\n 4   driver_gender       86536 non-null  object \n 5   driver_race         86539 non-null  object \n 6   violation_raw       86539 non-null  object \n 7   violation           86539 non-null  object \n 8   search_conducted    91741 non-null  bool   \n 9   search_type         3307 non-null   object \n 10  stop_outcome        86539 non-null  object \n 11  is_arrested         86539 non-null  object \n 12  stop_duration       86539 non-null  object \n 13  drugs_related_stop  91741 non-null  bool   \n 14  district            91741 non-null  object \ndtypes: bool(2), float64(1), object(12)\nmemory usage: 9.3+ MB\n",
     "output_type": "stream"
    }
   ],
   "execution_count": 3
  },
  {
   "cell_type": "code",
   "source": "ri.isnull().sum()",
   "metadata": {
    "cell_id": "181dcd22891e4a5a91880f9a384f6767",
    "tags": [],
    "deepnote_to_be_reexecuted": false,
    "source_hash": "3a0a01da",
    "execution_start": 1653781771963,
    "execution_millis": 177,
    "deepnote_cell_type": "code",
    "deepnote_cell_height": 406.171875,
    "deepnote_output_heights": [
     309.1875
    ]
   },
   "outputs": [
    {
     "output_type": "execute_result",
     "execution_count": 4,
     "data": {
      "text/plain": "state                     0\nstop_date                 0\nstop_time                 0\ncounty_name           91741\ndriver_gender          5205\ndriver_race            5202\nviolation_raw          5202\nviolation              5202\nsearch_conducted          0\nsearch_type           88434\nstop_outcome           5202\nis_arrested            5202\nstop_duration          5202\ndrugs_related_stop        0\ndistrict                  0\ndtype: int64"
     },
     "metadata": {}
    }
   ],
   "execution_count": 4
  },
  {
   "cell_type": "code",
   "source": "# Drop the county_name column because it only contains missing values.\n# Drop the state column because all of the traffic stops took place in one state (Rhode Island).\n\nri.drop(['state', 'county_name'], axis='columns', inplace=True)\nri.head()",
   "metadata": {
    "cell_id": "52289fd13d634ad4ae9376b36391562d",
    "tags": [],
    "deepnote_to_be_reexecuted": false,
    "source_hash": "ed3b9706",
    "execution_start": 1653781772218,
    "execution_millis": 512,
    "deepnote_cell_type": "code",
    "deepnote_cell_height": 478.71875
   },
   "outputs": [
    {
     "output_type": "execute_result",
     "execution_count": 5,
     "data": {
      "application/vnd.deepnote.dataframe.v3+json": {
       "column_count": 13,
       "row_count": 5,
       "columns": [
        {
         "name": "stop_date",
         "dtype": "object",
         "stats": {
          "unique_count": 5,
          "nan_count": 0,
          "categories": [
           {
            "name": "2005-01-04",
            "count": 1
           },
           {
            "name": "2005-01-23",
            "count": 1
           },
           {
            "name": "3 others",
            "count": 3
           }
          ]
         }
        },
        {
         "name": "stop_time",
         "dtype": "object",
         "stats": {
          "unique_count": 5,
          "nan_count": 0,
          "categories": [
           {
            "name": "12:55",
            "count": 1
           },
           {
            "name": "23:15",
            "count": 1
           },
           {
            "name": "3 others",
            "count": 3
           }
          ]
         }
        },
        {
         "name": "driver_gender",
         "dtype": "object",
         "stats": {
          "unique_count": 2,
          "nan_count": 0,
          "categories": [
           {
            "name": "M",
            "count": 4
           },
           {
            "name": "F",
            "count": 1
           }
          ]
         }
        },
        {
         "name": "driver_race",
         "dtype": "object",
         "stats": {
          "unique_count": 1,
          "nan_count": 0,
          "categories": [
           {
            "name": "White",
            "count": 5
           }
          ]
         }
        },
        {
         "name": "violation_raw",
         "dtype": "object",
         "stats": {
          "unique_count": 3,
          "nan_count": 0,
          "categories": [
           {
            "name": "Speeding",
            "count": 3
           },
           {
            "name": "Equipment/Inspection Violation",
            "count": 1
           },
           {
            "name": "Call for Service",
            "count": 1
           }
          ]
         }
        },
        {
         "name": "violation",
         "dtype": "object",
         "stats": {
          "unique_count": 3,
          "nan_count": 0,
          "categories": [
           {
            "name": "Speeding",
            "count": 3
           },
           {
            "name": "Equipment",
            "count": 1
           },
           {
            "name": "Other",
            "count": 1
           }
          ]
         }
        },
        {
         "name": "search_conducted",
         "dtype": "bool",
         "stats": {
          "unique_count": 1,
          "nan_count": 0,
          "categories": [
           {
            "name": "False",
            "count": 5
           }
          ]
         }
        },
        {
         "name": "search_type",
         "dtype": "object",
         "stats": {
          "unique_count": 0,
          "nan_count": 5,
          "categories": [
           {
            "name": "Missing",
            "count": 5
           }
          ]
         }
        },
        {
         "name": "stop_outcome",
         "dtype": "object",
         "stats": {
          "unique_count": 2,
          "nan_count": 0,
          "categories": [
           {
            "name": "Citation",
            "count": 4
           },
           {
            "name": "Arrest Driver",
            "count": 1
           }
          ]
         }
        },
        {
         "name": "is_arrested",
         "dtype": "object",
         "stats": {
          "unique_count": 2,
          "nan_count": 0,
          "categories": [
           {
            "name": "False",
            "count": 4
           },
           {
            "name": "True",
            "count": 1
           }
          ]
         }
        },
        {
         "name": "stop_duration",
         "dtype": "object",
         "stats": {
          "unique_count": 2,
          "nan_count": 0,
          "categories": [
           {
            "name": "0-15 Min",
            "count": 4
           },
           {
            "name": "16-30 Min",
            "count": 1
           }
          ]
         }
        },
        {
         "name": "drugs_related_stop",
         "dtype": "bool",
         "stats": {
          "unique_count": 1,
          "nan_count": 0,
          "categories": [
           {
            "name": "False",
            "count": 5
           }
          ]
         }
        },
        {
         "name": "district",
         "dtype": "object",
         "stats": {
          "unique_count": 4,
          "nan_count": 0,
          "categories": [
           {
            "name": "Zone X4",
            "count": 2
           },
           {
            "name": "Zone K3",
            "count": 1
           },
           {
            "name": "2 others",
            "count": 2
           }
          ]
         }
        },
        {
         "name": "_deepnote_index_column",
         "dtype": "int64"
        }
       ],
       "rows": [
        {
         "stop_date": "2005-01-04",
         "stop_time": "12:55",
         "driver_gender": "M",
         "driver_race": "White",
         "violation_raw": "Equipment/Inspection Violation",
         "violation": "Equipment",
         "search_conducted": false,
         "search_type": "nan",
         "stop_outcome": "Citation",
         "is_arrested": "False",
         "stop_duration": "0-15 Min",
         "drugs_related_stop": false,
         "district": "Zone X4",
         "_deepnote_index_column": 0
        },
        {
         "stop_date": "2005-01-23",
         "stop_time": "23:15",
         "driver_gender": "M",
         "driver_race": "White",
         "violation_raw": "Speeding",
         "violation": "Speeding",
         "search_conducted": false,
         "search_type": "nan",
         "stop_outcome": "Citation",
         "is_arrested": "False",
         "stop_duration": "0-15 Min",
         "drugs_related_stop": false,
         "district": "Zone K3",
         "_deepnote_index_column": 1
        },
        {
         "stop_date": "2005-02-17",
         "stop_time": "04:15",
         "driver_gender": "M",
         "driver_race": "White",
         "violation_raw": "Speeding",
         "violation": "Speeding",
         "search_conducted": false,
         "search_type": "nan",
         "stop_outcome": "Citation",
         "is_arrested": "False",
         "stop_duration": "0-15 Min",
         "drugs_related_stop": false,
         "district": "Zone X4",
         "_deepnote_index_column": 2
        },
        {
         "stop_date": "2005-02-20",
         "stop_time": "17:15",
         "driver_gender": "M",
         "driver_race": "White",
         "violation_raw": "Call for Service",
         "violation": "Other",
         "search_conducted": false,
         "search_type": "nan",
         "stop_outcome": "Arrest Driver",
         "is_arrested": "True",
         "stop_duration": "16-30 Min",
         "drugs_related_stop": false,
         "district": "Zone X1",
         "_deepnote_index_column": 3
        },
        {
         "stop_date": "2005-02-24",
         "stop_time": "01:20",
         "driver_gender": "F",
         "driver_race": "White",
         "violation_raw": "Speeding",
         "violation": "Speeding",
         "search_conducted": false,
         "search_type": "nan",
         "stop_outcome": "Citation",
         "is_arrested": "False",
         "stop_duration": "0-15 Min",
         "drugs_related_stop": false,
         "district": "Zone X3",
         "_deepnote_index_column": 4
        }
       ]
      },
      "text/plain": "    stop_date stop_time driver_gender driver_race  \\\n0  2005-01-04     12:55             M       White   \n1  2005-01-23     23:15             M       White   \n2  2005-02-17     04:15             M       White   \n3  2005-02-20     17:15             M       White   \n4  2005-02-24     01:20             F       White   \n\n                    violation_raw  violation  search_conducted search_type  \\\n0  Equipment/Inspection Violation  Equipment             False         NaN   \n1                        Speeding   Speeding             False         NaN   \n2                        Speeding   Speeding             False         NaN   \n3                Call for Service      Other             False         NaN   \n4                        Speeding   Speeding             False         NaN   \n\n    stop_outcome is_arrested stop_duration  drugs_related_stop district  \n0       Citation       False      0-15 Min               False  Zone X4  \n1       Citation       False      0-15 Min               False  Zone K3  \n2       Citation       False      0-15 Min               False  Zone X4  \n3  Arrest Driver        True     16-30 Min               False  Zone X1  \n4       Citation       False      0-15 Min               False  Zone X3  ",
      "text/html": "<div>\n<style scoped>\n    .dataframe tbody tr th:only-of-type {\n        vertical-align: middle;\n    }\n\n    .dataframe tbody tr th {\n        vertical-align: top;\n    }\n\n    .dataframe thead th {\n        text-align: right;\n    }\n</style>\n<table border=\"1\" class=\"dataframe\">\n  <thead>\n    <tr style=\"text-align: right;\">\n      <th></th>\n      <th>stop_date</th>\n      <th>stop_time</th>\n      <th>driver_gender</th>\n      <th>driver_race</th>\n      <th>violation_raw</th>\n      <th>violation</th>\n      <th>search_conducted</th>\n      <th>search_type</th>\n      <th>stop_outcome</th>\n      <th>is_arrested</th>\n      <th>stop_duration</th>\n      <th>drugs_related_stop</th>\n      <th>district</th>\n    </tr>\n  </thead>\n  <tbody>\n    <tr>\n      <th>0</th>\n      <td>2005-01-04</td>\n      <td>12:55</td>\n      <td>M</td>\n      <td>White</td>\n      <td>Equipment/Inspection Violation</td>\n      <td>Equipment</td>\n      <td>False</td>\n      <td>NaN</td>\n      <td>Citation</td>\n      <td>False</td>\n      <td>0-15 Min</td>\n      <td>False</td>\n      <td>Zone X4</td>\n    </tr>\n    <tr>\n      <th>1</th>\n      <td>2005-01-23</td>\n      <td>23:15</td>\n      <td>M</td>\n      <td>White</td>\n      <td>Speeding</td>\n      <td>Speeding</td>\n      <td>False</td>\n      <td>NaN</td>\n      <td>Citation</td>\n      <td>False</td>\n      <td>0-15 Min</td>\n      <td>False</td>\n      <td>Zone K3</td>\n    </tr>\n    <tr>\n      <th>2</th>\n      <td>2005-02-17</td>\n      <td>04:15</td>\n      <td>M</td>\n      <td>White</td>\n      <td>Speeding</td>\n      <td>Speeding</td>\n      <td>False</td>\n      <td>NaN</td>\n      <td>Citation</td>\n      <td>False</td>\n      <td>0-15 Min</td>\n      <td>False</td>\n      <td>Zone X4</td>\n    </tr>\n    <tr>\n      <th>3</th>\n      <td>2005-02-20</td>\n      <td>17:15</td>\n      <td>M</td>\n      <td>White</td>\n      <td>Call for Service</td>\n      <td>Other</td>\n      <td>False</td>\n      <td>NaN</td>\n      <td>Arrest Driver</td>\n      <td>True</td>\n      <td>16-30 Min</td>\n      <td>False</td>\n      <td>Zone X1</td>\n    </tr>\n    <tr>\n      <th>4</th>\n      <td>2005-02-24</td>\n      <td>01:20</td>\n      <td>F</td>\n      <td>White</td>\n      <td>Speeding</td>\n      <td>Speeding</td>\n      <td>False</td>\n      <td>NaN</td>\n      <td>Citation</td>\n      <td>False</td>\n      <td>0-15 Min</td>\n      <td>False</td>\n      <td>Zone X3</td>\n    </tr>\n  </tbody>\n</table>\n</div>"
     },
     "metadata": {}
    }
   ],
   "execution_count": 5
  },
  {
   "cell_type": "code",
   "source": "# During this course, the driver_gender column will be critical. \n# Because only a small fraction of rows are missing we'll drop them.\nri.dropna(subset=['driver_gender'], inplace=True)\nri.isnull().sum()",
   "metadata": {
    "cell_id": "3050b414670346ff8a2386d4b246462a",
    "tags": [],
    "deepnote_to_be_reexecuted": false,
    "source_hash": "6d5d7a8c",
    "execution_start": 1653781772331,
    "execution_millis": 400,
    "deepnote_cell_type": "code",
    "deepnote_cell_height": 421.78125,
    "deepnote_output_heights": [
     270.796875,
     270.71875
    ]
   },
   "outputs": [
    {
     "output_type": "execute_result",
     "execution_count": 6,
     "data": {
      "text/plain": "stop_date                 0\nstop_time                 0\ndriver_gender             0\ndriver_race               0\nviolation_raw             0\nviolation                 0\nsearch_conducted          0\nsearch_type           83229\nstop_outcome              0\nis_arrested               0\nstop_duration             0\ndrugs_related_stop        0\ndistrict                  0\ndtype: int64"
     },
     "metadata": {}
    }
   ],
   "execution_count": 6
  },
  {
   "cell_type": "markdown",
   "source": "## Using proper data types",
   "metadata": {
    "cell_id": "79e06f9d087241bcabd5145d3111cafe",
    "tags": [],
    "is_collapsed": false,
    "deepnote_cell_type": "text-cell-h2"
   }
  },
  {
   "cell_type": "code",
   "source": "# Explore ri to determine which column's data type should be changed.\nri.dtypes",
   "metadata": {
    "cell_id": "a5ae0a072052433dab2261a56061c454",
    "tags": [],
    "deepnote_to_be_reexecuted": false,
    "source_hash": "4b911ab1",
    "execution_start": 1653781772586,
    "execution_millis": 2,
    "deepnote_cell_type": "code",
    "deepnote_cell_height": 385.78125,
    "deepnote_output_heights": [
     270.796875
    ]
   },
   "outputs": [
    {
     "output_type": "execute_result",
     "execution_count": 7,
     "data": {
      "text/plain": "stop_date             object\nstop_time             object\ndriver_gender         object\ndriver_race           object\nviolation_raw         object\nviolation             object\nsearch_conducted        bool\nsearch_type           object\nstop_outcome          object\nis_arrested           object\nstop_duration         object\ndrugs_related_stop      bool\ndistrict              object\ndtype: object"
     },
     "metadata": {}
    }
   ],
   "execution_count": 7
  },
  {
   "cell_type": "code",
   "source": "ri['is_arrested'].head()",
   "metadata": {
    "cell_id": "e47bf0a1afcd481a80ec7167b09ffdab",
    "tags": [],
    "deepnote_to_be_reexecuted": false,
    "source_hash": "2ad997c5",
    "execution_start": 1653781772663,
    "execution_millis": 69,
    "deepnote_cell_type": "code",
    "deepnote_cell_height": 214.171875,
    "deepnote_output_heights": [
     117.1875
    ]
   },
   "outputs": [
    {
     "output_type": "execute_result",
     "execution_count": 8,
     "data": {
      "text/plain": "0    False\n1    False\n2    False\n3     True\n4    False\nName: is_arrested, dtype: object"
     },
     "metadata": {}
    }
   ],
   "execution_count": 8
  },
  {
   "cell_type": "code",
   "source": "# Fixing the is_arrested column data type\nri['is_arrested'] == ri.is_arrested.astype('bool')",
   "metadata": {
    "cell_id": "0594a914c5ca4e69882d2b008fc00399",
    "tags": [],
    "deepnote_to_be_reexecuted": false,
    "source_hash": "67068f9",
    "execution_start": 1653781772664,
    "execution_millis": 69,
    "deepnote_cell_type": "code",
    "deepnote_cell_height": 347.375,
    "deepnote_output_heights": [
     232.390625
    ]
   },
   "outputs": [
    {
     "output_type": "execute_result",
     "execution_count": 9,
     "data": {
      "text/plain": "0        True\n1        True\n2        True\n3        True\n4        True\n         ... \n91736    True\n91737    True\n91738    True\n91739    True\n91740    True\nName: is_arrested, Length: 86536, dtype: bool"
     },
     "metadata": {}
    }
   ],
   "execution_count": 9
  },
  {
   "cell_type": "markdown",
   "source": "## Creating a DatetimeIndex",
   "metadata": {
    "cell_id": "95c94fd8ea7048f08cb8a3c5898aeb77",
    "tags": [],
    "is_collapsed": false,
    "deepnote_cell_type": "text-cell-h2"
   }
  },
  {
   "cell_type": "code",
   "source": "# The date and time of each traffic stop are stored in separate object columns: stop_date and stop_time.\n# Combine these two columns into a single column, and then convert it to datetime format. \n\ndisplay(ri['stop_date'].head())\nri['stop_time'].head()",
   "metadata": {
    "cell_id": "aa9eaf7cba054f588d9634b26ba9bc30",
    "tags": [],
    "deepnote_to_be_reexecuted": false,
    "source_hash": "c7466106",
    "execution_start": 1653781772706,
    "execution_millis": 28,
    "deepnote_cell_type": "code",
    "deepnote_cell_height": 434.359375,
    "deepnote_output_heights": [
     117.1875,
     117.1875
    ]
   },
   "outputs": [
    {
     "data": {
      "text/plain": "0    2005-01-04\n1    2005-01-23\n2    2005-02-17\n3    2005-02-20\n4    2005-02-24\nName: stop_date, dtype: object"
     },
     "metadata": {},
     "output_type": "display_data"
    },
    {
     "output_type": "execute_result",
     "execution_count": 10,
     "data": {
      "text/plain": "0    12:55\n1    23:15\n2    04:15\n3    17:15\n4    01:20\nName: stop_time, dtype: object"
     },
     "metadata": {}
    }
   ],
   "execution_count": 10
  },
  {
   "cell_type": "code",
   "source": "ri['stop_datetime'] = ri['stop_date'].str.cat(' ' + ri['stop_time'])\nri['stop_datetime'].head()",
   "metadata": {
    "cell_id": "e65e90246e6640ba823239c32a91877a",
    "tags": [],
    "deepnote_to_be_reexecuted": false,
    "source_hash": "a551dd81",
    "execution_start": 1653781772708,
    "execution_millis": 143,
    "deepnote_cell_type": "code",
    "deepnote_cell_height": 232.171875,
    "deepnote_output_heights": [
     117.1875
    ]
   },
   "outputs": [
    {
     "output_type": "execute_result",
     "execution_count": 11,
     "data": {
      "text/plain": "0    2005-01-04 12:55\n1    2005-01-23 23:15\n2    2005-02-17 04:15\n3    2005-02-20 17:15\n4    2005-02-24 01:20\nName: stop_datetime, dtype: object"
     },
     "metadata": {}
    }
   ],
   "execution_count": 11
  },
  {
   "cell_type": "code",
   "source": "ri['stop_datetime'] = pd.to_datetime(ri['stop_datetime'])\nri.drop(['stop_date', 'stop_time'], axis='columns', inplace=True)",
   "metadata": {
    "cell_id": "a56d9cff8b6b4f688f70e4438fa820dd",
    "tags": [],
    "deepnote_to_be_reexecuted": false,
    "source_hash": "24dd836f",
    "execution_start": 1653781772851,
    "execution_millis": 61,
    "deepnote_cell_type": "code",
    "deepnote_cell_height": 162,
    "deepnote_output_heights": [
     21.1875
    ]
   },
   "outputs": [
    {
     "output_type": "execute_result",
     "execution_count": 12,
     "data": {
      "text/plain": "dtype('<M8[ns]')"
     },
     "metadata": {}
    }
   ],
   "execution_count": 12
  },
  {
   "cell_type": "code",
   "source": "ri['stop_datetime'].head()",
   "metadata": {
    "cell_id": "3aebe2e2d0a841678167e35568f8cd8e",
    "tags": [],
    "deepnote_to_be_reexecuted": false,
    "source_hash": "e9c7b798",
    "execution_start": 1653781793822,
    "execution_millis": 590,
    "deepnote_cell_type": "code",
    "deepnote_cell_height": 214.171875,
    "deepnote_output_heights": [
     117.1875
    ]
   },
   "outputs": [
    {
     "output_type": "execute_result",
     "execution_count": 14,
     "data": {
      "text/plain": "0   2005-01-04 12:55:00\n1   2005-01-23 23:15:00\n2   2005-02-17 04:15:00\n3   2005-02-20 17:15:00\n4   2005-02-24 01:20:00\nName: stop_datetime, dtype: datetime64[ns]"
     },
     "metadata": {}
    }
   ],
   "execution_count": 14
  },
  {
   "cell_type": "code",
   "source": "# Set the stop_datetime column as the DataFrame's index. \nri.set_index('stop_datetime', inplace=True)",
   "metadata": {
    "cell_id": "f527ea372fab41a58cb01141471ba4e7",
    "tags": [],
    "deepnote_to_be_reexecuted": false,
    "source_hash": "ee864d17",
    "execution_start": 1653781888870,
    "execution_millis": 5,
    "deepnote_cell_type": "code",
    "deepnote_cell_height": 99
   },
   "outputs": [],
   "execution_count": 17
  },
  {
   "cell_type": "code",
   "source": "ri.index",
   "metadata": {
    "cell_id": "0665035a9f4741a79c0d256a16af39f1",
    "tags": [],
    "deepnote_to_be_reexecuted": false,
    "source_hash": "c0b79408",
    "execution_start": 1653781893364,
    "execution_millis": 36,
    "owner_user_id": "ef1985d3-6878-4f43-aa7a-40eb37e1c2a1",
    "deepnote_cell_type": "code",
    "deepnote_cell_height": 329.375,
    "deepnote_output_heights": [
     117.1875
    ]
   },
   "outputs": [
    {
     "output_type": "execute_result",
     "execution_count": 18,
     "data": {
      "text/plain": "DatetimeIndex(['2005-01-04 12:55:00', '2005-01-23 23:15:00',\n               '2005-02-17 04:15:00', '2005-02-20 17:15:00',\n               '2005-02-24 01:20:00', '2005-03-14 10:00:00',\n               '2005-03-29 21:55:00', '2005-04-04 21:25:00',\n               '2005-07-14 11:20:00', '2005-07-14 19:55:00',\n               ...\n               '2015-12-31 13:23:00', '2015-12-31 18:59:00',\n               '2015-12-31 19:13:00', '2015-12-31 20:20:00',\n               '2015-12-31 20:50:00', '2015-12-31 21:21:00',\n               '2015-12-31 21:59:00', '2015-12-31 22:04:00',\n               '2015-12-31 22:09:00', '2015-12-31 22:47:00'],\n              dtype='datetime64[ns]', name='stop_datetime', length=86536, freq=None)"
     },
     "metadata": {}
    }
   ],
   "execution_count": 18
  },
  {
   "cell_type": "markdown",
   "source": "<a style='text-decoration:none;line-height:16px;display:flex;color:#5B5B62;padding:10px;justify-content:end;' href='https://deepnote.com?utm_source=created-in-deepnote-cell&projectId=dc001eea-22fe-4a27-852d-7fbece520334' target=\"_blank\">\n<img alt='Created in deepnote.com' style='display:inline;max-height:16px;margin:0px;margin-right:7.5px;' src='data:image/svg+xml;base64,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' > </img>\nCreated in <span style='font-weight:600;margin-left:4px;'>Deepnote</span></a>",
   "metadata": {
    "tags": [],
    "created_in_deepnote_cell": true,
    "deepnote_cell_type": "markdown"
   }
  }
 ],
 "nbformat": 4,
 "nbformat_minor": 2,
 "metadata": {
  "orig_nbformat": 2,
  "deepnote": {},
  "deepnote_notebook_id": "f4cabb79-8cab-4bb5-885e-73ec9f7627f2",
  "deepnote_execution_queue": []
 }
}