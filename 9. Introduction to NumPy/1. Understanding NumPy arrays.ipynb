{
 "cells": [
  {
   "cell_type": "markdown",
   "source": "# Understanding NumPy arrays",
   "metadata": {
    "formattedRanges": [],
    "cell_id": "627301077c664db393ccbabdac962d84",
    "tags": [],
    "is_collapsed": false,
    "owner_user_id": "ef1985d3-6878-4f43-aa7a-40eb37e1c2a1",
    "deepnote_cell_type": "text-cell-h1"
   }
  },
  {
   "cell_type": "markdown",
   "source": "## Introducing arrays",
   "metadata": {
    "formattedRanges": [],
    "cell_id": "0fe922c397094bb7b5b45485d9386354",
    "tags": [],
    "is_collapsed": false,
    "deepnote_cell_type": "text-cell-h2"
   }
  },
  {
   "cell_type": "markdown",
   "source": "### Your first NumPy array",
   "metadata": {
    "formattedRanges": [],
    "cell_id": "5b99feb383bf40d5960436ed3ef31d01",
    "tags": [],
    "is_collapsed": false,
    "deepnote_cell_type": "text-cell-h3"
   }
  },
  {
   "cell_type": "markdown",
   "source": "The NumPy library is a pillar for mathematical analysis and scientific computing in Python. Foundational Python libraries such as scikit-learn, pandas and Matplotlib are built on the NumPy's API.",
   "metadata": {
    "cell_id": "ac05f8e5f30c4c0c9268ee2d2c6785f8",
    "tags": [],
    "deepnote_cell_type": "markdown",
    "deepnote_cell_height": 97.1875
   }
  },
  {
   "cell_type": "markdown",
   "source": "The main NumPy's data structure is the NumPy array. It's a grid-like structure that can have any number of dimensions, with every dimension of any length. \n\nNumPy arrays are very efficient because, unlike Python lists, all the elements in a NumPy array must be the same data type. This decreases the computational work for manipulating and also the memory usage, compared with the Python list use.",
   "metadata": {
    "cell_id": "c8404f4bd31641598bcb574b2228d391",
    "tags": [],
    "deepnote_cell_type": "markdown",
    "deepnote_cell_height": 156
   }
  },
  {
   "cell_type": "code",
   "metadata": {
    "cell_id": "4a398f5346a244599e536a6ec68c775d",
    "tags": [],
    "deepnote_to_be_reexecuted": false,
    "source_hash": "a9d80a3f",
    "execution_start": 1655392431471,
    "execution_millis": 48,
    "deepnote_cell_type": "code",
    "deepnote_cell_height": 99
   },
   "source": "# Import NumPy using its generally accepted alias\nimport numpy as np",
   "execution_count": 1,
   "outputs": []
  },
  {
   "cell_type": "code",
   "metadata": {
    "cell_id": "38fb7495e3534e0c8ece40a427a2d8f6",
    "tags": [],
    "deepnote_to_be_reexecuted": false,
    "source_hash": "7ab15884",
    "execution_start": 1655392431519,
    "execution_millis": 3,
    "deepnote_cell_type": "code",
    "deepnote_cell_height": 324.578125,
    "deepnote_output_heights": [
     155.59375
    ]
   },
   "source": "# Convert sudoku_list into a NumPy array called sudoku_game\n\nsudoku_list = np.load('/work/data_science_notes/9. Introduction to NumPy/data/sudoku_game.npy')\nsudoku_game = np.array(sudoku_list)\nsudoku_game",
   "execution_count": 2,
   "outputs": [
    {
     "output_type": "execute_result",
     "execution_count": 2,
     "data": {
      "text/plain": "array([[0, 0, 5, 0, 0, 9, 0, 0, 1],\n       [0, 7, 0, 0, 6, 0, 0, 4, 3],\n       [0, 0, 6, 0, 0, 2, 0, 8, 7],\n       [1, 9, 0, 0, 0, 7, 4, 0, 0],\n       [0, 5, 0, 0, 8, 3, 0, 0, 0],\n       [6, 0, 0, 0, 0, 0, 1, 0, 5],\n       [0, 0, 3, 5, 0, 8, 6, 9, 0],\n       [0, 4, 2, 9, 1, 0, 3, 0, 0]])"
     },
     "metadata": {}
    }
   ]
  },
  {
   "cell_type": "code",
   "metadata": {
    "cell_id": "7af123da430347acbbc81c7509c143c0",
    "tags": [],
    "deepnote_to_be_reexecuted": false,
    "source_hash": "8d94db09",
    "execution_start": 1655392431520,
    "execution_millis": 2,
    "deepnote_cell_type": "code",
    "deepnote_cell_height": 136.171875,
    "deepnote_output_heights": [
     21.1875
    ]
   },
   "source": "# Check the data type of sudoku_array\ntype(sudoku_game)",
   "execution_count": 3,
   "outputs": [
    {
     "output_type": "execute_result",
     "execution_count": 3,
     "data": {
      "text/plain": "numpy.ndarray"
     },
     "metadata": {}
    }
   ]
  },
  {
   "cell_type": "markdown",
   "source": "### Creating arrays from scratch",
   "metadata": {
    "formattedRanges": [],
    "cell_id": "b027b135a6bb46f5bb754958111614c0",
    "tags": [],
    "is_collapsed": false,
    "deepnote_cell_type": "text-cell-h3"
   }
  },
  {
   "cell_type": "code",
   "metadata": {
    "cell_id": "ed759dd12ab6411c9a4522d994d37a7a",
    "tags": [],
    "deepnote_to_be_reexecuted": false,
    "source_hash": "5edc000b",
    "execution_start": 1655392431552,
    "execution_millis": 7,
    "deepnote_cell_type": "code",
    "deepnote_cell_height": 173.375,
    "deepnote_output_heights": [
     40.390625
    ]
   },
   "source": "# Create and print an array filled with zeros called zero_array, which has two rows and four columns\nzero_array = np.zeros((2,4))\nzero_array",
   "execution_count": 4,
   "outputs": [
    {
     "output_type": "execute_result",
     "execution_count": 4,
     "data": {
      "text/plain": "array([[0., 0., 0., 0.],\n       [0., 0., 0., 0.]])"
     },
     "metadata": {}
    }
   ]
  },
  {
   "cell_type": "code",
   "metadata": {
    "cell_id": "61711a52f4c94f76b64d79fa486b4c56",
    "tags": [],
    "deepnote_to_be_reexecuted": false,
    "source_hash": "ed4fb5dd",
    "execution_start": 1655392431553,
    "execution_millis": 7,
    "deepnote_cell_type": "code",
    "deepnote_cell_height": 250.171875,
    "deepnote_output_heights": [
     117.1875
    ]
   },
   "source": "# Create and print an array of random floats between 0 and 1 called random_array, which has three rows and six columns\nrandom_array = np.random.random((3,6))\nrandom_array",
   "execution_count": 5,
   "outputs": [
    {
     "output_type": "execute_result",
     "execution_count": 5,
     "data": {
      "text/plain": "array([[0.69910671, 0.1666639 , 0.35680986, 0.42722169, 0.09184521,\n        0.74727712],\n       [0.06800972, 0.05807563, 0.59355421, 0.79159901, 0.76993914,\n        0.43035677],\n       [0.17165027, 0.03886752, 0.02779756, 0.29904055, 0.59876911,\n        0.94523059]])"
     },
     "metadata": {}
    }
   ]
  },
  {
   "cell_type": "markdown",
   "source": "### A range array",
   "metadata": {
    "formattedRanges": [],
    "cell_id": "8379fe89424541c289d6d5423a10517e",
    "tags": [],
    "is_collapsed": false,
    "deepnote_cell_type": "text-cell-h3"
   }
  },
  {
   "cell_type": "code",
   "metadata": {
    "cell_id": "e6e669148685413a8592789e2bec19cb",
    "tags": [],
    "deepnote_to_be_reexecuted": false,
    "source_hash": "619d607c",
    "execution_start": 1655392431554,
    "execution_millis": 8,
    "deepnote_cell_type": "code",
    "deepnote_cell_height": 99
   },
   "source": "# Create a 1D array called one_to_ten which holds all integers from one to ten (inclusive)\none_to_ten = np.arange(1,11)",
   "execution_count": 6,
   "outputs": []
  },
  {
   "cell_type": "code",
   "metadata": {
    "cell_id": "20e01df1ea064ce0b07e91953ee1b621",
    "tags": [],
    "deepnote_to_be_reexecuted": false,
    "source_hash": "cbae4a3a",
    "execution_start": 1655392431563,
    "execution_millis": 2046,
    "deepnote_cell_type": "code",
    "deepnote_cell_height": 455,
    "deepnote_output_heights": [
     250
    ]
   },
   "source": "# Create a scatterplot with doubling_array as the y values and one_to_ten as the x values\ndoubling_list = [1, 2, 4, 8, 16, 32, 64, 128, 256, 512]\ndoubling_array = np.array(doubling_list)\n\nimport matplotlib.pyplot as plt\nplt.scatter(one_to_ten, doubling_array)\nplt.show()",
   "execution_count": 7,
   "outputs": [
    {
     "data": {
      "text/plain": "<Figure size 432x288 with 1 Axes>",
      "image/png": "[encoded data removed]"
     },
     "metadata": {
      "needs_background": "light",
      "image/png": {
       "width": 375,
       "height": 248
      }
     },
     "output_type": "display_data"
    }
   ]
  },
  {
   "cell_type": "markdown",
   "source": "## Array dimensionality",
   "metadata": {
    "formattedRanges": [],
    "cell_id": "3d7595af18674e75b2ac8521d6d7cca5",
    "tags": [],
    "is_collapsed": false,
    "deepnote_cell_type": "text-cell-h2"
   }
  },
  {
   "cell_type": "markdown",
   "source": "### 3D array creation",
   "metadata": {
    "formattedRanges": [],
    "cell_id": "4a4224157bc14ce0a0b71d5369801a22",
    "tags": [],
    "is_collapsed": false,
    "deepnote_cell_type": "text-cell-h3"
   }
  },
  {
   "cell_type": "markdown",
   "source": "A 1D array is also referred as a vector. \n\nWorking with NumPy's vectors there's no difference between row and column. To explicity define an horizontal or vertical array, it must be 2D array.  ",
   "metadata": {
    "cell_id": "44937230ede04b079156d1574f490f92",
    "tags": [],
    "deepnote_cell_type": "markdown",
    "deepnote_cell_height": 111.1875
   }
  },
  {
   "cell_type": "markdown",
   "source": "You can think in a 2D array as an 1D array of 2D arrays.\n\nA 2D array is also referred as a matrix.\n\nWhen you are working with 2D arrays is common to refer to the first dimension as \"rows\" and the second dimension as \"columns\". ",
   "metadata": {
    "cell_id": "087e527fc11b4eeb91d403f8b2f7fb5b",
    "tags": [],
    "deepnote_cell_type": "markdown",
    "deepnote_cell_height": 147.59375
   }
  },
  {
   "cell_type": "markdown",
   "source": "You can think in a 3D array as an 1D of 2D arrays, one on top of the other.\n\nAn array with 3 or more dimensions is also referred as a tensor.",
   "metadata": {
    "cell_id": "a4a0798ab1824d5a80a2db5f1cc196ca",
    "tags": [],
    "deepnote_cell_type": "markdown",
    "deepnote_cell_height": 88.796875
   }
  },
  {
   "cell_type": "code",
   "metadata": {
    "cell_id": "8f6a5f00cc9e490d8013aa48e41a9140",
    "tags": [],
    "deepnote_to_be_reexecuted": false,
    "source_hash": "fad298e0",
    "execution_start": 1655392433612,
    "execution_millis": 15,
    "deepnote_cell_type": "code",
    "deepnote_cell_height": 479.375,
    "deepnote_output_heights": [
     328.390625
    ]
   },
   "source": "# Create a 3D array called game_and_solution by stacking the two 2D arrays, sudoku_game and sudoku_solution, on top of one another\nsudoku_solution = np.load('/work/data_science_notes/9. Introduction to NumPy/data/sudoku_solution.npy')\ngame_and_solution = np.array([sudoku_game, sudoku_solution])\ngame_and_solution",
   "execution_count": 8,
   "outputs": [
    {
     "output_type": "execute_result",
     "execution_count": 8,
     "data": {
      "text/plain": "array([[[0, 0, 5, 0, 0, 9, 0, 0, 1],\n        [0, 7, 0, 0, 6, 0, 0, 4, 3],\n        [0, 0, 6, 0, 0, 2, 0, 8, 7],\n        [1, 9, 0, 0, 0, 7, 4, 0, 0],\n        [0, 5, 0, 0, 8, 3, 0, 0, 0],\n        [6, 0, 0, 0, 0, 0, 1, 0, 5],\n        [0, 0, 3, 5, 0, 8, 6, 9, 0],\n        [0, 4, 2, 9, 1, 0, 3, 0, 0]],\n\n       [[3, 2, 5, 8, 4, 9, 7, 6, 1],\n        [9, 7, 1, 2, 6, 5, 8, 4, 3],\n        [4, 3, 6, 1, 9, 2, 5, 8, 7],\n        [1, 9, 8, 6, 5, 7, 4, 3, 2],\n        [2, 5, 7, 4, 8, 3, 9, 1, 6],\n        [6, 8, 9, 7, 3, 4, 1, 2, 5],\n        [7, 1, 3, 5, 2, 8, 6, 9, 4],\n        [5, 4, 2, 9, 1, 6, 3, 7, 8]]])"
     },
     "metadata": {}
    }
   ]
  },
  {
   "cell_type": "markdown",
   "source": "### The fourth dimension",
   "metadata": {
    "formattedRanges": [],
    "cell_id": "2de52b083cdb4873addca7bf3eeeee88",
    "tags": [],
    "is_collapsed": false,
    "deepnote_cell_type": "text-cell-h3"
   }
  },
  {
   "cell_type": "markdown",
   "source": "You can think in a 4D array as a list of 3D arrays. Such array like this is also called a tensor.",
   "metadata": {
    "cell_id": "6f214921a78949baaba4aee018209f5d",
    "tags": [],
    "deepnote_cell_type": "markdown",
    "deepnote_cell_height": 74.796875
   }
  },
  {
   "cell_type": "code",
   "metadata": {
    "cell_id": "e2d67e8eab2a4547a1119a2500007ca9",
    "tags": [],
    "deepnote_to_be_reexecuted": false,
    "source_hash": "3801e886",
    "execution_start": 1655392433627,
    "execution_millis": 11,
    "deepnote_cell_type": "code",
    "deepnote_cell_height": 515.375,
    "deepnote_output_heights": [
     328.390625
    ]
   },
   "source": "# Create another 3D array called new_game_and_solution with a different 2D game and 2D solution pair: new_sudoku_game and new_sudoku_solution\nnew_sudoku_game = np.load('/work/data_science_notes/9. Introduction to NumPy/data/sudoku_game.npy')\nnew_sudoku_solution = np.load('/work/data_science_notes/9. Introduction to NumPy/data/sudoku_solution.npy')\n\nnew_game_and_solution = np.array([new_sudoku_game, new_sudoku_solution])\nnew_game_and_solution",
   "execution_count": 9,
   "outputs": [
    {
     "output_type": "execute_result",
     "execution_count": 9,
     "data": {
      "text/plain": "array([[[0, 0, 5, 0, 0, 9, 0, 0, 1],\n        [0, 7, 0, 0, 6, 0, 0, 4, 3],\n        [0, 0, 6, 0, 0, 2, 0, 8, 7],\n        [1, 9, 0, 0, 0, 7, 4, 0, 0],\n        [0, 5, 0, 0, 8, 3, 0, 0, 0],\n        [6, 0, 0, 0, 0, 0, 1, 0, 5],\n        [0, 0, 3, 5, 0, 8, 6, 9, 0],\n        [0, 4, 2, 9, 1, 0, 3, 0, 0]],\n\n       [[3, 2, 5, 8, 4, 9, 7, 6, 1],\n        [9, 7, 1, 2, 6, 5, 8, 4, 3],\n        [4, 3, 6, 1, 9, 2, 5, 8, 7],\n        [1, 9, 8, 6, 5, 7, 4, 3, 2],\n        [2, 5, 7, 4, 8, 3, 9, 1, 6],\n        [6, 8, 9, 7, 3, 4, 1, 2, 5],\n        [7, 1, 3, 5, 2, 8, 6, 9, 4],\n        [5, 4, 2, 9, 1, 6, 3, 7, 8]]])"
     },
     "metadata": {}
    }
   ]
  },
  {
   "cell_type": "code",
   "metadata": {
    "cell_id": "b7d5bd5d92304407951497ca230e14ec",
    "tags": [],
    "deepnote_to_be_reexecuted": false,
    "source_hash": "2a3beab0",
    "execution_start": 1655392433639,
    "execution_millis": 11,
    "deepnote_cell_type": "code",
    "deepnote_cell_height": 190.171875,
    "deepnote_output_heights": [
     21.1875
    ]
   },
   "source": "# Create a 4D array called games_and_solutions by making an array out of the two 3D arrays: game_and_solution and new_game_and_solution, in that order\n# Print the shape of games_and_solutions\n\ngames_and_solutions = np.array([game_and_solution, new_game_and_solution])\ngames_and_solutions.shape",
   "execution_count": 10,
   "outputs": [
    {
     "output_type": "execute_result",
     "execution_count": 10,
     "data": {
      "text/plain": "(2, 2, 8, 9)"
     },
     "metadata": {}
    }
   ]
  },
  {
   "cell_type": "markdown",
   "source": "### Flattening and reshaping",
   "metadata": {
    "formattedRanges": [],
    "cell_id": "5d2c81bab44b49169ab2c28b915c7eed",
    "tags": [],
    "is_collapsed": false,
    "deepnote_cell_type": "text-cell-h3"
   }
  },
  {
   "cell_type": "code",
   "metadata": {
    "cell_id": "e8cfc55a09b34376be676fa6a988a9d8",
    "tags": [],
    "deepnote_to_be_reexecuted": false,
    "source_hash": "b4bdb8da",
    "execution_start": 1655392433651,
    "execution_millis": 1,
    "deepnote_cell_type": "code",
    "deepnote_cell_height": 172.171875,
    "deepnote_output_heights": [
     21.1875
    ]
   },
   "source": "# Flatten sudoku_game so that it is a 1D array, and save it as flattened_game\n# Print the shape of flattened_game\nflattened_game = sudoku_game.flatten()\nflattened_game.shape",
   "execution_count": 11,
   "outputs": [
    {
     "output_type": "execute_result",
     "execution_count": 11,
     "data": {
      "text/plain": "(72,)"
     },
     "metadata": {}
    }
   ]
  },
  {
   "cell_type": "code",
   "metadata": {
    "cell_id": "c0397ce413e54acc93b3d0a4b2dfdc05",
    "tags": [],
    "deepnote_to_be_reexecuted": false,
    "source_hash": "1483ec02",
    "execution_start": 1655392433702,
    "execution_millis": 3,
    "deepnote_cell_type": "code",
    "deepnote_cell_height": 529.171875,
    "deepnote_output_heights": [
     155.59375,
     155.59375
    ]
   },
   "source": "# Reshape the flattened_game back to its original shape of nine rows and nine columns save the new array as reshaped_game\nreshaped_game = flattened_game.reshape(8, 9)\n\n# Print sudoku_game and reshaped_game and see if there's a difference\ndisplay(sudoku_game)\ndisplay(reshaped_game)",
   "execution_count": 12,
   "outputs": [
    {
     "data": {
      "text/plain": "array([[0, 0, 5, 0, 0, 9, 0, 0, 1],\n       [0, 7, 0, 0, 6, 0, 0, 4, 3],\n       [0, 0, 6, 0, 0, 2, 0, 8, 7],\n       [1, 9, 0, 0, 0, 7, 4, 0, 0],\n       [0, 5, 0, 0, 8, 3, 0, 0, 0],\n       [6, 0, 0, 0, 0, 0, 1, 0, 5],\n       [0, 0, 3, 5, 0, 8, 6, 9, 0],\n       [0, 4, 2, 9, 1, 0, 3, 0, 0]])"
     },
     "metadata": {},
     "output_type": "display_data"
    },
    {
     "data": {
      "text/plain": "array([[0, 0, 5, 0, 0, 9, 0, 0, 1],\n       [0, 7, 0, 0, 6, 0, 0, 4, 3],\n       [0, 0, 6, 0, 0, 2, 0, 8, 7],\n       [1, 9, 0, 0, 0, 7, 4, 0, 0],\n       [0, 5, 0, 0, 8, 3, 0, 0, 0],\n       [6, 0, 0, 0, 0, 0, 1, 0, 5],\n       [0, 0, 3, 5, 0, 8, 6, 9, 0],\n       [0, 4, 2, 9, 1, 0, 3, 0, 0]])"
     },
     "metadata": {},
     "output_type": "display_data"
    }
   ]
  },
  {
   "cell_type": "markdown",
   "source": "## NumPy data types",
   "metadata": {
    "formattedRanges": [],
    "cell_id": "756293ffe065440d85723073eaf1c155",
    "tags": [],
    "is_collapsed": false,
    "deepnote_cell_type": "text-cell-h2"
   }
  },
  {
   "cell_type": "markdown",
   "source": "### The dtype argument",
   "metadata": {
    "formattedRanges": [],
    "cell_id": "01d5c08158fb4f98b4cabf888e0b80b8",
    "tags": [],
    "is_collapsed": false,
    "deepnote_cell_type": "text-cell-h3"
   }
  },
  {
   "cell_type": "markdown",
   "source": "NumPy data types, which emphasize speed, are more specific than Python data types, which emphasize flexibility. They specify the kind of a value stored and the size it uses.\n* `int32`\n* `int64`\n* `float32`\n* `float64`\n* `<U12`   ",
   "metadata": {
    "cell_id": "3faa85a581ec43da826b0d8cee4fd254",
    "tags": [],
    "deepnote_cell_type": "markdown",
    "deepnote_cell_height": 226.796875
   }
  },
  {
   "cell_type": "markdown",
   "source": "A value with data type `int32` can use 32 bits of memory. A `int32` value can be any of the $2^{32}$ values from $-2,147,483,684$ to $2,147,483,684$, since $2^{32}$ is the number of possible combinations of zeros and ones available in 32 bits.",
   "metadata": {
    "cell_id": "5796afab1c144b408835065974aa6eae",
    "tags": [],
    "deepnote_cell_type": "markdown",
    "deepnote_cell_height": 97.1875
   }
  },
  {
   "cell_type": "code",
   "source": "# Using np.zeros(), create an array of zeros that has three rows and two columns; call it zero_array\n# Print the data type of zero_array\nzero_array = np.zeros((3, 2))\nzero_array.dtype",
   "metadata": {
    "cell_id": "b76d3ed9407e488e8ce51f79b55de2b1",
    "tags": [],
    "deepnote_to_be_reexecuted": false,
    "source_hash": "88dccd",
    "execution_start": 1655392433703,
    "execution_millis": 2,
    "deepnote_cell_type": "code",
    "deepnote_cell_height": 172.171875,
    "deepnote_output_heights": [
     21.1875
    ]
   },
   "outputs": [
    {
     "output_type": "execute_result",
     "execution_count": 13,
     "data": {
      "text/plain": "dtype('float64')"
     },
     "metadata": {}
    }
   ],
   "execution_count": 13
  },
  {
   "cell_type": "code",
   "source": "# Create a new array of zeros called zero_int_array, which will also have three rows and two columns, but the data type should be np.int32\n# Print the data type of zero_int_array\nzero_int_array = np.zeros((3,2), dtype='int32')\nzero_int_array.dtype",
   "metadata": {
    "cell_id": "abffa72a69eb4b20a709a88fd8d58a9d",
    "tags": [],
    "deepnote_to_be_reexecuted": false,
    "source_hash": "15a5bb4",
    "execution_start": 1655392541139,
    "execution_millis": 5,
    "deepnote_cell_type": "code",
    "deepnote_cell_height": 172.171875,
    "deepnote_output_heights": [
     21.1875
    ]
   },
   "outputs": [
    {
     "output_type": "execute_result",
     "execution_count": 14,
     "data": {
      "text/plain": "dtype('int32')"
     },
     "metadata": {}
    }
   ],
   "execution_count": 14
  },
  {
   "cell_type": "markdown",
   "source": "### Anticipating data types",
   "metadata": {
    "cell_id": "d654fe034aa34b6dbfe60ed831ab609a",
    "tags": [],
    "is_collapsed": false,
    "formattedRanges": [],
    "deepnote_cell_type": "text-cell-h3"
   }
  },
  {
   "cell_type": "markdown",
   "source": "If you create a numerical array, the data type chosen by NumPy could be `int` or `float` with a default size of 64 bits.",
   "metadata": {
    "cell_id": "0e45a36e14bf4dcf8715e064e8d8fd60",
    "tags": [],
    "deepnote_cell_type": "markdown",
    "deepnote_cell_height": 74.796875
   }
  },
  {
   "cell_type": "markdown",
   "source": "If you create an array of strings, NumPy chooses a data type that fits to the length of the longest string in the data structure. ",
   "metadata": {
    "cell_id": "8ace3f46f052484e9ed0bce5b9d26adf",
    "tags": [],
    "deepnote_cell_type": "markdown",
    "deepnote_cell_height": 74.796875
   }
  },
  {
   "cell_type": "markdown",
   "source": "Since all the elements in a NumPy array must be of the same data type, if you data structure has a string, for an example, all the elements will be coerced to strings. NumPy do this because while numbers are easily cast into strings, strings are not easily cast into numbers while still preserving the original data.  ",
   "metadata": {
    "cell_id": "af91f207a9da474d9988f8de9a41708f",
    "tags": [],
    "deepnote_cell_type": "markdown",
    "deepnote_cell_height": 119.59375
   }
  },
  {
   "cell_type": "code",
   "source": "hall = 11.25\nkit = 18.0\nliv = 20.0\nbed = 10.75\nbath = 9.50\n\nhouse = [[\"hallway\", hall],\n         [\"kitchen\", kit],\n         [\"living room\", liv],\n         [\"bedroom\", bed],\n         [\"bathroom\", bath]]\n\nhouse_array = np.array(house)\nhouse_array",
   "metadata": {
    "cell_id": "15465bee7c5e41cca90e414e4f2b68b9",
    "tags": [],
    "deepnote_to_be_reexecuted": false,
    "source_hash": "8253b7c1",
    "execution_start": 1655393147232,
    "execution_millis": 7,
    "deepnote_cell_type": "code",
    "deepnote_cell_height": 429,
    "deepnote_output_heights": [
     98
    ]
   },
   "outputs": [
    {
     "output_type": "execute_result",
     "execution_count": 20,
     "data": {
      "text/plain": "array([['hallway', '11.25'],\n       ['kitchen', '18.0'],\n       ['living room', '20.0'],\n       ['bedroom', '10.75'],\n       ['bathroom', '9.5']], dtype='<U32')"
     },
     "metadata": {}
    }
   ],
   "execution_count": 20
  },
  {
   "cell_type": "markdown",
   "source": "### A smaller sudoku game",
   "metadata": {
    "formattedRanges": [],
    "cell_id": "485008423a684ecc8a70495739b8e445",
    "tags": [],
    "is_collapsed": false,
    "deepnote_cell_type": "text-cell-h3"
   }
  },
  {
   "cell_type": "code",
   "source": "# Print the data type of the elements in sudoku_game\nsudoku_game.dtype",
   "metadata": {
    "cell_id": "de6d25e900a24b5b82bbb1d59f618736",
    "tags": [],
    "deepnote_to_be_reexecuted": false,
    "source_hash": "e4c373d1",
    "execution_start": 1655392647131,
    "execution_millis": 7,
    "deepnote_cell_type": "code",
    "deepnote_cell_height": 136.171875,
    "deepnote_output_heights": [
     21.1875
    ]
   },
   "outputs": [
    {
     "output_type": "execute_result",
     "execution_count": 15,
     "data": {
      "text/plain": "dtype('int64')"
     },
     "metadata": {}
    }
   ],
   "execution_count": 15
  },
  {
   "cell_type": "code",
   "source": "# Change the data type of sudoku_game to be int8, an 8-bit integer; name the new array small_sudoku_game\n# Print the data type of small_sudoku_game to be sure that your change to int8 is reflected\nsmall_sudoku_game = sudoku_game.astype('int8')\nsmall_sudoku_game.dtype",
   "metadata": {
    "cell_id": "6dbe1321f2cc4c02acc6a6200c980dea",
    "tags": [],
    "deepnote_to_be_reexecuted": false,
    "source_hash": "6e0b682e",
    "execution_start": 1655392746408,
    "execution_millis": 5,
    "deepnote_cell_type": "code",
    "deepnote_cell_height": 172.171875,
    "deepnote_output_heights": [
     21.1875
    ]
   },
   "outputs": [
    {
     "output_type": "execute_result",
     "execution_count": 16,
     "data": {
      "text/plain": "dtype('int8')"
     },
     "metadata": {}
    }
   ],
   "execution_count": 16
  },
  {
   "cell_type": "markdown",
   "source": "<a style='text-decoration:none;line-height:16px;display:flex;color:#5B5B62;padding:10px;justify-content:end;' href='https://deepnote.com?utm_source=created-in-deepnote-cell&projectId=ccf93317-bea1-4146-b94a-20aafb784b0b' target=\"_blank\">\n<img alt='Created in deepnote.com' style='display:inline;max-height:16px;margin:0px;margin-right:7.5px;' src='data:image/svg+xml;base64,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' > </img>\nCreated in <span style='font-weight:600;margin-left:4px;'>Deepnote</span></a>",
   "metadata": {
    "tags": [],
    "created_in_deepnote_cell": true,
    "deepnote_cell_type": "markdown"
   }
  }
 ],
 "nbformat": 4,
 "nbformat_minor": 2,
 "metadata": {
  "orig_nbformat": 2,
  "deepnote": {},
  "deepnote_notebook_id": "f5f1c0a3-eb53-47af-9282-feab2dc3100f",
  "deepnote_execution_queue": []
 }
}