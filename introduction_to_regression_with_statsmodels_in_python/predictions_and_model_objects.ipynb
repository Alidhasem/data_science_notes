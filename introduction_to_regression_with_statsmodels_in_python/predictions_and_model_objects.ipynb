{
 "cells": [
  {
   "cell_type": "markdown",
   "metadata": {},
   "source": [
    "# Predictions and model objects"
   ]
  },
  {
   "cell_type": "markdown",
   "metadata": {},
   "source": [
    "## Working with model objects"
   ]
  },
  {
   "cell_type": "markdown",
   "metadata": {},
   "source": [
    "When you create a model using `.ols()`, the return value is a model object containing a lot of information. You may want to work with just a part of the model information at a time. For example the most important values that you might want from the model object are:\n",
    "\n",
    "* The model parameters.\n",
    "* The fitted values.\n",
    "* The residuals. "
   ]
  },
  {
   "cell_type": "markdown",
   "metadata": {},
   "source": [
    "The model parameters are the slope and intercept values of the linear model created by `ols()`.\n",
    "\n",
    "The fitted values are the predicted values in the original dataset used to create the model. \n",
    "\n",
    "The residuals are a meassure of inaccuracy in the model fit. Each residual is the actual response value minus the predicted response value."
   ]
  },
  {
   "cell_type": "markdown",
   "metadata": {},
   "source": [
    "The summary method shows a extended printout of the details of the model. "
   ]
  },
  {
   "cell_type": "markdown",
   "metadata": {},
   "source": [
    "## Regression to the mean"
   ]
  },
  {
   "cell_type": "markdown",
   "metadata": {},
   "source": [
    "You can think in every response value in your dataset  as a sum of a fitted value and a residual.\n",
    "\n",
    "There are two main reasons for the existence of residuals: \n",
    "* The model needs to consider more explanatory variables.\n",
    "* There are extreme values due to randomness."
   ]
  },
  {
   "cell_type": "markdown",
   "metadata": {},
   "source": [
    "Since the extreme values are explained by randomness or luck, they don't persist over time. This phenomena is known as regression to the mean: extreme values tend to look more like average cases in the next generation of data."
   ]
  }
 ],
 "metadata": {
  "kernelspec": {
   "display_name": "Python 3.9.12 ('data_science_notes')",
   "language": "python",
   "name": "python3"
  },
  "language_info": {
   "name": "python",
   "version": "3.9.12"
  },
  "orig_nbformat": 4,
  "vscode": {
   "interpreter": {
    "hash": "e3d34115fe0ff49b25fb740ead13c4d1675e6fceb5f1a14ba0cfd43fb88d15b7"
   }
  }
 },
 "nbformat": 4,
 "nbformat_minor": 2
}
